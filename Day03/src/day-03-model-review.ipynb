{
 "cells": [
  {
   "cell_type": "markdown",
   "id": "e6fcce97-ac85-4f43-adf5-3c1840c3eaa7",
   "metadata": {},
   "source": [
    "# Задание 4"
   ]
  },
  {
   "cell_type": "markdown",
   "id": "af21a5a8-dc96-4121-a70e-b5079a3edbf3",
   "metadata": {},
   "source": [
    "Изучи доступные модели на Hugging Face и выбери несколько (3-4), которые тебе интересны. Попробуй их на различных задачах, таких как обработка естественного языка, компьютерное зрение или генерация текста. **Протестировать их можно на самой платформе Hugging Face.**\n",
    "Оцени результаты и сравни модели между собой. В блокноте `src/day-03-model-review.ipynb` создай отчет о своем опыте использования моделей на Hugging Face. \n",
    "\n",
    "В отчете приложи ссылку на модель, опиши, какую задачу решает модель, для решения каких задач её можно применять. Также приложи скриншоты использования модели.\n"
   ]
  },
  {
   "cell_type": "markdown",
   "id": "29a7fc8a-b25d-4eb3-a4e2-b683a26ac355",
   "metadata": {},
   "source": [
    "## Модель 1"
   ]
  },
  {
   "cell_type": "code",
   "execution_count": null,
   "id": "7bdeed64-5775-4927-b9bd-b02414998bb4",
   "metadata": {},
   "outputs": [],
   "source": []
  },
  {
   "cell_type": "markdown",
   "id": "e3fa5cdc-4502-415d-906c-d57abdc0dd6c",
   "metadata": {},
   "source": [
    "## Модель 2"
   ]
  },
  {
   "cell_type": "code",
   "execution_count": null,
   "id": "bca0c283-0f3c-4146-ae4e-b19bda662b32",
   "metadata": {},
   "outputs": [],
   "source": []
  },
  {
   "cell_type": "markdown",
   "id": "e4c62f92-3c1a-4523-9f4e-bd7be595f700",
   "metadata": {},
   "source": [
    "## Модель 3"
   ]
  },
  {
   "cell_type": "code",
   "execution_count": null,
   "id": "9d14ee09-88f3-4d8d-b752-cb29184ed09b",
   "metadata": {},
   "outputs": [],
   "source": []
  },
  {
   "cell_type": "markdown",
   "id": "5f8e98c6-7fc8-4996-9cd6-01dea6c8fe14",
   "metadata": {},
   "source": [
    "# Задание 5"
   ]
  },
  {
   "cell_type": "markdown",
   "id": "17d18e0e-d1ba-49a5-9f12-1a8e3194c4ba",
   "metadata": {},
   "source": [
    "Поищи в Интернете различные открытые модели/сервисы с ИИ, которые могут принести **лично тебе** какую-либо пользу. Оставь ссылки на эти ресурсы и расскажи, как они тебе помогают."
   ]
  },
  {
   "cell_type": "markdown",
   "id": "9f334ab3-8677-432d-ac65-ba3e159bf71f",
   "metadata": {},
   "source": [
    "## Модель/Сервис: "
   ]
  },
  {
   "cell_type": "code",
   "execution_count": null,
   "id": "72f7297d-efcb-43d7-8c46-b3612f293a8f",
   "metadata": {},
   "outputs": [],
   "source": []
  }
 ],
 "metadata": {
  "kernelspec": {
   "display_name": "Python 3 (ipykernel)",
   "language": "python",
   "name": "python3"
  },
  "language_info": {
   "codemirror_mode": {
    "name": "ipython",
    "version": 3
   },
   "file_extension": ".py",
   "mimetype": "text/x-python",
   "name": "python",
   "nbconvert_exporter": "python",
   "pygments_lexer": "ipython3",
   "version": "3.9.6"
  },
  "widgets": {
   "application/vnd.jupyter.widget-state+json": {
    "state": {},
    "version_major": 2,
    "version_minor": 0
   }
  }
 },
 "nbformat": 4,
 "nbformat_minor": 5
}
