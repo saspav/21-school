{
 "cells": [
  {
   "cell_type": "markdown",
   "id": "e6fcce97-ac85-4f43-adf5-3c1840c3eaa7",
   "metadata": {},
   "source": [
    "# Задание 4"
   ]
  },
  {
   "cell_type": "markdown",
   "id": "af21a5a8-dc96-4121-a70e-b5079a3edbf3",
   "metadata": {},
   "source": [
    "Изучи доступные модели на Hugging Face и выбери несколько (3-4), которые тебе интересны. Попробуй их на различных задачах, таких как обработка естественного языка, компьютерное зрение или генерация текста. **Протестировать их можно на самой платформе Hugging Face.**\n",
    "Оцени результаты и сравни модели между собой. В блокноте `src/day-03-model-review.ipynb` создай отчет о своем опыте использования моделей на Hugging Face. \n",
    "\n",
    "В отчете приложи ссылку на модель, опиши, какую задачу решает модель, для решения каких задач её можно применять. Также приложи скриншоты использования модели.\n"
   ]
  },
  {
   "cell_type": "markdown",
   "id": "419d0f8c",
   "metadata": {},
   "source": [
    "#### Цель: Найти лучшую модель для решения задач NER (Named Entity Recognition) -  «Распознавание Именованных Сущностей»\n",
    "\n",
    "Качество моделей будем проверять на открытом соревновании на платформе Kaggle: \n",
    "\n",
    "https://www.kaggle.com/competitions/litbank-ner-2024/overview\n",
    "\n",
    "В этом соревновании предстоит решить задачу извлечения именованных сущностей - NER.\n",
    "\n",
    "Датасет, который мы будем использовать - LitBank со следующей модификацией: из данных удалены некоторые классы и оставлены только сущности:\n",
    "- PER\n",
    "- LOC\n",
    "- ORG\n",
    "- В датасете используется BIO-нотация для разметки.\n",
    "\n",
    "Автор соревнования: Вероника Саркисян"
   ]
  },
  {
   "cell_type": "markdown",
   "id": "29a7fc8a-b25d-4eb3-a4e2-b683a26ac355",
   "metadata": {},
   "source": [
    "## Модель 1"
   ]
  },
  {
   "cell_type": "code",
   "execution_count": null,
   "id": "7bdeed64-5775-4927-b9bd-b02414998bb4",
   "metadata": {},
   "outputs": [],
   "source": [
    "# https://huggingface.co/google-bert/bert-base-cased\n",
    "bert_name = 'bert-base-cased'"
   ]
  },
  {
   "cell_type": "markdown",
   "id": "e3fa5cdc-4502-415d-906c-d57abdc0dd6c",
   "metadata": {},
   "source": [
    "## Модель 2"
   ]
  },
  {
   "cell_type": "code",
   "execution_count": null,
   "id": "bca0c283-0f3c-4146-ae4e-b19bda662b32",
   "metadata": {},
   "outputs": [],
   "source": [
    "# https://huggingface.co/google-bert/bert-large-cased\n",
    "bert_name = 'bert-large-cased'"
   ]
  },
  {
   "cell_type": "markdown",
   "id": "e4c62f92-3c1a-4523-9f4e-bd7be595f700",
   "metadata": {},
   "source": [
    "## Модель 3"
   ]
  },
  {
   "cell_type": "code",
   "execution_count": null,
   "id": "9d14ee09-88f3-4d8d-b752-cb29184ed09b",
   "metadata": {},
   "outputs": [],
   "source": [
    "# https://huggingface.co/FacebookAI/roberta-large\n",
    "bert_name = 'roberta-large'"
   ]
  },
  {
   "cell_type": "markdown",
   "id": "c55ea4b5",
   "metadata": {},
   "source": [
    "## Модель 4"
   ]
  },
  {
   "cell_type": "code",
   "execution_count": null,
   "id": "f6d7c2c3",
   "metadata": {},
   "outputs": [],
   "source": [
    "# https://huggingface.co/FacebookAI/xlm-roberta-large\n",
    "bert_name = 'xlm-roberta-large'"
   ]
  },
  {
   "attachments": {
    "image.png": {
     "image/png": "[encoded data removed]"
    }
   },
   "cell_type": "markdown",
   "id": "82788d50",
   "metadata": {},
   "source": [
    "С кодом обучения этих моделей можно ознакомиться по ссылке (код выполняется на платформе Kaggle): \n",
    "\n",
    "https://github.com/saspav/LitBank-NER-2023/blob/main/train-bert-models.ipynb \n",
    "\n",
    "\n",
    "После обучения моделей и получения предсказаний на теством датасете получены такие результаты:\n",
    "\n",
    "![image.png](attachment:image.png)\n",
    "\n",
    "Более новые модели из семейства RoBERTa large показалы результат хуже, чем старые модели, на основе которых они были сделаны."
   ]
  },
  {
   "cell_type": "markdown",
   "id": "5f8e98c6-7fc8-4996-9cd6-01dea6c8fe14",
   "metadata": {},
   "source": [
    "# Задание 5"
   ]
  },
  {
   "cell_type": "markdown",
   "id": "17d18e0e-d1ba-49a5-9f12-1a8e3194c4ba",
   "metadata": {},
   "source": [
    "Поищи в Интернете различные открытые модели/сервисы с ИИ, которые могут принести **лично тебе** какую-либо пользу. Оставь ссылки на эти ресурсы и расскажи, как они тебе помогают."
   ]
  },
  {
   "cell_type": "markdown",
   "id": "9f334ab3-8677-432d-ac65-ba3e159bf71f",
   "metadata": {},
   "source": [
    "## Модель/Сервис: "
   ]
  },
  {
   "cell_type": "markdown",
   "id": "8d60f1d5",
   "metadata": {},
   "source": [
    "#### Задача: Использование предобученной модели для генерации текстов на заданные темы переменной длины."
   ]
  },
  {
   "cell_type": "code",
   "execution_count": null,
   "id": "72f7297d-efcb-43d7-8c46-b3612f293a8f",
   "metadata": {},
   "outputs": [],
   "source": [
    "model_name = \"sberbank-ai/rugpt3medium_based_on_gpt2\""
   ]
  },
  {
   "cell_type": "markdown",
   "id": "405643a5",
   "metadata": {},
   "source": [
    "1. В рамках этой работы использовалась предобученную модель машинного обучения от Сбера для генерации текстов на заданные темы. Цель заключалась в увеличении обучающей выборки для использования в соревновании по машинному обучению.\n",
    "\n",
    "2. Преимущества модели \"sberbank-ai/rugpt3medium_based_on_gpt2\"\n",
    "- Качество генерации текстов: Модель, основанная на архитектуре GPT-2, обеспечивает высокое качество генерации текстов с использованием глубокого обучения. Сгенерированные тексты являются связными и обладают смыслом по заданным темам.\n",
    "- Вариативность текстов: Модель позволяет генерировать тексты переменной длины и немного различного собержания. \n",
    "- Большой словарный запас: Модель обладает богатым словарным запасом, что обеспечивает разнообразие генерируемых текстов. Она может использовать различные слова и фразы, а также изменять стиль и тональность текста в соответствии с заданными темами.\n",
    "\n",
    "3. Настройки для обеспечения вариативности текстов\n",
    "- Уточнение темы: Для получения более точных результатов модели необходимо задавать конкретную тему или ключевые слова, которые помогут ей сфокусироваться на нужных деталях и создавать связные тексты.\n",
    "- Длина генерируемого текста: Испольовались случайные значения для длины генерируемых текстов, чтобы обеспечить их вариативность.\n",
    "\n",
    "С кодом для генерации текста на 2 чуть отличающиеся тематики можно ознакомиться по ссылке:\n",
    "\n",
    "https://github.com/saspav/lct2024-task16/blob/main/jupiter_notebooks/fake-text-gpt.ipynb\n",
    "\n",
    "https://github.com/saspav/lct2024-task16/blob/main/jupiter_notebooks/fake-text-gpt_квартиры.ipynb\n",
    "\n",
    "\n",
    "\n",
    "Пример созданного текста:\n",
    "\n",
    "клиент интересуется возможностью оформления договора с рассрочкой и агент рассказывает об условиях после этого клиент подписывает договор в котором оговариваются все условия договор рассрочки может быть оформлен как в офисе компании так и на дому у клиента при этом клиент оплачивает только проценты за пользование кредитом а не всю сумму как это происходит в случае с потребительскими кредитами которые оформляются в офисах банка или в салонах связи где клиент может получить кредит наличными без справок о доходах и поручителей без залога и без поручительства третьих лиц с минимальным пакетом документов и с возможностью досрочного погашения кредита без штрафных санкций за несвоевременное погашение кредита или без штрафов за просрочку платежа по кредиту в течение дней с даты подписания кредитного договора либо с штрафными санкциями в размере от суммы просроченного платежа за каждый день просрочки но не более суммы задолженности по кредитному договору за исключением случаев предусмотренных кредитным договором если иное не предусмотрено договором в случае если клиент не согласен с условиями договора и не желает его подписывать он имеет право расторгнуть договор в одностороннем порядке обратившись в банк с письменным заявлением о досрочном погашении кредита и приложив к нему документы свидетельствующие о том что он согласен на расторжение договора по соглашению сторон не позднее чем за дней до даты расторжения договора в ред федерального закона от фз при расторжении договора потребительского кредита по инициативе клиента банк вправе потребовать от него уплаты неустойки штрафа пени а также возмещения убытков причиненных неисполнением или ненадлежащим исполнением заемщиком своих обязательств по договору п ст гк рф кроме того банк может потребовать досрочный возврат суммы основного долга и уплату процентов на нее пп п"
   ]
  },
  {
   "cell_type": "code",
   "execution_count": null,
   "id": "242547a3",
   "metadata": {},
   "outputs": [],
   "source": []
  }
 ],
 "metadata": {
  "kernelspec": {
   "display_name": "Python 3 (ipykernel)",
   "language": "python",
   "name": "python3"
  },
  "language_info": {
   "codemirror_mode": {
    "name": "ipython",
    "version": 3
   },
   "file_extension": ".py",
   "mimetype": "text/x-python",
   "name": "python",
   "nbconvert_exporter": "python",
   "pygments_lexer": "ipython3",
   "version": "3.11.5"
  },
  "widgets": {
   "application/vnd.jupyter.widget-state+json": {
    "state": {},
    "version_major": 2,
    "version_minor": 0
   }
  }
 },
 "nbformat": 4,
 "nbformat_minor": 5
}
