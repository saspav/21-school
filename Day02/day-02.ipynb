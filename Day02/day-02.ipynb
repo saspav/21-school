{
 "cells": [
  {
   "cell_type": "markdown",
   "metadata": {
    "id": "AURT5SuZPc3t"
   },
   "source": [
    "# День 02 — Машинное обучение"
   ]
  },
  {
   "cell_type": "markdown",
   "metadata": {
    "id": "fkDqLPzd-2yI"
   },
   "source": [
    "Установим библиотеки, которые не установлены в Google Colab."
   ]
  },
  {
   "cell_type": "code",
   "execution_count": 1,
   "metadata": {},
   "outputs": [],
   "source": [
    "# !python.exe -m pip install --upgrade pip"
   ]
  },
  {
   "cell_type": "code",
   "execution_count": 2,
   "metadata": {
    "id": "E_wUOPSE-2yJ"
   },
   "outputs": [],
   "source": [
    "# !pip install shap catboost"
   ]
  },
  {
   "cell_type": "markdown",
   "metadata": {
    "id": "lli0MZMN-2yK"
   },
   "source": [
    "Сначала импортируй библиотеки, которые понадобятся нам в работе."
   ]
  },
  {
   "cell_type": "code",
   "execution_count": 3,
   "metadata": {
    "id": "IdEwQpUw-2yL"
   },
   "outputs": [],
   "source": [
    "# Это не нужно, т.к. данные берем из каггла\n",
    "\n",
    "# # пытаемся подключить гугл-диск, если работаем с колаба\n",
    "# try:\n",
    "#     from google.colab import drive\n",
    "#     drive.mount('/content/drive')\n",
    "# except:\n",
    "#     pass"
   ]
  },
  {
   "cell_type": "code",
   "execution_count": 4,
   "metadata": {
    "id": "6MIhopvVPc3y"
   },
   "outputs": [],
   "source": [
    "import re\n",
    "import numpy as np\n",
    "import pandas as pd\n",
    "\n",
    "import gc\n",
    "# import shap\n",
    "import sklearn\n",
    "import catboost\n",
    "\n",
    "import seaborn as sns\n",
    "import matplotlib.pyplot as plt\n",
    "\n",
    "# Отключение предупреждений\n",
    "__import__(\"warnings\").filterwarnings(\"ignore\")\n",
    "\n",
    "sns.set_style(\"darkgrid\") # У графиков будет красивая серая подложка."
   ]
  },
  {
   "cell_type": "code",
   "execution_count": 5,
   "metadata": {},
   "outputs": [],
   "source": [
    "from sklearn.metrics import roc_curve, auc\n",
    "\n",
    "def show_roc_curve(Y_test, Y_proba):\n",
    "    # Вычисляем значения метрик ROC\n",
    "    fpr, tpr, thresholds = roc_curve(Y_test, Y_proba)\n",
    "    roc_auc = auc(fpr, tpr)\n",
    "\n",
    "    # Строим кривую ROC-AUC\n",
    "    plt.plot(fpr, tpr, label='ROC curve (area = %0.2f)' % roc_auc)\n",
    "    plt.plot([0, 1], [0, 1], 'k--')  # Диагональная линия случайного угадывания\n",
    "    plt.xlim([0.0, 1.0])\n",
    "    plt.ylim([0.0, 1.05])\n",
    "    plt.xlabel('False Positive Rate')\n",
    "    plt.ylabel('True Positive Rate')\n",
    "    plt.title('Receiver Operating Characteristic')\n",
    "    plt.legend(loc=\"lower right\")\n",
    "    plt.show()"
   ]
  },
  {
   "cell_type": "markdown",
   "metadata": {
    "id": "V8AMIM2T-2yM"
   },
   "source": [
    "Давай загрузим наши данные."
   ]
  },
  {
   "cell_type": "markdown",
   "metadata": {
    "id": "0ATUBP7r-2yM"
   },
   "source": [
    "## Загрузка данных"
   ]
  },
  {
   "cell_type": "code",
   "execution_count": 6,
   "metadata": {},
   "outputs": [],
   "source": [
    "import os\n",
    "import gc\n",
    "from glob import glob\n",
    "from pathlib import Path\n",
    "\n",
    "# Путь к каталогу с датасетами\n",
    "path_to_dataset = './datasets'\n",
    "\n",
    "# Установка библиотеки Kaggle\n",
    "# !pip install kaggle\n",
    "\n",
    "if not Path(path_to_dataset).is_dir():\n",
    "    # Загрузка датасета\n",
    "    !kaggle datasets download -d saspav/21-school\n",
    "\n",
    "    # Распаковка загруженного файла\n",
    "    !unzip 21-school.zip -d datasets"
   ]
  },
  {
   "cell_type": "code",
   "execution_count": 7,
   "metadata": {
    "id": "dxhM1MLjPc31"
   },
   "outputs": [
    {
     "name": "stdout",
     "output_type": "stream",
     "text": [
      "CPU times: total: 16.3 s\n",
      "Wall time: 16.3 s\n"
     ]
    }
   ],
   "source": [
    "%%time\n",
    "train = pd.read_csv(os.path.join(path_to_dataset, 'dataset_01_06.csv'))\n",
    "train = train.set_index(\"client_id\") # Устанавливаем индекс клиента\n",
    "train = train.drop_duplicates() # Убираем дубликаты"
   ]
  },
  {
   "cell_type": "code",
   "execution_count": 8,
   "metadata": {
    "id": "erbWP0iW-2yN",
    "outputId": "5f8c7403-993f-43af-cc85-8c9181882359"
   },
   "outputs": [
    {
     "data": {
      "text/html": [
       "<div>\n",
       "<style scoped>\n",
       "    .dataframe tbody tr th:only-of-type {\n",
       "        vertical-align: middle;\n",
       "    }\n",
       "\n",
       "    .dataframe tbody tr th {\n",
       "        vertical-align: top;\n",
       "    }\n",
       "\n",
       "    .dataframe thead th {\n",
       "        text-align: right;\n",
       "    }\n",
       "</style>\n",
       "<table border=\"1\" class=\"dataframe\">\n",
       "  <thead>\n",
       "    <tr style=\"text-align: right;\">\n",
       "      <th></th>\n",
       "      <th>prepay_ind_p1m</th>\n",
       "      <th>latitude_1m</th>\n",
       "      <th>building_type_key_1m</th>\n",
       "      <th>deferred_pay_1m</th>\n",
       "      <th>pay_count_p3m</th>\n",
       "      <th>crm_init_count_d1m</th>\n",
       "      <th>crm_out_count_p3m</th>\n",
       "      <th>prepay_ind_d2m</th>\n",
       "      <th>basic_day_debt_bad_max_d1m</th>\n",
       "      <th>bad_debt_p1m</th>\n",
       "      <th>...</th>\n",
       "      <th>avg_view_genre_dosug_2m</th>\n",
       "      <th>is_multiscreen_p1m</th>\n",
       "      <th>avg_view_other_p1m</th>\n",
       "      <th>count_purchase_1m</th>\n",
       "      <th>avg_view_multi_1m</th>\n",
       "      <th>total_duration_1m</th>\n",
       "      <th>avg_view_adult_1m</th>\n",
       "      <th>avg_view_category_18_d3m</th>\n",
       "      <th>avg_view_tvmarket_p2m</th>\n",
       "      <th>avg_view_category_0_2m</th>\n",
       "    </tr>\n",
       "    <tr>\n",
       "      <th>client_id</th>\n",
       "      <th></th>\n",
       "      <th></th>\n",
       "      <th></th>\n",
       "      <th></th>\n",
       "      <th></th>\n",
       "      <th></th>\n",
       "      <th></th>\n",
       "      <th></th>\n",
       "      <th></th>\n",
       "      <th></th>\n",
       "      <th></th>\n",
       "      <th></th>\n",
       "      <th></th>\n",
       "      <th></th>\n",
       "      <th></th>\n",
       "      <th></th>\n",
       "      <th></th>\n",
       "      <th></th>\n",
       "      <th></th>\n",
       "      <th></th>\n",
       "      <th></th>\n",
       "    </tr>\n",
       "  </thead>\n",
       "  <tbody>\n",
       "    <tr>\n",
       "      <th>161291</th>\n",
       "      <td>0.0</td>\n",
       "      <td>51.363170</td>\n",
       "      <td>377945938.0</td>\n",
       "      <td>1.0</td>\n",
       "      <td>6.0</td>\n",
       "      <td>0.0</td>\n",
       "      <td>0.0</td>\n",
       "      <td>0.0</td>\n",
       "      <td>0.0</td>\n",
       "      <td>0.0</td>\n",
       "      <td>...</td>\n",
       "      <td>0.0</td>\n",
       "      <td>0.0</td>\n",
       "      <td>0.00</td>\n",
       "      <td>0.0</td>\n",
       "      <td>18.37</td>\n",
       "      <td>1470.87</td>\n",
       "      <td>0.0</td>\n",
       "      <td>0.0</td>\n",
       "      <td>0.00</td>\n",
       "      <td>0.0</td>\n",
       "    </tr>\n",
       "    <tr>\n",
       "      <th>87256</th>\n",
       "      <td>0.0</td>\n",
       "      <td>50.547399</td>\n",
       "      <td>377945938.0</td>\n",
       "      <td>NaN</td>\n",
       "      <td>3.0</td>\n",
       "      <td>0.0</td>\n",
       "      <td>0.0</td>\n",
       "      <td>0.0</td>\n",
       "      <td>0.0</td>\n",
       "      <td>0.0</td>\n",
       "      <td>...</td>\n",
       "      <td>NaN</td>\n",
       "      <td>NaN</td>\n",
       "      <td>NaN</td>\n",
       "      <td>NaN</td>\n",
       "      <td>NaN</td>\n",
       "      <td>NaN</td>\n",
       "      <td>NaN</td>\n",
       "      <td>0.0</td>\n",
       "      <td>NaN</td>\n",
       "      <td>NaN</td>\n",
       "    </tr>\n",
       "    <tr>\n",
       "      <th>128419</th>\n",
       "      <td>0.0</td>\n",
       "      <td>51.738616</td>\n",
       "      <td>377945938.0</td>\n",
       "      <td>1.0</td>\n",
       "      <td>8.0</td>\n",
       "      <td>0.0</td>\n",
       "      <td>0.0</td>\n",
       "      <td>0.0</td>\n",
       "      <td>0.0</td>\n",
       "      <td>0.0</td>\n",
       "      <td>...</td>\n",
       "      <td>0.0</td>\n",
       "      <td>0.0</td>\n",
       "      <td>77.63</td>\n",
       "      <td>10.0</td>\n",
       "      <td>88.69</td>\n",
       "      <td>15110.70</td>\n",
       "      <td>0.0</td>\n",
       "      <td>0.0</td>\n",
       "      <td>0.00</td>\n",
       "      <td>0.0</td>\n",
       "    </tr>\n",
       "    <tr>\n",
       "      <th>198395</th>\n",
       "      <td>0.0</td>\n",
       "      <td>50.087963</td>\n",
       "      <td>377945938.0</td>\n",
       "      <td>NaN</td>\n",
       "      <td>3.0</td>\n",
       "      <td>0.0</td>\n",
       "      <td>0.0</td>\n",
       "      <td>0.0</td>\n",
       "      <td>0.0</td>\n",
       "      <td>0.0</td>\n",
       "      <td>...</td>\n",
       "      <td>NaN</td>\n",
       "      <td>NaN</td>\n",
       "      <td>NaN</td>\n",
       "      <td>NaN</td>\n",
       "      <td>NaN</td>\n",
       "      <td>NaN</td>\n",
       "      <td>NaN</td>\n",
       "      <td>0.0</td>\n",
       "      <td>NaN</td>\n",
       "      <td>NaN</td>\n",
       "    </tr>\n",
       "    <tr>\n",
       "      <th>194340</th>\n",
       "      <td>0.0</td>\n",
       "      <td>51.700059</td>\n",
       "      <td>377945938.0</td>\n",
       "      <td>NaN</td>\n",
       "      <td>3.0</td>\n",
       "      <td>0.0</td>\n",
       "      <td>0.0</td>\n",
       "      <td>0.0</td>\n",
       "      <td>0.0</td>\n",
       "      <td>0.0</td>\n",
       "      <td>...</td>\n",
       "      <td>0.0</td>\n",
       "      <td>0.0</td>\n",
       "      <td>0.00</td>\n",
       "      <td>0.0</td>\n",
       "      <td>173.79</td>\n",
       "      <td>7342.57</td>\n",
       "      <td>0.0</td>\n",
       "      <td>0.0</td>\n",
       "      <td>4.67</td>\n",
       "      <td>0.0</td>\n",
       "    </tr>\n",
       "  </tbody>\n",
       "</table>\n",
       "<p>5 rows × 3647 columns</p>\n",
       "</div>"
      ],
      "text/plain": [
       "           prepay_ind_p1m  latitude_1m  building_type_key_1m  deferred_pay_1m  \\\n",
       "client_id                                                                       \n",
       "161291                0.0    51.363170           377945938.0              1.0   \n",
       "87256                 0.0    50.547399           377945938.0              NaN   \n",
       "128419                0.0    51.738616           377945938.0              1.0   \n",
       "198395                0.0    50.087963           377945938.0              NaN   \n",
       "194340                0.0    51.700059           377945938.0              NaN   \n",
       "\n",
       "           pay_count_p3m  crm_init_count_d1m  crm_out_count_p3m  \\\n",
       "client_id                                                         \n",
       "161291               6.0                 0.0                0.0   \n",
       "87256                3.0                 0.0                0.0   \n",
       "128419               8.0                 0.0                0.0   \n",
       "198395               3.0                 0.0                0.0   \n",
       "194340               3.0                 0.0                0.0   \n",
       "\n",
       "           prepay_ind_d2m  basic_day_debt_bad_max_d1m  bad_debt_p1m  ...  \\\n",
       "client_id                                                            ...   \n",
       "161291                0.0                         0.0           0.0  ...   \n",
       "87256                 0.0                         0.0           0.0  ...   \n",
       "128419                0.0                         0.0           0.0  ...   \n",
       "198395                0.0                         0.0           0.0  ...   \n",
       "194340                0.0                         0.0           0.0  ...   \n",
       "\n",
       "           avg_view_genre_dosug_2m  is_multiscreen_p1m  avg_view_other_p1m  \\\n",
       "client_id                                                                    \n",
       "161291                         0.0                 0.0                0.00   \n",
       "87256                          NaN                 NaN                 NaN   \n",
       "128419                         0.0                 0.0               77.63   \n",
       "198395                         NaN                 NaN                 NaN   \n",
       "194340                         0.0                 0.0                0.00   \n",
       "\n",
       "           count_purchase_1m  avg_view_multi_1m  total_duration_1m  \\\n",
       "client_id                                                            \n",
       "161291                   0.0              18.37            1470.87   \n",
       "87256                    NaN                NaN                NaN   \n",
       "128419                  10.0              88.69           15110.70   \n",
       "198395                   NaN                NaN                NaN   \n",
       "194340                   0.0             173.79            7342.57   \n",
       "\n",
       "           avg_view_adult_1m  avg_view_category_18_d3m  avg_view_tvmarket_p2m  \\\n",
       "client_id                                                                       \n",
       "161291                   0.0                       0.0                   0.00   \n",
       "87256                    NaN                       0.0                    NaN   \n",
       "128419                   0.0                       0.0                   0.00   \n",
       "198395                   NaN                       0.0                    NaN   \n",
       "194340                   0.0                       0.0                   4.67   \n",
       "\n",
       "           avg_view_category_0_2m  \n",
       "client_id                          \n",
       "161291                        0.0  \n",
       "87256                         NaN  \n",
       "128419                        0.0  \n",
       "198395                        NaN  \n",
       "194340                        0.0  \n",
       "\n",
       "[5 rows x 3647 columns]"
      ]
     },
     "execution_count": 8,
     "metadata": {},
     "output_type": "execute_result"
    }
   ],
   "source": [
    "train.head(5) # Смотрим первые 5 строк в таблице"
   ]
  },
  {
   "cell_type": "markdown",
   "metadata": {
    "id": "zRB-2QQy-2yN"
   },
   "source": [
    "С помощью метода `.shape` можно вывести размерность датасета."
   ]
  },
  {
   "cell_type": "code",
   "execution_count": 9,
   "metadata": {
    "id": "hVz8uu49-2yN",
    "outputId": "8ec02d68-5801-404a-b931-c05b43f96de7"
   },
   "outputs": [
    {
     "data": {
      "text/plain": [
       "(32092, 3647)"
      ]
     },
     "execution_count": 9,
     "metadata": {},
     "output_type": "execute_result"
    }
   ],
   "source": [
    "train.shape"
   ]
  },
  {
   "cell_type": "markdown",
   "metadata": {
    "id": "eJO5IqU--2yO"
   },
   "source": [
    "## Утечки данных"
   ]
  },
  {
   "cell_type": "markdown",
   "metadata": {
    "id": "BGKecy_V-2yO"
   },
   "source": [
    "В наших данных о клиентах есть признаки, которое могут быть *утечками данных*. Утечка данных может привести к созданию чрезмерно оптимистичных, а то и вовсе бесполезных прогнозных моделей. Утечка данных — это когда для создания модели используется информация, которая не будет доступна на этапе эксплуатации модели. Например, такие признаки с приставками `hgid`, `hflat`."
   ]
  },
  {
   "cell_type": "markdown",
   "metadata": {
    "id": "dPlif3t--2yO"
   },
   "source": [
    "Для того чтобы получить признаки c приставками `hgid`, воспользуемся кодом ниже:"
   ]
  },
  {
   "cell_type": "code",
   "execution_count": 10,
   "metadata": {
    "id": "xFbplgIG-2yO"
   },
   "outputs": [],
   "source": [
    "# Из всех колонок возьмем только колонки, которые начинаются с \"hgid\":\n",
    "lick_columns = []\n",
    "lick_columns.extend([col for col in train.columns if col.startswith('hgid')])"
   ]
  },
  {
   "cell_type": "code",
   "execution_count": 11,
   "metadata": {
    "id": "Wik_wgPL-2yO",
    "outputId": "b1eb2767-7771-4087-f527-34735fcccfd3"
   },
   "outputs": [
    {
     "data": {
      "text/plain": [
       "['hgid_hm_1m', 'hgid_1m']"
      ]
     },
     "execution_count": 11,
     "metadata": {},
     "output_type": "execute_result"
    }
   ],
   "source": [
    "lick_columns"
   ]
  },
  {
   "cell_type": "markdown",
   "metadata": {
    "id": "sbojDs0o-2yO"
   },
   "source": [
    "Теперь в переменной `lick_columns` хранятся признаки, которые могут быть утечками в данных. Добавим в этот список признаки с приставкой `hflat`."
   ]
  },
  {
   "cell_type": "code",
   "execution_count": 12,
   "metadata": {
    "id": "z-Ys_M9v-2yO"
   },
   "outputs": [],
   "source": [
    "lick_columns.extend([col for col in train.columns if col.startswith('hflat')])"
   ]
  },
  {
   "cell_type": "code",
   "execution_count": 13,
   "metadata": {
    "id": "Re8LPh7z-2yO",
    "outputId": "dba5f299-32f8-4373-8a76-9028e53e811f"
   },
   "outputs": [
    {
     "data": {
      "text/plain": [
       "['hgid_hm_1m', 'hgid_1m', 'hflat_1m']"
      ]
     },
     "execution_count": 13,
     "metadata": {},
     "output_type": "execute_result"
    }
   ],
   "source": [
    "lick_columns"
   ]
  },
  {
   "cell_type": "markdown",
   "metadata": {
    "id": "j14jw8eS-2yO"
   },
   "source": [
    "## Задание 1"
   ]
  },
  {
   "cell_type": "markdown",
   "metadata": {
    "id": "ytdjiTU3-2yO"
   },
   "source": [
    "Удали признаки с приставками `charg_inst`, `charg_sale`, `hgid`, `hflat`, `hlid`, а также данные о координатах `latitude_1m` и `longitude_1m`. В удалении признаков тебе поможет метод [.drop()](https://pandas.pydata.org/docs/reference/api/pandas.DataFrame.drop.html).\n",
    "\n",
    "Выведи размерность получившейся таблицы:"
   ]
  },
  {
   "cell_type": "code",
   "execution_count": 14,
   "metadata": {
    "id": "Quzc9Oig-2yO"
   },
   "outputs": [
    {
     "name": "stdout",
     "output_type": "stream",
     "text": [
      "Будет удалено 60 колонок\n"
     ]
    },
    {
     "data": {
      "text/plain": [
       "(32092, 3587)"
      ]
     },
     "execution_count": 14,
     "metadata": {},
     "output_type": "execute_result"
    }
   ],
   "source": [
    "# Отбор колонок для удаления с помощью регулярных выражений\n",
    "pattern = re.compile(r'^(charg_inst|charg_sale|hgid|hflat|hlid)|latitude|longitude')\n",
    "columns_to_drop = [col for col in train.columns if pattern.match(col)]\n",
    "print(f'Будет удалено {len(columns_to_drop)} колонок')\n",
    "\n",
    "# Удаление отобранных колонок\n",
    "train.drop(columns=columns_to_drop, inplace=True)\n",
    "\n",
    "# Вывод размерности получившейся таблицы\n",
    "train.shape"
   ]
  },
  {
   "cell_type": "markdown",
   "metadata": {
    "id": "xen1Lmwe-2yP"
   },
   "source": [
    "## Разделение на признаки и предсказываемую величину"
   ]
  },
  {
   "cell_type": "markdown",
   "metadata": {
    "id": "3-EqzKYV-2yP"
   },
   "source": [
    "В машинном обучении, когда мы говорим о разделении на признаки и предсказываемую величину, мы имеем в виду следующее:\n",
    "\n",
    "1. Признаки (features): Это переменные или характеристики, которые используются для прогнозирования. Например, если у нас есть данные о жилье, признаками могут быть количество спален, площадь, район и т. д.\n",
    "\n",
    "2. Предсказываемая величина (target): Это величина, которую мы пытаемся предсказать с помощью модели машинного обучения. В задачах регрессии это может быть непрерывная величина, такая как цена жилья, вес человека и т. д. В задачах классификации это может быть категория или метка, например, «клиент уйдет» или «клиент останется.\n",
    "\n",
    "При обучении модели машинного обучения мы используем признаки для предсказания целевой переменной. Таким образом, разделение на признаки и предсказываемую величину является важным этапом в подготовке данных для построения модели."
   ]
  },
  {
   "cell_type": "markdown",
   "metadata": {
    "id": "RklxF-eW-2yP"
   },
   "source": [
    "## Задание 2"
   ]
  },
  {
   "cell_type": "markdown",
   "metadata": {
    "id": "R0qt0s_l-2yP"
   },
   "source": [
    "Теперь разберемся, что в каждой из задач для нас будет являться признаком (Х), а что предсказываемой переменной (Y).\n",
    "\n",
    "Раздели датасет `train` на признаки и предсказываемую величину. Признаки сохрани в переменную `X`, предсказываемую величину — в переменную `Y`. Выведи размерность `X` и `Y`:"
   ]
  },
  {
   "cell_type": "code",
   "execution_count": 15,
   "metadata": {
    "id": "wFOEj7ZS-2yP"
   },
   "outputs": [
    {
     "name": "stdout",
     "output_type": "stream",
     "text": [
      "Размерность X: (32092, 3586) Размерность Y: (32092,)\n"
     ]
    }
   ],
   "source": [
    "X = train.drop(columns='label')\n",
    "Y = train['label']\n",
    "print(f'Размерность X: {X.shape} Размерность Y: {Y.shape}')"
   ]
  },
  {
   "cell_type": "markdown",
   "metadata": {
    "id": "aRMB_uGs-2yP"
   },
   "source": [
    "## Разделение признаков на категориальные и численные"
   ]
  },
  {
   "cell_type": "markdown",
   "metadata": {
    "id": "9JzEdHjE-2yP"
   },
   "source": [
    "Разделение признаков на категориальные и численные важно в контексте подготовки данных для модели машинного обучения по нескольким причинам:\n",
    "\n",
    "1. Обработка данных: Категориальные признаки представляют собой качественные переменные, которые могут принимать ограниченное количество значений (например, цвет, тип жилья и т. д.), в то время как численные признаки представляют собой количественные переменные (например, возраст, цена, площадь и т. д.). Обработка этих двух типов признаков может потребовать различных методов: категориальные признаки могут потребовать кодирования (например, One-Hot Encoding), в то время как численные признаки могут потребовать масштабирования или нормализации.\n",
    "\n",
    "2. Выбор модели: Некоторые модели машинного обучения могут требовать явного указания типа признаков. Например, некоторые модели, такие как деревья решений, могут автоматически обрабатывать категориальные признаки, в то время как другие модели, такие как линейная регрессия, могут требовать предварительного преобразования категориальных признаков в численные.\n",
    "\n",
    "3. Интерпретация результатов: Различные типы признаков могут оказывать разное влияние на модель. Например, при интерпретации коэффициентов в линейной регрессии, численные признаки могут иметь более прямое воздействие на предсказываемую величину, чем категориальные.\n",
    "\n",
    "Таким образом, разделение признаков на категориальные и численные позволяет более эффективно обрабатывать данные и выбирать подходящие методы анализа и моделирования для конкретной задачи машинного обучения."
   ]
  },
  {
   "cell_type": "markdown",
   "metadata": {
    "id": "x7afPxYh-2yP"
   },
   "source": [
    "## Задание 3"
   ]
  },
  {
   "cell_type": "markdown",
   "metadata": {
    "id": "kejHDKdv-2yP"
   },
   "source": [
    "Теперь нам потребуется разделить наши признаки на численные и категориальные. В этом нам поможет функция метод [.select_dtypes()](https://pandas.pydata.org/docs/reference/api/pandas.DataFrame.select_dtypes.html). Численные переменные имеют тип `'number'`, а категориальные `'object'`.\n",
    "Численные переменные сохрани в переменную X_num, категориальные — в переменную X_cat.\n",
    "\n",
    "Выведи размерность этих таблиц."
   ]
  },
  {
   "cell_type": "code",
   "execution_count": 16,
   "metadata": {
    "id": "IE61Ntae-2yP"
   },
   "outputs": [
    {
     "name": "stdout",
     "output_type": "stream",
     "text": [
      "Размерность X_num: (32092, 3578) Размерность X_cat: (32092, 8)\n"
     ]
    }
   ],
   "source": [
    "# Разделение признаков на численные и категориальные\n",
    "X_num = X.select_dtypes(include='number')\n",
    "X_cat = X.select_dtypes(include='object')\n",
    "\n",
    "# Вывод размерностей численных и категориальных таблиц\n",
    "print(f'Размерность X_num: {X_num.shape} Размерность X_cat: {X_cat.shape}')"
   ]
  },
  {
   "cell_type": "markdown",
   "metadata": {
    "id": "gXj_pHlV-2yP"
   },
   "source": [
    "## Задание 4"
   ]
  },
  {
   "cell_type": "markdown",
   "metadata": {
    "id": "o6I7db2A-2yP"
   },
   "source": [
    "Некоторые алгоритмы машинного обучения чувствительны к пропускам данных, поэтому нам придется чем-то заполнить отсутствующие данные. Воспользуйся методом [.fillna()](https://pandas.pydata.org/docs/reference/api/pandas.DataFrame.fillna.html) для того, чтобы заполнить пропуски в численных признаках значением 0.\n",
    "\n",
    "Затем выполни этот код `X_num.isna().sum().sum()`:"
   ]
  },
  {
   "cell_type": "code",
   "execution_count": 17,
   "metadata": {
    "id": "pl_klzs6-2yQ"
   },
   "outputs": [
    {
     "data": {
      "text/plain": [
       "0"
      ]
     },
     "execution_count": 17,
     "metadata": {},
     "output_type": "execute_result"
    }
   ],
   "source": [
    "X_num.fillna(0, inplace=True)\n",
    "X_num.isna().sum().sum()"
   ]
  },
  {
   "cell_type": "markdown",
   "metadata": {
    "id": "QLCR0hHS-2yQ"
   },
   "source": [
    "## One-Hot Encoding"
   ]
  },
  {
   "cell_type": "markdown",
   "metadata": {
    "id": "AqFmBLli-2yQ"
   },
   "source": [
    "One-Hot Encoding — это процесс преобразования категориальных (номинальных) признаков в числовой формат. Зачем нам важно применять One-Hot Encoding:\n",
    "\n",
    "1. Совместимость с моделями машинного обучения: Многие алгоритмы машинного обучения требуют, чтобы все данные были числовыми. One-Hot Encoding позволяет преобразовать категориальные данные в форму, которую модели могут использовать для обучения.\n",
    "\n",
    "2. Избежание неявных порядковых отношений: При использовании One-Hot Encoding мы избегаем создания неявных порядковых отношений между категориями. Кодирование категорий числами (например, 1, 2, 3) может ввести модель в заблуждение, будто некоторые категории имеют порядок или значимость.\n",
    "\n",
    "3. Предотвращение «расстояний» между категориями: При использовании One-Hot Encoding расстояние между любыми двумя закодированными категориями равно 1. Это помогает избежать неправильных выводов о сходстве или различии между категориями.\n"
   ]
  },
  {
   "cell_type": "markdown",
   "metadata": {
    "id": "MR52Bt92-2yU"
   },
   "source": [
    "![one-hote-encoding.png](data:image/png;base64,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)"
   ]
  },
  {
   "cell_type": "markdown",
   "metadata": {
    "id": "27gKc2Rv-2yV"
   },
   "source": [
    "## Задание 5"
   ]
  },
  {
   "cell_type": "markdown",
   "metadata": {
    "id": "rffJ8aJD-2yV"
   },
   "source": [
    "Примени преобразования **One-Hot Encoding** для категориальных признаков. В этом тебе поможет функция [pd.get_dummies](https://pandas.pydata.org/docs/reference/api/pandas.get_dummies.html).\n",
    "\n",
    "Выведи размерность получившейся таблицы:"
   ]
  },
  {
   "cell_type": "code",
   "execution_count": 18,
   "metadata": {
    "id": "bm-5B-ju-2yV"
   },
   "outputs": [
    {
     "name": "stdout",
     "output_type": "stream",
     "text": [
      "Размерность X_cat: (32092, 24895)\n"
     ]
    }
   ],
   "source": [
    "# Применение One-Hot Encoding к категориальным признакам\n",
    "X_cat_encoded = pd.get_dummies(X_cat)\n",
    "\n",
    "# Вывод размерности получившейся таблицы\n",
    "print(f'Размерность X_cat: {X_cat_encoded.shape}')"
   ]
  },
  {
   "cell_type": "markdown",
   "metadata": {
    "id": "KNCxYiIz-2yV"
   },
   "source": [
    "## Задание 6"
   ]
  },
  {
   "cell_type": "markdown",
   "metadata": {
    "id": "mzDnyF3F-2yV"
   },
   "source": [
    "Теперь уже преобразованные части требуется снова объединить в единый датасет. Соедини переменные `X_num` и `X_cat` в переменную `X`. Воспользуйся методом [.merge()](https://pandas.pydata.org/docs/reference/api/pandas.DataFrame.merge.html).\n",
    "Объединение проведи по индексам таблицы.\n",
    "\n",
    "Выведи размерность получившейся таблицы:"
   ]
  },
  {
   "cell_type": "markdown",
   "metadata": {},
   "source": [
    "*Чтобы объединить численные признаки (X_num) и категориальные признаки, преобразованные с помощью One-Hot Encoding (X_cat_encoded), в единый DataFrame X, лучше воспользоваться методом pd.concat(), а не merge(), так как merge() обычно используется для объединения по ключам, а concat() более подходящий для объединения по индексам и при этом работает быстрее.*"
   ]
  },
  {
   "cell_type": "code",
   "execution_count": 19,
   "metadata": {
    "id": "2BLwR1MH-2yV"
   },
   "outputs": [
    {
     "name": "stdout",
     "output_type": "stream",
     "text": [
      "Размерность X: (32092, 28473)\n",
      "CPU times: total: 4.64 s\n",
      "Wall time: 4.63 s\n"
     ]
    }
   ],
   "source": [
    "%%time\n",
    "# Вариант 1\n",
    "# Объединение численных и закодированных категориальных признаков\n",
    "X = X_num.merge(X_cat_encoded, left_index=True, right_index=True)\n",
    "# Вывод размерности получившейся таблицы\n",
    "print(f'Размерность X: {X.shape}')"
   ]
  },
  {
   "cell_type": "code",
   "execution_count": 20,
   "metadata": {
    "id": "2BLwR1MH-2yV"
   },
   "outputs": [
    {
     "name": "stdout",
     "output_type": "stream",
     "text": [
      "Размерность X: (32092, 28473)\n",
      "CPU times: total: 500 ms\n",
      "Wall time: 512 ms\n"
     ]
    }
   ],
   "source": [
    "%%time\n",
    "# Вариант 2\n",
    "# Объединение численных и закодированных категориальных признаков\n",
    "X = pd.concat([X_num, X_cat_encoded], axis=1)\n",
    "\n",
    "# Вывод размерности получившейся таблицы\n",
    "print(f'Размерность X: {X.shape}')"
   ]
  },
  {
   "cell_type": "markdown",
   "metadata": {
    "id": "1B4z6n2B-2yV"
   },
   "source": [
    "## Разделение на Train, Test части"
   ]
  },
  {
   "cell_type": "markdown",
   "metadata": {
    "id": "FHg2gr1x-2yV"
   },
   "source": [
    "Разделение на тренировочную и тестовую части является важным шагом при обучении моделей машинного обучения. Этот процесс помогает оценить производительность модели на данных, которые она ранее не видела. Обычно данные разделяются в соотношении 70-80% на тренировочную выборку и 20-30% на тестовую выборку.\n",
    "\n",
    "Разделение на тренировочную и тестовую части помогает избежать переобучения (overfitting) и оценить способность модели к обобщению на новые данные."
   ]
  },
  {
   "cell_type": "markdown",
   "metadata": {
    "id": "MTSvloCu-2yV"
   },
   "source": [
    "## Задание 7"
   ]
  },
  {
   "cell_type": "markdown",
   "metadata": {
    "id": "ZejwDwrJ-2yV"
   },
   "source": [
    "Раздели итоговый датасет на train и test части. В этом тебе поможет функция [train_test_split](https://scikit-learn.org/stable/modules/generated/sklearn.model_selection.train_test_split.html). Разделение проведи с параметрами `test_size=0.2`, `random_state=21`.\n",
    "\n",
    "Выведи размерности переменных `X_train` и `X_test`:"
   ]
  },
  {
   "cell_type": "code",
   "execution_count": 21,
   "metadata": {
    "id": "mWVZ0iGf-2yV"
   },
   "outputs": [],
   "source": [
    "from sklearn.model_selection import train_test_split"
   ]
  },
  {
   "cell_type": "code",
   "execution_count": 22,
   "metadata": {
    "id": "1Ya4wNB--2yV"
   },
   "outputs": [
    {
     "name": "stdout",
     "output_type": "stream",
     "text": [
      "Размерность X_train: (25673, 28473)\n",
      "Размерность X_test: (6419, 28473)\n",
      "Размерность Y_train: (25673,)\n",
      "Размерность Y_test: (6419,)\n"
     ]
    }
   ],
   "source": [
    "# Разделение итогового датасета на train и test части\n",
    "X_train, X_test, Y_train, Y_test = train_test_split(X, Y, test_size=0.2, random_state=21)\n",
    "\n",
    "# Вывод размерностей получившихся частей\n",
    "print(f'Размерность X_train: {X_train.shape}')\n",
    "print(f'Размерность X_test: {X_test.shape}')\n",
    "print(f'Размерность Y_train: {Y_train.shape}')\n",
    "print(f'Размерность Y_test: {Y_test.shape}')"
   ]
  },
  {
   "cell_type": "markdown",
   "metadata": {
    "id": "88meoOfT-2yV"
   },
   "source": [
    "## Обучение модели"
   ]
  },
  {
   "cell_type": "markdown",
   "metadata": {
    "id": "Te_yKFPw-2yV"
   },
   "source": [
    "Теперь у нас все готово для обучения!\n",
    "Мы попробуем обучить модель — градиентный бустинг. Градиентный бустинг — это метод машинного обучения, который используется для построения прогностических моделей, таких как регрессия или классификация. Он основан на идее построения ансамбля слабых моделей, обычно деревьев решений, и объединении их в сильную модель."
   ]
  },
  {
   "cell_type": "markdown",
   "metadata": {
    "id": "z51PDARM-2yW"
   },
   "source": [
    "Теперь попробуй использовать алгоритм градиентного бустинга для обучения нашей модели предсказания оттока. Для этого воспользуйся алгоритмом `CatBoostRegressor` из библиотеки `catboost`."
   ]
  },
  {
   "cell_type": "code",
   "execution_count": 23,
   "metadata": {
    "id": "iE1hH8VM-2yW"
   },
   "outputs": [],
   "source": [
    "from catboost import CatBoostClassifier, MetricVisualizer\n",
    "from sklearn.metrics import roc_auc_score, accuracy_score"
   ]
  },
  {
   "cell_type": "code",
   "execution_count": 24,
   "metadata": {},
   "outputs": [],
   "source": [
    "import torch\n",
    "\n",
    "# # Проверка наличия GPU с помощью PyTorch\n",
    "# if torch.cuda.is_available():\n",
    "#     task_type = \"GPU\"\n",
    "#     devices = '0'  # Укажите нужные вам GPU (например, '0', '0:1' и т.д.)\n",
    "#     print(\"GPU доступен. Использую GPU для обчения!!! :)\")\n",
    "# else:\n",
    "#     task_type = \"CPU\"\n",
    "#     devices = None\n",
    "#     print(\"В вашей системе нет GPU :( Обучаюсь на CPU.\")\n",
    "    \n",
    "task_type = \"CPU\"\n",
    "devices = None    "
   ]
  },
  {
   "cell_type": "code",
   "execution_count": 25,
   "metadata": {
    "id": "VV9Z5l3Z-2yW",
    "outputId": "a7446487-7f4c-471d-9018-dba1a0fbfa4e"
   },
   "outputs": [
    {
     "name": "stdout",
     "output_type": "stream",
     "text": [
      "Learning rate set to 0.07064\n",
      "0:\ttest: 0.4822824\tbest: 0.4822824 (0)\ttotal: 295ms\tremaining: 4m 54s\n",
      "100:\ttest: 0.6540517\tbest: 0.6547688 (98)\ttotal: 12.9s\tremaining: 1m 55s\n",
      "200:\ttest: 0.6695957\tbest: 0.6697262 (198)\ttotal: 25.4s\tremaining: 1m 40s\n",
      "300:\ttest: 0.6705090\tbest: 0.6705661 (214)\ttotal: 37.6s\tremaining: 1m 27s\n",
      "400:\ttest: 0.6712805\tbest: 0.6715443 (393)\ttotal: 49.8s\tremaining: 1m 14s\n",
      "500:\ttest: 0.6734626\tbest: 0.6736611 (460)\ttotal: 1m 1s\tremaining: 1m 1s\n",
      "600:\ttest: 0.6780993\tbest: 0.6781476 (564)\ttotal: 1m 14s\tremaining: 49.3s\n",
      "700:\ttest: 0.6805030\tbest: 0.6808463 (678)\ttotal: 1m 26s\tremaining: 36.9s\n",
      "800:\ttest: 0.6820903\tbest: 0.6822738 (757)\ttotal: 1m 38s\tremaining: 24.5s\n",
      "900:\ttest: 0.6821005\tbest: 0.6822759 (818)\ttotal: 1m 50s\tremaining: 12.2s\n",
      "999:\ttest: 0.6812032\tbest: 0.6829210 (925)\ttotal: 2m 2s\tremaining: 0us\n",
      "\n",
      "bestTest = 0.68292096\n",
      "bestIteration = 925\n",
      "\n",
      "Shrink model to first 926 iterations.\n"
     ]
    }
   ],
   "source": [
    "model = CatBoostClassifier(iterations=1000, \n",
    "                           eval_metric='AUC', \n",
    "                           train_dir=\"base\",\n",
    "                           task_type=task_type,\n",
    "                           devices=devices\n",
    "                          ).fit(X_train, Y_train, verbose=100, eval_set=(X_test, Y_test))"
   ]
  },
  {
   "cell_type": "markdown",
   "metadata": {
    "id": "RLQIiGHe-2yW"
   },
   "source": [
    "## Задание 8"
   ]
  },
  {
   "cell_type": "markdown",
   "metadata": {
    "id": "wYtYZOYb-2yW"
   },
   "source": [
    "Рассчитай точность обученной модели. Для этого с помощью метода `.predict(X_test)` сделай предсказание на тестовой выборке `X_test`. Затем передай предсказанные классы и истинные значения оттока в функцию `accuracy_score`.\n",
    "\n",
    "Не подозрительный ли получился результат? Рассчитай долю клиентов, которые **не уйдут**."
   ]
  },
  {
   "cell_type": "code",
   "execution_count": 26,
   "metadata": {
    "id": "Q9j5S2al-2yW"
   },
   "outputs": [
    {
     "name": "stdout",
     "output_type": "stream",
     "text": [
      "Accuracy: 0.9634\n",
      "Доля клиентов, которые не уйдут: 0.9995\n"
     ]
    }
   ],
   "source": [
    "# Предсказание на тестовой выборке\n",
    "Y_pred = model.predict(X_test)\n",
    "\n",
    "# Рассчет точности модели\n",
    "accuracy = accuracy_score(Y_test, Y_pred)\n",
    "print(f'Accuracy: {accuracy:.4f}')\n",
    "\n",
    "# Проверка доли клиентов, которые не уйдут\n",
    "no_churn_fraction = (Y_pred == 0).mean()\n",
    "print(f'Доля клиентов, которые не уйдут: {no_churn_fraction:.4f}')"
   ]
  },
  {
   "cell_type": "code",
   "execution_count": 27,
   "metadata": {},
   "outputs": [
    {
     "name": "stdout",
     "output_type": "stream",
     "text": [
      "Доля клиентов, которые не уйдут: 0.9995\n"
     ]
    }
   ],
   "source": [
    "# если есть сомнения в no_churn_fraction = (Y_pred == 0).mean() - то вот это дает такой же результат\n",
    "no_churn_fraction = sum(Y_pred == 0) / len(Y_pred)\n",
    "print(f'Доля клиентов, которые не уйдут: {no_churn_fraction:.4f}')"
   ]
  },
  {
   "cell_type": "markdown",
   "metadata": {
    "id": "Mk4taJiQ-2yW"
   },
   "source": [
    "## Дисбаланс классов"
   ]
  },
  {
   "cell_type": "markdown",
   "metadata": {
    "id": "Y2FRuDJv-2yW"
   },
   "source": [
    "При работе с несбалансированными классами использование метрики точности может привести к искаженным результатам оценки производительности модели. При дисбалансе классов модель может быть склонна предсказывать чаще наиболее представленный класс, что приведет к высокой точности для этого класса, но низкой для менее представленного класса. Точность может быть высокой, даже если модель предсказывает только доминирующий класс, игнорируя менее представленный класс. Это может создать ложное впечатление о качестве модели.\n",
    "\n",
    "Для более информативной оценки модели в случае дисбаланса классов рекомендуется использовать другие метрики, такие как ROC AUC, F1-мера, точность и полнота. Эти метрики учитывают как правильность классификации положительных и отрицательных классов, так и способность модели находить все положительные случаи в данных."
   ]
  },
  {
   "cell_type": "markdown",
   "metadata": {
    "id": "_0jv2q5s-2yW"
   },
   "source": [
    "![metrics.png](data:image/png;base64,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)"
   ]
  },
  {
   "cell_type": "markdown",
   "metadata": {
    "id": "hPwMq4nU-2yW"
   },
   "source": [
    "ROC AUC (Receiver Operating Characteristic Area Under the Curve) — это метрика, которая широко используется для оценки качества бинарной классификации моделей машинного обучения. Вот несколько причин, почему использовать ROC AUC полезно:\n",
    "\n",
    "1. Интерпретируемость: ROC AUC предоставляет понятную интерпретацию качества классификационной модели. Значение ROC AUC находится между 0 и 1, где 1 означает идеальную модель, а 0.5 — модель, которая предсказывает случайно.\n",
    "\n",
    "2. Устойчивость к дисбалансу классов: ROC AUC не зависит от дисбаланса классов в данных, что делает его хорошей метрикой для несбалансированных наборов данных."
   ]
  },
  {
   "cell_type": "markdown",
   "metadata": {
    "id": "dsWcbPeA-2yW"
   },
   "source": [
    "![ROC-AUC.png](data:image/png;base64,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)"
   ]
  },
  {
   "cell_type": "markdown",
   "metadata": {
    "id": "E6dnnmSO-2yW"
   },
   "source": [
    "## Задание 9"
   ]
  },
  {
   "cell_type": "markdown",
   "metadata": {
    "id": "cujnMDri-2yW"
   },
   "source": [
    "Рассчитай метрику ROC-AUC. Для этого с помощью метода `.predict_proba(X_test)[:,1]` сделай предсказание на тестовой выборке `X_test`. Затем передай вероятности класса и истинные значения оттока в функцию `roc_auc_score`."
   ]
  },
  {
   "cell_type": "code",
   "execution_count": 28,
   "metadata": {
    "id": "PvrYtq1Q-2yW"
   },
   "outputs": [
    {
     "name": "stdout",
     "output_type": "stream",
     "text": [
      "ROC-AUC: 0.6829\n"
     ]
    }
   ],
   "source": [
    "# Предсказание вероятностей на тестовой выборке\n",
    "Y_proba = model.predict_proba(X_test)[:, 1]\n",
    "\n",
    "# Рассчет метрики ROC-AUC\n",
    "roc_auc = roc_auc_score(Y_test, Y_proba)\n",
    "print(f'ROC-AUC: {roc_auc:.4f}')"
   ]
  },
  {
   "cell_type": "code",
   "execution_count": 29,
   "metadata": {},
   "outputs": [
    {
     "data": {
      "image/png": "[encoded data removed]",
      "text/plain": [
       "<Figure size 640x480 with 1 Axes>"
      ]
     },
     "metadata": {},
     "output_type": "display_data"
    }
   ],
   "source": [
    "show_roc_curve(Y_test, Y_proba)"
   ]
  },
  {
   "cell_type": "code",
   "execution_count": null,
   "metadata": {},
   "outputs": [],
   "source": []
  },
  {
   "cell_type": "markdown",
   "metadata": {},
   "source": [
    "## Далее идет вольная программа: Вариант без One-Hot Encoding на всем датасете"
   ]
  },
  {
   "cell_type": "code",
   "execution_count": 30,
   "metadata": {},
   "outputs": [
    {
     "name": "stdout",
     "output_type": "stream",
     "text": [
      "CPU times: total: 15.8 s\n",
      "Wall time: 15.5 s\n"
     ]
    },
    {
     "data": {
      "text/plain": [
       "(66753, 3648)"
      ]
     },
     "execution_count": 30,
     "metadata": {},
     "output_type": "execute_result"
    }
   ],
   "source": [
    "%%time\n",
    "# возьмем оба датасета\n",
    "dataset_01_06 = pd.read_csv(os.path.join(path_to_dataset, 'dataset_01_06.csv'))\n",
    "dataset_07_12 = pd.read_csv(os.path.join(path_to_dataset, 'dataset_07_12.csv'))\n",
    "\n",
    "dataset = pd.concat([dataset_01_06, dataset_07_12], ignore_index=True)\n",
    "\n",
    "# очистим память от неиспользуемых переменных\n",
    "dataset_01_06 = dataset_07_12 = None\n",
    "gc.collect()\n",
    "dataset.shape"
   ]
  },
  {
   "cell_type": "code",
   "execution_count": 31,
   "metadata": {},
   "outputs": [
    {
     "name": "stdout",
     "output_type": "stream",
     "text": [
      "Будет удалено 60 колонок\n",
      "Количество строк: 60699, количество столбцов: 3588\n"
     ]
    }
   ],
   "source": [
    "# Отбор колонок для удаления с помощью регулярных выражений\n",
    "pattern = re.compile(r'^(charg_inst|charg_sale|hgid|hflat|hlid)|latitude|longitude')\n",
    "columns_to_drop = [col for col in dataset.columns if pattern.match(col)]\n",
    "print(f'Будет удалено {len(columns_to_drop)} колонок')\n",
    "\n",
    "# Удаление отобранных колонок\n",
    "dataset.drop(columns=columns_to_drop, inplace=True)\n",
    "dataset.drop_duplicates(\"client_id\", keep='last', inplace=True)\n",
    "print('Количество строк: {}, количество столбцов: {}'.format(*dataset.shape))"
   ]
  },
  {
   "cell_type": "code",
   "execution_count": 32,
   "metadata": {},
   "outputs": [],
   "source": [
    "# !pip install -U imbalanced-learn"
   ]
  },
  {
   "cell_type": "code",
   "execution_count": 33,
   "metadata": {},
   "outputs": [],
   "source": [
    "# from imblearn.over_sampling import SMOTE"
   ]
  },
  {
   "cell_type": "markdown",
   "metadata": {},
   "source": [
    "Процент пропусков, считаемый допустимым, может зависеть от конкретной ситуации и типа данных. Обычно, если процент пропусков составляет менее 5%, его считают незначительным. Если процент пропусков составляет от 5% до 20%, это может потребовать дополнительного анализа и принятия решения по обработке пропущенных значений.\n",
    "\n",
    "Однако, не существует строгого стандарта или универсального значения для допустимого процента пропусков. Решение о том, какой процент пропусков считать допустимым, зависит от специфики данных и целей анализа.\n",
    "\n",
    "Также, следует учитывать, что некоторые модели машинного обучения имеют встроенную обработку пропущенных значений, и поэтому процент пропусков может быть менее значимым.\n",
    "\n",
    "В целом, рекомендуется оценить влияние отсутствия данных на анализ, принять во внимание контекст и конкретную задачу, а также применять подходящие методы обработки пропущенных значений в зависимости от типа данных (например, удаление, заполнение, импутация и т. д.)."
   ]
  },
  {
   "cell_type": "code",
   "execution_count": 34,
   "metadata": {},
   "outputs": [
    {
     "data": {
      "image/png": "[encoded data removed]",
      "text/plain": [
       "<Figure size 1800x500 with 1 Axes>"
      ]
     },
     "metadata": {},
     "output_type": "display_data"
    }
   ],
   "source": [
    "df = dataset\n",
    "# Вычисляем процент пропусков для каждой колонки\n",
    "missing_percent = df.isnull().mean() * 100\n",
    "\n",
    "# Построение гистограммы\n",
    "plt.figure(figsize=(18, 5))\n",
    "plt.hist(missing_percent, bins=100)\n",
    "plt.xlabel('Процент пропусков')\n",
    "plt.ylabel('Количество колонок')\n",
    "plt.title('Распределение пропусков в данных')\n",
    "plt.show()"
   ]
  },
  {
   "cell_type": "code",
   "execution_count": 35,
   "metadata": {},
   "outputs": [
    {
     "data": {
      "text/plain": [
       "2078"
      ]
     },
     "execution_count": 35,
     "metadata": {},
     "output_type": "execute_result"
    }
   ],
   "source": [
    "# Отбираем колонки, где процент пропусков более 20%\n",
    "selected_columns = missing_percent[missing_percent > 20].index\n",
    "len(selected_columns)"
   ]
  },
  {
   "cell_type": "code",
   "execution_count": 36,
   "metadata": {},
   "outputs": [
    {
     "name": "stdout",
     "output_type": "stream",
     "text": [
      "Количество строк: 60699, количество столбцов: 1510\n"
     ]
    }
   ],
   "source": [
    "# Удаляем выбранные колонки из датафрейма\n",
    "df.drop([col for col in selected_columns if col in df.columns], axis=1, inplace=True)\n",
    "print('Количество строк: {}, количество столбцов: {}'.format(*df.shape))"
   ]
  },
  {
   "cell_type": "code",
   "execution_count": 37,
   "metadata": {},
   "outputs": [
    {
     "name": "stdout",
     "output_type": "stream",
     "text": [
      "['full_address_1m']\n"
     ]
    }
   ],
   "source": [
    "# Выбираем категориальные колонки\n",
    "categorical_columns = df.select_dtypes(include='object').columns.to_list()\n",
    "# Отбираем колонки, где количество уникальных значений превышает 20% от общего числа значений\n",
    "selected_columns = [column for column in categorical_columns if df[column].nunique() > 0.2 * len(df)]\n",
    "# Выводим названия отобранных колонок\n",
    "print(selected_columns)"
   ]
  },
  {
   "cell_type": "markdown",
   "metadata": {},
   "source": [
    "### Посмотрим на эти колонки"
   ]
  },
  {
   "cell_type": "code",
   "execution_count": 38,
   "metadata": {},
   "outputs": [
    {
     "data": {
      "text/plain": [
       "address_name_1m     2302\n",
       "full_address_1m    37567\n",
       "subject_name_1m        1\n",
       "city_name_1m         583\n",
       "subject_type_1m        1\n",
       "dtype: int64"
      ]
     },
     "execution_count": 38,
     "metadata": {},
     "output_type": "execute_result"
    }
   ],
   "source": [
    "df[categorical_columns].nunique()"
   ]
  },
  {
   "cell_type": "code",
   "execution_count": 39,
   "metadata": {},
   "outputs": [
    {
     "data": {
      "text/html": [
       "<div>\n",
       "<style scoped>\n",
       "    .dataframe tbody tr th:only-of-type {\n",
       "        vertical-align: middle;\n",
       "    }\n",
       "\n",
       "    .dataframe tbody tr th {\n",
       "        vertical-align: top;\n",
       "    }\n",
       "\n",
       "    .dataframe thead th {\n",
       "        text-align: right;\n",
       "    }\n",
       "</style>\n",
       "<table border=\"1\" class=\"dataframe\">\n",
       "  <thead>\n",
       "    <tr style=\"text-align: right;\">\n",
       "      <th></th>\n",
       "      <th>address_name_1m</th>\n",
       "      <th>full_address_1m</th>\n",
       "      <th>subject_name_1m</th>\n",
       "      <th>city_name_1m</th>\n",
       "      <th>subject_type_1m</th>\n",
       "    </tr>\n",
       "  </thead>\n",
       "  <tbody>\n",
       "    <tr>\n",
       "      <th>1</th>\n",
       "      <td>40 Лет Октября</td>\n",
       "      <td>397563, Воронежская обл, Воробьевский р-н, Руд...</td>\n",
       "      <td>Воронежская</td>\n",
       "      <td>Рудня</td>\n",
       "      <td>Область</td>\n",
       "    </tr>\n",
       "    <tr>\n",
       "      <th>2</th>\n",
       "      <td>Чапаева</td>\n",
       "      <td>396907, Воронежская обл, Семилукский р-н, Семи...</td>\n",
       "      <td>Воронежская</td>\n",
       "      <td>Семилуки</td>\n",
       "      <td>Область</td>\n",
       "    </tr>\n",
       "    <tr>\n",
       "      <th>4</th>\n",
       "      <td>Московский</td>\n",
       "      <td>394016, Воронежская обл, Воронеж г., Московски...</td>\n",
       "      <td>Воронежская</td>\n",
       "      <td>Воронеж</td>\n",
       "      <td>Область</td>\n",
       "    </tr>\n",
       "    <tr>\n",
       "      <th>5</th>\n",
       "      <td>Мира</td>\n",
       "      <td>397975, Воронежская обл, Лискинский р-н, Песко...</td>\n",
       "      <td>Воронежская</td>\n",
       "      <td>Песковатка</td>\n",
       "      <td>Область</td>\n",
       "    </tr>\n",
       "    <tr>\n",
       "      <th>6</th>\n",
       "      <td>Школьная</td>\n",
       "      <td>397830, Воронежская обл, Острогожский р-н, свх...</td>\n",
       "      <td>Воронежская</td>\n",
       "      <td>свх Победа 1 отделение</td>\n",
       "      <td>Область</td>\n",
       "    </tr>\n",
       "    <tr>\n",
       "      <th>...</th>\n",
       "      <td>...</td>\n",
       "      <td>...</td>\n",
       "      <td>...</td>\n",
       "      <td>...</td>\n",
       "      <td>...</td>\n",
       "    </tr>\n",
       "    <tr>\n",
       "      <th>66748</th>\n",
       "      <td>Димитрова</td>\n",
       "      <td>394002, Воронежская обл, Воронеж г., Димитрова...</td>\n",
       "      <td>Воронежская</td>\n",
       "      <td>Воронеж</td>\n",
       "      <td>Область</td>\n",
       "    </tr>\n",
       "    <tr>\n",
       "      <th>66749</th>\n",
       "      <td>Крупской</td>\n",
       "      <td>396900, Воронежская обл, Семилукский р-н, Семи...</td>\n",
       "      <td>Воронежская</td>\n",
       "      <td>Семилуки</td>\n",
       "      <td>Область</td>\n",
       "    </tr>\n",
       "    <tr>\n",
       "      <th>66750</th>\n",
       "      <td>Мира</td>\n",
       "      <td>396160, Воронежская обл, Панинский р-н, Переле...</td>\n",
       "      <td>Воронежская</td>\n",
       "      <td>Перелешинский</td>\n",
       "      <td>Область</td>\n",
       "    </tr>\n",
       "    <tr>\n",
       "      <th>66751</th>\n",
       "      <td>Утренняя</td>\n",
       "      <td>394019, Воронежская обл, Воронеж г., Утренняя ...</td>\n",
       "      <td>Воронежская</td>\n",
       "      <td>Воронеж</td>\n",
       "      <td>Область</td>\n",
       "    </tr>\n",
       "    <tr>\n",
       "      <th>66752</th>\n",
       "      <td>Садовая</td>\n",
       "      <td>396333, Воронежская обл, Новоусманский р-н, св...</td>\n",
       "      <td>Воронежская</td>\n",
       "      <td>свх Масловский 1 отделение</td>\n",
       "      <td>Область</td>\n",
       "    </tr>\n",
       "  </tbody>\n",
       "</table>\n",
       "<p>60699 rows × 5 columns</p>\n",
       "</div>"
      ],
      "text/plain": [
       "      address_name_1m                                    full_address_1m  \\\n",
       "1      40 Лет Октября  397563, Воронежская обл, Воробьевский р-н, Руд...   \n",
       "2             Чапаева  396907, Воронежская обл, Семилукский р-н, Семи...   \n",
       "4          Московский  394016, Воронежская обл, Воронеж г., Московски...   \n",
       "5                Мира  397975, Воронежская обл, Лискинский р-н, Песко...   \n",
       "6            Школьная  397830, Воронежская обл, Острогожский р-н, свх...   \n",
       "...               ...                                                ...   \n",
       "66748       Димитрова  394002, Воронежская обл, Воронеж г., Димитрова...   \n",
       "66749        Крупской  396900, Воронежская обл, Семилукский р-н, Семи...   \n",
       "66750            Мира  396160, Воронежская обл, Панинский р-н, Переле...   \n",
       "66751        Утренняя  394019, Воронежская обл, Воронеж г., Утренняя ...   \n",
       "66752         Садовая  396333, Воронежская обл, Новоусманский р-н, св...   \n",
       "\n",
       "      subject_name_1m                city_name_1m subject_type_1m  \n",
       "1         Воронежская                       Рудня         Область  \n",
       "2         Воронежская                    Семилуки         Область  \n",
       "4         Воронежская                     Воронеж         Область  \n",
       "5         Воронежская                  Песковатка         Область  \n",
       "6         Воронежская      свх Победа 1 отделение         Область  \n",
       "...               ...                         ...             ...  \n",
       "66748     Воронежская                     Воронеж         Область  \n",
       "66749     Воронежская                    Семилуки         Область  \n",
       "66750     Воронежская               Перелешинский         Область  \n",
       "66751     Воронежская                     Воронеж         Область  \n",
       "66752     Воронежская  свх Масловский 1 отделение         Область  \n",
       "\n",
       "[60699 rows x 5 columns]"
      ]
     },
     "execution_count": 39,
     "metadata": {},
     "output_type": "execute_result"
    }
   ],
   "source": [
    "df[categorical_columns]"
   ]
  },
  {
   "cell_type": "markdown",
   "metadata": {},
   "source": [
    "#### Из категориальных колонок реальную пользу принесут только нас.пункт и улица, т.к. колонка с одним значением бесполезна, как и полный адрес с множеством значений, уникальных значений более половины строк датасета, т.к. на уникальное значение на 1-2-3 строки."
   ]
  },
  {
   "cell_type": "code",
   "execution_count": 40,
   "metadata": {},
   "outputs": [
    {
     "name": "stdout",
     "output_type": "stream",
     "text": [
      "Количество строк: 60699, количество столбцов: 1507\n"
     ]
    }
   ],
   "source": [
    "# Удаляем выбранные колонки из датафрейма\n",
    "selected_columns = ['full_address_1m', 'subject_name_1m', 'subject_type_1m']\n",
    "df.drop([col for col in selected_columns if col in df.columns], axis=1, inplace=True)\n",
    "print('Количество строк: {}, количество столбцов: {}'.format(*df.shape))"
   ]
  },
  {
   "cell_type": "code",
   "execution_count": 41,
   "metadata": {},
   "outputs": [
    {
     "data": {
      "text/plain": [
       "address_name_1m    0\n",
       "city_name_1m       0\n",
       "dtype: int64"
      ]
     },
     "execution_count": 41,
     "metadata": {},
     "output_type": "execute_result"
    }
   ],
   "source": [
    "# В категориальных колонках нет пропусков\n",
    "df[df.select_dtypes(include='object').columns].isnull().sum()"
   ]
  },
  {
   "cell_type": "code",
   "execution_count": 42,
   "metadata": {},
   "outputs": [
    {
     "data": {
      "text/plain": [
       "building_type_key_1m    1612\n",
       "bad_debt_p1m            2566\n",
       "debt_max_period_2m      2025\n",
       "deff_p2m                2074\n",
       "data_shpd_p1m            290\n",
       "bad_debt_2m             2025\n",
       "bad_debt_p3m            1882\n",
       "gender_1m               2286\n",
       "deff_1m                 2550\n",
       "bad_debt_p2m            2074\n",
       "debt_max_period_1m      2550\n",
       "house_area_type_1m       612\n",
       "deff_3m                 1824\n",
       "debt_max_period_3m      1824\n",
       "deff_p1m                2566\n",
       "deff_2m                 2025\n",
       "calc_method_id_1m          2\n",
       "debt_max_period_p3m     1882\n",
       "lifetime_1m                1\n",
       "debt_max_period_p2m     2074\n",
       "quality_code_1m            7\n",
       "debt_max_period_p1m     2566\n",
       "data_shpd_p3m            224\n",
       "data_shpd_p2m            275\n",
       "deff_p3m                1882\n",
       "age_1m                  2291\n",
       "bad_debt_1m             2550\n",
       "bad_debt_3m             1824\n",
       "lifetime_tp_shpd_1m      592\n",
       "lifetime_shpd_1m           3\n",
       "dtype: int64"
      ]
     },
     "execution_count": 42,
     "metadata": {},
     "output_type": "execute_result"
    }
   ],
   "source": [
    "# Колонки с пропусками\n",
    "df.isnull().sum()[df.isnull().sum() > 0]"
   ]
  },
  {
   "cell_type": "code",
   "execution_count": 43,
   "metadata": {},
   "outputs": [],
   "source": [
    "# Для пола заполним пропуски нулем и преобразуем в строковый тип\n",
    "df['gender_1m'] = df['gender_1m'].fillna(0).astype(int).astype(str)"
   ]
  },
  {
   "cell_type": "code",
   "execution_count": 44,
   "metadata": {},
   "outputs": [
    {
     "data": {
      "text/plain": [
       "2    30924\n",
       "1    27447\n",
       "0     2328\n",
       "Name: gender_1m, dtype: int64"
      ]
     },
     "execution_count": 44,
     "metadata": {},
     "output_type": "execute_result"
    }
   ],
   "source": [
    "df['gender_1m'].value_counts()"
   ]
  },
  {
   "cell_type": "code",
   "execution_count": 45,
   "metadata": {},
   "outputs": [],
   "source": [
    "# Вычисляем медиану для каждой колонки\n",
    "median_values = df.median()\n",
    "# Заполняем пропуски медианой\n",
    "df.fillna(median_values, inplace=True)"
   ]
  },
  {
   "cell_type": "code",
   "execution_count": 46,
   "metadata": {},
   "outputs": [
    {
     "data": {
      "text/plain": [
       "0"
      ]
     },
     "execution_count": 46,
     "metadata": {},
     "output_type": "execute_result"
    }
   ],
   "source": [
    "df.isnull().sum().sum()"
   ]
  },
  {
   "cell_type": "code",
   "execution_count": 47,
   "metadata": {},
   "outputs": [
    {
     "data": {
      "text/plain": [
       "['address_name_1m', 'gender_1m', 'city_name_1m']"
      ]
     },
     "execution_count": 47,
     "metadata": {},
     "output_type": "execute_result"
    }
   ],
   "source": [
    "cat_features = df.select_dtypes(include='object').columns.to_list()\n",
    "cat_features"
   ]
  },
  {
   "cell_type": "code",
   "execution_count": 48,
   "metadata": {},
   "outputs": [
    {
     "name": "stdout",
     "output_type": "stream",
     "text": [
      "Размерность X_train: (42489, 1506)\n",
      "Размерность X_test: (18210, 1506)\n",
      "Размерность Y_train: (42489,)\n",
      "Размерность Y_test: (18210,)\n",
      "CPU times: total: 469 ms\n",
      "Wall time: 471 ms\n"
     ]
    }
   ],
   "source": [
    "%%time\n",
    "X = df.drop(columns='label')\n",
    "Y = df['label']\n",
    "\n",
    "# Разделение итогового датасета на train и test части\n",
    "X_train, X_test, Y_train, Y_test = train_test_split(X, Y, test_size=0.3, random_state=21, stratify=Y)\n",
    "\n",
    "# # Балансировка классов с использованием SMOTE\n",
    "# smote = SMOTE(random_state=21)\n",
    "# X_train, Y_train = smote.fit_resample(X_train, Y_train)\n",
    "\n",
    "# Вывод размерностей получившихся частей\n",
    "print(f'Размерность X_train: {X_train.shape}')\n",
    "print(f'Размерность X_test: {X_test.shape}')\n",
    "print(f'Размерность Y_train: {Y_train.shape}')\n",
    "print(f'Размерность Y_test: {Y_test.shape}')"
   ]
  },
  {
   "cell_type": "code",
   "execution_count": 49,
   "metadata": {},
   "outputs": [
    {
     "name": "stdout",
     "output_type": "stream",
     "text": [
      "Learning rate set to 0.051775\n"
     ]
    },
    {
     "name": "stderr",
     "output_type": "stream",
     "text": [
      "Default metric period is 5 because AUC is/are not implemented for GPU\n"
     ]
    },
    {
     "name": "stdout",
     "output_type": "stream",
     "text": [
      "0:\ttest: 0.4971528\tbest: 0.4971528 (0)\ttotal: 51.8ms\tremaining: 51.7s\n",
      "100:\ttest: 0.6828715\tbest: 0.6832320 (96)\ttotal: 5.95s\tremaining: 53s\n",
      "200:\ttest: 0.6908876\tbest: 0.6913479 (192)\ttotal: 11.8s\tremaining: 47s\n",
      "bestTest = 0.6918996871\n",
      "bestIteration = 203\n",
      "Shrink model to first 204 iterations.\n",
      "ROC-AUC: 0.6919\n"
     ]
    }
   ],
   "source": [
    "model2 = CatBoostClassifier(\n",
    "    iterations=1000,\n",
    "    eval_metric='AUC',\n",
    "    train_dir=\"base\",\n",
    "    task_type=task_type,\n",
    "    devices=devices,\n",
    "    cat_features=cat_features\n",
    ").fit(\n",
    "    X_train,\n",
    "    Y_train,\n",
    "    verbose=100,\n",
    "    early_stopping_rounds=80,\n",
    "    eval_set=(X_test, Y_test),\n",
    ")\n",
    "\n",
    "# Предсказание вероятностей на тестовой выборке\n",
    "Y_proba = model2.predict_proba(X_test)[:, 1]\n",
    "\n",
    "# Рассчет метрики ROC-AUC\n",
    "roc_auc = roc_auc_score(Y_test, Y_proba)\n",
    "print(f'ROC-AUC: {roc_auc:.4f}')  # ROC-AUC: 0.6919"
   ]
  },
  {
   "cell_type": "markdown",
   "metadata": {},
   "source": [
    "### После удаления колонок с пропусками результат стал чуть лучше (был ROC-AUC: 0.6842)"
   ]
  },
  {
   "cell_type": "code",
   "execution_count": 50,
   "metadata": {},
   "outputs": [
    {
     "data": {
      "image/png": "[encoded data removed]",
      "text/plain": [
       "<Figure size 640x480 with 1 Axes>"
      ]
     },
     "metadata": {},
     "output_type": "display_data"
    }
   ],
   "source": [
    "show_roc_curve(Y_test, Y_proba)"
   ]
  },
  {
   "cell_type": "code",
   "execution_count": 51,
   "metadata": {},
   "outputs": [],
   "source": [
    "SEED = 20240713"
   ]
  },
  {
   "cell_type": "code",
   "execution_count": 52,
   "metadata": {},
   "outputs": [
    {
     "name": "stdout",
     "output_type": "stream",
     "text": [
      "Learning rate set to 0.038859\n"
     ]
    },
    {
     "name": "stderr",
     "output_type": "stream",
     "text": [
      "Default metric period is 5 because AUC is/are not implemented for GPU\n"
     ]
    },
    {
     "name": "stdout",
     "output_type": "stream",
     "text": [
      "0:\ttest: 0.4971528\tbest: 0.4971528 (0)\ttotal: 50.9ms\tremaining: 1m 41s\n",
      "100:\ttest: 0.6830674\tbest: 0.6830674 (100)\ttotal: 5.91s\tremaining: 1m 51s\n",
      "200:\ttest: 0.6882167\tbest: 0.6882167 (200)\ttotal: 11.7s\tremaining: 1m 45s\n",
      "300:\ttest: 0.6918750\tbest: 0.6918750 (300)\ttotal: 17.5s\tremaining: 1m 38s\n",
      "400:\ttest: 0.6928759\tbest: 0.6929938 (393)\ttotal: 23s\tremaining: 1m 31s\n",
      "500:\ttest: 0.6941192\tbest: 0.6941795 (499)\ttotal: 28.7s\tremaining: 1m 25s\n",
      "600:\ttest: 0.6946151\tbest: 0.6947131 (581)\ttotal: 34.6s\tremaining: 1m 20s\n",
      "700:\ttest: 0.6948092\tbest: 0.6951720 (660)\ttotal: 40.5s\tremaining: 1m 15s\n",
      "800:\ttest: 0.6945214\tbest: 0.6958592 (740)\ttotal: 46.4s\tremaining: 1m 9s\n",
      "bestTest = 0.695859164\n",
      "bestIteration = 740\n",
      "Shrink model to first 741 iterations.\n",
      "ROC-AUC: 0.6959\n"
     ]
    }
   ],
   "source": [
    "# Опыты...\n",
    "\n",
    "model3 = CatBoostClassifier(\n",
    "    iterations=2000,\n",
    "#     learning_rate=0.03,\n",
    "#     auto_class_weights='Balanced',\n",
    "#     loss_function='Logloss',\n",
    "#     loss_function='CrossEntropy',\n",
    "#     random_seed=SEED,\n",
    "    eval_metric='AUC',\n",
    "    train_dir=\"base\",\n",
    "    task_type=task_type,\n",
    "    devices=devices,\n",
    "    cat_features=cat_features,\n",
    ").fit(\n",
    "    X_train,\n",
    "    Y_train,\n",
    "    verbose=100,\n",
    "    early_stopping_rounds=80,\n",
    "    eval_set=(X_test, Y_test),\n",
    ")\n",
    "\n",
    "# Предсказание вероятностей на тестовой выборке\n",
    "Y_proba = model3.predict_proba(X_test)[:, 1]\n",
    "\n",
    "# Рассчет метрики ROC-AUC\n",
    "roc_auc = roc_auc_score(Y_test, Y_proba)\n",
    "print(f'ROC-AUC: {roc_auc:.4f}')"
   ]
  },
  {
   "cell_type": "code",
   "execution_count": null,
   "metadata": {},
   "outputs": [],
   "source": []
  },
  {
   "cell_type": "code",
   "execution_count": 143,
   "metadata": {},
   "outputs": [],
   "source": [
    "# ROC-AUC: 0.0.6959 - iterations=2000"
   ]
  },
  {
   "cell_type": "code",
   "execution_count": 144,
   "metadata": {},
   "outputs": [
    {
     "ename": "NameError",
     "evalue": "name 'stop' is not defined",
     "output_type": "error",
     "traceback": [
      "\u001b[1;31m---------------------------------------------------------------------------\u001b[0m",
      "\u001b[1;31mNameError\u001b[0m                                 Traceback (most recent call last)",
      "Cell \u001b[1;32mIn[144], line 1\u001b[0m\n\u001b[1;32m----> 1\u001b[0m stop\n",
      "\u001b[1;31mNameError\u001b[0m: name 'stop' is not defined"
     ]
    }
   ],
   "source": [
    "stop"
   ]
  },
  {
   "cell_type": "code",
   "execution_count": 201,
   "metadata": {},
   "outputs": [],
   "source": [
    "import optuna\n",
    "from optuna.integration import CatBoostPruningCallback\n",
    "\n",
    "from catboost import CatBoostClassifier, Pool\n",
    "\n",
    "from sklearn.metrics import accuracy_score, f1_score, roc_auc_score, classification_report\n",
    "\n",
    "\n",
    "def objective(trial: optuna.Trial) -> float:\n",
    "    param = {\n",
    "#         \"loss_function\": trial.suggest_categorical(\"loss_function\", ['Logloss', 'CrossEntropy']),\n",
    "#         \"auto_class_weights\": trial.suggest_categorical(\"auto_class_weights\", [None, \"Balanced\"]),\n",
    "        \"iterations\": trial.suggest_int(\"iterations\", 500, 3000, step=100),\n",
    "#         \"depth\": trial.suggest_int(\"depth\", 1, 12),\n",
    "#         \"learning_rate\": trial.suggest_float(\"learning_rate\", 0.04, 0.06, step=0.001),\n",
    "    }\n",
    "\n",
    "    clf = CatBoostClassifier(cat_features=cat_features,\n",
    "                             eval_metric='AUC',\n",
    "                             train_dir=\"base\",\n",
    "                             early_stopping_rounds=80,\n",
    "#                              random_seed=SEED,\n",
    "                             task_type=task_type,\n",
    "                             devices=devices,                             \n",
    "                             **param)\n",
    "\n",
    "    clf.fit(X_train, Y_train,\n",
    "            eval_set=[(X_test, Y_test)],\n",
    "            verbose=100,\n",
    "            early_stopping_rounds=80)\n",
    "\n",
    "    roc_auc = roc_auc_score(Y_test, clf.predict(X_test))\n",
    "\n",
    "    return roc_auc"
   ]
  },
  {
   "cell_type": "code",
   "execution_count": 202,
   "metadata": {},
   "outputs": [
    {
     "name": "stderr",
     "output_type": "stream",
     "text": [
      "[I 2024-07-12 16:52:40,235] A new study created in memory with name: no-name-3401c57a-c3d7-40df-8692-5fcdb6fdac39\n"
     ]
    },
    {
     "name": "stdout",
     "output_type": "stream",
     "text": [
      "Learning rate set to 0.03486\n"
     ]
    },
    {
     "name": "stderr",
     "output_type": "stream",
     "text": [
      "Default metric period is 5 because AUC is/are not implemented for GPU\n"
     ]
    },
    {
     "name": "stdout",
     "output_type": "stream",
     "text": [
      "0:\ttest: 0.5274599\tbest: 0.5274599 (0)\ttotal: 54.5ms\tremaining: 2m 21s\n",
      "100:\ttest: 0.6740567\tbest: 0.6747120 (94)\ttotal: 5.92s\tremaining: 2m 26s\n",
      "200:\ttest: 0.6823274\tbest: 0.6823445 (199)\ttotal: 11.8s\tremaining: 2m 20s\n",
      "300:\ttest: 0.6857532\tbest: 0.6858443 (296)\ttotal: 17.5s\tremaining: 2m 13s\n",
      "400:\ttest: 0.6871719\tbest: 0.6874456 (393)\ttotal: 23.2s\tremaining: 2m 7s\n",
      "500:\ttest: 0.6882660\tbest: 0.6882660 (500)\ttotal: 28.9s\tremaining: 2m 1s\n",
      "600:\ttest: 0.6886754\tbest: 0.6889064 (571)\ttotal: 34.6s\tremaining: 1m 55s\n"
     ]
    },
    {
     "name": "stderr",
     "output_type": "stream",
     "text": [
      "[I 2024-07-12 16:53:19,163] Trial 0 finished with value: 0.5017212405278835 and parameters: {'iterations': 2600}. Best is trial 0 with value: 0.5017212405278835.\n"
     ]
    },
    {
     "name": "stdout",
     "output_type": "stream",
     "text": [
      "bestTest = 0.6889063716\n",
      "bestIteration = 571\n",
      "Shrink model to first 572 iterations.\n",
      "Learning rate set to 0.036675\n"
     ]
    },
    {
     "name": "stderr",
     "output_type": "stream",
     "text": [
      "Default metric period is 5 because AUC is/are not implemented for GPU\n"
     ]
    },
    {
     "name": "stdout",
     "output_type": "stream",
     "text": [
      "0:\ttest: 0.5274599\tbest: 0.5274599 (0)\ttotal: 55.4ms\tremaining: 2m 7s\n",
      "100:\ttest: 0.6716744\tbest: 0.6719933 (94)\ttotal: 5.65s\tremaining: 2m 3s\n",
      "200:\ttest: 0.6819148\tbest: 0.6819148 (200)\ttotal: 11.6s\tremaining: 2m 1s\n",
      "300:\ttest: 0.6867969\tbest: 0.6870640 (292)\ttotal: 17.5s\tremaining: 1m 56s\n",
      "400:\ttest: 0.6885447\tbest: 0.6889786 (380)\ttotal: 23.3s\tremaining: 1m 50s\n",
      "500:\ttest: 0.6891721\tbest: 0.6895827 (441)\ttotal: 29.1s\tremaining: 1m 44s\n",
      "600:\ttest: 0.6897762\tbest: 0.6898148 (522)\ttotal: 35s\tremaining: 1m 38s\n",
      "bestTest = 0.6898498833\n",
      "bestIteration = 602\n",
      "Shrink model to first 603 iterations.\n"
     ]
    },
    {
     "name": "stderr",
     "output_type": "stream",
     "text": [
      "[I 2024-07-12 16:54:00,143] Trial 1 finished with value: 0.5017785766898007 and parameters: {'iterations': 2300}. Best is trial 1 with value: 0.5017785766898007.\n"
     ]
    },
    {
     "name": "stdout",
     "output_type": "stream",
     "text": [
      "Learning rate set to 0.036034\n"
     ]
    },
    {
     "name": "stderr",
     "output_type": "stream",
     "text": [
      "Default metric period is 5 because AUC is/are not implemented for GPU\n"
     ]
    },
    {
     "name": "stdout",
     "output_type": "stream",
     "text": [
      "0:\ttest: 0.5274599\tbest: 0.5274599 (0)\ttotal: 56.4ms\tremaining: 2m 15s\n",
      "100:\ttest: 0.6712677\tbest: 0.6718543 (94)\ttotal: 5.86s\tremaining: 2m 13s\n",
      "200:\ttest: 0.6816200\tbest: 0.6816200 (200)\ttotal: 11.7s\tremaining: 2m 7s\n",
      "300:\ttest: 0.6846722\tbest: 0.6850084 (291)\ttotal: 17.5s\tremaining: 2m 2s\n",
      "400:\ttest: 0.6853762\tbest: 0.6855907 (381)\ttotal: 23.4s\tremaining: 1m 56s\n",
      "500:\ttest: 0.6869936\tbest: 0.6869936 (500)\ttotal: 29.2s\tremaining: 1m 50s\n",
      "600:\ttest: 0.6877259\tbest: 0.6879860 (595)\ttotal: 35.1s\tremaining: 1m 45s\n",
      "bestTest = 0.6879859865\n",
      "bestIteration = 595\n",
      "Shrink model to first 596 iterations.\n"
     ]
    },
    {
     "name": "stderr",
     "output_type": "stream",
     "text": [
      "[I 2024-07-12 16:54:40,828] Trial 2 finished with value: 0.5017785766898007 and parameters: {'iterations': 2400}. Best is trial 1 with value: 0.5017785766898007.\n"
     ]
    },
    {
     "name": "stdout",
     "output_type": "stream",
     "text": [
      "Learning rate set to 0.063969\n"
     ]
    },
    {
     "name": "stderr",
     "output_type": "stream",
     "text": [
      "Default metric period is 5 because AUC is/are not implemented for GPU\n"
     ]
    },
    {
     "name": "stdout",
     "output_type": "stream",
     "text": [
      "0:\ttest: 0.5274599\tbest: 0.5274599 (0)\ttotal: 56.5ms\tremaining: 33.8s\n",
      "100:\ttest: 0.6787103\tbest: 0.6787103 (100)\ttotal: 5.85s\tremaining: 28.9s\n",
      "200:\ttest: 0.6865453\tbest: 0.6867852 (191)\ttotal: 11.6s\tremaining: 23.1s\n",
      "300:\ttest: 0.6868410\tbest: 0.6884321 (279)\ttotal: 17.5s\tremaining: 17.4s\n"
     ]
    },
    {
     "name": "stderr",
     "output_type": "stream",
     "text": [
      "[I 2024-07-12 16:55:02,800] Trial 3 finished with value: 0.5043793569238709 and parameters: {'iterations': 600}. Best is trial 3 with value: 0.5043793569238709.\n"
     ]
    },
    {
     "name": "stdout",
     "output_type": "stream",
     "text": [
      "bestTest = 0.6884321272\n",
      "bestIteration = 279\n",
      "Shrink model to first 280 iterations.\n",
      "Learning rate set to 0.033806\n"
     ]
    },
    {
     "name": "stderr",
     "output_type": "stream",
     "text": [
      "Default metric period is 5 because AUC is/are not implemented for GPU\n"
     ]
    },
    {
     "name": "stdout",
     "output_type": "stream",
     "text": [
      "0:\ttest: 0.5274599\tbest: 0.5274599 (0)\ttotal: 54.5ms\tremaining: 2m 32s\n",
      "100:\ttest: 0.6702901\tbest: 0.6702901 (100)\ttotal: 5.74s\tremaining: 2m 33s\n",
      "200:\ttest: 0.6797438\tbest: 0.6797438 (200)\ttotal: 11.5s\tremaining: 2m 29s\n",
      "300:\ttest: 0.6841142\tbest: 0.6841323 (273)\ttotal: 17.2s\tremaining: 2m 22s\n",
      "400:\ttest: 0.6851784\tbest: 0.6856655 (341)\ttotal: 22.9s\tremaining: 2m 16s\n"
     ]
    },
    {
     "name": "stderr",
     "output_type": "stream",
     "text": [
      "[I 2024-07-12 16:55:32,594] Trial 4 finished with value: 0.5024287717483182 and parameters: {'iterations': 2800}. Best is trial 3 with value: 0.5043793569238709.\n"
     ]
    },
    {
     "name": "stdout",
     "output_type": "stream",
     "text": [
      "500:\ttest: 0.6853513\tbest: 0.6857602 (420)\ttotal: 28.5s\tremaining: 2m 10s\n",
      "bestTest = 0.6857602\n",
      "bestIteration = 420\n",
      "Shrink model to first 421 iterations.\n",
      "Learning rate set to 0.036034\n"
     ]
    },
    {
     "name": "stderr",
     "output_type": "stream",
     "text": [
      "Default metric period is 5 because AUC is/are not implemented for GPU\n"
     ]
    },
    {
     "name": "stdout",
     "output_type": "stream",
     "text": [
      "0:\ttest: 0.5274599\tbest: 0.5274599 (0)\ttotal: 56.4ms\tremaining: 2m 15s\n",
      "100:\ttest: 0.6712677\tbest: 0.6718543 (94)\ttotal: 5.67s\tremaining: 2m 8s\n",
      "200:\ttest: 0.6816202\tbest: 0.6816202 (200)\ttotal: 11.3s\tremaining: 2m 4s\n",
      "300:\ttest: 0.6846510\tbest: 0.6846684 (298)\ttotal: 17s\tremaining: 1m 58s\n"
     ]
    },
    {
     "name": "stderr",
     "output_type": "stream",
     "text": [
      "[I 2024-07-12 16:55:56,347] Trial 5 finished with value: 0.5031076348877945 and parameters: {'iterations': 2400}. Best is trial 3 with value: 0.5043793569238709.\n"
     ]
    },
    {
     "name": "stdout",
     "output_type": "stream",
     "text": [
      "bestTest = 0.6849094629\n",
      "bestIteration = 319\n",
      "Shrink model to first 320 iterations.\n",
      "Learning rate set to 0.048011\n"
     ]
    },
    {
     "name": "stderr",
     "output_type": "stream",
     "text": [
      "Default metric period is 5 because AUC is/are not implemented for GPU\n"
     ]
    },
    {
     "name": "stdout",
     "output_type": "stream",
     "text": [
      "0:\ttest: 0.5274599\tbest: 0.5274599 (0)\ttotal: 54.4ms\tremaining: 1m 5s\n",
      "100:\ttest: 0.6732768\tbest: 0.6754879 (81)\ttotal: 5.64s\tremaining: 1m 1s\n",
      "200:\ttest: 0.6819987\tbest: 0.6821464 (182)\ttotal: 11.4s\tremaining: 56.5s\n",
      "300:\ttest: 0.6857086\tbest: 0.6858883 (296)\ttotal: 17.1s\tremaining: 51.1s\n",
      "400:\ttest: 0.6858816\tbest: 0.6866306 (383)\ttotal: 22.8s\tremaining: 45.3s\n"
     ]
    },
    {
     "name": "stderr",
     "output_type": "stream",
     "text": [
      "[I 2024-07-12 16:56:23,818] Trial 6 finished with value: 0.5029929625639598 and parameters: {'iterations': 1200}. Best is trial 3 with value: 0.5043793569238709.\n"
     ]
    },
    {
     "name": "stdout",
     "output_type": "stream",
     "text": [
      "bestTest = 0.6866306365\n",
      "bestIteration = 383\n",
      "Shrink model to first 384 iterations.\n",
      "Learning rate set to 0.038859\n"
     ]
    },
    {
     "name": "stderr",
     "output_type": "stream",
     "text": [
      "Default metric period is 5 because AUC is/are not implemented for GPU\n"
     ]
    },
    {
     "name": "stdout",
     "output_type": "stream",
     "text": [
      "0:\ttest: 0.5274599\tbest: 0.5274599 (0)\ttotal: 53.3ms\tremaining: 1m 46s\n",
      "100:\ttest: 0.6748267\tbest: 0.6750084 (94)\ttotal: 5.65s\tremaining: 1m 46s\n",
      "200:\ttest: 0.6862217\tbest: 0.6862217 (200)\ttotal: 11.5s\tremaining: 1m 42s\n",
      "300:\ttest: 0.6885451\tbest: 0.6887526 (298)\ttotal: 17.3s\tremaining: 1m 37s\n"
     ]
    },
    {
     "name": "stderr",
     "output_type": "stream",
     "text": [
      "[I 2024-07-12 16:56:46,824] Trial 7 finished with value: 0.5029929625639598 and parameters: {'iterations': 2000}. Best is trial 3 with value: 0.5043793569238709.\n"
     ]
    },
    {
     "name": "stdout",
     "output_type": "stream",
     "text": [
      "bestTest = 0.6887526214\n",
      "bestIteration = 298\n",
      "Shrink model to first 299 iterations.\n",
      "Learning rate set to 0.03486\n"
     ]
    },
    {
     "name": "stderr",
     "output_type": "stream",
     "text": [
      "Default metric period is 5 because AUC is/are not implemented for GPU\n"
     ]
    },
    {
     "name": "stdout",
     "output_type": "stream",
     "text": [
      "0:\ttest: 0.5274599\tbest: 0.5274599 (0)\ttotal: 56.7ms\tremaining: 2m 27s\n",
      "100:\ttest: 0.6740567\tbest: 0.6747120 (94)\ttotal: 5.93s\tremaining: 2m 26s\n",
      "200:\ttest: 0.6823274\tbest: 0.6823445 (199)\ttotal: 11.9s\tremaining: 2m 21s\n",
      "300:\ttest: 0.6857532\tbest: 0.6858443 (296)\ttotal: 17.7s\tremaining: 2m 15s\n",
      "400:\ttest: 0.6871719\tbest: 0.6874456 (393)\ttotal: 23.5s\tremaining: 2m 9s\n",
      "500:\ttest: 0.6882660\tbest: 0.6882660 (500)\ttotal: 29.4s\tremaining: 2m 3s\n",
      "600:\ttest: 0.6886754\tbest: 0.6889064 (571)\ttotal: 35.3s\tremaining: 1m 57s\n"
     ]
    },
    {
     "name": "stderr",
     "output_type": "stream",
     "text": [
      "[I 2024-07-12 16:57:26,258] Trial 8 finished with value: 0.5017212405278835 and parameters: {'iterations': 2600}. Best is trial 3 with value: 0.5043793569238709.\n"
     ]
    },
    {
     "name": "stdout",
     "output_type": "stream",
     "text": [
      "bestTest = 0.6889063716\n",
      "bestIteration = 571\n",
      "Shrink model to first 572 iterations.\n",
      "Learning rate set to 0.039693\n"
     ]
    },
    {
     "name": "stderr",
     "output_type": "stream",
     "text": [
      "Default metric period is 5 because AUC is/are not implemented for GPU\n"
     ]
    },
    {
     "name": "stdout",
     "output_type": "stream",
     "text": [
      "0:\ttest: 0.5274599\tbest: 0.5274599 (0)\ttotal: 55.5ms\tremaining: 1m 45s\n",
      "100:\ttest: 0.6751471\tbest: 0.6751471 (100)\ttotal: 5.83s\tremaining: 1m 43s\n",
      "200:\ttest: 0.6849072\tbest: 0.6849072 (200)\ttotal: 11.7s\tremaining: 1m 38s\n",
      "300:\ttest: 0.6866172\tbest: 0.6868700 (296)\ttotal: 17.5s\tremaining: 1m 32s\n",
      "400:\ttest: 0.6873078\tbest: 0.6885313 (380)\ttotal: 23.3s\tremaining: 1m 27s\n",
      "500:\ttest: 0.6874633\tbest: 0.6887113 (435)\ttotal: 29.1s\tremaining: 1m 21s\n"
     ]
    },
    {
     "name": "stderr",
     "output_type": "stream",
     "text": [
      "[I 2024-07-12 16:57:57,434] Trial 9 finished with value: 0.5043220207619536 and parameters: {'iterations': 1900}. Best is trial 3 with value: 0.5043793569238709.\n"
     ]
    },
    {
     "name": "stdout",
     "output_type": "stream",
     "text": [
      "bestTest = 0.6887113452\n",
      "bestIteration = 435\n",
      "Shrink model to first 436 iterations.\n",
      "Learning rate set to 0.063969\n"
     ]
    },
    {
     "name": "stderr",
     "output_type": "stream",
     "text": [
      "Default metric period is 5 because AUC is/are not implemented for GPU\n"
     ]
    },
    {
     "name": "stdout",
     "output_type": "stream",
     "text": [
      "0:\ttest: 0.5274599\tbest: 0.5274599 (0)\ttotal: 54.5ms\tremaining: 32.6s\n",
      "100:\ttest: 0.6787103\tbest: 0.6787103 (100)\ttotal: 5.85s\tremaining: 28.9s\n",
      "200:\ttest: 0.6865453\tbest: 0.6867852 (191)\ttotal: 11.7s\tremaining: 23.2s\n",
      "300:\ttest: 0.6868410\tbest: 0.6884321 (279)\ttotal: 17.5s\tremaining: 17.3s\n"
     ]
    },
    {
     "name": "stderr",
     "output_type": "stream",
     "text": [
      "[I 2024-07-12 16:58:19,550] Trial 10 finished with value: 0.5043793569238709 and parameters: {'iterations': 600}. Best is trial 3 with value: 0.5043793569238709.\n"
     ]
    },
    {
     "name": "stdout",
     "output_type": "stream",
     "text": [
      "bestTest = 0.6884321272\n",
      "bestIteration = 279\n",
      "Shrink model to first 280 iterations.\n",
      "Learning rate set to 0.063969\n"
     ]
    },
    {
     "name": "stderr",
     "output_type": "stream",
     "text": [
      "Default metric period is 5 because AUC is/are not implemented for GPU\n"
     ]
    },
    {
     "name": "stdout",
     "output_type": "stream",
     "text": [
      "0:\ttest: 0.5274599\tbest: 0.5274599 (0)\ttotal: 55.9ms\tremaining: 33.5s\n",
      "100:\ttest: 0.6787103\tbest: 0.6787103 (100)\ttotal: 5.73s\tremaining: 28.3s\n",
      "200:\ttest: 0.6865447\tbest: 0.6867847 (188)\ttotal: 11.4s\tremaining: 22.6s\n",
      "300:\ttest: 0.6871976\tbest: 0.6882565 (289)\ttotal: 17.1s\tremaining: 17s\n"
     ]
    },
    {
     "name": "stderr",
     "output_type": "stream",
     "text": [
      "[I 2024-07-12 16:58:41,750] Trial 11 finished with value: 0.5043793569238709 and parameters: {'iterations': 600}. Best is trial 3 with value: 0.5043793569238709.\n"
     ]
    },
    {
     "name": "stdout",
     "output_type": "stream",
     "text": [
      "bestTest = 0.6882564723\n",
      "bestIteration = 289\n",
      "Shrink model to first 290 iterations.\n",
      "Learning rate set to 0.068984\n"
     ]
    },
    {
     "name": "stderr",
     "output_type": "stream",
     "text": [
      "Default metric period is 5 because AUC is/are not implemented for GPU\n"
     ]
    },
    {
     "name": "stdout",
     "output_type": "stream",
     "text": [
      "0:\ttest: 0.5274599\tbest: 0.5274599 (0)\ttotal: 53.5ms\tremaining: 26.7s\n",
      "100:\ttest: 0.6792789\tbest: 0.6798965 (98)\ttotal: 5.71s\tremaining: 22.6s\n",
      "200:\ttest: 0.6859788\tbest: 0.6863500 (167)\ttotal: 11.5s\tremaining: 17.1s\n",
      "300:\ttest: 0.6877038\tbest: 0.6892033 (254)\ttotal: 17.3s\tremaining: 11.5s\n"
     ]
    },
    {
     "name": "stderr",
     "output_type": "stream",
     "text": [
      "[I 2024-07-12 16:59:02,284] Trial 12 finished with value: 0.5030216306449184 and parameters: {'iterations': 500}. Best is trial 3 with value: 0.5043793569238709.\n"
     ]
    },
    {
     "name": "stdout",
     "output_type": "stream",
     "text": [
      "bestTest = 0.6892032921\n",
      "bestIteration = 254\n",
      "Shrink model to first 255 iterations.\n",
      "Learning rate set to 0.049772\n"
     ]
    },
    {
     "name": "stderr",
     "output_type": "stream",
     "text": [
      "Default metric period is 5 because AUC is/are not implemented for GPU\n"
     ]
    },
    {
     "name": "stdout",
     "output_type": "stream",
     "text": [
      "0:\ttest: 0.5274599\tbest: 0.5274599 (0)\ttotal: 56.9ms\tremaining: 1m 2s\n",
      "100:\ttest: 0.6756279\tbest: 0.6767743 (66)\ttotal: 5.79s\tremaining: 57.3s\n",
      "200:\ttest: 0.6849318\tbest: 0.6851656 (187)\ttotal: 11.6s\tremaining: 52.1s\n",
      "300:\ttest: 0.6865296\tbest: 0.6872064 (262)\ttotal: 17.6s\tremaining: 46.6s\n"
     ]
    },
    {
     "name": "stderr",
     "output_type": "stream",
     "text": [
      "[I 2024-07-12 16:59:23,438] Trial 13 finished with value: 0.501749908608842 and parameters: {'iterations': 1100}. Best is trial 3 with value: 0.5043793569238709.\n"
     ]
    },
    {
     "name": "stdout",
     "output_type": "stream",
     "text": [
      "bestTest = 0.6872064471\n",
      "bestIteration = 262\n",
      "Shrink model to first 263 iterations.\n",
      "Learning rate set to 0.051775\n"
     ]
    },
    {
     "name": "stderr",
     "output_type": "stream",
     "text": [
      "Default metric period is 5 because AUC is/are not implemented for GPU\n"
     ]
    },
    {
     "name": "stdout",
     "output_type": "stream",
     "text": [
      "0:\ttest: 0.5274599\tbest: 0.5274599 (0)\ttotal: 55.3ms\tremaining: 55.2s\n",
      "100:\ttest: 0.6739335\tbest: 0.6739335 (100)\ttotal: 5.83s\tremaining: 51.9s\n",
      "200:\ttest: 0.6811032\tbest: 0.6812040 (179)\ttotal: 11.8s\tremaining: 46.8s\n",
      "300:\ttest: 0.6830626\tbest: 0.6849534 (267)\ttotal: 17.6s\tremaining: 40.9s\n"
     ]
    },
    {
     "name": "stderr",
     "output_type": "stream",
     "text": [
      "[I 2024-07-12 16:59:44,909] Trial 14 finished with value: 0.5011570497122418 and parameters: {'iterations': 1000}. Best is trial 3 with value: 0.5043793569238709.\n"
     ]
    },
    {
     "name": "stdout",
     "output_type": "stream",
     "text": [
      "bestTest = 0.6849533617\n",
      "bestIteration = 267\n",
      "Shrink model to first 268 iterations.\n",
      "Learning rate set to 0.045043\n"
     ]
    },
    {
     "name": "stderr",
     "output_type": "stream",
     "text": [
      "Default metric period is 5 because AUC is/are not implemented for GPU\n"
     ]
    },
    {
     "name": "stdout",
     "output_type": "stream",
     "text": [
      "0:\ttest: 0.5274599\tbest: 0.5274599 (0)\ttotal: 57.7ms\tremaining: 1m 20s\n",
      "100:\ttest: 0.6725152\tbest: 0.6736622 (83)\ttotal: 5.82s\tremaining: 1m 14s\n",
      "200:\ttest: 0.6835974\tbest: 0.6835974 (200)\ttotal: 11.7s\tremaining: 1m 9s\n",
      "300:\ttest: 0.6866093\tbest: 0.6871106 (272)\ttotal: 17.5s\tremaining: 1m 3s\n"
     ]
    },
    {
     "name": "stderr",
     "output_type": "stream",
     "text": [
      "[I 2024-07-12 17:00:06,518] Trial 15 finished with value: 0.5030502987258771 and parameters: {'iterations': 1400}. Best is trial 3 with value: 0.5043793569238709.\n"
     ]
    },
    {
     "name": "stdout",
     "output_type": "stream",
     "text": [
      "bestTest = 0.6871105731\n",
      "bestIteration = 272\n",
      "Shrink model to first 273 iterations.\n",
      "Learning rate set to 0.060014\n"
     ]
    },
    {
     "name": "stderr",
     "output_type": "stream",
     "text": [
      "Default metric period is 5 because AUC is/are not implemented for GPU\n"
     ]
    },
    {
     "name": "stdout",
     "output_type": "stream",
     "text": [
      "0:\ttest: 0.5274599\tbest: 0.5274599 (0)\ttotal: 57.9ms\tremaining: 40.4s\n",
      "100:\ttest: 0.6762115\tbest: 0.6762115 (100)\ttotal: 5.93s\tremaining: 35.2s\n",
      "200:\ttest: 0.6854480\tbest: 0.6856056 (196)\ttotal: 11.8s\tremaining: 29.4s\n",
      "300:\ttest: 0.6877824\tbest: 0.6883259 (266)\ttotal: 17.9s\tremaining: 23.7s\n"
     ]
    },
    {
     "name": "stderr",
     "output_type": "stream",
     "text": [
      "[I 2024-07-12 17:00:28,292] Trial 16 finished with value: 0.5023427675054423 and parameters: {'iterations': 700}. Best is trial 3 with value: 0.5043793569238709.\n"
     ]
    },
    {
     "name": "stdout",
     "output_type": "stream",
     "text": [
      "bestTest = 0.6883259416\n",
      "bestIteration = 266\n",
      "Shrink model to first 267 iterations.\n",
      "Learning rate set to 0.043774\n"
     ]
    },
    {
     "name": "stderr",
     "output_type": "stream",
     "text": [
      "Default metric period is 5 because AUC is/are not implemented for GPU\n"
     ]
    },
    {
     "name": "stdout",
     "output_type": "stream",
     "text": [
      "0:\ttest: 0.5274599\tbest: 0.5274599 (0)\ttotal: 61.9ms\tremaining: 1m 32s\n",
      "100:\ttest: 0.6715037\tbest: 0.6734553 (86)\ttotal: 6.05s\tremaining: 1m 23s\n",
      "200:\ttest: 0.6811129\tbest: 0.6811129 (200)\ttotal: 12.2s\tremaining: 1m 18s\n",
      "300:\ttest: 0.6854400\tbest: 0.6854400 (300)\ttotal: 18.2s\tremaining: 1m 12s\n",
      "400:\ttest: 0.6859198\tbest: 0.6864846 (381)\ttotal: 24.2s\tremaining: 1m 6s\n"
     ]
    },
    {
     "name": "stderr",
     "output_type": "stream",
     "text": [
      "[I 2024-07-12 17:00:57,341] Trial 17 finished with value: 0.5023714355864008 and parameters: {'iterations': 1500}. Best is trial 3 with value: 0.5043793569238709.\n"
     ]
    },
    {
     "name": "stdout",
     "output_type": "stream",
     "text": [
      "bestTest = 0.6864846051\n",
      "bestIteration = 381\n",
      "Shrink model to first 382 iterations.\n",
      "Learning rate set to 0.054084\n"
     ]
    },
    {
     "name": "stderr",
     "output_type": "stream",
     "text": [
      "Default metric period is 5 because AUC is/are not implemented for GPU\n"
     ]
    },
    {
     "name": "stdout",
     "output_type": "stream",
     "text": [
      "0:\ttest: 0.5274599\tbest: 0.5274599 (0)\ttotal: 56.1ms\tremaining: 50.4s\n",
      "100:\ttest: 0.6735114\tbest: 0.6735114 (100)\ttotal: 6.04s\tremaining: 47.8s\n",
      "200:\ttest: 0.6843166\tbest: 0.6845998 (187)\ttotal: 12.1s\tremaining: 42.1s\n",
      "300:\ttest: 0.6857359\tbest: 0.6863181 (259)\ttotal: 18.2s\tremaining: 36.2s\n",
      "400:\ttest: 0.6858827\tbest: 0.6869628 (329)\ttotal: 24.3s\tremaining: 30.2s\n"
     ]
    },
    {
     "name": "stderr",
     "output_type": "stream",
     "text": [
      "[I 2024-07-12 17:01:23,386] Trial 18 finished with value: 0.501749908608842 and parameters: {'iterations': 900}. Best is trial 3 with value: 0.5043793569238709.\n"
     ]
    },
    {
     "name": "stdout",
     "output_type": "stream",
     "text": [
      "bestTest = 0.6869628131\n",
      "bestIteration = 329\n",
      "Shrink model to first 330 iterations.\n",
      "Learning rate set to 0.056786\n"
     ]
    },
    {
     "name": "stderr",
     "output_type": "stream",
     "text": [
      "Default metric period is 5 because AUC is/are not implemented for GPU\n"
     ]
    },
    {
     "name": "stdout",
     "output_type": "stream",
     "text": [
      "0:\ttest: 0.5274599\tbest: 0.5274599 (0)\ttotal: 58.8ms\tremaining: 47s\n",
      "100:\ttest: 0.6740683\tbest: 0.6744176 (51)\ttotal: 6.07s\tremaining: 42s\n",
      "200:\ttest: 0.6873606\tbest: 0.6873620 (199)\ttotal: 12s\tremaining: 35.7s\n"
     ]
    },
    {
     "name": "stderr",
     "output_type": "stream",
     "text": [
      "[I 2024-07-12 17:01:41,793] Trial 19 finished with value: 0.5024001036673595 and parameters: {'iterations': 800}. Best is trial 3 with value: 0.5043793569238709.\n"
     ]
    },
    {
     "name": "stdout",
     "output_type": "stream",
     "text": [
      "bestTest = 0.6880185306\n",
      "bestIteration = 211\n",
      "Shrink model to first 212 iterations.\n",
      "Learning rate set to 0.04262\n"
     ]
    },
    {
     "name": "stderr",
     "output_type": "stream",
     "text": [
      "Default metric period is 5 because AUC is/are not implemented for GPU\n"
     ]
    },
    {
     "name": "stdout",
     "output_type": "stream",
     "text": [
      "0:\ttest: 0.5274599\tbest: 0.5274599 (0)\ttotal: 57ms\tremaining: 1m 31s\n",
      "100:\ttest: 0.6680696\tbest: 0.6700247 (83)\ttotal: 6.1s\tremaining: 1m 30s\n",
      "200:\ttest: 0.6805459\tbest: 0.6805819 (176)\ttotal: 12.2s\tremaining: 1m 25s\n",
      "300:\ttest: 0.6845936\tbest: 0.6849495 (296)\ttotal: 18.3s\tremaining: 1m 18s\n",
      "400:\ttest: 0.6853936\tbest: 0.6853936 (400)\ttotal: 24.4s\tremaining: 1m 12s\n",
      "500:\ttest: 0.6854356\tbest: 0.6862811 (430)\ttotal: 30.5s\tremaining: 1m 6s\n"
     ]
    },
    {
     "name": "stderr",
     "output_type": "stream",
     "text": [
      "[I 2024-07-12 17:02:14,110] Trial 20 finished with value: 0.5024287717483182 and parameters: {'iterations': 1600}. Best is trial 3 with value: 0.5043793569238709.\n"
     ]
    },
    {
     "name": "stdout",
     "output_type": "stream",
     "text": [
      "bestTest = 0.6862811148\n",
      "bestIteration = 430\n",
      "Shrink model to first 431 iterations.\n",
      "Learning rate set to 0.068984\n"
     ]
    },
    {
     "name": "stderr",
     "output_type": "stream",
     "text": [
      "Default metric period is 5 because AUC is/are not implemented for GPU\n"
     ]
    },
    {
     "name": "stdout",
     "output_type": "stream",
     "text": [
      "0:\ttest: 0.5274599\tbest: 0.5274599 (0)\ttotal: 55.5ms\tremaining: 27.7s\n",
      "100:\ttest: 0.6792789\tbest: 0.6798965 (98)\ttotal: 5.82s\tremaining: 23s\n",
      "200:\ttest: 0.6859788\tbest: 0.6863500 (167)\ttotal: 11.7s\tremaining: 17.4s\n",
      "300:\ttest: 0.6877038\tbest: 0.6892033 (254)\ttotal: 17.8s\tremaining: 11.7s\n"
     ]
    },
    {
     "name": "stderr",
     "output_type": "stream",
     "text": [
      "[I 2024-07-12 17:02:35,072] Trial 21 finished with value: 0.5030216306449184 and parameters: {'iterations': 500}. Best is trial 3 with value: 0.5043793569238709.\n"
     ]
    },
    {
     "name": "stdout",
     "output_type": "stream",
     "text": [
      "bestTest = 0.6892032921\n",
      "bestIteration = 254\n",
      "Shrink model to first 255 iterations.\n",
      "Learning rate set to 0.060014\n"
     ]
    },
    {
     "name": "stderr",
     "output_type": "stream",
     "text": [
      "Default metric period is 5 because AUC is/are not implemented for GPU\n"
     ]
    },
    {
     "name": "stdout",
     "output_type": "stream",
     "text": [
      "0:\ttest: 0.5274599\tbest: 0.5274599 (0)\ttotal: 57.5ms\tremaining: 40.2s\n",
      "100:\ttest: 0.6762115\tbest: 0.6762115 (100)\ttotal: 6.05s\tremaining: 35.9s\n",
      "200:\ttest: 0.6854480\tbest: 0.6856056 (196)\ttotal: 12.2s\tremaining: 30.2s\n",
      "300:\ttest: 0.6877824\tbest: 0.6883259 (266)\ttotal: 18.3s\tremaining: 24.3s\n"
     ]
    },
    {
     "name": "stderr",
     "output_type": "stream",
     "text": [
      "[I 2024-07-12 17:02:57,340] Trial 22 finished with value: 0.5023427675054423 and parameters: {'iterations': 700}. Best is trial 3 with value: 0.5043793569238709.\n"
     ]
    },
    {
     "name": "stdout",
     "output_type": "stream",
     "text": [
      "bestTest = 0.6883259416\n",
      "bestIteration = 266\n",
      "Shrink model to first 267 iterations.\n",
      "Number of finished trials: 23\n",
      "Best trial:\n",
      "  Value: 0.5043793569238709\n",
      "  Params: \n",
      "    iterations: 600\n"
     ]
    }
   ],
   "source": [
    "study = optuna.create_study(\n",
    "    pruner=optuna.pruners.MedianPruner(n_warmup_steps=5), direction=\"maximize\"\n",
    ")\n",
    "study.optimize(objective, n_trials=120, timeout=600)\n",
    "\n",
    "print(\"Number of finished trials: {}\".format(len(study.trials)))\n",
    "print(\"Best trial:\")\n",
    "trial = study.best_trial\n",
    "\n",
    "print(\"  Value: {}\".format(trial.value))\n",
    "print(\"  Params: \")\n",
    "for key, value in trial.params.items():\n",
    "    print(\"    {}: {}\".format(key, value))\n",
    "\n",
    "best_params = trial.params"
   ]
  },
  {
   "cell_type": "code",
   "execution_count": 203,
   "metadata": {},
   "outputs": [
    {
     "data": {
      "text/plain": [
       "{'iterations': 600}"
      ]
     },
     "execution_count": 203,
     "metadata": {},
     "output_type": "execute_result"
    }
   ],
   "source": [
    "best_params"
   ]
  },
  {
   "cell_type": "code",
   "execution_count": 204,
   "metadata": {},
   "outputs": [
    {
     "name": "stdout",
     "output_type": "stream",
     "text": [
      "Learning rate set to 0.099907\n",
      "0:\ttest: 0.5047920\tbest: 0.5047920 (0)\ttotal: 60.5ms\tremaining: 36.2s\n",
      "100:\ttest: 0.6766880\tbest: 0.6772351 (69)\ttotal: 6.09s\tremaining: 30.1s\n",
      "200:\ttest: 0.6775306\tbest: 0.6801100 (147)\ttotal: 12.1s\tremaining: 24.1s\n",
      "300:\ttest: 0.6816620\tbest: 0.6821614 (298)\ttotal: 18.1s\tremaining: 18s\n",
      "Stopped by overfitting detector  (80 iterations wait)\n",
      "\n",
      "bestTest = 0.6821614227\n",
      "bestIteration = 298\n",
      "\n",
      "Shrink model to first 299 iterations.\n",
      "ROC-AUC: 0.6822\n"
     ]
    }
   ],
   "source": [
    "clf = CatBoostClassifier(cat_features=cat_features,\n",
    "                         eval_metric='AUC',\n",
    "                         train_dir=\"base\",\n",
    "                         early_stopping_rounds=80,\n",
    "                         random_seed=SEED,\n",
    "#                          task_type=task_type,\n",
    "#                          devices=devices,                             \n",
    "                         **best_params)\n",
    "\n",
    "clf.fit(X_train, Y_train,\n",
    "        eval_set=[(X_test, Y_test)],\n",
    "        verbose=100,\n",
    "        early_stopping_rounds=80,\n",
    "        )\n",
    "# Предсказание вероятностей на тестовой выборке\n",
    "Y_proba = clf.predict_proba(X_test)[:, 1]\n",
    "\n",
    "# Рассчет метрики ROC-AUC\n",
    "roc_auc = roc_auc_score(Y_test, Y_proba)\n",
    "print(f'ROC-AUC: {roc_auc:.4f}')"
   ]
  },
  {
   "cell_type": "code",
   "execution_count": 205,
   "metadata": {},
   "outputs": [
    {
     "data": {
      "image/png": "[encoded data removed]",
      "text/plain": [
       "<Figure size 640x480 with 1 Axes>"
      ]
     },
     "metadata": {},
     "output_type": "display_data"
    }
   ],
   "source": [
    "show_roc_curve(Y_test, Y_proba)"
   ]
  },
  {
   "cell_type": "code",
   "execution_count": 206,
   "metadata": {},
   "outputs": [
    {
     "name": "stderr",
     "output_type": "stream",
     "text": [
      "Default metric period is 5 because AUC is/are not implemented for GPU\n"
     ]
    },
    {
     "name": "stdout",
     "output_type": "stream",
     "text": [
      "0:\ttest: 0.5078242\tbest: 0.5078242 (0)\ttotal: 25.1ms\tremaining: 12.5s\n",
      "100:\ttest: 0.6492525\tbest: 0.6503350 (91)\ttotal: 2.64s\tremaining: 10.4s\n",
      "200:\ttest: 0.6711235\tbest: 0.6711843 (199)\ttotal: 5.35s\tremaining: 7.96s\n",
      "300:\ttest: 0.6762710\tbest: 0.6762710 (300)\ttotal: 8.03s\tremaining: 5.31s\n",
      "400:\ttest: 0.6773821\tbest: 0.6774374 (393)\ttotal: 10.7s\tremaining: 2.64s\n",
      "499:\ttest: 0.6793701\tbest: 0.6793838 (498)\ttotal: 13.3s\tremaining: 0us\n",
      "bestTest = 0.6793838143\n",
      "bestIteration = 498\n",
      "Shrink model to first 499 iterations.\n"
     ]
    },
    {
     "name": "stderr",
     "output_type": "stream",
     "text": [
      "Default metric period is 5 because AUC is/are not implemented for GPU\n"
     ]
    },
    {
     "name": "stdout",
     "output_type": "stream",
     "text": [
      "0:\ttest: 0.5078242\tbest: 0.5078242 (0)\ttotal: 25ms\tremaining: 12.5s\n",
      "100:\ttest: 0.6702237\tbest: 0.6705583 (99)\ttotal: 2.66s\tremaining: 10.5s\n",
      "200:\ttest: 0.6759773\tbest: 0.6759773 (200)\ttotal: 5.37s\tremaining: 7.99s\n",
      "300:\ttest: 0.6803105\tbest: 0.6804742 (293)\ttotal: 8.18s\tremaining: 5.41s\n",
      "400:\ttest: 0.6829726\tbest: 0.6831819 (394)\ttotal: 10.9s\tremaining: 2.68s\n",
      "499:\ttest: 0.6834363\tbest: 0.6837795 (484)\ttotal: 13.5s\tremaining: 0us\n",
      "bestTest = 0.6837794781\n",
      "bestIteration = 484\n",
      "Shrink model to first 485 iterations.\n"
     ]
    },
    {
     "name": "stderr",
     "output_type": "stream",
     "text": [
      "Default metric period is 5 because AUC is/are not implemented for GPU\n"
     ]
    },
    {
     "name": "stdout",
     "output_type": "stream",
     "text": [
      "0:\ttest: 0.5078242\tbest: 0.5078242 (0)\ttotal: 27ms\tremaining: 13.5s\n",
      "100:\ttest: 0.6771752\tbest: 0.6771752 (100)\ttotal: 2.71s\tremaining: 10.7s\n",
      "200:\ttest: 0.6815974\tbest: 0.6815974 (200)\ttotal: 5.41s\tremaining: 8.05s\n",
      "300:\ttest: 0.6852677\tbest: 0.6853830 (293)\ttotal: 8.2s\tremaining: 5.42s\n",
      "400:\ttest: 0.6856081\tbest: 0.6857827 (371)\ttotal: 10.9s\tremaining: 2.69s\n",
      "499:\ttest: 0.6851408\tbest: 0.6860488 (473)\ttotal: 13.5s\tremaining: 0us\n",
      "bestTest = 0.6860488355\n",
      "bestIteration = 473\n",
      "Shrink model to first 474 iterations.\n"
     ]
    },
    {
     "name": "stderr",
     "output_type": "stream",
     "text": [
      "Default metric period is 5 because AUC is/are not implemented for GPU\n"
     ]
    },
    {
     "name": "stdout",
     "output_type": "stream",
     "text": [
      "0:\ttest: 0.5078242\tbest: 0.5078242 (0)\ttotal: 28.9ms\tremaining: 14.4s\n",
      "100:\ttest: 0.6810890\tbest: 0.6813509 (98)\ttotal: 2.67s\tremaining: 10.5s\n",
      "200:\ttest: 0.6830139\tbest: 0.6831466 (197)\ttotal: 5.34s\tremaining: 7.95s\n",
      "300:\ttest: 0.6847503\tbest: 0.6852261 (292)\ttotal: 8.08s\tremaining: 5.34s\n",
      "400:\ttest: 0.6857251\tbest: 0.6860683 (392)\ttotal: 10.8s\tremaining: 2.66s\n",
      "499:\ttest: 0.6849303\tbest: 0.6864044 (447)\ttotal: 13.4s\tremaining: 0us\n",
      "bestTest = 0.686404407\n",
      "bestIteration = 447\n",
      "Shrink model to first 448 iterations.\n"
     ]
    },
    {
     "name": "stderr",
     "output_type": "stream",
     "text": [
      "Default metric period is 5 because AUC is/are not implemented for GPU\n"
     ]
    },
    {
     "name": "stdout",
     "output_type": "stream",
     "text": [
      "0:\ttest: 0.5078242\tbest: 0.5078242 (0)\ttotal: 25.9ms\tremaining: 12.9s\n",
      "100:\ttest: 0.6798923\tbest: 0.6800299 (97)\ttotal: 2.68s\tremaining: 10.6s\n",
      "200:\ttest: 0.6849536\tbest: 0.6849536 (200)\ttotal: 5.36s\tremaining: 7.97s\n",
      "300:\ttest: 0.6861083\tbest: 0.6870912 (283)\ttotal: 8.11s\tremaining: 5.36s\n",
      "400:\ttest: 0.6866882\tbest: 0.6872965 (335)\ttotal: 10.8s\tremaining: 2.67s\n",
      "bestTest = 0.6872964799\n",
      "bestIteration = 335\n",
      "Shrink model to first 336 iterations.\n"
     ]
    },
    {
     "name": "stderr",
     "output_type": "stream",
     "text": [
      "Default metric period is 5 because AUC is/are not implemented for GPU\n"
     ]
    },
    {
     "name": "stdout",
     "output_type": "stream",
     "text": [
      "0:\ttest: 0.5084738\tbest: 0.5084738 (0)\ttotal: 28.3ms\tremaining: 14.1s\n",
      "100:\ttest: 0.6506866\tbest: 0.6518820 (96)\ttotal: 2.62s\tremaining: 10.4s\n",
      "200:\ttest: 0.6695410\tbest: 0.6695437 (199)\ttotal: 5.25s\tremaining: 7.81s\n",
      "300:\ttest: 0.6749203\tbest: 0.6749203 (300)\ttotal: 7.95s\tremaining: 5.25s\n",
      "400:\ttest: 0.6786869\tbest: 0.6786869 (400)\ttotal: 10.7s\tremaining: 2.63s\n",
      "499:\ttest: 0.6798137\tbest: 0.6798726 (486)\ttotal: 13.3s\tremaining: 0us\n",
      "bestTest = 0.6798725724\n",
      "bestIteration = 486\n",
      "Shrink model to first 487 iterations.\n"
     ]
    },
    {
     "name": "stderr",
     "output_type": "stream",
     "text": [
      "Default metric period is 5 because AUC is/are not implemented for GPU\n"
     ]
    },
    {
     "name": "stdout",
     "output_type": "stream",
     "text": [
      "0:\ttest: 0.5084738\tbest: 0.5084738 (0)\ttotal: 25.9ms\tremaining: 12.9s\n",
      "100:\ttest: 0.6708106\tbest: 0.6717027 (98)\ttotal: 2.62s\tremaining: 10.3s\n",
      "200:\ttest: 0.6795127\tbest: 0.6795602 (199)\ttotal: 5.27s\tremaining: 7.84s\n",
      "300:\ttest: 0.6829633\tbest: 0.6829633 (300)\ttotal: 7.97s\tremaining: 5.27s\n",
      "400:\ttest: 0.6851210\tbest: 0.6852394 (394)\ttotal: 10.7s\tremaining: 2.63s\n",
      "499:\ttest: 0.6858264\tbest: 0.6860796 (450)\ttotal: 13.3s\tremaining: 0us\n",
      "bestTest = 0.6860795617\n",
      "bestIteration = 450\n",
      "Shrink model to first 451 iterations.\n"
     ]
    },
    {
     "name": "stderr",
     "output_type": "stream",
     "text": [
      "Default metric period is 5 because AUC is/are not implemented for GPU\n"
     ]
    },
    {
     "name": "stdout",
     "output_type": "stream",
     "text": [
      "0:\ttest: 0.5084738\tbest: 0.5084738 (0)\ttotal: 26ms\tremaining: 13s\n",
      "100:\ttest: 0.6768973\tbest: 0.6771680 (98)\ttotal: 2.67s\tremaining: 10.6s\n",
      "200:\ttest: 0.6797471\tbest: 0.6797471 (200)\ttotal: 5.36s\tremaining: 7.97s\n",
      "300:\ttest: 0.6835499\tbest: 0.6838612 (292)\ttotal: 8.06s\tremaining: 5.33s\n",
      "400:\ttest: 0.6850677\tbest: 0.6852179 (393)\ttotal: 10.8s\tremaining: 2.66s\n",
      "499:\ttest: 0.6862697\tbest: 0.6867624 (473)\ttotal: 13.5s\tremaining: 0us\n",
      "bestTest = 0.6867624223\n",
      "bestIteration = 473\n",
      "Shrink model to first 474 iterations.\n"
     ]
    },
    {
     "name": "stderr",
     "output_type": "stream",
     "text": [
      "Default metric period is 5 because AUC is/are not implemented for GPU\n"
     ]
    },
    {
     "name": "stdout",
     "output_type": "stream",
     "text": [
      "0:\ttest: 0.5084738\tbest: 0.5084738 (0)\ttotal: 27.8ms\tremaining: 13.9s\n",
      "100:\ttest: 0.6812730\tbest: 0.6817286 (97)\ttotal: 2.77s\tremaining: 11s\n",
      "200:\ttest: 0.6846664\tbest: 0.6847012 (198)\ttotal: 5.48s\tremaining: 8.16s\n",
      "300:\ttest: 0.6872901\tbest: 0.6877297 (290)\ttotal: 8.2s\tremaining: 5.42s\n",
      "400:\ttest: 0.6881389\tbest: 0.6884671 (327)\ttotal: 11s\tremaining: 2.71s\n",
      "bestTest = 0.688467145\n",
      "bestIteration = 327\n",
      "Shrink model to first 328 iterations.\n"
     ]
    },
    {
     "name": "stderr",
     "output_type": "stream",
     "text": [
      "Default metric period is 5 because AUC is/are not implemented for GPU\n"
     ]
    },
    {
     "name": "stdout",
     "output_type": "stream",
     "text": [
      "0:\ttest: 0.5084738\tbest: 0.5084738 (0)\ttotal: 28.4ms\tremaining: 14.2s\n",
      "100:\ttest: 0.6804118\tbest: 0.6806776 (96)\ttotal: 2.73s\tremaining: 10.8s\n",
      "200:\ttest: 0.6832027\tbest: 0.6832707 (188)\ttotal: 5.49s\tremaining: 8.17s\n",
      "300:\ttest: 0.6846703\tbest: 0.6848169 (295)\ttotal: 8.28s\tremaining: 5.47s\n",
      "400:\ttest: 0.6853453\tbest: 0.6864261 (366)\ttotal: 11s\tremaining: 2.72s\n",
      "bestTest = 0.6864261031\n",
      "bestIteration = 366\n",
      "Shrink model to first 367 iterations.\n"
     ]
    },
    {
     "name": "stderr",
     "output_type": "stream",
     "text": [
      "Default metric period is 5 because AUC is/are not implemented for GPU\n"
     ]
    },
    {
     "name": "stdout",
     "output_type": "stream",
     "text": [
      "0:\ttest: 0.4998853\tbest: 0.4998853 (0)\ttotal: 25.5ms\tremaining: 12.7s\n",
      "100:\ttest: 0.6489863\tbest: 0.6506839 (86)\ttotal: 2.71s\tremaining: 10.7s\n",
      "200:\ttest: 0.6705132\tbest: 0.6705132 (200)\ttotal: 5.36s\tremaining: 7.97s\n",
      "300:\ttest: 0.6752197\tbest: 0.6752197 (300)\ttotal: 8.08s\tremaining: 5.34s\n",
      "400:\ttest: 0.6793580\tbest: 0.6793580 (400)\ttotal: 10.8s\tremaining: 2.66s\n",
      "499:\ttest: 0.6813241\tbest: 0.6813366 (481)\ttotal: 13.5s\tremaining: 0us\n",
      "bestTest = 0.6813366115\n",
      "bestIteration = 481\n",
      "Shrink model to first 482 iterations.\n"
     ]
    },
    {
     "name": "stderr",
     "output_type": "stream",
     "text": [
      "Default metric period is 5 because AUC is/are not implemented for GPU\n"
     ]
    },
    {
     "name": "stdout",
     "output_type": "stream",
     "text": [
      "0:\ttest: 0.4998853\tbest: 0.4998853 (0)\ttotal: 25.2ms\tremaining: 12.6s\n",
      "100:\ttest: 0.6717128\tbest: 0.6726654 (98)\ttotal: 2.73s\tremaining: 10.8s\n",
      "200:\ttest: 0.6784606\tbest: 0.6786014 (199)\ttotal: 5.44s\tremaining: 8.1s\n",
      "300:\ttest: 0.6835144\tbest: 0.6835375 (293)\ttotal: 8.18s\tremaining: 5.41s\n",
      "400:\ttest: 0.6857551\tbest: 0.6857882 (394)\ttotal: 10.9s\tremaining: 2.69s\n",
      "499:\ttest: 0.6877177\tbest: 0.6877362 (498)\ttotal: 13.6s\tremaining: 0us\n",
      "bestTest = 0.6877361834\n",
      "bestIteration = 498\n",
      "Shrink model to first 499 iterations.\n"
     ]
    },
    {
     "name": "stderr",
     "output_type": "stream",
     "text": [
      "Default metric period is 5 because AUC is/are not implemented for GPU\n"
     ]
    },
    {
     "name": "stdout",
     "output_type": "stream",
     "text": [
      "0:\ttest: 0.4998853\tbest: 0.4998853 (0)\ttotal: 25.5ms\tremaining: 12.7s\n",
      "100:\ttest: 0.6767732\tbest: 0.6767978 (96)\ttotal: 2.73s\tremaining: 10.8s\n",
      "200:\ttest: 0.6833034\tbest: 0.6833051 (199)\ttotal: 5.44s\tremaining: 8.09s\n",
      "300:\ttest: 0.6857785\tbest: 0.6859260 (292)\ttotal: 8.21s\tremaining: 5.43s\n",
      "400:\ttest: 0.6883433\tbest: 0.6883897 (390)\ttotal: 10.9s\tremaining: 2.7s\n",
      "499:\ttest: 0.6890738\tbest: 0.6892364 (481)\ttotal: 13.7s\tremaining: 0us\n",
      "bestTest = 0.6892363727\n",
      "bestIteration = 481\n",
      "Shrink model to first 482 iterations.\n"
     ]
    },
    {
     "name": "stderr",
     "output_type": "stream",
     "text": [
      "Default metric period is 5 because AUC is/are not implemented for GPU\n"
     ]
    },
    {
     "name": "stdout",
     "output_type": "stream",
     "text": [
      "0:\ttest: 0.4998853\tbest: 0.4998853 (0)\ttotal: 26.2ms\tremaining: 13.1s\n",
      "100:\ttest: 0.6813512\tbest: 0.6817074 (97)\ttotal: 2.76s\tremaining: 10.9s\n",
      "200:\ttest: 0.6861601\tbest: 0.6861882 (198)\ttotal: 5.49s\tremaining: 8.17s\n",
      "300:\ttest: 0.6884089\tbest: 0.6885352 (290)\ttotal: 8.22s\tremaining: 5.43s\n",
      "400:\ttest: 0.6895119\tbest: 0.6902301 (391)\ttotal: 11s\tremaining: 2.71s\n",
      "499:\ttest: 0.6895765\tbest: 0.6903017 (478)\ttotal: 13.7s\tremaining: 0us\n",
      "bestTest = 0.6903017163\n",
      "bestIteration = 478\n",
      "Shrink model to first 479 iterations.\n"
     ]
    },
    {
     "name": "stderr",
     "output_type": "stream",
     "text": [
      "Default metric period is 5 because AUC is/are not implemented for GPU\n"
     ]
    },
    {
     "name": "stdout",
     "output_type": "stream",
     "text": [
      "0:\ttest: 0.4998853\tbest: 0.4998853 (0)\ttotal: 25.4ms\tremaining: 12.7s\n",
      "100:\ttest: 0.6814512\tbest: 0.6815825 (96)\ttotal: 2.74s\tremaining: 10.8s\n",
      "200:\ttest: 0.6853347\tbest: 0.6853347 (200)\ttotal: 5.4s\tremaining: 8.04s\n",
      "300:\ttest: 0.6885412\tbest: 0.6886481 (294)\ttotal: 8.08s\tremaining: 5.34s\n",
      "bestTest = 0.6886481047\n",
      "bestIteration = 294\n",
      "Shrink model to first 295 iterations.\n"
     ]
    },
    {
     "name": "stderr",
     "output_type": "stream",
     "text": [
      "Default metric period is 5 because AUC is/are not implemented for GPU\n"
     ]
    },
    {
     "name": "stdout",
     "output_type": "stream",
     "text": [
      "0:\ttest: 0.4998853\tbest: 0.4998853 (0)\ttotal: 25.3ms\tremaining: 12.6s\n",
      "100:\ttest: 0.6481019\tbest: 0.6489938 (94)\ttotal: 2.6s\tremaining: 10.3s\n",
      "200:\ttest: 0.6710037\tbest: 0.6710037 (200)\ttotal: 5.22s\tremaining: 7.76s\n",
      "300:\ttest: 0.6763496\tbest: 0.6763496 (300)\ttotal: 7.94s\tremaining: 5.25s\n",
      "400:\ttest: 0.6803890\tbest: 0.6804180 (398)\ttotal: 10.6s\tremaining: 2.62s\n",
      "499:\ttest: 0.6817445\tbest: 0.6817982 (489)\ttotal: 13.3s\tremaining: 0us\n",
      "bestTest = 0.6817981601\n",
      "bestIteration = 489\n",
      "Shrink model to first 490 iterations.\n"
     ]
    },
    {
     "name": "stderr",
     "output_type": "stream",
     "text": [
      "Default metric period is 5 because AUC is/are not implemented for GPU\n"
     ]
    },
    {
     "name": "stdout",
     "output_type": "stream",
     "text": [
      "0:\ttest: 0.4998853\tbest: 0.4998853 (0)\ttotal: 24.7ms\tremaining: 12.3s\n",
      "100:\ttest: 0.6728513\tbest: 0.6736284 (98)\ttotal: 2.66s\tremaining: 10.5s\n",
      "200:\ttest: 0.6804642\tbest: 0.6804642 (200)\ttotal: 5.34s\tremaining: 7.94s\n",
      "300:\ttest: 0.6851104\tbest: 0.6851614 (295)\ttotal: 8.11s\tremaining: 5.36s\n",
      "400:\ttest: 0.6873998\tbest: 0.6874555 (396)\ttotal: 10.9s\tremaining: 2.69s\n",
      "499:\ttest: 0.6876217\tbest: 0.6877196 (489)\ttotal: 13.6s\tremaining: 0us\n",
      "bestTest = 0.6877195537\n",
      "bestIteration = 489\n",
      "Shrink model to first 490 iterations.\n"
     ]
    },
    {
     "name": "stderr",
     "output_type": "stream",
     "text": [
      "Default metric period is 5 because AUC is/are not implemented for GPU\n"
     ]
    },
    {
     "name": "stdout",
     "output_type": "stream",
     "text": [
      "0:\ttest: 0.4998853\tbest: 0.4998853 (0)\ttotal: 26.6ms\tremaining: 13.3s\n",
      "100:\ttest: 0.6792883\tbest: 0.6792883 (100)\ttotal: 2.67s\tremaining: 10.5s\n",
      "200:\ttest: 0.6831379\tbest: 0.6832939 (198)\ttotal: 5.33s\tremaining: 7.93s\n",
      "300:\ttest: 0.6863819\tbest: 0.6865558 (292)\ttotal: 8.05s\tremaining: 5.32s\n",
      "400:\ttest: 0.6881263\tbest: 0.6882990 (392)\ttotal: 10.7s\tremaining: 2.65s\n",
      "499:\ttest: 0.6894912\tbest: 0.6894912 (499)\ttotal: 13.4s\tremaining: 0us\n",
      "bestTest = 0.6894911528\n",
      "bestIteration = 499\n"
     ]
    },
    {
     "name": "stderr",
     "output_type": "stream",
     "text": [
      "Default metric period is 5 because AUC is/are not implemented for GPU\n"
     ]
    },
    {
     "name": "stdout",
     "output_type": "stream",
     "text": [
      "0:\ttest: 0.4998853\tbest: 0.4998853 (0)\ttotal: 25ms\tremaining: 12.5s\n",
      "100:\ttest: 0.6818265\tbest: 0.6823867 (97)\ttotal: 2.67s\tremaining: 10.6s\n",
      "200:\ttest: 0.6851378\tbest: 0.6851600 (198)\ttotal: 5.35s\tremaining: 7.95s\n",
      "300:\ttest: 0.6873980\tbest: 0.6875722 (293)\ttotal: 8.07s\tremaining: 5.34s\n",
      "400:\ttest: 0.6891629\tbest: 0.6896008 (391)\ttotal: 10.8s\tremaining: 2.66s\n",
      "bestTest = 0.6896007657\n",
      "bestIteration = 391\n",
      "Shrink model to first 392 iterations.\n"
     ]
    },
    {
     "name": "stderr",
     "output_type": "stream",
     "text": [
      "Default metric period is 5 because AUC is/are not implemented for GPU\n"
     ]
    },
    {
     "name": "stdout",
     "output_type": "stream",
     "text": [
      "0:\ttest: 0.4998853\tbest: 0.4998853 (0)\ttotal: 24.6ms\tremaining: 12.3s\n",
      "100:\ttest: 0.6811063\tbest: 0.6813488 (96)\ttotal: 2.67s\tremaining: 10.5s\n",
      "200:\ttest: 0.6860135\tbest: 0.6860923 (198)\ttotal: 5.33s\tremaining: 7.93s\n",
      "300:\ttest: 0.6898552\tbest: 0.6898552 (300)\ttotal: 8.06s\tremaining: 5.33s\n",
      "bestTest = 0.6898554564\n",
      "bestIteration = 301\n",
      "Shrink model to first 302 iterations.\n"
     ]
    },
    {
     "name": "stderr",
     "output_type": "stream",
     "text": [
      "Default metric period is 5 because AUC is/are not implemented for GPU\n"
     ]
    },
    {
     "name": "stdout",
     "output_type": "stream",
     "text": [
      "0:\ttest: 0.4998853\tbest: 0.4998853 (0)\ttotal: 25.6ms\tremaining: 12.8s\n",
      "100:\ttest: 0.6485182\tbest: 0.6490508 (94)\ttotal: 2.59s\tremaining: 10.2s\n",
      "200:\ttest: 0.6718477\tbest: 0.6718477 (200)\ttotal: 5.2s\tremaining: 7.74s\n",
      "300:\ttest: 0.6763064\tbest: 0.6763064 (300)\ttotal: 7.85s\tremaining: 5.19s\n",
      "400:\ttest: 0.6805996\tbest: 0.6806325 (398)\ttotal: 10.5s\tremaining: 2.59s\n",
      "499:\ttest: 0.6826240\tbest: 0.6826272 (498)\ttotal: 13.2s\tremaining: 0us\n",
      "bestTest = 0.6826271713\n",
      "bestIteration = 498\n",
      "Shrink model to first 499 iterations.\n"
     ]
    },
    {
     "name": "stderr",
     "output_type": "stream",
     "text": [
      "Default metric period is 5 because AUC is/are not implemented for GPU\n"
     ]
    },
    {
     "name": "stdout",
     "output_type": "stream",
     "text": [
      "0:\ttest: 0.4998853\tbest: 0.4998853 (0)\ttotal: 24.8ms\tremaining: 12.4s\n",
      "100:\ttest: 0.6745645\tbest: 0.6745645 (100)\ttotal: 2.61s\tremaining: 10.3s\n",
      "200:\ttest: 0.6797347\tbest: 0.6797347 (200)\ttotal: 5.25s\tremaining: 7.81s\n",
      "300:\ttest: 0.6851266\tbest: 0.6852221 (295)\ttotal: 7.91s\tremaining: 5.23s\n",
      "400:\ttest: 0.6873258\tbest: 0.6874385 (396)\ttotal: 10.5s\tremaining: 2.6s\n",
      "bestTest = 0.687438488\n",
      "bestIteration = 396\n",
      "Shrink model to first 397 iterations.\n"
     ]
    },
    {
     "name": "stderr",
     "output_type": "stream",
     "text": [
      "Default metric period is 5 because AUC is/are not implemented for GPU\n"
     ]
    },
    {
     "name": "stdout",
     "output_type": "stream",
     "text": [
      "0:\ttest: 0.4998853\tbest: 0.4998853 (0)\ttotal: 24.7ms\tremaining: 12.3s\n",
      "100:\ttest: 0.6808272\tbest: 0.6808272 (100)\ttotal: 2.63s\tremaining: 10.4s\n",
      "200:\ttest: 0.6837032\tbest: 0.6838406 (198)\ttotal: 5.26s\tremaining: 7.83s\n",
      "300:\ttest: 0.6872940\tbest: 0.6875029 (290)\ttotal: 7.93s\tremaining: 5.25s\n",
      "bestTest = 0.6875028908\n",
      "bestIteration = 290\n",
      "Shrink model to first 291 iterations.\n"
     ]
    },
    {
     "name": "stderr",
     "output_type": "stream",
     "text": [
      "Default metric period is 5 because AUC is/are not implemented for GPU\n"
     ]
    },
    {
     "name": "stdout",
     "output_type": "stream",
     "text": [
      "0:\ttest: 0.4998853\tbest: 0.4998853 (0)\ttotal: 25.3ms\tremaining: 12.6s\n",
      "100:\ttest: 0.6823298\tbest: 0.6826855 (97)\ttotal: 2.65s\tremaining: 10.5s\n",
      "200:\ttest: 0.6852681\tbest: 0.6853007 (198)\ttotal: 5.39s\tremaining: 8.02s\n",
      "300:\ttest: 0.6874004\tbest: 0.6876012 (292)\ttotal: 8.08s\tremaining: 5.34s\n",
      "400:\ttest: 0.6895162\tbest: 0.6898062 (391)\ttotal: 10.8s\tremaining: 2.66s\n",
      "499:\ttest: 0.6908430\tbest: 0.6908576 (496)\ttotal: 13.5s\tremaining: 0us\n",
      "bestTest = 0.6908576488\n",
      "bestIteration = 496\n",
      "Shrink model to first 497 iterations.\n"
     ]
    },
    {
     "name": "stderr",
     "output_type": "stream",
     "text": [
      "Default metric period is 5 because AUC is/are not implemented for GPU\n"
     ]
    },
    {
     "name": "stdout",
     "output_type": "stream",
     "text": [
      "0:\ttest: 0.4998853\tbest: 0.4998853 (0)\ttotal: 25.9ms\tremaining: 12.9s\n",
      "100:\ttest: 0.6801271\tbest: 0.6803787 (97)\ttotal: 2.72s\tremaining: 10.8s\n",
      "200:\ttest: 0.6854017\tbest: 0.6854751 (198)\ttotal: 5.52s\tremaining: 8.21s\n",
      "300:\ttest: 0.6875886\tbest: 0.6878211 (291)\ttotal: 8.28s\tremaining: 5.48s\n",
      "400:\ttest: 0.6894236\tbest: 0.6895436 (392)\ttotal: 11.1s\tremaining: 2.73s\n",
      "bestTest = 0.6895436049\n",
      "bestIteration = 392\n",
      "Shrink model to first 393 iterations.\n"
     ]
    },
    {
     "name": "stderr",
     "output_type": "stream",
     "text": [
      "Default metric period is 5 because AUC is/are not implemented for GPU\n"
     ]
    },
    {
     "name": "stdout",
     "output_type": "stream",
     "text": [
      "0:\ttest: 0.5078242\tbest: 0.5078242 (0)\ttotal: 26ms\tremaining: 26s\n",
      "100:\ttest: 0.6492525\tbest: 0.6503350 (91)\ttotal: 2.67s\tremaining: 23.8s\n",
      "200:\ttest: 0.6711235\tbest: 0.6711843 (199)\ttotal: 5.42s\tremaining: 21.6s\n",
      "300:\ttest: 0.6762710\tbest: 0.6762710 (300)\ttotal: 8.11s\tremaining: 18.8s\n",
      "400:\ttest: 0.6773821\tbest: 0.6774374 (393)\ttotal: 10.8s\tremaining: 16.1s\n",
      "500:\ttest: 0.6793835\tbest: 0.6793838 (498)\ttotal: 13.4s\tremaining: 13.4s\n",
      "600:\ttest: 0.6805359\tbest: 0.6809461 (569)\ttotal: 16.1s\tremaining: 10.7s\n",
      "700:\ttest: 0.6816303\tbest: 0.6817195 (666)\ttotal: 18.8s\tremaining: 8s\n",
      "800:\ttest: 0.6836059\tbest: 0.6836059 (800)\ttotal: 21.5s\tremaining: 5.34s\n",
      "900:\ttest: 0.6835772\tbest: 0.6837336 (826)\ttotal: 24.2s\tremaining: 2.66s\n",
      "bestTest = 0.6837336421\n",
      "bestIteration = 826\n",
      "Shrink model to first 827 iterations.\n"
     ]
    },
    {
     "name": "stderr",
     "output_type": "stream",
     "text": [
      "Default metric period is 5 because AUC is/are not implemented for GPU\n"
     ]
    },
    {
     "name": "stdout",
     "output_type": "stream",
     "text": [
      "0:\ttest: 0.5078242\tbest: 0.5078242 (0)\ttotal: 26ms\tremaining: 25.9s\n",
      "100:\ttest: 0.6702236\tbest: 0.6705580 (99)\ttotal: 2.68s\tremaining: 23.9s\n",
      "200:\ttest: 0.6759771\tbest: 0.6759771 (200)\ttotal: 5.37s\tremaining: 21.3s\n",
      "300:\ttest: 0.6802822\tbest: 0.6804430 (293)\ttotal: 8.09s\tremaining: 18.8s\n",
      "400:\ttest: 0.6829433\tbest: 0.6831520 (394)\ttotal: 10.8s\tremaining: 16.1s\n",
      "500:\ttest: 0.6834704\tbest: 0.6837534 (484)\ttotal: 13.4s\tremaining: 13.4s\n",
      "600:\ttest: 0.6840104\tbest: 0.6840311 (599)\ttotal: 16.1s\tremaining: 10.7s\n",
      "700:\ttest: 0.6850267\tbest: 0.6851989 (696)\ttotal: 18.8s\tremaining: 8s\n",
      "800:\ttest: 0.6871715\tbest: 0.6871715 (800)\ttotal: 21.4s\tremaining: 5.32s\n",
      "900:\ttest: 0.6875853\tbest: 0.6876385 (892)\ttotal: 24.1s\tremaining: 2.64s\n",
      "999:\ttest: 0.6884249\tbest: 0.6885751 (995)\ttotal: 26.7s\tremaining: 0us\n",
      "bestTest = 0.688575089\n",
      "bestIteration = 995\n",
      "Shrink model to first 996 iterations.\n"
     ]
    },
    {
     "name": "stderr",
     "output_type": "stream",
     "text": [
      "Default metric period is 5 because AUC is/are not implemented for GPU\n"
     ]
    },
    {
     "name": "stdout",
     "output_type": "stream",
     "text": [
      "0:\ttest: 0.5078242\tbest: 0.5078242 (0)\ttotal: 25.6ms\tremaining: 25.5s\n",
      "100:\ttest: 0.6771752\tbest: 0.6771752 (100)\ttotal: 2.65s\tremaining: 23.6s\n",
      "200:\ttest: 0.6815974\tbest: 0.6815974 (200)\ttotal: 5.29s\tremaining: 21.1s\n",
      "300:\ttest: 0.6852747\tbest: 0.6853923 (293)\ttotal: 7.97s\tremaining: 18.5s\n",
      "400:\ttest: 0.6856118\tbest: 0.6857874 (371)\ttotal: 10.7s\tremaining: 15.9s\n",
      "bestTest = 0.6857874095\n",
      "bestIteration = 371\n",
      "Shrink model to first 372 iterations.\n"
     ]
    },
    {
     "name": "stderr",
     "output_type": "stream",
     "text": [
      "Default metric period is 5 because AUC is/are not implemented for GPU\n"
     ]
    },
    {
     "name": "stdout",
     "output_type": "stream",
     "text": [
      "0:\ttest: 0.5078242\tbest: 0.5078242 (0)\ttotal: 24.8ms\tremaining: 24.8s\n",
      "100:\ttest: 0.6810890\tbest: 0.6813509 (98)\ttotal: 2.72s\tremaining: 24.2s\n",
      "200:\ttest: 0.6829453\tbest: 0.6830774 (197)\ttotal: 5.43s\tremaining: 21.6s\n",
      "300:\ttest: 0.6847214\tbest: 0.6851889 (292)\ttotal: 8.19s\tremaining: 19s\n",
      "400:\ttest: 0.6856982\tbest: 0.6860408 (392)\ttotal: 10.9s\tremaining: 16.3s\n",
      "500:\ttest: 0.6849424\tbest: 0.6863798 (447)\ttotal: 13.7s\tremaining: 13.7s\n",
      "bestTest = 0.6863797903\n",
      "bestIteration = 447\n",
      "Shrink model to first 448 iterations.\n"
     ]
    },
    {
     "name": "stderr",
     "output_type": "stream",
     "text": [
      "Default metric period is 5 because AUC is/are not implemented for GPU\n"
     ]
    },
    {
     "name": "stdout",
     "output_type": "stream",
     "text": [
      "0:\ttest: 0.5078242\tbest: 0.5078242 (0)\ttotal: 25.7ms\tremaining: 25.7s\n",
      "100:\ttest: 0.6798923\tbest: 0.6800299 (97)\ttotal: 2.75s\tremaining: 24.5s\n",
      "200:\ttest: 0.6849536\tbest: 0.6849536 (200)\ttotal: 5.49s\tremaining: 21.8s\n",
      "300:\ttest: 0.6861083\tbest: 0.6870912 (283)\ttotal: 8.24s\tremaining: 19.1s\n",
      "400:\ttest: 0.6866882\tbest: 0.6872965 (335)\ttotal: 11s\tremaining: 16.4s\n",
      "bestTest = 0.6872964799\n",
      "bestIteration = 335\n",
      "Shrink model to first 336 iterations.\n"
     ]
    },
    {
     "name": "stderr",
     "output_type": "stream",
     "text": [
      "Default metric period is 5 because AUC is/are not implemented for GPU\n"
     ]
    },
    {
     "name": "stdout",
     "output_type": "stream",
     "text": [
      "0:\ttest: 0.5084738\tbest: 0.5084738 (0)\ttotal: 26ms\tremaining: 26s\n",
      "100:\ttest: 0.6506866\tbest: 0.6518820 (96)\ttotal: 2.76s\tremaining: 24.6s\n",
      "200:\ttest: 0.6695410\tbest: 0.6695437 (199)\ttotal: 5.49s\tremaining: 21.8s\n",
      "300:\ttest: 0.6749203\tbest: 0.6749203 (300)\ttotal: 8.27s\tremaining: 19.2s\n",
      "400:\ttest: 0.6786869\tbest: 0.6786869 (400)\ttotal: 11s\tremaining: 16.5s\n",
      "500:\ttest: 0.6798440\tbest: 0.6798726 (486)\ttotal: 13.8s\tremaining: 13.7s\n",
      "600:\ttest: 0.6811636\tbest: 0.6811642 (597)\ttotal: 16.6s\tremaining: 11s\n",
      "700:\ttest: 0.6817574\tbest: 0.6819403 (640)\ttotal: 19.3s\tremaining: 8.23s\n",
      "800:\ttest: 0.6834639\tbest: 0.6834713 (797)\ttotal: 22s\tremaining: 5.47s\n",
      "900:\ttest: 0.6839378\tbest: 0.6839387 (897)\ttotal: 24.8s\tremaining: 2.72s\n",
      "999:\ttest: 0.6844229\tbest: 0.6844229 (999)\ttotal: 27.5s\tremaining: 0us\n",
      "bestTest = 0.6844228804\n",
      "bestIteration = 999\n"
     ]
    },
    {
     "name": "stderr",
     "output_type": "stream",
     "text": [
      "Default metric period is 5 because AUC is/are not implemented for GPU\n"
     ]
    },
    {
     "name": "stdout",
     "output_type": "stream",
     "text": [
      "0:\ttest: 0.5084738\tbest: 0.5084738 (0)\ttotal: 25.8ms\tremaining: 25.8s\n",
      "100:\ttest: 0.6708106\tbest: 0.6717027 (98)\ttotal: 2.68s\tremaining: 23.9s\n",
      "200:\ttest: 0.6795127\tbest: 0.6795602 (199)\ttotal: 5.32s\tremaining: 21.1s\n",
      "300:\ttest: 0.6829633\tbest: 0.6829633 (300)\ttotal: 7.99s\tremaining: 18.6s\n",
      "400:\ttest: 0.6851210\tbest: 0.6852394 (394)\ttotal: 10.6s\tremaining: 15.9s\n",
      "500:\ttest: 0.6858697\tbest: 0.6860796 (450)\ttotal: 13.3s\tremaining: 13.2s\n",
      "600:\ttest: 0.6863745\tbest: 0.6866394 (549)\ttotal: 15.9s\tremaining: 10.6s\n",
      "700:\ttest: 0.6873466\tbest: 0.6873673 (688)\ttotal: 18.7s\tremaining: 7.98s\n",
      "800:\ttest: 0.6879373\tbest: 0.6879552 (799)\ttotal: 21.4s\tremaining: 5.31s\n",
      "900:\ttest: 0.6889318\tbest: 0.6889318 (900)\ttotal: 24.1s\tremaining: 2.65s\n",
      "999:\ttest: 0.6901959\tbest: 0.6901959 (999)\ttotal: 26.7s\tremaining: 0us\n",
      "bestTest = 0.6901958585\n",
      "bestIteration = 999\n"
     ]
    },
    {
     "name": "stderr",
     "output_type": "stream",
     "text": [
      "Default metric period is 5 because AUC is/are not implemented for GPU\n"
     ]
    },
    {
     "name": "stdout",
     "output_type": "stream",
     "text": [
      "0:\ttest: 0.5084738\tbest: 0.5084738 (0)\ttotal: 24.8ms\tremaining: 24.8s\n",
      "100:\ttest: 0.6768973\tbest: 0.6771680 (98)\ttotal: 2.63s\tremaining: 23.4s\n",
      "200:\ttest: 0.6797471\tbest: 0.6797471 (200)\ttotal: 5.34s\tremaining: 21.2s\n",
      "300:\ttest: 0.6835385\tbest: 0.6838612 (292)\ttotal: 8.01s\tremaining: 18.6s\n",
      "400:\ttest: 0.6850596\tbest: 0.6852089 (393)\ttotal: 10.7s\tremaining: 16s\n",
      "500:\ttest: 0.6863095\tbest: 0.6867550 (473)\ttotal: 13.4s\tremaining: 13.3s\n",
      "bestTest = 0.6867550313\n",
      "bestIteration = 473\n",
      "Shrink model to first 474 iterations.\n"
     ]
    },
    {
     "name": "stderr",
     "output_type": "stream",
     "text": [
      "Default metric period is 5 because AUC is/are not implemented for GPU\n"
     ]
    },
    {
     "name": "stdout",
     "output_type": "stream",
     "text": [
      "0:\ttest: 0.5084738\tbest: 0.5084738 (0)\ttotal: 24.9ms\tremaining: 24.8s\n",
      "100:\ttest: 0.6812739\tbest: 0.6817296 (97)\ttotal: 2.67s\tremaining: 23.7s\n",
      "200:\ttest: 0.6846685\tbest: 0.6847026 (198)\ttotal: 5.38s\tremaining: 21.4s\n",
      "300:\ttest: 0.6872913\tbest: 0.6877301 (290)\ttotal: 8.08s\tremaining: 18.8s\n",
      "400:\ttest: 0.6881411\tbest: 0.6884689 (327)\ttotal: 10.9s\tremaining: 16.2s\n",
      "bestTest = 0.6884689033\n",
      "bestIteration = 327\n",
      "Shrink model to first 328 iterations.\n"
     ]
    },
    {
     "name": "stderr",
     "output_type": "stream",
     "text": [
      "Default metric period is 5 because AUC is/are not implemented for GPU\n"
     ]
    },
    {
     "name": "stdout",
     "output_type": "stream",
     "text": [
      "0:\ttest: 0.5084738\tbest: 0.5084738 (0)\ttotal: 29ms\tremaining: 28.9s\n",
      "100:\ttest: 0.6804118\tbest: 0.6806776 (96)\ttotal: 2.65s\tremaining: 23.5s\n",
      "200:\ttest: 0.6832027\tbest: 0.6832707 (188)\ttotal: 5.35s\tremaining: 21.3s\n",
      "300:\ttest: 0.6846956\tbest: 0.6848425 (295)\ttotal: 8.12s\tremaining: 18.9s\n",
      "400:\ttest: 0.6853654\tbest: 0.6864482 (366)\ttotal: 10.8s\tremaining: 16.1s\n",
      "bestTest = 0.6864481866\n",
      "bestIteration = 366\n",
      "Shrink model to first 367 iterations.\n"
     ]
    },
    {
     "name": "stderr",
     "output_type": "stream",
     "text": [
      "Default metric period is 5 because AUC is/are not implemented for GPU\n"
     ]
    },
    {
     "name": "stdout",
     "output_type": "stream",
     "text": [
      "0:\ttest: 0.4998853\tbest: 0.4998853 (0)\ttotal: 24.6ms\tremaining: 24.6s\n",
      "100:\ttest: 0.6489863\tbest: 0.6506839 (86)\ttotal: 2.62s\tremaining: 23.3s\n",
      "200:\ttest: 0.6705132\tbest: 0.6705132 (200)\ttotal: 5.29s\tremaining: 21s\n",
      "300:\ttest: 0.6752197\tbest: 0.6752197 (300)\ttotal: 8.02s\tremaining: 18.6s\n",
      "400:\ttest: 0.6793580\tbest: 0.6793580 (400)\ttotal: 10.7s\tremaining: 15.9s\n",
      "500:\ttest: 0.6813720\tbest: 0.6813720 (500)\ttotal: 13.4s\tremaining: 13.3s\n",
      "600:\ttest: 0.6823657\tbest: 0.6823657 (600)\ttotal: 16.1s\tremaining: 10.7s\n",
      "700:\ttest: 0.6827168\tbest: 0.6828436 (662)\ttotal: 18.9s\tremaining: 8.07s\n",
      "800:\ttest: 0.6840611\tbest: 0.6840624 (798)\ttotal: 21.6s\tremaining: 5.38s\n",
      "900:\ttest: 0.6848690\tbest: 0.6849066 (890)\ttotal: 24.4s\tremaining: 2.68s\n",
      "999:\ttest: 0.6860668\tbest: 0.6860668 (999)\ttotal: 27s\tremaining: 0us\n",
      "bestTest = 0.6860668063\n",
      "bestIteration = 999\n"
     ]
    },
    {
     "name": "stderr",
     "output_type": "stream",
     "text": [
      "Default metric period is 5 because AUC is/are not implemented for GPU\n"
     ]
    },
    {
     "name": "stdout",
     "output_type": "stream",
     "text": [
      "0:\ttest: 0.4998853\tbest: 0.4998853 (0)\ttotal: 25.8ms\tremaining: 25.7s\n",
      "100:\ttest: 0.6717128\tbest: 0.6726654 (98)\ttotal: 2.67s\tremaining: 23.8s\n",
      "200:\ttest: 0.6784606\tbest: 0.6786014 (199)\ttotal: 5.44s\tremaining: 21.6s\n",
      "300:\ttest: 0.6835012\tbest: 0.6835325 (293)\ttotal: 8.23s\tremaining: 19.1s\n",
      "400:\ttest: 0.6857449\tbest: 0.6857779 (394)\ttotal: 11s\tremaining: 16.4s\n",
      "500:\ttest: 0.6877157\tbest: 0.6877272 (498)\ttotal: 13.6s\tremaining: 13.6s\n",
      "600:\ttest: 0.6885137\tbest: 0.6887068 (549)\ttotal: 16.3s\tremaining: 10.8s\n",
      "700:\ttest: 0.6896615\tbest: 0.6896615 (700)\ttotal: 19s\tremaining: 8.11s\n",
      "800:\ttest: 0.6902185\tbest: 0.6902414 (797)\ttotal: 21.7s\tremaining: 5.39s\n",
      "900:\ttest: 0.6908711\tbest: 0.6908711 (900)\ttotal: 24.4s\tremaining: 2.67s\n",
      "999:\ttest: 0.6927109\tbest: 0.6927109 (999)\ttotal: 27s\tremaining: 0us\n",
      "bestTest = 0.6927109361\n",
      "bestIteration = 999\n"
     ]
    },
    {
     "name": "stderr",
     "output_type": "stream",
     "text": [
      "Default metric period is 5 because AUC is/are not implemented for GPU\n"
     ]
    },
    {
     "name": "stdout",
     "output_type": "stream",
     "text": [
      "0:\ttest: 0.4998853\tbest: 0.4998853 (0)\ttotal: 24.9ms\tremaining: 24.9s\n",
      "100:\ttest: 0.6767732\tbest: 0.6767978 (96)\ttotal: 2.68s\tremaining: 23.9s\n",
      "200:\ttest: 0.6833049\tbest: 0.6833067 (199)\ttotal: 5.42s\tremaining: 21.5s\n",
      "300:\ttest: 0.6857888\tbest: 0.6859363 (292)\ttotal: 8.24s\tremaining: 19.1s\n",
      "400:\ttest: 0.6883507\tbest: 0.6883960 (390)\ttotal: 11s\tremaining: 16.4s\n",
      "500:\ttest: 0.6890793\tbest: 0.6892426 (481)\ttotal: 13.9s\tremaining: 13.8s\n",
      "600:\ttest: 0.6897294\tbest: 0.6901022 (561)\ttotal: 16.6s\tremaining: 11s\n",
      "700:\ttest: 0.6910213\tbest: 0.6910475 (699)\ttotal: 19.4s\tremaining: 8.26s\n",
      "800:\ttest: 0.6921738\tbest: 0.6921900 (797)\ttotal: 22.1s\tremaining: 5.49s\n",
      "900:\ttest: 0.6918130\tbest: 0.6924089 (842)\ttotal: 24.8s\tremaining: 2.73s\n",
      "bestTest = 0.6924088895\n",
      "bestIteration = 842\n",
      "Shrink model to first 843 iterations.\n"
     ]
    },
    {
     "name": "stderr",
     "output_type": "stream",
     "text": [
      "Default metric period is 5 because AUC is/are not implemented for GPU\n"
     ]
    },
    {
     "name": "stdout",
     "output_type": "stream",
     "text": [
      "0:\ttest: 0.4998853\tbest: 0.4998853 (0)\ttotal: 25.6ms\tremaining: 25.6s\n",
      "100:\ttest: 0.6813512\tbest: 0.6817074 (97)\ttotal: 2.6s\tremaining: 23.2s\n",
      "200:\ttest: 0.6861601\tbest: 0.6861882 (198)\ttotal: 5.24s\tremaining: 20.8s\n",
      "300:\ttest: 0.6884065\tbest: 0.6885410 (290)\ttotal: 7.9s\tremaining: 18.3s\n",
      "400:\ttest: 0.6895102\tbest: 0.6902282 (391)\ttotal: 10.6s\tremaining: 15.8s\n",
      "500:\ttest: 0.6895835\tbest: 0.6903005 (478)\ttotal: 13.2s\tremaining: 13.2s\n",
      "bestTest = 0.6903004646\n",
      "bestIteration = 478\n",
      "Shrink model to first 479 iterations.\n"
     ]
    },
    {
     "name": "stderr",
     "output_type": "stream",
     "text": [
      "Default metric period is 5 because AUC is/are not implemented for GPU\n"
     ]
    },
    {
     "name": "stdout",
     "output_type": "stream",
     "text": [
      "0:\ttest: 0.4998853\tbest: 0.4998853 (0)\ttotal: 25.7ms\tremaining: 25.7s\n",
      "100:\ttest: 0.6814512\tbest: 0.6815825 (96)\ttotal: 2.7s\tremaining: 24.1s\n",
      "200:\ttest: 0.6853347\tbest: 0.6853347 (200)\ttotal: 5.36s\tremaining: 21.3s\n",
      "300:\ttest: 0.6885385\tbest: 0.6886557 (294)\ttotal: 8.02s\tremaining: 18.6s\n",
      "bestTest = 0.6886557341\n",
      "bestIteration = 294\n",
      "Shrink model to first 295 iterations.\n"
     ]
    },
    {
     "name": "stderr",
     "output_type": "stream",
     "text": [
      "Default metric period is 5 because AUC is/are not implemented for GPU\n"
     ]
    },
    {
     "name": "stdout",
     "output_type": "stream",
     "text": [
      "0:\ttest: 0.4998853\tbest: 0.4998853 (0)\ttotal: 24.7ms\tremaining: 24.6s\n",
      "100:\ttest: 0.6481019\tbest: 0.6489938 (94)\ttotal: 2.61s\tremaining: 23.2s\n",
      "200:\ttest: 0.6710037\tbest: 0.6710037 (200)\ttotal: 5.26s\tremaining: 20.9s\n",
      "300:\ttest: 0.6763496\tbest: 0.6763496 (300)\ttotal: 7.9s\tremaining: 18.3s\n",
      "400:\ttest: 0.6803890\tbest: 0.6804180 (398)\ttotal: 10.5s\tremaining: 15.8s\n",
      "500:\ttest: 0.6817944\tbest: 0.6817982 (489)\ttotal: 13.2s\tremaining: 13.2s\n",
      "600:\ttest: 0.6832064\tbest: 0.6832064 (600)\ttotal: 15.9s\tremaining: 10.5s\n",
      "700:\ttest: 0.6833119\tbest: 0.6833966 (646)\ttotal: 18.6s\tremaining: 7.92s\n",
      "800:\ttest: 0.6844896\tbest: 0.6844896 (800)\ttotal: 21.2s\tremaining: 5.27s\n",
      "900:\ttest: 0.6851820\tbest: 0.6852814 (858)\ttotal: 23.9s\tremaining: 2.62s\n",
      "999:\ttest: 0.6860116\tbest: 0.6860116 (999)\ttotal: 26.5s\tremaining: 0us\n",
      "bestTest = 0.6860115826\n",
      "bestIteration = 999\n"
     ]
    },
    {
     "name": "stderr",
     "output_type": "stream",
     "text": [
      "Default metric period is 5 because AUC is/are not implemented for GPU\n"
     ]
    },
    {
     "name": "stdout",
     "output_type": "stream",
     "text": [
      "0:\ttest: 0.4998853\tbest: 0.4998853 (0)\ttotal: 24.8ms\tremaining: 24.7s\n",
      "100:\ttest: 0.6728513\tbest: 0.6736284 (98)\ttotal: 2.6s\tremaining: 23.2s\n",
      "200:\ttest: 0.6804642\tbest: 0.6804642 (200)\ttotal: 5.28s\tremaining: 21s\n",
      "300:\ttest: 0.6851051\tbest: 0.6851614 (295)\ttotal: 7.95s\tremaining: 18.5s\n",
      "400:\ttest: 0.6873951\tbest: 0.6874511 (396)\ttotal: 10.6s\tremaining: 15.8s\n",
      "500:\ttest: 0.6876270\tbest: 0.6877156 (489)\ttotal: 13.3s\tremaining: 13.2s\n",
      "600:\ttest: 0.6891008\tbest: 0.6891491 (584)\ttotal: 15.9s\tremaining: 10.6s\n",
      "700:\ttest: 0.6895364\tbest: 0.6895364 (700)\ttotal: 18.6s\tremaining: 7.93s\n",
      "800:\ttest: 0.6902364\tbest: 0.6902364 (800)\ttotal: 21.4s\tremaining: 5.31s\n",
      "900:\ttest: 0.6912193\tbest: 0.6912193 (900)\ttotal: 24.1s\tremaining: 2.65s\n",
      "999:\ttest: 0.6925591\tbest: 0.6925591 (999)\ttotal: 26.7s\tremaining: 0us\n",
      "bestTest = 0.692559123\n",
      "bestIteration = 999\n"
     ]
    },
    {
     "name": "stderr",
     "output_type": "stream",
     "text": [
      "Default metric period is 5 because AUC is/are not implemented for GPU\n"
     ]
    },
    {
     "name": "stdout",
     "output_type": "stream",
     "text": [
      "0:\ttest: 0.4998853\tbest: 0.4998853 (0)\ttotal: 24.5ms\tremaining: 24.5s\n",
      "100:\ttest: 0.6792883\tbest: 0.6792883 (100)\ttotal: 2.63s\tremaining: 23.4s\n",
      "200:\ttest: 0.6831379\tbest: 0.6832939 (198)\ttotal: 5.36s\tremaining: 21.3s\n",
      "300:\ttest: 0.6863756\tbest: 0.6865491 (292)\ttotal: 8.09s\tremaining: 18.8s\n",
      "400:\ttest: 0.6881212\tbest: 0.6882943 (392)\ttotal: 10.8s\tremaining: 16.1s\n",
      "500:\ttest: 0.6897756\tbest: 0.6897756 (500)\ttotal: 13.4s\tremaining: 13.4s\n",
      "600:\ttest: 0.6901220\tbest: 0.6906846 (538)\ttotal: 16.1s\tremaining: 10.7s\n",
      "700:\ttest: 0.6905718\tbest: 0.6908556 (643)\ttotal: 18.8s\tremaining: 8.04s\n",
      "800:\ttest: 0.6923021\tbest: 0.6923682 (797)\ttotal: 21.6s\tremaining: 5.36s\n",
      "900:\ttest: 0.6925364\tbest: 0.6927936 (825)\ttotal: 24.3s\tremaining: 2.67s\n",
      "bestTest = 0.6927936077\n",
      "bestIteration = 825\n",
      "Shrink model to first 826 iterations.\n"
     ]
    },
    {
     "name": "stderr",
     "output_type": "stream",
     "text": [
      "Default metric period is 5 because AUC is/are not implemented for GPU\n"
     ]
    },
    {
     "name": "stdout",
     "output_type": "stream",
     "text": [
      "0:\ttest: 0.4998853\tbest: 0.4998853 (0)\ttotal: 27.6ms\tremaining: 27.6s\n",
      "100:\ttest: 0.6818265\tbest: 0.6823867 (97)\ttotal: 2.68s\tremaining: 23.9s\n",
      "200:\ttest: 0.6851378\tbest: 0.6851600 (198)\ttotal: 5.38s\tremaining: 21.4s\n",
      "300:\ttest: 0.6873960\tbest: 0.6875776 (293)\ttotal: 8.11s\tremaining: 18.8s\n",
      "400:\ttest: 0.6891611\tbest: 0.6896002 (391)\ttotal: 10.8s\tremaining: 16.2s\n",
      "bestTest = 0.6896001697\n",
      "bestIteration = 391\n",
      "Shrink model to first 392 iterations.\n"
     ]
    },
    {
     "name": "stderr",
     "output_type": "stream",
     "text": [
      "Default metric period is 5 because AUC is/are not implemented for GPU\n"
     ]
    },
    {
     "name": "stdout",
     "output_type": "stream",
     "text": [
      "0:\ttest: 0.4998853\tbest: 0.4998853 (0)\ttotal: 25.7ms\tremaining: 25.7s\n",
      "100:\ttest: 0.6811063\tbest: 0.6813488 (96)\ttotal: 2.68s\tremaining: 23.8s\n",
      "200:\ttest: 0.6860135\tbest: 0.6860923 (198)\ttotal: 5.39s\tremaining: 21.4s\n",
      "300:\ttest: 0.6898552\tbest: 0.6898552 (300)\ttotal: 8.11s\tremaining: 18.8s\n",
      "bestTest = 0.6898554564\n",
      "bestIteration = 301\n",
      "Shrink model to first 302 iterations.\n"
     ]
    },
    {
     "name": "stderr",
     "output_type": "stream",
     "text": [
      "Default metric period is 5 because AUC is/are not implemented for GPU\n"
     ]
    },
    {
     "name": "stdout",
     "output_type": "stream",
     "text": [
      "0:\ttest: 0.4998853\tbest: 0.4998853 (0)\ttotal: 25.6ms\tremaining: 25.5s\n",
      "100:\ttest: 0.6485182\tbest: 0.6490508 (94)\ttotal: 2.68s\tremaining: 23.8s\n",
      "200:\ttest: 0.6718477\tbest: 0.6718477 (200)\ttotal: 5.28s\tremaining: 21s\n",
      "300:\ttest: 0.6763064\tbest: 0.6763064 (300)\ttotal: 7.92s\tremaining: 18.4s\n",
      "400:\ttest: 0.6805996\tbest: 0.6806325 (398)\ttotal: 10.6s\tremaining: 15.8s\n",
      "500:\ttest: 0.6826725\tbest: 0.6826725 (500)\ttotal: 13.2s\tremaining: 13.2s\n",
      "600:\ttest: 0.6839461\tbest: 0.6839461 (600)\ttotal: 15.9s\tremaining: 10.6s\n",
      "700:\ttest: 0.6842286\tbest: 0.6844165 (646)\ttotal: 18.6s\tremaining: 7.93s\n",
      "800:\ttest: 0.6852571\tbest: 0.6852727 (782)\ttotal: 21.3s\tremaining: 5.29s\n",
      "900:\ttest: 0.6858662\tbest: 0.6860564 (869)\ttotal: 23.9s\tremaining: 2.63s\n",
      "999:\ttest: 0.6866311\tbest: 0.6866311 (999)\ttotal: 26.6s\tremaining: 0us\n",
      "bestTest = 0.6866311431\n",
      "bestIteration = 999\n"
     ]
    },
    {
     "name": "stderr",
     "output_type": "stream",
     "text": [
      "Default metric period is 5 because AUC is/are not implemented for GPU\n"
     ]
    },
    {
     "name": "stdout",
     "output_type": "stream",
     "text": [
      "0:\ttest: 0.4998853\tbest: 0.4998853 (0)\ttotal: 25.1ms\tremaining: 25.1s\n",
      "100:\ttest: 0.6745645\tbest: 0.6745645 (100)\ttotal: 2.62s\tremaining: 23.3s\n",
      "200:\ttest: 0.6797347\tbest: 0.6797347 (200)\ttotal: 5.31s\tremaining: 21.1s\n",
      "300:\ttest: 0.6851266\tbest: 0.6852221 (295)\ttotal: 7.97s\tremaining: 18.5s\n",
      "400:\ttest: 0.6873228\tbest: 0.6874385 (396)\ttotal: 10.6s\tremaining: 15.9s\n",
      "bestTest = 0.687438488\n",
      "bestIteration = 396\n",
      "Shrink model to first 397 iterations.\n"
     ]
    },
    {
     "name": "stderr",
     "output_type": "stream",
     "text": [
      "Default metric period is 5 because AUC is/are not implemented for GPU\n"
     ]
    },
    {
     "name": "stdout",
     "output_type": "stream",
     "text": [
      "0:\ttest: 0.4998853\tbest: 0.4998853 (0)\ttotal: 24.9ms\tremaining: 24.9s\n",
      "100:\ttest: 0.6808272\tbest: 0.6808272 (100)\ttotal: 2.63s\tremaining: 23.4s\n",
      "200:\ttest: 0.6837032\tbest: 0.6838406 (198)\ttotal: 5.33s\tremaining: 21.2s\n",
      "300:\ttest: 0.6872940\tbest: 0.6875029 (290)\ttotal: 8.02s\tremaining: 18.6s\n",
      "bestTest = 0.6875028908\n",
      "bestIteration = 290\n",
      "Shrink model to first 291 iterations.\n"
     ]
    },
    {
     "name": "stderr",
     "output_type": "stream",
     "text": [
      "Default metric period is 5 because AUC is/are not implemented for GPU\n"
     ]
    },
    {
     "name": "stdout",
     "output_type": "stream",
     "text": [
      "0:\ttest: 0.4998853\tbest: 0.4998853 (0)\ttotal: 25.3ms\tremaining: 25.3s\n",
      "100:\ttest: 0.6823298\tbest: 0.6826855 (97)\ttotal: 2.67s\tremaining: 23.8s\n",
      "200:\ttest: 0.6852681\tbest: 0.6853007 (198)\ttotal: 5.34s\tremaining: 21.2s\n",
      "300:\ttest: 0.6874004\tbest: 0.6876012 (292)\ttotal: 8.03s\tremaining: 18.6s\n",
      "400:\ttest: 0.6895162\tbest: 0.6898062 (391)\ttotal: 10.8s\tremaining: 16.1s\n",
      "500:\ttest: 0.6908142\tbest: 0.6908576 (496)\ttotal: 13.4s\tremaining: 13.4s\n",
      "600:\ttest: 0.6915405\tbest: 0.6919408 (590)\ttotal: 16.2s\tremaining: 10.7s\n",
      "bestTest = 0.6919408441\n",
      "bestIteration = 590\n",
      "Shrink model to first 591 iterations.\n"
     ]
    },
    {
     "name": "stderr",
     "output_type": "stream",
     "text": [
      "Default metric period is 5 because AUC is/are not implemented for GPU\n"
     ]
    },
    {
     "name": "stdout",
     "output_type": "stream",
     "text": [
      "0:\ttest: 0.4998853\tbest: 0.4998853 (0)\ttotal: 25.5ms\tremaining: 25.4s\n",
      "100:\ttest: 0.6801271\tbest: 0.6803787 (97)\ttotal: 2.66s\tremaining: 23.7s\n",
      "200:\ttest: 0.6854017\tbest: 0.6854751 (198)\ttotal: 5.38s\tremaining: 21.4s\n",
      "300:\ttest: 0.6876057\tbest: 0.6878292 (291)\ttotal: 8.1s\tremaining: 18.8s\n",
      "400:\ttest: 0.6894393\tbest: 0.6895601 (392)\ttotal: 10.8s\tremaining: 16.1s\n",
      "bestTest = 0.6895601153\n",
      "bestIteration = 392\n",
      "Shrink model to first 393 iterations.\n"
     ]
    },
    {
     "name": "stderr",
     "output_type": "stream",
     "text": [
      "Default metric period is 5 because AUC is/are not implemented for GPU\n"
     ]
    },
    {
     "name": "stdout",
     "output_type": "stream",
     "text": [
      "0:\ttest: 0.5078242\tbest: 0.5078242 (0)\ttotal: 24.8ms\tremaining: 37.1s\n",
      "100:\ttest: 0.6492525\tbest: 0.6503350 (91)\ttotal: 2.6s\tremaining: 36.1s\n",
      "200:\ttest: 0.6711235\tbest: 0.6711843 (199)\ttotal: 5.22s\tremaining: 33.7s\n",
      "300:\ttest: 0.6762710\tbest: 0.6762710 (300)\ttotal: 7.92s\tremaining: 31.5s\n",
      "400:\ttest: 0.6773821\tbest: 0.6774374 (393)\ttotal: 10.6s\tremaining: 28.9s\n",
      "500:\ttest: 0.6793835\tbest: 0.6793838 (498)\ttotal: 13.2s\tremaining: 26.3s\n",
      "600:\ttest: 0.6805549\tbest: 0.6809652 (569)\ttotal: 15.9s\tremaining: 23.7s\n",
      "700:\ttest: 0.6816622\tbest: 0.6817514 (666)\ttotal: 18.5s\tremaining: 21.1s\n",
      "800:\ttest: 0.6836359\tbest: 0.6836359 (800)\ttotal: 21.2s\tremaining: 18.5s\n",
      "900:\ttest: 0.6835927\tbest: 0.6837595 (826)\ttotal: 23.9s\tremaining: 15.9s\n",
      "bestTest = 0.6837595403\n",
      "bestIteration = 826\n",
      "Shrink model to first 827 iterations.\n"
     ]
    },
    {
     "name": "stderr",
     "output_type": "stream",
     "text": [
      "Default metric period is 5 because AUC is/are not implemented for GPU\n"
     ]
    },
    {
     "name": "stdout",
     "output_type": "stream",
     "text": [
      "0:\ttest: 0.5078242\tbest: 0.5078242 (0)\ttotal: 25ms\tremaining: 37.5s\n",
      "100:\ttest: 0.6702237\tbest: 0.6705583 (99)\ttotal: 2.65s\tremaining: 36.7s\n",
      "200:\ttest: 0.6759773\tbest: 0.6759773 (200)\ttotal: 5.3s\tremaining: 34.3s\n",
      "300:\ttest: 0.6802824\tbest: 0.6804431 (293)\ttotal: 7.98s\tremaining: 31.8s\n",
      "400:\ttest: 0.6829436\tbest: 0.6831523 (394)\ttotal: 10.6s\tremaining: 29.2s\n",
      "500:\ttest: 0.6834705\tbest: 0.6837535 (484)\ttotal: 13.3s\tremaining: 26.6s\n",
      "600:\ttest: 0.6840105\tbest: 0.6840313 (599)\ttotal: 16s\tremaining: 23.9s\n",
      "700:\ttest: 0.6850269\tbest: 0.6851992 (696)\ttotal: 18.7s\tremaining: 21.3s\n",
      "800:\ttest: 0.6871719\tbest: 0.6871719 (800)\ttotal: 21.4s\tremaining: 18.7s\n",
      "900:\ttest: 0.6875856\tbest: 0.6876388 (892)\ttotal: 24.1s\tremaining: 16s\n",
      "1000:\ttest: 0.6884564\tbest: 0.6885754 (995)\ttotal: 26.8s\tremaining: 13.3s\n",
      "1100:\ttest: 0.6885529\tbest: 0.6888905 (1052)\ttotal: 29.5s\tremaining: 10.7s\n",
      "bestTest = 0.6888905466\n",
      "bestIteration = 1052\n",
      "Shrink model to first 1053 iterations.\n"
     ]
    },
    {
     "name": "stderr",
     "output_type": "stream",
     "text": [
      "Default metric period is 5 because AUC is/are not implemented for GPU\n"
     ]
    },
    {
     "name": "stdout",
     "output_type": "stream",
     "text": [
      "0:\ttest: 0.5078242\tbest: 0.5078242 (0)\ttotal: 25.6ms\tremaining: 38.4s\n",
      "100:\ttest: 0.6771752\tbest: 0.6771752 (100)\ttotal: 2.7s\tremaining: 37.4s\n",
      "200:\ttest: 0.6815974\tbest: 0.6815974 (200)\ttotal: 5.39s\tremaining: 34.9s\n",
      "300:\ttest: 0.6852677\tbest: 0.6853830 (293)\ttotal: 8.1s\tremaining: 32.3s\n",
      "400:\ttest: 0.6856081\tbest: 0.6857827 (371)\ttotal: 10.8s\tremaining: 29.7s\n",
      "500:\ttest: 0.6851609\tbest: 0.6860488 (473)\ttotal: 13.6s\tremaining: 27s\n",
      "600:\ttest: 0.6858051\tbest: 0.6861237 (542)\ttotal: 16.3s\tremaining: 24.4s\n",
      "700:\ttest: 0.6857928\tbest: 0.6865267 (643)\ttotal: 19s\tremaining: 21.7s\n",
      "bestTest = 0.6865267158\n",
      "bestIteration = 643\n",
      "Shrink model to first 644 iterations.\n"
     ]
    },
    {
     "name": "stderr",
     "output_type": "stream",
     "text": [
      "Default metric period is 5 because AUC is/are not implemented for GPU\n"
     ]
    },
    {
     "name": "stdout",
     "output_type": "stream",
     "text": [
      "0:\ttest: 0.5078242\tbest: 0.5078242 (0)\ttotal: 25.6ms\tremaining: 38.4s\n",
      "100:\ttest: 0.6810890\tbest: 0.6813509 (98)\ttotal: 2.69s\tremaining: 37.3s\n",
      "200:\ttest: 0.6830139\tbest: 0.6831466 (197)\ttotal: 5.43s\tremaining: 35.1s\n",
      "300:\ttest: 0.6847503\tbest: 0.6852261 (292)\ttotal: 8.12s\tremaining: 32.3s\n",
      "400:\ttest: 0.6857251\tbest: 0.6860683 (392)\ttotal: 10.8s\tremaining: 29.7s\n",
      "500:\ttest: 0.6849682\tbest: 0.6864044 (447)\ttotal: 13.5s\tremaining: 26.9s\n",
      "bestTest = 0.686404407\n",
      "bestIteration = 447\n",
      "Shrink model to first 448 iterations.\n"
     ]
    },
    {
     "name": "stderr",
     "output_type": "stream",
     "text": [
      "Default metric period is 5 because AUC is/are not implemented for GPU\n"
     ]
    },
    {
     "name": "stdout",
     "output_type": "stream",
     "text": [
      "0:\ttest: 0.5078242\tbest: 0.5078242 (0)\ttotal: 25ms\tremaining: 37.5s\n",
      "100:\ttest: 0.6798923\tbest: 0.6800299 (97)\ttotal: 2.62s\tremaining: 36.3s\n",
      "200:\ttest: 0.6849536\tbest: 0.6849536 (200)\ttotal: 5.3s\tremaining: 34.3s\n",
      "300:\ttest: 0.6861041\tbest: 0.6870862 (283)\ttotal: 7.98s\tremaining: 31.8s\n",
      "400:\ttest: 0.6866851\tbest: 0.6872924 (335)\ttotal: 10.7s\tremaining: 29.3s\n",
      "bestTest = 0.6872923672\n",
      "bestIteration = 335\n",
      "Shrink model to first 336 iterations.\n"
     ]
    },
    {
     "name": "stderr",
     "output_type": "stream",
     "text": [
      "Default metric period is 5 because AUC is/are not implemented for GPU\n"
     ]
    },
    {
     "name": "stdout",
     "output_type": "stream",
     "text": [
      "0:\ttest: 0.5084738\tbest: 0.5084738 (0)\ttotal: 26ms\tremaining: 39s\n",
      "100:\ttest: 0.6506866\tbest: 0.6518820 (96)\ttotal: 2.64s\tremaining: 36.6s\n",
      "200:\ttest: 0.6695410\tbest: 0.6695437 (199)\ttotal: 5.3s\tremaining: 34.3s\n",
      "300:\ttest: 0.6749203\tbest: 0.6749203 (300)\ttotal: 8.09s\tremaining: 32.2s\n",
      "400:\ttest: 0.6786869\tbest: 0.6786869 (400)\ttotal: 10.8s\tremaining: 29.6s\n",
      "500:\ttest: 0.6798440\tbest: 0.6798726 (486)\ttotal: 13.5s\tremaining: 27s\n",
      "600:\ttest: 0.6811696\tbest: 0.6811710 (597)\ttotal: 16.4s\tremaining: 24.5s\n",
      "700:\ttest: 0.6817637\tbest: 0.6819476 (640)\ttotal: 19.2s\tremaining: 21.9s\n",
      "800:\ttest: 0.6834635\tbest: 0.6834709 (797)\ttotal: 22s\tremaining: 19.2s\n",
      "900:\ttest: 0.6839375\tbest: 0.6839384 (897)\ttotal: 24.7s\tremaining: 16.4s\n",
      "1000:\ttest: 0.6844546\tbest: 0.6844546 (1000)\ttotal: 27.4s\tremaining: 13.7s\n",
      "1100:\ttest: 0.6848706\tbest: 0.6848779 (1099)\ttotal: 30.2s\tremaining: 10.9s\n",
      "1200:\ttest: 0.6856665\tbest: 0.6856665 (1200)\ttotal: 32.8s\tremaining: 8.17s\n",
      "1300:\ttest: 0.6863834\tbest: 0.6864056 (1296)\ttotal: 35.5s\tremaining: 5.43s\n",
      "1400:\ttest: 0.6871885\tbest: 0.6872172 (1357)\ttotal: 38.2s\tremaining: 2.7s\n",
      "1499:\ttest: 0.6875616\tbest: 0.6875616 (1499)\ttotal: 40.8s\tremaining: 0us\n",
      "bestTest = 0.6875616014\n",
      "bestIteration = 1499\n"
     ]
    },
    {
     "name": "stderr",
     "output_type": "stream",
     "text": [
      "Default metric period is 5 because AUC is/are not implemented for GPU\n"
     ]
    },
    {
     "name": "stdout",
     "output_type": "stream",
     "text": [
      "0:\ttest: 0.5084738\tbest: 0.5084738 (0)\ttotal: 25.4ms\tremaining: 38.1s\n",
      "100:\ttest: 0.6708106\tbest: 0.6717027 (98)\ttotal: 2.69s\tremaining: 37.3s\n",
      "200:\ttest: 0.6795127\tbest: 0.6795602 (199)\ttotal: 5.41s\tremaining: 34.9s\n",
      "300:\ttest: 0.6829485\tbest: 0.6829485 (300)\ttotal: 8.07s\tremaining: 32.1s\n",
      "400:\ttest: 0.6851085\tbest: 0.6852261 (394)\ttotal: 10.8s\tremaining: 29.7s\n",
      "500:\ttest: 0.6858608\tbest: 0.6860691 (450)\ttotal: 13.5s\tremaining: 27s\n",
      "600:\ttest: 0.6863671\tbest: 0.6866320 (549)\ttotal: 16.3s\tremaining: 24.3s\n",
      "700:\ttest: 0.6873414\tbest: 0.6873613 (688)\ttotal: 19s\tremaining: 21.7s\n",
      "800:\ttest: 0.6879368\tbest: 0.6879559 (799)\ttotal: 21.7s\tremaining: 19s\n",
      "900:\ttest: 0.6889316\tbest: 0.6889316 (900)\ttotal: 24.5s\tremaining: 16.3s\n",
      "1000:\ttest: 0.6902284\tbest: 0.6902284 (1000)\ttotal: 27.3s\tremaining: 13.6s\n",
      "bestTest = 0.6902284324\n",
      "bestIteration = 1000\n",
      "Shrink model to first 1001 iterations.\n"
     ]
    },
    {
     "name": "stderr",
     "output_type": "stream",
     "text": [
      "Default metric period is 5 because AUC is/are not implemented for GPU\n"
     ]
    },
    {
     "name": "stdout",
     "output_type": "stream",
     "text": [
      "0:\ttest: 0.5084738\tbest: 0.5084738 (0)\ttotal: 25.3ms\tremaining: 38s\n",
      "100:\ttest: 0.6768973\tbest: 0.6771680 (98)\ttotal: 2.63s\tremaining: 36.5s\n",
      "200:\ttest: 0.6797471\tbest: 0.6797471 (200)\ttotal: 5.46s\tremaining: 35.3s\n",
      "300:\ttest: 0.6835499\tbest: 0.6838612 (292)\ttotal: 8.13s\tremaining: 32.4s\n",
      "400:\ttest: 0.6850677\tbest: 0.6852179 (393)\ttotal: 10.9s\tremaining: 29.8s\n",
      "500:\ttest: 0.6863151\tbest: 0.6867624 (473)\ttotal: 13.6s\tremaining: 27.2s\n",
      "bestTest = 0.6867624223\n",
      "bestIteration = 473\n",
      "Shrink model to first 474 iterations.\n"
     ]
    },
    {
     "name": "stderr",
     "output_type": "stream",
     "text": [
      "Default metric period is 5 because AUC is/are not implemented for GPU\n"
     ]
    },
    {
     "name": "stdout",
     "output_type": "stream",
     "text": [
      "0:\ttest: 0.5084738\tbest: 0.5084738 (0)\ttotal: 28.1ms\tremaining: 42.1s\n",
      "100:\ttest: 0.6812739\tbest: 0.6817296 (97)\ttotal: 2.71s\tremaining: 37.5s\n",
      "200:\ttest: 0.6846685\tbest: 0.6847026 (198)\ttotal: 5.4s\tremaining: 34.9s\n",
      "300:\ttest: 0.6872913\tbest: 0.6877301 (290)\ttotal: 8.14s\tremaining: 32.4s\n",
      "400:\ttest: 0.6881411\tbest: 0.6884689 (327)\ttotal: 10.9s\tremaining: 29.9s\n",
      "bestTest = 0.6884689033\n",
      "bestIteration = 327\n",
      "Shrink model to first 328 iterations.\n"
     ]
    },
    {
     "name": "stderr",
     "output_type": "stream",
     "text": [
      "Default metric period is 5 because AUC is/are not implemented for GPU\n"
     ]
    },
    {
     "name": "stdout",
     "output_type": "stream",
     "text": [
      "0:\ttest: 0.5084738\tbest: 0.5084738 (0)\ttotal: 25.2ms\tremaining: 37.8s\n",
      "100:\ttest: 0.6804118\tbest: 0.6806776 (96)\ttotal: 2.71s\tremaining: 37.6s\n",
      "200:\ttest: 0.6832027\tbest: 0.6832707 (188)\ttotal: 5.43s\tremaining: 35.1s\n",
      "300:\ttest: 0.6846703\tbest: 0.6848169 (295)\ttotal: 8.18s\tremaining: 32.6s\n",
      "400:\ttest: 0.6853453\tbest: 0.6864261 (366)\ttotal: 11s\tremaining: 30.1s\n",
      "bestTest = 0.6864261031\n",
      "bestIteration = 366\n",
      "Shrink model to first 367 iterations.\n"
     ]
    },
    {
     "name": "stderr",
     "output_type": "stream",
     "text": [
      "Default metric period is 5 because AUC is/are not implemented for GPU\n"
     ]
    },
    {
     "name": "stdout",
     "output_type": "stream",
     "text": [
      "0:\ttest: 0.4998853\tbest: 0.4998853 (0)\ttotal: 26.2ms\tremaining: 39.2s\n",
      "100:\ttest: 0.6489863\tbest: 0.6506839 (86)\ttotal: 2.64s\tremaining: 36.6s\n",
      "200:\ttest: 0.6705132\tbest: 0.6705132 (200)\ttotal: 5.3s\tremaining: 34.2s\n",
      "300:\ttest: 0.6752197\tbest: 0.6752197 (300)\ttotal: 8.02s\tremaining: 32s\n",
      "400:\ttest: 0.6793580\tbest: 0.6793580 (400)\ttotal: 10.7s\tremaining: 29.4s\n",
      "500:\ttest: 0.6813680\tbest: 0.6813680 (500)\ttotal: 13.5s\tremaining: 27s\n",
      "600:\ttest: 0.6823628\tbest: 0.6823628 (600)\ttotal: 16.2s\tremaining: 24.3s\n",
      "700:\ttest: 0.6827186\tbest: 0.6828451 (662)\ttotal: 18.9s\tremaining: 21.5s\n",
      "800:\ttest: 0.6840655\tbest: 0.6840675 (798)\ttotal: 21.5s\tremaining: 18.8s\n",
      "900:\ttest: 0.6848731\tbest: 0.6849111 (890)\ttotal: 24.2s\tremaining: 16.1s\n",
      "1000:\ttest: 0.6860489\tbest: 0.6860666 (999)\ttotal: 26.9s\tremaining: 13.4s\n",
      "1100:\ttest: 0.6865084\tbest: 0.6865315 (1078)\ttotal: 29.6s\tremaining: 10.7s\n",
      "1200:\ttest: 0.6869094\tbest: 0.6869094 (1200)\ttotal: 32.2s\tremaining: 8.02s\n",
      "1300:\ttest: 0.6874925\tbest: 0.6874932 (1299)\ttotal: 34.9s\tremaining: 5.34s\n",
      "1400:\ttest: 0.6883858\tbest: 0.6884192 (1399)\ttotal: 37.6s\tremaining: 2.66s\n",
      "1499:\ttest: 0.6890487\tbest: 0.6890487 (1499)\ttotal: 40.3s\tremaining: 0us\n",
      "bestTest = 0.6890486777\n",
      "bestIteration = 1499\n"
     ]
    },
    {
     "name": "stderr",
     "output_type": "stream",
     "text": [
      "Default metric period is 5 because AUC is/are not implemented for GPU\n"
     ]
    },
    {
     "name": "stdout",
     "output_type": "stream",
     "text": [
      "0:\ttest: 0.4998853\tbest: 0.4998853 (0)\ttotal: 24.6ms\tremaining: 36.9s\n",
      "100:\ttest: 0.6717128\tbest: 0.6726654 (98)\ttotal: 2.68s\tremaining: 37.1s\n",
      "200:\ttest: 0.6784606\tbest: 0.6786014 (199)\ttotal: 5.3s\tremaining: 34.3s\n",
      "300:\ttest: 0.6835073\tbest: 0.6835375 (293)\ttotal: 7.97s\tremaining: 31.8s\n",
      "400:\ttest: 0.6857492\tbest: 0.6857817 (394)\ttotal: 10.6s\tremaining: 29.2s\n",
      "500:\ttest: 0.6877193\tbest: 0.6877308 (498)\ttotal: 13.3s\tremaining: 26.6s\n",
      "600:\ttest: 0.6885170\tbest: 0.6887098 (549)\ttotal: 16s\tremaining: 23.9s\n",
      "700:\ttest: 0.6896665\tbest: 0.6896665 (700)\ttotal: 18.7s\tremaining: 21.3s\n",
      "800:\ttest: 0.6902215\tbest: 0.6902438 (797)\ttotal: 21.3s\tremaining: 18.6s\n",
      "900:\ttest: 0.6908739\tbest: 0.6908739 (900)\ttotal: 24s\tremaining: 16s\n",
      "1000:\ttest: 0.6927376\tbest: 0.6927376 (1000)\ttotal: 26.7s\tremaining: 13.3s\n",
      "bestTest = 0.6927605569\n",
      "bestIteration = 1001\n",
      "Shrink model to first 1002 iterations.\n"
     ]
    },
    {
     "name": "stderr",
     "output_type": "stream",
     "text": [
      "Default metric period is 5 because AUC is/are not implemented for GPU\n"
     ]
    },
    {
     "name": "stdout",
     "output_type": "stream",
     "text": [
      "0:\ttest: 0.4998853\tbest: 0.4998853 (0)\ttotal: 24.6ms\tremaining: 36.9s\n",
      "100:\ttest: 0.6767732\tbest: 0.6767978 (96)\ttotal: 2.69s\tremaining: 37.3s\n",
      "200:\ttest: 0.6833034\tbest: 0.6833051 (199)\ttotal: 5.38s\tremaining: 34.8s\n",
      "300:\ttest: 0.6857792\tbest: 0.6859270 (292)\ttotal: 8.07s\tremaining: 32.2s\n",
      "400:\ttest: 0.6883435\tbest: 0.6883899 (390)\ttotal: 10.7s\tremaining: 29.4s\n",
      "500:\ttest: 0.6890751\tbest: 0.6892367 (481)\ttotal: 13.4s\tremaining: 26.8s\n",
      "600:\ttest: 0.6897247\tbest: 0.6900971 (561)\ttotal: 16.2s\tremaining: 24.2s\n",
      "700:\ttest: 0.6910199\tbest: 0.6910462 (699)\ttotal: 18.9s\tremaining: 21.6s\n",
      "800:\ttest: 0.6921714\tbest: 0.6921896 (797)\ttotal: 21.6s\tremaining: 18.9s\n",
      "900:\ttest: 0.6918130\tbest: 0.6924108 (842)\ttotal: 24.4s\tremaining: 16.2s\n",
      "bestTest = 0.6924107671\n",
      "bestIteration = 842\n",
      "Shrink model to first 843 iterations.\n"
     ]
    },
    {
     "name": "stderr",
     "output_type": "stream",
     "text": [
      "Default metric period is 5 because AUC is/are not implemented for GPU\n"
     ]
    },
    {
     "name": "stdout",
     "output_type": "stream",
     "text": [
      "0:\ttest: 0.4998853\tbest: 0.4998853 (0)\ttotal: 25.1ms\tremaining: 37.6s\n",
      "100:\ttest: 0.6813512\tbest: 0.6817074 (97)\ttotal: 2.63s\tremaining: 36.4s\n",
      "200:\ttest: 0.6861601\tbest: 0.6861882 (198)\ttotal: 5.34s\tremaining: 34.5s\n",
      "300:\ttest: 0.6884089\tbest: 0.6885352 (290)\ttotal: 8.05s\tremaining: 32.1s\n",
      "400:\ttest: 0.6895119\tbest: 0.6902301 (391)\ttotal: 10.8s\tremaining: 29.6s\n",
      "500:\ttest: 0.6895866\tbest: 0.6903034 (478)\ttotal: 13.5s\tremaining: 27s\n",
      "bestTest = 0.6903033853\n",
      "bestIteration = 478\n",
      "Shrink model to first 479 iterations.\n"
     ]
    },
    {
     "name": "stderr",
     "output_type": "stream",
     "text": [
      "Default metric period is 5 because AUC is/are not implemented for GPU\n"
     ]
    },
    {
     "name": "stdout",
     "output_type": "stream",
     "text": [
      "0:\ttest: 0.4998853\tbest: 0.4998853 (0)\ttotal: 25.6ms\tremaining: 38.4s\n",
      "100:\ttest: 0.6814512\tbest: 0.6815825 (96)\ttotal: 2.69s\tremaining: 37.3s\n",
      "200:\ttest: 0.6853347\tbest: 0.6853347 (200)\ttotal: 5.47s\tremaining: 35.4s\n",
      "300:\ttest: 0.6885310\tbest: 0.6886481 (294)\ttotal: 8.21s\tremaining: 32.7s\n",
      "bestTest = 0.6886481047\n",
      "bestIteration = 294\n",
      "Shrink model to first 295 iterations.\n"
     ]
    },
    {
     "name": "stderr",
     "output_type": "stream",
     "text": [
      "Default metric period is 5 because AUC is/are not implemented for GPU\n"
     ]
    },
    {
     "name": "stdout",
     "output_type": "stream",
     "text": [
      "0:\ttest: 0.4998853\tbest: 0.4998853 (0)\ttotal: 25.7ms\tremaining: 38.6s\n",
      "100:\ttest: 0.6481019\tbest: 0.6489938 (94)\ttotal: 2.63s\tremaining: 36.4s\n",
      "200:\ttest: 0.6710037\tbest: 0.6710037 (200)\ttotal: 5.25s\tremaining: 34s\n",
      "300:\ttest: 0.6763496\tbest: 0.6763496 (300)\ttotal: 7.94s\tremaining: 31.6s\n",
      "400:\ttest: 0.6803890\tbest: 0.6804180 (398)\ttotal: 10.6s\tremaining: 29.2s\n",
      "500:\ttest: 0.6817966\tbest: 0.6817982 (489)\ttotal: 13.4s\tremaining: 26.7s\n",
      "600:\ttest: 0.6832083\tbest: 0.6832083 (600)\ttotal: 16.2s\tremaining: 24.2s\n",
      "700:\ttest: 0.6833163\tbest: 0.6834004 (646)\ttotal: 18.9s\tremaining: 21.6s\n",
      "800:\ttest: 0.6844969\tbest: 0.6844969 (800)\ttotal: 21.7s\tremaining: 18.9s\n",
      "900:\ttest: 0.6851880\tbest: 0.6852863 (858)\ttotal: 24.4s\tremaining: 16.2s\n",
      "1000:\ttest: 0.6860777\tbest: 0.6860777 (1000)\ttotal: 27.2s\tremaining: 13.5s\n",
      "1100:\ttest: 0.6865225\tbest: 0.6866250 (1079)\ttotal: 29.9s\tremaining: 10.8s\n",
      "1200:\ttest: 0.6871594\tbest: 0.6871594 (1200)\ttotal: 32.6s\tremaining: 8.13s\n",
      "1300:\ttest: 0.6877859\tbest: 0.6877864 (1299)\ttotal: 35.4s\tremaining: 5.41s\n",
      "1400:\ttest: 0.6885874\tbest: 0.6886642 (1387)\ttotal: 38.1s\tremaining: 2.69s\n",
      "1499:\ttest: 0.6889663\tbest: 0.6889892 (1495)\ttotal: 40.8s\tremaining: 0us\n",
      "bestTest = 0.6889891624\n",
      "bestIteration = 1495\n",
      "Shrink model to first 1496 iterations.\n"
     ]
    },
    {
     "name": "stderr",
     "output_type": "stream",
     "text": [
      "Default metric period is 5 because AUC is/are not implemented for GPU\n"
     ]
    },
    {
     "name": "stdout",
     "output_type": "stream",
     "text": [
      "0:\ttest: 0.4998853\tbest: 0.4998853 (0)\ttotal: 26.2ms\tremaining: 39.3s\n",
      "100:\ttest: 0.6728513\tbest: 0.6736284 (98)\ttotal: 2.7s\tremaining: 37.4s\n",
      "200:\ttest: 0.6804642\tbest: 0.6804642 (200)\ttotal: 5.43s\tremaining: 35.1s\n",
      "300:\ttest: 0.6851065\tbest: 0.6851576 (295)\ttotal: 8.19s\tremaining: 32.6s\n",
      "400:\ttest: 0.6873962\tbest: 0.6874518 (396)\ttotal: 10.9s\tremaining: 30s\n",
      "500:\ttest: 0.6876277\tbest: 0.6877162 (489)\ttotal: 13.7s\tremaining: 27.2s\n",
      "600:\ttest: 0.6890963\tbest: 0.6891455 (584)\ttotal: 16.4s\tremaining: 24.5s\n",
      "700:\ttest: 0.6895357\tbest: 0.6895357 (700)\ttotal: 19.1s\tremaining: 21.8s\n",
      "800:\ttest: 0.6902353\tbest: 0.6902353 (800)\ttotal: 21.8s\tremaining: 19.1s\n",
      "900:\ttest: 0.6912187\tbest: 0.6912187 (900)\ttotal: 24.6s\tremaining: 16.3s\n",
      "1000:\ttest: 0.6925767\tbest: 0.6925767 (1000)\ttotal: 27.3s\tremaining: 13.6s\n",
      "bestTest = 0.6926125884\n",
      "bestIteration = 1005\n",
      "Shrink model to first 1006 iterations.\n"
     ]
    },
    {
     "name": "stderr",
     "output_type": "stream",
     "text": [
      "Default metric period is 5 because AUC is/are not implemented for GPU\n"
     ]
    },
    {
     "name": "stdout",
     "output_type": "stream",
     "text": [
      "0:\ttest: 0.4998853\tbest: 0.4998853 (0)\ttotal: 25.7ms\tremaining: 38.5s\n",
      "100:\ttest: 0.6792883\tbest: 0.6792883 (100)\ttotal: 2.68s\tremaining: 37.1s\n",
      "200:\ttest: 0.6831379\tbest: 0.6832939 (198)\ttotal: 5.36s\tremaining: 34.6s\n",
      "300:\ttest: 0.6863875\tbest: 0.6865607 (292)\ttotal: 8.06s\tremaining: 32.1s\n",
      "400:\ttest: 0.6881306\tbest: 0.6883039 (392)\ttotal: 10.8s\tremaining: 29.7s\n",
      "500:\ttest: 0.6897832\tbest: 0.6897832 (500)\ttotal: 13.5s\tremaining: 27s\n",
      "600:\ttest: 0.6901298\tbest: 0.6906911 (538)\ttotal: 16.3s\tremaining: 24.3s\n",
      "700:\ttest: 0.6905789\tbest: 0.6908622 (643)\ttotal: 19s\tremaining: 21.6s\n",
      "800:\ttest: 0.6923099\tbest: 0.6923754 (797)\ttotal: 21.7s\tremaining: 18.9s\n",
      "900:\ttest: 0.6925438\tbest: 0.6928024 (825)\ttotal: 24.4s\tremaining: 16.2s\n",
      "bestTest = 0.6928023696\n",
      "bestIteration = 825\n",
      "Shrink model to first 826 iterations.\n"
     ]
    },
    {
     "name": "stderr",
     "output_type": "stream",
     "text": [
      "Default metric period is 5 because AUC is/are not implemented for GPU\n"
     ]
    },
    {
     "name": "stdout",
     "output_type": "stream",
     "text": [
      "0:\ttest: 0.4998853\tbest: 0.4998853 (0)\ttotal: 26.4ms\tremaining: 39.6s\n",
      "100:\ttest: 0.6818265\tbest: 0.6823867 (97)\ttotal: 2.72s\tremaining: 37.6s\n",
      "200:\ttest: 0.6851378\tbest: 0.6851600 (198)\ttotal: 5.49s\tremaining: 35.5s\n",
      "300:\ttest: 0.6873980\tbest: 0.6875722 (293)\ttotal: 8.24s\tremaining: 32.8s\n",
      "400:\ttest: 0.6891629\tbest: 0.6896008 (391)\ttotal: 11s\tremaining: 30.1s\n",
      "bestTest = 0.6896007657\n",
      "bestIteration = 391\n",
      "Shrink model to first 392 iterations.\n"
     ]
    },
    {
     "name": "stderr",
     "output_type": "stream",
     "text": [
      "Default metric period is 5 because AUC is/are not implemented for GPU\n"
     ]
    },
    {
     "name": "stdout",
     "output_type": "stream",
     "text": [
      "0:\ttest: 0.4998853\tbest: 0.4998853 (0)\ttotal: 27.4ms\tremaining: 41s\n",
      "100:\ttest: 0.6811063\tbest: 0.6813488 (96)\ttotal: 2.94s\tremaining: 40.7s\n",
      "200:\ttest: 0.6860135\tbest: 0.6860923 (198)\ttotal: 5.95s\tremaining: 38.4s\n",
      "300:\ttest: 0.6898552\tbest: 0.6898552 (300)\ttotal: 8.92s\tremaining: 35.5s\n",
      "bestTest = 0.6898554564\n",
      "bestIteration = 301\n",
      "Shrink model to first 302 iterations.\n"
     ]
    },
    {
     "name": "stderr",
     "output_type": "stream",
     "text": [
      "Default metric period is 5 because AUC is/are not implemented for GPU\n"
     ]
    },
    {
     "name": "stdout",
     "output_type": "stream",
     "text": [
      "0:\ttest: 0.4998853\tbest: 0.4998853 (0)\ttotal: 25.6ms\tremaining: 38.4s\n",
      "100:\ttest: 0.6485182\tbest: 0.6490508 (94)\ttotal: 2.73s\tremaining: 37.9s\n",
      "200:\ttest: 0.6718477\tbest: 0.6718477 (200)\ttotal: 5.42s\tremaining: 35s\n",
      "300:\ttest: 0.6763064\tbest: 0.6763064 (300)\ttotal: 8.09s\tremaining: 32.2s\n",
      "400:\ttest: 0.6805996\tbest: 0.6806325 (398)\ttotal: 10.8s\tremaining: 29.5s\n",
      "500:\ttest: 0.6826725\tbest: 0.6826725 (500)\ttotal: 13.4s\tremaining: 26.8s\n",
      "600:\ttest: 0.6839461\tbest: 0.6839461 (600)\ttotal: 16.1s\tremaining: 24.1s\n",
      "700:\ttest: 0.6842293\tbest: 0.6844198 (646)\ttotal: 18.8s\tremaining: 21.4s\n",
      "800:\ttest: 0.6852584\tbest: 0.6852734 (782)\ttotal: 21.5s\tremaining: 18.8s\n",
      "900:\ttest: 0.6858670\tbest: 0.6860571 (869)\ttotal: 24.2s\tremaining: 16.1s\n",
      "1000:\ttest: 0.6867132\tbest: 0.6867132 (1000)\ttotal: 26.8s\tremaining: 13.4s\n",
      "1100:\ttest: 0.6868908\tbest: 0.6869629 (1079)\ttotal: 29.4s\tremaining: 10.7s\n",
      "1200:\ttest: 0.6874880\tbest: 0.6874880 (1200)\ttotal: 32.1s\tremaining: 7.99s\n",
      "1300:\ttest: 0.6879843\tbest: 0.6880013 (1295)\ttotal: 34.8s\tremaining: 5.33s\n",
      "1400:\ttest: 0.6887470\tbest: 0.6888518 (1387)\ttotal: 37.6s\tremaining: 2.65s\n",
      "1499:\ttest: 0.6892087\tbest: 0.6892087 (1499)\ttotal: 40.3s\tremaining: 0us\n",
      "bestTest = 0.6892086864\n",
      "bestIteration = 1499\n"
     ]
    },
    {
     "name": "stderr",
     "output_type": "stream",
     "text": [
      "Default metric period is 5 because AUC is/are not implemented for GPU\n"
     ]
    },
    {
     "name": "stdout",
     "output_type": "stream",
     "text": [
      "0:\ttest: 0.4998853\tbest: 0.4998853 (0)\ttotal: 25.5ms\tremaining: 38.2s\n",
      "100:\ttest: 0.6745645\tbest: 0.6745645 (100)\ttotal: 2.69s\tremaining: 37.2s\n",
      "200:\ttest: 0.6797347\tbest: 0.6797347 (200)\ttotal: 5.38s\tremaining: 34.8s\n",
      "300:\ttest: 0.6851325\tbest: 0.6852269 (295)\ttotal: 8.17s\tremaining: 32.5s\n",
      "400:\ttest: 0.6873294\tbest: 0.6874421 (396)\ttotal: 10.9s\tremaining: 29.8s\n",
      "bestTest = 0.6874420643\n",
      "bestIteration = 396\n",
      "Shrink model to first 397 iterations.\n"
     ]
    },
    {
     "name": "stderr",
     "output_type": "stream",
     "text": [
      "Default metric period is 5 because AUC is/are not implemented for GPU\n"
     ]
    },
    {
     "name": "stdout",
     "output_type": "stream",
     "text": [
      "0:\ttest: 0.4998853\tbest: 0.4998853 (0)\ttotal: 26ms\tremaining: 38.9s\n",
      "100:\ttest: 0.6808272\tbest: 0.6808272 (100)\ttotal: 2.68s\tremaining: 37.1s\n",
      "200:\ttest: 0.6836976\tbest: 0.6838352 (198)\ttotal: 5.39s\tremaining: 34.8s\n",
      "300:\ttest: 0.6872801\tbest: 0.6874888 (290)\ttotal: 8.17s\tremaining: 32.6s\n",
      "bestTest = 0.6874887943\n",
      "bestIteration = 290\n",
      "Shrink model to first 291 iterations.\n"
     ]
    },
    {
     "name": "stderr",
     "output_type": "stream",
     "text": [
      "Default metric period is 5 because AUC is/are not implemented for GPU\n"
     ]
    },
    {
     "name": "stdout",
     "output_type": "stream",
     "text": [
      "0:\ttest: 0.4998853\tbest: 0.4998853 (0)\ttotal: 25.2ms\tremaining: 37.8s\n",
      "100:\ttest: 0.6823298\tbest: 0.6826855 (97)\ttotal: 2.7s\tremaining: 37.4s\n",
      "200:\ttest: 0.6852681\tbest: 0.6853007 (198)\ttotal: 5.43s\tremaining: 35.1s\n",
      "300:\ttest: 0.6873969\tbest: 0.6875961 (292)\ttotal: 8.17s\tremaining: 32.5s\n",
      "400:\ttest: 0.6895125\tbest: 0.6898025 (391)\ttotal: 11s\tremaining: 30s\n",
      "500:\ttest: 0.6908112\tbest: 0.6908549 (496)\ttotal: 13.7s\tremaining: 27.3s\n",
      "600:\ttest: 0.6915307\tbest: 0.6919313 (590)\ttotal: 16.5s\tremaining: 24.7s\n",
      "bestTest = 0.6919313073\n",
      "bestIteration = 590\n",
      "Shrink model to first 591 iterations.\n"
     ]
    },
    {
     "name": "stderr",
     "output_type": "stream",
     "text": [
      "Default metric period is 5 because AUC is/are not implemented for GPU\n"
     ]
    },
    {
     "name": "stdout",
     "output_type": "stream",
     "text": [
      "0:\ttest: 0.4998853\tbest: 0.4998853 (0)\ttotal: 25.7ms\tremaining: 38.5s\n",
      "100:\ttest: 0.6801271\tbest: 0.6803787 (97)\ttotal: 2.69s\tremaining: 37.3s\n",
      "200:\ttest: 0.6854017\tbest: 0.6854751 (198)\ttotal: 5.35s\tremaining: 34.6s\n",
      "300:\ttest: 0.6876065\tbest: 0.6878211 (291)\ttotal: 8.12s\tremaining: 32.4s\n",
      "400:\ttest: 0.6894410\tbest: 0.6895613 (392)\ttotal: 10.9s\tremaining: 29.8s\n",
      "bestTest = 0.6895613074\n",
      "bestIteration = 392\n",
      "Shrink model to first 393 iterations.\n"
     ]
    },
    {
     "name": "stderr",
     "output_type": "stream",
     "text": [
      "Default metric period is 5 because AUC is/are not implemented for GPU\n"
     ]
    },
    {
     "name": "stdout",
     "output_type": "stream",
     "text": [
      "0:\ttest: 0.5078242\tbest: 0.5078242 (0)\ttotal: 26.1ms\tremaining: 52.3s\n",
      "100:\ttest: 0.6492525\tbest: 0.6503350 (91)\ttotal: 2.63s\tremaining: 49.5s\n",
      "200:\ttest: 0.6711235\tbest: 0.6711843 (199)\ttotal: 5.28s\tremaining: 47.2s\n",
      "300:\ttest: 0.6762710\tbest: 0.6762710 (300)\ttotal: 8.03s\tremaining: 45.3s\n",
      "400:\ttest: 0.6773821\tbest: 0.6774374 (393)\ttotal: 10.7s\tremaining: 42.7s\n",
      "500:\ttest: 0.6793835\tbest: 0.6793838 (498)\ttotal: 13.4s\tremaining: 40.1s\n",
      "600:\ttest: 0.6805549\tbest: 0.6809652 (569)\ttotal: 16.1s\tremaining: 37.4s\n",
      "700:\ttest: 0.6816797\tbest: 0.6817704 (666)\ttotal: 18.8s\tremaining: 34.8s\n",
      "800:\ttest: 0.6836514\tbest: 0.6836514 (800)\ttotal: 21.5s\tremaining: 32.1s\n",
      "900:\ttest: 0.6836128\tbest: 0.6837735 (826)\ttotal: 24.2s\tremaining: 29.5s\n",
      "bestTest = 0.6837735474\n",
      "bestIteration = 826\n",
      "Shrink model to first 827 iterations.\n"
     ]
    },
    {
     "name": "stderr",
     "output_type": "stream",
     "text": [
      "Default metric period is 5 because AUC is/are not implemented for GPU\n"
     ]
    },
    {
     "name": "stdout",
     "output_type": "stream",
     "text": [
      "0:\ttest: 0.5078242\tbest: 0.5078242 (0)\ttotal: 26.8ms\tremaining: 53.6s\n",
      "100:\ttest: 0.6702236\tbest: 0.6705580 (99)\ttotal: 2.69s\tremaining: 50.5s\n",
      "200:\ttest: 0.6759771\tbest: 0.6759771 (200)\ttotal: 5.37s\tremaining: 48s\n",
      "300:\ttest: 0.6803103\tbest: 0.6804741 (293)\ttotal: 8.07s\tremaining: 45.5s\n",
      "400:\ttest: 0.6829723\tbest: 0.6831816 (394)\ttotal: 10.7s\tremaining: 42.8s\n",
      "500:\ttest: 0.6834959\tbest: 0.6837793 (484)\ttotal: 13.4s\tremaining: 40.2s\n",
      "600:\ttest: 0.6840327\tbest: 0.6840535 (599)\ttotal: 16.1s\tremaining: 37.6s\n",
      "700:\ttest: 0.6850433\tbest: 0.6852162 (696)\ttotal: 18.8s\tremaining: 34.9s\n",
      "800:\ttest: 0.6871864\tbest: 0.6871864 (800)\ttotal: 21.5s\tremaining: 32.2s\n",
      "900:\ttest: 0.6875994\tbest: 0.6876525 (892)\ttotal: 24.2s\tremaining: 29.6s\n",
      "1000:\ttest: 0.6884673\tbest: 0.6885862 (995)\ttotal: 26.9s\tremaining: 26.9s\n",
      "1100:\ttest: 0.6885644\tbest: 0.6889033 (1052)\ttotal: 29.7s\tremaining: 24.2s\n",
      "bestTest = 0.688903302\n",
      "bestIteration = 1052\n",
      "Shrink model to first 1053 iterations.\n"
     ]
    },
    {
     "name": "stderr",
     "output_type": "stream",
     "text": [
      "Default metric period is 5 because AUC is/are not implemented for GPU\n"
     ]
    },
    {
     "name": "stdout",
     "output_type": "stream",
     "text": [
      "0:\ttest: 0.5078242\tbest: 0.5078242 (0)\ttotal: 26.5ms\tremaining: 53.1s\n",
      "100:\ttest: 0.6771752\tbest: 0.6771752 (100)\ttotal: 2.69s\tremaining: 50.6s\n",
      "200:\ttest: 0.6815974\tbest: 0.6815974 (200)\ttotal: 5.39s\tremaining: 48.2s\n",
      "300:\ttest: 0.6852677\tbest: 0.6853830 (293)\ttotal: 8.02s\tremaining: 45.3s\n",
      "400:\ttest: 0.6856081\tbest: 0.6857827 (371)\ttotal: 10.8s\tremaining: 42.9s\n",
      "500:\ttest: 0.6851609\tbest: 0.6860488 (473)\ttotal: 13.4s\tremaining: 40.1s\n",
      "600:\ttest: 0.6858051\tbest: 0.6861237 (542)\ttotal: 16.1s\tremaining: 37.4s\n",
      "700:\ttest: 0.6857924\tbest: 0.6865273 (643)\ttotal: 18.7s\tremaining: 34.7s\n",
      "bestTest = 0.6865273118\n",
      "bestIteration = 643\n",
      "Shrink model to first 644 iterations.\n"
     ]
    },
    {
     "name": "stderr",
     "output_type": "stream",
     "text": [
      "Default metric period is 5 because AUC is/are not implemented for GPU\n"
     ]
    },
    {
     "name": "stdout",
     "output_type": "stream",
     "text": [
      "0:\ttest: 0.5078242\tbest: 0.5078242 (0)\ttotal: 26ms\tremaining: 51.9s\n",
      "100:\ttest: 0.6810890\tbest: 0.6813509 (98)\ttotal: 2.62s\tremaining: 49.4s\n",
      "200:\ttest: 0.6829453\tbest: 0.6830774 (197)\ttotal: 5.31s\tremaining: 47.5s\n",
      "300:\ttest: 0.6847214\tbest: 0.6851889 (292)\ttotal: 7.96s\tremaining: 44.9s\n",
      "400:\ttest: 0.6856982\tbest: 0.6860408 (392)\ttotal: 10.6s\tremaining: 42.4s\n",
      "500:\ttest: 0.6849424\tbest: 0.6863798 (447)\ttotal: 13.3s\tremaining: 39.7s\n",
      "bestTest = 0.6863797903\n",
      "bestIteration = 447\n",
      "Shrink model to first 448 iterations.\n"
     ]
    },
    {
     "name": "stderr",
     "output_type": "stream",
     "text": [
      "Default metric period is 5 because AUC is/are not implemented for GPU\n"
     ]
    },
    {
     "name": "stdout",
     "output_type": "stream",
     "text": [
      "0:\ttest: 0.5078242\tbest: 0.5078242 (0)\ttotal: 25.1ms\tremaining: 50.1s\n",
      "100:\ttest: 0.6798923\tbest: 0.6800299 (97)\ttotal: 2.63s\tremaining: 49.5s\n",
      "200:\ttest: 0.6849536\tbest: 0.6849536 (200)\ttotal: 5.3s\tremaining: 47.5s\n",
      "300:\ttest: 0.6861083\tbest: 0.6870912 (283)\ttotal: 7.95s\tremaining: 44.9s\n",
      "400:\ttest: 0.6866882\tbest: 0.6872965 (335)\ttotal: 10.6s\tremaining: 42.3s\n",
      "bestTest = 0.6872964799\n",
      "bestIteration = 335\n",
      "Shrink model to first 336 iterations.\n"
     ]
    },
    {
     "name": "stderr",
     "output_type": "stream",
     "text": [
      "Default metric period is 5 because AUC is/are not implemented for GPU\n"
     ]
    },
    {
     "name": "stdout",
     "output_type": "stream",
     "text": [
      "0:\ttest: 0.5084738\tbest: 0.5084738 (0)\ttotal: 25ms\tremaining: 50s\n",
      "100:\ttest: 0.6506866\tbest: 0.6518820 (96)\ttotal: 2.58s\tremaining: 48.4s\n",
      "200:\ttest: 0.6695410\tbest: 0.6695437 (199)\ttotal: 5.2s\tremaining: 46.6s\n",
      "300:\ttest: 0.6749203\tbest: 0.6749203 (300)\ttotal: 7.97s\tremaining: 45s\n",
      "400:\ttest: 0.6786869\tbest: 0.6786869 (400)\ttotal: 10.7s\tremaining: 42.6s\n",
      "500:\ttest: 0.6798504\tbest: 0.6798726 (486)\ttotal: 13.3s\tremaining: 39.9s\n",
      "600:\ttest: 0.6811767\tbest: 0.6811779 (597)\ttotal: 16s\tremaining: 37.2s\n",
      "700:\ttest: 0.6817686\tbest: 0.6819537 (640)\ttotal: 18.6s\tremaining: 34.5s\n",
      "800:\ttest: 0.6834669\tbest: 0.6834759 (797)\ttotal: 21.2s\tremaining: 31.8s\n",
      "900:\ttest: 0.6839402\tbest: 0.6839418 (897)\ttotal: 23.9s\tremaining: 29.2s\n",
      "1000:\ttest: 0.6844576\tbest: 0.6844576 (1000)\ttotal: 26.7s\tremaining: 26.6s\n",
      "1100:\ttest: 0.6848729\tbest: 0.6848801 (1099)\ttotal: 29.4s\tremaining: 24s\n",
      "1200:\ttest: 0.6856688\tbest: 0.6856688 (1200)\ttotal: 32.1s\tremaining: 21.4s\n",
      "1300:\ttest: 0.6863855\tbest: 0.6864076 (1296)\ttotal: 34.8s\tremaining: 18.7s\n",
      "1400:\ttest: 0.6871907\tbest: 0.6872199 (1357)\ttotal: 37.5s\tremaining: 16s\n",
      "1500:\ttest: 0.6875760\tbest: 0.6875760 (1500)\ttotal: 40.2s\tremaining: 13.4s\n",
      "1600:\ttest: 0.6880193\tbest: 0.6881054 (1566)\ttotal: 42.9s\tremaining: 10.7s\n",
      "1700:\ttest: 0.6887474\tbest: 0.6887968 (1696)\ttotal: 45.5s\tremaining: 8s\n",
      "1800:\ttest: 0.6889329\tbest: 0.6889473 (1799)\ttotal: 48.3s\tremaining: 5.33s\n",
      "1900:\ttest: 0.6892589\tbest: 0.6893202 (1885)\ttotal: 51s\tremaining: 2.66s\n",
      "1999:\ttest: 0.6895607\tbest: 0.6895607 (1999)\ttotal: 53.7s\tremaining: 0us\n",
      "bestTest = 0.6895606518\n",
      "bestIteration = 1999\n"
     ]
    },
    {
     "name": "stderr",
     "output_type": "stream",
     "text": [
      "Default metric period is 5 because AUC is/are not implemented for GPU\n"
     ]
    },
    {
     "name": "stdout",
     "output_type": "stream",
     "text": [
      "0:\ttest: 0.5084738\tbest: 0.5084738 (0)\ttotal: 25.4ms\tremaining: 50.7s\n",
      "100:\ttest: 0.6708106\tbest: 0.6717027 (98)\ttotal: 2.67s\tremaining: 50.2s\n",
      "200:\ttest: 0.6795127\tbest: 0.6795602 (199)\ttotal: 5.33s\tremaining: 47.7s\n",
      "300:\ttest: 0.6829628\tbest: 0.6829628 (300)\ttotal: 8.01s\tremaining: 45.2s\n",
      "400:\ttest: 0.6851203\tbest: 0.6852383 (394)\ttotal: 10.7s\tremaining: 42.8s\n",
      "500:\ttest: 0.6858691\tbest: 0.6860790 (450)\ttotal: 13.5s\tremaining: 40.3s\n",
      "600:\ttest: 0.6863738\tbest: 0.6866391 (549)\ttotal: 16.3s\tremaining: 37.9s\n",
      "700:\ttest: 0.6873461\tbest: 0.6873669 (688)\ttotal: 19s\tremaining: 35.2s\n",
      "800:\ttest: 0.6879370\tbest: 0.6879549 (799)\ttotal: 21.7s\tremaining: 32.5s\n",
      "900:\ttest: 0.6889316\tbest: 0.6889316 (900)\ttotal: 24.6s\tremaining: 30s\n",
      "1000:\ttest: 0.6902278\tbest: 0.6902278 (1000)\ttotal: 27.5s\tremaining: 27.4s\n",
      "bestTest = 0.6902278364\n",
      "bestIteration = 1000\n",
      "Shrink model to first 1001 iterations.\n"
     ]
    },
    {
     "name": "stderr",
     "output_type": "stream",
     "text": [
      "Default metric period is 5 because AUC is/are not implemented for GPU\n"
     ]
    },
    {
     "name": "stdout",
     "output_type": "stream",
     "text": [
      "0:\ttest: 0.5084738\tbest: 0.5084738 (0)\ttotal: 26ms\tremaining: 51.9s\n",
      "100:\ttest: 0.6768973\tbest: 0.6771680 (98)\ttotal: 2.77s\tremaining: 52s\n",
      "200:\ttest: 0.6797471\tbest: 0.6797471 (200)\ttotal: 5.47s\tremaining: 49s\n",
      "300:\ttest: 0.6835599\tbest: 0.6838706 (292)\ttotal: 8.2s\tremaining: 46.3s\n",
      "400:\ttest: 0.6850753\tbest: 0.6852249 (393)\ttotal: 10.9s\tremaining: 43.6s\n",
      "500:\ttest: 0.6863294\tbest: 0.6867766 (473)\ttotal: 13.7s\tremaining: 41.1s\n",
      "bestTest = 0.6867765784\n",
      "bestIteration = 473\n",
      "Shrink model to first 474 iterations.\n"
     ]
    },
    {
     "name": "stderr",
     "output_type": "stream",
     "text": [
      "Default metric period is 5 because AUC is/are not implemented for GPU\n"
     ]
    },
    {
     "name": "stdout",
     "output_type": "stream",
     "text": [
      "0:\ttest: 0.5084738\tbest: 0.5084738 (0)\ttotal: 25.7ms\tremaining: 51.3s\n",
      "100:\ttest: 0.6812739\tbest: 0.6817296 (97)\ttotal: 2.76s\tremaining: 51.9s\n",
      "200:\ttest: 0.6846685\tbest: 0.6847026 (198)\ttotal: 5.64s\tremaining: 50.5s\n",
      "300:\ttest: 0.6872913\tbest: 0.6877301 (290)\ttotal: 8.4s\tremaining: 47.4s\n",
      "400:\ttest: 0.6881411\tbest: 0.6884689 (327)\ttotal: 11.2s\tremaining: 44.8s\n",
      "bestTest = 0.6884689033\n",
      "bestIteration = 327\n",
      "Shrink model to first 328 iterations.\n"
     ]
    },
    {
     "name": "stderr",
     "output_type": "stream",
     "text": [
      "Default metric period is 5 because AUC is/are not implemented for GPU\n"
     ]
    },
    {
     "name": "stdout",
     "output_type": "stream",
     "text": [
      "0:\ttest: 0.5084738\tbest: 0.5084738 (0)\ttotal: 26.8ms\tremaining: 53.5s\n",
      "100:\ttest: 0.6804118\tbest: 0.6806776 (96)\ttotal: 2.79s\tremaining: 52.4s\n",
      "200:\ttest: 0.6832004\tbest: 0.6832675 (188)\ttotal: 5.81s\tremaining: 52s\n",
      "300:\ttest: 0.6846660\tbest: 0.6848136 (295)\ttotal: 8.69s\tremaining: 49s\n",
      "400:\ttest: 0.6853421\tbest: 0.6864234 (366)\ttotal: 11.4s\tremaining: 45.5s\n",
      "bestTest = 0.6864234209\n",
      "bestIteration = 366\n",
      "Shrink model to first 367 iterations.\n"
     ]
    },
    {
     "name": "stderr",
     "output_type": "stream",
     "text": [
      "Default metric period is 5 because AUC is/are not implemented for GPU\n"
     ]
    },
    {
     "name": "stdout",
     "output_type": "stream",
     "text": [
      "0:\ttest: 0.4998853\tbest: 0.4998853 (0)\ttotal: 24.5ms\tremaining: 49s\n",
      "100:\ttest: 0.6489863\tbest: 0.6506839 (86)\ttotal: 2.6s\tremaining: 48.9s\n",
      "200:\ttest: 0.6705132\tbest: 0.6705132 (200)\ttotal: 5.32s\tremaining: 47.6s\n",
      "300:\ttest: 0.6752197\tbest: 0.6752197 (300)\ttotal: 8.03s\tremaining: 45.3s\n",
      "400:\ttest: 0.6793580\tbest: 0.6793580 (400)\ttotal: 10.8s\tremaining: 43s\n",
      "500:\ttest: 0.6813680\tbest: 0.6813680 (500)\ttotal: 13.5s\tremaining: 40.5s\n",
      "600:\ttest: 0.6823628\tbest: 0.6823628 (600)\ttotal: 16.2s\tremaining: 37.7s\n",
      "700:\ttest: 0.6827092\tbest: 0.6828379 (662)\ttotal: 18.9s\tremaining: 35s\n",
      "800:\ttest: 0.6840518\tbest: 0.6840528 (798)\ttotal: 21.6s\tremaining: 32.3s\n",
      "900:\ttest: 0.6848636\tbest: 0.6849017 (890)\ttotal: 24.2s\tremaining: 29.5s\n",
      "1000:\ttest: 0.6860406\tbest: 0.6860587 (999)\ttotal: 26.8s\tremaining: 26.8s\n",
      "1100:\ttest: 0.6865019\tbest: 0.6865246 (1078)\ttotal: 29.5s\tremaining: 24.1s\n",
      "1200:\ttest: 0.6869046\tbest: 0.6869046 (1200)\ttotal: 32.1s\tremaining: 21.4s\n",
      "1300:\ttest: 0.6874858\tbest: 0.6874866 (1299)\ttotal: 34.8s\tremaining: 18.7s\n",
      "1400:\ttest: 0.6883791\tbest: 0.6884136 (1399)\ttotal: 37.4s\tremaining: 16s\n",
      "1500:\ttest: 0.6890481\tbest: 0.6890481 (1500)\ttotal: 40.1s\tremaining: 13.3s\n",
      "1600:\ttest: 0.6894577\tbest: 0.6895376 (1563)\ttotal: 42.7s\tremaining: 10.7s\n",
      "1700:\ttest: 0.6898379\tbest: 0.6898578 (1696)\ttotal: 45.4s\tremaining: 7.99s\n",
      "1800:\ttest: 0.6901922\tbest: 0.6901929 (1798)\ttotal: 48.2s\tremaining: 5.33s\n",
      "1900:\ttest: 0.6907737\tbest: 0.6907737 (1900)\ttotal: 50.9s\tremaining: 2.65s\n",
      "1999:\ttest: 0.6911938\tbest: 0.6911938 (1999)\ttotal: 53.7s\tremaining: 0us\n",
      "bestTest = 0.6911937892\n",
      "bestIteration = 1999\n"
     ]
    },
    {
     "name": "stderr",
     "output_type": "stream",
     "text": [
      "Default metric period is 5 because AUC is/are not implemented for GPU\n"
     ]
    },
    {
     "name": "stdout",
     "output_type": "stream",
     "text": [
      "0:\ttest: 0.4998853\tbest: 0.4998853 (0)\ttotal: 25.6ms\tremaining: 51.2s\n",
      "100:\ttest: 0.6717128\tbest: 0.6726654 (98)\ttotal: 2.68s\tremaining: 50.4s\n",
      "200:\ttest: 0.6784606\tbest: 0.6786014 (199)\ttotal: 5.38s\tremaining: 48.2s\n",
      "300:\ttest: 0.6835096\tbest: 0.6835325 (293)\ttotal: 8.1s\tremaining: 45.7s\n",
      "400:\ttest: 0.6857511\tbest: 0.6857841 (394)\ttotal: 10.9s\tremaining: 43.3s\n",
      "500:\ttest: 0.6877219\tbest: 0.6877326 (498)\ttotal: 13.6s\tremaining: 40.7s\n",
      "600:\ttest: 0.6885182\tbest: 0.6887116 (549)\ttotal: 16.3s\tremaining: 37.9s\n",
      "700:\ttest: 0.6896679\tbest: 0.6896679 (700)\ttotal: 18.9s\tremaining: 35.1s\n",
      "800:\ttest: 0.6902244\tbest: 0.6902469 (797)\ttotal: 21.6s\tremaining: 32.3s\n",
      "900:\ttest: 0.6908745\tbest: 0.6908745 (900)\ttotal: 24.2s\tremaining: 29.5s\n",
      "1000:\ttest: 0.6927381\tbest: 0.6927381 (1000)\ttotal: 26.9s\tremaining: 26.9s\n",
      "bestTest = 0.692761451\n",
      "bestIteration = 1001\n",
      "Shrink model to first 1002 iterations.\n"
     ]
    },
    {
     "name": "stderr",
     "output_type": "stream",
     "text": [
      "Default metric period is 5 because AUC is/are not implemented for GPU\n"
     ]
    },
    {
     "name": "stdout",
     "output_type": "stream",
     "text": [
      "0:\ttest: 0.4998853\tbest: 0.4998853 (0)\ttotal: 25.7ms\tremaining: 51.3s\n",
      "100:\ttest: 0.6767732\tbest: 0.6767978 (96)\ttotal: 2.69s\tremaining: 50.5s\n",
      "200:\ttest: 0.6833034\tbest: 0.6833051 (199)\ttotal: 5.38s\tremaining: 48.1s\n",
      "300:\ttest: 0.6857785\tbest: 0.6859260 (292)\ttotal: 8.1s\tremaining: 45.7s\n",
      "400:\ttest: 0.6883433\tbest: 0.6883897 (390)\ttotal: 10.9s\tremaining: 43.3s\n",
      "500:\ttest: 0.6890810\tbest: 0.6892426 (481)\ttotal: 13.6s\tremaining: 40.5s\n",
      "600:\ttest: 0.6897239\tbest: 0.6900967 (561)\ttotal: 16.2s\tremaining: 37.7s\n",
      "700:\ttest: 0.6910163\tbest: 0.6910425 (699)\ttotal: 19s\tremaining: 35.1s\n",
      "800:\ttest: 0.6921675\tbest: 0.6921861 (797)\ttotal: 21.8s\tremaining: 32.6s\n",
      "900:\ttest: 0.6918089\tbest: 0.6924074 (842)\ttotal: 24.5s\tremaining: 29.9s\n",
      "bestTest = 0.6924074292\n",
      "bestIteration = 842\n",
      "Shrink model to first 843 iterations.\n"
     ]
    },
    {
     "name": "stderr",
     "output_type": "stream",
     "text": [
      "Default metric period is 5 because AUC is/are not implemented for GPU\n"
     ]
    },
    {
     "name": "stdout",
     "output_type": "stream",
     "text": [
      "0:\ttest: 0.4998853\tbest: 0.4998853 (0)\ttotal: 25.4ms\tremaining: 50.8s\n",
      "100:\ttest: 0.6813512\tbest: 0.6817074 (97)\ttotal: 2.68s\tremaining: 50.4s\n",
      "200:\ttest: 0.6861601\tbest: 0.6861882 (198)\ttotal: 5.39s\tremaining: 48.2s\n",
      "300:\ttest: 0.6884146\tbest: 0.6885410 (290)\ttotal: 8.05s\tremaining: 45.5s\n",
      "400:\ttest: 0.6895164\tbest: 0.6902348 (391)\ttotal: 10.7s\tremaining: 42.8s\n",
      "500:\ttest: 0.6895884\tbest: 0.6903056 (478)\ttotal: 13.5s\tremaining: 40.3s\n",
      "bestTest = 0.6903055906\n",
      "bestIteration = 478\n",
      "Shrink model to first 479 iterations.\n"
     ]
    },
    {
     "name": "stderr",
     "output_type": "stream",
     "text": [
      "Default metric period is 5 because AUC is/are not implemented for GPU\n"
     ]
    },
    {
     "name": "stdout",
     "output_type": "stream",
     "text": [
      "0:\ttest: 0.4998853\tbest: 0.4998853 (0)\ttotal: 25.7ms\tremaining: 51.4s\n",
      "100:\ttest: 0.6814512\tbest: 0.6815825 (96)\ttotal: 2.63s\tremaining: 49.5s\n",
      "200:\ttest: 0.6853347\tbest: 0.6853347 (200)\ttotal: 5.29s\tremaining: 47.3s\n",
      "300:\ttest: 0.6885412\tbest: 0.6886481 (294)\ttotal: 7.99s\tremaining: 45.1s\n",
      "bestTest = 0.6886481047\n",
      "bestIteration = 294\n",
      "Shrink model to first 295 iterations.\n"
     ]
    },
    {
     "name": "stderr",
     "output_type": "stream",
     "text": [
      "Default metric period is 5 because AUC is/are not implemented for GPU\n"
     ]
    },
    {
     "name": "stdout",
     "output_type": "stream",
     "text": [
      "0:\ttest: 0.4998853\tbest: 0.4998853 (0)\ttotal: 26.2ms\tremaining: 52.3s\n",
      "100:\ttest: 0.6481019\tbest: 0.6489938 (94)\ttotal: 2.69s\tremaining: 50.6s\n",
      "200:\ttest: 0.6710037\tbest: 0.6710037 (200)\ttotal: 5.35s\tremaining: 47.9s\n",
      "300:\ttest: 0.6763496\tbest: 0.6763496 (300)\ttotal: 8.07s\tremaining: 45.5s\n",
      "400:\ttest: 0.6803890\tbest: 0.6804180 (398)\ttotal: 10.8s\tremaining: 43s\n",
      "500:\ttest: 0.6817944\tbest: 0.6817982 (489)\ttotal: 13.5s\tremaining: 40.4s\n",
      "600:\ttest: 0.6832064\tbest: 0.6832064 (600)\ttotal: 16.3s\tremaining: 37.8s\n",
      "700:\ttest: 0.6833119\tbest: 0.6833966 (646)\ttotal: 19s\tremaining: 35.2s\n",
      "800:\ttest: 0.6844928\tbest: 0.6844928 (800)\ttotal: 21.7s\tremaining: 32.4s\n",
      "900:\ttest: 0.6851854\tbest: 0.6852833 (858)\ttotal: 24.3s\tremaining: 29.6s\n",
      "1000:\ttest: 0.6860752\tbest: 0.6860752 (1000)\ttotal: 27s\tremaining: 26.9s\n",
      "1100:\ttest: 0.6865208\tbest: 0.6866225 (1079)\ttotal: 29.7s\tremaining: 24.2s\n",
      "1200:\ttest: 0.6871569\tbest: 0.6871569 (1200)\ttotal: 32.4s\tremaining: 21.5s\n",
      "1300:\ttest: 0.6877836\tbest: 0.6877840 (1299)\ttotal: 35.1s\tremaining: 18.8s\n",
      "1400:\ttest: 0.6885834\tbest: 0.6886622 (1387)\ttotal: 37.7s\tremaining: 16.1s\n",
      "1500:\ttest: 0.6889706\tbest: 0.6889854 (1495)\ttotal: 40.4s\tremaining: 13.4s\n",
      "1600:\ttest: 0.6894121\tbest: 0.6895265 (1559)\ttotal: 43.1s\tremaining: 10.7s\n",
      "1700:\ttest: 0.6898743\tbest: 0.6898743 (1700)\ttotal: 45.8s\tremaining: 8.05s\n",
      "1800:\ttest: 0.6901274\tbest: 0.6901396 (1798)\ttotal: 48.5s\tremaining: 5.36s\n",
      "1900:\ttest: 0.6904988\tbest: 0.6905112 (1898)\ttotal: 51.1s\tremaining: 2.66s\n",
      "1999:\ttest: 0.6909236\tbest: 0.6909236 (1999)\ttotal: 53.8s\tremaining: 0us\n",
      "bestTest = 0.6909235716\n",
      "bestIteration = 1999\n"
     ]
    },
    {
     "name": "stderr",
     "output_type": "stream",
     "text": [
      "Default metric period is 5 because AUC is/are not implemented for GPU\n"
     ]
    },
    {
     "name": "stdout",
     "output_type": "stream",
     "text": [
      "0:\ttest: 0.4998853\tbest: 0.4998853 (0)\ttotal: 25.1ms\tremaining: 50.2s\n",
      "100:\ttest: 0.6728513\tbest: 0.6736284 (98)\ttotal: 2.6s\tremaining: 48.8s\n",
      "200:\ttest: 0.6804642\tbest: 0.6804642 (200)\ttotal: 5.24s\tremaining: 46.9s\n",
      "300:\ttest: 0.6851104\tbest: 0.6851614 (295)\ttotal: 7.94s\tremaining: 44.8s\n",
      "400:\ttest: 0.6873998\tbest: 0.6874555 (396)\ttotal: 10.6s\tremaining: 42.2s\n",
      "500:\ttest: 0.6876299\tbest: 0.6877196 (489)\ttotal: 13.2s\tremaining: 39.6s\n",
      "600:\ttest: 0.6890990\tbest: 0.6891475 (584)\ttotal: 15.9s\tremaining: 37.1s\n",
      "700:\ttest: 0.6895364\tbest: 0.6895364 (700)\ttotal: 18.6s\tremaining: 34.5s\n",
      "800:\ttest: 0.6902346\tbest: 0.6902346 (800)\ttotal: 21.3s\tremaining: 31.9s\n",
      "900:\ttest: 0.6912178\tbest: 0.6912178 (900)\ttotal: 24s\tremaining: 29.3s\n",
      "1000:\ttest: 0.6925745\tbest: 0.6925745 (1000)\ttotal: 26.7s\tremaining: 26.6s\n",
      "bestTest = 0.6926104426\n",
      "bestIteration = 1006\n",
      "Shrink model to first 1007 iterations.\n"
     ]
    },
    {
     "name": "stderr",
     "output_type": "stream",
     "text": [
      "Default metric period is 5 because AUC is/are not implemented for GPU\n"
     ]
    },
    {
     "name": "stdout",
     "output_type": "stream",
     "text": [
      "0:\ttest: 0.4998853\tbest: 0.4998853 (0)\ttotal: 24.6ms\tremaining: 49.1s\n",
      "100:\ttest: 0.6792883\tbest: 0.6792883 (100)\ttotal: 2.62s\tremaining: 49.3s\n",
      "200:\ttest: 0.6831379\tbest: 0.6832939 (198)\ttotal: 5.26s\tremaining: 47.1s\n",
      "300:\ttest: 0.6863756\tbest: 0.6865491 (292)\ttotal: 7.97s\tremaining: 45s\n",
      "400:\ttest: 0.6881212\tbest: 0.6882943 (392)\ttotal: 10.6s\tremaining: 42.4s\n",
      "500:\ttest: 0.6897756\tbest: 0.6897756 (500)\ttotal: 13.3s\tremaining: 39.9s\n",
      "600:\ttest: 0.6901131\tbest: 0.6906806 (538)\ttotal: 16s\tremaining: 37.3s\n",
      "700:\ttest: 0.6905577\tbest: 0.6908448 (643)\ttotal: 18.7s\tremaining: 34.7s\n",
      "800:\ttest: 0.6922880\tbest: 0.6923519 (797)\ttotal: 21.4s\tremaining: 32s\n",
      "900:\ttest: 0.6925240\tbest: 0.6927794 (825)\ttotal: 24s\tremaining: 29.3s\n",
      "bestTest = 0.692779392\n",
      "bestIteration = 825\n",
      "Shrink model to first 826 iterations.\n"
     ]
    },
    {
     "name": "stderr",
     "output_type": "stream",
     "text": [
      "Default metric period is 5 because AUC is/are not implemented for GPU\n"
     ]
    },
    {
     "name": "stdout",
     "output_type": "stream",
     "text": [
      "0:\ttest: 0.4998853\tbest: 0.4998853 (0)\ttotal: 25.6ms\tremaining: 51.2s\n",
      "100:\ttest: 0.6818265\tbest: 0.6823867 (97)\ttotal: 2.62s\tremaining: 49.4s\n",
      "200:\ttest: 0.6851378\tbest: 0.6851600 (198)\ttotal: 5.27s\tremaining: 47.1s\n",
      "300:\ttest: 0.6873954\tbest: 0.6875776 (293)\ttotal: 7.93s\tremaining: 44.8s\n",
      "400:\ttest: 0.6891604\tbest: 0.6895993 (391)\ttotal: 10.6s\tremaining: 42.3s\n",
      "bestTest = 0.6895992756\n",
      "bestIteration = 391\n",
      "Shrink model to first 392 iterations.\n"
     ]
    },
    {
     "name": "stderr",
     "output_type": "stream",
     "text": [
      "Default metric period is 5 because AUC is/are not implemented for GPU\n"
     ]
    },
    {
     "name": "stdout",
     "output_type": "stream",
     "text": [
      "0:\ttest: 0.4998853\tbest: 0.4998853 (0)\ttotal: 24.5ms\tremaining: 49s\n",
      "100:\ttest: 0.6811063\tbest: 0.6813488 (96)\ttotal: 2.64s\tremaining: 49.7s\n",
      "200:\ttest: 0.6860135\tbest: 0.6860923 (198)\ttotal: 5.3s\tremaining: 47.4s\n",
      "300:\ttest: 0.6898552\tbest: 0.6898552 (300)\ttotal: 8.02s\tremaining: 45.3s\n",
      "bestTest = 0.6898554564\n",
      "bestIteration = 301\n",
      "Shrink model to first 302 iterations.\n"
     ]
    },
    {
     "name": "stderr",
     "output_type": "stream",
     "text": [
      "Default metric period is 5 because AUC is/are not implemented for GPU\n"
     ]
    },
    {
     "name": "stdout",
     "output_type": "stream",
     "text": [
      "0:\ttest: 0.4998853\tbest: 0.4998853 (0)\ttotal: 26.4ms\tremaining: 52.7s\n",
      "100:\ttest: 0.6485182\tbest: 0.6490508 (94)\ttotal: 2.69s\tremaining: 50.6s\n",
      "200:\ttest: 0.6718477\tbest: 0.6718477 (200)\ttotal: 5.34s\tremaining: 47.8s\n",
      "300:\ttest: 0.6763064\tbest: 0.6763064 (300)\ttotal: 8.03s\tremaining: 45.3s\n",
      "400:\ttest: 0.6805996\tbest: 0.6806325 (398)\ttotal: 10.7s\tremaining: 42.8s\n",
      "500:\ttest: 0.6826725\tbest: 0.6826725 (500)\ttotal: 13.5s\tremaining: 40.3s\n",
      "600:\ttest: 0.6839461\tbest: 0.6839461 (600)\ttotal: 16.2s\tremaining: 37.6s\n",
      "700:\ttest: 0.6842286\tbest: 0.6844165 (646)\ttotal: 18.8s\tremaining: 34.9s\n",
      "800:\ttest: 0.6852571\tbest: 0.6852727 (782)\ttotal: 21.5s\tremaining: 32.2s\n",
      "900:\ttest: 0.6858662\tbest: 0.6860564 (869)\ttotal: 24.3s\tremaining: 29.6s\n",
      "1000:\ttest: 0.6867102\tbest: 0.6867102 (1000)\ttotal: 27s\tremaining: 26.9s\n",
      "1100:\ttest: 0.6868881\tbest: 0.6869598 (1079)\ttotal: 29.7s\tremaining: 24.2s\n",
      "1200:\ttest: 0.6874871\tbest: 0.6874871 (1200)\ttotal: 32.4s\tremaining: 21.6s\n",
      "1300:\ttest: 0.6879826\tbest: 0.6880000 (1295)\ttotal: 35.1s\tremaining: 18.9s\n",
      "1400:\ttest: 0.6887454\tbest: 0.6888507 (1387)\ttotal: 37.9s\tremaining: 16.2s\n",
      "1500:\ttest: 0.6892269\tbest: 0.6892269 (1500)\ttotal: 40.6s\tremaining: 13.5s\n",
      "1600:\ttest: 0.6899102\tbest: 0.6899548 (1565)\ttotal: 43.3s\tremaining: 10.8s\n",
      "1700:\ttest: 0.6904090\tbest: 0.6904192 (1684)\ttotal: 46s\tremaining: 8.09s\n",
      "1800:\ttest: 0.6905957\tbest: 0.6906641 (1721)\ttotal: 48.7s\tremaining: 5.38s\n",
      "bestTest = 0.690664053\n",
      "bestIteration = 1721\n",
      "Shrink model to first 1722 iterations.\n"
     ]
    },
    {
     "name": "stderr",
     "output_type": "stream",
     "text": [
      "Default metric period is 5 because AUC is/are not implemented for GPU\n"
     ]
    },
    {
     "name": "stdout",
     "output_type": "stream",
     "text": [
      "0:\ttest: 0.4998853\tbest: 0.4998853 (0)\ttotal: 24.7ms\tremaining: 49.3s\n",
      "100:\ttest: 0.6745645\tbest: 0.6745645 (100)\ttotal: 2.6s\tremaining: 48.9s\n",
      "200:\ttest: 0.6797347\tbest: 0.6797347 (200)\ttotal: 5.24s\tremaining: 46.9s\n",
      "300:\ttest: 0.6851265\tbest: 0.6852269 (295)\ttotal: 7.97s\tremaining: 45s\n",
      "400:\ttest: 0.6873227\tbest: 0.6874382 (396)\ttotal: 10.7s\tremaining: 42.6s\n",
      "bestTest = 0.68743819\n",
      "bestIteration = 396\n",
      "Shrink model to first 397 iterations.\n"
     ]
    },
    {
     "name": "stderr",
     "output_type": "stream",
     "text": [
      "Default metric period is 5 because AUC is/are not implemented for GPU\n"
     ]
    },
    {
     "name": "stdout",
     "output_type": "stream",
     "text": [
      "0:\ttest: 0.4998853\tbest: 0.4998853 (0)\ttotal: 25.4ms\tremaining: 50.7s\n",
      "100:\ttest: 0.6808272\tbest: 0.6808272 (100)\ttotal: 2.68s\tremaining: 50.4s\n",
      "200:\ttest: 0.6837032\tbest: 0.6838406 (198)\ttotal: 5.38s\tremaining: 48.2s\n",
      "300:\ttest: 0.6872891\tbest: 0.6874984 (290)\ttotal: 8.09s\tremaining: 45.7s\n",
      "bestTest = 0.6874984205\n",
      "bestIteration = 290\n",
      "Shrink model to first 291 iterations.\n"
     ]
    },
    {
     "name": "stderr",
     "output_type": "stream",
     "text": [
      "Default metric period is 5 because AUC is/are not implemented for GPU\n"
     ]
    },
    {
     "name": "stdout",
     "output_type": "stream",
     "text": [
      "0:\ttest: 0.4998853\tbest: 0.4998853 (0)\ttotal: 26.9ms\tremaining: 53.8s\n",
      "100:\ttest: 0.6823298\tbest: 0.6826855 (97)\ttotal: 2.73s\tremaining: 51.4s\n",
      "200:\ttest: 0.6852681\tbest: 0.6853007 (198)\ttotal: 5.46s\tremaining: 48.9s\n",
      "300:\ttest: 0.6874004\tbest: 0.6876012 (292)\ttotal: 8.2s\tremaining: 46.3s\n",
      "400:\ttest: 0.6895162\tbest: 0.6898062 (391)\ttotal: 10.9s\tremaining: 43.6s\n",
      "500:\ttest: 0.6908153\tbest: 0.6908587 (496)\ttotal: 13.6s\tremaining: 40.7s\n",
      "600:\ttest: 0.6915433\tbest: 0.6919426 (590)\ttotal: 16.3s\tremaining: 38s\n",
      "bestTest = 0.6919426322\n",
      "bestIteration = 590\n",
      "Shrink model to first 591 iterations.\n"
     ]
    },
    {
     "name": "stderr",
     "output_type": "stream",
     "text": [
      "Default metric period is 5 because AUC is/are not implemented for GPU\n"
     ]
    },
    {
     "name": "stdout",
     "output_type": "stream",
     "text": [
      "0:\ttest: 0.4998853\tbest: 0.4998853 (0)\ttotal: 24.6ms\tremaining: 49.2s\n",
      "100:\ttest: 0.6801271\tbest: 0.6803787 (97)\ttotal: 2.64s\tremaining: 49.7s\n",
      "200:\ttest: 0.6854017\tbest: 0.6854751 (198)\ttotal: 5.3s\tremaining: 47.5s\n",
      "300:\ttest: 0.6876057\tbest: 0.6878292 (291)\ttotal: 7.99s\tremaining: 45.1s\n",
      "400:\ttest: 0.6894393\tbest: 0.6895601 (392)\ttotal: 10.7s\tremaining: 42.6s\n",
      "bestTest = 0.6895601153\n",
      "bestIteration = 392\n",
      "Shrink model to first 393 iterations.\n"
     ]
    },
    {
     "name": "stderr",
     "output_type": "stream",
     "text": [
      "Default metric period is 5 because AUC is/are not implemented for GPU\n"
     ]
    },
    {
     "name": "stdout",
     "output_type": "stream",
     "text": [
      "0:\ttest: 0.5078242\tbest: 0.5078242 (0)\ttotal: 24.6ms\tremaining: 1m 1s\n",
      "100:\ttest: 0.6492525\tbest: 0.6503350 (91)\ttotal: 2.57s\tremaining: 1m 1s\n",
      "200:\ttest: 0.6711235\tbest: 0.6711843 (199)\ttotal: 5.15s\tremaining: 58.9s\n",
      "300:\ttest: 0.6762710\tbest: 0.6762710 (300)\ttotal: 7.78s\tremaining: 56.8s\n",
      "400:\ttest: 0.6773821\tbest: 0.6774374 (393)\ttotal: 10.4s\tremaining: 54.4s\n",
      "500:\ttest: 0.6793835\tbest: 0.6793838 (498)\ttotal: 13s\tremaining: 51.9s\n",
      "600:\ttest: 0.6805359\tbest: 0.6809461 (569)\ttotal: 15.7s\tremaining: 49.6s\n",
      "700:\ttest: 0.6816489\tbest: 0.6817385 (666)\ttotal: 18.3s\tremaining: 47.1s\n",
      "800:\ttest: 0.6836247\tbest: 0.6836247 (800)\ttotal: 21s\tremaining: 44.6s\n",
      "900:\ttest: 0.6835835\tbest: 0.6837486 (826)\ttotal: 23.6s\tremaining: 42s\n",
      "bestTest = 0.6837486327\n",
      "bestIteration = 826\n",
      "Shrink model to first 827 iterations.\n"
     ]
    },
    {
     "name": "stderr",
     "output_type": "stream",
     "text": [
      "Default metric period is 5 because AUC is/are not implemented for GPU\n"
     ]
    },
    {
     "name": "stdout",
     "output_type": "stream",
     "text": [
      "0:\ttest: 0.5078242\tbest: 0.5078242 (0)\ttotal: 24.9ms\tremaining: 1m 2s\n",
      "100:\ttest: 0.6702237\tbest: 0.6705583 (99)\ttotal: 2.63s\tremaining: 1m 2s\n",
      "200:\ttest: 0.6759773\tbest: 0.6759773 (200)\ttotal: 5.31s\tremaining: 1m\n",
      "300:\ttest: 0.6802824\tbest: 0.6804431 (293)\ttotal: 7.96s\tremaining: 58.2s\n",
      "400:\ttest: 0.6829436\tbest: 0.6831523 (394)\ttotal: 10.6s\tremaining: 55.4s\n",
      "500:\ttest: 0.6834705\tbest: 0.6837535 (484)\ttotal: 13.2s\tremaining: 52.7s\n",
      "600:\ttest: 0.6840105\tbest: 0.6840313 (599)\ttotal: 15.9s\tremaining: 50.3s\n",
      "700:\ttest: 0.6850269\tbest: 0.6851992 (696)\ttotal: 18.7s\tremaining: 48.1s\n",
      "800:\ttest: 0.6871719\tbest: 0.6871719 (800)\ttotal: 21.5s\tremaining: 45.6s\n",
      "900:\ttest: 0.6875856\tbest: 0.6876388 (892)\ttotal: 24.3s\tremaining: 43.1s\n",
      "1000:\ttest: 0.6884564\tbest: 0.6885754 (995)\ttotal: 27.1s\tremaining: 40.5s\n",
      "1100:\ttest: 0.6885529\tbest: 0.6888905 (1052)\ttotal: 29.9s\tremaining: 38s\n",
      "bestTest = 0.6888905466\n",
      "bestIteration = 1052\n",
      "Shrink model to first 1053 iterations.\n"
     ]
    },
    {
     "name": "stderr",
     "output_type": "stream",
     "text": [
      "Default metric period is 5 because AUC is/are not implemented for GPU\n"
     ]
    },
    {
     "name": "stdout",
     "output_type": "stream",
     "text": [
      "0:\ttest: 0.5078242\tbest: 0.5078242 (0)\ttotal: 26.3ms\tremaining: 1m 5s\n",
      "100:\ttest: 0.6771752\tbest: 0.6771752 (100)\ttotal: 2.82s\tremaining: 1m 6s\n",
      "200:\ttest: 0.6815974\tbest: 0.6815974 (200)\ttotal: 5.62s\tremaining: 1m 4s\n",
      "300:\ttest: 0.6852677\tbest: 0.6853830 (293)\ttotal: 8.44s\tremaining: 1m 1s\n",
      "400:\ttest: 0.6856081\tbest: 0.6857827 (371)\ttotal: 11.2s\tremaining: 58.9s\n",
      "500:\ttest: 0.6851609\tbest: 0.6860488 (473)\ttotal: 14.1s\tremaining: 56.1s\n",
      "600:\ttest: 0.6858051\tbest: 0.6861237 (542)\ttotal: 16.9s\tremaining: 53.3s\n",
      "700:\ttest: 0.6857924\tbest: 0.6865273 (643)\ttotal: 19.7s\tremaining: 50.5s\n",
      "bestTest = 0.6865273118\n",
      "bestIteration = 643\n",
      "Shrink model to first 644 iterations.\n"
     ]
    },
    {
     "name": "stderr",
     "output_type": "stream",
     "text": [
      "Default metric period is 5 because AUC is/are not implemented for GPU\n"
     ]
    },
    {
     "name": "stdout",
     "output_type": "stream",
     "text": [
      "0:\ttest: 0.5078242\tbest: 0.5078242 (0)\ttotal: 27ms\tremaining: 1m 7s\n",
      "100:\ttest: 0.6810890\tbest: 0.6813509 (98)\ttotal: 2.79s\tremaining: 1m 6s\n",
      "200:\ttest: 0.6830139\tbest: 0.6831466 (197)\ttotal: 5.6s\tremaining: 1m 4s\n",
      "300:\ttest: 0.6847503\tbest: 0.6852261 (292)\ttotal: 8.43s\tremaining: 1m 1s\n",
      "400:\ttest: 0.6857251\tbest: 0.6860683 (392)\ttotal: 11.3s\tremaining: 59.1s\n",
      "500:\ttest: 0.6849628\tbest: 0.6864044 (447)\ttotal: 14.1s\tremaining: 56.1s\n",
      "bestTest = 0.686404407\n",
      "bestIteration = 447\n",
      "Shrink model to first 448 iterations.\n"
     ]
    },
    {
     "name": "stderr",
     "output_type": "stream",
     "text": [
      "Default metric period is 5 because AUC is/are not implemented for GPU\n"
     ]
    },
    {
     "name": "stdout",
     "output_type": "stream",
     "text": [
      "0:\ttest: 0.5078242\tbest: 0.5078242 (0)\ttotal: 26.5ms\tremaining: 1m 6s\n",
      "100:\ttest: 0.6798923\tbest: 0.6800299 (97)\ttotal: 2.77s\tremaining: 1m 5s\n",
      "200:\ttest: 0.6849536\tbest: 0.6849536 (200)\ttotal: 5.53s\tremaining: 1m 3s\n",
      "300:\ttest: 0.6861083\tbest: 0.6870912 (283)\ttotal: 8.32s\tremaining: 1m\n",
      "400:\ttest: 0.6866882\tbest: 0.6872965 (335)\ttotal: 11.2s\tremaining: 58.4s\n",
      "bestTest = 0.6872964799\n",
      "bestIteration = 335\n",
      "Shrink model to first 336 iterations.\n"
     ]
    },
    {
     "name": "stderr",
     "output_type": "stream",
     "text": [
      "Default metric period is 5 because AUC is/are not implemented for GPU\n"
     ]
    },
    {
     "name": "stdout",
     "output_type": "stream",
     "text": [
      "0:\ttest: 0.5084738\tbest: 0.5084738 (0)\ttotal: 26.6ms\tremaining: 1m 6s\n",
      "100:\ttest: 0.6506866\tbest: 0.6518820 (96)\ttotal: 2.73s\tremaining: 1m 4s\n",
      "200:\ttest: 0.6695410\tbest: 0.6695437 (199)\ttotal: 5.45s\tremaining: 1m 2s\n",
      "300:\ttest: 0.6749203\tbest: 0.6749203 (300)\ttotal: 8.25s\tremaining: 1m\n",
      "400:\ttest: 0.6786869\tbest: 0.6786869 (400)\ttotal: 11s\tremaining: 57.8s\n",
      "500:\ttest: 0.6798504\tbest: 0.6798726 (486)\ttotal: 13.9s\tremaining: 55.3s\n",
      "600:\ttest: 0.6811767\tbest: 0.6811779 (597)\ttotal: 16.6s\tremaining: 52.6s\n",
      "700:\ttest: 0.6817658\tbest: 0.6819537 (640)\ttotal: 19.4s\tremaining: 49.8s\n",
      "800:\ttest: 0.6834650\tbest: 0.6834735 (797)\ttotal: 22.2s\tremaining: 47.1s\n",
      "900:\ttest: 0.6839390\tbest: 0.6839402 (897)\ttotal: 25s\tremaining: 44.3s\n",
      "1000:\ttest: 0.6844562\tbest: 0.6844562 (1000)\ttotal: 27.8s\tremaining: 41.6s\n",
      "1100:\ttest: 0.6848720\tbest: 0.6848792 (1099)\ttotal: 30.5s\tremaining: 38.8s\n",
      "1200:\ttest: 0.6856683\tbest: 0.6856683 (1200)\ttotal: 33.3s\tremaining: 36s\n",
      "1300:\ttest: 0.6863847\tbest: 0.6864068 (1296)\ttotal: 36.1s\tremaining: 33.3s\n",
      "1400:\ttest: 0.6871901\tbest: 0.6872190 (1357)\ttotal: 38.9s\tremaining: 30.5s\n",
      "1500:\ttest: 0.6875758\tbest: 0.6875758 (1500)\ttotal: 41.7s\tremaining: 27.8s\n",
      "1600:\ttest: 0.6880184\tbest: 0.6881050 (1566)\ttotal: 44.6s\tremaining: 25s\n",
      "1700:\ttest: 0.6887493\tbest: 0.6887985 (1696)\ttotal: 47.3s\tremaining: 22.2s\n",
      "1800:\ttest: 0.6889347\tbest: 0.6889494 (1799)\ttotal: 50.1s\tremaining: 19.5s\n",
      "1900:\ttest: 0.6892613\tbest: 0.6893233 (1885)\ttotal: 53s\tremaining: 16.7s\n",
      "2000:\ttest: 0.6896059\tbest: 0.6896059 (2000)\ttotal: 55.8s\tremaining: 13.9s\n",
      "2100:\ttest: 0.6897720\tbest: 0.6897720 (2100)\ttotal: 58.6s\tremaining: 11.1s\n",
      "2200:\ttest: 0.6902843\tbest: 0.6902843 (2200)\ttotal: 1m 1s\tremaining: 8.35s\n",
      "2300:\ttest: 0.6903816\tbest: 0.6904472 (2274)\ttotal: 1m 4s\tremaining: 5.55s\n",
      "2400:\ttest: 0.6903575\tbest: 0.6904768 (2369)\ttotal: 1m 7s\tremaining: 2.76s\n",
      "bestTest = 0.6904767752\n",
      "bestIteration = 2369\n",
      "Shrink model to first 2370 iterations.\n"
     ]
    },
    {
     "name": "stderr",
     "output_type": "stream",
     "text": [
      "Default metric period is 5 because AUC is/are not implemented for GPU\n"
     ]
    },
    {
     "name": "stdout",
     "output_type": "stream",
     "text": [
      "0:\ttest: 0.5084738\tbest: 0.5084738 (0)\ttotal: 27.3ms\tremaining: 1m 8s\n",
      "100:\ttest: 0.6708106\tbest: 0.6717027 (98)\ttotal: 2.82s\tremaining: 1m 6s\n",
      "200:\ttest: 0.6795127\tbest: 0.6795602 (199)\ttotal: 5.6s\tremaining: 1m 4s\n",
      "300:\ttest: 0.6829756\tbest: 0.6829756 (300)\ttotal: 8.42s\tremaining: 1m 1s\n",
      "400:\ttest: 0.6851324\tbest: 0.6852509 (394)\ttotal: 11.2s\tremaining: 58.7s\n",
      "500:\ttest: 0.6858758\tbest: 0.6860889 (450)\ttotal: 14s\tremaining: 55.8s\n",
      "600:\ttest: 0.6863802\tbest: 0.6866458 (549)\ttotal: 16.8s\tremaining: 53.1s\n",
      "700:\ttest: 0.6873521\tbest: 0.6873723 (688)\ttotal: 19.6s\tremaining: 50.4s\n",
      "800:\ttest: 0.6879456\tbest: 0.6879647 (799)\ttotal: 22.4s\tremaining: 47.6s\n",
      "900:\ttest: 0.6889388\tbest: 0.6889388 (900)\ttotal: 25.3s\tremaining: 44.9s\n",
      "1000:\ttest: 0.6902354\tbest: 0.6902354 (1000)\ttotal: 28.2s\tremaining: 42.2s\n",
      "bestTest = 0.6902354062\n",
      "bestIteration = 1000\n",
      "Shrink model to first 1001 iterations.\n"
     ]
    },
    {
     "name": "stderr",
     "output_type": "stream",
     "text": [
      "Default metric period is 5 because AUC is/are not implemented for GPU\n"
     ]
    },
    {
     "name": "stdout",
     "output_type": "stream",
     "text": [
      "0:\ttest: 0.5084738\tbest: 0.5084738 (0)\ttotal: 26.3ms\tremaining: 1m 5s\n",
      "100:\ttest: 0.6768973\tbest: 0.6771680 (98)\ttotal: 2.85s\tremaining: 1m 7s\n",
      "200:\ttest: 0.6797471\tbest: 0.6797471 (200)\ttotal: 5.66s\tremaining: 1m 4s\n",
      "300:\ttest: 0.6835499\tbest: 0.6838612 (292)\ttotal: 8.48s\tremaining: 1m 1s\n",
      "400:\ttest: 0.6850677\tbest: 0.6852179 (393)\ttotal: 11.3s\tremaining: 59.1s\n",
      "500:\ttest: 0.6863151\tbest: 0.6867624 (473)\ttotal: 14.1s\tremaining: 56.3s\n",
      "bestTest = 0.6867624223\n",
      "bestIteration = 473\n",
      "Shrink model to first 474 iterations.\n"
     ]
    },
    {
     "name": "stderr",
     "output_type": "stream",
     "text": [
      "Default metric period is 5 because AUC is/are not implemented for GPU\n"
     ]
    },
    {
     "name": "stdout",
     "output_type": "stream",
     "text": [
      "0:\ttest: 0.5084738\tbest: 0.5084738 (0)\ttotal: 26.1ms\tremaining: 1m 5s\n",
      "100:\ttest: 0.6812739\tbest: 0.6817296 (97)\ttotal: 2.79s\tremaining: 1m 6s\n",
      "200:\ttest: 0.6846681\tbest: 0.6847021 (198)\ttotal: 5.58s\tremaining: 1m 3s\n",
      "300:\ttest: 0.6872903\tbest: 0.6877305 (290)\ttotal: 8.36s\tremaining: 1m 1s\n",
      "400:\ttest: 0.6881405\tbest: 0.6884686 (327)\ttotal: 11.2s\tremaining: 58.4s\n",
      "bestTest = 0.6884685755\n",
      "bestIteration = 327\n",
      "Shrink model to first 328 iterations.\n"
     ]
    },
    {
     "name": "stderr",
     "output_type": "stream",
     "text": [
      "Default metric period is 5 because AUC is/are not implemented for GPU\n"
     ]
    },
    {
     "name": "stdout",
     "output_type": "stream",
     "text": [
      "0:\ttest: 0.5084738\tbest: 0.5084738 (0)\ttotal: 26.5ms\tremaining: 1m 6s\n",
      "100:\ttest: 0.6804118\tbest: 0.6806776 (96)\ttotal: 2.84s\tremaining: 1m 7s\n",
      "200:\ttest: 0.6832027\tbest: 0.6832707 (188)\ttotal: 5.64s\tremaining: 1m 4s\n",
      "300:\ttest: 0.6846703\tbest: 0.6848169 (295)\ttotal: 8.46s\tremaining: 1m 1s\n",
      "400:\ttest: 0.6853453\tbest: 0.6864261 (366)\ttotal: 11.3s\tremaining: 59.1s\n",
      "bestTest = 0.6864261031\n",
      "bestIteration = 366\n",
      "Shrink model to first 367 iterations.\n"
     ]
    },
    {
     "name": "stderr",
     "output_type": "stream",
     "text": [
      "Default metric period is 5 because AUC is/are not implemented for GPU\n"
     ]
    },
    {
     "name": "stdout",
     "output_type": "stream",
     "text": [
      "0:\ttest: 0.4998853\tbest: 0.4998853 (0)\ttotal: 25.7ms\tremaining: 1m 4s\n",
      "100:\ttest: 0.6489863\tbest: 0.6506839 (86)\ttotal: 2.72s\tremaining: 1m 4s\n",
      "200:\ttest: 0.6705132\tbest: 0.6705132 (200)\ttotal: 5.47s\tremaining: 1m 2s\n",
      "300:\ttest: 0.6752197\tbest: 0.6752197 (300)\ttotal: 8.26s\tremaining: 1m\n",
      "400:\ttest: 0.6793580\tbest: 0.6793580 (400)\ttotal: 11s\tremaining: 57.8s\n",
      "500:\ttest: 0.6813720\tbest: 0.6813720 (500)\ttotal: 13.9s\tremaining: 55.4s\n",
      "600:\ttest: 0.6823663\tbest: 0.6823663 (600)\ttotal: 16.7s\tremaining: 52.7s\n",
      "700:\ttest: 0.6827191\tbest: 0.6828458 (662)\ttotal: 19.5s\tremaining: 50s\n",
      "800:\ttest: 0.6840665\tbest: 0.6840674 (798)\ttotal: 22.3s\tremaining: 47.3s\n",
      "900:\ttest: 0.6848739\tbest: 0.6849111 (890)\ttotal: 25.1s\tremaining: 44.5s\n",
      "1000:\ttest: 0.6860493\tbest: 0.6860667 (999)\ttotal: 27.9s\tremaining: 41.8s\n",
      "1100:\ttest: 0.6865095\tbest: 0.6865320 (1078)\ttotal: 30.7s\tremaining: 39s\n",
      "1200:\ttest: 0.6869097\tbest: 0.6869097 (1200)\ttotal: 33.5s\tremaining: 36.2s\n",
      "1300:\ttest: 0.6874900\tbest: 0.6874909 (1299)\ttotal: 36.3s\tremaining: 33.5s\n",
      "1400:\ttest: 0.6883833\tbest: 0.6884173 (1399)\ttotal: 39.1s\tremaining: 30.7s\n",
      "1500:\ttest: 0.6890513\tbest: 0.6890513 (1500)\ttotal: 41.9s\tremaining: 27.9s\n",
      "1600:\ttest: 0.6894609\tbest: 0.6895414 (1563)\ttotal: 44.8s\tremaining: 25.1s\n",
      "1700:\ttest: 0.6898412\tbest: 0.6898607 (1696)\ttotal: 47.6s\tremaining: 22.3s\n",
      "1800:\ttest: 0.6901943\tbest: 0.6901951 (1798)\ttotal: 50.4s\tremaining: 19.6s\n",
      "1900:\ttest: 0.6907765\tbest: 0.6907765 (1900)\ttotal: 53.3s\tremaining: 16.8s\n",
      "2000:\ttest: 0.6912475\tbest: 0.6912475 (2000)\ttotal: 56.2s\tremaining: 14s\n",
      "2100:\ttest: 0.6914462\tbest: 0.6914462 (2100)\ttotal: 59s\tremaining: 11.2s\n",
      "2200:\ttest: 0.6917740\tbest: 0.6917801 (2195)\ttotal: 1m 1s\tremaining: 8.41s\n",
      "2300:\ttest: 0.6919415\tbest: 0.6920420 (2277)\ttotal: 1m 4s\tremaining: 5.6s\n",
      "2400:\ttest: 0.6919228\tbest: 0.6921455 (2325)\ttotal: 1m 7s\tremaining: 2.79s\n",
      "bestTest = 0.6921454966\n",
      "bestIteration = 2325\n",
      "Shrink model to first 2326 iterations.\n"
     ]
    },
    {
     "name": "stderr",
     "output_type": "stream",
     "text": [
      "Default metric period is 5 because AUC is/are not implemented for GPU\n"
     ]
    },
    {
     "name": "stdout",
     "output_type": "stream",
     "text": [
      "0:\ttest: 0.4998853\tbest: 0.4998853 (0)\ttotal: 27.1ms\tremaining: 1m 7s\n",
      "100:\ttest: 0.6717128\tbest: 0.6726654 (98)\ttotal: 2.77s\tremaining: 1m 5s\n",
      "200:\ttest: 0.6784606\tbest: 0.6786014 (199)\ttotal: 5.55s\tremaining: 1m 3s\n",
      "300:\ttest: 0.6834999\tbest: 0.6835307 (293)\ttotal: 8.36s\tremaining: 1m 1s\n",
      "400:\ttest: 0.6857437\tbest: 0.6857760 (394)\ttotal: 11.2s\tremaining: 58.5s\n",
      "500:\ttest: 0.6877143\tbest: 0.6877263 (498)\ttotal: 14s\tremaining: 55.9s\n",
      "600:\ttest: 0.6885132\tbest: 0.6887060 (549)\ttotal: 16.8s\tremaining: 53.1s\n",
      "700:\ttest: 0.6896630\tbest: 0.6896630 (700)\ttotal: 19.6s\tremaining: 50.3s\n",
      "800:\ttest: 0.6902201\tbest: 0.6902431 (797)\ttotal: 22.4s\tremaining: 47.6s\n",
      "900:\ttest: 0.6908722\tbest: 0.6908722 (900)\ttotal: 25.2s\tremaining: 44.8s\n",
      "1000:\ttest: 0.6927349\tbest: 0.6927349 (1000)\ttotal: 28.1s\tremaining: 42s\n",
      "bestTest = 0.6927582622\n",
      "bestIteration = 1001\n",
      "Shrink model to first 1002 iterations.\n"
     ]
    },
    {
     "name": "stderr",
     "output_type": "stream",
     "text": [
      "Default metric period is 5 because AUC is/are not implemented for GPU\n"
     ]
    },
    {
     "name": "stdout",
     "output_type": "stream",
     "text": [
      "0:\ttest: 0.4998853\tbest: 0.4998853 (0)\ttotal: 26.4ms\tremaining: 1m 5s\n",
      "100:\ttest: 0.6767732\tbest: 0.6767978 (96)\ttotal: 2.75s\tremaining: 1m 5s\n",
      "200:\ttest: 0.6833034\tbest: 0.6833051 (199)\ttotal: 5.54s\tremaining: 1m 3s\n",
      "300:\ttest: 0.6857785\tbest: 0.6859260 (292)\ttotal: 8.4s\tremaining: 1m 1s\n",
      "400:\ttest: 0.6883433\tbest: 0.6883897 (390)\ttotal: 11.2s\tremaining: 58.6s\n",
      "500:\ttest: 0.6890747\tbest: 0.6892364 (481)\ttotal: 14s\tremaining: 55.9s\n",
      "600:\ttest: 0.6897244\tbest: 0.6900969 (561)\ttotal: 16.8s\tremaining: 53.1s\n",
      "700:\ttest: 0.6910204\tbest: 0.6910466 (699)\ttotal: 19.6s\tremaining: 50.3s\n",
      "800:\ttest: 0.6921718\tbest: 0.6921896 (797)\ttotal: 22.4s\tremaining: 47.5s\n",
      "900:\ttest: 0.6918134\tbest: 0.6924109 (842)\ttotal: 25.2s\tremaining: 44.8s\n",
      "bestTest = 0.6924109459\n",
      "bestIteration = 842\n",
      "Shrink model to first 843 iterations.\n"
     ]
    },
    {
     "name": "stderr",
     "output_type": "stream",
     "text": [
      "Default metric period is 5 because AUC is/are not implemented for GPU\n"
     ]
    },
    {
     "name": "stdout",
     "output_type": "stream",
     "text": [
      "0:\ttest: 0.4998853\tbest: 0.4998853 (0)\ttotal: 26.1ms\tremaining: 1m 5s\n",
      "100:\ttest: 0.6813512\tbest: 0.6817074 (97)\ttotal: 2.76s\tremaining: 1m 5s\n",
      "200:\ttest: 0.6861751\tbest: 0.6862049 (198)\ttotal: 5.54s\tremaining: 1m 3s\n",
      "300:\ttest: 0.6884145\tbest: 0.6885409 (290)\ttotal: 8.33s\tremaining: 1m\n",
      "400:\ttest: 0.6895160\tbest: 0.6902346 (391)\ttotal: 11.2s\tremaining: 58.6s\n",
      "500:\ttest: 0.6895884\tbest: 0.6903056 (478)\ttotal: 14s\tremaining: 55.9s\n",
      "bestTest = 0.6903055906\n",
      "bestIteration = 478\n",
      "Shrink model to first 479 iterations.\n"
     ]
    },
    {
     "name": "stderr",
     "output_type": "stream",
     "text": [
      "Default metric period is 5 because AUC is/are not implemented for GPU\n"
     ]
    },
    {
     "name": "stdout",
     "output_type": "stream",
     "text": [
      "0:\ttest: 0.4998853\tbest: 0.4998853 (0)\ttotal: 27.2ms\tremaining: 1m 8s\n",
      "100:\ttest: 0.6814512\tbest: 0.6815825 (96)\ttotal: 2.77s\tremaining: 1m 5s\n",
      "200:\ttest: 0.6853347\tbest: 0.6853347 (200)\ttotal: 5.57s\tremaining: 1m 3s\n",
      "300:\ttest: 0.6885412\tbest: 0.6886481 (294)\ttotal: 8.39s\tremaining: 1m 1s\n",
      "bestTest = 0.6886481047\n",
      "bestIteration = 294\n",
      "Shrink model to first 295 iterations.\n"
     ]
    },
    {
     "name": "stderr",
     "output_type": "stream",
     "text": [
      "Default metric period is 5 because AUC is/are not implemented for GPU\n"
     ]
    },
    {
     "name": "stdout",
     "output_type": "stream",
     "text": [
      "0:\ttest: 0.4998853\tbest: 0.4998853 (0)\ttotal: 26.3ms\tremaining: 1m 5s\n",
      "100:\ttest: 0.6481019\tbest: 0.6489938 (94)\ttotal: 2.71s\tremaining: 1m 4s\n",
      "200:\ttest: 0.6710037\tbest: 0.6710037 (200)\ttotal: 5.46s\tremaining: 1m 2s\n",
      "300:\ttest: 0.6763496\tbest: 0.6763496 (300)\ttotal: 8.27s\tremaining: 1m\n",
      "400:\ttest: 0.6803890\tbest: 0.6804180 (398)\ttotal: 11.1s\tremaining: 57.9s\n",
      "500:\ttest: 0.6817966\tbest: 0.6817982 (489)\ttotal: 13.9s\tremaining: 55.5s\n",
      "600:\ttest: 0.6832083\tbest: 0.6832083 (600)\ttotal: 16.7s\tremaining: 52.8s\n",
      "700:\ttest: 0.6833123\tbest: 0.6833975 (646)\ttotal: 19.5s\tremaining: 50s\n",
      "800:\ttest: 0.6844928\tbest: 0.6844928 (800)\ttotal: 22.3s\tremaining: 47.3s\n",
      "900:\ttest: 0.6851875\tbest: 0.6852833 (858)\ttotal: 25.1s\tremaining: 44.5s\n",
      "1000:\ttest: 0.6860772\tbest: 0.6860772 (1000)\ttotal: 27.9s\tremaining: 41.8s\n",
      "1100:\ttest: 0.6865217\tbest: 0.6866241 (1079)\ttotal: 30.7s\tremaining: 39s\n",
      "1200:\ttest: 0.6871585\tbest: 0.6871585 (1200)\ttotal: 33.5s\tremaining: 36.3s\n",
      "1300:\ttest: 0.6877857\tbest: 0.6877862 (1299)\ttotal: 36.4s\tremaining: 33.5s\n",
      "1400:\ttest: 0.6885856\tbest: 0.6886642 (1387)\ttotal: 39.2s\tremaining: 30.7s\n",
      "1500:\ttest: 0.6889723\tbest: 0.6889872 (1495)\ttotal: 42s\tremaining: 28s\n",
      "1600:\ttest: 0.6894151\tbest: 0.6895297 (1559)\ttotal: 44.9s\tremaining: 25.2s\n",
      "1700:\ttest: 0.6898783\tbest: 0.6898783 (1700)\ttotal: 47.6s\tremaining: 22.4s\n",
      "1800:\ttest: 0.6901315\tbest: 0.6901437 (1798)\ttotal: 50.5s\tremaining: 19.6s\n",
      "1900:\ttest: 0.6905019\tbest: 0.6905159 (1898)\ttotal: 53.3s\tremaining: 16.8s\n",
      "2000:\ttest: 0.6909596\tbest: 0.6909596 (2000)\ttotal: 56.1s\tremaining: 14s\n",
      "2100:\ttest: 0.6913144\tbest: 0.6913329 (2086)\ttotal: 59s\tremaining: 11.2s\n",
      "2200:\ttest: 0.6917565\tbest: 0.6917929 (2185)\ttotal: 1m 1s\tremaining: 8.39s\n",
      "2300:\ttest: 0.6919619\tbest: 0.6920899 (2277)\ttotal: 1m 4s\tremaining: 5.59s\n",
      "2400:\ttest: 0.6918961\tbest: 0.6921391 (2343)\ttotal: 1m 7s\tremaining: 2.78s\n",
      "bestTest = 0.6921390593\n",
      "bestIteration = 2343\n",
      "Shrink model to first 2344 iterations.\n"
     ]
    },
    {
     "name": "stderr",
     "output_type": "stream",
     "text": [
      "Default metric period is 5 because AUC is/are not implemented for GPU\n"
     ]
    },
    {
     "name": "stdout",
     "output_type": "stream",
     "text": [
      "0:\ttest: 0.4998853\tbest: 0.4998853 (0)\ttotal: 26.9ms\tremaining: 1m 7s\n",
      "100:\ttest: 0.6728513\tbest: 0.6736284 (98)\ttotal: 2.74s\tremaining: 1m 5s\n",
      "200:\ttest: 0.6804642\tbest: 0.6804642 (200)\ttotal: 5.56s\tremaining: 1m 3s\n",
      "300:\ttest: 0.6851065\tbest: 0.6851576 (295)\ttotal: 8.35s\tremaining: 1m\n",
      "400:\ttest: 0.6873962\tbest: 0.6874518 (396)\ttotal: 11.1s\tremaining: 58.2s\n",
      "500:\ttest: 0.6876277\tbest: 0.6877162 (489)\ttotal: 13.9s\tremaining: 55.5s\n",
      "600:\ttest: 0.6890963\tbest: 0.6891455 (584)\ttotal: 16.7s\tremaining: 52.8s\n",
      "700:\ttest: 0.6895337\tbest: 0.6895337 (700)\ttotal: 19.5s\tremaining: 50.1s\n",
      "800:\ttest: 0.6902341\tbest: 0.6902341 (800)\ttotal: 22.3s\tremaining: 47.4s\n",
      "900:\ttest: 0.6912175\tbest: 0.6912175 (900)\ttotal: 25.1s\tremaining: 44.6s\n",
      "1000:\ttest: 0.6925740\tbest: 0.6925740 (1000)\ttotal: 27.9s\tremaining: 41.8s\n",
      "bestTest = 0.6926100552\n",
      "bestIteration = 1006\n",
      "Shrink model to first 1007 iterations.\n"
     ]
    },
    {
     "name": "stderr",
     "output_type": "stream",
     "text": [
      "Default metric period is 5 because AUC is/are not implemented for GPU\n"
     ]
    },
    {
     "name": "stdout",
     "output_type": "stream",
     "text": [
      "0:\ttest: 0.4998853\tbest: 0.4998853 (0)\ttotal: 26.3ms\tremaining: 1m 5s\n",
      "100:\ttest: 0.6792883\tbest: 0.6792883 (100)\ttotal: 2.8s\tremaining: 1m 6s\n",
      "200:\ttest: 0.6831379\tbest: 0.6832939 (198)\ttotal: 5.57s\tremaining: 1m 3s\n",
      "300:\ttest: 0.6863816\tbest: 0.6865607 (292)\ttotal: 8.37s\tremaining: 1m 1s\n",
      "400:\ttest: 0.6881261\tbest: 0.6882989 (392)\ttotal: 11.2s\tremaining: 58.6s\n",
      "500:\ttest: 0.6897787\tbest: 0.6897787 (500)\ttotal: 14s\tremaining: 55.9s\n",
      "600:\ttest: 0.6901161\tbest: 0.6906828 (538)\ttotal: 16.8s\tremaining: 53.2s\n",
      "700:\ttest: 0.6905628\tbest: 0.6908489 (643)\ttotal: 19.7s\tremaining: 50.5s\n",
      "800:\ttest: 0.6922929\tbest: 0.6923583 (797)\ttotal: 22.5s\tremaining: 47.6s\n",
      "900:\ttest: 0.6925258\tbest: 0.6927839 (825)\ttotal: 25.3s\tremaining: 44.9s\n",
      "bestTest = 0.6927838624\n",
      "bestIteration = 825\n",
      "Shrink model to first 826 iterations.\n"
     ]
    },
    {
     "name": "stderr",
     "output_type": "stream",
     "text": [
      "Default metric period is 5 because AUC is/are not implemented for GPU\n"
     ]
    },
    {
     "name": "stdout",
     "output_type": "stream",
     "text": [
      "0:\ttest: 0.4998853\tbest: 0.4998853 (0)\ttotal: 27.3ms\tremaining: 1m 8s\n",
      "100:\ttest: 0.6818265\tbest: 0.6823867 (97)\ttotal: 2.75s\tremaining: 1m 5s\n",
      "200:\ttest: 0.6851378\tbest: 0.6851600 (198)\ttotal: 5.57s\tremaining: 1m 3s\n",
      "300:\ttest: 0.6873980\tbest: 0.6875722 (293)\ttotal: 8.37s\tremaining: 1m 1s\n",
      "400:\ttest: 0.6891629\tbest: 0.6896008 (391)\ttotal: 11.2s\tremaining: 58.6s\n",
      "bestTest = 0.6896007657\n",
      "bestIteration = 391\n",
      "Shrink model to first 392 iterations.\n"
     ]
    },
    {
     "name": "stderr",
     "output_type": "stream",
     "text": [
      "Default metric period is 5 because AUC is/are not implemented for GPU\n"
     ]
    },
    {
     "name": "stdout",
     "output_type": "stream",
     "text": [
      "0:\ttest: 0.4998853\tbest: 0.4998853 (0)\ttotal: 26.5ms\tremaining: 1m 6s\n",
      "100:\ttest: 0.6811063\tbest: 0.6813488 (96)\ttotal: 2.77s\tremaining: 1m 5s\n",
      "200:\ttest: 0.6860135\tbest: 0.6860923 (198)\ttotal: 5.6s\tremaining: 1m 4s\n",
      "300:\ttest: 0.6898641\tbest: 0.6898641 (300)\ttotal: 8.44s\tremaining: 1m 1s\n",
      "bestTest = 0.689864397\n",
      "bestIteration = 301\n",
      "Shrink model to first 302 iterations.\n"
     ]
    },
    {
     "name": "stderr",
     "output_type": "stream",
     "text": [
      "Default metric period is 5 because AUC is/are not implemented for GPU\n"
     ]
    },
    {
     "name": "stdout",
     "output_type": "stream",
     "text": [
      "0:\ttest: 0.4998853\tbest: 0.4998853 (0)\ttotal: 26.2ms\tremaining: 1m 5s\n",
      "100:\ttest: 0.6485182\tbest: 0.6490508 (94)\ttotal: 2.72s\tremaining: 1m 4s\n",
      "200:\ttest: 0.6718477\tbest: 0.6718477 (200)\ttotal: 5.46s\tremaining: 1m 2s\n",
      "300:\ttest: 0.6763064\tbest: 0.6763064 (300)\ttotal: 8.23s\tremaining: 1m\n",
      "400:\ttest: 0.6805996\tbest: 0.6806325 (398)\ttotal: 11.1s\tremaining: 58s\n",
      "500:\ttest: 0.6826725\tbest: 0.6826725 (500)\ttotal: 13.9s\tremaining: 55.4s\n",
      "600:\ttest: 0.6839461\tbest: 0.6839461 (600)\ttotal: 16.7s\tremaining: 52.7s\n",
      "700:\ttest: 0.6842302\tbest: 0.6844186 (646)\ttotal: 19.5s\tremaining: 50s\n",
      "800:\ttest: 0.6852590\tbest: 0.6852743 (782)\ttotal: 22.3s\tremaining: 47.2s\n",
      "900:\ttest: 0.6858681\tbest: 0.6860578 (869)\ttotal: 25.1s\tremaining: 44.5s\n",
      "1000:\ttest: 0.6867099\tbest: 0.6867099 (1000)\ttotal: 27.9s\tremaining: 41.7s\n",
      "1100:\ttest: 0.6868877\tbest: 0.6869595 (1079)\ttotal: 30.7s\tremaining: 39s\n",
      "1200:\ttest: 0.6874856\tbest: 0.6874856 (1200)\ttotal: 33.5s\tremaining: 36.2s\n",
      "1300:\ttest: 0.6879813\tbest: 0.6879989 (1295)\ttotal: 36.3s\tremaining: 33.5s\n",
      "1400:\ttest: 0.6887446\tbest: 0.6888500 (1387)\ttotal: 39.1s\tremaining: 30.7s\n",
      "1500:\ttest: 0.6892264\tbest: 0.6892264 (1500)\ttotal: 41.9s\tremaining: 27.9s\n",
      "1600:\ttest: 0.6899043\tbest: 0.6899492 (1565)\ttotal: 44.8s\tremaining: 25.1s\n",
      "1700:\ttest: 0.6904026\tbest: 0.6904125 (1684)\ttotal: 47.6s\tremaining: 22.3s\n",
      "1800:\ttest: 0.6905920\tbest: 0.6906603 (1721)\ttotal: 50.4s\tremaining: 19.6s\n",
      "bestTest = 0.6906602681\n",
      "bestIteration = 1721\n",
      "Shrink model to first 1722 iterations.\n"
     ]
    },
    {
     "name": "stderr",
     "output_type": "stream",
     "text": [
      "Default metric period is 5 because AUC is/are not implemented for GPU\n"
     ]
    },
    {
     "name": "stdout",
     "output_type": "stream",
     "text": [
      "0:\ttest: 0.4998853\tbest: 0.4998853 (0)\ttotal: 26.7ms\tremaining: 1m 6s\n",
      "100:\ttest: 0.6745645\tbest: 0.6745645 (100)\ttotal: 2.78s\tremaining: 1m 6s\n",
      "200:\ttest: 0.6797347\tbest: 0.6797347 (200)\ttotal: 5.54s\tremaining: 1m 3s\n",
      "300:\ttest: 0.6851266\tbest: 0.6852221 (295)\ttotal: 8.35s\tremaining: 1m 1s\n",
      "400:\ttest: 0.6873258\tbest: 0.6874385 (396)\ttotal: 11.2s\tremaining: 58.4s\n",
      "bestTest = 0.687438488\n",
      "bestIteration = 396\n",
      "Shrink model to first 397 iterations.\n"
     ]
    },
    {
     "name": "stderr",
     "output_type": "stream",
     "text": [
      "Default metric period is 5 because AUC is/are not implemented for GPU\n"
     ]
    },
    {
     "name": "stdout",
     "output_type": "stream",
     "text": [
      "0:\ttest: 0.4998853\tbest: 0.4998853 (0)\ttotal: 26.6ms\tremaining: 1m 6s\n",
      "100:\ttest: 0.6808272\tbest: 0.6808272 (100)\ttotal: 2.8s\tremaining: 1m 6s\n",
      "200:\ttest: 0.6837032\tbest: 0.6838406 (198)\ttotal: 5.61s\tremaining: 1m 4s\n",
      "300:\ttest: 0.6872844\tbest: 0.6874929 (290)\ttotal: 8.38s\tremaining: 1m 1s\n",
      "bestTest = 0.687492907\n",
      "bestIteration = 290\n",
      "Shrink model to first 291 iterations.\n"
     ]
    },
    {
     "name": "stderr",
     "output_type": "stream",
     "text": [
      "Default metric period is 5 because AUC is/are not implemented for GPU\n"
     ]
    },
    {
     "name": "stdout",
     "output_type": "stream",
     "text": [
      "0:\ttest: 0.4998853\tbest: 0.4998853 (0)\ttotal: 24.7ms\tremaining: 1m 1s\n",
      "100:\ttest: 0.6823298\tbest: 0.6826855 (97)\ttotal: 2.64s\tremaining: 1m 2s\n",
      "200:\ttest: 0.6852681\tbest: 0.6853007 (198)\ttotal: 5.3s\tremaining: 1m\n",
      "300:\ttest: 0.6873954\tbest: 0.6876012 (292)\ttotal: 8.01s\tremaining: 58.5s\n",
      "400:\ttest: 0.6895117\tbest: 0.6898011 (391)\ttotal: 10.7s\tremaining: 56s\n",
      "500:\ttest: 0.6908117\tbest: 0.6908554 (496)\ttotal: 13.4s\tremaining: 53.4s\n",
      "600:\ttest: 0.6915439\tbest: 0.6919438 (590)\ttotal: 16.1s\tremaining: 50.8s\n",
      "bestTest = 0.6919437647\n",
      "bestIteration = 590\n",
      "Shrink model to first 591 iterations.\n"
     ]
    },
    {
     "name": "stderr",
     "output_type": "stream",
     "text": [
      "Default metric period is 5 because AUC is/are not implemented for GPU\n"
     ]
    },
    {
     "name": "stdout",
     "output_type": "stream",
     "text": [
      "0:\ttest: 0.4998853\tbest: 0.4998853 (0)\ttotal: 25ms\tremaining: 1m 2s\n",
      "100:\ttest: 0.6801271\tbest: 0.6803787 (97)\ttotal: 2.67s\tremaining: 1m 3s\n",
      "200:\ttest: 0.6854017\tbest: 0.6854751 (198)\ttotal: 5.33s\tremaining: 1m 1s\n",
      "300:\ttest: 0.6875886\tbest: 0.6878211 (291)\ttotal: 8.02s\tremaining: 58.6s\n",
      "400:\ttest: 0.6894246\tbest: 0.6895443 (392)\ttotal: 10.7s\tremaining: 56s\n",
      "bestTest = 0.6895443201\n",
      "bestIteration = 392\n",
      "Shrink model to first 393 iterations.\n"
     ]
    },
    {
     "name": "stderr",
     "output_type": "stream",
     "text": [
      "Default metric period is 5 because AUC is/are not implemented for GPU\n"
     ]
    },
    {
     "name": "stdout",
     "output_type": "stream",
     "text": [
      "0:\ttest: 0.5078242\tbest: 0.5078242 (0)\ttotal: 25.1ms\tremaining: 1m 15s\n",
      "100:\ttest: 0.6492525\tbest: 0.6503350 (91)\ttotal: 2.6s\tremaining: 1m 14s\n",
      "200:\ttest: 0.6711235\tbest: 0.6711843 (199)\ttotal: 5.27s\tremaining: 1m 13s\n",
      "300:\ttest: 0.6762710\tbest: 0.6762710 (300)\ttotal: 7.92s\tremaining: 1m 10s\n",
      "400:\ttest: 0.6773821\tbest: 0.6774374 (393)\ttotal: 10.6s\tremaining: 1m 8s\n",
      "500:\ttest: 0.6793835\tbest: 0.6793838 (498)\ttotal: 13.2s\tremaining: 1m 5s\n",
      "600:\ttest: 0.6805549\tbest: 0.6809652 (569)\ttotal: 15.8s\tremaining: 1m 3s\n",
      "700:\ttest: 0.6816673\tbest: 0.6817568 (666)\ttotal: 18.5s\tremaining: 1m\n",
      "800:\ttest: 0.6836410\tbest: 0.6836410 (800)\ttotal: 21.2s\tremaining: 58.1s\n",
      "900:\ttest: 0.6835960\tbest: 0.6837634 (826)\ttotal: 23.8s\tremaining: 55.4s\n",
      "bestTest = 0.6837634146\n",
      "bestIteration = 826\n",
      "Shrink model to first 827 iterations.\n"
     ]
    },
    {
     "name": "stderr",
     "output_type": "stream",
     "text": [
      "Default metric period is 5 because AUC is/are not implemented for GPU\n"
     ]
    },
    {
     "name": "stdout",
     "output_type": "stream",
     "text": [
      "0:\ttest: 0.5078242\tbest: 0.5078242 (0)\ttotal: 24.8ms\tremaining: 1m 14s\n",
      "100:\ttest: 0.6702237\tbest: 0.6705583 (99)\ttotal: 2.61s\tremaining: 1m 15s\n",
      "200:\ttest: 0.6759773\tbest: 0.6759773 (200)\ttotal: 5.26s\tremaining: 1m 13s\n",
      "300:\ttest: 0.6802824\tbest: 0.6804431 (293)\ttotal: 7.9s\tremaining: 1m 10s\n",
      "400:\ttest: 0.6829436\tbest: 0.6831523 (394)\ttotal: 10.6s\tremaining: 1m 8s\n",
      "500:\ttest: 0.6834705\tbest: 0.6837535 (484)\ttotal: 13.2s\tremaining: 1m 5s\n",
      "600:\ttest: 0.6840105\tbest: 0.6840313 (599)\ttotal: 15.8s\tremaining: 1m 3s\n",
      "700:\ttest: 0.6850269\tbest: 0.6851992 (696)\ttotal: 18.7s\tremaining: 1m 1s\n",
      "800:\ttest: 0.6871719\tbest: 0.6871719 (800)\ttotal: 21.4s\tremaining: 58.7s\n",
      "900:\ttest: 0.6875856\tbest: 0.6876388 (892)\ttotal: 24.1s\tremaining: 56.1s\n",
      "1000:\ttest: 0.6884564\tbest: 0.6885754 (995)\ttotal: 26.7s\tremaining: 53.4s\n",
      "1100:\ttest: 0.6885529\tbest: 0.6888905 (1052)\ttotal: 29.4s\tremaining: 50.7s\n",
      "bestTest = 0.6888905466\n",
      "bestIteration = 1052\n",
      "Shrink model to first 1053 iterations.\n"
     ]
    },
    {
     "name": "stderr",
     "output_type": "stream",
     "text": [
      "Default metric period is 5 because AUC is/are not implemented for GPU\n"
     ]
    },
    {
     "name": "stdout",
     "output_type": "stream",
     "text": [
      "0:\ttest: 0.5078242\tbest: 0.5078242 (0)\ttotal: 24.9ms\tremaining: 1m 14s\n",
      "100:\ttest: 0.6771752\tbest: 0.6771752 (100)\ttotal: 2.63s\tremaining: 1m 15s\n",
      "200:\ttest: 0.6815974\tbest: 0.6815974 (200)\ttotal: 5.28s\tremaining: 1m 13s\n",
      "300:\ttest: 0.6852677\tbest: 0.6853830 (293)\ttotal: 7.97s\tremaining: 1m 11s\n",
      "400:\ttest: 0.6856081\tbest: 0.6857827 (371)\ttotal: 10.6s\tremaining: 1m 8s\n",
      "500:\ttest: 0.6851609\tbest: 0.6860488 (473)\ttotal: 13.3s\tremaining: 1m 6s\n",
      "600:\ttest: 0.6858051\tbest: 0.6861237 (542)\ttotal: 16s\tremaining: 1m 3s\n",
      "700:\ttest: 0.6857924\tbest: 0.6865273 (643)\ttotal: 18.6s\tremaining: 1m 1s\n",
      "bestTest = 0.6865273118\n",
      "bestIteration = 643\n",
      "Shrink model to first 644 iterations.\n"
     ]
    },
    {
     "name": "stderr",
     "output_type": "stream",
     "text": [
      "Default metric period is 5 because AUC is/are not implemented for GPU\n"
     ]
    },
    {
     "name": "stdout",
     "output_type": "stream",
     "text": [
      "0:\ttest: 0.5078242\tbest: 0.5078242 (0)\ttotal: 25.9ms\tremaining: 1m 17s\n",
      "100:\ttest: 0.6810890\tbest: 0.6813509 (98)\ttotal: 2.69s\tremaining: 1m 17s\n",
      "200:\ttest: 0.6830139\tbest: 0.6831466 (197)\ttotal: 5.38s\tremaining: 1m 14s\n",
      "300:\ttest: 0.6847405\tbest: 0.6852161 (292)\ttotal: 8.04s\tremaining: 1m 12s\n",
      "400:\ttest: 0.6857147\tbest: 0.6860577 (392)\ttotal: 10.7s\tremaining: 1m 9s\n",
      "500:\ttest: 0.6849563\tbest: 0.6863937 (447)\ttotal: 13.3s\tremaining: 1m 6s\n",
      "bestTest = 0.6863937378\n",
      "bestIteration = 447\n",
      "Shrink model to first 448 iterations.\n"
     ]
    },
    {
     "name": "stderr",
     "output_type": "stream",
     "text": [
      "Default metric period is 5 because AUC is/are not implemented for GPU\n"
     ]
    },
    {
     "name": "stdout",
     "output_type": "stream",
     "text": [
      "0:\ttest: 0.5078242\tbest: 0.5078242 (0)\ttotal: 24.8ms\tremaining: 1m 14s\n",
      "100:\ttest: 0.6798923\tbest: 0.6800299 (97)\ttotal: 2.73s\tremaining: 1m 18s\n",
      "200:\ttest: 0.6849536\tbest: 0.6849536 (200)\ttotal: 5.39s\tremaining: 1m 15s\n",
      "300:\ttest: 0.6861083\tbest: 0.6870912 (283)\ttotal: 8.04s\tremaining: 1m 12s\n",
      "400:\ttest: 0.6866882\tbest: 0.6872965 (335)\ttotal: 10.7s\tremaining: 1m 9s\n",
      "bestTest = 0.6872964799\n",
      "bestIteration = 335\n",
      "Shrink model to first 336 iterations.\n"
     ]
    },
    {
     "name": "stderr",
     "output_type": "stream",
     "text": [
      "Default metric period is 5 because AUC is/are not implemented for GPU\n"
     ]
    },
    {
     "name": "stdout",
     "output_type": "stream",
     "text": [
      "0:\ttest: 0.5084738\tbest: 0.5084738 (0)\ttotal: 24.7ms\tremaining: 1m 14s\n",
      "100:\ttest: 0.6506866\tbest: 0.6518820 (96)\ttotal: 2.58s\tremaining: 1m 13s\n",
      "200:\ttest: 0.6695410\tbest: 0.6695437 (199)\ttotal: 5.25s\tremaining: 1m 13s\n",
      "300:\ttest: 0.6749203\tbest: 0.6749203 (300)\ttotal: 7.93s\tremaining: 1m 11s\n",
      "400:\ttest: 0.6786869\tbest: 0.6786869 (400)\ttotal: 10.6s\tremaining: 1m 8s\n",
      "500:\ttest: 0.6798440\tbest: 0.6798726 (486)\ttotal: 13.3s\tremaining: 1m 6s\n",
      "600:\ttest: 0.6811696\tbest: 0.6811710 (597)\ttotal: 15.9s\tremaining: 1m 3s\n",
      "700:\ttest: 0.6817637\tbest: 0.6819476 (640)\ttotal: 18.6s\tremaining: 1m\n",
      "800:\ttest: 0.6834674\tbest: 0.6834766 (797)\ttotal: 21.3s\tremaining: 58.4s\n",
      "900:\ttest: 0.6839405\tbest: 0.6839422 (897)\ttotal: 23.9s\tremaining: 55.7s\n",
      "1000:\ttest: 0.6844582\tbest: 0.6844582 (1000)\ttotal: 26.6s\tremaining: 53.1s\n",
      "1100:\ttest: 0.6848733\tbest: 0.6848809 (1099)\ttotal: 29.3s\tremaining: 50.5s\n",
      "1200:\ttest: 0.6856695\tbest: 0.6856695 (1200)\ttotal: 31.9s\tremaining: 47.8s\n",
      "1300:\ttest: 0.6863828\tbest: 0.6864047 (1296)\ttotal: 34.6s\tremaining: 45.2s\n",
      "1400:\ttest: 0.6871884\tbest: 0.6872169 (1357)\ttotal: 37.3s\tremaining: 42.6s\n",
      "1500:\ttest: 0.6875734\tbest: 0.6875734 (1500)\ttotal: 40s\tremaining: 39.9s\n",
      "1600:\ttest: 0.6880166\tbest: 0.6881038 (1566)\ttotal: 42.7s\tremaining: 37.3s\n",
      "1700:\ttest: 0.6887459\tbest: 0.6887953 (1696)\ttotal: 45.3s\tremaining: 34.6s\n",
      "1800:\ttest: 0.6889320\tbest: 0.6889462 (1799)\ttotal: 48s\tremaining: 32s\n",
      "1900:\ttest: 0.6892570\tbest: 0.6893176 (1885)\ttotal: 50.7s\tremaining: 29.3s\n",
      "2000:\ttest: 0.6896016\tbest: 0.6896016 (2000)\ttotal: 53.3s\tremaining: 26.6s\n",
      "2100:\ttest: 0.6897672\tbest: 0.6897672 (2100)\ttotal: 56s\tremaining: 24s\n",
      "2200:\ttest: 0.6902798\tbest: 0.6902798 (2200)\ttotal: 58.7s\tremaining: 21.3s\n",
      "2300:\ttest: 0.6903760\tbest: 0.6904432 (2274)\ttotal: 1m 1s\tremaining: 18.6s\n",
      "2400:\ttest: 0.6903518\tbest: 0.6904710 (2369)\ttotal: 1m 3s\tremaining: 16s\n",
      "bestTest = 0.6904709637\n",
      "bestIteration = 2369\n",
      "Shrink model to first 2370 iterations.\n"
     ]
    },
    {
     "name": "stderr",
     "output_type": "stream",
     "text": [
      "Default metric period is 5 because AUC is/are not implemented for GPU\n"
     ]
    },
    {
     "name": "stdout",
     "output_type": "stream",
     "text": [
      "0:\ttest: 0.5084738\tbest: 0.5084738 (0)\ttotal: 25.4ms\tremaining: 1m 16s\n",
      "100:\ttest: 0.6708106\tbest: 0.6717027 (98)\ttotal: 2.59s\tremaining: 1m 14s\n",
      "200:\ttest: 0.6795127\tbest: 0.6795602 (199)\ttotal: 5.21s\tremaining: 1m 12s\n",
      "300:\ttest: 0.6829496\tbest: 0.6829496 (300)\ttotal: 7.86s\tremaining: 1m 10s\n",
      "400:\ttest: 0.6851093\tbest: 0.6852269 (394)\ttotal: 10.5s\tremaining: 1m 8s\n",
      "500:\ttest: 0.6858616\tbest: 0.6860701 (450)\ttotal: 13.1s\tremaining: 1m 5s\n",
      "600:\ttest: 0.6863674\tbest: 0.6866329 (549)\ttotal: 15.9s\tremaining: 1m 3s\n",
      "700:\ttest: 0.6873419\tbest: 0.6873617 (688)\ttotal: 18.5s\tremaining: 1m\n",
      "800:\ttest: 0.6879362\tbest: 0.6879551 (799)\ttotal: 21.2s\tremaining: 58.1s\n",
      "900:\ttest: 0.6889312\tbest: 0.6889312 (900)\ttotal: 23.8s\tremaining: 55.5s\n",
      "1000:\ttest: 0.6902277\tbest: 0.6902277 (1000)\ttotal: 26.5s\tremaining: 53s\n",
      "bestTest = 0.690227747\n",
      "bestIteration = 1000\n",
      "Shrink model to first 1001 iterations.\n"
     ]
    },
    {
     "name": "stderr",
     "output_type": "stream",
     "text": [
      "Default metric period is 5 because AUC is/are not implemented for GPU\n"
     ]
    },
    {
     "name": "stdout",
     "output_type": "stream",
     "text": [
      "0:\ttest: 0.5084738\tbest: 0.5084738 (0)\ttotal: 25.2ms\tremaining: 1m 15s\n",
      "100:\ttest: 0.6768973\tbest: 0.6771680 (98)\ttotal: 2.62s\tremaining: 1m 15s\n",
      "200:\ttest: 0.6797471\tbest: 0.6797471 (200)\ttotal: 5.25s\tremaining: 1m 13s\n",
      "300:\ttest: 0.6835499\tbest: 0.6838612 (292)\ttotal: 7.91s\tremaining: 1m 10s\n",
      "400:\ttest: 0.6850677\tbest: 0.6852179 (393)\ttotal: 10.6s\tremaining: 1m 8s\n",
      "500:\ttest: 0.6863151\tbest: 0.6867624 (473)\ttotal: 13.2s\tremaining: 1m 6s\n",
      "bestTest = 0.6867624223\n",
      "bestIteration = 473\n",
      "Shrink model to first 474 iterations.\n"
     ]
    },
    {
     "name": "stderr",
     "output_type": "stream",
     "text": [
      "Default metric period is 5 because AUC is/are not implemented for GPU\n"
     ]
    },
    {
     "name": "stdout",
     "output_type": "stream",
     "text": [
      "0:\ttest: 0.5084738\tbest: 0.5084738 (0)\ttotal: 25.1ms\tremaining: 1m 15s\n",
      "100:\ttest: 0.6812739\tbest: 0.6817296 (97)\ttotal: 2.62s\tremaining: 1m 15s\n",
      "200:\ttest: 0.6846681\tbest: 0.6847021 (198)\ttotal: 5.26s\tremaining: 1m 13s\n",
      "300:\ttest: 0.6872775\tbest: 0.6877305 (290)\ttotal: 7.89s\tremaining: 1m 10s\n",
      "400:\ttest: 0.6881300\tbest: 0.6884573 (327)\ttotal: 10.6s\tremaining: 1m 8s\n",
      "bestTest = 0.6884573102\n",
      "bestIteration = 327\n",
      "Shrink model to first 328 iterations.\n"
     ]
    },
    {
     "name": "stderr",
     "output_type": "stream",
     "text": [
      "Default metric period is 5 because AUC is/are not implemented for GPU\n"
     ]
    },
    {
     "name": "stdout",
     "output_type": "stream",
     "text": [
      "0:\ttest: 0.5084738\tbest: 0.5084738 (0)\ttotal: 26.3ms\tremaining: 1m 18s\n",
      "100:\ttest: 0.6804118\tbest: 0.6806776 (96)\ttotal: 2.75s\tremaining: 1m 18s\n",
      "200:\ttest: 0.6832020\tbest: 0.6832703 (188)\ttotal: 5.47s\tremaining: 1m 16s\n",
      "300:\ttest: 0.6846704\tbest: 0.6848163 (295)\ttotal: 8.22s\tremaining: 1m 13s\n",
      "400:\ttest: 0.6853437\tbest: 0.6864260 (366)\ttotal: 11s\tremaining: 1m 11s\n",
      "bestTest = 0.6864259541\n",
      "bestIteration = 366\n",
      "Shrink model to first 367 iterations.\n"
     ]
    },
    {
     "name": "stderr",
     "output_type": "stream",
     "text": [
      "Default metric period is 5 because AUC is/are not implemented for GPU\n"
     ]
    },
    {
     "name": "stdout",
     "output_type": "stream",
     "text": [
      "0:\ttest: 0.4998853\tbest: 0.4998853 (0)\ttotal: 25.5ms\tremaining: 1m 16s\n",
      "100:\ttest: 0.6489863\tbest: 0.6506839 (86)\ttotal: 2.65s\tremaining: 1m 16s\n",
      "200:\ttest: 0.6705132\tbest: 0.6705132 (200)\ttotal: 5.27s\tremaining: 1m 13s\n",
      "300:\ttest: 0.6752197\tbest: 0.6752197 (300)\ttotal: 7.95s\tremaining: 1m 11s\n",
      "400:\ttest: 0.6793580\tbest: 0.6793580 (400)\ttotal: 10.7s\tremaining: 1m 9s\n",
      "500:\ttest: 0.6813720\tbest: 0.6813720 (500)\ttotal: 13.4s\tremaining: 1m 6s\n",
      "600:\ttest: 0.6823704\tbest: 0.6823704 (600)\ttotal: 16.1s\tremaining: 1m 4s\n",
      "700:\ttest: 0.6827176\tbest: 0.6828440 (662)\ttotal: 18.9s\tremaining: 1m 1s\n",
      "800:\ttest: 0.6840648\tbest: 0.6840668 (798)\ttotal: 21.6s\tremaining: 59.3s\n",
      "900:\ttest: 0.6848728\tbest: 0.6849103 (890)\ttotal: 24.3s\tremaining: 56.7s\n",
      "1000:\ttest: 0.6860487\tbest: 0.6860662 (999)\ttotal: 27s\tremaining: 54s\n",
      "1100:\ttest: 0.6865093\tbest: 0.6865318 (1078)\ttotal: 29.8s\tremaining: 51.3s\n",
      "1200:\ttest: 0.6869099\tbest: 0.6869099 (1200)\ttotal: 32.4s\tremaining: 48.6s\n",
      "1300:\ttest: 0.6874911\tbest: 0.6874920 (1299)\ttotal: 35.1s\tremaining: 45.9s\n",
      "1400:\ttest: 0.6883841\tbest: 0.6884180 (1399)\ttotal: 37.8s\tremaining: 43.2s\n",
      "1500:\ttest: 0.6890523\tbest: 0.6890523 (1500)\ttotal: 40.5s\tremaining: 40.5s\n",
      "1600:\ttest: 0.6894633\tbest: 0.6895423 (1563)\ttotal: 43.2s\tremaining: 37.8s\n",
      "1700:\ttest: 0.6898431\tbest: 0.6898633 (1696)\ttotal: 45.9s\tremaining: 35s\n",
      "1800:\ttest: 0.6901972\tbest: 0.6901975 (1798)\ttotal: 48.6s\tremaining: 32.4s\n",
      "1900:\ttest: 0.6907802\tbest: 0.6907802 (1900)\ttotal: 51.3s\tremaining: 29.7s\n",
      "2000:\ttest: 0.6912494\tbest: 0.6912494 (2000)\ttotal: 54s\tremaining: 27s\n",
      "2100:\ttest: 0.6914487\tbest: 0.6914487 (2100)\ttotal: 56.8s\tremaining: 24.3s\n",
      "2200:\ttest: 0.6917763\tbest: 0.6917839 (2195)\ttotal: 59.6s\tremaining: 21.6s\n",
      "2300:\ttest: 0.6919438\tbest: 0.6920440 (2277)\ttotal: 1m 2s\tremaining: 18.9s\n",
      "2400:\ttest: 0.6919265\tbest: 0.6921479 (2325)\ttotal: 1m 5s\tremaining: 16.2s\n",
      "bestTest = 0.6921479404\n",
      "bestIteration = 2325\n",
      "Shrink model to first 2326 iterations.\n"
     ]
    },
    {
     "name": "stderr",
     "output_type": "stream",
     "text": [
      "Default metric period is 5 because AUC is/are not implemented for GPU\n"
     ]
    },
    {
     "name": "stdout",
     "output_type": "stream",
     "text": [
      "0:\ttest: 0.4998853\tbest: 0.4998853 (0)\ttotal: 25.5ms\tremaining: 1m 16s\n",
      "100:\ttest: 0.6717128\tbest: 0.6726654 (98)\ttotal: 2.67s\tremaining: 1m 16s\n",
      "200:\ttest: 0.6784606\tbest: 0.6786014 (199)\ttotal: 5.37s\tremaining: 1m 14s\n",
      "300:\ttest: 0.6835096\tbest: 0.6835325 (293)\ttotal: 8.1s\tremaining: 1m 12s\n",
      "400:\ttest: 0.6857511\tbest: 0.6857841 (394)\ttotal: 10.8s\tremaining: 1m 9s\n",
      "500:\ttest: 0.6877219\tbest: 0.6877326 (498)\ttotal: 13.5s\tremaining: 1m 7s\n",
      "600:\ttest: 0.6885250\tbest: 0.6887188 (549)\ttotal: 16.2s\tremaining: 1m 4s\n",
      "700:\ttest: 0.6896729\tbest: 0.6896729 (700)\ttotal: 18.8s\tremaining: 1m 1s\n",
      "800:\ttest: 0.6902286\tbest: 0.6902511 (797)\ttotal: 21.5s\tremaining: 59s\n",
      "900:\ttest: 0.6908798\tbest: 0.6908798 (900)\ttotal: 24.1s\tremaining: 56.2s\n",
      "1000:\ttest: 0.6927433\tbest: 0.6927433 (1000)\ttotal: 26.8s\tremaining: 53.6s\n",
      "bestTest = 0.6927666068\n",
      "bestIteration = 1001\n",
      "Shrink model to first 1002 iterations.\n"
     ]
    },
    {
     "name": "stderr",
     "output_type": "stream",
     "text": [
      "Default metric period is 5 because AUC is/are not implemented for GPU\n"
     ]
    },
    {
     "name": "stdout",
     "output_type": "stream",
     "text": [
      "0:\ttest: 0.4998853\tbest: 0.4998853 (0)\ttotal: 25.4ms\tremaining: 1m 16s\n",
      "100:\ttest: 0.6767732\tbest: 0.6767978 (96)\ttotal: 2.62s\tremaining: 1m 15s\n",
      "200:\ttest: 0.6833034\tbest: 0.6833051 (199)\ttotal: 5.25s\tremaining: 1m 13s\n",
      "300:\ttest: 0.6857785\tbest: 0.6859260 (292)\ttotal: 7.92s\tremaining: 1m 10s\n",
      "400:\ttest: 0.6883433\tbest: 0.6883897 (390)\ttotal: 10.6s\tremaining: 1m 8s\n",
      "500:\ttest: 0.6890747\tbest: 0.6892364 (481)\ttotal: 13.3s\tremaining: 1m 6s\n",
      "600:\ttest: 0.6897180\tbest: 0.6900910 (561)\ttotal: 16s\tremaining: 1m 3s\n",
      "700:\ttest: 0.6910106\tbest: 0.6910369 (699)\ttotal: 18.7s\tremaining: 1m 1s\n",
      "800:\ttest: 0.6921633\tbest: 0.6921818 (797)\ttotal: 21.4s\tremaining: 58.8s\n",
      "900:\ttest: 0.6918036\tbest: 0.6923994 (842)\ttotal: 24.1s\tremaining: 56.2s\n",
      "bestTest = 0.6923994124\n",
      "bestIteration = 842\n",
      "Shrink model to first 843 iterations.\n"
     ]
    },
    {
     "name": "stderr",
     "output_type": "stream",
     "text": [
      "Default metric period is 5 because AUC is/are not implemented for GPU\n"
     ]
    },
    {
     "name": "stdout",
     "output_type": "stream",
     "text": [
      "0:\ttest: 0.4998853\tbest: 0.4998853 (0)\ttotal: 25.3ms\tremaining: 1m 15s\n",
      "100:\ttest: 0.6813512\tbest: 0.6817074 (97)\ttotal: 2.63s\tremaining: 1m 15s\n",
      "200:\ttest: 0.6861601\tbest: 0.6861882 (198)\ttotal: 5.29s\tremaining: 1m 13s\n",
      "300:\ttest: 0.6884146\tbest: 0.6885410 (290)\ttotal: 7.96s\tremaining: 1m 11s\n",
      "400:\ttest: 0.6895164\tbest: 0.6902348 (391)\ttotal: 10.7s\tremaining: 1m 9s\n",
      "500:\ttest: 0.6895900\tbest: 0.6903073 (478)\ttotal: 13.4s\tremaining: 1m 6s\n",
      "bestTest = 0.6903073192\n",
      "bestIteration = 478\n",
      "Shrink model to first 479 iterations.\n"
     ]
    },
    {
     "name": "stderr",
     "output_type": "stream",
     "text": [
      "Default metric period is 5 because AUC is/are not implemented for GPU\n"
     ]
    },
    {
     "name": "stdout",
     "output_type": "stream",
     "text": [
      "0:\ttest: 0.4998853\tbest: 0.4998853 (0)\ttotal: 26.2ms\tremaining: 1m 18s\n",
      "100:\ttest: 0.6814512\tbest: 0.6815825 (96)\ttotal: 2.67s\tremaining: 1m 16s\n",
      "200:\ttest: 0.6853154\tbest: 0.6853154 (200)\ttotal: 5.35s\tremaining: 1m 14s\n",
      "300:\ttest: 0.6885243\tbest: 0.6886403 (294)\ttotal: 8.04s\tremaining: 1m 12s\n",
      "bestTest = 0.6886402965\n",
      "bestIteration = 294\n",
      "Shrink model to first 295 iterations.\n"
     ]
    },
    {
     "name": "stderr",
     "output_type": "stream",
     "text": [
      "Default metric period is 5 because AUC is/are not implemented for GPU\n"
     ]
    },
    {
     "name": "stdout",
     "output_type": "stream",
     "text": [
      "0:\ttest: 0.4998853\tbest: 0.4998853 (0)\ttotal: 25.5ms\tremaining: 1m 16s\n",
      "100:\ttest: 0.6481019\tbest: 0.6489938 (94)\ttotal: 2.66s\tremaining: 1m 16s\n",
      "200:\ttest: 0.6710037\tbest: 0.6710037 (200)\ttotal: 5.32s\tremaining: 1m 14s\n",
      "300:\ttest: 0.6763496\tbest: 0.6763496 (300)\ttotal: 8.02s\tremaining: 1m 11s\n",
      "400:\ttest: 0.6803890\tbest: 0.6804180 (398)\ttotal: 10.7s\tremaining: 1m 9s\n",
      "500:\ttest: 0.6817966\tbest: 0.6817982 (489)\ttotal: 13.4s\tremaining: 1m 6s\n",
      "600:\ttest: 0.6832083\tbest: 0.6832083 (600)\ttotal: 16s\tremaining: 1m 4s\n",
      "700:\ttest: 0.6833123\tbest: 0.6833975 (646)\ttotal: 18.7s\tremaining: 1m 1s\n",
      "800:\ttest: 0.6844928\tbest: 0.6844928 (800)\ttotal: 21.4s\tremaining: 58.6s\n",
      "900:\ttest: 0.6851856\tbest: 0.6852833 (858)\ttotal: 24s\tremaining: 56s\n",
      "1000:\ttest: 0.6860756\tbest: 0.6860756 (1000)\ttotal: 26.7s\tremaining: 53.3s\n",
      "1100:\ttest: 0.6865211\tbest: 0.6866232 (1079)\ttotal: 29.4s\tremaining: 50.6s\n",
      "1200:\ttest: 0.6871575\tbest: 0.6871575 (1200)\ttotal: 32s\tremaining: 48s\n",
      "1300:\ttest: 0.6877840\tbest: 0.6877845 (1299)\ttotal: 34.8s\tremaining: 45.5s\n",
      "1400:\ttest: 0.6885837\tbest: 0.6886625 (1387)\ttotal: 37.5s\tremaining: 42.8s\n",
      "1500:\ttest: 0.6889710\tbest: 0.6889858 (1495)\ttotal: 40.2s\tremaining: 40.2s\n",
      "1600:\ttest: 0.6894135\tbest: 0.6895271 (1559)\ttotal: 43s\tremaining: 37.6s\n",
      "1700:\ttest: 0.6898762\tbest: 0.6898762 (1700)\ttotal: 45.8s\tremaining: 35s\n",
      "1800:\ttest: 0.6901291\tbest: 0.6901411 (1798)\ttotal: 48.6s\tremaining: 32.3s\n",
      "1900:\ttest: 0.6905003\tbest: 0.6905132 (1898)\ttotal: 51.3s\tremaining: 29.7s\n",
      "2000:\ttest: 0.6909545\tbest: 0.6909545 (2000)\ttotal: 54.2s\tremaining: 27s\n",
      "2100:\ttest: 0.6913088\tbest: 0.6913277 (2086)\ttotal: 56.9s\tremaining: 24.4s\n",
      "2200:\ttest: 0.6917527\tbest: 0.6917894 (2185)\ttotal: 59.7s\tremaining: 21.7s\n",
      "2300:\ttest: 0.6919591\tbest: 0.6920855 (2277)\ttotal: 1m 2s\tremaining: 19s\n",
      "2400:\ttest: 0.6918922\tbest: 0.6921353 (2343)\ttotal: 1m 5s\tremaining: 16.3s\n",
      "bestTest = 0.6921352744\n",
      "bestIteration = 2343\n",
      "Shrink model to first 2344 iterations.\n"
     ]
    },
    {
     "name": "stderr",
     "output_type": "stream",
     "text": [
      "Default metric period is 5 because AUC is/are not implemented for GPU\n"
     ]
    },
    {
     "name": "stdout",
     "output_type": "stream",
     "text": [
      "0:\ttest: 0.4998853\tbest: 0.4998853 (0)\ttotal: 25ms\tremaining: 1m 15s\n",
      "100:\ttest: 0.6728513\tbest: 0.6736284 (98)\ttotal: 2.68s\tremaining: 1m 16s\n",
      "200:\ttest: 0.6804642\tbest: 0.6804642 (200)\ttotal: 5.36s\tremaining: 1m 14s\n",
      "300:\ttest: 0.6851110\tbest: 0.6851619 (295)\ttotal: 8.15s\tremaining: 1m 13s\n",
      "400:\ttest: 0.6874008\tbest: 0.6874561 (396)\ttotal: 10.9s\tremaining: 1m 10s\n",
      "500:\ttest: 0.6876309\tbest: 0.6877206 (489)\ttotal: 13.6s\tremaining: 1m 8s\n",
      "600:\ttest: 0.6891033\tbest: 0.6891478 (584)\ttotal: 16.4s\tremaining: 1m 5s\n",
      "700:\ttest: 0.6895393\tbest: 0.6895393 (700)\ttotal: 19.1s\tremaining: 1m 2s\n",
      "800:\ttest: 0.6902377\tbest: 0.6902377 (800)\ttotal: 21.8s\tremaining: 60s\n",
      "900:\ttest: 0.6912587\tbest: 0.6912587 (900)\ttotal: 24.6s\tremaining: 57.4s\n",
      "1000:\ttest: 0.6925633\tbest: 0.6925633 (1000)\ttotal: 27.4s\tremaining: 54.7s\n",
      "bestTest = 0.6926232576\n",
      "bestIteration = 1005\n",
      "Shrink model to first 1006 iterations.\n"
     ]
    },
    {
     "name": "stderr",
     "output_type": "stream",
     "text": [
      "Default metric period is 5 because AUC is/are not implemented for GPU\n"
     ]
    },
    {
     "name": "stdout",
     "output_type": "stream",
     "text": [
      "0:\ttest: 0.4998853\tbest: 0.4998853 (0)\ttotal: 25.4ms\tremaining: 1m 16s\n",
      "100:\ttest: 0.6792883\tbest: 0.6792883 (100)\ttotal: 2.71s\tremaining: 1m 17s\n",
      "200:\ttest: 0.6831379\tbest: 0.6832939 (198)\ttotal: 5.45s\tremaining: 1m 15s\n",
      "300:\ttest: 0.6863692\tbest: 0.6865491 (292)\ttotal: 8.28s\tremaining: 1m 14s\n",
      "400:\ttest: 0.6881158\tbest: 0.6882893 (392)\ttotal: 11.1s\tremaining: 1m 11s\n",
      "500:\ttest: 0.6897715\tbest: 0.6897715 (500)\ttotal: 13.9s\tremaining: 1m 9s\n",
      "600:\ttest: 0.6901093\tbest: 0.6906777 (538)\ttotal: 16.7s\tremaining: 1m 6s\n",
      "700:\ttest: 0.6905534\tbest: 0.6908411 (643)\ttotal: 19.5s\tremaining: 1m 4s\n",
      "800:\ttest: 0.6922876\tbest: 0.6923522 (797)\ttotal: 22.3s\tremaining: 1m 1s\n",
      "900:\ttest: 0.6925215\tbest: 0.6927793 (825)\ttotal: 25.1s\tremaining: 58.6s\n",
      "bestTest = 0.6927793026\n",
      "bestIteration = 825\n",
      "Shrink model to first 826 iterations.\n"
     ]
    },
    {
     "name": "stderr",
     "output_type": "stream",
     "text": [
      "Default metric period is 5 because AUC is/are not implemented for GPU\n"
     ]
    },
    {
     "name": "stdout",
     "output_type": "stream",
     "text": [
      "0:\ttest: 0.4998853\tbest: 0.4998853 (0)\ttotal: 25.7ms\tremaining: 1m 17s\n",
      "100:\ttest: 0.6818265\tbest: 0.6823867 (97)\ttotal: 2.68s\tremaining: 1m 16s\n",
      "200:\ttest: 0.6851378\tbest: 0.6851600 (198)\ttotal: 5.38s\tremaining: 1m 14s\n",
      "300:\ttest: 0.6873980\tbest: 0.6875722 (293)\ttotal: 8.1s\tremaining: 1m 12s\n",
      "400:\ttest: 0.6891629\tbest: 0.6896008 (391)\ttotal: 10.8s\tremaining: 1m 10s\n",
      "bestTest = 0.6896007657\n",
      "bestIteration = 391\n",
      "Shrink model to first 392 iterations.\n"
     ]
    },
    {
     "name": "stderr",
     "output_type": "stream",
     "text": [
      "Default metric period is 5 because AUC is/are not implemented for GPU\n"
     ]
    },
    {
     "name": "stdout",
     "output_type": "stream",
     "text": [
      "0:\ttest: 0.4998853\tbest: 0.4998853 (0)\ttotal: 24.8ms\tremaining: 1m 14s\n",
      "100:\ttest: 0.6811063\tbest: 0.6813488 (96)\ttotal: 2.62s\tremaining: 1m 15s\n",
      "200:\ttest: 0.6860135\tbest: 0.6860923 (198)\ttotal: 5.31s\tremaining: 1m 13s\n",
      "300:\ttest: 0.6898552\tbest: 0.6898552 (300)\ttotal: 7.99s\tremaining: 1m 11s\n",
      "bestTest = 0.6898554564\n",
      "bestIteration = 301\n",
      "Shrink model to first 302 iterations.\n"
     ]
    },
    {
     "name": "stderr",
     "output_type": "stream",
     "text": [
      "Default metric period is 5 because AUC is/are not implemented for GPU\n"
     ]
    },
    {
     "name": "stdout",
     "output_type": "stream",
     "text": [
      "0:\ttest: 0.4998853\tbest: 0.4998853 (0)\ttotal: 25ms\tremaining: 1m 14s\n",
      "100:\ttest: 0.6485182\tbest: 0.6490508 (94)\ttotal: 2.65s\tremaining: 1m 15s\n",
      "200:\ttest: 0.6718477\tbest: 0.6718477 (200)\ttotal: 5.24s\tremaining: 1m 12s\n",
      "300:\ttest: 0.6763064\tbest: 0.6763064 (300)\ttotal: 7.89s\tremaining: 1m 10s\n",
      "400:\ttest: 0.6805996\tbest: 0.6806325 (398)\ttotal: 10.5s\tremaining: 1m 8s\n",
      "500:\ttest: 0.6826725\tbest: 0.6826725 (500)\ttotal: 13.2s\tremaining: 1m 5s\n",
      "600:\ttest: 0.6839461\tbest: 0.6839461 (600)\ttotal: 15.9s\tremaining: 1m 3s\n",
      "700:\ttest: 0.6842302\tbest: 0.6844186 (646)\ttotal: 18.5s\tremaining: 1m\n",
      "800:\ttest: 0.6852590\tbest: 0.6852743 (782)\ttotal: 21.2s\tremaining: 58.2s\n",
      "900:\ttest: 0.6858681\tbest: 0.6860578 (869)\ttotal: 23.9s\tremaining: 55.6s\n",
      "1000:\ttest: 0.6867099\tbest: 0.6867099 (1000)\ttotal: 26.5s\tremaining: 53s\n",
      "1100:\ttest: 0.6868850\tbest: 0.6869557 (1079)\ttotal: 29.2s\tremaining: 50.3s\n",
      "1200:\ttest: 0.6874838\tbest: 0.6874838 (1200)\ttotal: 31.8s\tremaining: 47.7s\n",
      "1300:\ttest: 0.6879802\tbest: 0.6879979 (1295)\ttotal: 34.5s\tremaining: 45.1s\n",
      "1400:\ttest: 0.6887434\tbest: 0.6888485 (1387)\ttotal: 37.2s\tremaining: 42.5s\n",
      "1500:\ttest: 0.6892253\tbest: 0.6892253 (1500)\ttotal: 39.9s\tremaining: 39.9s\n",
      "1600:\ttest: 0.6899092\tbest: 0.6899542 (1565)\ttotal: 42.6s\tremaining: 37.2s\n",
      "1700:\ttest: 0.6904090\tbest: 0.6904181 (1684)\ttotal: 45.3s\tremaining: 34.6s\n",
      "1800:\ttest: 0.6905964\tbest: 0.6906633 (1721)\ttotal: 48.1s\tremaining: 32s\n",
      "bestTest = 0.6906633079\n",
      "bestIteration = 1721\n",
      "Shrink model to first 1722 iterations.\n"
     ]
    },
    {
     "name": "stderr",
     "output_type": "stream",
     "text": [
      "Default metric period is 5 because AUC is/are not implemented for GPU\n"
     ]
    },
    {
     "name": "stdout",
     "output_type": "stream",
     "text": [
      "0:\ttest: 0.4998853\tbest: 0.4998853 (0)\ttotal: 25.7ms\tremaining: 1m 17s\n",
      "100:\ttest: 0.6745645\tbest: 0.6745645 (100)\ttotal: 2.73s\tremaining: 1m 18s\n",
      "200:\ttest: 0.6797347\tbest: 0.6797347 (200)\ttotal: 5.48s\tremaining: 1m 16s\n",
      "300:\ttest: 0.6851266\tbest: 0.6852221 (295)\ttotal: 8.22s\tremaining: 1m 13s\n",
      "400:\ttest: 0.6873228\tbest: 0.6874385 (396)\ttotal: 10.9s\tremaining: 1m 10s\n",
      "bestTest = 0.687438488\n",
      "bestIteration = 396\n",
      "Shrink model to first 397 iterations.\n"
     ]
    },
    {
     "name": "stderr",
     "output_type": "stream",
     "text": [
      "Default metric period is 5 because AUC is/are not implemented for GPU\n"
     ]
    },
    {
     "name": "stdout",
     "output_type": "stream",
     "text": [
      "0:\ttest: 0.4998853\tbest: 0.4998853 (0)\ttotal: 26.5ms\tremaining: 1m 19s\n",
      "100:\ttest: 0.6808272\tbest: 0.6808272 (100)\ttotal: 2.68s\tremaining: 1m 16s\n",
      "200:\ttest: 0.6836976\tbest: 0.6838352 (198)\ttotal: 5.4s\tremaining: 1m 15s\n",
      "300:\ttest: 0.6872801\tbest: 0.6874888 (290)\ttotal: 8.14s\tremaining: 1m 12s\n",
      "bestTest = 0.6874887943\n",
      "bestIteration = 290\n",
      "Shrink model to first 291 iterations.\n"
     ]
    },
    {
     "name": "stderr",
     "output_type": "stream",
     "text": [
      "Default metric period is 5 because AUC is/are not implemented for GPU\n"
     ]
    },
    {
     "name": "stdout",
     "output_type": "stream",
     "text": [
      "0:\ttest: 0.4998853\tbest: 0.4998853 (0)\ttotal: 25.3ms\tremaining: 1m 15s\n",
      "100:\ttest: 0.6823298\tbest: 0.6826855 (97)\ttotal: 2.75s\tremaining: 1m 18s\n",
      "200:\ttest: 0.6852681\tbest: 0.6853007 (198)\ttotal: 5.47s\tremaining: 1m 16s\n",
      "300:\ttest: 0.6873969\tbest: 0.6875961 (292)\ttotal: 8.21s\tremaining: 1m 13s\n",
      "400:\ttest: 0.6895125\tbest: 0.6898025 (391)\ttotal: 11s\tremaining: 1m 11s\n",
      "500:\ttest: 0.6908145\tbest: 0.6908578 (496)\ttotal: 13.7s\tremaining: 1m 8s\n",
      "600:\ttest: 0.6915317\tbest: 0.6919330 (590)\ttotal: 16.5s\tremaining: 1m 5s\n",
      "bestTest = 0.6919329762\n",
      "bestIteration = 590\n",
      "Shrink model to first 591 iterations.\n"
     ]
    },
    {
     "name": "stderr",
     "output_type": "stream",
     "text": [
      "Default metric period is 5 because AUC is/are not implemented for GPU\n"
     ]
    },
    {
     "name": "stdout",
     "output_type": "stream",
     "text": [
      "0:\ttest: 0.4998853\tbest: 0.4998853 (0)\ttotal: 25ms\tremaining: 1m 15s\n",
      "100:\ttest: 0.6801271\tbest: 0.6803787 (97)\ttotal: 2.75s\tremaining: 1m 18s\n",
      "200:\ttest: 0.6854017\tbest: 0.6854751 (198)\ttotal: 5.48s\tremaining: 1m 16s\n",
      "300:\ttest: 0.6875886\tbest: 0.6878211 (291)\ttotal: 8.24s\tremaining: 1m 13s\n",
      "400:\ttest: 0.6894236\tbest: 0.6895436 (392)\ttotal: 11s\tremaining: 1m 11s\n",
      "bestTest = 0.6895436049\n",
      "bestIteration = 392\n",
      "Shrink model to first 393 iterations.\n"
     ]
    },
    {
     "name": "stderr",
     "output_type": "stream",
     "text": [
      "Default metric period is 5 because AUC is/are not implemented for GPU\n"
     ]
    },
    {
     "name": "stdout",
     "output_type": "stream",
     "text": [
      "0:\ttest: 0.5117245\tbest: 0.5117245 (0)\ttotal: 43.6ms\tremaining: 21.7s\n",
      "100:\ttest: 0.6498716\tbest: 0.6498716 (100)\ttotal: 4.64s\tremaining: 18.3s\n",
      "200:\ttest: 0.6754729\tbest: 0.6754729 (200)\ttotal: 9.38s\tremaining: 13.9s\n",
      "300:\ttest: 0.6801436\tbest: 0.6801436 (300)\ttotal: 14.1s\tremaining: 9.35s\n",
      "400:\ttest: 0.6829979\tbest: 0.6829979 (400)\ttotal: 19s\tremaining: 4.68s\n",
      "499:\ttest: 0.6845280\tbest: 0.6845824 (498)\ttotal: 23.7s\tremaining: 0us\n",
      "bestTest = 0.684582442\n",
      "bestIteration = 498\n",
      "Shrink model to first 499 iterations.\n"
     ]
    },
    {
     "name": "stderr",
     "output_type": "stream",
     "text": [
      "Default metric period is 5 because AUC is/are not implemented for GPU\n"
     ]
    },
    {
     "name": "stdout",
     "output_type": "stream",
     "text": [
      "0:\ttest: 0.5117245\tbest: 0.5117245 (0)\ttotal: 43.9ms\tremaining: 21.9s\n",
      "100:\ttest: 0.6754571\tbest: 0.6754571 (100)\ttotal: 4.68s\tremaining: 18.5s\n",
      "200:\ttest: 0.6837330\tbest: 0.6837330 (200)\ttotal: 9.49s\tremaining: 14.1s\n",
      "bestTest = 0.6844013929\n",
      "bestIteration = 217\n",
      "Shrink model to first 218 iterations.\n"
     ]
    },
    {
     "name": "stderr",
     "output_type": "stream",
     "text": [
      "Default metric period is 5 because AUC is/are not implemented for GPU\n"
     ]
    },
    {
     "name": "stdout",
     "output_type": "stream",
     "text": [
      "0:\ttest: 0.5117245\tbest: 0.5117245 (0)\ttotal: 44.8ms\tremaining: 22.4s\n",
      "100:\ttest: 0.6750754\tbest: 0.6750754 (100)\ttotal: 4.86s\tremaining: 19.2s\n",
      "200:\ttest: 0.6833034\tbest: 0.6834714 (181)\ttotal: 9.8s\tremaining: 14.6s\n",
      "300:\ttest: 0.6868177\tbest: 0.6868177 (300)\ttotal: 14.7s\tremaining: 9.69s\n",
      "400:\ttest: 0.6887002\tbest: 0.6887002 (400)\ttotal: 19.6s\tremaining: 4.83s\n",
      "bestTest = 0.6892645359\n",
      "bestIteration = 411\n",
      "Shrink model to first 412 iterations.\n"
     ]
    },
    {
     "name": "stderr",
     "output_type": "stream",
     "text": [
      "Default metric period is 5 because AUC is/are not implemented for GPU\n"
     ]
    },
    {
     "name": "stdout",
     "output_type": "stream",
     "text": [
      "0:\ttest: 0.5117245\tbest: 0.5117245 (0)\ttotal: 45.4ms\tremaining: 22.6s\n",
      "100:\ttest: 0.6807232\tbest: 0.6807969 (98)\ttotal: 4.89s\tremaining: 19.3s\n",
      "200:\ttest: 0.6823513\tbest: 0.6828195 (193)\ttotal: 9.67s\tremaining: 14.4s\n",
      "300:\ttest: 0.6847905\tbest: 0.6853693 (228)\ttotal: 14.5s\tremaining: 9.56s\n",
      "bestTest = 0.6853692532\n",
      "bestIteration = 228\n",
      "Shrink model to first 229 iterations.\n"
     ]
    },
    {
     "name": "stderr",
     "output_type": "stream",
     "text": [
      "Default metric period is 5 because AUC is/are not implemented for GPU\n"
     ]
    },
    {
     "name": "stdout",
     "output_type": "stream",
     "text": [
      "0:\ttest: 0.5117245\tbest: 0.5117245 (0)\ttotal: 43.7ms\tremaining: 21.8s\n",
      "100:\ttest: 0.6831632\tbest: 0.6852722 (76)\ttotal: 4.75s\tremaining: 18.8s\n",
      "200:\ttest: 0.6871389\tbest: 0.6872098 (199)\ttotal: 9.52s\tremaining: 14.2s\n",
      "300:\ttest: 0.6870654\tbest: 0.6886178 (279)\ttotal: 14.3s\tremaining: 9.47s\n",
      "bestTest = 0.6886177957\n",
      "bestIteration = 279\n",
      "Shrink model to first 280 iterations.\n"
     ]
    },
    {
     "name": "stderr",
     "output_type": "stream",
     "text": [
      "Default metric period is 5 because AUC is/are not implemented for GPU\n"
     ]
    },
    {
     "name": "stdout",
     "output_type": "stream",
     "text": [
      "0:\ttest: 0.5068348\tbest: 0.5068348 (0)\ttotal: 44.7ms\tremaining: 22.3s\n",
      "100:\ttest: 0.6548016\tbest: 0.6548016 (100)\ttotal: 4.64s\tremaining: 18.3s\n",
      "200:\ttest: 0.6757435\tbest: 0.6758208 (198)\ttotal: 9.39s\tremaining: 14s\n",
      "300:\ttest: 0.6811872\tbest: 0.6812420 (297)\ttotal: 14.2s\tremaining: 9.4s\n",
      "400:\ttest: 0.6839160\tbest: 0.6839160 (400)\ttotal: 19s\tremaining: 4.69s\n",
      "499:\ttest: 0.6852743\tbest: 0.6854692 (479)\ttotal: 23.7s\tremaining: 0us\n",
      "bestTest = 0.6854691803\n",
      "bestIteration = 479\n",
      "Shrink model to first 480 iterations.\n"
     ]
    },
    {
     "name": "stderr",
     "output_type": "stream",
     "text": [
      "Default metric period is 5 because AUC is/are not implemented for GPU\n"
     ]
    },
    {
     "name": "stdout",
     "output_type": "stream",
     "text": [
      "0:\ttest: 0.5068348\tbest: 0.5068348 (0)\ttotal: 46ms\tremaining: 23s\n",
      "100:\ttest: 0.6729425\tbest: 0.6729425 (100)\ttotal: 4.68s\tremaining: 18.5s\n",
      "200:\ttest: 0.6825264\tbest: 0.6826238 (198)\ttotal: 9.46s\tremaining: 14.1s\n",
      "300:\ttest: 0.6852944\tbest: 0.6852944 (300)\ttotal: 14.2s\tremaining: 9.42s\n",
      "400:\ttest: 0.6871907\tbest: 0.6872577 (392)\ttotal: 19s\tremaining: 4.7s\n",
      "499:\ttest: 0.6884836\tbest: 0.6884836 (499)\ttotal: 23.7s\tremaining: 0us\n",
      "bestTest = 0.6884836257\n",
      "bestIteration = 499\n"
     ]
    },
    {
     "name": "stderr",
     "output_type": "stream",
     "text": [
      "Default metric period is 5 because AUC is/are not implemented for GPU\n"
     ]
    },
    {
     "name": "stdout",
     "output_type": "stream",
     "text": [
      "0:\ttest: 0.5068348\tbest: 0.5068348 (0)\ttotal: 44.1ms\tremaining: 22s\n",
      "100:\ttest: 0.6761972\tbest: 0.6769500 (94)\ttotal: 4.74s\tremaining: 18.7s\n",
      "200:\ttest: 0.6846477\tbest: 0.6846745 (199)\ttotal: 9.52s\tremaining: 14.2s\n",
      "300:\ttest: 0.6862410\tbest: 0.6862410 (300)\ttotal: 14.3s\tremaining: 9.45s\n",
      "400:\ttest: 0.6881160\tbest: 0.6882094 (393)\ttotal: 19.1s\tremaining: 4.71s\n",
      "499:\ttest: 0.6886469\tbest: 0.6886535 (461)\ttotal: 23.9s\tremaining: 0us\n",
      "bestTest = 0.6886535287\n",
      "bestIteration = 461\n",
      "Shrink model to first 462 iterations.\n"
     ]
    },
    {
     "name": "stderr",
     "output_type": "stream",
     "text": [
      "Default metric period is 5 because AUC is/are not implemented for GPU\n"
     ]
    },
    {
     "name": "stdout",
     "output_type": "stream",
     "text": [
      "0:\ttest: 0.5068348\tbest: 0.5068348 (0)\ttotal: 43.3ms\tremaining: 21.6s\n",
      "100:\ttest: 0.6818417\tbest: 0.6825048 (87)\ttotal: 4.75s\tremaining: 18.8s\n",
      "200:\ttest: 0.6873289\tbest: 0.6873289 (200)\ttotal: 9.52s\tremaining: 14.2s\n",
      "300:\ttest: 0.6887757\tbest: 0.6892880 (289)\ttotal: 14.3s\tremaining: 9.46s\n",
      "400:\ttest: 0.6909870\tbest: 0.6910361 (398)\ttotal: 19.2s\tremaining: 4.75s\n",
      "499:\ttest: 0.6911182\tbest: 0.6917664 (421)\ttotal: 24s\tremaining: 0us\n",
      "bestTest = 0.6917663515\n",
      "bestIteration = 421\n",
      "Shrink model to first 422 iterations.\n"
     ]
    },
    {
     "name": "stderr",
     "output_type": "stream",
     "text": [
      "Default metric period is 5 because AUC is/are not implemented for GPU\n"
     ]
    },
    {
     "name": "stdout",
     "output_type": "stream",
     "text": [
      "0:\ttest: 0.5068348\tbest: 0.5068348 (0)\ttotal: 44ms\tremaining: 21.9s\n",
      "100:\ttest: 0.6881946\tbest: 0.6889480 (76)\ttotal: 4.73s\tremaining: 18.7s\n",
      "200:\ttest: 0.6919046\tbest: 0.6919422 (193)\ttotal: 9.57s\tremaining: 14.2s\n",
      "300:\ttest: 0.6915043\tbest: 0.6935044 (231)\ttotal: 14.4s\tremaining: 9.49s\n",
      "bestTest = 0.6935043633\n",
      "bestIteration = 231\n",
      "Shrink model to first 232 iterations.\n"
     ]
    },
    {
     "name": "stderr",
     "output_type": "stream",
     "text": [
      "Default metric period is 5 because AUC is/are not implemented for GPU\n"
     ]
    },
    {
     "name": "stdout",
     "output_type": "stream",
     "text": [
      "0:\ttest: 0.5044655\tbest: 0.5044655 (0)\ttotal: 44ms\tremaining: 21.9s\n",
      "100:\ttest: 0.6537195\tbest: 0.6537195 (100)\ttotal: 4.59s\tremaining: 18.1s\n",
      "200:\ttest: 0.6768943\tbest: 0.6770523 (198)\ttotal: 9.26s\tremaining: 13.8s\n",
      "300:\ttest: 0.6817210\tbest: 0.6817302 (299)\ttotal: 14.1s\tremaining: 9.31s\n",
      "400:\ttest: 0.6841635\tbest: 0.6841635 (400)\ttotal: 18.9s\tremaining: 4.68s\n",
      "499:\ttest: 0.6854436\tbest: 0.6856795 (477)\ttotal: 23.7s\tremaining: 0us\n",
      "bestTest = 0.6856795251\n",
      "bestIteration = 477\n",
      "Shrink model to first 478 iterations.\n"
     ]
    },
    {
     "name": "stderr",
     "output_type": "stream",
     "text": [
      "Default metric period is 5 because AUC is/are not implemented for GPU\n"
     ]
    },
    {
     "name": "stdout",
     "output_type": "stream",
     "text": [
      "0:\ttest: 0.5044655\tbest: 0.5044655 (0)\ttotal: 44.1ms\tremaining: 22s\n",
      "100:\ttest: 0.6738562\tbest: 0.6738562 (100)\ttotal: 4.71s\tremaining: 18.6s\n",
      "200:\ttest: 0.6838530\tbest: 0.6838723 (189)\ttotal: 9.5s\tremaining: 14.1s\n",
      "300:\ttest: 0.6855504\tbest: 0.6855554 (298)\ttotal: 14.2s\tremaining: 9.4s\n",
      "400:\ttest: 0.6884860\tbest: 0.6885266 (396)\ttotal: 19s\tremaining: 4.68s\n",
      "499:\ttest: 0.6893056\tbest: 0.6896296 (474)\ttotal: 23.7s\tremaining: 0us\n",
      "bestTest = 0.6896295547\n",
      "bestIteration = 474\n",
      "Shrink model to first 475 iterations.\n"
     ]
    },
    {
     "name": "stderr",
     "output_type": "stream",
     "text": [
      "Default metric period is 5 because AUC is/are not implemented for GPU\n"
     ]
    },
    {
     "name": "stdout",
     "output_type": "stream",
     "text": [
      "0:\ttest: 0.5044655\tbest: 0.5044655 (0)\ttotal: 43.4ms\tremaining: 21.6s\n",
      "100:\ttest: 0.6770470\tbest: 0.6774000 (99)\ttotal: 4.73s\tremaining: 18.7s\n",
      "200:\ttest: 0.6844902\tbest: 0.6847052 (192)\ttotal: 9.54s\tremaining: 14.2s\n",
      "300:\ttest: 0.6883301\tbest: 0.6883301 (300)\ttotal: 14.3s\tremaining: 9.47s\n",
      "400:\ttest: 0.6898482\tbest: 0.6901906 (369)\ttotal: 19.1s\tremaining: 4.72s\n",
      "bestTest = 0.6901906431\n",
      "bestIteration = 369\n",
      "Shrink model to first 370 iterations.\n"
     ]
    },
    {
     "name": "stderr",
     "output_type": "stream",
     "text": [
      "Default metric period is 5 because AUC is/are not implemented for GPU\n"
     ]
    },
    {
     "name": "stdout",
     "output_type": "stream",
     "text": [
      "0:\ttest: 0.5044655\tbest: 0.5044655 (0)\ttotal: 42.9ms\tremaining: 21.4s\n",
      "100:\ttest: 0.6829871\tbest: 0.6830665 (99)\ttotal: 4.77s\tremaining: 18.8s\n",
      "200:\ttest: 0.6902417\tbest: 0.6902417 (200)\ttotal: 9.59s\tremaining: 14.3s\n",
      "300:\ttest: 0.6920649\tbest: 0.6923102 (289)\ttotal: 14.4s\tremaining: 9.51s\n",
      "400:\ttest: 0.6953325\tbest: 0.6953386 (395)\ttotal: 19.2s\tremaining: 4.74s\n",
      "499:\ttest: 0.6950901\tbest: 0.6954976 (485)\ttotal: 23.9s\tremaining: 0us\n",
      "bestTest = 0.6954975724\n",
      "bestIteration = 485\n",
      "Shrink model to first 486 iterations.\n"
     ]
    },
    {
     "name": "stderr",
     "output_type": "stream",
     "text": [
      "Default metric period is 5 because AUC is/are not implemented for GPU\n"
     ]
    },
    {
     "name": "stdout",
     "output_type": "stream",
     "text": [
      "0:\ttest: 0.5044655\tbest: 0.5044655 (0)\ttotal: 43.2ms\tremaining: 21.5s\n",
      "100:\ttest: 0.6835829\tbest: 0.6839426 (89)\ttotal: 4.74s\tremaining: 18.7s\n",
      "200:\ttest: 0.6916265\tbest: 0.6917936 (192)\ttotal: 9.58s\tremaining: 14.3s\n",
      "300:\ttest: 0.6913179\tbest: 0.6925958 (268)\ttotal: 14.4s\tremaining: 9.51s\n",
      "bestTest = 0.6925958097\n",
      "bestIteration = 268\n",
      "Shrink model to first 269 iterations.\n"
     ]
    },
    {
     "name": "stderr",
     "output_type": "stream",
     "text": [
      "Default metric period is 5 because AUC is/are not implemented for GPU\n"
     ]
    },
    {
     "name": "stdout",
     "output_type": "stream",
     "text": [
      "0:\ttest: 0.4977958\tbest: 0.4977958 (0)\ttotal: 42.8ms\tremaining: 21.4s\n",
      "100:\ttest: 0.6601475\tbest: 0.6601475 (100)\ttotal: 4.62s\tremaining: 18.3s\n",
      "200:\ttest: 0.6776195\tbest: 0.6779228 (196)\ttotal: 9.32s\tremaining: 13.9s\n",
      "300:\ttest: 0.6822013\tbest: 0.6822162 (299)\ttotal: 14.1s\tremaining: 9.35s\n",
      "400:\ttest: 0.6854112\tbest: 0.6854112 (400)\ttotal: 19s\tremaining: 4.69s\n",
      "499:\ttest: 0.6863768\tbest: 0.6864151 (479)\ttotal: 23.7s\tremaining: 0us\n",
      "bestTest = 0.6864151359\n",
      "bestIteration = 479\n",
      "Shrink model to first 480 iterations.\n"
     ]
    },
    {
     "name": "stderr",
     "output_type": "stream",
     "text": [
      "Default metric period is 5 because AUC is/are not implemented for GPU\n"
     ]
    },
    {
     "name": "stdout",
     "output_type": "stream",
     "text": [
      "0:\ttest: 0.4977958\tbest: 0.4977958 (0)\ttotal: 43ms\tremaining: 21.4s\n",
      "100:\ttest: 0.6742733\tbest: 0.6742733 (100)\ttotal: 4.68s\tremaining: 18.5s\n",
      "200:\ttest: 0.6835771\tbest: 0.6836835 (178)\ttotal: 9.49s\tremaining: 14.1s\n",
      "300:\ttest: 0.6864822\tbest: 0.6865777 (299)\ttotal: 14.3s\tremaining: 9.42s\n",
      "400:\ttest: 0.6889842\tbest: 0.6889842 (400)\ttotal: 19s\tremaining: 4.69s\n",
      "499:\ttest: 0.6897323\tbest: 0.6897323 (499)\ttotal: 23.7s\tremaining: 0us\n",
      "bestTest = 0.6897322536\n",
      "bestIteration = 499\n"
     ]
    },
    {
     "name": "stderr",
     "output_type": "stream",
     "text": [
      "Default metric period is 5 because AUC is/are not implemented for GPU\n"
     ]
    },
    {
     "name": "stdout",
     "output_type": "stream",
     "text": [
      "0:\ttest: 0.4977958\tbest: 0.4977958 (0)\ttotal: 43.8ms\tremaining: 21.9s\n",
      "100:\ttest: 0.6796149\tbest: 0.6800586 (94)\ttotal: 4.67s\tremaining: 18.5s\n",
      "200:\ttest: 0.6864032\tbest: 0.6867684 (192)\ttotal: 9.44s\tremaining: 14s\n",
      "300:\ttest: 0.6892802\tbest: 0.6893702 (270)\ttotal: 14.2s\tremaining: 9.41s\n",
      "400:\ttest: 0.6914532\tbest: 0.6914693 (399)\ttotal: 19s\tremaining: 4.7s\n",
      "499:\ttest: 0.6917611\tbest: 0.6918681 (487)\ttotal: 23.7s\tremaining: 0us\n",
      "bestTest = 0.6918680966\n",
      "bestIteration = 487\n",
      "Shrink model to first 488 iterations.\n"
     ]
    },
    {
     "name": "stderr",
     "output_type": "stream",
     "text": [
      "Default metric period is 5 because AUC is/are not implemented for GPU\n"
     ]
    },
    {
     "name": "stdout",
     "output_type": "stream",
     "text": [
      "0:\ttest: 0.4977958\tbest: 0.4977958 (0)\ttotal: 45.4ms\tremaining: 22.6s\n",
      "100:\ttest: 0.6823418\tbest: 0.6824143 (99)\ttotal: 4.83s\tremaining: 19.1s\n",
      "200:\ttest: 0.6891692\tbest: 0.6891692 (200)\ttotal: 9.7s\tremaining: 14.4s\n",
      "300:\ttest: 0.6918657\tbest: 0.6921511 (294)\ttotal: 14.5s\tremaining: 9.6s\n",
      "400:\ttest: 0.6927535\tbest: 0.6932698 (392)\ttotal: 19.4s\tremaining: 4.78s\n",
      "bestTest = 0.6932698488\n",
      "bestIteration = 392\n",
      "Shrink model to first 393 iterations.\n"
     ]
    },
    {
     "name": "stderr",
     "output_type": "stream",
     "text": [
      "Default metric period is 5 because AUC is/are not implemented for GPU\n"
     ]
    },
    {
     "name": "stdout",
     "output_type": "stream",
     "text": [
      "0:\ttest: 0.4977958\tbest: 0.4977958 (0)\ttotal: 45.2ms\tremaining: 22.5s\n",
      "100:\ttest: 0.6814616\tbest: 0.6814857 (79)\ttotal: 4.81s\tremaining: 19s\n",
      "200:\ttest: 0.6884179\tbest: 0.6884399 (197)\ttotal: 9.7s\tremaining: 14.4s\n",
      "300:\ttest: 0.6930716\tbest: 0.6933502 (291)\ttotal: 14.7s\tremaining: 9.72s\n",
      "400:\ttest: 0.6931860\tbest: 0.6933976 (324)\ttotal: 19.6s\tremaining: 4.84s\n",
      "bestTest = 0.6936615109\n",
      "bestIteration = 418\n",
      "Shrink model to first 419 iterations.\n"
     ]
    },
    {
     "name": "stderr",
     "output_type": "stream",
     "text": [
      "Default metric period is 5 because AUC is/are not implemented for GPU\n"
     ]
    },
    {
     "name": "stdout",
     "output_type": "stream",
     "text": [
      "0:\ttest: 0.5027403\tbest: 0.5027403 (0)\ttotal: 46.9ms\tremaining: 23.4s\n",
      "100:\ttest: 0.6543968\tbest: 0.6543968 (100)\ttotal: 4.63s\tremaining: 18.3s\n",
      "200:\ttest: 0.6778102\tbest: 0.6780578 (198)\ttotal: 9.31s\tremaining: 13.9s\n",
      "300:\ttest: 0.6831101\tbest: 0.6831146 (299)\ttotal: 14.2s\tremaining: 9.37s\n",
      "400:\ttest: 0.6864278\tbest: 0.6864278 (400)\ttotal: 19.2s\tremaining: 4.73s\n",
      "499:\ttest: 0.6879172\tbest: 0.6879801 (479)\ttotal: 23.8s\tremaining: 0us\n",
      "bestTest = 0.6879800558\n",
      "bestIteration = 479\n",
      "Shrink model to first 480 iterations.\n"
     ]
    },
    {
     "name": "stderr",
     "output_type": "stream",
     "text": [
      "Default metric period is 5 because AUC is/are not implemented for GPU\n"
     ]
    },
    {
     "name": "stdout",
     "output_type": "stream",
     "text": [
      "0:\ttest: 0.5027403\tbest: 0.5027403 (0)\ttotal: 43.1ms\tremaining: 21.5s\n",
      "100:\ttest: 0.6745389\tbest: 0.6745389 (100)\ttotal: 4.67s\tremaining: 18.4s\n",
      "200:\ttest: 0.6836910\tbest: 0.6836970 (196)\ttotal: 9.47s\tremaining: 14.1s\n",
      "300:\ttest: 0.6871660\tbest: 0.6872938 (298)\ttotal: 14.2s\tremaining: 9.4s\n",
      "400:\ttest: 0.6893232\tbest: 0.6894502 (393)\ttotal: 19s\tremaining: 4.68s\n",
      "499:\ttest: 0.6890401\tbest: 0.6895607 (427)\ttotal: 23.7s\tremaining: 0us\n",
      "bestTest = 0.6895607114\n",
      "bestIteration = 427\n",
      "Shrink model to first 428 iterations.\n"
     ]
    },
    {
     "name": "stderr",
     "output_type": "stream",
     "text": [
      "Default metric period is 5 because AUC is/are not implemented for GPU\n"
     ]
    },
    {
     "name": "stdout",
     "output_type": "stream",
     "text": [
      "0:\ttest: 0.5027403\tbest: 0.5027403 (0)\ttotal: 43.1ms\tremaining: 21.5s\n",
      "100:\ttest: 0.6755042\tbest: 0.6764164 (89)\ttotal: 4.67s\tremaining: 18.4s\n",
      "200:\ttest: 0.6843483\tbest: 0.6844176 (198)\ttotal: 9.44s\tremaining: 14s\n",
      "300:\ttest: 0.6879371\tbest: 0.6879954 (294)\ttotal: 14.3s\tremaining: 9.48s\n",
      "400:\ttest: 0.6907379\tbest: 0.6910437 (374)\ttotal: 19.2s\tremaining: 4.74s\n",
      "499:\ttest: 0.6919659\tbest: 0.6924981 (477)\ttotal: 24s\tremaining: 0us\n",
      "bestTest = 0.6924980879\n",
      "bestIteration = 477\n",
      "Shrink model to first 478 iterations.\n"
     ]
    },
    {
     "name": "stderr",
     "output_type": "stream",
     "text": [
      "Default metric period is 5 because AUC is/are not implemented for GPU\n"
     ]
    },
    {
     "name": "stdout",
     "output_type": "stream",
     "text": [
      "0:\ttest: 0.5027403\tbest: 0.5027403 (0)\ttotal: 43.2ms\tremaining: 21.6s\n",
      "100:\ttest: 0.6842636\tbest: 0.6843563 (99)\ttotal: 4.92s\tremaining: 19.4s\n",
      "200:\ttest: 0.6902536\tbest: 0.6903593 (192)\ttotal: 9.71s\tremaining: 14.4s\n",
      "300:\ttest: 0.6934481\tbest: 0.6934631 (299)\ttotal: 14.6s\tremaining: 9.62s\n",
      "400:\ttest: 0.6950608\tbest: 0.6952311 (395)\ttotal: 19.4s\tremaining: 4.8s\n",
      "bestTest = 0.695541501\n",
      "bestIteration = 418\n",
      "Shrink model to first 419 iterations.\n"
     ]
    },
    {
     "name": "stderr",
     "output_type": "stream",
     "text": [
      "Default metric period is 5 because AUC is/are not implemented for GPU\n"
     ]
    },
    {
     "name": "stdout",
     "output_type": "stream",
     "text": [
      "0:\ttest: 0.5027403\tbest: 0.5027403 (0)\ttotal: 43.1ms\tremaining: 21.5s\n",
      "100:\ttest: 0.6851996\tbest: 0.6855710 (79)\ttotal: 4.81s\tremaining: 19s\n",
      "200:\ttest: 0.6925494\tbest: 0.6925494 (200)\ttotal: 9.65s\tremaining: 14.4s\n",
      "300:\ttest: 0.6954364\tbest: 0.6956685 (231)\ttotal: 14.5s\tremaining: 9.55s\n",
      "bestTest = 0.6956685483\n",
      "bestIteration = 231\n",
      "Shrink model to first 232 iterations.\n"
     ]
    },
    {
     "name": "stderr",
     "output_type": "stream",
     "text": [
      "Default metric period is 5 because AUC is/are not implemented for GPU\n"
     ]
    },
    {
     "name": "stdout",
     "output_type": "stream",
     "text": [
      "0:\ttest: 0.5117245\tbest: 0.5117245 (0)\ttotal: 44.2ms\tremaining: 44.2s\n",
      "100:\ttest: 0.6498716\tbest: 0.6498716 (100)\ttotal: 4.66s\tremaining: 41.4s\n",
      "200:\ttest: 0.6754729\tbest: 0.6754729 (200)\ttotal: 9.38s\tremaining: 37.3s\n",
      "300:\ttest: 0.6801436\tbest: 0.6801436 (300)\ttotal: 14.2s\tremaining: 32.9s\n",
      "400:\ttest: 0.6829979\tbest: 0.6829979 (400)\ttotal: 19s\tremaining: 28.3s\n",
      "500:\ttest: 0.6847181\tbest: 0.6847181 (500)\ttotal: 23.7s\tremaining: 23.6s\n",
      "600:\ttest: 0.6855829\tbest: 0.6856582 (597)\ttotal: 28.4s\tremaining: 18.9s\n",
      "700:\ttest: 0.6868916\tbest: 0.6870543 (690)\ttotal: 33.2s\tremaining: 14.1s\n",
      "800:\ttest: 0.6875962\tbest: 0.6876344 (769)\ttotal: 37.9s\tremaining: 9.42s\n",
      "900:\ttest: 0.6879932\tbest: 0.6884362 (864)\ttotal: 42.7s\tremaining: 4.69s\n",
      "bestTest = 0.6884362102\n",
      "bestIteration = 864\n",
      "Shrink model to first 865 iterations.\n"
     ]
    },
    {
     "name": "stderr",
     "output_type": "stream",
     "text": [
      "Default metric period is 5 because AUC is/are not implemented for GPU\n"
     ]
    },
    {
     "name": "stdout",
     "output_type": "stream",
     "text": [
      "0:\ttest: 0.5117245\tbest: 0.5117245 (0)\ttotal: 44.8ms\tremaining: 44.7s\n",
      "100:\ttest: 0.6754571\tbest: 0.6754571 (100)\ttotal: 4.69s\tremaining: 41.7s\n",
      "200:\ttest: 0.6837330\tbest: 0.6837330 (200)\ttotal: 9.41s\tremaining: 37.4s\n",
      "bestTest = 0.6844013929\n",
      "bestIteration = 217\n",
      "Shrink model to first 218 iterations.\n"
     ]
    },
    {
     "name": "stderr",
     "output_type": "stream",
     "text": [
      "Default metric period is 5 because AUC is/are not implemented for GPU\n"
     ]
    },
    {
     "name": "stdout",
     "output_type": "stream",
     "text": [
      "0:\ttest: 0.5117245\tbest: 0.5117245 (0)\ttotal: 44.2ms\tremaining: 44.2s\n",
      "100:\ttest: 0.6750754\tbest: 0.6750754 (100)\ttotal: 4.83s\tremaining: 43s\n",
      "200:\ttest: 0.6832694\tbest: 0.6834505 (179)\ttotal: 9.77s\tremaining: 38.8s\n",
      "300:\ttest: 0.6867908\tbest: 0.6867908 (300)\ttotal: 14.7s\tremaining: 34.1s\n",
      "400:\ttest: 0.6886744\tbest: 0.6886744 (400)\ttotal: 19.6s\tremaining: 29.3s\n",
      "bestTest = 0.6892414093\n",
      "bestIteration = 411\n",
      "Shrink model to first 412 iterations.\n"
     ]
    },
    {
     "name": "stderr",
     "output_type": "stream",
     "text": [
      "Default metric period is 5 because AUC is/are not implemented for GPU\n"
     ]
    },
    {
     "name": "stdout",
     "output_type": "stream",
     "text": [
      "0:\ttest: 0.5117245\tbest: 0.5117245 (0)\ttotal: 45.8ms\tremaining: 45.7s\n",
      "100:\ttest: 0.6807232\tbest: 0.6807969 (98)\ttotal: 4.88s\tremaining: 43.4s\n",
      "200:\ttest: 0.6823513\tbest: 0.6828195 (193)\ttotal: 9.79s\tremaining: 38.9s\n",
      "300:\ttest: 0.6847905\tbest: 0.6853693 (228)\ttotal: 14.7s\tremaining: 34.2s\n",
      "bestTest = 0.6853692532\n",
      "bestIteration = 228\n",
      "Shrink model to first 229 iterations.\n"
     ]
    },
    {
     "name": "stderr",
     "output_type": "stream",
     "text": [
      "Default metric period is 5 because AUC is/are not implemented for GPU\n"
     ]
    },
    {
     "name": "stdout",
     "output_type": "stream",
     "text": [
      "0:\ttest: 0.5117245\tbest: 0.5117245 (0)\ttotal: 44.4ms\tremaining: 44.4s\n",
      "100:\ttest: 0.6831632\tbest: 0.6852722 (76)\ttotal: 4.72s\tremaining: 42s\n",
      "200:\ttest: 0.6871389\tbest: 0.6872098 (199)\ttotal: 9.62s\tremaining: 38.2s\n",
      "300:\ttest: 0.6870654\tbest: 0.6886178 (279)\ttotal: 14.5s\tremaining: 33.8s\n",
      "bestTest = 0.6886177957\n",
      "bestIteration = 279\n",
      "Shrink model to first 280 iterations.\n"
     ]
    },
    {
     "name": "stderr",
     "output_type": "stream",
     "text": [
      "Default metric period is 5 because AUC is/are not implemented for GPU\n"
     ]
    },
    {
     "name": "stdout",
     "output_type": "stream",
     "text": [
      "0:\ttest: 0.5068348\tbest: 0.5068348 (0)\ttotal: 45.8ms\tremaining: 45.8s\n",
      "100:\ttest: 0.6548016\tbest: 0.6548016 (100)\ttotal: 4.79s\tremaining: 42.6s\n",
      "200:\ttest: 0.6757435\tbest: 0.6758208 (198)\ttotal: 9.63s\tremaining: 38.3s\n",
      "300:\ttest: 0.6811872\tbest: 0.6812420 (297)\ttotal: 14.4s\tremaining: 33.5s\n",
      "400:\ttest: 0.6839160\tbest: 0.6839160 (400)\ttotal: 19.3s\tremaining: 28.9s\n",
      "500:\ttest: 0.6853327\tbest: 0.6854692 (479)\ttotal: 24.2s\tremaining: 24.1s\n",
      "600:\ttest: 0.6865210\tbest: 0.6866513 (597)\ttotal: 29.2s\tremaining: 19.4s\n",
      "700:\ttest: 0.6878666\tbest: 0.6878802 (698)\ttotal: 34s\tremaining: 14.5s\n",
      "800:\ttest: 0.6886039\tbest: 0.6888617 (756)\ttotal: 38.8s\tremaining: 9.65s\n",
      "900:\ttest: 0.6889575\tbest: 0.6890804 (867)\ttotal: 43.8s\tremaining: 4.81s\n",
      "999:\ttest: 0.6896197\tbest: 0.6896247 (998)\ttotal: 48.6s\tremaining: 0us\n",
      "bestTest = 0.6896246672\n",
      "bestIteration = 998\n",
      "Shrink model to first 999 iterations.\n"
     ]
    },
    {
     "name": "stderr",
     "output_type": "stream",
     "text": [
      "Default metric period is 5 because AUC is/are not implemented for GPU\n"
     ]
    },
    {
     "name": "stdout",
     "output_type": "stream",
     "text": [
      "0:\ttest: 0.5068348\tbest: 0.5068348 (0)\ttotal: 44.6ms\tremaining: 44.5s\n",
      "100:\ttest: 0.6729425\tbest: 0.6729425 (100)\ttotal: 4.7s\tremaining: 41.9s\n",
      "200:\ttest: 0.6825264\tbest: 0.6826238 (198)\ttotal: 9.5s\tremaining: 37.8s\n",
      "300:\ttest: 0.6852944\tbest: 0.6852944 (300)\ttotal: 14.3s\tremaining: 33.2s\n",
      "400:\ttest: 0.6871907\tbest: 0.6872577 (392)\ttotal: 19.1s\tremaining: 28.5s\n",
      "500:\ttest: 0.6885253\tbest: 0.6885253 (500)\ttotal: 24s\tremaining: 23.9s\n",
      "600:\ttest: 0.6901720\tbest: 0.6901921 (599)\ttotal: 28.9s\tremaining: 19.2s\n",
      "700:\ttest: 0.6908463\tbest: 0.6910994 (661)\ttotal: 33.9s\tremaining: 14.5s\n",
      "bestTest = 0.6910994351\n",
      "bestIteration = 661\n",
      "Shrink model to first 662 iterations.\n"
     ]
    },
    {
     "name": "stderr",
     "output_type": "stream",
     "text": [
      "Default metric period is 5 because AUC is/are not implemented for GPU\n"
     ]
    },
    {
     "name": "stdout",
     "output_type": "stream",
     "text": [
      "0:\ttest: 0.5068348\tbest: 0.5068348 (0)\ttotal: 45.4ms\tremaining: 45.4s\n",
      "100:\ttest: 0.6761972\tbest: 0.6769500 (94)\ttotal: 4.86s\tremaining: 43.3s\n",
      "200:\ttest: 0.6846477\tbest: 0.6846745 (199)\ttotal: 9.76s\tremaining: 38.8s\n",
      "300:\ttest: 0.6862410\tbest: 0.6862410 (300)\ttotal: 14.6s\tremaining: 33.9s\n",
      "400:\ttest: 0.6881160\tbest: 0.6882094 (393)\ttotal: 19.5s\tremaining: 29.2s\n",
      "500:\ttest: 0.6886008\tbest: 0.6886535 (461)\ttotal: 24.5s\tremaining: 24.4s\n",
      "600:\ttest: 0.6891622\tbest: 0.6892948 (584)\ttotal: 29.5s\tremaining: 19.6s\n",
      "bestTest = 0.6892948449\n",
      "bestIteration = 584\n",
      "Shrink model to first 585 iterations.\n"
     ]
    },
    {
     "name": "stderr",
     "output_type": "stream",
     "text": [
      "Default metric period is 5 because AUC is/are not implemented for GPU\n"
     ]
    },
    {
     "name": "stdout",
     "output_type": "stream",
     "text": [
      "0:\ttest: 0.5068348\tbest: 0.5068348 (0)\ttotal: 45.4ms\tremaining: 45.4s\n",
      "100:\ttest: 0.6818417\tbest: 0.6825048 (87)\ttotal: 4.96s\tremaining: 44.1s\n",
      "200:\ttest: 0.6873289\tbest: 0.6873289 (200)\ttotal: 9.91s\tremaining: 39.4s\n",
      "300:\ttest: 0.6887757\tbest: 0.6892880 (289)\ttotal: 14.8s\tremaining: 34.4s\n",
      "400:\ttest: 0.6909870\tbest: 0.6910361 (398)\ttotal: 19.8s\tremaining: 29.5s\n",
      "500:\ttest: 0.6910561\tbest: 0.6917848 (421)\ttotal: 24.7s\tremaining: 24.6s\n",
      "bestTest = 0.6917847693\n",
      "bestIteration = 421\n",
      "Shrink model to first 422 iterations.\n"
     ]
    },
    {
     "name": "stderr",
     "output_type": "stream",
     "text": [
      "Default metric period is 5 because AUC is/are not implemented for GPU\n"
     ]
    },
    {
     "name": "stdout",
     "output_type": "stream",
     "text": [
      "0:\ttest: 0.5068348\tbest: 0.5068348 (0)\ttotal: 45.4ms\tremaining: 45.3s\n",
      "100:\ttest: 0.6881946\tbest: 0.6889480 (76)\ttotal: 4.82s\tremaining: 42.9s\n",
      "200:\ttest: 0.6918959\tbest: 0.6919303 (193)\ttotal: 9.69s\tremaining: 38.5s\n",
      "300:\ttest: 0.6914937\tbest: 0.6934918 (231)\ttotal: 14.6s\tremaining: 33.9s\n",
      "bestTest = 0.6934918463\n",
      "bestIteration = 231\n",
      "Shrink model to first 232 iterations.\n"
     ]
    },
    {
     "name": "stderr",
     "output_type": "stream",
     "text": [
      "Default metric period is 5 because AUC is/are not implemented for GPU\n"
     ]
    },
    {
     "name": "stdout",
     "output_type": "stream",
     "text": [
      "0:\ttest: 0.5044655\tbest: 0.5044655 (0)\ttotal: 44.7ms\tremaining: 44.7s\n",
      "100:\ttest: 0.6537195\tbest: 0.6537195 (100)\ttotal: 4.69s\tremaining: 41.8s\n",
      "200:\ttest: 0.6768943\tbest: 0.6770523 (198)\ttotal: 9.51s\tremaining: 37.8s\n",
      "300:\ttest: 0.6817210\tbest: 0.6817302 (299)\ttotal: 14.5s\tremaining: 33.6s\n",
      "400:\ttest: 0.6841635\tbest: 0.6841635 (400)\ttotal: 19.4s\tremaining: 29s\n",
      "500:\ttest: 0.6855238\tbest: 0.6856795 (477)\ttotal: 24.4s\tremaining: 24.3s\n",
      "600:\ttest: 0.6865470\tbest: 0.6865548 (596)\ttotal: 29.2s\tremaining: 19.4s\n",
      "700:\ttest: 0.6872744\tbest: 0.6872822 (698)\ttotal: 34s\tremaining: 14.5s\n",
      "800:\ttest: 0.6884803\tbest: 0.6884803 (800)\ttotal: 39s\tremaining: 9.68s\n",
      "900:\ttest: 0.6895359\tbest: 0.6896290 (866)\ttotal: 43.9s\tremaining: 4.82s\n",
      "999:\ttest: 0.6898082\tbest: 0.6898870 (957)\ttotal: 48.8s\tremaining: 0us\n",
      "bestTest = 0.6898869872\n",
      "bestIteration = 957\n",
      "Shrink model to first 958 iterations.\n"
     ]
    },
    {
     "name": "stderr",
     "output_type": "stream",
     "text": [
      "Default metric period is 5 because AUC is/are not implemented for GPU\n"
     ]
    },
    {
     "name": "stdout",
     "output_type": "stream",
     "text": [
      "0:\ttest: 0.5044655\tbest: 0.5044655 (0)\ttotal: 44.9ms\tremaining: 44.9s\n",
      "100:\ttest: 0.6738562\tbest: 0.6738562 (100)\ttotal: 4.82s\tremaining: 42.9s\n",
      "200:\ttest: 0.6838530\tbest: 0.6838723 (189)\ttotal: 9.67s\tremaining: 38.4s\n",
      "300:\ttest: 0.6855457\tbest: 0.6855505 (298)\ttotal: 14.6s\tremaining: 33.9s\n",
      "400:\ttest: 0.6884727\tbest: 0.6885206 (396)\ttotal: 19.5s\tremaining: 29.1s\n",
      "500:\ttest: 0.6892649\tbest: 0.6896213 (474)\ttotal: 24.2s\tremaining: 24.1s\n",
      "600:\ttest: 0.6904935\tbest: 0.6905053 (597)\ttotal: 29s\tremaining: 19.3s\n",
      "700:\ttest: 0.6910681\tbest: 0.6911068 (644)\ttotal: 33.9s\tremaining: 14.5s\n",
      "800:\ttest: 0.6916923\tbest: 0.6918751 (790)\ttotal: 38.7s\tremaining: 9.62s\n",
      "900:\ttest: 0.6921971\tbest: 0.6922882 (858)\ttotal: 43.6s\tremaining: 4.79s\n",
      "999:\ttest: 0.6927133\tbest: 0.6928343 (994)\ttotal: 48.3s\tremaining: 0us\n",
      "bestTest = 0.6928342581\n",
      "bestIteration = 994\n",
      "Shrink model to first 995 iterations.\n"
     ]
    },
    {
     "name": "stderr",
     "output_type": "stream",
     "text": [
      "Default metric period is 5 because AUC is/are not implemented for GPU\n"
     ]
    },
    {
     "name": "stdout",
     "output_type": "stream",
     "text": [
      "0:\ttest: 0.5044655\tbest: 0.5044655 (0)\ttotal: 43.3ms\tremaining: 43.3s\n",
      "100:\ttest: 0.6770470\tbest: 0.6774000 (99)\ttotal: 4.72s\tremaining: 42.1s\n",
      "200:\ttest: 0.6844902\tbest: 0.6847052 (192)\ttotal: 9.51s\tremaining: 37.8s\n",
      "300:\ttest: 0.6883301\tbest: 0.6883301 (300)\ttotal: 14.4s\tremaining: 33.5s\n",
      "400:\ttest: 0.6898467\tbest: 0.6901906 (369)\ttotal: 19.2s\tremaining: 28.7s\n",
      "bestTest = 0.6901906431\n",
      "bestIteration = 369\n",
      "Shrink model to first 370 iterations.\n"
     ]
    },
    {
     "name": "stderr",
     "output_type": "stream",
     "text": [
      "Default metric period is 5 because AUC is/are not implemented for GPU\n"
     ]
    },
    {
     "name": "stdout",
     "output_type": "stream",
     "text": [
      "0:\ttest: 0.5044655\tbest: 0.5044655 (0)\ttotal: 43.9ms\tremaining: 43.9s\n",
      "100:\ttest: 0.6829871\tbest: 0.6830665 (99)\ttotal: 4.8s\tremaining: 42.8s\n",
      "200:\ttest: 0.6902417\tbest: 0.6902417 (200)\ttotal: 9.57s\tremaining: 38s\n",
      "300:\ttest: 0.6920653\tbest: 0.6923103 (289)\ttotal: 14.3s\tremaining: 33.2s\n",
      "400:\ttest: 0.6953331\tbest: 0.6953397 (395)\ttotal: 19.2s\tremaining: 28.6s\n",
      "500:\ttest: 0.6950735\tbest: 0.6954982 (485)\ttotal: 24s\tremaining: 23.9s\n",
      "bestTest = 0.6954982281\n",
      "bestIteration = 485\n",
      "Shrink model to first 486 iterations.\n"
     ]
    },
    {
     "name": "stderr",
     "output_type": "stream",
     "text": [
      "Default metric period is 5 because AUC is/are not implemented for GPU\n"
     ]
    },
    {
     "name": "stdout",
     "output_type": "stream",
     "text": [
      "0:\ttest: 0.5044655\tbest: 0.5044655 (0)\ttotal: 44.6ms\tremaining: 44.5s\n",
      "100:\ttest: 0.6835829\tbest: 0.6839426 (89)\ttotal: 4.86s\tremaining: 43.3s\n",
      "200:\ttest: 0.6916265\tbest: 0.6917936 (192)\ttotal: 9.82s\tremaining: 39s\n",
      "300:\ttest: 0.6913147\tbest: 0.6925935 (268)\ttotal: 14.8s\tremaining: 34.3s\n",
      "bestTest = 0.6925935149\n",
      "bestIteration = 268\n",
      "Shrink model to first 269 iterations.\n"
     ]
    },
    {
     "name": "stderr",
     "output_type": "stream",
     "text": [
      "Default metric period is 5 because AUC is/are not implemented for GPU\n"
     ]
    },
    {
     "name": "stdout",
     "output_type": "stream",
     "text": [
      "0:\ttest: 0.4977958\tbest: 0.4977958 (0)\ttotal: 44.6ms\tremaining: 44.5s\n",
      "100:\ttest: 0.6601475\tbest: 0.6601475 (100)\ttotal: 4.72s\tremaining: 42s\n",
      "200:\ttest: 0.6776195\tbest: 0.6779228 (196)\ttotal: 9.46s\tremaining: 37.6s\n",
      "300:\ttest: 0.6822013\tbest: 0.6822162 (299)\ttotal: 14.3s\tremaining: 33.3s\n",
      "400:\ttest: 0.6854112\tbest: 0.6854112 (400)\ttotal: 19.3s\tremaining: 28.8s\n",
      "500:\ttest: 0.6865101\tbest: 0.6865101 (500)\ttotal: 24.2s\tremaining: 24.1s\n",
      "600:\ttest: 0.6873234\tbest: 0.6873234 (600)\ttotal: 28.9s\tremaining: 19.2s\n",
      "700:\ttest: 0.6879643\tbest: 0.6880204 (674)\ttotal: 33.8s\tremaining: 14.4s\n",
      "800:\ttest: 0.6887360\tbest: 0.6887360 (800)\ttotal: 38.7s\tremaining: 9.62s\n",
      "900:\ttest: 0.6896119\tbest: 0.6896870 (866)\ttotal: 43.6s\tremaining: 4.79s\n",
      "999:\ttest: 0.6899574\tbest: 0.6899649 (958)\ttotal: 48.5s\tremaining: 0us\n",
      "bestTest = 0.6899648905\n",
      "bestIteration = 958\n",
      "Shrink model to first 959 iterations.\n"
     ]
    },
    {
     "name": "stderr",
     "output_type": "stream",
     "text": [
      "Default metric period is 5 because AUC is/are not implemented for GPU\n"
     ]
    },
    {
     "name": "stdout",
     "output_type": "stream",
     "text": [
      "0:\ttest: 0.4977958\tbest: 0.4977958 (0)\ttotal: 44.3ms\tremaining: 44.3s\n",
      "100:\ttest: 0.6742733\tbest: 0.6742733 (100)\ttotal: 4.77s\tremaining: 42.5s\n",
      "200:\ttest: 0.6835771\tbest: 0.6836835 (178)\ttotal: 9.62s\tremaining: 38.2s\n",
      "300:\ttest: 0.6864855\tbest: 0.6865813 (299)\ttotal: 14.5s\tremaining: 33.8s\n",
      "400:\ttest: 0.6889863\tbest: 0.6889863 (400)\ttotal: 19.3s\tremaining: 28.9s\n",
      "500:\ttest: 0.6897230\tbest: 0.6897343 (499)\ttotal: 24.2s\tremaining: 24.1s\n",
      "600:\ttest: 0.6901701\tbest: 0.6902727 (594)\ttotal: 29.1s\tremaining: 19.3s\n",
      "700:\ttest: 0.6907899\tbest: 0.6908378 (696)\ttotal: 34.1s\tremaining: 14.5s\n",
      "800:\ttest: 0.6918468\tbest: 0.6918469 (786)\ttotal: 39.1s\tremaining: 9.72s\n",
      "900:\ttest: 0.6920219\tbest: 0.6920856 (839)\ttotal: 44.3s\tremaining: 4.86s\n",
      "999:\ttest: 0.6928357\tbest: 0.6929343 (997)\ttotal: 49.4s\tremaining: 0us\n",
      "bestTest = 0.6929342747\n",
      "bestIteration = 997\n",
      "Shrink model to first 998 iterations.\n"
     ]
    },
    {
     "name": "stderr",
     "output_type": "stream",
     "text": [
      "Default metric period is 5 because AUC is/are not implemented for GPU\n"
     ]
    },
    {
     "name": "stdout",
     "output_type": "stream",
     "text": [
      "0:\ttest: 0.4977958\tbest: 0.4977958 (0)\ttotal: 45.7ms\tremaining: 45.6s\n",
      "100:\ttest: 0.6796149\tbest: 0.6800586 (94)\ttotal: 5.04s\tremaining: 44.9s\n",
      "200:\ttest: 0.6864032\tbest: 0.6867684 (192)\ttotal: 10.2s\tremaining: 40.5s\n",
      "300:\ttest: 0.6892802\tbest: 0.6893702 (270)\ttotal: 15.3s\tremaining: 35.4s\n",
      "400:\ttest: 0.6914532\tbest: 0.6914693 (399)\ttotal: 20.4s\tremaining: 30.4s\n",
      "500:\ttest: 0.6917591\tbest: 0.6918681 (487)\ttotal: 25.5s\tremaining: 25.4s\n",
      "600:\ttest: 0.6924176\tbest: 0.6928922 (582)\ttotal: 30.7s\tremaining: 20.4s\n",
      "bestTest = 0.6928921938\n",
      "bestIteration = 582\n",
      "Shrink model to first 583 iterations.\n"
     ]
    },
    {
     "name": "stderr",
     "output_type": "stream",
     "text": [
      "Default metric period is 5 because AUC is/are not implemented for GPU\n"
     ]
    },
    {
     "name": "stdout",
     "output_type": "stream",
     "text": [
      "0:\ttest: 0.4977958\tbest: 0.4977958 (0)\ttotal: 47.5ms\tremaining: 47.4s\n",
      "100:\ttest: 0.6823418\tbest: 0.6824143 (99)\ttotal: 5.16s\tremaining: 46s\n",
      "200:\ttest: 0.6891738\tbest: 0.6891738 (200)\ttotal: 10.3s\tremaining: 40.8s\n",
      "300:\ttest: 0.6918786\tbest: 0.6921627 (294)\ttotal: 15.4s\tremaining: 35.7s\n",
      "400:\ttest: 0.6927621\tbest: 0.6932790 (392)\ttotal: 20.5s\tremaining: 30.6s\n",
      "bestTest = 0.6932790279\n",
      "bestIteration = 392\n",
      "Shrink model to first 393 iterations.\n"
     ]
    },
    {
     "name": "stderr",
     "output_type": "stream",
     "text": [
      "Default metric period is 5 because AUC is/are not implemented for GPU\n"
     ]
    },
    {
     "name": "stdout",
     "output_type": "stream",
     "text": [
      "0:\ttest: 0.4977958\tbest: 0.4977958 (0)\ttotal: 49.5ms\tremaining: 49.5s\n",
      "100:\ttest: 0.6814616\tbest: 0.6814857 (79)\ttotal: 5.12s\tremaining: 45.6s\n",
      "200:\ttest: 0.6884116\tbest: 0.6884335 (197)\ttotal: 10.2s\tremaining: 40.6s\n",
      "300:\ttest: 0.6930669\tbest: 0.6933456 (291)\ttotal: 15.3s\tremaining: 35.6s\n",
      "400:\ttest: 0.6931763\tbest: 0.6933928 (324)\ttotal: 20.5s\tremaining: 30.5s\n",
      "bestTest = 0.6936510205\n",
      "bestIteration = 418\n",
      "Shrink model to first 419 iterations.\n"
     ]
    },
    {
     "name": "stderr",
     "output_type": "stream",
     "text": [
      "Default metric period is 5 because AUC is/are not implemented for GPU\n"
     ]
    },
    {
     "name": "stdout",
     "output_type": "stream",
     "text": [
      "0:\ttest: 0.5027403\tbest: 0.5027403 (0)\ttotal: 45.7ms\tremaining: 45.6s\n",
      "100:\ttest: 0.6543968\tbest: 0.6543968 (100)\ttotal: 4.87s\tremaining: 43.4s\n",
      "200:\ttest: 0.6778102\tbest: 0.6780578 (198)\ttotal: 9.94s\tremaining: 39.5s\n",
      "300:\ttest: 0.6831101\tbest: 0.6831146 (299)\ttotal: 15.1s\tremaining: 35.1s\n",
      "400:\ttest: 0.6864278\tbest: 0.6864278 (400)\ttotal: 20.3s\tremaining: 30.3s\n",
      "500:\ttest: 0.6880309\tbest: 0.6880309 (500)\ttotal: 25.3s\tremaining: 25.2s\n",
      "600:\ttest: 0.6886805\tbest: 0.6887164 (576)\ttotal: 30.5s\tremaining: 20.2s\n",
      "700:\ttest: 0.6890182\tbest: 0.6891924 (674)\ttotal: 35.6s\tremaining: 15.2s\n",
      "800:\ttest: 0.6894622\tbest: 0.6894622 (800)\ttotal: 40.7s\tremaining: 10.1s\n",
      "900:\ttest: 0.6903698\tbest: 0.6903698 (900)\ttotal: 45.9s\tremaining: 5.04s\n",
      "999:\ttest: 0.6905577\tbest: 0.6906472 (946)\ttotal: 50.8s\tremaining: 0us\n",
      "bestTest = 0.690647155\n",
      "bestIteration = 946\n",
      "Shrink model to first 947 iterations.\n"
     ]
    },
    {
     "name": "stderr",
     "output_type": "stream",
     "text": [
      "Default metric period is 5 because AUC is/are not implemented for GPU\n"
     ]
    },
    {
     "name": "stdout",
     "output_type": "stream",
     "text": [
      "0:\ttest: 0.5027403\tbest: 0.5027403 (0)\ttotal: 46.6ms\tremaining: 46.6s\n",
      "100:\ttest: 0.6745389\tbest: 0.6745389 (100)\ttotal: 5.04s\tremaining: 44.9s\n",
      "200:\ttest: 0.6836910\tbest: 0.6836970 (196)\ttotal: 10.2s\tremaining: 40.6s\n",
      "300:\ttest: 0.6871660\tbest: 0.6872938 (298)\ttotal: 15.4s\tremaining: 35.7s\n",
      "400:\ttest: 0.6893232\tbest: 0.6894502 (393)\ttotal: 20.5s\tremaining: 30.7s\n",
      "500:\ttest: 0.6889677\tbest: 0.6895607 (427)\ttotal: 25.6s\tremaining: 25.5s\n",
      "bestTest = 0.6895607114\n",
      "bestIteration = 427\n",
      "Shrink model to first 428 iterations.\n"
     ]
    },
    {
     "name": "stderr",
     "output_type": "stream",
     "text": [
      "Default metric period is 5 because AUC is/are not implemented for GPU\n"
     ]
    },
    {
     "name": "stdout",
     "output_type": "stream",
     "text": [
      "0:\ttest: 0.5027403\tbest: 0.5027403 (0)\ttotal: 45.6ms\tremaining: 45.5s\n",
      "100:\ttest: 0.6755042\tbest: 0.6764164 (89)\ttotal: 5.05s\tremaining: 45s\n",
      "200:\ttest: 0.6843513\tbest: 0.6844176 (198)\ttotal: 10.2s\tremaining: 40.6s\n",
      "300:\ttest: 0.6879412\tbest: 0.6879989 (294)\ttotal: 15.3s\tremaining: 35.6s\n",
      "400:\ttest: 0.6907369\tbest: 0.6910421 (374)\ttotal: 20.5s\tremaining: 30.6s\n",
      "500:\ttest: 0.6919332\tbest: 0.6924978 (477)\ttotal: 25.6s\tremaining: 25.5s\n",
      "600:\ttest: 0.6929833\tbest: 0.6933403 (583)\ttotal: 30.8s\tremaining: 20.5s\n",
      "bestTest = 0.6933403313\n",
      "bestIteration = 583\n",
      "Shrink model to first 584 iterations.\n"
     ]
    },
    {
     "name": "stderr",
     "output_type": "stream",
     "text": [
      "Default metric period is 5 because AUC is/are not implemented for GPU\n"
     ]
    },
    {
     "name": "stdout",
     "output_type": "stream",
     "text": [
      "0:\ttest: 0.5027403\tbest: 0.5027403 (0)\ttotal: 47.6ms\tremaining: 47.6s\n",
      "100:\ttest: 0.6842636\tbest: 0.6843563 (99)\ttotal: 5.16s\tremaining: 45.9s\n",
      "200:\ttest: 0.6902477\tbest: 0.6903593 (192)\ttotal: 10.3s\tremaining: 40.8s\n",
      "300:\ttest: 0.6934347\tbest: 0.6934498 (299)\ttotal: 15.4s\tremaining: 35.7s\n",
      "400:\ttest: 0.6950479\tbest: 0.6952188 (395)\ttotal: 20.5s\tremaining: 30.6s\n",
      "bestTest = 0.6955283284\n",
      "bestIteration = 418\n",
      "Shrink model to first 419 iterations.\n"
     ]
    },
    {
     "name": "stderr",
     "output_type": "stream",
     "text": [
      "Default metric period is 5 because AUC is/are not implemented for GPU\n"
     ]
    },
    {
     "name": "stdout",
     "output_type": "stream",
     "text": [
      "0:\ttest: 0.5027403\tbest: 0.5027403 (0)\ttotal: 46.4ms\tremaining: 46.3s\n",
      "100:\ttest: 0.6851996\tbest: 0.6855710 (79)\ttotal: 5.11s\tremaining: 45.5s\n",
      "200:\ttest: 0.6925502\tbest: 0.6925502 (200)\ttotal: 10.2s\tremaining: 40.6s\n",
      "300:\ttest: 0.6954394\tbest: 0.6956705 (231)\ttotal: 15.3s\tremaining: 35.6s\n",
      "bestTest = 0.6956704557\n",
      "bestIteration = 231\n",
      "Shrink model to first 232 iterations.\n"
     ]
    },
    {
     "name": "stderr",
     "output_type": "stream",
     "text": [
      "Default metric period is 5 because AUC is/are not implemented for GPU\n"
     ]
    },
    {
     "name": "stdout",
     "output_type": "stream",
     "text": [
      "0:\ttest: 0.5117245\tbest: 0.5117245 (0)\ttotal: 47.4ms\tremaining: 1m 11s\n",
      "100:\ttest: 0.6498716\tbest: 0.6498716 (100)\ttotal: 4.95s\tremaining: 1m 8s\n",
      "200:\ttest: 0.6754729\tbest: 0.6754729 (200)\ttotal: 9.93s\tremaining: 1m 4s\n",
      "300:\ttest: 0.6801374\tbest: 0.6801374 (300)\ttotal: 15s\tremaining: 59.8s\n",
      "400:\ttest: 0.6829907\tbest: 0.6829907 (400)\ttotal: 20.1s\tremaining: 55.2s\n",
      "500:\ttest: 0.6847117\tbest: 0.6847117 (500)\ttotal: 25.2s\tremaining: 50.3s\n",
      "600:\ttest: 0.6855740\tbest: 0.6856496 (597)\ttotal: 30.2s\tremaining: 45.2s\n",
      "700:\ttest: 0.6868837\tbest: 0.6870460 (690)\ttotal: 35.3s\tremaining: 40.3s\n",
      "800:\ttest: 0.6875893\tbest: 0.6876290 (769)\ttotal: 40.4s\tremaining: 35.2s\n",
      "900:\ttest: 0.6879950\tbest: 0.6884381 (864)\ttotal: 45.4s\tremaining: 30.2s\n",
      "bestTest = 0.6884380877\n",
      "bestIteration = 864\n",
      "Shrink model to first 865 iterations.\n"
     ]
    },
    {
     "name": "stderr",
     "output_type": "stream",
     "text": [
      "Default metric period is 5 because AUC is/are not implemented for GPU\n"
     ]
    },
    {
     "name": "stdout",
     "output_type": "stream",
     "text": [
      "0:\ttest: 0.5117245\tbest: 0.5117245 (0)\ttotal: 47.8ms\tremaining: 1m 11s\n",
      "100:\ttest: 0.6754571\tbest: 0.6754571 (100)\ttotal: 4.99s\tremaining: 1m 9s\n",
      "200:\ttest: 0.6837330\tbest: 0.6837330 (200)\ttotal: 9.99s\tremaining: 1m 4s\n",
      "bestTest = 0.6844013929\n",
      "bestIteration = 217\n",
      "Shrink model to first 218 iterations.\n"
     ]
    },
    {
     "name": "stderr",
     "output_type": "stream",
     "text": [
      "Default metric period is 5 because AUC is/are not implemented for GPU\n"
     ]
    },
    {
     "name": "stdout",
     "output_type": "stream",
     "text": [
      "0:\ttest: 0.5117245\tbest: 0.5117245 (0)\ttotal: 44.9ms\tremaining: 1m 7s\n",
      "100:\ttest: 0.6750754\tbest: 0.6750754 (100)\ttotal: 4.94s\tremaining: 1m 8s\n",
      "200:\ttest: 0.6832694\tbest: 0.6834505 (179)\ttotal: 9.93s\tremaining: 1m 4s\n",
      "300:\ttest: 0.6867908\tbest: 0.6867908 (300)\ttotal: 14.8s\tremaining: 59s\n",
      "400:\ttest: 0.6886493\tbest: 0.6886493 (400)\ttotal: 19.6s\tremaining: 53.7s\n",
      "bestTest = 0.6892160177\n",
      "bestIteration = 411\n",
      "Shrink model to first 412 iterations.\n"
     ]
    },
    {
     "name": "stderr",
     "output_type": "stream",
     "text": [
      "Default metric period is 5 because AUC is/are not implemented for GPU\n"
     ]
    },
    {
     "name": "stdout",
     "output_type": "stream",
     "text": [
      "0:\ttest: 0.5117245\tbest: 0.5117245 (0)\ttotal: 43.4ms\tremaining: 1m 5s\n",
      "100:\ttest: 0.6807232\tbest: 0.6807969 (98)\ttotal: 4.79s\tremaining: 1m 6s\n",
      "200:\ttest: 0.6823513\tbest: 0.6828195 (193)\ttotal: 9.51s\tremaining: 1m 1s\n",
      "300:\ttest: 0.6847905\tbest: 0.6853693 (228)\ttotal: 14.3s\tremaining: 56.8s\n",
      "bestTest = 0.6853692532\n",
      "bestIteration = 228\n",
      "Shrink model to first 229 iterations.\n"
     ]
    },
    {
     "name": "stderr",
     "output_type": "stream",
     "text": [
      "Default metric period is 5 because AUC is/are not implemented for GPU\n"
     ]
    },
    {
     "name": "stdout",
     "output_type": "stream",
     "text": [
      "0:\ttest: 0.5117245\tbest: 0.5117245 (0)\ttotal: 43.6ms\tremaining: 1m 5s\n",
      "100:\ttest: 0.6831632\tbest: 0.6852722 (76)\ttotal: 4.8s\tremaining: 1m 6s\n",
      "200:\ttest: 0.6871389\tbest: 0.6872098 (199)\ttotal: 9.75s\tremaining: 1m 3s\n",
      "300:\ttest: 0.6870654\tbest: 0.6886178 (279)\ttotal: 14.8s\tremaining: 58.9s\n",
      "bestTest = 0.6886177957\n",
      "bestIteration = 279\n",
      "Shrink model to first 280 iterations.\n"
     ]
    },
    {
     "name": "stderr",
     "output_type": "stream",
     "text": [
      "Default metric period is 5 because AUC is/are not implemented for GPU\n"
     ]
    },
    {
     "name": "stdout",
     "output_type": "stream",
     "text": [
      "0:\ttest: 0.5068348\tbest: 0.5068348 (0)\ttotal: 45.2ms\tremaining: 1m 7s\n",
      "100:\ttest: 0.6548016\tbest: 0.6548016 (100)\ttotal: 4.83s\tremaining: 1m 6s\n",
      "200:\ttest: 0.6757435\tbest: 0.6758208 (198)\ttotal: 9.71s\tremaining: 1m 2s\n",
      "300:\ttest: 0.6811872\tbest: 0.6812420 (297)\ttotal: 14.7s\tremaining: 58.4s\n",
      "400:\ttest: 0.6839160\tbest: 0.6839160 (400)\ttotal: 19.6s\tremaining: 53.7s\n",
      "500:\ttest: 0.6853327\tbest: 0.6854692 (479)\ttotal: 24.5s\tremaining: 48.9s\n",
      "600:\ttest: 0.6865264\tbest: 0.6866569 (597)\ttotal: 29.4s\tremaining: 44s\n",
      "700:\ttest: 0.6878717\tbest: 0.6878851 (698)\ttotal: 34.3s\tremaining: 39.1s\n",
      "800:\ttest: 0.6886088\tbest: 0.6888673 (756)\ttotal: 39.2s\tremaining: 34.2s\n",
      "900:\ttest: 0.6889633\tbest: 0.6890847 (867)\ttotal: 44.1s\tremaining: 29.3s\n",
      "1000:\ttest: 0.6896427\tbest: 0.6896427 (1000)\ttotal: 48.9s\tremaining: 24.4s\n",
      "1100:\ttest: 0.6900320\tbest: 0.6901345 (1089)\ttotal: 53.8s\tremaining: 19.5s\n",
      "1200:\ttest: 0.6907843\tbest: 0.6907843 (1200)\ttotal: 58.6s\tremaining: 14.6s\n",
      "1300:\ttest: 0.6909866\tbest: 0.6909866 (1300)\ttotal: 1m 3s\tremaining: 9.7s\n",
      "1400:\ttest: 0.6912907\tbest: 0.6914677 (1381)\ttotal: 1m 8s\tremaining: 4.83s\n",
      "1499:\ttest: 0.6917160\tbest: 0.6918668 (1464)\ttotal: 1m 13s\tremaining: 0us\n",
      "bestTest = 0.6918667853\n",
      "bestIteration = 1464\n",
      "Shrink model to first 1465 iterations.\n"
     ]
    },
    {
     "name": "stderr",
     "output_type": "stream",
     "text": [
      "Default metric period is 5 because AUC is/are not implemented for GPU\n"
     ]
    },
    {
     "name": "stdout",
     "output_type": "stream",
     "text": [
      "0:\ttest: 0.5068348\tbest: 0.5068348 (0)\ttotal: 45.2ms\tremaining: 1m 7s\n",
      "100:\ttest: 0.6729425\tbest: 0.6729425 (100)\ttotal: 4.81s\tremaining: 1m 6s\n",
      "200:\ttest: 0.6825264\tbest: 0.6826238 (198)\ttotal: 9.76s\tremaining: 1m 3s\n",
      "300:\ttest: 0.6853048\tbest: 0.6853048 (300)\ttotal: 14.7s\tremaining: 58.5s\n",
      "400:\ttest: 0.6871968\tbest: 0.6872659 (392)\ttotal: 19.6s\tremaining: 53.6s\n",
      "500:\ttest: 0.6885300\tbest: 0.6885300 (500)\ttotal: 24.5s\tremaining: 48.8s\n",
      "600:\ttest: 0.6901748\tbest: 0.6901950 (599)\ttotal: 29.4s\tremaining: 43.9s\n",
      "700:\ttest: 0.6908491\tbest: 0.6911035 (661)\ttotal: 34.2s\tremaining: 39s\n",
      "bestTest = 0.691103518\n",
      "bestIteration = 661\n",
      "Shrink model to first 662 iterations.\n"
     ]
    },
    {
     "name": "stderr",
     "output_type": "stream",
     "text": [
      "Default metric period is 5 because AUC is/are not implemented for GPU\n"
     ]
    },
    {
     "name": "stdout",
     "output_type": "stream",
     "text": [
      "0:\ttest: 0.5068348\tbest: 0.5068348 (0)\ttotal: 43.4ms\tremaining: 1m 5s\n",
      "100:\ttest: 0.6761972\tbest: 0.6769500 (94)\ttotal: 4.74s\tremaining: 1m 5s\n",
      "200:\ttest: 0.6846477\tbest: 0.6846745 (199)\ttotal: 9.55s\tremaining: 1m 1s\n",
      "300:\ttest: 0.6862410\tbest: 0.6862410 (300)\ttotal: 14.3s\tremaining: 57.1s\n",
      "400:\ttest: 0.6881160\tbest: 0.6882094 (393)\ttotal: 19.2s\tremaining: 52.5s\n",
      "500:\ttest: 0.6886008\tbest: 0.6886535 (461)\ttotal: 24s\tremaining: 47.9s\n",
      "600:\ttest: 0.6891581\tbest: 0.6892915 (584)\ttotal: 28.9s\tremaining: 43.2s\n",
      "bestTest = 0.689291507\n",
      "bestIteration = 584\n",
      "Shrink model to first 585 iterations.\n"
     ]
    },
    {
     "name": "stderr",
     "output_type": "stream",
     "text": [
      "Default metric period is 5 because AUC is/are not implemented for GPU\n"
     ]
    },
    {
     "name": "stdout",
     "output_type": "stream",
     "text": [
      "0:\ttest: 0.5068348\tbest: 0.5068348 (0)\ttotal: 43.9ms\tremaining: 1m 5s\n",
      "100:\ttest: 0.6818417\tbest: 0.6825048 (87)\ttotal: 4.82s\tremaining: 1m 6s\n",
      "200:\ttest: 0.6873289\tbest: 0.6873289 (200)\ttotal: 9.62s\tremaining: 1m 2s\n",
      "300:\ttest: 0.6887757\tbest: 0.6892880 (289)\ttotal: 14.4s\tremaining: 57.6s\n",
      "400:\ttest: 0.6909870\tbest: 0.6910361 (398)\ttotal: 19.3s\tremaining: 52.9s\n",
      "500:\ttest: 0.6910377\tbest: 0.6917664 (421)\ttotal: 24.2s\tremaining: 48.3s\n",
      "bestTest = 0.6917663515\n",
      "bestIteration = 421\n",
      "Shrink model to first 422 iterations.\n"
     ]
    },
    {
     "name": "stderr",
     "output_type": "stream",
     "text": [
      "Default metric period is 5 because AUC is/are not implemented for GPU\n"
     ]
    },
    {
     "name": "stdout",
     "output_type": "stream",
     "text": [
      "0:\ttest: 0.5068348\tbest: 0.5068348 (0)\ttotal: 44.9ms\tremaining: 1m 7s\n",
      "100:\ttest: 0.6881946\tbest: 0.6889480 (76)\ttotal: 4.92s\tremaining: 1m 8s\n",
      "200:\ttest: 0.6918959\tbest: 0.6919303 (193)\ttotal: 9.77s\tremaining: 1m 3s\n",
      "300:\ttest: 0.6914870\tbest: 0.6934918 (231)\ttotal: 14.7s\tremaining: 58.6s\n",
      "bestTest = 0.6934918463\n",
      "bestIteration = 231\n",
      "Shrink model to first 232 iterations.\n"
     ]
    },
    {
     "name": "stderr",
     "output_type": "stream",
     "text": [
      "Default metric period is 5 because AUC is/are not implemented for GPU\n"
     ]
    },
    {
     "name": "stdout",
     "output_type": "stream",
     "text": [
      "0:\ttest: 0.5044655\tbest: 0.5044655 (0)\ttotal: 44.7ms\tremaining: 1m 7s\n",
      "100:\ttest: 0.6537195\tbest: 0.6537195 (100)\ttotal: 4.72s\tremaining: 1m 5s\n",
      "200:\ttest: 0.6768943\tbest: 0.6770523 (198)\ttotal: 9.52s\tremaining: 1m 1s\n",
      "300:\ttest: 0.6817210\tbest: 0.6817302 (299)\ttotal: 14.3s\tremaining: 57.1s\n",
      "400:\ttest: 0.6841635\tbest: 0.6841635 (400)\ttotal: 19.1s\tremaining: 52.4s\n",
      "500:\ttest: 0.6855238\tbest: 0.6856795 (477)\ttotal: 23.9s\tremaining: 47.7s\n",
      "600:\ttest: 0.6865470\tbest: 0.6865548 (596)\ttotal: 28.8s\tremaining: 43s\n",
      "700:\ttest: 0.6872776\tbest: 0.6872857 (698)\ttotal: 33.5s\tremaining: 38.2s\n",
      "800:\ttest: 0.6884899\tbest: 0.6884899 (800)\ttotal: 38.3s\tremaining: 33.4s\n",
      "900:\ttest: 0.6895427\tbest: 0.6896363 (866)\ttotal: 43.1s\tremaining: 28.6s\n",
      "1000:\ttest: 0.6898290\tbest: 0.6898942 (957)\ttotal: 47.9s\tremaining: 23.9s\n",
      "1100:\ttest: 0.6906608\tbest: 0.6906820 (1094)\ttotal: 52.7s\tremaining: 19.1s\n",
      "1200:\ttest: 0.6914410\tbest: 0.6914519 (1161)\ttotal: 57.5s\tremaining: 14.3s\n",
      "1300:\ttest: 0.6914629\tbest: 0.6915488 (1282)\ttotal: 1m 2s\tremaining: 9.54s\n",
      "1400:\ttest: 0.6918317\tbest: 0.6919078 (1384)\ttotal: 1m 7s\tremaining: 4.76s\n",
      "1499:\ttest: 0.6923118\tbest: 0.6923520 (1494)\ttotal: 1m 12s\tremaining: 0us\n",
      "bestTest = 0.6923519969\n",
      "bestIteration = 1494\n",
      "Shrink model to first 1495 iterations.\n"
     ]
    },
    {
     "name": "stderr",
     "output_type": "stream",
     "text": [
      "Default metric period is 5 because AUC is/are not implemented for GPU\n"
     ]
    },
    {
     "name": "stdout",
     "output_type": "stream",
     "text": [
      "0:\ttest: 0.5044655\tbest: 0.5044655 (0)\ttotal: 45.4ms\tremaining: 1m 8s\n",
      "100:\ttest: 0.6738562\tbest: 0.6738562 (100)\ttotal: 4.8s\tremaining: 1m 6s\n",
      "200:\ttest: 0.6838530\tbest: 0.6838723 (189)\ttotal: 9.7s\tremaining: 1m 2s\n",
      "300:\ttest: 0.6855460\tbest: 0.6855510 (298)\ttotal: 14.6s\tremaining: 58.1s\n",
      "400:\ttest: 0.6884661\tbest: 0.6885144 (396)\ttotal: 19.4s\tremaining: 53.1s\n",
      "500:\ttest: 0.6892562\tbest: 0.6896138 (474)\ttotal: 24.2s\tremaining: 48.2s\n",
      "600:\ttest: 0.6904901\tbest: 0.6905016 (597)\ttotal: 29s\tremaining: 43.4s\n",
      "700:\ttest: 0.6910653\tbest: 0.6911035 (644)\ttotal: 33.9s\tremaining: 38.6s\n",
      "800:\ttest: 0.6916908\tbest: 0.6918742 (790)\ttotal: 38.8s\tremaining: 33.8s\n",
      "900:\ttest: 0.6921980\tbest: 0.6922902 (858)\ttotal: 43.7s\tremaining: 29s\n",
      "1000:\ttest: 0.6927442\tbest: 0.6928336 (994)\ttotal: 48.6s\tremaining: 24.2s\n",
      "bestTest = 0.692933321\n",
      "bestIteration = 1007\n",
      "Shrink model to first 1008 iterations.\n"
     ]
    },
    {
     "name": "stderr",
     "output_type": "stream",
     "text": [
      "Default metric period is 5 because AUC is/are not implemented for GPU\n"
     ]
    },
    {
     "name": "stdout",
     "output_type": "stream",
     "text": [
      "0:\ttest: 0.5044655\tbest: 0.5044655 (0)\ttotal: 44.9ms\tremaining: 1m 7s\n",
      "100:\ttest: 0.6770470\tbest: 0.6774000 (99)\ttotal: 4.89s\tremaining: 1m 7s\n",
      "200:\ttest: 0.6844902\tbest: 0.6847052 (192)\ttotal: 9.82s\tremaining: 1m 3s\n",
      "300:\ttest: 0.6883302\tbest: 0.6883302 (300)\ttotal: 14.8s\tremaining: 59s\n",
      "400:\ttest: 0.6898466\tbest: 0.6901906 (369)\ttotal: 19.7s\tremaining: 54.1s\n",
      "bestTest = 0.6901906133\n",
      "bestIteration = 369\n",
      "Shrink model to first 370 iterations.\n"
     ]
    },
    {
     "name": "stderr",
     "output_type": "stream",
     "text": [
      "Default metric period is 5 because AUC is/are not implemented for GPU\n"
     ]
    },
    {
     "name": "stdout",
     "output_type": "stream",
     "text": [
      "0:\ttest: 0.5044655\tbest: 0.5044655 (0)\ttotal: 45.1ms\tremaining: 1m 7s\n",
      "100:\ttest: 0.6829871\tbest: 0.6830665 (99)\ttotal: 4.86s\tremaining: 1m 7s\n",
      "200:\ttest: 0.6902417\tbest: 0.6902417 (200)\ttotal: 9.85s\tremaining: 1m 3s\n",
      "300:\ttest: 0.6920649\tbest: 0.6923102 (289)\ttotal: 14.8s\tremaining: 59s\n",
      "400:\ttest: 0.6953325\tbest: 0.6953386 (395)\ttotal: 19.8s\tremaining: 54.3s\n",
      "500:\ttest: 0.6950725\tbest: 0.6954976 (485)\ttotal: 24.6s\tremaining: 49.1s\n",
      "bestTest = 0.6954975724\n",
      "bestIteration = 485\n",
      "Shrink model to first 486 iterations.\n"
     ]
    },
    {
     "name": "stderr",
     "output_type": "stream",
     "text": [
      "Default metric period is 5 because AUC is/are not implemented for GPU\n"
     ]
    },
    {
     "name": "stdout",
     "output_type": "stream",
     "text": [
      "0:\ttest: 0.5044655\tbest: 0.5044655 (0)\ttotal: 43ms\tremaining: 1m 4s\n",
      "100:\ttest: 0.6835829\tbest: 0.6839426 (89)\ttotal: 4.72s\tremaining: 1m 5s\n",
      "200:\ttest: 0.6916234\tbest: 0.6917904 (192)\ttotal: 9.48s\tremaining: 1m 1s\n",
      "300:\ttest: 0.6913140\tbest: 0.6925913 (268)\ttotal: 14.3s\tremaining: 57s\n",
      "bestTest = 0.6925912797\n",
      "bestIteration = 268\n",
      "Shrink model to first 269 iterations.\n"
     ]
    },
    {
     "name": "stderr",
     "output_type": "stream",
     "text": [
      "Default metric period is 5 because AUC is/are not implemented for GPU\n"
     ]
    },
    {
     "name": "stdout",
     "output_type": "stream",
     "text": [
      "0:\ttest: 0.4977958\tbest: 0.4977958 (0)\ttotal: 43ms\tremaining: 1m 4s\n",
      "100:\ttest: 0.6601475\tbest: 0.6601475 (100)\ttotal: 4.57s\tremaining: 1m 3s\n",
      "200:\ttest: 0.6776195\tbest: 0.6779228 (196)\ttotal: 9.27s\tremaining: 59.9s\n",
      "300:\ttest: 0.6822013\tbest: 0.6822162 (299)\ttotal: 14.1s\tremaining: 56.1s\n",
      "400:\ttest: 0.6854112\tbest: 0.6854112 (400)\ttotal: 18.8s\tremaining: 51.6s\n",
      "500:\ttest: 0.6865101\tbest: 0.6865101 (500)\ttotal: 23.6s\tremaining: 47.1s\n",
      "600:\ttest: 0.6873234\tbest: 0.6873234 (600)\ttotal: 28.5s\tremaining: 42.6s\n",
      "700:\ttest: 0.6879605\tbest: 0.6880151 (674)\ttotal: 33.4s\tremaining: 38s\n",
      "800:\ttest: 0.6887324\tbest: 0.6887324 (800)\ttotal: 38.1s\tremaining: 33.3s\n",
      "900:\ttest: 0.6896113\tbest: 0.6896858 (866)\ttotal: 42.9s\tremaining: 28.5s\n",
      "1000:\ttest: 0.6899620\tbest: 0.6899641 (958)\ttotal: 47.6s\tremaining: 23.7s\n",
      "1100:\ttest: 0.6905924\tbest: 0.6906678 (1088)\ttotal: 52.4s\tremaining: 19s\n",
      "1200:\ttest: 0.6914276\tbest: 0.6914276 (1200)\ttotal: 57.2s\tremaining: 14.2s\n",
      "1300:\ttest: 0.6914760\tbest: 0.6915283 (1288)\ttotal: 1m 1s\tremaining: 9.47s\n",
      "1400:\ttest: 0.6918572\tbest: 0.6921092 (1381)\ttotal: 1m 6s\tremaining: 4.71s\n",
      "1499:\ttest: 0.6924957\tbest: 0.6925213 (1496)\ttotal: 1m 11s\tremaining: 0us\n",
      "bestTest = 0.6925213039\n",
      "bestIteration = 1496\n",
      "Shrink model to first 1497 iterations.\n"
     ]
    },
    {
     "name": "stderr",
     "output_type": "stream",
     "text": [
      "Default metric period is 5 because AUC is/are not implemented for GPU\n"
     ]
    },
    {
     "name": "stdout",
     "output_type": "stream",
     "text": [
      "0:\ttest: 0.4977958\tbest: 0.4977958 (0)\ttotal: 44.5ms\tremaining: 1m 6s\n",
      "100:\ttest: 0.6742733\tbest: 0.6742733 (100)\ttotal: 4.74s\tremaining: 1m 5s\n",
      "200:\ttest: 0.6835771\tbest: 0.6836835 (178)\ttotal: 9.57s\tremaining: 1m 1s\n",
      "300:\ttest: 0.6864857\tbest: 0.6865813 (299)\ttotal: 14.4s\tremaining: 57.2s\n",
      "400:\ttest: 0.6889860\tbest: 0.6889860 (400)\ttotal: 19.1s\tremaining: 52.5s\n",
      "500:\ttest: 0.6897225\tbest: 0.6897337 (499)\ttotal: 23.9s\tremaining: 47.7s\n",
      "600:\ttest: 0.6901687\tbest: 0.6902710 (594)\ttotal: 28.7s\tremaining: 42.9s\n",
      "700:\ttest: 0.6907900\tbest: 0.6908377 (696)\ttotal: 33.5s\tremaining: 38.2s\n",
      "800:\ttest: 0.6918481\tbest: 0.6918481 (800)\ttotal: 38.3s\tremaining: 33.4s\n",
      "900:\ttest: 0.6920229\tbest: 0.6920863 (839)\ttotal: 43.1s\tremaining: 28.7s\n",
      "1000:\ttest: 0.6929059\tbest: 0.6929350 (997)\ttotal: 48s\tremaining: 23.9s\n",
      "1100:\ttest: 0.6929476\tbest: 0.6929967 (1084)\ttotal: 52.9s\tremaining: 19.2s\n",
      "bestTest = 0.6929966807\n",
      "bestIteration = 1084\n",
      "Shrink model to first 1085 iterations.\n"
     ]
    },
    {
     "name": "stderr",
     "output_type": "stream",
     "text": [
      "Default metric period is 5 because AUC is/are not implemented for GPU\n"
     ]
    },
    {
     "name": "stdout",
     "output_type": "stream",
     "text": [
      "0:\ttest: 0.4977958\tbest: 0.4977958 (0)\ttotal: 44.2ms\tremaining: 1m 6s\n",
      "100:\ttest: 0.6796149\tbest: 0.6800586 (94)\ttotal: 4.81s\tremaining: 1m 6s\n",
      "200:\ttest: 0.6863960\tbest: 0.6867684 (192)\ttotal: 9.71s\tremaining: 1m 2s\n",
      "300:\ttest: 0.6892737\tbest: 0.6893630 (270)\ttotal: 14.5s\tremaining: 57.9s\n",
      "400:\ttest: 0.6914486\tbest: 0.6914648 (399)\ttotal: 19.3s\tremaining: 53s\n",
      "500:\ttest: 0.6917613\tbest: 0.6918720 (487)\ttotal: 24.1s\tremaining: 48.1s\n",
      "600:\ttest: 0.6924172\tbest: 0.6928918 (582)\ttotal: 28.9s\tremaining: 43.2s\n",
      "bestTest = 0.6928918064\n",
      "bestIteration = 582\n",
      "Shrink model to first 583 iterations.\n"
     ]
    },
    {
     "name": "stderr",
     "output_type": "stream",
     "text": [
      "Default metric period is 5 because AUC is/are not implemented for GPU\n"
     ]
    },
    {
     "name": "stdout",
     "output_type": "stream",
     "text": [
      "0:\ttest: 0.4977958\tbest: 0.4977958 (0)\ttotal: 43.1ms\tremaining: 1m 4s\n",
      "100:\ttest: 0.6823418\tbest: 0.6824143 (99)\ttotal: 4.76s\tremaining: 1m 5s\n",
      "200:\ttest: 0.6891692\tbest: 0.6891692 (200)\ttotal: 9.52s\tremaining: 1m 1s\n",
      "300:\ttest: 0.6918671\tbest: 0.6921524 (294)\ttotal: 14.4s\tremaining: 57.4s\n",
      "400:\ttest: 0.6927514\tbest: 0.6932640 (392)\ttotal: 19.2s\tremaining: 52.6s\n",
      "bestTest = 0.6932640076\n",
      "bestIteration = 392\n",
      "Shrink model to first 393 iterations.\n"
     ]
    },
    {
     "name": "stderr",
     "output_type": "stream",
     "text": [
      "Default metric period is 5 because AUC is/are not implemented for GPU\n"
     ]
    },
    {
     "name": "stdout",
     "output_type": "stream",
     "text": [
      "0:\ttest: 0.4977958\tbest: 0.4977958 (0)\ttotal: 43.3ms\tremaining: 1m 4s\n",
      "100:\ttest: 0.6814616\tbest: 0.6814857 (79)\ttotal: 4.78s\tremaining: 1m 6s\n",
      "200:\ttest: 0.6884116\tbest: 0.6884335 (197)\ttotal: 9.64s\tremaining: 1m 2s\n",
      "300:\ttest: 0.6930669\tbest: 0.6933456 (291)\ttotal: 14.5s\tremaining: 57.9s\n",
      "400:\ttest: 0.6931772\tbest: 0.6933934 (324)\ttotal: 19.3s\tremaining: 52.8s\n",
      "bestTest = 0.6936520934\n",
      "bestIteration = 418\n",
      "Shrink model to first 419 iterations.\n"
     ]
    },
    {
     "name": "stderr",
     "output_type": "stream",
     "text": [
      "Default metric period is 5 because AUC is/are not implemented for GPU\n"
     ]
    },
    {
     "name": "stdout",
     "output_type": "stream",
     "text": [
      "0:\ttest: 0.5027403\tbest: 0.5027403 (0)\ttotal: 45.3ms\tremaining: 1m 7s\n",
      "100:\ttest: 0.6543968\tbest: 0.6543968 (100)\ttotal: 4.59s\tremaining: 1m 3s\n",
      "200:\ttest: 0.6778102\tbest: 0.6780578 (198)\ttotal: 9.32s\tremaining: 1m\n",
      "300:\ttest: 0.6831101\tbest: 0.6831146 (299)\ttotal: 14.1s\tremaining: 56.2s\n",
      "400:\ttest: 0.6864278\tbest: 0.6864278 (400)\ttotal: 19s\tremaining: 52s\n",
      "500:\ttest: 0.6880314\tbest: 0.6880314 (500)\ttotal: 23.7s\tremaining: 47.4s\n",
      "600:\ttest: 0.6886780\tbest: 0.6887165 (576)\ttotal: 28.5s\tremaining: 42.6s\n",
      "700:\ttest: 0.6890166\tbest: 0.6891909 (674)\ttotal: 33.4s\tremaining: 38.1s\n",
      "800:\ttest: 0.6894612\tbest: 0.6894612 (800)\ttotal: 38.2s\tremaining: 33.4s\n",
      "900:\ttest: 0.6903660\tbest: 0.6903660 (900)\ttotal: 43s\tremaining: 28.6s\n",
      "1000:\ttest: 0.6905753\tbest: 0.6906453 (946)\ttotal: 47.8s\tremaining: 23.8s\n",
      "1100:\ttest: 0.6909518\tbest: 0.6910103 (1091)\ttotal: 52.6s\tremaining: 19s\n",
      "1200:\ttest: 0.6916333\tbest: 0.6916333 (1200)\ttotal: 57.4s\tremaining: 14.3s\n",
      "1300:\ttest: 0.6919722\tbest: 0.6919722 (1300)\ttotal: 1m 2s\tremaining: 9.52s\n",
      "1400:\ttest: 0.6922851\tbest: 0.6924304 (1381)\ttotal: 1m 7s\tremaining: 4.73s\n",
      "1499:\ttest: 0.6927810\tbest: 0.6928430 (1496)\ttotal: 1m 11s\tremaining: 0us\n",
      "bestTest = 0.6928429902\n",
      "bestIteration = 1496\n",
      "Shrink model to first 1497 iterations.\n"
     ]
    },
    {
     "name": "stderr",
     "output_type": "stream",
     "text": [
      "Default metric period is 5 because AUC is/are not implemented for GPU\n"
     ]
    },
    {
     "name": "stdout",
     "output_type": "stream",
     "text": [
      "0:\ttest: 0.5027403\tbest: 0.5027403 (0)\ttotal: 42.9ms\tremaining: 1m 4s\n",
      "100:\ttest: 0.6745389\tbest: 0.6745389 (100)\ttotal: 4.66s\tremaining: 1m 4s\n",
      "200:\ttest: 0.6836910\tbest: 0.6836970 (196)\ttotal: 9.51s\tremaining: 1m 1s\n",
      "300:\ttest: 0.6871660\tbest: 0.6872938 (298)\ttotal: 14.3s\tremaining: 57.1s\n",
      "400:\ttest: 0.6893232\tbest: 0.6894502 (393)\ttotal: 19.1s\tremaining: 52.5s\n",
      "500:\ttest: 0.6889742\tbest: 0.6895607 (427)\ttotal: 24s\tremaining: 47.9s\n",
      "bestTest = 0.6895607114\n",
      "bestIteration = 427\n",
      "Shrink model to first 428 iterations.\n"
     ]
    },
    {
     "name": "stderr",
     "output_type": "stream",
     "text": [
      "Default metric period is 5 because AUC is/are not implemented for GPU\n"
     ]
    },
    {
     "name": "stdout",
     "output_type": "stream",
     "text": [
      "0:\ttest: 0.5027403\tbest: 0.5027403 (0)\ttotal: 45.6ms\tremaining: 1m 8s\n",
      "100:\ttest: 0.6755042\tbest: 0.6764164 (89)\ttotal: 4.88s\tremaining: 1m 7s\n",
      "200:\ttest: 0.6843513\tbest: 0.6844176 (198)\ttotal: 9.78s\tremaining: 1m 3s\n",
      "300:\ttest: 0.6879413\tbest: 0.6879989 (294)\ttotal: 14.6s\tremaining: 58.2s\n",
      "400:\ttest: 0.6907423\tbest: 0.6910474 (374)\ttotal: 19.4s\tremaining: 53.2s\n",
      "500:\ttest: 0.6919357\tbest: 0.6925011 (477)\ttotal: 24.3s\tremaining: 48.4s\n",
      "600:\ttest: 0.6929837\tbest: 0.6933401 (583)\ttotal: 29.1s\tremaining: 43.6s\n",
      "bestTest = 0.6933400631\n",
      "bestIteration = 583\n",
      "Shrink model to first 584 iterations.\n"
     ]
    },
    {
     "name": "stderr",
     "output_type": "stream",
     "text": [
      "Default metric period is 5 because AUC is/are not implemented for GPU\n"
     ]
    },
    {
     "name": "stdout",
     "output_type": "stream",
     "text": [
      "0:\ttest: 0.5027403\tbest: 0.5027403 (0)\ttotal: 42.9ms\tremaining: 1m 4s\n",
      "100:\ttest: 0.6842636\tbest: 0.6843563 (99)\ttotal: 4.77s\tremaining: 1m 6s\n",
      "200:\ttest: 0.6902447\tbest: 0.6903487 (192)\ttotal: 9.59s\tremaining: 1m 1s\n",
      "300:\ttest: 0.6934392\tbest: 0.6934541 (299)\ttotal: 14.4s\tremaining: 57.5s\n",
      "400:\ttest: 0.6950554\tbest: 0.6952258 (395)\ttotal: 19.3s\tremaining: 52.8s\n",
      "bestTest = 0.6955361366\n",
      "bestIteration = 418\n",
      "Shrink model to first 419 iterations.\n"
     ]
    },
    {
     "name": "stderr",
     "output_type": "stream",
     "text": [
      "Default metric period is 5 because AUC is/are not implemented for GPU\n"
     ]
    },
    {
     "name": "stdout",
     "output_type": "stream",
     "text": [
      "0:\ttest: 0.5027403\tbest: 0.5027403 (0)\ttotal: 54.6ms\tremaining: 1m 21s\n",
      "100:\ttest: 0.6851996\tbest: 0.6855710 (79)\ttotal: 4.86s\tremaining: 1m 7s\n",
      "200:\ttest: 0.6925502\tbest: 0.6925502 (200)\ttotal: 9.67s\tremaining: 1m 2s\n",
      "300:\ttest: 0.6954371\tbest: 0.6956678 (231)\ttotal: 14.5s\tremaining: 57.7s\n",
      "bestTest = 0.6956677735\n",
      "bestIteration = 231\n",
      "Shrink model to first 232 iterations.\n"
     ]
    },
    {
     "name": "stderr",
     "output_type": "stream",
     "text": [
      "Default metric period is 5 because AUC is/are not implemented for GPU\n"
     ]
    },
    {
     "name": "stdout",
     "output_type": "stream",
     "text": [
      "0:\ttest: 0.5117245\tbest: 0.5117245 (0)\ttotal: 43.7ms\tremaining: 1m 27s\n",
      "100:\ttest: 0.6498716\tbest: 0.6498716 (100)\ttotal: 4.61s\tremaining: 1m 26s\n",
      "200:\ttest: 0.6754729\tbest: 0.6754729 (200)\ttotal: 9.31s\tremaining: 1m 23s\n",
      "300:\ttest: 0.6801436\tbest: 0.6801436 (300)\ttotal: 14.2s\tremaining: 1m 19s\n",
      "400:\ttest: 0.6829979\tbest: 0.6829979 (400)\ttotal: 18.9s\tremaining: 1m 15s\n",
      "500:\ttest: 0.6847181\tbest: 0.6847181 (500)\ttotal: 23.7s\tremaining: 1m 10s\n",
      "600:\ttest: 0.6855829\tbest: 0.6856582 (597)\ttotal: 28.4s\tremaining: 1m 6s\n",
      "700:\ttest: 0.6868916\tbest: 0.6870543 (690)\ttotal: 33.2s\tremaining: 1m 1s\n",
      "800:\ttest: 0.6875962\tbest: 0.6876344 (769)\ttotal: 38s\tremaining: 56.8s\n",
      "900:\ttest: 0.6879899\tbest: 0.6884326 (864)\ttotal: 42.7s\tremaining: 52.1s\n",
      "bestTest = 0.6884326339\n",
      "bestIteration = 864\n",
      "Shrink model to first 865 iterations.\n"
     ]
    },
    {
     "name": "stderr",
     "output_type": "stream",
     "text": [
      "Default metric period is 5 because AUC is/are not implemented for GPU\n"
     ]
    },
    {
     "name": "stdout",
     "output_type": "stream",
     "text": [
      "0:\ttest: 0.5117245\tbest: 0.5117245 (0)\ttotal: 43.2ms\tremaining: 1m 26s\n",
      "100:\ttest: 0.6754571\tbest: 0.6754571 (100)\ttotal: 4.67s\tremaining: 1m 27s\n",
      "200:\ttest: 0.6837330\tbest: 0.6837330 (200)\ttotal: 9.44s\tremaining: 1m 24s\n",
      "bestTest = 0.6844013929\n",
      "bestIteration = 217\n",
      "Shrink model to first 218 iterations.\n"
     ]
    },
    {
     "name": "stderr",
     "output_type": "stream",
     "text": [
      "Default metric period is 5 because AUC is/are not implemented for GPU\n"
     ]
    },
    {
     "name": "stdout",
     "output_type": "stream",
     "text": [
      "0:\ttest: 0.5117245\tbest: 0.5117245 (0)\ttotal: 44.2ms\tremaining: 1m 28s\n",
      "100:\ttest: 0.6750754\tbest: 0.6750754 (100)\ttotal: 4.76s\tremaining: 1m 29s\n",
      "200:\ttest: 0.6832694\tbest: 0.6834505 (179)\ttotal: 9.7s\tremaining: 1m 26s\n",
      "300:\ttest: 0.6867908\tbest: 0.6867908 (300)\ttotal: 14.6s\tremaining: 1m 22s\n",
      "400:\ttest: 0.6886493\tbest: 0.6886493 (400)\ttotal: 19.4s\tremaining: 1m 17s\n",
      "bestTest = 0.6892160177\n",
      "bestIteration = 411\n",
      "Shrink model to first 412 iterations.\n"
     ]
    },
    {
     "name": "stderr",
     "output_type": "stream",
     "text": [
      "Default metric period is 5 because AUC is/are not implemented for GPU\n"
     ]
    },
    {
     "name": "stdout",
     "output_type": "stream",
     "text": [
      "0:\ttest: 0.5117245\tbest: 0.5117245 (0)\ttotal: 44.2ms\tremaining: 1m 28s\n",
      "100:\ttest: 0.6807232\tbest: 0.6807969 (98)\ttotal: 4.98s\tremaining: 1m 33s\n",
      "200:\ttest: 0.6823513\tbest: 0.6828195 (193)\ttotal: 9.84s\tremaining: 1m 28s\n",
      "300:\ttest: 0.6847905\tbest: 0.6853693 (228)\ttotal: 14.7s\tremaining: 1m 23s\n",
      "bestTest = 0.6853692532\n",
      "bestIteration = 228\n",
      "Shrink model to first 229 iterations.\n"
     ]
    },
    {
     "name": "stderr",
     "output_type": "stream",
     "text": [
      "Default metric period is 5 because AUC is/are not implemented for GPU\n"
     ]
    },
    {
     "name": "stdout",
     "output_type": "stream",
     "text": [
      "0:\ttest: 0.5117245\tbest: 0.5117245 (0)\ttotal: 44.8ms\tremaining: 1m 29s\n",
      "100:\ttest: 0.6831632\tbest: 0.6852722 (76)\ttotal: 4.88s\tremaining: 1m 31s\n",
      "200:\ttest: 0.6871389\tbest: 0.6872098 (199)\ttotal: 9.78s\tremaining: 1m 27s\n",
      "300:\ttest: 0.6870654\tbest: 0.6886178 (279)\ttotal: 14.7s\tremaining: 1m 23s\n",
      "bestTest = 0.6886177957\n",
      "bestIteration = 279\n",
      "Shrink model to first 280 iterations.\n"
     ]
    },
    {
     "name": "stderr",
     "output_type": "stream",
     "text": [
      "Default metric period is 5 because AUC is/are not implemented for GPU\n"
     ]
    },
    {
     "name": "stdout",
     "output_type": "stream",
     "text": [
      "0:\ttest: 0.5068348\tbest: 0.5068348 (0)\ttotal: 47ms\tremaining: 1m 33s\n",
      "100:\ttest: 0.6548016\tbest: 0.6548016 (100)\ttotal: 4.76s\tremaining: 1m 29s\n",
      "200:\ttest: 0.6757435\tbest: 0.6758208 (198)\ttotal: 9.63s\tremaining: 1m 26s\n",
      "300:\ttest: 0.6811872\tbest: 0.6812420 (297)\ttotal: 14.6s\tremaining: 1m 22s\n",
      "400:\ttest: 0.6839160\tbest: 0.6839160 (400)\ttotal: 19.6s\tremaining: 1m 18s\n",
      "500:\ttest: 0.6853311\tbest: 0.6854692 (479)\ttotal: 24.5s\tremaining: 1m 13s\n",
      "600:\ttest: 0.6865200\tbest: 0.6866500 (597)\ttotal: 29.4s\tremaining: 1m 8s\n",
      "700:\ttest: 0.6878659\tbest: 0.6878795 (698)\ttotal: 34.2s\tremaining: 1m 3s\n",
      "800:\ttest: 0.6886033\tbest: 0.6888611 (756)\ttotal: 39.1s\tremaining: 58.5s\n",
      "900:\ttest: 0.6889591\tbest: 0.6890818 (867)\ttotal: 44s\tremaining: 53.7s\n",
      "1000:\ttest: 0.6896380\tbest: 0.6896380 (1000)\ttotal: 48.9s\tremaining: 48.8s\n",
      "1100:\ttest: 0.6900325\tbest: 0.6901306 (1089)\ttotal: 53.8s\tremaining: 43.9s\n",
      "1200:\ttest: 0.6907847\tbest: 0.6907847 (1200)\ttotal: 58.7s\tremaining: 39s\n",
      "1300:\ttest: 0.6909879\tbest: 0.6909879 (1300)\ttotal: 1m 3s\tremaining: 34.1s\n",
      "1400:\ttest: 0.6912917\tbest: 0.6914699 (1381)\ttotal: 1m 8s\tremaining: 29.3s\n",
      "1500:\ttest: 0.6917031\tbest: 0.6918678 (1464)\ttotal: 1m 13s\tremaining: 24.4s\n",
      "bestTest = 0.6918678284\n",
      "bestIteration = 1464\n",
      "Shrink model to first 1465 iterations.\n"
     ]
    },
    {
     "name": "stderr",
     "output_type": "stream",
     "text": [
      "Default metric period is 5 because AUC is/are not implemented for GPU\n"
     ]
    },
    {
     "name": "stdout",
     "output_type": "stream",
     "text": [
      "0:\ttest: 0.5068348\tbest: 0.5068348 (0)\ttotal: 45.4ms\tremaining: 1m 30s\n",
      "100:\ttest: 0.6729425\tbest: 0.6729425 (100)\ttotal: 4.69s\tremaining: 1m 28s\n",
      "200:\ttest: 0.6825264\tbest: 0.6826238 (198)\ttotal: 9.49s\tremaining: 1m 24s\n",
      "300:\ttest: 0.6852944\tbest: 0.6852944 (300)\ttotal: 14.3s\tremaining: 1m 20s\n",
      "400:\ttest: 0.6871959\tbest: 0.6872577 (392)\ttotal: 19.1s\tremaining: 1m 16s\n",
      "500:\ttest: 0.6885300\tbest: 0.6885300 (500)\ttotal: 23.9s\tremaining: 1m 11s\n",
      "600:\ttest: 0.6901680\tbest: 0.6901886 (599)\ttotal: 28.7s\tremaining: 1m 6s\n",
      "700:\ttest: 0.6908435\tbest: 0.6910951 (661)\ttotal: 33.5s\tremaining: 1m 2s\n",
      "bestTest = 0.6910950541\n",
      "bestIteration = 661\n",
      "Shrink model to first 662 iterations.\n"
     ]
    },
    {
     "name": "stderr",
     "output_type": "stream",
     "text": [
      "Default metric period is 5 because AUC is/are not implemented for GPU\n"
     ]
    },
    {
     "name": "stdout",
     "output_type": "stream",
     "text": [
      "0:\ttest: 0.5068348\tbest: 0.5068348 (0)\ttotal: 44.4ms\tremaining: 1m 28s\n",
      "100:\ttest: 0.6761972\tbest: 0.6769500 (94)\ttotal: 4.75s\tremaining: 1m 29s\n",
      "200:\ttest: 0.6846288\tbest: 0.6846551 (199)\ttotal: 9.58s\tremaining: 1m 25s\n",
      "300:\ttest: 0.6862287\tbest: 0.6862287 (300)\ttotal: 14.3s\tremaining: 1m 20s\n",
      "400:\ttest: 0.6881045\tbest: 0.6881981 (393)\ttotal: 19.1s\tremaining: 1m 16s\n",
      "500:\ttest: 0.6885917\tbest: 0.6886436 (461)\ttotal: 24s\tremaining: 1m 11s\n",
      "600:\ttest: 0.6891497\tbest: 0.6892832 (584)\ttotal: 28.8s\tremaining: 1m 7s\n",
      "bestTest = 0.689283222\n",
      "bestIteration = 584\n",
      "Shrink model to first 585 iterations.\n"
     ]
    },
    {
     "name": "stderr",
     "output_type": "stream",
     "text": [
      "Default metric period is 5 because AUC is/are not implemented for GPU\n"
     ]
    },
    {
     "name": "stdout",
     "output_type": "stream",
     "text": [
      "0:\ttest: 0.5068348\tbest: 0.5068348 (0)\ttotal: 43.1ms\tremaining: 1m 26s\n",
      "100:\ttest: 0.6818417\tbest: 0.6825048 (87)\ttotal: 4.79s\tremaining: 1m 30s\n",
      "200:\ttest: 0.6873289\tbest: 0.6873289 (200)\ttotal: 9.57s\tremaining: 1m 25s\n",
      "300:\ttest: 0.6887765\tbest: 0.6892891 (289)\ttotal: 14.3s\tremaining: 1m 20s\n",
      "400:\ttest: 0.6909877\tbest: 0.6910375 (398)\ttotal: 19.1s\tremaining: 1m 16s\n",
      "500:\ttest: 0.6910569\tbest: 0.6917871 (421)\ttotal: 23.9s\tremaining: 1m 11s\n",
      "bestTest = 0.6917870641\n",
      "bestIteration = 421\n",
      "Shrink model to first 422 iterations.\n"
     ]
    },
    {
     "name": "stderr",
     "output_type": "stream",
     "text": [
      "Default metric period is 5 because AUC is/are not implemented for GPU\n"
     ]
    },
    {
     "name": "stdout",
     "output_type": "stream",
     "text": [
      "0:\ttest: 0.5068348\tbest: 0.5068348 (0)\ttotal: 43.5ms\tremaining: 1m 26s\n",
      "100:\ttest: 0.6881946\tbest: 0.6889480 (76)\ttotal: 4.75s\tremaining: 1m 29s\n",
      "200:\ttest: 0.6918959\tbest: 0.6919303 (193)\ttotal: 9.54s\tremaining: 1m 25s\n",
      "300:\ttest: 0.6914937\tbest: 0.6934918 (231)\ttotal: 14.3s\tremaining: 1m 20s\n",
      "bestTest = 0.6934918463\n",
      "bestIteration = 231\n",
      "Shrink model to first 232 iterations.\n"
     ]
    },
    {
     "name": "stderr",
     "output_type": "stream",
     "text": [
      "Default metric period is 5 because AUC is/are not implemented for GPU\n"
     ]
    },
    {
     "name": "stdout",
     "output_type": "stream",
     "text": [
      "0:\ttest: 0.5044655\tbest: 0.5044655 (0)\ttotal: 43.1ms\tremaining: 1m 26s\n",
      "100:\ttest: 0.6537195\tbest: 0.6537195 (100)\ttotal: 4.61s\tremaining: 1m 26s\n",
      "200:\ttest: 0.6768943\tbest: 0.6770523 (198)\ttotal: 9.36s\tremaining: 1m 23s\n",
      "300:\ttest: 0.6817210\tbest: 0.6817302 (299)\ttotal: 14.1s\tremaining: 1m 19s\n",
      "400:\ttest: 0.6841635\tbest: 0.6841635 (400)\ttotal: 18.8s\tremaining: 1m 15s\n",
      "500:\ttest: 0.6855238\tbest: 0.6856795 (477)\ttotal: 23.6s\tremaining: 1m 10s\n",
      "600:\ttest: 0.6865470\tbest: 0.6865548 (596)\ttotal: 28.3s\tremaining: 1m 5s\n",
      "700:\ttest: 0.6872744\tbest: 0.6872822 (698)\ttotal: 33s\tremaining: 1m 1s\n",
      "800:\ttest: 0.6884803\tbest: 0.6884803 (800)\ttotal: 37.7s\tremaining: 56.5s\n",
      "900:\ttest: 0.6895359\tbest: 0.6896290 (866)\ttotal: 42.5s\tremaining: 51.8s\n",
      "1000:\ttest: 0.6898207\tbest: 0.6898870 (957)\ttotal: 47.3s\tremaining: 47.2s\n",
      "1100:\ttest: 0.6906546\tbest: 0.6906761 (1094)\ttotal: 52s\tremaining: 42.4s\n",
      "1200:\ttest: 0.6914349\tbest: 0.6914448 (1161)\ttotal: 56.7s\tremaining: 37.7s\n",
      "1300:\ttest: 0.6914585\tbest: 0.6915438 (1282)\ttotal: 1m 1s\tremaining: 33s\n",
      "1400:\ttest: 0.6918276\tbest: 0.6919036 (1384)\ttotal: 1m 6s\tremaining: 28.4s\n",
      "1500:\ttest: 0.6923067\tbest: 0.6923477 (1494)\ttotal: 1m 11s\tremaining: 23.6s\n",
      "1600:\ttest: 0.6924106\tbest: 0.6925989 (1543)\ttotal: 1m 15s\tremaining: 18.9s\n",
      "1700:\ttest: 0.6924935\tbest: 0.6926645 (1639)\ttotal: 1m 20s\tremaining: 14.2s\n",
      "bestTest = 0.6926645041\n",
      "bestIteration = 1639\n",
      "Shrink model to first 1640 iterations.\n"
     ]
    },
    {
     "name": "stderr",
     "output_type": "stream",
     "text": [
      "Default metric period is 5 because AUC is/are not implemented for GPU\n"
     ]
    },
    {
     "name": "stdout",
     "output_type": "stream",
     "text": [
      "0:\ttest: 0.5044655\tbest: 0.5044655 (0)\ttotal: 43.1ms\tremaining: 1m 26s\n",
      "100:\ttest: 0.6738562\tbest: 0.6738562 (100)\ttotal: 4.63s\tremaining: 1m 27s\n",
      "200:\ttest: 0.6838530\tbest: 0.6838723 (189)\ttotal: 9.38s\tremaining: 1m 24s\n",
      "300:\ttest: 0.6855460\tbest: 0.6855510 (298)\ttotal: 14.2s\tremaining: 1m 19s\n",
      "400:\ttest: 0.6884809\tbest: 0.6885213 (396)\ttotal: 18.9s\tremaining: 1m 15s\n",
      "500:\ttest: 0.6892734\tbest: 0.6896274 (474)\ttotal: 23.7s\tremaining: 1m 10s\n",
      "600:\ttest: 0.6904972\tbest: 0.6905091 (597)\ttotal: 28.5s\tremaining: 1m 6s\n",
      "700:\ttest: 0.6910715\tbest: 0.6911101 (644)\ttotal: 33.4s\tremaining: 1m 1s\n",
      "800:\ttest: 0.6916949\tbest: 0.6918773 (790)\ttotal: 38.2s\tremaining: 57.2s\n",
      "900:\ttest: 0.6922021\tbest: 0.6922926 (858)\ttotal: 43.1s\tremaining: 52.5s\n",
      "1000:\ttest: 0.6927484\tbest: 0.6928401 (994)\ttotal: 48s\tremaining: 47.9s\n",
      "bestTest = 0.692937851\n",
      "bestIteration = 1007\n",
      "Shrink model to first 1008 iterations.\n"
     ]
    },
    {
     "name": "stderr",
     "output_type": "stream",
     "text": [
      "Default metric period is 5 because AUC is/are not implemented for GPU\n"
     ]
    },
    {
     "name": "stdout",
     "output_type": "stream",
     "text": [
      "0:\ttest: 0.5044655\tbest: 0.5044655 (0)\ttotal: 43.7ms\tremaining: 1m 27s\n",
      "100:\ttest: 0.6770470\tbest: 0.6774000 (99)\ttotal: 5s\tremaining: 1m 34s\n",
      "200:\ttest: 0.6844902\tbest: 0.6847052 (192)\ttotal: 9.83s\tremaining: 1m 27s\n",
      "300:\ttest: 0.6883301\tbest: 0.6883301 (300)\ttotal: 14.6s\tremaining: 1m 22s\n",
      "400:\ttest: 0.6898467\tbest: 0.6901906 (369)\ttotal: 19.5s\tremaining: 1m 17s\n",
      "bestTest = 0.6901906431\n",
      "bestIteration = 369\n",
      "Shrink model to first 370 iterations.\n"
     ]
    },
    {
     "name": "stderr",
     "output_type": "stream",
     "text": [
      "Default metric period is 5 because AUC is/are not implemented for GPU\n"
     ]
    },
    {
     "name": "stdout",
     "output_type": "stream",
     "text": [
      "0:\ttest: 0.5044655\tbest: 0.5044655 (0)\ttotal: 43.2ms\tremaining: 1m 26s\n",
      "100:\ttest: 0.6829871\tbest: 0.6830665 (99)\ttotal: 4.74s\tremaining: 1m 29s\n",
      "200:\ttest: 0.6902417\tbest: 0.6902417 (200)\ttotal: 9.55s\tremaining: 1m 25s\n",
      "300:\ttest: 0.6920653\tbest: 0.6923103 (289)\ttotal: 14.5s\tremaining: 1m 21s\n",
      "400:\ttest: 0.6953331\tbest: 0.6953397 (395)\ttotal: 19.3s\tremaining: 1m 17s\n",
      "500:\ttest: 0.6950838\tbest: 0.6955098 (485)\ttotal: 24.2s\tremaining: 1m 12s\n",
      "bestTest = 0.6955097914\n",
      "bestIteration = 485\n",
      "Shrink model to first 486 iterations.\n"
     ]
    },
    {
     "name": "stderr",
     "output_type": "stream",
     "text": [
      "Default metric period is 5 because AUC is/are not implemented for GPU\n"
     ]
    },
    {
     "name": "stdout",
     "output_type": "stream",
     "text": [
      "0:\ttest: 0.5044655\tbest: 0.5044655 (0)\ttotal: 43ms\tremaining: 1m 26s\n",
      "100:\ttest: 0.6835829\tbest: 0.6839426 (89)\ttotal: 4.74s\tremaining: 1m 29s\n",
      "200:\ttest: 0.6916265\tbest: 0.6917936 (192)\ttotal: 9.55s\tremaining: 1m 25s\n",
      "300:\ttest: 0.6913147\tbest: 0.6925935 (268)\ttotal: 14.5s\tremaining: 1m 21s\n",
      "bestTest = 0.6925935149\n",
      "bestIteration = 268\n",
      "Shrink model to first 269 iterations.\n"
     ]
    },
    {
     "name": "stderr",
     "output_type": "stream",
     "text": [
      "Default metric period is 5 because AUC is/are not implemented for GPU\n"
     ]
    },
    {
     "name": "stdout",
     "output_type": "stream",
     "text": [
      "0:\ttest: 0.4977958\tbest: 0.4977958 (0)\ttotal: 44.4ms\tremaining: 1m 28s\n",
      "100:\ttest: 0.6601475\tbest: 0.6601475 (100)\ttotal: 4.67s\tremaining: 1m 27s\n",
      "200:\ttest: 0.6776195\tbest: 0.6779228 (196)\ttotal: 9.53s\tremaining: 1m 25s\n",
      "300:\ttest: 0.6822013\tbest: 0.6822162 (299)\ttotal: 14.4s\tremaining: 1m 21s\n",
      "400:\ttest: 0.6854112\tbest: 0.6854112 (400)\ttotal: 19.3s\tremaining: 1m 17s\n",
      "500:\ttest: 0.6865101\tbest: 0.6865101 (500)\ttotal: 24.2s\tremaining: 1m 12s\n",
      "600:\ttest: 0.6873257\tbest: 0.6873257 (600)\ttotal: 29.1s\tremaining: 1m 7s\n",
      "700:\ttest: 0.6879659\tbest: 0.6880219 (674)\ttotal: 33.9s\tremaining: 1m 2s\n",
      "800:\ttest: 0.6887357\tbest: 0.6887357 (800)\ttotal: 38.8s\tremaining: 58.1s\n",
      "900:\ttest: 0.6896115\tbest: 0.6896866 (866)\ttotal: 43.8s\tremaining: 53.4s\n",
      "1000:\ttest: 0.6899624\tbest: 0.6899646 (958)\ttotal: 48.6s\tremaining: 48.5s\n",
      "1100:\ttest: 0.6905927\tbest: 0.6906683 (1088)\ttotal: 53.5s\tremaining: 43.6s\n",
      "1200:\ttest: 0.6914171\tbest: 0.6914171 (1200)\ttotal: 58.4s\tremaining: 38.8s\n",
      "1300:\ttest: 0.6914668\tbest: 0.6915195 (1288)\ttotal: 1m 3s\tremaining: 33.9s\n",
      "1400:\ttest: 0.6918493\tbest: 0.6921014 (1381)\ttotal: 1m 7s\tremaining: 29s\n",
      "1500:\ttest: 0.6924793\tbest: 0.6925143 (1496)\ttotal: 1m 12s\tremaining: 24.2s\n",
      "1600:\ttest: 0.6929955\tbest: 0.6930516 (1589)\ttotal: 1m 17s\tremaining: 19.3s\n",
      "1700:\ttest: 0.6931795\tbest: 0.6932139 (1699)\ttotal: 1m 22s\tremaining: 14.5s\n",
      "1800:\ttest: 0.6935067\tbest: 0.6935212 (1796)\ttotal: 1m 27s\tremaining: 9.64s\n",
      "1900:\ttest: 0.6936273\tbest: 0.6936778 (1870)\ttotal: 1m 32s\tremaining: 4.79s\n",
      "bestTest = 0.6936778426\n",
      "bestIteration = 1870\n",
      "Shrink model to first 1871 iterations.\n"
     ]
    },
    {
     "name": "stderr",
     "output_type": "stream",
     "text": [
      "Default metric period is 5 because AUC is/are not implemented for GPU\n"
     ]
    },
    {
     "name": "stdout",
     "output_type": "stream",
     "text": [
      "0:\ttest: 0.4977958\tbest: 0.4977958 (0)\ttotal: 43.3ms\tremaining: 1m 26s\n",
      "100:\ttest: 0.6742733\tbest: 0.6742733 (100)\ttotal: 4.75s\tremaining: 1m 29s\n",
      "200:\ttest: 0.6835771\tbest: 0.6836835 (178)\ttotal: 9.65s\tremaining: 1m 26s\n",
      "300:\ttest: 0.6864824\tbest: 0.6865784 (299)\ttotal: 14.5s\tremaining: 1m 21s\n",
      "400:\ttest: 0.6889838\tbest: 0.6889838 (400)\ttotal: 19.3s\tremaining: 1m 16s\n",
      "500:\ttest: 0.6897170\tbest: 0.6897280 (499)\ttotal: 24s\tremaining: 1m 11s\n",
      "600:\ttest: 0.6901658\tbest: 0.6902673 (594)\ttotal: 28.8s\tremaining: 1m 7s\n",
      "700:\ttest: 0.6907865\tbest: 0.6908341 (696)\ttotal: 33.6s\tremaining: 1m 2s\n",
      "800:\ttest: 0.6918441\tbest: 0.6918441 (800)\ttotal: 38.5s\tremaining: 57.6s\n",
      "900:\ttest: 0.6920190\tbest: 0.6920809 (839)\ttotal: 43.4s\tremaining: 52.9s\n",
      "1000:\ttest: 0.6929019\tbest: 0.6929308 (997)\ttotal: 48.4s\tremaining: 48.3s\n",
      "1100:\ttest: 0.6929438\tbest: 0.6929926 (1084)\ttotal: 53.4s\tremaining: 43.6s\n",
      "bestTest = 0.692992568\n",
      "bestIteration = 1084\n",
      "Shrink model to first 1085 iterations.\n"
     ]
    },
    {
     "name": "stderr",
     "output_type": "stream",
     "text": [
      "Default metric period is 5 because AUC is/are not implemented for GPU\n"
     ]
    },
    {
     "name": "stdout",
     "output_type": "stream",
     "text": [
      "0:\ttest: 0.4977958\tbest: 0.4977958 (0)\ttotal: 44.8ms\tremaining: 1m 29s\n",
      "100:\ttest: 0.6796149\tbest: 0.6800586 (94)\ttotal: 4.95s\tremaining: 1m 33s\n",
      "200:\ttest: 0.6864032\tbest: 0.6867684 (192)\ttotal: 9.99s\tremaining: 1m 29s\n",
      "300:\ttest: 0.6892804\tbest: 0.6893704 (270)\ttotal: 15s\tremaining: 1m 24s\n",
      "400:\ttest: 0.6914552\tbest: 0.6914715 (399)\ttotal: 20s\tremaining: 1m 19s\n",
      "500:\ttest: 0.6917692\tbest: 0.6918764 (487)\ttotal: 25s\tremaining: 1m 14s\n",
      "600:\ttest: 0.6924240\tbest: 0.6929004 (582)\ttotal: 30s\tremaining: 1m 9s\n",
      "bestTest = 0.692900449\n",
      "bestIteration = 582\n",
      "Shrink model to first 583 iterations.\n"
     ]
    },
    {
     "name": "stderr",
     "output_type": "stream",
     "text": [
      "Default metric period is 5 because AUC is/are not implemented for GPU\n"
     ]
    },
    {
     "name": "stdout",
     "output_type": "stream",
     "text": [
      "0:\ttest: 0.4977958\tbest: 0.4977958 (0)\ttotal: 44.8ms\tremaining: 1m 29s\n",
      "100:\ttest: 0.6823418\tbest: 0.6824143 (99)\ttotal: 4.94s\tremaining: 1m 32s\n",
      "200:\ttest: 0.6891738\tbest: 0.6891738 (200)\ttotal: 9.84s\tremaining: 1m 28s\n",
      "300:\ttest: 0.6918786\tbest: 0.6921627 (294)\ttotal: 14.7s\tremaining: 1m 23s\n",
      "400:\ttest: 0.6927621\tbest: 0.6932790 (392)\ttotal: 19.7s\tremaining: 1m 18s\n",
      "bestTest = 0.6932790279\n",
      "bestIteration = 392\n",
      "Shrink model to first 393 iterations.\n"
     ]
    },
    {
     "name": "stderr",
     "output_type": "stream",
     "text": [
      "Default metric period is 5 because AUC is/are not implemented for GPU\n"
     ]
    },
    {
     "name": "stdout",
     "output_type": "stream",
     "text": [
      "0:\ttest: 0.4977958\tbest: 0.4977958 (0)\ttotal: 44.4ms\tremaining: 1m 28s\n",
      "100:\ttest: 0.6814616\tbest: 0.6814857 (79)\ttotal: 4.87s\tremaining: 1m 31s\n",
      "200:\ttest: 0.6884116\tbest: 0.6884335 (197)\ttotal: 9.83s\tremaining: 1m 27s\n",
      "300:\ttest: 0.6930669\tbest: 0.6933456 (291)\ttotal: 14.9s\tremaining: 1m 23s\n",
      "400:\ttest: 0.6931763\tbest: 0.6933928 (324)\ttotal: 19.9s\tremaining: 1m 19s\n",
      "bestTest = 0.6936510205\n",
      "bestIteration = 418\n",
      "Shrink model to first 419 iterations.\n"
     ]
    },
    {
     "name": "stderr",
     "output_type": "stream",
     "text": [
      "Default metric period is 5 because AUC is/are not implemented for GPU\n"
     ]
    },
    {
     "name": "stdout",
     "output_type": "stream",
     "text": [
      "0:\ttest: 0.5027403\tbest: 0.5027403 (0)\ttotal: 43.9ms\tremaining: 1m 27s\n",
      "100:\ttest: 0.6543968\tbest: 0.6543968 (100)\ttotal: 4.75s\tremaining: 1m 29s\n",
      "200:\ttest: 0.6778102\tbest: 0.6780578 (198)\ttotal: 9.5s\tremaining: 1m 25s\n",
      "300:\ttest: 0.6831101\tbest: 0.6831146 (299)\ttotal: 14.6s\tremaining: 1m 22s\n",
      "400:\ttest: 0.6864278\tbest: 0.6864278 (400)\ttotal: 19.6s\tremaining: 1m 18s\n",
      "500:\ttest: 0.6880314\tbest: 0.6880314 (500)\ttotal: 24.6s\tremaining: 1m 13s\n",
      "600:\ttest: 0.6886779\tbest: 0.6887164 (576)\ttotal: 29.6s\tremaining: 1m 8s\n",
      "700:\ttest: 0.6890149\tbest: 0.6891897 (674)\ttotal: 34.6s\tremaining: 1m 4s\n",
      "800:\ttest: 0.6894579\tbest: 0.6894579 (800)\ttotal: 39.6s\tremaining: 59.2s\n",
      "900:\ttest: 0.6903627\tbest: 0.6903627 (900)\ttotal: 44.5s\tremaining: 54.3s\n",
      "1000:\ttest: 0.6905718\tbest: 0.6906411 (946)\ttotal: 49.6s\tremaining: 49.5s\n",
      "1100:\ttest: 0.6909469\tbest: 0.6910067 (1091)\ttotal: 54.7s\tremaining: 44.7s\n",
      "1200:\ttest: 0.6916298\tbest: 0.6916298 (1200)\ttotal: 59.8s\tremaining: 39.8s\n",
      "1300:\ttest: 0.6919683\tbest: 0.6919683 (1300)\ttotal: 1m 4s\tremaining: 34.7s\n",
      "1400:\ttest: 0.6922786\tbest: 0.6924266 (1381)\ttotal: 1m 9s\tremaining: 29.7s\n",
      "1500:\ttest: 0.6927693\tbest: 0.6928391 (1496)\ttotal: 1m 14s\tremaining: 24.7s\n",
      "1600:\ttest: 0.6933199\tbest: 0.6933516 (1598)\ttotal: 1m 19s\tremaining: 19.7s\n",
      "1700:\ttest: 0.6933226\tbest: 0.6934419 (1695)\ttotal: 1m 24s\tremaining: 14.8s\n",
      "bestTest = 0.6934418678\n",
      "bestIteration = 1695\n",
      "Shrink model to first 1696 iterations.\n"
     ]
    },
    {
     "name": "stderr",
     "output_type": "stream",
     "text": [
      "Default metric period is 5 because AUC is/are not implemented for GPU\n"
     ]
    },
    {
     "name": "stdout",
     "output_type": "stream",
     "text": [
      "0:\ttest: 0.5027403\tbest: 0.5027403 (0)\ttotal: 44.4ms\tremaining: 1m 28s\n",
      "100:\ttest: 0.6745389\tbest: 0.6745389 (100)\ttotal: 4.7s\tremaining: 1m 28s\n",
      "200:\ttest: 0.6836910\tbest: 0.6836970 (196)\ttotal: 9.52s\tremaining: 1m 25s\n",
      "300:\ttest: 0.6871640\tbest: 0.6872915 (298)\ttotal: 14.4s\tremaining: 1m 21s\n",
      "400:\ttest: 0.6893219\tbest: 0.6894481 (393)\ttotal: 19.2s\tremaining: 1m 16s\n",
      "500:\ttest: 0.6889767\tbest: 0.6895588 (427)\ttotal: 24s\tremaining: 1m 11s\n",
      "bestTest = 0.689558804\n",
      "bestIteration = 427\n",
      "Shrink model to first 428 iterations.\n"
     ]
    },
    {
     "name": "stderr",
     "output_type": "stream",
     "text": [
      "Default metric period is 5 because AUC is/are not implemented for GPU\n"
     ]
    },
    {
     "name": "stdout",
     "output_type": "stream",
     "text": [
      "0:\ttest: 0.5027403\tbest: 0.5027403 (0)\ttotal: 43.4ms\tremaining: 1m 26s\n",
      "100:\ttest: 0.6755042\tbest: 0.6764164 (89)\ttotal: 4.8s\tremaining: 1m 30s\n",
      "200:\ttest: 0.6843513\tbest: 0.6844176 (198)\ttotal: 9.62s\tremaining: 1m 26s\n",
      "300:\ttest: 0.6879413\tbest: 0.6879989 (294)\ttotal: 14.4s\tremaining: 1m 21s\n",
      "400:\ttest: 0.6907423\tbest: 0.6910474 (374)\ttotal: 19.2s\tremaining: 1m 16s\n",
      "500:\ttest: 0.6919360\tbest: 0.6925014 (477)\ttotal: 24s\tremaining: 1m 11s\n",
      "600:\ttest: 0.6929854\tbest: 0.6933414 (583)\ttotal: 28.8s\tremaining: 1m 7s\n",
      "bestTest = 0.6933413744\n",
      "bestIteration = 583\n",
      "Shrink model to first 584 iterations.\n"
     ]
    },
    {
     "name": "stderr",
     "output_type": "stream",
     "text": [
      "Default metric period is 5 because AUC is/are not implemented for GPU\n"
     ]
    },
    {
     "name": "stdout",
     "output_type": "stream",
     "text": [
      "0:\ttest: 0.5027403\tbest: 0.5027403 (0)\ttotal: 43.2ms\tremaining: 1m 26s\n",
      "100:\ttest: 0.6842636\tbest: 0.6843563 (99)\ttotal: 4.84s\tremaining: 1m 30s\n",
      "200:\ttest: 0.6902370\tbest: 0.6903487 (192)\ttotal: 9.62s\tremaining: 1m 26s\n",
      "300:\ttest: 0.6934296\tbest: 0.6934457 (299)\ttotal: 14.4s\tremaining: 1m 21s\n",
      "400:\ttest: 0.6953524\tbest: 0.6955565 (395)\ttotal: 19.3s\tremaining: 1m 16s\n",
      "bestTest = 0.695648104\n",
      "bestIteration = 417\n",
      "Shrink model to first 418 iterations.\n"
     ]
    },
    {
     "name": "stderr",
     "output_type": "stream",
     "text": [
      "Default metric period is 5 because AUC is/are not implemented for GPU\n"
     ]
    },
    {
     "name": "stdout",
     "output_type": "stream",
     "text": [
      "0:\ttest: 0.5027403\tbest: 0.5027403 (0)\ttotal: 43.7ms\tremaining: 1m 27s\n",
      "100:\ttest: 0.6851996\tbest: 0.6855710 (79)\ttotal: 4.78s\tremaining: 1m 29s\n",
      "200:\ttest: 0.6925516\tbest: 0.6925516 (200)\ttotal: 9.65s\tremaining: 1m 26s\n",
      "300:\ttest: 0.6954376\tbest: 0.6956691 (231)\ttotal: 14.5s\tremaining: 1m 21s\n",
      "bestTest = 0.6956691444\n",
      "bestIteration = 231\n",
      "Shrink model to first 232 iterations.\n"
     ]
    },
    {
     "name": "stderr",
     "output_type": "stream",
     "text": [
      "Default metric period is 5 because AUC is/are not implemented for GPU\n"
     ]
    },
    {
     "name": "stdout",
     "output_type": "stream",
     "text": [
      "0:\ttest: 0.5117245\tbest: 0.5117245 (0)\ttotal: 43.5ms\tremaining: 1m 48s\n",
      "100:\ttest: 0.6498716\tbest: 0.6498716 (100)\ttotal: 4.63s\tremaining: 1m 49s\n",
      "200:\ttest: 0.6754729\tbest: 0.6754729 (200)\ttotal: 9.35s\tremaining: 1m 46s\n",
      "300:\ttest: 0.6801436\tbest: 0.6801436 (300)\ttotal: 14.1s\tremaining: 1m 43s\n",
      "400:\ttest: 0.6829814\tbest: 0.6829814 (400)\ttotal: 19s\tremaining: 1m 39s\n",
      "500:\ttest: 0.6847007\tbest: 0.6847007 (500)\ttotal: 23.7s\tremaining: 1m 34s\n",
      "600:\ttest: 0.6855682\tbest: 0.6856452 (597)\ttotal: 28.5s\tremaining: 1m 30s\n",
      "700:\ttest: 0.6868783\tbest: 0.6870413 (690)\ttotal: 33.2s\tremaining: 1m 25s\n",
      "800:\ttest: 0.6875857\tbest: 0.6876250 (769)\ttotal: 38s\tremaining: 1m 20s\n",
      "900:\ttest: 0.6879827\tbest: 0.6884248 (864)\ttotal: 42.7s\tremaining: 1m 15s\n",
      "bestTest = 0.6884247661\n",
      "bestIteration = 864\n",
      "Shrink model to first 865 iterations.\n"
     ]
    },
    {
     "name": "stderr",
     "output_type": "stream",
     "text": [
      "Default metric period is 5 because AUC is/are not implemented for GPU\n"
     ]
    },
    {
     "name": "stdout",
     "output_type": "stream",
     "text": [
      "0:\ttest: 0.5117245\tbest: 0.5117245 (0)\ttotal: 44.9ms\tremaining: 1m 52s\n",
      "100:\ttest: 0.6754571\tbest: 0.6754571 (100)\ttotal: 4.77s\tremaining: 1m 53s\n",
      "200:\ttest: 0.6837330\tbest: 0.6837330 (200)\ttotal: 9.54s\tremaining: 1m 49s\n",
      "bestTest = 0.6844013929\n",
      "bestIteration = 217\n",
      "Shrink model to first 218 iterations.\n"
     ]
    },
    {
     "name": "stderr",
     "output_type": "stream",
     "text": [
      "Default metric period is 5 because AUC is/are not implemented for GPU\n"
     ]
    },
    {
     "name": "stdout",
     "output_type": "stream",
     "text": [
      "0:\ttest: 0.5117245\tbest: 0.5117245 (0)\ttotal: 44.6ms\tremaining: 1m 51s\n",
      "100:\ttest: 0.6750754\tbest: 0.6750754 (100)\ttotal: 4.79s\tremaining: 1m 53s\n",
      "200:\ttest: 0.6832694\tbest: 0.6834505 (179)\ttotal: 9.58s\tremaining: 1m 49s\n",
      "300:\ttest: 0.6867908\tbest: 0.6867908 (300)\ttotal: 14.3s\tremaining: 1m 44s\n",
      "400:\ttest: 0.6886493\tbest: 0.6886493 (400)\ttotal: 19.2s\tremaining: 1m 40s\n",
      "bestTest = 0.6892160177\n",
      "bestIteration = 411\n",
      "Shrink model to first 412 iterations.\n"
     ]
    },
    {
     "name": "stderr",
     "output_type": "stream",
     "text": [
      "Default metric period is 5 because AUC is/are not implemented for GPU\n"
     ]
    },
    {
     "name": "stdout",
     "output_type": "stream",
     "text": [
      "0:\ttest: 0.5117245\tbest: 0.5117245 (0)\ttotal: 43.5ms\tremaining: 1m 48s\n",
      "100:\ttest: 0.6807232\tbest: 0.6807969 (98)\ttotal: 4.75s\tremaining: 1m 52s\n",
      "200:\ttest: 0.6823513\tbest: 0.6828195 (193)\ttotal: 9.55s\tremaining: 1m 49s\n",
      "300:\ttest: 0.6847905\tbest: 0.6853693 (228)\ttotal: 14.4s\tremaining: 1m 44s\n",
      "bestTest = 0.6853692532\n",
      "bestIteration = 228\n",
      "Shrink model to first 229 iterations.\n"
     ]
    },
    {
     "name": "stderr",
     "output_type": "stream",
     "text": [
      "Default metric period is 5 because AUC is/are not implemented for GPU\n"
     ]
    },
    {
     "name": "stdout",
     "output_type": "stream",
     "text": [
      "0:\ttest: 0.5117245\tbest: 0.5117245 (0)\ttotal: 43.4ms\tremaining: 1m 48s\n",
      "100:\ttest: 0.6831632\tbest: 0.6852722 (76)\ttotal: 4.74s\tremaining: 1m 52s\n",
      "200:\ttest: 0.6871389\tbest: 0.6872098 (199)\ttotal: 9.59s\tremaining: 1m 49s\n",
      "300:\ttest: 0.6870654\tbest: 0.6886178 (279)\ttotal: 14.4s\tremaining: 1m 45s\n",
      "bestTest = 0.6886177957\n",
      "bestIteration = 279\n",
      "Shrink model to first 280 iterations.\n"
     ]
    },
    {
     "name": "stderr",
     "output_type": "stream",
     "text": [
      "Default metric period is 5 because AUC is/are not implemented for GPU\n"
     ]
    },
    {
     "name": "stdout",
     "output_type": "stream",
     "text": [
      "0:\ttest: 0.5068348\tbest: 0.5068348 (0)\ttotal: 43.3ms\tremaining: 1m 48s\n",
      "100:\ttest: 0.6548016\tbest: 0.6548016 (100)\ttotal: 4.62s\tremaining: 1m 49s\n",
      "200:\ttest: 0.6757435\tbest: 0.6758208 (198)\ttotal: 9.39s\tremaining: 1m 47s\n",
      "300:\ttest: 0.6811872\tbest: 0.6812420 (297)\ttotal: 14.2s\tremaining: 1m 43s\n",
      "400:\ttest: 0.6839160\tbest: 0.6839160 (400)\ttotal: 19s\tremaining: 1m 39s\n",
      "500:\ttest: 0.6853327\tbest: 0.6854692 (479)\ttotal: 23.8s\tremaining: 1m 35s\n",
      "600:\ttest: 0.6865280\tbest: 0.6866578 (597)\ttotal: 28.6s\tremaining: 1m 30s\n",
      "700:\ttest: 0.6878726\tbest: 0.6878861 (698)\ttotal: 33.5s\tremaining: 1m 25s\n",
      "800:\ttest: 0.6886103\tbest: 0.6888686 (756)\ttotal: 38.3s\tremaining: 1m 21s\n",
      "900:\ttest: 0.6889663\tbest: 0.6890883 (867)\ttotal: 43.2s\tremaining: 1m 16s\n",
      "1000:\ttest: 0.6896456\tbest: 0.6896456 (1000)\ttotal: 47.9s\tremaining: 1m 11s\n",
      "1100:\ttest: 0.6900343\tbest: 0.6901380 (1089)\ttotal: 52.8s\tremaining: 1m 7s\n",
      "1200:\ttest: 0.6907875\tbest: 0.6907875 (1200)\ttotal: 57.6s\tremaining: 1m 2s\n",
      "1300:\ttest: 0.6909916\tbest: 0.6909916 (1300)\ttotal: 1m 2s\tremaining: 57.6s\n",
      "1400:\ttest: 0.6912948\tbest: 0.6914724 (1381)\ttotal: 1m 7s\tremaining: 52.8s\n",
      "1500:\ttest: 0.6917064\tbest: 0.6918713 (1464)\ttotal: 1m 12s\tremaining: 48s\n",
      "bestTest = 0.6918713152\n",
      "bestIteration = 1464\n",
      "Shrink model to first 1465 iterations.\n"
     ]
    },
    {
     "name": "stderr",
     "output_type": "stream",
     "text": [
      "Default metric period is 5 because AUC is/are not implemented for GPU\n"
     ]
    },
    {
     "name": "stdout",
     "output_type": "stream",
     "text": [
      "0:\ttest: 0.5068348\tbest: 0.5068348 (0)\ttotal: 44.6ms\tremaining: 1m 51s\n",
      "100:\ttest: 0.6729425\tbest: 0.6729425 (100)\ttotal: 4.75s\tremaining: 1m 52s\n",
      "200:\ttest: 0.6825264\tbest: 0.6826238 (198)\ttotal: 9.59s\tremaining: 1m 49s\n",
      "300:\ttest: 0.6852944\tbest: 0.6852944 (300)\ttotal: 14.4s\tremaining: 1m 45s\n",
      "400:\ttest: 0.6871907\tbest: 0.6872577 (392)\ttotal: 19.3s\tremaining: 1m 40s\n",
      "500:\ttest: 0.6885253\tbest: 0.6885253 (500)\ttotal: 24.1s\tremaining: 1m 35s\n",
      "600:\ttest: 0.6901680\tbest: 0.6901882 (599)\ttotal: 29.1s\tremaining: 1m 31s\n",
      "700:\ttest: 0.6908438\tbest: 0.6910958 (661)\ttotal: 34.1s\tremaining: 1m 27s\n",
      "bestTest = 0.691095829\n",
      "bestIteration = 661\n",
      "Shrink model to first 662 iterations.\n"
     ]
    },
    {
     "name": "stderr",
     "output_type": "stream",
     "text": [
      "Default metric period is 5 because AUC is/are not implemented for GPU\n"
     ]
    },
    {
     "name": "stdout",
     "output_type": "stream",
     "text": [
      "0:\ttest: 0.5068348\tbest: 0.5068348 (0)\ttotal: 44.3ms\tremaining: 1m 50s\n",
      "100:\ttest: 0.6761972\tbest: 0.6769500 (94)\ttotal: 4.86s\tremaining: 1m 55s\n",
      "200:\ttest: 0.6846288\tbest: 0.6846551 (199)\ttotal: 9.7s\tremaining: 1m 50s\n",
      "300:\ttest: 0.6862287\tbest: 0.6862287 (300)\ttotal: 14.5s\tremaining: 1m 46s\n",
      "400:\ttest: 0.6881045\tbest: 0.6881981 (393)\ttotal: 19.5s\tremaining: 1m 41s\n",
      "500:\ttest: 0.6885917\tbest: 0.6886436 (461)\ttotal: 24.5s\tremaining: 1m 37s\n",
      "600:\ttest: 0.6891497\tbest: 0.6892832 (584)\ttotal: 29.5s\tremaining: 1m 33s\n",
      "bestTest = 0.689283222\n",
      "bestIteration = 584\n",
      "Shrink model to first 585 iterations.\n"
     ]
    },
    {
     "name": "stderr",
     "output_type": "stream",
     "text": [
      "Default metric period is 5 because AUC is/are not implemented for GPU\n"
     ]
    },
    {
     "name": "stdout",
     "output_type": "stream",
     "text": [
      "0:\ttest: 0.5068348\tbest: 0.5068348 (0)\ttotal: 45.6ms\tremaining: 1m 53s\n",
      "100:\ttest: 0.6818417\tbest: 0.6825048 (87)\ttotal: 5.03s\tremaining: 1m 59s\n",
      "200:\ttest: 0.6873289\tbest: 0.6873289 (200)\ttotal: 10.1s\tremaining: 1m 55s\n",
      "300:\ttest: 0.6887765\tbest: 0.6892891 (289)\ttotal: 15.1s\tremaining: 1m 50s\n",
      "400:\ttest: 0.6909877\tbest: 0.6910375 (398)\ttotal: 20.2s\tremaining: 1m 45s\n",
      "500:\ttest: 0.6910379\tbest: 0.6917676 (421)\ttotal: 25.2s\tremaining: 1m 40s\n",
      "bestTest = 0.691767633\n",
      "bestIteration = 421\n",
      "Shrink model to first 422 iterations.\n"
     ]
    },
    {
     "name": "stderr",
     "output_type": "stream",
     "text": [
      "Default metric period is 5 because AUC is/are not implemented for GPU\n"
     ]
    },
    {
     "name": "stdout",
     "output_type": "stream",
     "text": [
      "0:\ttest: 0.5068348\tbest: 0.5068348 (0)\ttotal: 45ms\tremaining: 1m 52s\n",
      "100:\ttest: 0.6881946\tbest: 0.6889480 (76)\ttotal: 4.94s\tremaining: 1m 57s\n",
      "200:\ttest: 0.6919046\tbest: 0.6919422 (193)\ttotal: 9.87s\tremaining: 1m 52s\n",
      "300:\ttest: 0.6915043\tbest: 0.6935044 (231)\ttotal: 14.8s\tremaining: 1m 48s\n",
      "bestTest = 0.6935043633\n",
      "bestIteration = 231\n",
      "Shrink model to first 232 iterations.\n"
     ]
    },
    {
     "name": "stderr",
     "output_type": "stream",
     "text": [
      "Default metric period is 5 because AUC is/are not implemented for GPU\n"
     ]
    },
    {
     "name": "stdout",
     "output_type": "stream",
     "text": [
      "0:\ttest: 0.5044655\tbest: 0.5044655 (0)\ttotal: 43.8ms\tremaining: 1m 49s\n",
      "100:\ttest: 0.6537195\tbest: 0.6537195 (100)\ttotal: 4.68s\tremaining: 1m 51s\n",
      "200:\ttest: 0.6768943\tbest: 0.6770523 (198)\ttotal: 9.43s\tremaining: 1m 47s\n",
      "300:\ttest: 0.6817210\tbest: 0.6817302 (299)\ttotal: 14.3s\tremaining: 1m 44s\n",
      "400:\ttest: 0.6841635\tbest: 0.6841635 (400)\ttotal: 19.1s\tremaining: 1m 40s\n",
      "500:\ttest: 0.6855238\tbest: 0.6856795 (477)\ttotal: 23.9s\tremaining: 1m 35s\n",
      "600:\ttest: 0.6865439\tbest: 0.6865517 (596)\ttotal: 28.7s\tremaining: 1m 30s\n",
      "700:\ttest: 0.6872716\tbest: 0.6872794 (698)\ttotal: 33.5s\tremaining: 1m 25s\n",
      "800:\ttest: 0.6884785\tbest: 0.6884785 (800)\ttotal: 38.3s\tremaining: 1m 21s\n",
      "900:\ttest: 0.6895315\tbest: 0.6896247 (866)\ttotal: 43.1s\tremaining: 1m 16s\n",
      "1000:\ttest: 0.6898174\tbest: 0.6898832 (957)\ttotal: 47.8s\tremaining: 1m 11s\n",
      "1100:\ttest: 0.6906514\tbest: 0.6906731 (1094)\ttotal: 52.6s\tremaining: 1m 6s\n",
      "1200:\ttest: 0.6914320\tbest: 0.6914426 (1161)\ttotal: 57.4s\tremaining: 1m 2s\n",
      "1300:\ttest: 0.6914563\tbest: 0.6915397 (1282)\ttotal: 1m 2s\tremaining: 57.4s\n",
      "1400:\ttest: 0.6918249\tbest: 0.6919004 (1384)\ttotal: 1m 7s\tremaining: 52.7s\n",
      "1500:\ttest: 0.6923046\tbest: 0.6923455 (1494)\ttotal: 1m 11s\tremaining: 47.9s\n",
      "1600:\ttest: 0.6924079\tbest: 0.6925971 (1543)\ttotal: 1m 16s\tremaining: 43.2s\n",
      "1700:\ttest: 0.6924923\tbest: 0.6926620 (1639)\ttotal: 1m 21s\tremaining: 38.4s\n",
      "bestTest = 0.6926620305\n",
      "bestIteration = 1639\n",
      "Shrink model to first 1640 iterations.\n"
     ]
    },
    {
     "name": "stderr",
     "output_type": "stream",
     "text": [
      "Default metric period is 5 because AUC is/are not implemented for GPU\n"
     ]
    },
    {
     "name": "stdout",
     "output_type": "stream",
     "text": [
      "0:\ttest: 0.5044655\tbest: 0.5044655 (0)\ttotal: 46.4ms\tremaining: 1m 55s\n",
      "100:\ttest: 0.6738562\tbest: 0.6738562 (100)\ttotal: 4.74s\tremaining: 1m 52s\n",
      "200:\ttest: 0.6838530\tbest: 0.6838723 (189)\ttotal: 9.53s\tremaining: 1m 48s\n",
      "300:\ttest: 0.6855460\tbest: 0.6855510 (298)\ttotal: 14.3s\tremaining: 1m 44s\n",
      "400:\ttest: 0.6884735\tbest: 0.6885213 (396)\ttotal: 19.1s\tremaining: 1m 39s\n",
      "500:\ttest: 0.6892647\tbest: 0.6896225 (474)\ttotal: 23.9s\tremaining: 1m 35s\n",
      "600:\ttest: 0.6904902\tbest: 0.6905022 (597)\ttotal: 28.9s\tremaining: 1m 31s\n",
      "700:\ttest: 0.6910649\tbest: 0.6911038 (644)\ttotal: 33.9s\tremaining: 1m 26s\n",
      "800:\ttest: 0.6916893\tbest: 0.6918717 (790)\ttotal: 38.9s\tremaining: 1m 22s\n",
      "900:\ttest: 0.6921893\tbest: 0.6922849 (858)\ttotal: 43.9s\tremaining: 1m 17s\n",
      "1000:\ttest: 0.6927373\tbest: 0.6928276 (994)\ttotal: 48.7s\tremaining: 1m 12s\n",
      "bestTest = 0.6929258704\n",
      "bestIteration = 1007\n",
      "Shrink model to first 1008 iterations.\n"
     ]
    },
    {
     "name": "stderr",
     "output_type": "stream",
     "text": [
      "Default metric period is 5 because AUC is/are not implemented for GPU\n"
     ]
    },
    {
     "name": "stdout",
     "output_type": "stream",
     "text": [
      "0:\ttest: 0.5044655\tbest: 0.5044655 (0)\ttotal: 43.8ms\tremaining: 1m 49s\n",
      "100:\ttest: 0.6770470\tbest: 0.6774000 (99)\ttotal: 4.77s\tremaining: 1m 53s\n",
      "200:\ttest: 0.6844902\tbest: 0.6847052 (192)\ttotal: 9.61s\tremaining: 1m 49s\n",
      "300:\ttest: 0.6883302\tbest: 0.6883302 (300)\ttotal: 14.4s\tremaining: 1m 45s\n",
      "400:\ttest: 0.6898466\tbest: 0.6901906 (369)\ttotal: 19.4s\tremaining: 1m 41s\n",
      "bestTest = 0.6901906133\n",
      "bestIteration = 369\n",
      "Shrink model to first 370 iterations.\n"
     ]
    },
    {
     "name": "stderr",
     "output_type": "stream",
     "text": [
      "Default metric period is 5 because AUC is/are not implemented for GPU\n"
     ]
    },
    {
     "name": "stdout",
     "output_type": "stream",
     "text": [
      "0:\ttest: 0.5044655\tbest: 0.5044655 (0)\ttotal: 46.5ms\tremaining: 1m 56s\n",
      "100:\ttest: 0.6829871\tbest: 0.6830665 (99)\ttotal: 4.99s\tremaining: 1m 58s\n",
      "200:\ttest: 0.6902417\tbest: 0.6902417 (200)\ttotal: 9.93s\tremaining: 1m 53s\n",
      "300:\ttest: 0.6920653\tbest: 0.6923103 (289)\ttotal: 14.7s\tremaining: 1m 47s\n",
      "400:\ttest: 0.6953287\tbest: 0.6953352 (395)\ttotal: 19.7s\tremaining: 1m 43s\n",
      "500:\ttest: 0.6950816\tbest: 0.6955062 (485)\ttotal: 24.7s\tremaining: 1m 38s\n",
      "bestTest = 0.6955062151\n",
      "bestIteration = 485\n",
      "Shrink model to first 486 iterations.\n"
     ]
    },
    {
     "name": "stderr",
     "output_type": "stream",
     "text": [
      "Default metric period is 5 because AUC is/are not implemented for GPU\n"
     ]
    },
    {
     "name": "stdout",
     "output_type": "stream",
     "text": [
      "0:\ttest: 0.5044655\tbest: 0.5044655 (0)\ttotal: 46.6ms\tremaining: 1m 56s\n",
      "100:\ttest: 0.6835829\tbest: 0.6839426 (89)\ttotal: 5.05s\tremaining: 1m 59s\n",
      "200:\ttest: 0.6916234\tbest: 0.6917904 (192)\ttotal: 10.1s\tremaining: 1m 55s\n",
      "300:\ttest: 0.6913159\tbest: 0.6925941 (268)\ttotal: 15.1s\tremaining: 1m 50s\n",
      "bestTest = 0.692594111\n",
      "bestIteration = 268\n",
      "Shrink model to first 269 iterations.\n"
     ]
    },
    {
     "name": "stderr",
     "output_type": "stream",
     "text": [
      "Default metric period is 5 because AUC is/are not implemented for GPU\n"
     ]
    },
    {
     "name": "stdout",
     "output_type": "stream",
     "text": [
      "0:\ttest: 0.4977958\tbest: 0.4977958 (0)\ttotal: 47.7ms\tremaining: 1m 59s\n",
      "100:\ttest: 0.6601475\tbest: 0.6601475 (100)\ttotal: 4.64s\tremaining: 1m 50s\n",
      "200:\ttest: 0.6776195\tbest: 0.6779228 (196)\ttotal: 9.38s\tremaining: 1m 47s\n",
      "300:\ttest: 0.6822013\tbest: 0.6822162 (299)\ttotal: 14.3s\tremaining: 1m 44s\n",
      "400:\ttest: 0.6854112\tbest: 0.6854112 (400)\ttotal: 19.2s\tremaining: 1m 40s\n",
      "500:\ttest: 0.6865101\tbest: 0.6865101 (500)\ttotal: 24s\tremaining: 1m 35s\n",
      "600:\ttest: 0.6873234\tbest: 0.6873234 (600)\ttotal: 28.8s\tremaining: 1m 30s\n",
      "700:\ttest: 0.6879622\tbest: 0.6880184 (674)\ttotal: 33.7s\tremaining: 1m 26s\n",
      "800:\ttest: 0.6887369\tbest: 0.6887369 (800)\ttotal: 38.7s\tremaining: 1m 22s\n",
      "900:\ttest: 0.6896129\tbest: 0.6896874 (866)\ttotal: 43.5s\tremaining: 1m 17s\n",
      "1000:\ttest: 0.6899633\tbest: 0.6899653 (958)\ttotal: 48.4s\tremaining: 1m 12s\n",
      "1100:\ttest: 0.6905960\tbest: 0.6906708 (1088)\ttotal: 53.2s\tremaining: 1m 7s\n",
      "1200:\ttest: 0.6914286\tbest: 0.6914286 (1200)\ttotal: 58.1s\tremaining: 1m 2s\n",
      "1300:\ttest: 0.6914783\tbest: 0.6915309 (1288)\ttotal: 1m 2s\tremaining: 57.9s\n",
      "1400:\ttest: 0.6918581\tbest: 0.6921116 (1381)\ttotal: 1m 7s\tremaining: 53.1s\n",
      "1500:\ttest: 0.6924848\tbest: 0.6925219 (1496)\ttotal: 1m 12s\tremaining: 48.4s\n",
      "1600:\ttest: 0.6930035\tbest: 0.6930607 (1589)\ttotal: 1m 17s\tremaining: 43.7s\n",
      "1700:\ttest: 0.6931961\tbest: 0.6932238 (1699)\ttotal: 1m 22s\tremaining: 38.9s\n",
      "1800:\ttest: 0.6935206\tbest: 0.6935340 (1796)\ttotal: 1m 27s\tremaining: 34.1s\n",
      "1900:\ttest: 0.6936434\tbest: 0.6936932 (1873)\ttotal: 1m 32s\tremaining: 29.2s\n",
      "bestTest = 0.693693161\n",
      "bestIteration = 1873\n",
      "Shrink model to first 1874 iterations.\n"
     ]
    },
    {
     "name": "stderr",
     "output_type": "stream",
     "text": [
      "Default metric period is 5 because AUC is/are not implemented for GPU\n"
     ]
    },
    {
     "name": "stdout",
     "output_type": "stream",
     "text": [
      "0:\ttest: 0.4977958\tbest: 0.4977958 (0)\ttotal: 43.3ms\tremaining: 1m 48s\n",
      "100:\ttest: 0.6742733\tbest: 0.6742733 (100)\ttotal: 4.67s\tremaining: 1m 50s\n",
      "200:\ttest: 0.6835771\tbest: 0.6836835 (178)\ttotal: 9.54s\tremaining: 1m 49s\n",
      "300:\ttest: 0.6864822\tbest: 0.6865777 (299)\ttotal: 14.4s\tremaining: 1m 45s\n",
      "400:\ttest: 0.6889842\tbest: 0.6889842 (400)\ttotal: 19.4s\tremaining: 1m 41s\n",
      "500:\ttest: 0.6897212\tbest: 0.6897323 (499)\ttotal: 24.3s\tremaining: 1m 37s\n",
      "600:\ttest: 0.6901690\tbest: 0.6902714 (594)\ttotal: 29.2s\tremaining: 1m 32s\n",
      "700:\ttest: 0.6907901\tbest: 0.6908383 (696)\ttotal: 34.1s\tremaining: 1m 27s\n",
      "800:\ttest: 0.6918480\tbest: 0.6918480 (800)\ttotal: 38.9s\tremaining: 1m 22s\n",
      "900:\ttest: 0.6920232\tbest: 0.6920865 (839)\ttotal: 43.8s\tremaining: 1m 17s\n",
      "1000:\ttest: 0.6929057\tbest: 0.6929352 (997)\ttotal: 48.6s\tremaining: 1m 12s\n",
      "1100:\ttest: 0.6929471\tbest: 0.6929970 (1084)\ttotal: 53.5s\tremaining: 1m 7s\n",
      "bestTest = 0.6929970086\n",
      "bestIteration = 1084\n",
      "Shrink model to first 1085 iterations.\n"
     ]
    },
    {
     "name": "stderr",
     "output_type": "stream",
     "text": [
      "Default metric period is 5 because AUC is/are not implemented for GPU\n"
     ]
    },
    {
     "name": "stdout",
     "output_type": "stream",
     "text": [
      "0:\ttest: 0.4977958\tbest: 0.4977958 (0)\ttotal: 43.3ms\tremaining: 1m 48s\n",
      "100:\ttest: 0.6796149\tbest: 0.6800586 (94)\ttotal: 4.79s\tremaining: 1m 53s\n",
      "200:\ttest: 0.6863960\tbest: 0.6867684 (192)\ttotal: 9.81s\tremaining: 1m 52s\n",
      "300:\ttest: 0.6892737\tbest: 0.6893630 (270)\ttotal: 14.8s\tremaining: 1m 48s\n",
      "400:\ttest: 0.6914513\tbest: 0.6914675 (399)\ttotal: 19.9s\tremaining: 1m 44s\n",
      "500:\ttest: 0.6917582\tbest: 0.6918694 (487)\ttotal: 25s\tremaining: 1m 39s\n",
      "600:\ttest: 0.6924146\tbest: 0.6928894 (582)\ttotal: 30.1s\tremaining: 1m 34s\n",
      "bestTest = 0.6928893626\n",
      "bestIteration = 582\n",
      "Shrink model to first 583 iterations.\n"
     ]
    },
    {
     "name": "stderr",
     "output_type": "stream",
     "text": [
      "Default metric period is 5 because AUC is/are not implemented for GPU\n"
     ]
    },
    {
     "name": "stdout",
     "output_type": "stream",
     "text": [
      "0:\ttest: 0.4977958\tbest: 0.4977958 (0)\ttotal: 46.4ms\tremaining: 1m 55s\n",
      "100:\ttest: 0.6823418\tbest: 0.6824143 (99)\ttotal: 5.08s\tremaining: 2m\n",
      "200:\ttest: 0.6891692\tbest: 0.6891692 (200)\ttotal: 10.1s\tremaining: 1m 55s\n",
      "300:\ttest: 0.6918733\tbest: 0.6921580 (294)\ttotal: 15.2s\tremaining: 1m 50s\n",
      "400:\ttest: 0.6927578\tbest: 0.6932749 (392)\ttotal: 20.2s\tremaining: 1m 45s\n",
      "bestTest = 0.6932748556\n",
      "bestIteration = 392\n",
      "Shrink model to first 393 iterations.\n"
     ]
    },
    {
     "name": "stderr",
     "output_type": "stream",
     "text": [
      "Default metric period is 5 because AUC is/are not implemented for GPU\n"
     ]
    },
    {
     "name": "stdout",
     "output_type": "stream",
     "text": [
      "0:\ttest: 0.4977958\tbest: 0.4977958 (0)\ttotal: 45.5ms\tremaining: 1m 53s\n",
      "100:\ttest: 0.6814616\tbest: 0.6814857 (79)\ttotal: 4.99s\tremaining: 1m 58s\n",
      "200:\ttest: 0.6884242\tbest: 0.6884463 (197)\ttotal: 10.1s\tremaining: 1m 55s\n",
      "300:\ttest: 0.6930762\tbest: 0.6933541 (291)\ttotal: 15.1s\tremaining: 1m 50s\n",
      "400:\ttest: 0.6932012\tbest: 0.6934055 (324)\ttotal: 20.2s\tremaining: 1m 45s\n",
      "bestTest = 0.693677485\n",
      "bestIteration = 418\n",
      "Shrink model to first 419 iterations.\n"
     ]
    },
    {
     "name": "stderr",
     "output_type": "stream",
     "text": [
      "Default metric period is 5 because AUC is/are not implemented for GPU\n"
     ]
    },
    {
     "name": "stdout",
     "output_type": "stream",
     "text": [
      "0:\ttest: 0.5027403\tbest: 0.5027403 (0)\ttotal: 45.4ms\tremaining: 1m 53s\n",
      "100:\ttest: 0.6543968\tbest: 0.6543968 (100)\ttotal: 4.82s\tremaining: 1m 54s\n",
      "200:\ttest: 0.6778102\tbest: 0.6780578 (198)\ttotal: 9.75s\tremaining: 1m 51s\n",
      "300:\ttest: 0.6831101\tbest: 0.6831146 (299)\ttotal: 14.9s\tremaining: 1m 48s\n",
      "400:\ttest: 0.6864278\tbest: 0.6864278 (400)\ttotal: 19.9s\tremaining: 1m 44s\n",
      "500:\ttest: 0.6880314\tbest: 0.6880314 (500)\ttotal: 25s\tremaining: 1m 39s\n",
      "600:\ttest: 0.6886815\tbest: 0.6887175 (576)\ttotal: 30s\tremaining: 1m 34s\n",
      "700:\ttest: 0.6890180\tbest: 0.6891923 (674)\ttotal: 35s\tremaining: 1m 29s\n",
      "800:\ttest: 0.6894610\tbest: 0.6894610 (800)\ttotal: 40.1s\tremaining: 1m 24s\n",
      "900:\ttest: 0.6903681\tbest: 0.6903681 (900)\ttotal: 45.1s\tremaining: 1m 19s\n",
      "1000:\ttest: 0.6905765\tbest: 0.6906460 (946)\ttotal: 50.1s\tremaining: 1m 15s\n",
      "1100:\ttest: 0.6909525\tbest: 0.6910115 (1091)\ttotal: 55.2s\tremaining: 1m 10s\n",
      "1200:\ttest: 0.6916325\tbest: 0.6916325 (1200)\ttotal: 1m\tremaining: 1m 5s\n",
      "1300:\ttest: 0.6919721\tbest: 0.6919721 (1300)\ttotal: 1m 5s\tremaining: 1m\n",
      "1400:\ttest: 0.6922843\tbest: 0.6924299 (1381)\ttotal: 1m 10s\tremaining: 55.2s\n",
      "1500:\ttest: 0.6927719\tbest: 0.6928420 (1496)\ttotal: 1m 15s\tremaining: 50.2s\n",
      "1600:\ttest: 0.6933219\tbest: 0.6933535 (1598)\ttotal: 1m 20s\tremaining: 45.2s\n",
      "1700:\ttest: 0.6933252\tbest: 0.6934451 (1695)\ttotal: 1m 25s\tremaining: 40.2s\n",
      "bestTest = 0.6934450567\n",
      "bestIteration = 1695\n",
      "Shrink model to first 1696 iterations.\n"
     ]
    },
    {
     "name": "stderr",
     "output_type": "stream",
     "text": [
      "Default metric period is 5 because AUC is/are not implemented for GPU\n"
     ]
    },
    {
     "name": "stdout",
     "output_type": "stream",
     "text": [
      "0:\ttest: 0.5027403\tbest: 0.5027403 (0)\ttotal: 45.4ms\tremaining: 1m 53s\n",
      "100:\ttest: 0.6745389\tbest: 0.6745389 (100)\ttotal: 4.93s\tremaining: 1m 57s\n",
      "200:\ttest: 0.6836910\tbest: 0.6836970 (196)\ttotal: 10s\tremaining: 1m 54s\n",
      "300:\ttest: 0.6871640\tbest: 0.6872915 (298)\ttotal: 15.1s\tremaining: 1m 50s\n",
      "400:\ttest: 0.6893226\tbest: 0.6894481 (393)\ttotal: 20.1s\tremaining: 1m 45s\n",
      "500:\ttest: 0.6889775\tbest: 0.6895601 (427)\ttotal: 25.1s\tremaining: 1m 40s\n",
      "bestTest = 0.6895600557\n",
      "bestIteration = 427\n",
      "Shrink model to first 428 iterations.\n"
     ]
    },
    {
     "name": "stderr",
     "output_type": "stream",
     "text": [
      "Default metric period is 5 because AUC is/are not implemented for GPU\n"
     ]
    },
    {
     "name": "stdout",
     "output_type": "stream",
     "text": [
      "0:\ttest: 0.5027403\tbest: 0.5027403 (0)\ttotal: 45.4ms\tremaining: 1m 53s\n",
      "100:\ttest: 0.6755042\tbest: 0.6764164 (89)\ttotal: 4.98s\tremaining: 1m 58s\n",
      "200:\ttest: 0.6843513\tbest: 0.6844176 (198)\ttotal: 10s\tremaining: 1m 54s\n",
      "300:\ttest: 0.6879412\tbest: 0.6879989 (294)\ttotal: 15s\tremaining: 1m 49s\n",
      "400:\ttest: 0.6907417\tbest: 0.6910470 (374)\ttotal: 20.1s\tremaining: 1m 45s\n",
      "500:\ttest: 0.6919364\tbest: 0.6925016 (477)\ttotal: 25.1s\tremaining: 1m 40s\n",
      "600:\ttest: 0.6929854\tbest: 0.6933416 (583)\ttotal: 30.2s\tremaining: 1m 35s\n",
      "bestTest = 0.6933416426\n",
      "bestIteration = 583\n",
      "Shrink model to first 584 iterations.\n"
     ]
    },
    {
     "name": "stderr",
     "output_type": "stream",
     "text": [
      "Default metric period is 5 because AUC is/are not implemented for GPU\n"
     ]
    },
    {
     "name": "stdout",
     "output_type": "stream",
     "text": [
      "0:\ttest: 0.5027403\tbest: 0.5027403 (0)\ttotal: 47.4ms\tremaining: 1m 58s\n",
      "100:\ttest: 0.6842636\tbest: 0.6843563 (99)\ttotal: 5s\tremaining: 1m 58s\n",
      "200:\ttest: 0.6902370\tbest: 0.6903487 (192)\ttotal: 10.1s\tremaining: 1m 55s\n",
      "300:\ttest: 0.6934330\tbest: 0.6934480 (299)\ttotal: 15.1s\tremaining: 1m 50s\n",
      "400:\ttest: 0.6950503\tbest: 0.6952214 (395)\ttotal: 20.2s\tremaining: 1m 45s\n",
      "bestTest = 0.695530653\n",
      "bestIteration = 418\n",
      "Shrink model to first 419 iterations.\n"
     ]
    },
    {
     "name": "stderr",
     "output_type": "stream",
     "text": [
      "Default metric period is 5 because AUC is/are not implemented for GPU\n"
     ]
    },
    {
     "name": "stdout",
     "output_type": "stream",
     "text": [
      "0:\ttest: 0.5027403\tbest: 0.5027403 (0)\ttotal: 46.2ms\tremaining: 1m 55s\n",
      "100:\ttest: 0.6851996\tbest: 0.6855710 (79)\ttotal: 5s\tremaining: 1m 58s\n",
      "200:\ttest: 0.6925502\tbest: 0.6925502 (200)\ttotal: 10s\tremaining: 1m 54s\n",
      "300:\ttest: 0.6954448\tbest: 0.6956784 (231)\ttotal: 15.1s\tremaining: 1m 50s\n",
      "bestTest = 0.6956783831\n",
      "bestIteration = 231\n",
      "Shrink model to first 232 iterations.\n"
     ]
    },
    {
     "name": "stderr",
     "output_type": "stream",
     "text": [
      "Default metric period is 5 because AUC is/are not implemented for GPU\n"
     ]
    },
    {
     "name": "stdout",
     "output_type": "stream",
     "text": [
      "0:\ttest: 0.5117245\tbest: 0.5117245 (0)\ttotal: 46ms\tremaining: 2m 17s\n",
      "100:\ttest: 0.6498716\tbest: 0.6498716 (100)\ttotal: 4.84s\tremaining: 2m 18s\n",
      "200:\ttest: 0.6754729\tbest: 0.6754729 (200)\ttotal: 9.74s\tremaining: 2m 15s\n",
      "300:\ttest: 0.6801374\tbest: 0.6801374 (300)\ttotal: 14.8s\tremaining: 2m 12s\n",
      "400:\ttest: 0.6829907\tbest: 0.6829907 (400)\ttotal: 19.8s\tremaining: 2m 8s\n",
      "500:\ttest: 0.6847117\tbest: 0.6847117 (500)\ttotal: 24.9s\tremaining: 2m 3s\n",
      "600:\ttest: 0.6855778\tbest: 0.6856533 (597)\ttotal: 29.8s\tremaining: 1m 59s\n",
      "700:\ttest: 0.6868865\tbest: 0.6870488 (690)\ttotal: 34.8s\tremaining: 1m 54s\n",
      "800:\ttest: 0.6875919\tbest: 0.6876320 (769)\ttotal: 39.8s\tremaining: 1m 49s\n",
      "900:\ttest: 0.6879899\tbest: 0.6884338 (864)\ttotal: 44.7s\tremaining: 1m 44s\n",
      "bestTest = 0.6884337664\n",
      "bestIteration = 864\n",
      "Shrink model to first 865 iterations.\n"
     ]
    },
    {
     "name": "stderr",
     "output_type": "stream",
     "text": [
      "Default metric period is 5 because AUC is/are not implemented for GPU\n"
     ]
    },
    {
     "name": "stdout",
     "output_type": "stream",
     "text": [
      "0:\ttest: 0.5117245\tbest: 0.5117245 (0)\ttotal: 47.3ms\tremaining: 2m 21s\n",
      "100:\ttest: 0.6754571\tbest: 0.6754571 (100)\ttotal: 5.07s\tremaining: 2m 25s\n",
      "200:\ttest: 0.6837330\tbest: 0.6837330 (200)\ttotal: 10.2s\tremaining: 2m 22s\n",
      "bestTest = 0.6844013929\n",
      "bestIteration = 217\n",
      "Shrink model to first 218 iterations.\n"
     ]
    },
    {
     "name": "stderr",
     "output_type": "stream",
     "text": [
      "Default metric period is 5 because AUC is/are not implemented for GPU\n"
     ]
    },
    {
     "name": "stdout",
     "output_type": "stream",
     "text": [
      "0:\ttest: 0.5117245\tbest: 0.5117245 (0)\ttotal: 47.6ms\tremaining: 2m 22s\n",
      "100:\ttest: 0.6750754\tbest: 0.6750754 (100)\ttotal: 5.15s\tremaining: 2m 27s\n",
      "200:\ttest: 0.6832694\tbest: 0.6834505 (179)\ttotal: 10.4s\tremaining: 2m 24s\n",
      "300:\ttest: 0.6867908\tbest: 0.6867908 (300)\ttotal: 15.5s\tremaining: 2m 19s\n",
      "400:\ttest: 0.6886493\tbest: 0.6886493 (400)\ttotal: 20.7s\tremaining: 2m 14s\n",
      "bestTest = 0.6892160177\n",
      "bestIteration = 411\n",
      "Shrink model to first 412 iterations.\n"
     ]
    },
    {
     "name": "stderr",
     "output_type": "stream",
     "text": [
      "Default metric period is 5 because AUC is/are not implemented for GPU\n"
     ]
    },
    {
     "name": "stdout",
     "output_type": "stream",
     "text": [
      "0:\ttest: 0.5117245\tbest: 0.5117245 (0)\ttotal: 50.1ms\tremaining: 2m 30s\n",
      "100:\ttest: 0.6807232\tbest: 0.6807969 (98)\ttotal: 5.15s\tremaining: 2m 27s\n",
      "200:\ttest: 0.6823513\tbest: 0.6828195 (193)\ttotal: 10.3s\tremaining: 2m 23s\n",
      "300:\ttest: 0.6847905\tbest: 0.6853693 (228)\ttotal: 15.5s\tremaining: 2m 19s\n",
      "bestTest = 0.6853692532\n",
      "bestIteration = 228\n",
      "Shrink model to first 229 iterations.\n"
     ]
    },
    {
     "name": "stderr",
     "output_type": "stream",
     "text": [
      "Default metric period is 5 because AUC is/are not implemented for GPU\n"
     ]
    },
    {
     "name": "stdout",
     "output_type": "stream",
     "text": [
      "0:\ttest: 0.5117245\tbest: 0.5117245 (0)\ttotal: 47.7ms\tremaining: 2m 23s\n",
      "100:\ttest: 0.6831632\tbest: 0.6852722 (76)\ttotal: 5.16s\tremaining: 2m 28s\n",
      "200:\ttest: 0.6871389\tbest: 0.6872098 (199)\ttotal: 10.4s\tremaining: 2m 24s\n",
      "300:\ttest: 0.6870654\tbest: 0.6886178 (279)\ttotal: 15.6s\tremaining: 2m 19s\n",
      "bestTest = 0.6886177957\n",
      "bestIteration = 279\n",
      "Shrink model to first 280 iterations.\n"
     ]
    },
    {
     "name": "stderr",
     "output_type": "stream",
     "text": [
      "Default metric period is 5 because AUC is/are not implemented for GPU\n"
     ]
    },
    {
     "name": "stdout",
     "output_type": "stream",
     "text": [
      "0:\ttest: 0.5068348\tbest: 0.5068348 (0)\ttotal: 48.3ms\tremaining: 2m 24s\n",
      "100:\ttest: 0.6548016\tbest: 0.6548016 (100)\ttotal: 5.03s\tremaining: 2m 24s\n",
      "200:\ttest: 0.6757435\tbest: 0.6758208 (198)\ttotal: 10.1s\tremaining: 2m 20s\n",
      "300:\ttest: 0.6811872\tbest: 0.6812420 (297)\ttotal: 15.3s\tremaining: 2m 17s\n",
      "400:\ttest: 0.6839115\tbest: 0.6839115 (400)\ttotal: 20.5s\tremaining: 2m 13s\n",
      "500:\ttest: 0.6853271\tbest: 0.6854644 (479)\ttotal: 25.7s\tremaining: 2m 8s\n",
      "600:\ttest: 0.6865222\tbest: 0.6866529 (597)\ttotal: 30.9s\tremaining: 2m 3s\n",
      "700:\ttest: 0.6878683\tbest: 0.6878817 (698)\ttotal: 36.1s\tremaining: 1m 58s\n",
      "800:\ttest: 0.6886052\tbest: 0.6888635 (756)\ttotal: 41.3s\tremaining: 1m 53s\n",
      "900:\ttest: 0.6889631\tbest: 0.6890844 (867)\ttotal: 46.5s\tremaining: 1m 48s\n",
      "1000:\ttest: 0.6896427\tbest: 0.6896427 (1000)\ttotal: 51.6s\tremaining: 1m 43s\n",
      "1100:\ttest: 0.6900355\tbest: 0.6901346 (1089)\ttotal: 56.9s\tremaining: 1m 38s\n",
      "1200:\ttest: 0.6907867\tbest: 0.6907867 (1200)\ttotal: 1m 2s\tremaining: 1m 32s\n",
      "1300:\ttest: 0.6909905\tbest: 0.6909905 (1300)\ttotal: 1m 7s\tremaining: 1m 27s\n",
      "1400:\ttest: 0.6912939\tbest: 0.6914721 (1381)\ttotal: 1m 12s\tremaining: 1m 22s\n",
      "1500:\ttest: 0.6917056\tbest: 0.6918707 (1464)\ttotal: 1m 17s\tremaining: 1m 17s\n",
      "bestTest = 0.6918706596\n",
      "bestIteration = 1464\n",
      "Shrink model to first 1465 iterations.\n"
     ]
    },
    {
     "name": "stderr",
     "output_type": "stream",
     "text": [
      "Default metric period is 5 because AUC is/are not implemented for GPU\n"
     ]
    },
    {
     "name": "stdout",
     "output_type": "stream",
     "text": [
      "0:\ttest: 0.5068348\tbest: 0.5068348 (0)\ttotal: 46.1ms\tremaining: 2m 18s\n",
      "100:\ttest: 0.6729425\tbest: 0.6729425 (100)\ttotal: 4.97s\tremaining: 2m 22s\n",
      "200:\ttest: 0.6825264\tbest: 0.6826238 (198)\ttotal: 10s\tremaining: 2m 19s\n",
      "300:\ttest: 0.6853048\tbest: 0.6853048 (300)\ttotal: 15.1s\tremaining: 2m 15s\n",
      "400:\ttest: 0.6871968\tbest: 0.6872659 (392)\ttotal: 20.2s\tremaining: 2m 10s\n",
      "500:\ttest: 0.6885300\tbest: 0.6885300 (500)\ttotal: 25.2s\tremaining: 2m 5s\n",
      "600:\ttest: 0.6901750\tbest: 0.6901955 (599)\ttotal: 30.3s\tremaining: 2m\n",
      "700:\ttest: 0.6908490\tbest: 0.6911032 (661)\ttotal: 35.4s\tremaining: 1m 56s\n",
      "bestTest = 0.6911031902\n",
      "bestIteration = 661\n",
      "Shrink model to first 662 iterations.\n"
     ]
    },
    {
     "name": "stderr",
     "output_type": "stream",
     "text": [
      "Default metric period is 5 because AUC is/are not implemented for GPU\n"
     ]
    },
    {
     "name": "stdout",
     "output_type": "stream",
     "text": [
      "0:\ttest: 0.5068348\tbest: 0.5068348 (0)\ttotal: 45.7ms\tremaining: 2m 17s\n",
      "100:\ttest: 0.6761972\tbest: 0.6769500 (94)\ttotal: 5.03s\tremaining: 2m 24s\n",
      "200:\ttest: 0.6846477\tbest: 0.6846745 (199)\ttotal: 10.1s\tremaining: 2m 20s\n",
      "300:\ttest: 0.6862410\tbest: 0.6862410 (300)\ttotal: 15.1s\tremaining: 2m 15s\n",
      "400:\ttest: 0.6881160\tbest: 0.6882094 (393)\ttotal: 20.2s\tremaining: 2m 10s\n",
      "500:\ttest: 0.6886007\tbest: 0.6886535 (461)\ttotal: 25.2s\tremaining: 2m 5s\n",
      "600:\ttest: 0.6891582\tbest: 0.6892916 (584)\ttotal: 30.3s\tremaining: 2m 1s\n",
      "bestTest = 0.6892916262\n",
      "bestIteration = 584\n",
      "Shrink model to first 585 iterations.\n"
     ]
    },
    {
     "name": "stderr",
     "output_type": "stream",
     "text": [
      "Default metric period is 5 because AUC is/are not implemented for GPU\n"
     ]
    },
    {
     "name": "stdout",
     "output_type": "stream",
     "text": [
      "0:\ttest: 0.5068348\tbest: 0.5068348 (0)\ttotal: 46.7ms\tremaining: 2m 20s\n",
      "100:\ttest: 0.6818417\tbest: 0.6825048 (87)\ttotal: 5s\tremaining: 2m 23s\n",
      "200:\ttest: 0.6873289\tbest: 0.6873289 (200)\ttotal: 10.1s\tremaining: 2m 20s\n",
      "300:\ttest: 0.6887765\tbest: 0.6892891 (289)\ttotal: 15.1s\tremaining: 2m 15s\n",
      "400:\ttest: 0.6909877\tbest: 0.6910375 (398)\ttotal: 20.2s\tremaining: 2m 10s\n",
      "500:\ttest: 0.6910569\tbest: 0.6917871 (421)\ttotal: 25.3s\tremaining: 2m 6s\n",
      "bestTest = 0.6917870641\n",
      "bestIteration = 421\n",
      "Shrink model to first 422 iterations.\n"
     ]
    },
    {
     "name": "stderr",
     "output_type": "stream",
     "text": [
      "Default metric period is 5 because AUC is/are not implemented for GPU\n"
     ]
    },
    {
     "name": "stdout",
     "output_type": "stream",
     "text": [
      "0:\ttest: 0.5068348\tbest: 0.5068348 (0)\ttotal: 45.9ms\tremaining: 2m 17s\n",
      "100:\ttest: 0.6881946\tbest: 0.6889480 (76)\ttotal: 5.1s\tremaining: 2m 26s\n",
      "200:\ttest: 0.6918959\tbest: 0.6919303 (193)\ttotal: 10.2s\tremaining: 2m 21s\n",
      "300:\ttest: 0.6914937\tbest: 0.6934918 (231)\ttotal: 15.2s\tremaining: 2m 16s\n",
      "bestTest = 0.6934918463\n",
      "bestIteration = 231\n",
      "Shrink model to first 232 iterations.\n"
     ]
    },
    {
     "name": "stderr",
     "output_type": "stream",
     "text": [
      "Default metric period is 5 because AUC is/are not implemented for GPU\n"
     ]
    },
    {
     "name": "stdout",
     "output_type": "stream",
     "text": [
      "0:\ttest: 0.5044655\tbest: 0.5044655 (0)\ttotal: 46.7ms\tremaining: 2m 20s\n",
      "100:\ttest: 0.6537195\tbest: 0.6537195 (100)\ttotal: 4.9s\tremaining: 2m 20s\n",
      "200:\ttest: 0.6768943\tbest: 0.6770523 (198)\ttotal: 9.88s\tremaining: 2m 17s\n",
      "300:\ttest: 0.6817210\tbest: 0.6817302 (299)\ttotal: 15s\tremaining: 2m 14s\n",
      "400:\ttest: 0.6841612\tbest: 0.6841612 (400)\ttotal: 20.1s\tremaining: 2m 10s\n",
      "500:\ttest: 0.6855247\tbest: 0.6856774 (477)\ttotal: 25s\tremaining: 2m 4s\n",
      "600:\ttest: 0.6865446\tbest: 0.6865524 (596)\ttotal: 29.8s\tremaining: 1m 58s\n",
      "700:\ttest: 0.6872722\tbest: 0.6872803 (698)\ttotal: 34.6s\tremaining: 1m 53s\n",
      "800:\ttest: 0.6884821\tbest: 0.6884821 (800)\ttotal: 39.5s\tremaining: 1m 48s\n",
      "900:\ttest: 0.6895374\tbest: 0.6896302 (866)\ttotal: 44.3s\tremaining: 1m 43s\n",
      "1000:\ttest: 0.6898222\tbest: 0.6898880 (957)\ttotal: 49.1s\tremaining: 1m 38s\n",
      "1100:\ttest: 0.6906555\tbest: 0.6906768 (1094)\ttotal: 54s\tremaining: 1m 33s\n",
      "1200:\ttest: 0.6914349\tbest: 0.6914455 (1161)\ttotal: 58.8s\tremaining: 1m 28s\n",
      "1300:\ttest: 0.6914584\tbest: 0.6915432 (1282)\ttotal: 1m 3s\tremaining: 1m 23s\n",
      "1400:\ttest: 0.6918274\tbest: 0.6919034 (1384)\ttotal: 1m 8s\tremaining: 1m 18s\n",
      "1500:\ttest: 0.6923065\tbest: 0.6923475 (1494)\ttotal: 1m 13s\tremaining: 1m 13s\n",
      "1600:\ttest: 0.6924105\tbest: 0.6925988 (1543)\ttotal: 1m 18s\tremaining: 1m 8s\n",
      "1700:\ttest: 0.6924938\tbest: 0.6926649 (1639)\ttotal: 1m 23s\tremaining: 1m 4s\n",
      "bestTest = 0.6926649213\n",
      "bestIteration = 1639\n",
      "Shrink model to first 1640 iterations.\n"
     ]
    },
    {
     "name": "stderr",
     "output_type": "stream",
     "text": [
      "Default metric period is 5 because AUC is/are not implemented for GPU\n"
     ]
    },
    {
     "name": "stdout",
     "output_type": "stream",
     "text": [
      "0:\ttest: 0.5044655\tbest: 0.5044655 (0)\ttotal: 45.4ms\tremaining: 2m 16s\n",
      "100:\ttest: 0.6738562\tbest: 0.6738562 (100)\ttotal: 4.94s\tremaining: 2m 21s\n",
      "200:\ttest: 0.6838530\tbest: 0.6838723 (189)\ttotal: 10s\tremaining: 2m 19s\n",
      "300:\ttest: 0.6855504\tbest: 0.6855554 (298)\ttotal: 15s\tremaining: 2m 14s\n",
      "400:\ttest: 0.6884783\tbest: 0.6885266 (396)\ttotal: 20s\tremaining: 2m 9s\n",
      "500:\ttest: 0.6892639\tbest: 0.6896207 (474)\ttotal: 25.1s\tremaining: 2m 5s\n",
      "600:\ttest: 0.6904933\tbest: 0.6905048 (597)\ttotal: 30.1s\tremaining: 2m\n",
      "700:\ttest: 0.6910674\tbest: 0.6911064 (644)\ttotal: 35.2s\tremaining: 1m 55s\n",
      "800:\ttest: 0.6916918\tbest: 0.6918741 (790)\ttotal: 40.3s\tremaining: 1m 50s\n",
      "900:\ttest: 0.6921996\tbest: 0.6922894 (858)\ttotal: 45.4s\tremaining: 1m 45s\n",
      "1000:\ttest: 0.6927454\tbest: 0.6928365 (994)\ttotal: 50.4s\tremaining: 1m 40s\n",
      "bestTest = 0.6929344535\n",
      "bestIteration = 1007\n",
      "Shrink model to first 1008 iterations.\n"
     ]
    },
    {
     "name": "stderr",
     "output_type": "stream",
     "text": [
      "Default metric period is 5 because AUC is/are not implemented for GPU\n"
     ]
    },
    {
     "name": "stdout",
     "output_type": "stream",
     "text": [
      "0:\ttest: 0.5044655\tbest: 0.5044655 (0)\ttotal: 46.6ms\tremaining: 2m 19s\n",
      "100:\ttest: 0.6770470\tbest: 0.6774000 (99)\ttotal: 4.97s\tremaining: 2m 22s\n",
      "200:\ttest: 0.6844902\tbest: 0.6847052 (192)\ttotal: 9.94s\tremaining: 2m 18s\n",
      "300:\ttest: 0.6883301\tbest: 0.6883301 (300)\ttotal: 14.8s\tremaining: 2m 12s\n",
      "400:\ttest: 0.6898482\tbest: 0.6901906 (369)\ttotal: 19.6s\tremaining: 2m 6s\n",
      "bestTest = 0.6901906431\n",
      "bestIteration = 369\n",
      "Shrink model to first 370 iterations.\n"
     ]
    },
    {
     "name": "stderr",
     "output_type": "stream",
     "text": [
      "Default metric period is 5 because AUC is/are not implemented for GPU\n"
     ]
    },
    {
     "name": "stdout",
     "output_type": "stream",
     "text": [
      "0:\ttest: 0.5044655\tbest: 0.5044655 (0)\ttotal: 43.4ms\tremaining: 2m 10s\n",
      "100:\ttest: 0.6829871\tbest: 0.6830665 (99)\ttotal: 4.79s\tremaining: 2m 17s\n",
      "200:\ttest: 0.6902417\tbest: 0.6902417 (200)\ttotal: 9.61s\tremaining: 2m 13s\n",
      "300:\ttest: 0.6920649\tbest: 0.6923102 (289)\ttotal: 14.4s\tremaining: 2m 9s\n",
      "400:\ttest: 0.6953325\tbest: 0.6953386 (395)\ttotal: 19.3s\tremaining: 2m 4s\n",
      "500:\ttest: 0.6950829\tbest: 0.6955088 (485)\ttotal: 24.1s\tremaining: 2m\n",
      "bestTest = 0.6955088377\n",
      "bestIteration = 485\n",
      "Shrink model to first 486 iterations.\n"
     ]
    },
    {
     "name": "stderr",
     "output_type": "stream",
     "text": [
      "Default metric period is 5 because AUC is/are not implemented for GPU\n"
     ]
    },
    {
     "name": "stdout",
     "output_type": "stream",
     "text": [
      "0:\ttest: 0.5044655\tbest: 0.5044655 (0)\ttotal: 43.4ms\tremaining: 2m 10s\n",
      "100:\ttest: 0.6835829\tbest: 0.6839426 (89)\ttotal: 4.78s\tremaining: 2m 17s\n",
      "200:\ttest: 0.6916210\tbest: 0.6917884 (192)\ttotal: 9.6s\tremaining: 2m 13s\n",
      "300:\ttest: 0.6913133\tbest: 0.6925925 (268)\ttotal: 14.4s\tremaining: 2m 9s\n",
      "bestTest = 0.6925925314\n",
      "bestIteration = 268\n",
      "Shrink model to first 269 iterations.\n"
     ]
    },
    {
     "name": "stderr",
     "output_type": "stream",
     "text": [
      "Default metric period is 5 because AUC is/are not implemented for GPU\n"
     ]
    },
    {
     "name": "stdout",
     "output_type": "stream",
     "text": [
      "0:\ttest: 0.4977958\tbest: 0.4977958 (0)\ttotal: 45.5ms\tremaining: 2m 16s\n",
      "100:\ttest: 0.6601475\tbest: 0.6601475 (100)\ttotal: 4.64s\tremaining: 2m 13s\n",
      "200:\ttest: 0.6776195\tbest: 0.6779228 (196)\ttotal: 9.35s\tremaining: 2m 10s\n",
      "300:\ttest: 0.6822013\tbest: 0.6822162 (299)\ttotal: 14.2s\tremaining: 2m 7s\n",
      "400:\ttest: 0.6854112\tbest: 0.6854112 (400)\ttotal: 19s\tremaining: 2m 3s\n",
      "500:\ttest: 0.6865101\tbest: 0.6865101 (500)\ttotal: 23.8s\tremaining: 1m 58s\n",
      "600:\ttest: 0.6873234\tbest: 0.6873234 (600)\ttotal: 28.6s\tremaining: 1m 54s\n",
      "700:\ttest: 0.6879643\tbest: 0.6880204 (674)\ttotal: 33.4s\tremaining: 1m 49s\n",
      "800:\ttest: 0.6887361\tbest: 0.6887361 (800)\ttotal: 38.2s\tremaining: 1m 44s\n",
      "900:\ttest: 0.6896145\tbest: 0.6896885 (866)\ttotal: 43s\tremaining: 1m 40s\n",
      "1000:\ttest: 0.6899669\tbest: 0.6899674 (958)\ttotal: 47.8s\tremaining: 1m 35s\n",
      "1100:\ttest: 0.6905948\tbest: 0.6906700 (1088)\ttotal: 52.6s\tremaining: 1m 30s\n",
      "1200:\ttest: 0.6914183\tbest: 0.6914183 (1200)\ttotal: 57.4s\tremaining: 1m 26s\n",
      "1300:\ttest: 0.6914694\tbest: 0.6915233 (1288)\ttotal: 1m 2s\tremaining: 1m 21s\n",
      "1400:\ttest: 0.6918491\tbest: 0.6921031 (1381)\ttotal: 1m 7s\tremaining: 1m 16s\n",
      "1500:\ttest: 0.6924783\tbest: 0.6925149 (1496)\ttotal: 1m 11s\tremaining: 1m 11s\n",
      "1600:\ttest: 0.6929965\tbest: 0.6930535 (1589)\ttotal: 1m 16s\tremaining: 1m 7s\n",
      "1700:\ttest: 0.6931874\tbest: 0.6932148 (1699)\ttotal: 1m 21s\tremaining: 1m 2s\n",
      "1800:\ttest: 0.6935117\tbest: 0.6935261 (1796)\ttotal: 1m 26s\tremaining: 57.7s\n",
      "1900:\ttest: 0.6936345\tbest: 0.6936847 (1870)\ttotal: 1m 31s\tremaining: 52.9s\n",
      "bestTest = 0.6936846972\n",
      "bestIteration = 1870\n",
      "Shrink model to first 1871 iterations.\n"
     ]
    },
    {
     "name": "stderr",
     "output_type": "stream",
     "text": [
      "Default metric period is 5 because AUC is/are not implemented for GPU\n"
     ]
    },
    {
     "name": "stdout",
     "output_type": "stream",
     "text": [
      "0:\ttest: 0.4977958\tbest: 0.4977958 (0)\ttotal: 43.6ms\tremaining: 2m 10s\n",
      "100:\ttest: 0.6742733\tbest: 0.6742733 (100)\ttotal: 4.71s\tremaining: 2m 15s\n",
      "200:\ttest: 0.6835771\tbest: 0.6836835 (178)\ttotal: 9.54s\tremaining: 2m 12s\n",
      "300:\ttest: 0.6864857\tbest: 0.6865813 (299)\ttotal: 14.4s\tremaining: 2m 9s\n",
      "400:\ttest: 0.6889860\tbest: 0.6889860 (400)\ttotal: 19.2s\tremaining: 2m 4s\n",
      "500:\ttest: 0.6897225\tbest: 0.6897337 (499)\ttotal: 24s\tremaining: 1m 59s\n",
      "600:\ttest: 0.6901710\tbest: 0.6902735 (594)\ttotal: 28.8s\tremaining: 1m 54s\n",
      "700:\ttest: 0.6907932\tbest: 0.6908411 (696)\ttotal: 33.6s\tremaining: 1m 50s\n",
      "800:\ttest: 0.6918488\tbest: 0.6918488 (800)\ttotal: 38.4s\tremaining: 1m 45s\n",
      "900:\ttest: 0.6920225\tbest: 0.6920853 (839)\ttotal: 43.2s\tremaining: 1m 40s\n",
      "1000:\ttest: 0.6929048\tbest: 0.6929345 (997)\ttotal: 48s\tremaining: 1m 35s\n",
      "1100:\ttest: 0.6929463\tbest: 0.6929961 (1084)\ttotal: 52.8s\tremaining: 1m 31s\n",
      "bestTest = 0.6929960847\n",
      "bestIteration = 1084\n",
      "Shrink model to first 1085 iterations.\n"
     ]
    },
    {
     "name": "stderr",
     "output_type": "stream",
     "text": [
      "Default metric period is 5 because AUC is/are not implemented for GPU\n"
     ]
    },
    {
     "name": "stdout",
     "output_type": "stream",
     "text": [
      "0:\ttest: 0.4977958\tbest: 0.4977958 (0)\ttotal: 43ms\tremaining: 2m 9s\n",
      "100:\ttest: 0.6796149\tbest: 0.6800586 (94)\ttotal: 4.69s\tremaining: 2m 14s\n",
      "200:\ttest: 0.6863960\tbest: 0.6867684 (192)\ttotal: 9.46s\tremaining: 2m 11s\n",
      "300:\ttest: 0.6892737\tbest: 0.6893630 (270)\ttotal: 14.2s\tremaining: 2m 7s\n",
      "400:\ttest: 0.6914486\tbest: 0.6914648 (399)\ttotal: 19s\tremaining: 2m 3s\n",
      "500:\ttest: 0.6917655\tbest: 0.6918720 (487)\ttotal: 23.7s\tremaining: 1m 58s\n",
      "600:\ttest: 0.6924183\tbest: 0.6928936 (582)\ttotal: 28.5s\tremaining: 1m 53s\n",
      "bestTest = 0.6928935945\n",
      "bestIteration = 582\n",
      "Shrink model to first 583 iterations.\n"
     ]
    },
    {
     "name": "stderr",
     "output_type": "stream",
     "text": [
      "Default metric period is 5 because AUC is/are not implemented for GPU\n"
     ]
    },
    {
     "name": "stdout",
     "output_type": "stream",
     "text": [
      "0:\ttest: 0.4977958\tbest: 0.4977958 (0)\ttotal: 44.6ms\tremaining: 2m 13s\n",
      "100:\ttest: 0.6823418\tbest: 0.6824143 (99)\ttotal: 5.01s\tremaining: 2m 23s\n",
      "200:\ttest: 0.6891738\tbest: 0.6891738 (200)\ttotal: 10.1s\tremaining: 2m 20s\n",
      "300:\ttest: 0.6918727\tbest: 0.6921577 (294)\ttotal: 15.2s\tremaining: 2m 16s\n",
      "400:\ttest: 0.6927576\tbest: 0.6932744 (392)\ttotal: 20.3s\tremaining: 2m 11s\n",
      "bestTest = 0.6932743788\n",
      "bestIteration = 392\n",
      "Shrink model to first 393 iterations.\n"
     ]
    },
    {
     "name": "stderr",
     "output_type": "stream",
     "text": [
      "Default metric period is 5 because AUC is/are not implemented for GPU\n"
     ]
    },
    {
     "name": "stdout",
     "output_type": "stream",
     "text": [
      "0:\ttest: 0.4977958\tbest: 0.4977958 (0)\ttotal: 46ms\tremaining: 2m 17s\n",
      "100:\ttest: 0.6814616\tbest: 0.6814857 (79)\ttotal: 5.02s\tremaining: 2m 24s\n",
      "200:\ttest: 0.6884116\tbest: 0.6884335 (197)\ttotal: 10.1s\tremaining: 2m 20s\n",
      "300:\ttest: 0.6930669\tbest: 0.6933456 (291)\ttotal: 15.3s\tremaining: 2m 17s\n",
      "400:\ttest: 0.6931837\tbest: 0.6933967 (324)\ttotal: 20.4s\tremaining: 2m 12s\n",
      "bestTest = 0.6936583519\n",
      "bestIteration = 418\n",
      "Shrink model to first 419 iterations.\n"
     ]
    },
    {
     "name": "stderr",
     "output_type": "stream",
     "text": [
      "Default metric period is 5 because AUC is/are not implemented for GPU\n"
     ]
    },
    {
     "name": "stdout",
     "output_type": "stream",
     "text": [
      "0:\ttest: 0.5027403\tbest: 0.5027403 (0)\ttotal: 46.8ms\tremaining: 2m 20s\n",
      "100:\ttest: 0.6543968\tbest: 0.6543968 (100)\ttotal: 4.85s\tremaining: 2m 19s\n",
      "200:\ttest: 0.6778102\tbest: 0.6780578 (198)\ttotal: 9.86s\tremaining: 2m 17s\n",
      "300:\ttest: 0.6831101\tbest: 0.6831146 (299)\ttotal: 15s\tremaining: 2m 14s\n",
      "400:\ttest: 0.6864278\tbest: 0.6864278 (400)\ttotal: 20.1s\tremaining: 2m 10s\n",
      "500:\ttest: 0.6880309\tbest: 0.6880309 (500)\ttotal: 25.1s\tremaining: 2m 5s\n",
      "600:\ttest: 0.6886789\tbest: 0.6887148 (576)\ttotal: 30.1s\tremaining: 2m\n",
      "700:\ttest: 0.6890186\tbest: 0.6891927 (674)\ttotal: 35.1s\tremaining: 1m 55s\n",
      "800:\ttest: 0.6894639\tbest: 0.6894639 (800)\ttotal: 40.2s\tremaining: 1m 50s\n",
      "900:\ttest: 0.6903716\tbest: 0.6903716 (900)\ttotal: 45.2s\tremaining: 1m 45s\n",
      "1000:\ttest: 0.6905800\tbest: 0.6906487 (946)\ttotal: 50.3s\tremaining: 1m 40s\n",
      "1100:\ttest: 0.6909523\tbest: 0.6910108 (1091)\ttotal: 55.3s\tremaining: 1m 35s\n",
      "1200:\ttest: 0.6916334\tbest: 0.6916334 (1200)\ttotal: 1m\tremaining: 1m 30s\n",
      "1300:\ttest: 0.6919724\tbest: 0.6919724 (1300)\ttotal: 1m 5s\tremaining: 1m 25s\n",
      "1400:\ttest: 0.6922828\tbest: 0.6924301 (1381)\ttotal: 1m 10s\tremaining: 1m 20s\n",
      "1500:\ttest: 0.6927720\tbest: 0.6928423 (1496)\ttotal: 1m 15s\tremaining: 1m 15s\n",
      "1600:\ttest: 0.6933216\tbest: 0.6933540 (1598)\ttotal: 1m 20s\tremaining: 1m 10s\n",
      "1700:\ttest: 0.6933256\tbest: 0.6934451 (1695)\ttotal: 1m 25s\tremaining: 1m 5s\n",
      "bestTest = 0.6934451163\n",
      "bestIteration = 1695\n",
      "Shrink model to first 1696 iterations.\n"
     ]
    },
    {
     "name": "stderr",
     "output_type": "stream",
     "text": [
      "Default metric period is 5 because AUC is/are not implemented for GPU\n"
     ]
    },
    {
     "name": "stdout",
     "output_type": "stream",
     "text": [
      "0:\ttest: 0.5027403\tbest: 0.5027403 (0)\ttotal: 46ms\tremaining: 2m 17s\n",
      "100:\ttest: 0.6745389\tbest: 0.6745389 (100)\ttotal: 4.99s\tremaining: 2m 23s\n",
      "200:\ttest: 0.6836910\tbest: 0.6836970 (196)\ttotal: 10.1s\tremaining: 2m 20s\n",
      "300:\ttest: 0.6871660\tbest: 0.6872938 (298)\ttotal: 15.1s\tremaining: 2m 15s\n",
      "400:\ttest: 0.6893241\tbest: 0.6894502 (393)\ttotal: 20.2s\tremaining: 2m 10s\n",
      "500:\ttest: 0.6889755\tbest: 0.6895614 (427)\ttotal: 25.2s\tremaining: 2m 5s\n",
      "bestTest = 0.6895613968\n",
      "bestIteration = 427\n",
      "Shrink model to first 428 iterations.\n"
     ]
    },
    {
     "name": "stderr",
     "output_type": "stream",
     "text": [
      "Default metric period is 5 because AUC is/are not implemented for GPU\n"
     ]
    },
    {
     "name": "stdout",
     "output_type": "stream",
     "text": [
      "0:\ttest: 0.5027403\tbest: 0.5027403 (0)\ttotal: 47.7ms\tremaining: 2m 23s\n",
      "100:\ttest: 0.6755042\tbest: 0.6764164 (89)\ttotal: 5.01s\tremaining: 2m 23s\n",
      "200:\ttest: 0.6843513\tbest: 0.6844176 (198)\ttotal: 10.1s\tremaining: 2m 20s\n",
      "300:\ttest: 0.6879412\tbest: 0.6879989 (294)\ttotal: 15.2s\tremaining: 2m 15s\n",
      "400:\ttest: 0.6907496\tbest: 0.6910561 (374)\ttotal: 20.2s\tremaining: 2m 11s\n",
      "500:\ttest: 0.6919422\tbest: 0.6925082 (477)\ttotal: 25.3s\tremaining: 2m 6s\n",
      "600:\ttest: 0.6929895\tbest: 0.6933460 (583)\ttotal: 30.4s\tremaining: 2m 1s\n",
      "bestTest = 0.693345964\n",
      "bestIteration = 583\n",
      "Shrink model to first 584 iterations.\n"
     ]
    },
    {
     "name": "stderr",
     "output_type": "stream",
     "text": [
      "Default metric period is 5 because AUC is/are not implemented for GPU\n"
     ]
    },
    {
     "name": "stdout",
     "output_type": "stream",
     "text": [
      "0:\ttest: 0.5027403\tbest: 0.5027403 (0)\ttotal: 45.8ms\tremaining: 2m 17s\n",
      "100:\ttest: 0.6842636\tbest: 0.6843563 (99)\ttotal: 5.12s\tremaining: 2m 26s\n",
      "200:\ttest: 0.6902396\tbest: 0.6903509 (192)\ttotal: 10.2s\tremaining: 2m 22s\n",
      "300:\ttest: 0.6934284\tbest: 0.6934434 (299)\ttotal: 15.3s\tremaining: 2m 17s\n",
      "400:\ttest: 0.6950464\tbest: 0.6952171 (395)\ttotal: 20.4s\tremaining: 2m 12s\n",
      "bestTest = 0.695525825\n",
      "bestIteration = 418\n",
      "Shrink model to first 419 iterations.\n"
     ]
    },
    {
     "name": "stderr",
     "output_type": "stream",
     "text": [
      "Default metric period is 5 because AUC is/are not implemented for GPU\n"
     ]
    },
    {
     "name": "stdout",
     "output_type": "stream",
     "text": [
      "0:\ttest: 0.5027403\tbest: 0.5027403 (0)\ttotal: 46.2ms\tremaining: 2m 18s\n",
      "100:\ttest: 0.6851996\tbest: 0.6855710 (79)\ttotal: 5.09s\tremaining: 2m 26s\n",
      "200:\ttest: 0.6925502\tbest: 0.6925502 (200)\ttotal: 10.2s\tremaining: 2m 21s\n",
      "300:\ttest: 0.6954355\tbest: 0.6956678 (231)\ttotal: 15.3s\tremaining: 2m 17s\n",
      "bestTest = 0.6956677735\n",
      "bestIteration = 231\n",
      "Shrink model to first 232 iterations.\n"
     ]
    },
    {
     "name": "stderr",
     "output_type": "stream",
     "text": [
      "Default metric period is 5 because AUC is/are not implemented for GPU\n"
     ]
    },
    {
     "name": "stdout",
     "output_type": "stream",
     "text": [
      "0:\ttest: 0.5115089\tbest: 0.5115089 (0)\ttotal: 118ms\tremaining: 58.7s\n",
      "100:\ttest: 0.6518429\tbest: 0.6520536 (99)\ttotal: 12.1s\tremaining: 47.6s\n",
      "200:\ttest: 0.6730587\tbest: 0.6731268 (199)\ttotal: 24.4s\tremaining: 36.3s\n",
      "300:\ttest: 0.6787929\tbest: 0.6788389 (296)\ttotal: 37s\tremaining: 24.4s\n",
      "400:\ttest: 0.6829245\tbest: 0.6829245 (400)\ttotal: 49.6s\tremaining: 12.2s\n",
      "499:\ttest: 0.6842690\tbest: 0.6843105 (498)\ttotal: 1m 1s\tremaining: 0us\n",
      "bestTest = 0.6843104661\n",
      "bestIteration = 498\n",
      "Shrink model to first 499 iterations.\n"
     ]
    },
    {
     "name": "stderr",
     "output_type": "stream",
     "text": [
      "Default metric period is 5 because AUC is/are not implemented for GPU\n"
     ]
    },
    {
     "name": "stdout",
     "output_type": "stream",
     "text": [
      "0:\ttest: 0.5115089\tbest: 0.5115089 (0)\ttotal: 116ms\tremaining: 58.1s\n",
      "100:\ttest: 0.6736213\tbest: 0.6736213 (100)\ttotal: 12.3s\tremaining: 48.4s\n",
      "200:\ttest: 0.6828439\tbest: 0.6830374 (199)\ttotal: 24.8s\tremaining: 36.9s\n",
      "300:\ttest: 0.6848649\tbest: 0.6853450 (284)\ttotal: 37.3s\tremaining: 24.7s\n",
      "400:\ttest: 0.6871480\tbest: 0.6871480 (400)\ttotal: 49.9s\tremaining: 12.3s\n",
      "499:\ttest: 0.6869951\tbest: 0.6879690 (464)\ttotal: 1m 2s\tremaining: 0us\n",
      "bestTest = 0.6879690289\n",
      "bestIteration = 464\n",
      "Shrink model to first 465 iterations.\n"
     ]
    },
    {
     "name": "stderr",
     "output_type": "stream",
     "text": [
      "Default metric period is 5 because AUC is/are not implemented for GPU\n"
     ]
    },
    {
     "name": "stdout",
     "output_type": "stream",
     "text": [
      "0:\ttest: 0.5115089\tbest: 0.5115089 (0)\ttotal: 118ms\tremaining: 58.7s\n",
      "100:\ttest: 0.6778263\tbest: 0.6778315 (98)\ttotal: 12.4s\tremaining: 48.9s\n",
      "200:\ttest: 0.6845806\tbest: 0.6851730 (197)\ttotal: 24.8s\tremaining: 36.9s\n",
      "300:\ttest: 0.6871324\tbest: 0.6876992 (289)\ttotal: 37.2s\tremaining: 24.6s\n",
      "400:\ttest: 0.6874338\tbest: 0.6884686 (335)\ttotal: 49.7s\tremaining: 12.3s\n",
      "bestTest = 0.6884686053\n",
      "bestIteration = 335\n",
      "Shrink model to first 336 iterations.\n"
     ]
    },
    {
     "name": "stderr",
     "output_type": "stream",
     "text": [
      "Default metric period is 5 because AUC is/are not implemented for GPU\n"
     ]
    },
    {
     "name": "stdout",
     "output_type": "stream",
     "text": [
      "0:\ttest: 0.5115089\tbest: 0.5115089 (0)\ttotal: 119ms\tremaining: 59.6s\n",
      "100:\ttest: 0.6780067\tbest: 0.6783530 (89)\ttotal: 12.4s\tremaining: 49.1s\n",
      "200:\ttest: 0.6830119\tbest: 0.6830119 (200)\ttotal: 24.8s\tremaining: 36.9s\n",
      "300:\ttest: 0.6832012\tbest: 0.6850940 (236)\ttotal: 37.3s\tremaining: 24.6s\n",
      "bestTest = 0.6850940287\n",
      "bestIteration = 236\n",
      "Shrink model to first 237 iterations.\n"
     ]
    },
    {
     "name": "stderr",
     "output_type": "stream",
     "text": [
      "Default metric period is 5 because AUC is/are not implemented for GPU\n"
     ]
    },
    {
     "name": "stdout",
     "output_type": "stream",
     "text": [
      "0:\ttest: 0.5115089\tbest: 0.5115089 (0)\ttotal: 118ms\tremaining: 59s\n",
      "100:\ttest: 0.6782370\tbest: 0.6800392 (53)\ttotal: 12.4s\tremaining: 49.1s\n",
      "200:\ttest: 0.6836441\tbest: 0.6837509 (199)\ttotal: 24.8s\tremaining: 36.9s\n",
      "bestTest = 0.6851514876\n",
      "bestIteration = 209\n",
      "Shrink model to first 210 iterations.\n"
     ]
    },
    {
     "name": "stderr",
     "output_type": "stream",
     "text": [
      "Default metric period is 5 because AUC is/are not implemented for GPU\n"
     ]
    },
    {
     "name": "stdout",
     "output_type": "stream",
     "text": [
      "0:\ttest: 0.5272352\tbest: 0.5272352 (0)\ttotal: 118ms\tremaining: 59.1s\n",
      "100:\ttest: 0.6541376\tbest: 0.6541376 (100)\ttotal: 12.2s\tremaining: 48.3s\n",
      "200:\ttest: 0.6761395\tbest: 0.6761415 (198)\ttotal: 24.6s\tremaining: 36.6s\n",
      "300:\ttest: 0.6835328\tbest: 0.6835328 (300)\ttotal: 37.1s\tremaining: 24.6s\n",
      "400:\ttest: 0.6860912\tbest: 0.6860912 (400)\ttotal: 49.8s\tremaining: 12.3s\n",
      "499:\ttest: 0.6873128\tbest: 0.6874145 (498)\ttotal: 1m 2s\tremaining: 0us\n",
      "bestTest = 0.6874144673\n",
      "bestIteration = 498\n",
      "Shrink model to first 499 iterations.\n"
     ]
    },
    {
     "name": "stderr",
     "output_type": "stream",
     "text": [
      "Default metric period is 5 because AUC is/are not implemented for GPU\n"
     ]
    },
    {
     "name": "stdout",
     "output_type": "stream",
     "text": [
      "0:\ttest: 0.5272352\tbest: 0.5272352 (0)\ttotal: 117ms\tremaining: 58.6s\n",
      "100:\ttest: 0.6735795\tbest: 0.6735795 (100)\ttotal: 12.3s\tremaining: 48.6s\n",
      "200:\ttest: 0.6834253\tbest: 0.6837411 (199)\ttotal: 24.9s\tremaining: 37.1s\n",
      "300:\ttest: 0.6859432\tbest: 0.6859793 (286)\ttotal: 36.4s\tremaining: 24.1s\n",
      "400:\ttest: 0.6897323\tbest: 0.6897323 (400)\ttotal: 48s\tremaining: 11.8s\n",
      "499:\ttest: 0.6901361\tbest: 0.6904985 (463)\ttotal: 59.3s\tremaining: 0us\n",
      "bestTest = 0.6904984713\n",
      "bestIteration = 463\n",
      "Shrink model to first 464 iterations.\n"
     ]
    },
    {
     "name": "stderr",
     "output_type": "stream",
     "text": [
      "Default metric period is 5 because AUC is/are not implemented for GPU\n"
     ]
    },
    {
     "name": "stdout",
     "output_type": "stream",
     "text": [
      "0:\ttest: 0.5272352\tbest: 0.5272352 (0)\ttotal: 108ms\tremaining: 53.8s\n",
      "100:\ttest: 0.6799353\tbest: 0.6800646 (99)\ttotal: 11.5s\tremaining: 45.2s\n",
      "200:\ttest: 0.6843316\tbest: 0.6848106 (165)\ttotal: 23.1s\tremaining: 34.3s\n",
      "300:\ttest: 0.6856999\tbest: 0.6858079 (235)\ttotal: 34.5s\tremaining: 22.8s\n",
      "400:\ttest: 0.6866497\tbest: 0.6866497 (400)\ttotal: 46.1s\tremaining: 11.4s\n",
      "499:\ttest: 0.6861255\tbest: 0.6872237 (429)\ttotal: 57.8s\tremaining: 0us\n",
      "bestTest = 0.6872236729\n",
      "bestIteration = 429\n",
      "Shrink model to first 430 iterations.\n"
     ]
    },
    {
     "name": "stderr",
     "output_type": "stream",
     "text": [
      "Default metric period is 5 because AUC is/are not implemented for GPU\n"
     ]
    },
    {
     "name": "stdout",
     "output_type": "stream",
     "text": [
      "0:\ttest: 0.5272352\tbest: 0.5272352 (0)\ttotal: 108ms\tremaining: 54s\n",
      "100:\ttest: 0.6798078\tbest: 0.6802268 (89)\ttotal: 11.5s\tremaining: 45.5s\n",
      "200:\ttest: 0.6864539\tbest: 0.6865830 (197)\ttotal: 23.1s\tremaining: 34.3s\n",
      "300:\ttest: 0.6859197\tbest: 0.6868238 (222)\ttotal: 34.6s\tremaining: 22.9s\n",
      "bestTest = 0.6868238449\n",
      "bestIteration = 222\n",
      "Shrink model to first 223 iterations.\n"
     ]
    },
    {
     "name": "stderr",
     "output_type": "stream",
     "text": [
      "Default metric period is 5 because AUC is/are not implemented for GPU\n"
     ]
    },
    {
     "name": "stdout",
     "output_type": "stream",
     "text": [
      "0:\ttest: 0.5272352\tbest: 0.5272352 (0)\ttotal: 109ms\tremaining: 54.5s\n",
      "100:\ttest: 0.6863091\tbest: 0.6867561 (98)\ttotal: 11.7s\tremaining: 46.1s\n",
      "200:\ttest: 0.6901807\tbest: 0.6902914 (198)\ttotal: 23.4s\tremaining: 34.8s\n",
      "300:\ttest: 0.6895901\tbest: 0.6906500 (246)\ttotal: 34.9s\tremaining: 23.1s\n",
      "400:\ttest: 0.6904894\tbest: 0.6912061 (369)\ttotal: 46.5s\tremaining: 11.5s\n",
      "bestTest = 0.6912060678\n",
      "bestIteration = 369\n",
      "Shrink model to first 370 iterations.\n"
     ]
    },
    {
     "name": "stderr",
     "output_type": "stream",
     "text": [
      "Default metric period is 5 because AUC is/are not implemented for GPU\n"
     ]
    },
    {
     "name": "stdout",
     "output_type": "stream",
     "text": [
      "0:\ttest: 0.5242485\tbest: 0.5242485 (0)\ttotal: 110ms\tremaining: 54.8s\n",
      "100:\ttest: 0.6514028\tbest: 0.6514028 (100)\ttotal: 10.9s\tremaining: 43.2s\n",
      "200:\ttest: 0.6766957\tbest: 0.6772375 (193)\ttotal: 22.4s\tremaining: 33.3s\n",
      "300:\ttest: 0.6820167\tbest: 0.6820167 (300)\ttotal: 34s\tremaining: 22.5s\n",
      "400:\ttest: 0.6863590\tbest: 0.6863689 (399)\ttotal: 45.6s\tremaining: 11.3s\n",
      "499:\ttest: 0.6872994\tbest: 0.6872994 (499)\ttotal: 57.1s\tremaining: 0us\n",
      "bestTest = 0.6872993708\n",
      "bestIteration = 499\n"
     ]
    },
    {
     "name": "stderr",
     "output_type": "stream",
     "text": [
      "Default metric period is 5 because AUC is/are not implemented for GPU\n"
     ]
    },
    {
     "name": "stdout",
     "output_type": "stream",
     "text": [
      "0:\ttest: 0.5242485\tbest: 0.5242485 (0)\ttotal: 106ms\tremaining: 53.1s\n",
      "100:\ttest: 0.6733060\tbest: 0.6736375 (89)\ttotal: 11.3s\tremaining: 44.6s\n",
      "200:\ttest: 0.6828378\tbest: 0.6828818 (199)\ttotal: 22.9s\tremaining: 34s\n",
      "300:\ttest: 0.6853755\tbest: 0.6855378 (297)\ttotal: 34.4s\tremaining: 22.8s\n",
      "400:\ttest: 0.6874105\tbest: 0.6874624 (380)\ttotal: 45.9s\tremaining: 11.3s\n",
      "499:\ttest: 0.6878679\tbest: 0.6886110 (444)\ttotal: 57.3s\tremaining: 0us\n",
      "bestTest = 0.688610971\n",
      "bestIteration = 444\n",
      "Shrink model to first 445 iterations.\n"
     ]
    },
    {
     "name": "stderr",
     "output_type": "stream",
     "text": [
      "Default metric period is 5 because AUC is/are not implemented for GPU\n"
     ]
    },
    {
     "name": "stdout",
     "output_type": "stream",
     "text": [
      "0:\ttest: 0.5242485\tbest: 0.5242485 (0)\ttotal: 108ms\tremaining: 53.7s\n",
      "100:\ttest: 0.6827772\tbest: 0.6827772 (100)\ttotal: 11.5s\tremaining: 45.4s\n",
      "200:\ttest: 0.6882447\tbest: 0.6886665 (195)\ttotal: 23.1s\tremaining: 34.3s\n",
      "300:\ttest: 0.6902407\tbest: 0.6904784 (289)\ttotal: 34.7s\tremaining: 22.9s\n",
      "400:\ttest: 0.6906976\tbest: 0.6911384 (391)\ttotal: 46.3s\tremaining: 11.4s\n",
      "499:\ttest: 0.6913691\tbest: 0.6921160 (469)\ttotal: 57.9s\tremaining: 0us\n",
      "bestTest = 0.6921159923\n",
      "bestIteration = 469\n",
      "Shrink model to first 470 iterations.\n"
     ]
    },
    {
     "name": "stderr",
     "output_type": "stream",
     "text": [
      "Default metric period is 5 because AUC is/are not implemented for GPU\n"
     ]
    },
    {
     "name": "stdout",
     "output_type": "stream",
     "text": [
      "0:\ttest: 0.5242485\tbest: 0.5242485 (0)\ttotal: 108ms\tremaining: 54s\n",
      "100:\ttest: 0.6805189\tbest: 0.6814333 (95)\ttotal: 11.5s\tremaining: 45.5s\n",
      "200:\ttest: 0.6899101\tbest: 0.6900810 (197)\ttotal: 23.2s\tremaining: 34.5s\n",
      "300:\ttest: 0.6931938\tbest: 0.6933469 (268)\ttotal: 34.9s\tremaining: 23.1s\n",
      "400:\ttest: 0.6934246\tbest: 0.6944440 (333)\ttotal: 46.7s\tremaining: 11.5s\n",
      "bestTest = 0.6944439709\n",
      "bestIteration = 333\n",
      "Shrink model to first 334 iterations.\n"
     ]
    },
    {
     "name": "stderr",
     "output_type": "stream",
     "text": [
      "Default metric period is 5 because AUC is/are not implemented for GPU\n"
     ]
    },
    {
     "name": "stdout",
     "output_type": "stream",
     "text": [
      "0:\ttest: 0.5242485\tbest: 0.5242485 (0)\ttotal: 108ms\tremaining: 53.9s\n",
      "100:\ttest: 0.6838430\tbest: 0.6847794 (88)\ttotal: 11.6s\tremaining: 46s\n",
      "200:\ttest: 0.6867320\tbest: 0.6867948 (187)\ttotal: 23.3s\tremaining: 34.7s\n",
      "300:\ttest: 0.6872662\tbest: 0.6878776 (266)\ttotal: 35s\tremaining: 23.1s\n",
      "bestTest = 0.6878776252\n",
      "bestIteration = 266\n",
      "Shrink model to first 267 iterations.\n"
     ]
    },
    {
     "name": "stderr",
     "output_type": "stream",
     "text": [
      "Default metric period is 5 because AUC is/are not implemented for GPU\n"
     ]
    },
    {
     "name": "stdout",
     "output_type": "stream",
     "text": [
      "0:\ttest: 0.5178145\tbest: 0.5178145 (0)\ttotal: 109ms\tremaining: 54.1s\n",
      "100:\ttest: 0.6539491\tbest: 0.6539491 (100)\ttotal: 11.1s\tremaining: 43.9s\n",
      "200:\ttest: 0.6779270\tbest: 0.6780502 (192)\ttotal: 22.7s\tremaining: 33.7s\n",
      "300:\ttest: 0.6827651\tbest: 0.6827651 (300)\ttotal: 34.4s\tremaining: 22.8s\n",
      "400:\ttest: 0.6861962\tbest: 0.6861962 (400)\ttotal: 46.3s\tremaining: 11.4s\n",
      "499:\ttest: 0.6883042\tbest: 0.6883042 (499)\ttotal: 58.3s\tremaining: 0us\n",
      "bestTest = 0.6883042157\n",
      "bestIteration = 499\n"
     ]
    },
    {
     "name": "stderr",
     "output_type": "stream",
     "text": [
      "Default metric period is 5 because AUC is/are not implemented for GPU\n"
     ]
    },
    {
     "name": "stdout",
     "output_type": "stream",
     "text": [
      "0:\ttest: 0.5178145\tbest: 0.5178145 (0)\ttotal: 114ms\tremaining: 56.7s\n",
      "100:\ttest: 0.6808808\tbest: 0.6808808 (100)\ttotal: 11.8s\tremaining: 46.7s\n",
      "200:\ttest: 0.6848034\tbest: 0.6849926 (190)\ttotal: 23.7s\tremaining: 35.3s\n",
      "300:\ttest: 0.6885563\tbest: 0.6886431 (296)\ttotal: 35.4s\tremaining: 23.4s\n",
      "400:\ttest: 0.6907728\tbest: 0.6908640 (390)\ttotal: 47.1s\tremaining: 11.6s\n",
      "499:\ttest: 0.6914417\tbest: 0.6916353 (472)\ttotal: 58.7s\tremaining: 0us\n",
      "bestTest = 0.691635251\n",
      "bestIteration = 472\n",
      "Shrink model to first 473 iterations.\n"
     ]
    },
    {
     "name": "stderr",
     "output_type": "stream",
     "text": [
      "Default metric period is 5 because AUC is/are not implemented for GPU\n"
     ]
    },
    {
     "name": "stdout",
     "output_type": "stream",
     "text": [
      "0:\ttest: 0.5178145\tbest: 0.5178145 (0)\ttotal: 109ms\tremaining: 54.4s\n",
      "100:\ttest: 0.6833601\tbest: 0.6834788 (97)\ttotal: 11.6s\tremaining: 45.7s\n",
      "200:\ttest: 0.6876944\tbest: 0.6888922 (157)\ttotal: 23.1s\tremaining: 34.4s\n",
      "300:\ttest: 0.6915946\tbest: 0.6917344 (292)\ttotal: 34.7s\tremaining: 23s\n",
      "400:\ttest: 0.6925323\tbest: 0.6928375 (382)\ttotal: 46.4s\tremaining: 11.5s\n",
      "499:\ttest: 0.6919531\tbest: 0.6930077 (474)\ttotal: 57.9s\tremaining: 0us\n",
      "bestTest = 0.6930077076\n",
      "bestIteration = 474\n",
      "Shrink model to first 475 iterations.\n"
     ]
    },
    {
     "name": "stderr",
     "output_type": "stream",
     "text": [
      "Default metric period is 5 because AUC is/are not implemented for GPU\n"
     ]
    },
    {
     "name": "stdout",
     "output_type": "stream",
     "text": [
      "0:\ttest: 0.5178145\tbest: 0.5178145 (0)\ttotal: 109ms\tremaining: 54.3s\n",
      "100:\ttest: 0.6817006\tbest: 0.6819904 (98)\ttotal: 11.5s\tremaining: 45.5s\n",
      "200:\ttest: 0.6878884\tbest: 0.6885868 (191)\ttotal: 23.1s\tremaining: 34.4s\n",
      "300:\ttest: 0.6925501\tbest: 0.6925501 (300)\ttotal: 34.8s\tremaining: 23s\n",
      "400:\ttest: 0.6938044\tbest: 0.6938242 (399)\ttotal: 46.4s\tremaining: 11.5s\n",
      "499:\ttest: 0.6933844\tbest: 0.6950320 (463)\ttotal: 58.1s\tremaining: 0us\n",
      "bestTest = 0.6950320005\n",
      "bestIteration = 463\n",
      "Shrink model to first 464 iterations.\n"
     ]
    },
    {
     "name": "stderr",
     "output_type": "stream",
     "text": [
      "Default metric period is 5 because AUC is/are not implemented for GPU\n"
     ]
    },
    {
     "name": "stdout",
     "output_type": "stream",
     "text": [
      "0:\ttest: 0.5178145\tbest: 0.5178145 (0)\ttotal: 113ms\tremaining: 56.3s\n",
      "100:\ttest: 0.6847328\tbest: 0.6849297 (98)\ttotal: 11.9s\tremaining: 47.2s\n",
      "200:\ttest: 0.6882667\tbest: 0.6888672 (188)\ttotal: 23.7s\tremaining: 35.2s\n",
      "bestTest = 0.6888672411\n",
      "bestIteration = 188\n",
      "Shrink model to first 189 iterations.\n"
     ]
    },
    {
     "name": "stderr",
     "output_type": "stream",
     "text": [
      "Default metric period is 5 because AUC is/are not implemented for GPU\n"
     ]
    },
    {
     "name": "stdout",
     "output_type": "stream",
     "text": [
      "0:\ttest: 0.5178145\tbest: 0.5178145 (0)\ttotal: 108ms\tremaining: 53.8s\n",
      "100:\ttest: 0.6496317\tbest: 0.6496317 (100)\ttotal: 11s\tremaining: 43.6s\n",
      "200:\ttest: 0.6782123\tbest: 0.6782691 (192)\ttotal: 22.9s\tremaining: 34.1s\n",
      "300:\ttest: 0.6823157\tbest: 0.6823364 (299)\ttotal: 34.9s\tremaining: 23.1s\n",
      "400:\ttest: 0.6864843\tbest: 0.6864843 (400)\ttotal: 46.9s\tremaining: 11.6s\n",
      "499:\ttest: 0.6880364\tbest: 0.6880364 (499)\ttotal: 58.7s\tremaining: 0us\n",
      "bestTest = 0.6880364418\n",
      "bestIteration = 499\n"
     ]
    },
    {
     "name": "stderr",
     "output_type": "stream",
     "text": [
      "Default metric period is 5 because AUC is/are not implemented for GPU\n"
     ]
    },
    {
     "name": "stdout",
     "output_type": "stream",
     "text": [
      "0:\ttest: 0.5178145\tbest: 0.5178145 (0)\ttotal: 111ms\tremaining: 55.6s\n",
      "100:\ttest: 0.6749967\tbest: 0.6751577 (89)\ttotal: 11.7s\tremaining: 46.1s\n",
      "200:\ttest: 0.6836345\tbest: 0.6837077 (197)\ttotal: 23.8s\tremaining: 35.4s\n",
      "300:\ttest: 0.6853316\tbest: 0.6858509 (284)\ttotal: 35.6s\tremaining: 23.5s\n",
      "400:\ttest: 0.6875552\tbest: 0.6875739 (398)\ttotal: 47.3s\tremaining: 11.7s\n",
      "499:\ttest: 0.6897499\tbest: 0.6897499 (499)\ttotal: 58.9s\tremaining: 0us\n",
      "bestTest = 0.6897499263\n",
      "bestIteration = 499\n"
     ]
    },
    {
     "name": "stderr",
     "output_type": "stream",
     "text": [
      "Default metric period is 5 because AUC is/are not implemented for GPU\n"
     ]
    },
    {
     "name": "stdout",
     "output_type": "stream",
     "text": [
      "0:\ttest: 0.5178145\tbest: 0.5178145 (0)\ttotal: 106ms\tremaining: 53.1s\n",
      "100:\ttest: 0.6851253\tbest: 0.6851253 (100)\ttotal: 12.3s\tremaining: 48.5s\n",
      "200:\ttest: 0.6889363\tbest: 0.6898650 (159)\ttotal: 24.8s\tremaining: 36.9s\n",
      "300:\ttest: 0.6923009\tbest: 0.6923009 (300)\ttotal: 37.3s\tremaining: 24.6s\n",
      "400:\ttest: 0.6944589\tbest: 0.6944589 (400)\ttotal: 49.8s\tremaining: 12.3s\n",
      "499:\ttest: 0.6946771\tbest: 0.6956307 (469)\ttotal: 1m 2s\tremaining: 0us\n",
      "bestTest = 0.6956306696\n",
      "bestIteration = 469\n",
      "Shrink model to first 470 iterations.\n"
     ]
    },
    {
     "name": "stderr",
     "output_type": "stream",
     "text": [
      "Default metric period is 5 because AUC is/are not implemented for GPU\n"
     ]
    },
    {
     "name": "stdout",
     "output_type": "stream",
     "text": [
      "0:\ttest: 0.5178145\tbest: 0.5178145 (0)\ttotal: 117ms\tremaining: 58.4s\n",
      "100:\ttest: 0.6859019\tbest: 0.6860876 (98)\ttotal: 12.5s\tremaining: 49.5s\n",
      "200:\ttest: 0.6909714\tbest: 0.6913314 (198)\ttotal: 25s\tremaining: 37.1s\n",
      "300:\ttest: 0.6950628\tbest: 0.6950628 (300)\ttotal: 37.4s\tremaining: 24.7s\n",
      "400:\ttest: 0.6969725\tbest: 0.6969890 (399)\ttotal: 50s\tremaining: 12.3s\n",
      "bestTest = 0.6973170936\n",
      "bestIteration = 405\n",
      "Shrink model to first 406 iterations.\n"
     ]
    },
    {
     "name": "stderr",
     "output_type": "stream",
     "text": [
      "Default metric period is 5 because AUC is/are not implemented for GPU\n"
     ]
    },
    {
     "name": "stdout",
     "output_type": "stream",
     "text": [
      "0:\ttest: 0.5178145\tbest: 0.5178145 (0)\ttotal: 115ms\tremaining: 57.2s\n",
      "100:\ttest: 0.6847519\tbest: 0.6853975 (82)\ttotal: 12.5s\tremaining: 49.6s\n",
      "200:\ttest: 0.6875847\tbest: 0.6881809 (175)\ttotal: 25s\tremaining: 37.2s\n",
      "300:\ttest: 0.6920289\tbest: 0.6920289 (300)\ttotal: 37.6s\tremaining: 24.9s\n",
      "bestTest = 0.6925856769\n",
      "bestIteration = 315\n",
      "Shrink model to first 316 iterations.\n"
     ]
    },
    {
     "name": "stderr",
     "output_type": "stream",
     "text": [
      "Default metric period is 5 because AUC is/are not implemented for GPU\n"
     ]
    },
    {
     "name": "stdout",
     "output_type": "stream",
     "text": [
      "0:\ttest: 0.5115089\tbest: 0.5115089 (0)\ttotal: 107ms\tremaining: 1m 47s\n",
      "100:\ttest: 0.6518429\tbest: 0.6520536 (99)\ttotal: 11.4s\tremaining: 1m 41s\n",
      "200:\ttest: 0.6730587\tbest: 0.6731268 (199)\ttotal: 22.8s\tremaining: 1m 30s\n",
      "300:\ttest: 0.6787929\tbest: 0.6788389 (296)\ttotal: 34.8s\tremaining: 1m 20s\n",
      "400:\ttest: 0.6829245\tbest: 0.6829245 (400)\ttotal: 46.6s\tremaining: 1m 9s\n",
      "500:\ttest: 0.6842913\tbest: 0.6843105 (498)\ttotal: 58.5s\tremaining: 58.3s\n",
      "600:\ttest: 0.6848809\tbest: 0.6849787 (597)\ttotal: 1m 10s\tremaining: 47s\n",
      "700:\ttest: 0.6853325\tbest: 0.6856858 (657)\ttotal: 1m 23s\tremaining: 35.5s\n",
      "800:\ttest: 0.6872014\tbest: 0.6872014 (800)\ttotal: 1m 34s\tremaining: 23.5s\n",
      "900:\ttest: 0.6878488\tbest: 0.6878488 (900)\ttotal: 1m 46s\tremaining: 11.7s\n",
      "999:\ttest: 0.6876934\tbest: 0.6880686 (945)\ttotal: 1m 57s\tremaining: 0us\n",
      "bestTest = 0.6880685687\n",
      "bestIteration = 945\n",
      "Shrink model to first 946 iterations.\n"
     ]
    },
    {
     "name": "stderr",
     "output_type": "stream",
     "text": [
      "Default metric period is 5 because AUC is/are not implemented for GPU\n"
     ]
    },
    {
     "name": "stdout",
     "output_type": "stream",
     "text": [
      "0:\ttest: 0.5115089\tbest: 0.5115089 (0)\ttotal: 112ms\tremaining: 1m 51s\n",
      "100:\ttest: 0.6736213\tbest: 0.6736213 (100)\ttotal: 11.4s\tremaining: 1m 41s\n",
      "200:\ttest: 0.6828439\tbest: 0.6830374 (199)\ttotal: 23.2s\tremaining: 1m 32s\n",
      "300:\ttest: 0.6848649\tbest: 0.6853450 (284)\ttotal: 35.1s\tremaining: 1m 21s\n",
      "400:\ttest: 0.6871480\tbest: 0.6871480 (400)\ttotal: 47s\tremaining: 1m 10s\n",
      "500:\ttest: 0.6871155\tbest: 0.6879690 (464)\ttotal: 58.5s\tremaining: 58.3s\n",
      "bestTest = 0.6879690289\n",
      "bestIteration = 464\n",
      "Shrink model to first 465 iterations.\n"
     ]
    },
    {
     "name": "stderr",
     "output_type": "stream",
     "text": [
      "Default metric period is 5 because AUC is/are not implemented for GPU\n"
     ]
    },
    {
     "name": "stdout",
     "output_type": "stream",
     "text": [
      "0:\ttest: 0.5115089\tbest: 0.5115089 (0)\ttotal: 108ms\tremaining: 1m 48s\n",
      "100:\ttest: 0.6778263\tbest: 0.6778315 (98)\ttotal: 11.6s\tremaining: 1m 42s\n",
      "200:\ttest: 0.6845806\tbest: 0.6851730 (197)\ttotal: 23.2s\tremaining: 1m 32s\n",
      "300:\ttest: 0.6871324\tbest: 0.6876992 (289)\ttotal: 34.9s\tremaining: 1m 20s\n",
      "400:\ttest: 0.6874338\tbest: 0.6884686 (335)\ttotal: 46.5s\tremaining: 1m 9s\n",
      "bestTest = 0.6884686053\n",
      "bestIteration = 335\n",
      "Shrink model to first 336 iterations.\n"
     ]
    },
    {
     "name": "stderr",
     "output_type": "stream",
     "text": [
      "Default metric period is 5 because AUC is/are not implemented for GPU\n"
     ]
    },
    {
     "name": "stdout",
     "output_type": "stream",
     "text": [
      "0:\ttest: 0.5115089\tbest: 0.5115089 (0)\ttotal: 108ms\tremaining: 1m 47s\n",
      "100:\ttest: 0.6780067\tbest: 0.6783530 (89)\ttotal: 11.6s\tremaining: 1m 43s\n",
      "200:\ttest: 0.6830119\tbest: 0.6830119 (200)\ttotal: 23.3s\tremaining: 1m 32s\n",
      "300:\ttest: 0.6832012\tbest: 0.6850940 (236)\ttotal: 34.9s\tremaining: 1m 21s\n",
      "bestTest = 0.6850940287\n",
      "bestIteration = 236\n",
      "Shrink model to first 237 iterations.\n"
     ]
    },
    {
     "name": "stderr",
     "output_type": "stream",
     "text": [
      "Default metric period is 5 because AUC is/are not implemented for GPU\n"
     ]
    },
    {
     "name": "stdout",
     "output_type": "stream",
     "text": [
      "0:\ttest: 0.5115089\tbest: 0.5115089 (0)\ttotal: 108ms\tremaining: 1m 48s\n",
      "100:\ttest: 0.6782370\tbest: 0.6800392 (53)\ttotal: 11.6s\tremaining: 1m 43s\n",
      "200:\ttest: 0.6836441\tbest: 0.6837509 (199)\ttotal: 23.2s\tremaining: 1m 32s\n",
      "bestTest = 0.6851514876\n",
      "bestIteration = 209\n",
      "Shrink model to first 210 iterations.\n"
     ]
    },
    {
     "name": "stderr",
     "output_type": "stream",
     "text": [
      "Default metric period is 5 because AUC is/are not implemented for GPU\n"
     ]
    },
    {
     "name": "stdout",
     "output_type": "stream",
     "text": [
      "0:\ttest: 0.5272352\tbest: 0.5272352 (0)\ttotal: 108ms\tremaining: 1m 47s\n",
      "100:\ttest: 0.6541376\tbest: 0.6541376 (100)\ttotal: 11.4s\tremaining: 1m 41s\n",
      "200:\ttest: 0.6761395\tbest: 0.6761415 (198)\ttotal: 23.3s\tremaining: 1m 32s\n",
      "300:\ttest: 0.6835328\tbest: 0.6835328 (300)\ttotal: 35.4s\tremaining: 1m 22s\n",
      "400:\ttest: 0.6860912\tbest: 0.6860912 (400)\ttotal: 47.4s\tremaining: 1m 10s\n",
      "500:\ttest: 0.6872685\tbest: 0.6874145 (498)\ttotal: 59.5s\tremaining: 59.3s\n",
      "600:\ttest: 0.6874831\tbest: 0.6876007 (545)\ttotal: 1m 11s\tremaining: 47.2s\n",
      "700:\ttest: 0.6881645\tbest: 0.6882722 (682)\ttotal: 1m 22s\tremaining: 35.3s\n",
      "800:\ttest: 0.6891048\tbest: 0.6891475 (763)\ttotal: 1m 34s\tremaining: 23.4s\n",
      "bestTest = 0.6892958283\n",
      "bestIteration = 809\n",
      "Shrink model to first 810 iterations.\n"
     ]
    },
    {
     "name": "stderr",
     "output_type": "stream",
     "text": [
      "Default metric period is 5 because AUC is/are not implemented for GPU\n"
     ]
    },
    {
     "name": "stdout",
     "output_type": "stream",
     "text": [
      "0:\ttest: 0.5272352\tbest: 0.5272352 (0)\ttotal: 111ms\tremaining: 1m 50s\n",
      "100:\ttest: 0.6735795\tbest: 0.6735795 (100)\ttotal: 11.5s\tremaining: 1m 41s\n",
      "200:\ttest: 0.6834253\tbest: 0.6837411 (199)\ttotal: 23s\tremaining: 1m 31s\n",
      "300:\ttest: 0.6859458\tbest: 0.6859808 (286)\ttotal: 34.6s\tremaining: 1m 20s\n",
      "400:\ttest: 0.6897336\tbest: 0.6897336 (400)\ttotal: 46.3s\tremaining: 1m 9s\n",
      "500:\ttest: 0.6901511\tbest: 0.6905000 (463)\ttotal: 57.8s\tremaining: 57.6s\n",
      "bestTest = 0.6904999614\n",
      "bestIteration = 463\n",
      "Shrink model to first 464 iterations.\n"
     ]
    },
    {
     "name": "stderr",
     "output_type": "stream",
     "text": [
      "Default metric period is 5 because AUC is/are not implemented for GPU\n"
     ]
    },
    {
     "name": "stdout",
     "output_type": "stream",
     "text": [
      "0:\ttest: 0.5272352\tbest: 0.5272352 (0)\ttotal: 106ms\tremaining: 1m 46s\n",
      "100:\ttest: 0.6799353\tbest: 0.6800646 (99)\ttotal: 11.6s\tremaining: 1m 43s\n",
      "200:\ttest: 0.6843316\tbest: 0.6848106 (165)\ttotal: 23.4s\tremaining: 1m 32s\n",
      "300:\ttest: 0.6856999\tbest: 0.6858079 (235)\ttotal: 34.9s\tremaining: 1m 21s\n",
      "400:\ttest: 0.6866497\tbest: 0.6866497 (400)\ttotal: 46.7s\tremaining: 1m 9s\n",
      "500:\ttest: 0.6861903\tbest: 0.6872237 (429)\ttotal: 58.5s\tremaining: 58.3s\n",
      "bestTest = 0.6872236729\n",
      "bestIteration = 429\n",
      "Shrink model to first 430 iterations.\n"
     ]
    },
    {
     "name": "stderr",
     "output_type": "stream",
     "text": [
      "Default metric period is 5 because AUC is/are not implemented for GPU\n"
     ]
    },
    {
     "name": "stdout",
     "output_type": "stream",
     "text": [
      "0:\ttest: 0.5272352\tbest: 0.5272352 (0)\ttotal: 116ms\tremaining: 1m 55s\n",
      "100:\ttest: 0.6798078\tbest: 0.6802268 (89)\ttotal: 11.8s\tremaining: 1m 44s\n",
      "200:\ttest: 0.6864540\tbest: 0.6865829 (197)\ttotal: 23.6s\tremaining: 1m 33s\n",
      "300:\ttest: 0.6859202\tbest: 0.6868235 (222)\ttotal: 35.2s\tremaining: 1m 21s\n",
      "bestTest = 0.6868235469\n",
      "bestIteration = 222\n",
      "Shrink model to first 223 iterations.\n"
     ]
    },
    {
     "name": "stderr",
     "output_type": "stream",
     "text": [
      "Default metric period is 5 because AUC is/are not implemented for GPU\n"
     ]
    },
    {
     "name": "stdout",
     "output_type": "stream",
     "text": [
      "0:\ttest: 0.5272352\tbest: 0.5272352 (0)\ttotal: 107ms\tremaining: 1m 47s\n",
      "100:\ttest: 0.6863304\tbest: 0.6867774 (98)\ttotal: 11.7s\tremaining: 1m 44s\n",
      "200:\ttest: 0.6901887\tbest: 0.6902989 (198)\ttotal: 23.4s\tremaining: 1m 32s\n",
      "300:\ttest: 0.6896192\tbest: 0.6906585 (246)\ttotal: 35.1s\tremaining: 1m 21s\n",
      "400:\ttest: 0.6905188\tbest: 0.6912335 (369)\ttotal: 46.8s\tremaining: 1m 9s\n",
      "bestTest = 0.6912335157\n",
      "bestIteration = 369\n",
      "Shrink model to first 370 iterations.\n"
     ]
    },
    {
     "name": "stderr",
     "output_type": "stream",
     "text": [
      "Default metric period is 5 because AUC is/are not implemented for GPU\n"
     ]
    },
    {
     "name": "stdout",
     "output_type": "stream",
     "text": [
      "0:\ttest: 0.5242485\tbest: 0.5242485 (0)\ttotal: 114ms\tremaining: 1m 53s\n",
      "100:\ttest: 0.6514028\tbest: 0.6514028 (100)\ttotal: 11.2s\tremaining: 1m 39s\n",
      "200:\ttest: 0.6766957\tbest: 0.6772375 (193)\ttotal: 22.7s\tremaining: 1m 30s\n",
      "300:\ttest: 0.6820167\tbest: 0.6820167 (300)\ttotal: 34.4s\tremaining: 1m 19s\n",
      "400:\ttest: 0.6863590\tbest: 0.6863689 (399)\ttotal: 46.7s\tremaining: 1m 9s\n",
      "500:\ttest: 0.6873854\tbest: 0.6873854 (500)\ttotal: 58.9s\tremaining: 58.6s\n",
      "600:\ttest: 0.6882071\tbest: 0.6882908 (596)\ttotal: 1m 10s\tremaining: 47.1s\n",
      "700:\ttest: 0.6882285\tbest: 0.6887499 (681)\ttotal: 1m 23s\tremaining: 35.6s\n",
      "bestTest = 0.6887499392\n",
      "bestIteration = 681\n",
      "Shrink model to first 682 iterations.\n"
     ]
    },
    {
     "name": "stderr",
     "output_type": "stream",
     "text": [
      "Default metric period is 5 because AUC is/are not implemented for GPU\n"
     ]
    },
    {
     "name": "stdout",
     "output_type": "stream",
     "text": [
      "0:\ttest: 0.5242485\tbest: 0.5242485 (0)\ttotal: 114ms\tremaining: 1m 54s\n",
      "100:\ttest: 0.6733060\tbest: 0.6736375 (89)\ttotal: 12.1s\tremaining: 1m 47s\n",
      "200:\ttest: 0.6828378\tbest: 0.6828818 (199)\ttotal: 24.4s\tremaining: 1m 36s\n",
      "300:\ttest: 0.6853798\tbest: 0.6855424 (297)\ttotal: 36s\tremaining: 1m 23s\n",
      "400:\ttest: 0.6874149\tbest: 0.6874668 (380)\ttotal: 47.5s\tremaining: 1m 10s\n",
      "500:\ttest: 0.6878343\tbest: 0.6886180 (444)\ttotal: 59.2s\tremaining: 58.9s\n",
      "bestTest = 0.6886180341\n",
      "bestIteration = 444\n",
      "Shrink model to first 445 iterations.\n"
     ]
    },
    {
     "name": "stderr",
     "output_type": "stream",
     "text": [
      "Default metric period is 5 because AUC is/are not implemented for GPU\n"
     ]
    },
    {
     "name": "stdout",
     "output_type": "stream",
     "text": [
      "0:\ttest: 0.5242485\tbest: 0.5242485 (0)\ttotal: 108ms\tremaining: 1m 47s\n",
      "100:\ttest: 0.6827772\tbest: 0.6827772 (100)\ttotal: 11.8s\tremaining: 1m 44s\n",
      "200:\ttest: 0.6882447\tbest: 0.6886665 (195)\ttotal: 23.9s\tremaining: 1m 35s\n",
      "300:\ttest: 0.6902407\tbest: 0.6904784 (289)\ttotal: 36.1s\tremaining: 1m 23s\n",
      "400:\ttest: 0.6906976\tbest: 0.6911384 (391)\ttotal: 48.2s\tremaining: 1m 12s\n",
      "500:\ttest: 0.6914725\tbest: 0.6921160 (469)\ttotal: 1m\tremaining: 1m\n",
      "bestTest = 0.6921159923\n",
      "bestIteration = 469\n",
      "Shrink model to first 470 iterations.\n"
     ]
    },
    {
     "name": "stderr",
     "output_type": "stream",
     "text": [
      "Default metric period is 5 because AUC is/are not implemented for GPU\n"
     ]
    },
    {
     "name": "stdout",
     "output_type": "stream",
     "text": [
      "0:\ttest: 0.5242485\tbest: 0.5242485 (0)\ttotal: 107ms\tremaining: 1m 47s\n",
      "100:\ttest: 0.6805189\tbest: 0.6814333 (95)\ttotal: 11.6s\tremaining: 1m 43s\n",
      "200:\ttest: 0.6899101\tbest: 0.6900810 (197)\ttotal: 23.2s\tremaining: 1m 32s\n",
      "300:\ttest: 0.6932023\tbest: 0.6933469 (268)\ttotal: 35.1s\tremaining: 1m 21s\n",
      "400:\ttest: 0.6934312\tbest: 0.6944527 (333)\ttotal: 46.9s\tremaining: 1m 10s\n",
      "bestTest = 0.6944527328\n",
      "bestIteration = 333\n",
      "Shrink model to first 334 iterations.\n"
     ]
    },
    {
     "name": "stderr",
     "output_type": "stream",
     "text": [
      "Default metric period is 5 because AUC is/are not implemented for GPU\n"
     ]
    },
    {
     "name": "stdout",
     "output_type": "stream",
     "text": [
      "0:\ttest: 0.5242485\tbest: 0.5242485 (0)\ttotal: 107ms\tremaining: 1m 46s\n",
      "100:\ttest: 0.6838322\tbest: 0.6847794 (88)\ttotal: 11.7s\tremaining: 1m 43s\n",
      "200:\ttest: 0.6867265\tbest: 0.6867881 (187)\ttotal: 23.3s\tremaining: 1m 32s\n",
      "300:\ttest: 0.6872628\tbest: 0.6878742 (266)\ttotal: 35.3s\tremaining: 1m 21s\n",
      "bestTest = 0.687874198\n",
      "bestIteration = 266\n",
      "Shrink model to first 267 iterations.\n"
     ]
    },
    {
     "name": "stderr",
     "output_type": "stream",
     "text": [
      "Default metric period is 5 because AUC is/are not implemented for GPU\n"
     ]
    },
    {
     "name": "stdout",
     "output_type": "stream",
     "text": [
      "0:\ttest: 0.5178145\tbest: 0.5178145 (0)\ttotal: 107ms\tremaining: 1m 46s\n",
      "100:\ttest: 0.6539491\tbest: 0.6539491 (100)\ttotal: 11.5s\tremaining: 1m 42s\n",
      "200:\ttest: 0.6779270\tbest: 0.6780502 (192)\ttotal: 23.7s\tremaining: 1m 34s\n",
      "300:\ttest: 0.6827651\tbest: 0.6827651 (300)\ttotal: 36s\tremaining: 1m 23s\n",
      "400:\ttest: 0.6861962\tbest: 0.6861962 (400)\ttotal: 48.2s\tremaining: 1m 12s\n",
      "500:\ttest: 0.6883468\tbest: 0.6883468 (500)\ttotal: 1m\tremaining: 1m\n",
      "600:\ttest: 0.6896692\tbest: 0.6896692 (600)\ttotal: 1m 12s\tremaining: 48.2s\n",
      "700:\ttest: 0.6901589\tbest: 0.6902011 (692)\ttotal: 1m 24s\tremaining: 35.9s\n",
      "800:\ttest: 0.6910445\tbest: 0.6910709 (799)\ttotal: 1m 36s\tremaining: 23.9s\n",
      "bestTest = 0.6911510229\n",
      "bestIteration = 814\n",
      "Shrink model to first 815 iterations.\n"
     ]
    },
    {
     "name": "stderr",
     "output_type": "stream",
     "text": [
      "Default metric period is 5 because AUC is/are not implemented for GPU\n"
     ]
    },
    {
     "name": "stdout",
     "output_type": "stream",
     "text": [
      "0:\ttest: 0.5178145\tbest: 0.5178145 (0)\ttotal: 114ms\tremaining: 1m 54s\n",
      "100:\ttest: 0.6808808\tbest: 0.6808808 (100)\ttotal: 12.1s\tremaining: 1m 47s\n",
      "200:\ttest: 0.6848010\tbest: 0.6849897 (190)\ttotal: 24.3s\tremaining: 1m 36s\n",
      "300:\ttest: 0.6885547\tbest: 0.6886419 (296)\ttotal: 36.6s\tremaining: 1m 25s\n",
      "400:\ttest: 0.6907719\tbest: 0.6908624 (390)\ttotal: 48.9s\tremaining: 1m 12s\n",
      "500:\ttest: 0.6914824\tbest: 0.6916337 (472)\ttotal: 1m 1s\tremaining: 1m\n",
      "600:\ttest: 0.6918220\tbest: 0.6920969 (584)\ttotal: 1m 13s\tremaining: 48.7s\n",
      "bestTest = 0.692096889\n",
      "bestIteration = 584\n",
      "Shrink model to first 585 iterations.\n"
     ]
    },
    {
     "name": "stderr",
     "output_type": "stream",
     "text": [
      "Default metric period is 5 because AUC is/are not implemented for GPU\n"
     ]
    },
    {
     "name": "stdout",
     "output_type": "stream",
     "text": [
      "0:\ttest: 0.5178145\tbest: 0.5178145 (0)\ttotal: 116ms\tremaining: 1m 56s\n",
      "100:\ttest: 0.6833601\tbest: 0.6834788 (97)\ttotal: 12.1s\tremaining: 1m 47s\n",
      "200:\ttest: 0.6877016\tbest: 0.6888922 (157)\ttotal: 24.3s\tremaining: 1m 36s\n",
      "300:\ttest: 0.6916035\tbest: 0.6917368 (292)\ttotal: 36.5s\tremaining: 1m 24s\n",
      "400:\ttest: 0.6925391\tbest: 0.6928430 (382)\ttotal: 48.8s\tremaining: 1m 12s\n",
      "500:\ttest: 0.6920440\tbest: 0.6930133 (474)\ttotal: 1m 1s\tremaining: 1m\n",
      "bestTest = 0.6930132508\n",
      "bestIteration = 474\n",
      "Shrink model to first 475 iterations.\n"
     ]
    },
    {
     "name": "stderr",
     "output_type": "stream",
     "text": [
      "Default metric period is 5 because AUC is/are not implemented for GPU\n"
     ]
    },
    {
     "name": "stdout",
     "output_type": "stream",
     "text": [
      "0:\ttest: 0.5178145\tbest: 0.5178145 (0)\ttotal: 112ms\tremaining: 1m 51s\n",
      "100:\ttest: 0.6817006\tbest: 0.6819904 (98)\ttotal: 12.2s\tremaining: 1m 48s\n",
      "200:\ttest: 0.6878984\tbest: 0.6885877 (191)\ttotal: 24.4s\tremaining: 1m 37s\n",
      "300:\ttest: 0.6925606\tbest: 0.6925606 (300)\ttotal: 36.8s\tremaining: 1m 25s\n",
      "400:\ttest: 0.6938117\tbest: 0.6938315 (399)\ttotal: 49.2s\tremaining: 1m 13s\n",
      "500:\ttest: 0.6935067\tbest: 0.6950396 (463)\ttotal: 1m 1s\tremaining: 1m 1s\n",
      "bestTest = 0.6950396299\n",
      "bestIteration = 463\n",
      "Shrink model to first 464 iterations.\n"
     ]
    },
    {
     "name": "stderr",
     "output_type": "stream",
     "text": [
      "Default metric period is 5 because AUC is/are not implemented for GPU\n"
     ]
    },
    {
     "name": "stdout",
     "output_type": "stream",
     "text": [
      "0:\ttest: 0.5178145\tbest: 0.5178145 (0)\ttotal: 114ms\tremaining: 1m 53s\n",
      "100:\ttest: 0.6847458\tbest: 0.6849423 (98)\ttotal: 12.2s\tremaining: 1m 48s\n",
      "200:\ttest: 0.6882742\tbest: 0.6888746 (188)\ttotal: 24.4s\tremaining: 1m 36s\n",
      "bestTest = 0.6888746321\n",
      "bestIteration = 188\n",
      "Shrink model to first 189 iterations.\n"
     ]
    },
    {
     "name": "stderr",
     "output_type": "stream",
     "text": [
      "Default metric period is 5 because AUC is/are not implemented for GPU\n"
     ]
    },
    {
     "name": "stdout",
     "output_type": "stream",
     "text": [
      "0:\ttest: 0.5178145\tbest: 0.5178145 (0)\ttotal: 107ms\tremaining: 1m 46s\n",
      "100:\ttest: 0.6496317\tbest: 0.6496317 (100)\ttotal: 11.1s\tremaining: 1m 38s\n",
      "200:\ttest: 0.6782123\tbest: 0.6782691 (192)\ttotal: 22.6s\tremaining: 1m 29s\n",
      "300:\ttest: 0.6823157\tbest: 0.6823364 (299)\ttotal: 34.3s\tremaining: 1m 19s\n",
      "400:\ttest: 0.6864843\tbest: 0.6864843 (400)\ttotal: 46.1s\tremaining: 1m 8s\n",
      "500:\ttest: 0.6880777\tbest: 0.6880777 (500)\ttotal: 57.8s\tremaining: 57.6s\n",
      "600:\ttest: 0.6893388\tbest: 0.6893406 (595)\ttotal: 1m 9s\tremaining: 46s\n",
      "700:\ttest: 0.6894848\tbest: 0.6895149 (692)\ttotal: 1m 20s\tremaining: 34.5s\n",
      "800:\ttest: 0.6901757\tbest: 0.6903685 (768)\ttotal: 1m 32s\tremaining: 23s\n",
      "bestTest = 0.6903685033\n",
      "bestIteration = 768\n",
      "Shrink model to first 769 iterations.\n"
     ]
    },
    {
     "name": "stderr",
     "output_type": "stream",
     "text": [
      "Default metric period is 5 because AUC is/are not implemented for GPU\n"
     ]
    },
    {
     "name": "stdout",
     "output_type": "stream",
     "text": [
      "0:\ttest: 0.5178145\tbest: 0.5178145 (0)\ttotal: 113ms\tremaining: 1m 52s\n",
      "100:\ttest: 0.6749967\tbest: 0.6751577 (89)\ttotal: 11.4s\tremaining: 1m 41s\n",
      "200:\ttest: 0.6836345\tbest: 0.6837077 (197)\ttotal: 23.2s\tremaining: 1m 32s\n",
      "300:\ttest: 0.6853302\tbest: 0.6858492 (284)\ttotal: 34.9s\tremaining: 1m 21s\n",
      "400:\ttest: 0.6875605\tbest: 0.6875792 (398)\ttotal: 46.7s\tremaining: 1m 9s\n",
      "500:\ttest: 0.6897936\tbest: 0.6897936 (500)\ttotal: 58.7s\tremaining: 58.5s\n",
      "600:\ttest: 0.6899667\tbest: 0.6904891 (563)\ttotal: 1m 10s\tremaining: 47s\n",
      "bestTest = 0.6904891431\n",
      "bestIteration = 563\n",
      "Shrink model to first 564 iterations.\n"
     ]
    },
    {
     "name": "stderr",
     "output_type": "stream",
     "text": [
      "Default metric period is 5 because AUC is/are not implemented for GPU\n"
     ]
    },
    {
     "name": "stdout",
     "output_type": "stream",
     "text": [
      "0:\ttest: 0.5178145\tbest: 0.5178145 (0)\ttotal: 112ms\tremaining: 1m 51s\n",
      "100:\ttest: 0.6851253\tbest: 0.6851253 (100)\ttotal: 12.1s\tremaining: 1m 47s\n",
      "200:\ttest: 0.6889363\tbest: 0.6898650 (159)\ttotal: 24.3s\tremaining: 1m 36s\n",
      "300:\ttest: 0.6923009\tbest: 0.6923009 (300)\ttotal: 36.1s\tremaining: 1m 23s\n",
      "400:\ttest: 0.6944589\tbest: 0.6944589 (400)\ttotal: 47.7s\tremaining: 1m 11s\n",
      "500:\ttest: 0.6946329\tbest: 0.6956307 (469)\ttotal: 59.4s\tremaining: 59.2s\n",
      "bestTest = 0.6956306696\n",
      "bestIteration = 469\n",
      "Shrink model to first 470 iterations.\n"
     ]
    },
    {
     "name": "stderr",
     "output_type": "stream",
     "text": [
      "Default metric period is 5 because AUC is/are not implemented for GPU\n"
     ]
    },
    {
     "name": "stdout",
     "output_type": "stream",
     "text": [
      "0:\ttest: 0.5178145\tbest: 0.5178145 (0)\ttotal: 110ms\tremaining: 1m 49s\n",
      "100:\ttest: 0.6859019\tbest: 0.6860876 (98)\ttotal: 11.8s\tremaining: 1m 44s\n",
      "200:\ttest: 0.6909714\tbest: 0.6913314 (198)\ttotal: 23.5s\tremaining: 1m 33s\n",
      "300:\ttest: 0.6950634\tbest: 0.6950634 (300)\ttotal: 35.1s\tremaining: 1m 21s\n",
      "400:\ttest: 0.6969732\tbest: 0.6969897 (399)\ttotal: 47s\tremaining: 1m 10s\n",
      "bestTest = 0.6973173916\n",
      "bestIteration = 405\n",
      "Shrink model to first 406 iterations.\n"
     ]
    },
    {
     "name": "stderr",
     "output_type": "stream",
     "text": [
      "Default metric period is 5 because AUC is/are not implemented for GPU\n"
     ]
    },
    {
     "name": "stdout",
     "output_type": "stream",
     "text": [
      "0:\ttest: 0.5178145\tbest: 0.5178145 (0)\ttotal: 113ms\tremaining: 1m 52s\n",
      "100:\ttest: 0.6847519\tbest: 0.6853975 (82)\ttotal: 11.8s\tremaining: 1m 45s\n",
      "200:\ttest: 0.6875847\tbest: 0.6881809 (175)\ttotal: 23.6s\tremaining: 1m 33s\n",
      "300:\ttest: 0.6920289\tbest: 0.6920289 (300)\ttotal: 35.4s\tremaining: 1m 22s\n",
      "bestTest = 0.6925856769\n",
      "bestIteration = 315\n",
      "Shrink model to first 316 iterations.\n"
     ]
    },
    {
     "name": "stderr",
     "output_type": "stream",
     "text": [
      "Default metric period is 5 because AUC is/are not implemented for GPU\n"
     ]
    },
    {
     "name": "stdout",
     "output_type": "stream",
     "text": [
      "0:\ttest: 0.5115089\tbest: 0.5115089 (0)\ttotal: 109ms\tremaining: 2m 42s\n",
      "100:\ttest: 0.6518429\tbest: 0.6520536 (99)\ttotal: 11.3s\tremaining: 2m 36s\n",
      "200:\ttest: 0.6730587\tbest: 0.6731268 (199)\ttotal: 22.8s\tremaining: 2m 27s\n",
      "300:\ttest: 0.6787929\tbest: 0.6788389 (296)\ttotal: 34.3s\tremaining: 2m 16s\n",
      "400:\ttest: 0.6829245\tbest: 0.6829245 (400)\ttotal: 46s\tremaining: 2m 6s\n",
      "500:\ttest: 0.6842913\tbest: 0.6843105 (498)\ttotal: 57.5s\tremaining: 1m 54s\n",
      "600:\ttest: 0.6848809\tbest: 0.6849787 (597)\ttotal: 1m 9s\tremaining: 1m 43s\n",
      "700:\ttest: 0.6853325\tbest: 0.6856858 (657)\ttotal: 1m 20s\tremaining: 1m 32s\n",
      "800:\ttest: 0.6871988\tbest: 0.6871988 (800)\ttotal: 1m 32s\tremaining: 1m 20s\n",
      "900:\ttest: 0.6878458\tbest: 0.6878458 (900)\ttotal: 1m 44s\tremaining: 1m 9s\n",
      "1000:\ttest: 0.6876777\tbest: 0.6880659 (945)\ttotal: 1m 55s\tremaining: 57.7s\n",
      "bestTest = 0.6880658865\n",
      "bestIteration = 945\n",
      "Shrink model to first 946 iterations.\n"
     ]
    },
    {
     "name": "stderr",
     "output_type": "stream",
     "text": [
      "Default metric period is 5 because AUC is/are not implemented for GPU\n"
     ]
    },
    {
     "name": "stdout",
     "output_type": "stream",
     "text": [
      "0:\ttest: 0.5115089\tbest: 0.5115089 (0)\ttotal: 110ms\tremaining: 2m 45s\n",
      "100:\ttest: 0.6736213\tbest: 0.6736213 (100)\ttotal: 11.5s\tremaining: 2m 39s\n",
      "200:\ttest: 0.6828439\tbest: 0.6830374 (199)\ttotal: 23.3s\tremaining: 2m 30s\n",
      "300:\ttest: 0.6848649\tbest: 0.6853450 (284)\ttotal: 34.9s\tremaining: 2m 19s\n",
      "400:\ttest: 0.6871296\tbest: 0.6871296 (400)\ttotal: 46.8s\tremaining: 2m 8s\n",
      "500:\ttest: 0.6871026\tbest: 0.6879568 (464)\ttotal: 58.7s\tremaining: 1m 57s\n",
      "bestTest = 0.68795681\n",
      "bestIteration = 464\n",
      "Shrink model to first 465 iterations.\n"
     ]
    },
    {
     "name": "stderr",
     "output_type": "stream",
     "text": [
      "Default metric period is 5 because AUC is/are not implemented for GPU\n"
     ]
    },
    {
     "name": "stdout",
     "output_type": "stream",
     "text": [
      "0:\ttest: 0.5115089\tbest: 0.5115089 (0)\ttotal: 116ms\tremaining: 2m 54s\n",
      "100:\ttest: 0.6778263\tbest: 0.6778315 (98)\ttotal: 11.9s\tremaining: 2m 45s\n",
      "200:\ttest: 0.6845806\tbest: 0.6851730 (197)\ttotal: 24.2s\tremaining: 2m 36s\n",
      "300:\ttest: 0.6871324\tbest: 0.6876992 (289)\ttotal: 36.4s\tremaining: 2m 25s\n",
      "400:\ttest: 0.6874338\tbest: 0.6884686 (335)\ttotal: 48.5s\tremaining: 2m 12s\n",
      "bestTest = 0.6884686053\n",
      "bestIteration = 335\n",
      "Shrink model to first 336 iterations.\n"
     ]
    },
    {
     "name": "stderr",
     "output_type": "stream",
     "text": [
      "Default metric period is 5 because AUC is/are not implemented for GPU\n"
     ]
    },
    {
     "name": "stdout",
     "output_type": "stream",
     "text": [
      "0:\ttest: 0.5115089\tbest: 0.5115089 (0)\ttotal: 112ms\tremaining: 2m 48s\n",
      "100:\ttest: 0.6780067\tbest: 0.6783530 (89)\ttotal: 12.2s\tremaining: 2m 49s\n",
      "200:\ttest: 0.6830119\tbest: 0.6830119 (200)\ttotal: 24.5s\tremaining: 2m 38s\n",
      "300:\ttest: 0.6832012\tbest: 0.6850940 (236)\ttotal: 36.1s\tremaining: 2m 23s\n",
      "bestTest = 0.6850940287\n",
      "bestIteration = 236\n",
      "Shrink model to first 237 iterations.\n"
     ]
    },
    {
     "name": "stderr",
     "output_type": "stream",
     "text": [
      "Default metric period is 5 because AUC is/are not implemented for GPU\n"
     ]
    },
    {
     "name": "stdout",
     "output_type": "stream",
     "text": [
      "0:\ttest: 0.5115089\tbest: 0.5115089 (0)\ttotal: 109ms\tremaining: 2m 44s\n",
      "100:\ttest: 0.6782370\tbest: 0.6800392 (53)\ttotal: 11.9s\tremaining: 2m 45s\n",
      "200:\ttest: 0.6836441\tbest: 0.6837509 (199)\ttotal: 24.2s\tremaining: 2m 36s\n",
      "bestTest = 0.6851514876\n",
      "bestIteration = 209\n",
      "Shrink model to first 210 iterations.\n"
     ]
    },
    {
     "name": "stderr",
     "output_type": "stream",
     "text": [
      "Default metric period is 5 because AUC is/are not implemented for GPU\n"
     ]
    },
    {
     "name": "stdout",
     "output_type": "stream",
     "text": [
      "0:\ttest: 0.5272352\tbest: 0.5272352 (0)\ttotal: 115ms\tremaining: 2m 52s\n",
      "100:\ttest: 0.6541376\tbest: 0.6541376 (100)\ttotal: 12s\tremaining: 2m 45s\n",
      "200:\ttest: 0.6761395\tbest: 0.6761415 (198)\ttotal: 24.2s\tremaining: 2m 36s\n",
      "300:\ttest: 0.6835328\tbest: 0.6835328 (300)\ttotal: 36.5s\tremaining: 2m 25s\n",
      "400:\ttest: 0.6860912\tbest: 0.6860912 (400)\ttotal: 48.9s\tremaining: 2m 14s\n",
      "500:\ttest: 0.6872685\tbest: 0.6874145 (498)\ttotal: 1m 1s\tremaining: 2m 2s\n",
      "600:\ttest: 0.6874831\tbest: 0.6876007 (545)\ttotal: 1m 13s\tremaining: 1m 50s\n",
      "700:\ttest: 0.6881645\tbest: 0.6882722 (682)\ttotal: 1m 25s\tremaining: 1m 37s\n",
      "800:\ttest: 0.6891048\tbest: 0.6891475 (763)\ttotal: 1m 38s\tremaining: 1m 25s\n",
      "bestTest = 0.6892986596\n",
      "bestIteration = 809\n",
      "Shrink model to first 810 iterations.\n"
     ]
    },
    {
     "name": "stderr",
     "output_type": "stream",
     "text": [
      "Default metric period is 5 because AUC is/are not implemented for GPU\n"
     ]
    },
    {
     "name": "stdout",
     "output_type": "stream",
     "text": [
      "0:\ttest: 0.5272352\tbest: 0.5272352 (0)\ttotal: 111ms\tremaining: 2m 46s\n",
      "100:\ttest: 0.6735795\tbest: 0.6735795 (100)\ttotal: 11.6s\tremaining: 2m 41s\n",
      "200:\ttest: 0.6834253\tbest: 0.6837411 (199)\ttotal: 23.4s\tremaining: 2m 31s\n",
      "300:\ttest: 0.6859432\tbest: 0.6859793 (286)\ttotal: 35.3s\tremaining: 2m 20s\n",
      "400:\ttest: 0.6897323\tbest: 0.6897323 (400)\ttotal: 47.5s\tremaining: 2m 10s\n",
      "500:\ttest: 0.6901496\tbest: 0.6904985 (463)\ttotal: 59.2s\tremaining: 1m 58s\n",
      "bestTest = 0.6904984713\n",
      "bestIteration = 463\n",
      "Shrink model to first 464 iterations.\n"
     ]
    },
    {
     "name": "stderr",
     "output_type": "stream",
     "text": [
      "Default metric period is 5 because AUC is/are not implemented for GPU\n"
     ]
    },
    {
     "name": "stdout",
     "output_type": "stream",
     "text": [
      "0:\ttest: 0.5272352\tbest: 0.5272352 (0)\ttotal: 108ms\tremaining: 2m 41s\n",
      "100:\ttest: 0.6799353\tbest: 0.6800646 (99)\ttotal: 12s\tremaining: 2m 46s\n",
      "200:\ttest: 0.6843316\tbest: 0.6848106 (165)\ttotal: 24.1s\tremaining: 2m 35s\n",
      "300:\ttest: 0.6856915\tbest: 0.6858079 (235)\ttotal: 35.9s\tremaining: 2m 23s\n",
      "400:\ttest: 0.6866444\tbest: 0.6866444 (400)\ttotal: 47.8s\tremaining: 2m 10s\n",
      "500:\ttest: 0.6861849\tbest: 0.6872193 (429)\ttotal: 59.5s\tremaining: 1m 58s\n",
      "bestTest = 0.6872192621\n",
      "bestIteration = 429\n",
      "Shrink model to first 430 iterations.\n"
     ]
    },
    {
     "name": "stderr",
     "output_type": "stream",
     "text": [
      "Default metric period is 5 because AUC is/are not implemented for GPU\n"
     ]
    },
    {
     "name": "stdout",
     "output_type": "stream",
     "text": [
      "0:\ttest: 0.5272352\tbest: 0.5272352 (0)\ttotal: 108ms\tremaining: 2m 41s\n",
      "100:\ttest: 0.6798078\tbest: 0.6802268 (89)\ttotal: 11.7s\tremaining: 2m 41s\n",
      "200:\ttest: 0.6864540\tbest: 0.6865829 (197)\ttotal: 23.4s\tremaining: 2m 30s\n",
      "300:\ttest: 0.6859202\tbest: 0.6868235 (222)\ttotal: 35s\tremaining: 2m 19s\n",
      "bestTest = 0.6868235469\n",
      "bestIteration = 222\n",
      "Shrink model to first 223 iterations.\n"
     ]
    },
    {
     "name": "stderr",
     "output_type": "stream",
     "text": [
      "Default metric period is 5 because AUC is/are not implemented for GPU\n"
     ]
    },
    {
     "name": "stdout",
     "output_type": "stream",
     "text": [
      "0:\ttest: 0.5272352\tbest: 0.5272352 (0)\ttotal: 108ms\tremaining: 2m 42s\n",
      "100:\ttest: 0.6863304\tbest: 0.6867774 (98)\ttotal: 11.7s\tremaining: 2m 42s\n",
      "200:\ttest: 0.6901887\tbest: 0.6902989 (198)\ttotal: 23.4s\tremaining: 2m 31s\n",
      "300:\ttest: 0.6896192\tbest: 0.6906585 (246)\ttotal: 35.1s\tremaining: 2m 19s\n",
      "400:\ttest: 0.6905188\tbest: 0.6912335 (369)\ttotal: 46.8s\tremaining: 2m 8s\n",
      "bestTest = 0.6912335157\n",
      "bestIteration = 369\n",
      "Shrink model to first 370 iterations.\n"
     ]
    },
    {
     "name": "stderr",
     "output_type": "stream",
     "text": [
      "Default metric period is 5 because AUC is/are not implemented for GPU\n"
     ]
    },
    {
     "name": "stdout",
     "output_type": "stream",
     "text": [
      "0:\ttest: 0.5242485\tbest: 0.5242485 (0)\ttotal: 106ms\tremaining: 2m 39s\n",
      "100:\ttest: 0.6514028\tbest: 0.6514028 (100)\ttotal: 11.1s\tremaining: 2m 33s\n",
      "200:\ttest: 0.6766957\tbest: 0.6772375 (193)\ttotal: 22.7s\tremaining: 2m 26s\n",
      "300:\ttest: 0.6820167\tbest: 0.6820167 (300)\ttotal: 34.5s\tremaining: 2m 17s\n",
      "400:\ttest: 0.6863590\tbest: 0.6863689 (399)\ttotal: 46.3s\tremaining: 2m 6s\n",
      "500:\ttest: 0.6873895\tbest: 0.6873895 (500)\ttotal: 58s\tremaining: 1m 55s\n",
      "600:\ttest: 0.6882109\tbest: 0.6882949 (596)\ttotal: 1m 9s\tremaining: 1m 44s\n",
      "700:\ttest: 0.6882319\tbest: 0.6887537 (681)\ttotal: 1m 21s\tremaining: 1m 32s\n",
      "bestTest = 0.6887536645\n",
      "bestIteration = 681\n",
      "Shrink model to first 682 iterations.\n"
     ]
    },
    {
     "name": "stderr",
     "output_type": "stream",
     "text": [
      "Default metric period is 5 because AUC is/are not implemented for GPU\n"
     ]
    },
    {
     "name": "stdout",
     "output_type": "stream",
     "text": [
      "0:\ttest: 0.5242485\tbest: 0.5242485 (0)\ttotal: 110ms\tremaining: 2m 45s\n",
      "100:\ttest: 0.6733060\tbest: 0.6736375 (89)\ttotal: 11.3s\tremaining: 2m 37s\n",
      "200:\ttest: 0.6828378\tbest: 0.6828818 (199)\ttotal: 23s\tremaining: 2m 28s\n",
      "300:\ttest: 0.6853917\tbest: 0.6855544 (297)\ttotal: 34.6s\tremaining: 2m 17s\n",
      "400:\ttest: 0.6874249\tbest: 0.6874762 (380)\ttotal: 46.2s\tremaining: 2m 6s\n",
      "500:\ttest: 0.6878405\tbest: 0.6886241 (444)\ttotal: 57.9s\tremaining: 1m 55s\n",
      "bestTest = 0.6886241436\n",
      "bestIteration = 444\n",
      "Shrink model to first 445 iterations.\n"
     ]
    },
    {
     "name": "stderr",
     "output_type": "stream",
     "text": [
      "Default metric period is 5 because AUC is/are not implemented for GPU\n"
     ]
    },
    {
     "name": "stdout",
     "output_type": "stream",
     "text": [
      "0:\ttest: 0.5242485\tbest: 0.5242485 (0)\ttotal: 116ms\tremaining: 2m 53s\n",
      "100:\ttest: 0.6827772\tbest: 0.6827772 (100)\ttotal: 12.5s\tremaining: 2m 53s\n",
      "200:\ttest: 0.6882447\tbest: 0.6886665 (195)\ttotal: 25.1s\tremaining: 2m 42s\n",
      "300:\ttest: 0.6902401\tbest: 0.6904772 (289)\ttotal: 37.6s\tremaining: 2m 29s\n",
      "400:\ttest: 0.6906973\tbest: 0.6911379 (391)\ttotal: 49.9s\tremaining: 2m 16s\n",
      "500:\ttest: 0.6914721\tbest: 0.6921155 (469)\ttotal: 1m 2s\tremaining: 2m 4s\n",
      "bestTest = 0.6921155453\n",
      "bestIteration = 469\n",
      "Shrink model to first 470 iterations.\n"
     ]
    },
    {
     "name": "stderr",
     "output_type": "stream",
     "text": [
      "Default metric period is 5 because AUC is/are not implemented for GPU\n"
     ]
    },
    {
     "name": "stdout",
     "output_type": "stream",
     "text": [
      "0:\ttest: 0.5242485\tbest: 0.5242485 (0)\ttotal: 114ms\tremaining: 2m 51s\n",
      "100:\ttest: 0.6805189\tbest: 0.6814333 (95)\ttotal: 12.1s\tremaining: 2m 48s\n",
      "200:\ttest: 0.6899101\tbest: 0.6900810 (197)\ttotal: 24.5s\tremaining: 2m 38s\n",
      "300:\ttest: 0.6932023\tbest: 0.6933469 (268)\ttotal: 36.8s\tremaining: 2m 26s\n",
      "400:\ttest: 0.6934312\tbest: 0.6944527 (333)\ttotal: 49.2s\tremaining: 2m 14s\n",
      "bestTest = 0.6944527328\n",
      "bestIteration = 333\n",
      "Shrink model to first 334 iterations.\n"
     ]
    },
    {
     "name": "stderr",
     "output_type": "stream",
     "text": [
      "Default metric period is 5 because AUC is/are not implemented for GPU\n"
     ]
    },
    {
     "name": "stdout",
     "output_type": "stream",
     "text": [
      "0:\ttest: 0.5242485\tbest: 0.5242485 (0)\ttotal: 113ms\tremaining: 2m 50s\n",
      "100:\ttest: 0.6838322\tbest: 0.6847794 (88)\ttotal: 12.2s\tremaining: 2m 48s\n",
      "200:\ttest: 0.6867265\tbest: 0.6867881 (187)\ttotal: 24.5s\tremaining: 2m 38s\n",
      "300:\ttest: 0.6872631\tbest: 0.6878742 (266)\ttotal: 36.7s\tremaining: 2m 26s\n",
      "bestTest = 0.6878742278\n",
      "bestIteration = 266\n",
      "Shrink model to first 267 iterations.\n"
     ]
    },
    {
     "name": "stderr",
     "output_type": "stream",
     "text": [
      "Default metric period is 5 because AUC is/are not implemented for GPU\n"
     ]
    },
    {
     "name": "stdout",
     "output_type": "stream",
     "text": [
      "0:\ttest: 0.5178145\tbest: 0.5178145 (0)\ttotal: 113ms\tremaining: 2m 50s\n",
      "100:\ttest: 0.6539491\tbest: 0.6539491 (100)\ttotal: 11.6s\tremaining: 2m 40s\n",
      "200:\ttest: 0.6779270\tbest: 0.6780502 (192)\ttotal: 23.7s\tremaining: 2m 32s\n",
      "300:\ttest: 0.6827651\tbest: 0.6827651 (300)\ttotal: 36s\tremaining: 2m 23s\n",
      "400:\ttest: 0.6861962\tbest: 0.6861962 (400)\ttotal: 48.3s\tremaining: 2m 12s\n",
      "500:\ttest: 0.6883468\tbest: 0.6883468 (500)\ttotal: 1m\tremaining: 2m\n",
      "600:\ttest: 0.6896692\tbest: 0.6896692 (600)\ttotal: 1m 12s\tremaining: 1m 48s\n",
      "700:\ttest: 0.6901589\tbest: 0.6902011 (692)\ttotal: 1m 24s\tremaining: 1m 36s\n",
      "800:\ttest: 0.6910518\tbest: 0.6910782 (799)\ttotal: 1m 37s\tremaining: 1m 24s\n",
      "bestTest = 0.6911567748\n",
      "bestIteration = 814\n",
      "Shrink model to first 815 iterations.\n"
     ]
    },
    {
     "name": "stderr",
     "output_type": "stream",
     "text": [
      "Default metric period is 5 because AUC is/are not implemented for GPU\n"
     ]
    },
    {
     "name": "stdout",
     "output_type": "stream",
     "text": [
      "0:\ttest: 0.5178145\tbest: 0.5178145 (0)\ttotal: 113ms\tremaining: 2m 48s\n",
      "100:\ttest: 0.6808808\tbest: 0.6808808 (100)\ttotal: 12.1s\tremaining: 2m 48s\n",
      "200:\ttest: 0.6848034\tbest: 0.6849926 (190)\ttotal: 24.4s\tremaining: 2m 37s\n",
      "300:\ttest: 0.6885563\tbest: 0.6886431 (296)\ttotal: 36.6s\tremaining: 2m 25s\n",
      "400:\ttest: 0.6907728\tbest: 0.6908640 (390)\ttotal: 48.7s\tremaining: 2m 13s\n",
      "500:\ttest: 0.6914842\tbest: 0.6916353 (472)\ttotal: 1m 1s\tremaining: 2m 1s\n",
      "600:\ttest: 0.6918014\tbest: 0.6920974 (584)\ttotal: 1m 13s\tremaining: 1m 49s\n",
      "bestTest = 0.6920973659\n",
      "bestIteration = 584\n",
      "Shrink model to first 585 iterations.\n"
     ]
    },
    {
     "name": "stderr",
     "output_type": "stream",
     "text": [
      "Default metric period is 5 because AUC is/are not implemented for GPU\n"
     ]
    },
    {
     "name": "stdout",
     "output_type": "stream",
     "text": [
      "0:\ttest: 0.5178145\tbest: 0.5178145 (0)\ttotal: 113ms\tremaining: 2m 49s\n",
      "100:\ttest: 0.6833601\tbest: 0.6834788 (97)\ttotal: 12s\tremaining: 2m 46s\n",
      "200:\ttest: 0.6876944\tbest: 0.6888922 (157)\ttotal: 24.1s\tremaining: 2m 35s\n",
      "300:\ttest: 0.6916022\tbest: 0.6917344 (292)\ttotal: 36.2s\tremaining: 2m 24s\n",
      "400:\ttest: 0.6925373\tbest: 0.6928412 (382)\ttotal: 48.5s\tremaining: 2m 12s\n",
      "500:\ttest: 0.6920438\tbest: 0.6930132 (474)\ttotal: 1m\tremaining: 2m 1s\n",
      "bestTest = 0.6930131912\n",
      "bestIteration = 474\n",
      "Shrink model to first 475 iterations.\n"
     ]
    },
    {
     "name": "stderr",
     "output_type": "stream",
     "text": [
      "Default metric period is 5 because AUC is/are not implemented for GPU\n"
     ]
    },
    {
     "name": "stdout",
     "output_type": "stream",
     "text": [
      "0:\ttest: 0.5178145\tbest: 0.5178145 (0)\ttotal: 114ms\tremaining: 2m 50s\n",
      "100:\ttest: 0.6817006\tbest: 0.6819904 (98)\ttotal: 12.1s\tremaining: 2m 47s\n",
      "200:\ttest: 0.6878816\tbest: 0.6885818 (191)\ttotal: 24.2s\tremaining: 2m 36s\n",
      "300:\ttest: 0.6925450\tbest: 0.6925450 (300)\ttotal: 36.4s\tremaining: 2m 25s\n",
      "400:\ttest: 0.6938002\tbest: 0.6938199 (399)\ttotal: 48.7s\tremaining: 2m 13s\n",
      "500:\ttest: 0.6934972\tbest: 0.6950287 (463)\ttotal: 1m\tremaining: 2m 1s\n",
      "bestTest = 0.6950287223\n",
      "bestIteration = 463\n",
      "Shrink model to first 464 iterations.\n"
     ]
    },
    {
     "name": "stderr",
     "output_type": "stream",
     "text": [
      "Default metric period is 5 because AUC is/are not implemented for GPU\n"
     ]
    },
    {
     "name": "stdout",
     "output_type": "stream",
     "text": [
      "0:\ttest: 0.5178145\tbest: 0.5178145 (0)\ttotal: 113ms\tremaining: 2m 49s\n",
      "100:\ttest: 0.6847383\tbest: 0.6849354 (98)\ttotal: 12.1s\tremaining: 2m 47s\n",
      "200:\ttest: 0.6882766\tbest: 0.6888703 (188)\ttotal: 24.2s\tremaining: 2m 36s\n",
      "bestTest = 0.6888703108\n",
      "bestIteration = 188\n",
      "Shrink model to first 189 iterations.\n"
     ]
    },
    {
     "name": "stderr",
     "output_type": "stream",
     "text": [
      "Default metric period is 5 because AUC is/are not implemented for GPU\n"
     ]
    },
    {
     "name": "stdout",
     "output_type": "stream",
     "text": [
      "0:\ttest: 0.5178145\tbest: 0.5178145 (0)\ttotal: 113ms\tremaining: 2m 49s\n",
      "100:\ttest: 0.6496317\tbest: 0.6496317 (100)\ttotal: 11.5s\tremaining: 2m 39s\n",
      "200:\ttest: 0.6782123\tbest: 0.6782691 (192)\ttotal: 23.5s\tremaining: 2m 31s\n",
      "300:\ttest: 0.6823157\tbest: 0.6823364 (299)\ttotal: 35.7s\tremaining: 2m 22s\n",
      "400:\ttest: 0.6864843\tbest: 0.6864843 (400)\ttotal: 47.9s\tremaining: 2m 11s\n",
      "500:\ttest: 0.6880777\tbest: 0.6880777 (500)\ttotal: 1m\tremaining: 1m 59s\n",
      "600:\ttest: 0.6893375\tbest: 0.6893392 (595)\ttotal: 1m 12s\tremaining: 1m 47s\n",
      "700:\ttest: 0.6894836\tbest: 0.6895136 (692)\ttotal: 1m 24s\tremaining: 1m 36s\n",
      "800:\ttest: 0.6901742\tbest: 0.6903671 (768)\ttotal: 1m 36s\tremaining: 1m 24s\n",
      "bestTest = 0.6903670728\n",
      "bestIteration = 768\n",
      "Shrink model to first 769 iterations.\n"
     ]
    },
    {
     "name": "stderr",
     "output_type": "stream",
     "text": [
      "Default metric period is 5 because AUC is/are not implemented for GPU\n"
     ]
    },
    {
     "name": "stdout",
     "output_type": "stream",
     "text": [
      "0:\ttest: 0.5178145\tbest: 0.5178145 (0)\ttotal: 113ms\tremaining: 2m 49s\n",
      "100:\ttest: 0.6749967\tbest: 0.6751577 (89)\ttotal: 11.9s\tremaining: 2m 44s\n",
      "200:\ttest: 0.6836345\tbest: 0.6837077 (197)\ttotal: 24.1s\tremaining: 2m 35s\n",
      "300:\ttest: 0.6853302\tbest: 0.6858492 (284)\ttotal: 36.4s\tremaining: 2m 25s\n",
      "400:\ttest: 0.6875569\tbest: 0.6875756 (398)\ttotal: 48.7s\tremaining: 2m 13s\n",
      "500:\ttest: 0.6897868\tbest: 0.6897868 (500)\ttotal: 1m\tremaining: 2m 1s\n",
      "600:\ttest: 0.6899630\tbest: 0.6904853 (563)\ttotal: 1m 13s\tremaining: 1m 49s\n",
      "bestTest = 0.6904853284\n",
      "bestIteration = 563\n",
      "Shrink model to first 564 iterations.\n"
     ]
    },
    {
     "name": "stderr",
     "output_type": "stream",
     "text": [
      "Default metric period is 5 because AUC is/are not implemented for GPU\n"
     ]
    },
    {
     "name": "stdout",
     "output_type": "stream",
     "text": [
      "0:\ttest: 0.5178145\tbest: 0.5178145 (0)\ttotal: 113ms\tremaining: 2m 48s\n",
      "100:\ttest: 0.6851253\tbest: 0.6851253 (100)\ttotal: 12s\tremaining: 2m 46s\n",
      "200:\ttest: 0.6889363\tbest: 0.6898650 (159)\ttotal: 24.1s\tremaining: 2m 35s\n",
      "300:\ttest: 0.6922967\tbest: 0.6922967 (300)\ttotal: 36.3s\tremaining: 2m 24s\n",
      "400:\ttest: 0.6944549\tbest: 0.6944549 (400)\ttotal: 48.5s\tremaining: 2m 12s\n",
      "500:\ttest: 0.6946317\tbest: 0.6956297 (469)\ttotal: 1m\tremaining: 2m\n",
      "bestTest = 0.6956296563\n",
      "bestIteration = 469\n",
      "Shrink model to first 470 iterations.\n"
     ]
    },
    {
     "name": "stderr",
     "output_type": "stream",
     "text": [
      "Default metric period is 5 because AUC is/are not implemented for GPU\n"
     ]
    },
    {
     "name": "stdout",
     "output_type": "stream",
     "text": [
      "0:\ttest: 0.5178145\tbest: 0.5178145 (0)\ttotal: 111ms\tremaining: 2m 46s\n",
      "100:\ttest: 0.6859019\tbest: 0.6860876 (98)\ttotal: 12.2s\tremaining: 2m 48s\n",
      "200:\ttest: 0.6909696\tbest: 0.6913305 (198)\ttotal: 24.2s\tremaining: 2m 36s\n",
      "300:\ttest: 0.6950590\tbest: 0.6950590 (300)\ttotal: 36.3s\tremaining: 2m 24s\n",
      "400:\ttest: 0.6969680\tbest: 0.6969844 (399)\ttotal: 48.5s\tremaining: 2m 13s\n",
      "bestTest = 0.6973120868\n",
      "bestIteration = 405\n",
      "Shrink model to first 406 iterations.\n"
     ]
    },
    {
     "name": "stderr",
     "output_type": "stream",
     "text": [
      "Default metric period is 5 because AUC is/are not implemented for GPU\n"
     ]
    },
    {
     "name": "stdout",
     "output_type": "stream",
     "text": [
      "0:\ttest: 0.5178145\tbest: 0.5178145 (0)\ttotal: 112ms\tremaining: 2m 48s\n",
      "100:\ttest: 0.6847519\tbest: 0.6853975 (82)\ttotal: 12.2s\tremaining: 2m 49s\n",
      "200:\ttest: 0.6875845\tbest: 0.6881820 (175)\ttotal: 24.5s\tremaining: 2m 38s\n",
      "300:\ttest: 0.6920284\tbest: 0.6920284 (300)\ttotal: 36.7s\tremaining: 2m 26s\n",
      "bestTest = 0.6925858259\n",
      "bestIteration = 315\n",
      "Shrink model to first 316 iterations.\n"
     ]
    },
    {
     "name": "stderr",
     "output_type": "stream",
     "text": [
      "Default metric period is 5 because AUC is/are not implemented for GPU\n"
     ]
    },
    {
     "name": "stdout",
     "output_type": "stream",
     "text": [
      "0:\ttest: 0.5115089\tbest: 0.5115089 (0)\ttotal: 113ms\tremaining: 3m 45s\n",
      "100:\ttest: 0.6518429\tbest: 0.6520536 (99)\ttotal: 11.7s\tremaining: 3m 40s\n",
      "200:\ttest: 0.6730587\tbest: 0.6731268 (199)\ttotal: 23.7s\tremaining: 3m 31s\n",
      "300:\ttest: 0.6787929\tbest: 0.6788389 (296)\ttotal: 35.7s\tremaining: 3m 21s\n",
      "400:\ttest: 0.6829245\tbest: 0.6829245 (400)\ttotal: 47.9s\tremaining: 3m 11s\n",
      "500:\ttest: 0.6842913\tbest: 0.6843105 (498)\ttotal: 60s\tremaining: 2m 59s\n",
      "600:\ttest: 0.6848809\tbest: 0.6849787 (597)\ttotal: 1m 12s\tremaining: 2m 47s\n",
      "700:\ttest: 0.6853325\tbest: 0.6856858 (657)\ttotal: 1m 24s\tremaining: 2m 36s\n",
      "800:\ttest: 0.6871991\tbest: 0.6871991 (800)\ttotal: 1m 36s\tremaining: 2m 24s\n",
      "900:\ttest: 0.6878462\tbest: 0.6878462 (900)\ttotal: 1m 48s\tremaining: 2m 12s\n",
      "1000:\ttest: 0.6876780\tbest: 0.6880664 (945)\ttotal: 2m\tremaining: 2m\n",
      "bestTest = 0.6880664229\n",
      "bestIteration = 945\n",
      "Shrink model to first 946 iterations.\n"
     ]
    },
    {
     "name": "stderr",
     "output_type": "stream",
     "text": [
      "Default metric period is 5 because AUC is/are not implemented for GPU\n"
     ]
    },
    {
     "name": "stdout",
     "output_type": "stream",
     "text": [
      "0:\ttest: 0.5115089\tbest: 0.5115089 (0)\ttotal: 112ms\tremaining: 3m 44s\n",
      "100:\ttest: 0.6736213\tbest: 0.6736213 (100)\ttotal: 11.9s\tremaining: 3m 44s\n",
      "200:\ttest: 0.6828439\tbest: 0.6830374 (199)\ttotal: 24.1s\tremaining: 3m 36s\n",
      "300:\ttest: 0.6848649\tbest: 0.6853450 (284)\ttotal: 36.5s\tremaining: 3m 25s\n",
      "400:\ttest: 0.6871480\tbest: 0.6871480 (400)\ttotal: 49.1s\tremaining: 3m 15s\n",
      "500:\ttest: 0.6871155\tbest: 0.6879690 (464)\ttotal: 1m 1s\tremaining: 3m 5s\n",
      "bestTest = 0.6879690289\n",
      "bestIteration = 464\n",
      "Shrink model to first 465 iterations.\n"
     ]
    },
    {
     "name": "stderr",
     "output_type": "stream",
     "text": [
      "Default metric period is 5 because AUC is/are not implemented for GPU\n"
     ]
    },
    {
     "name": "stdout",
     "output_type": "stream",
     "text": [
      "0:\ttest: 0.5115089\tbest: 0.5115089 (0)\ttotal: 119ms\tremaining: 3m 57s\n",
      "100:\ttest: 0.6778263\tbest: 0.6778315 (98)\ttotal: 12.6s\tremaining: 3m 56s\n",
      "200:\ttest: 0.6845806\tbest: 0.6851730 (197)\ttotal: 25.3s\tremaining: 3m 46s\n",
      "300:\ttest: 0.6871324\tbest: 0.6876992 (289)\ttotal: 38s\tremaining: 3m 34s\n",
      "400:\ttest: 0.6874338\tbest: 0.6884686 (335)\ttotal: 50.7s\tremaining: 3m 22s\n",
      "bestTest = 0.6884686053\n",
      "bestIteration = 335\n",
      "Shrink model to first 336 iterations.\n"
     ]
    },
    {
     "name": "stderr",
     "output_type": "stream",
     "text": [
      "Default metric period is 5 because AUC is/are not implemented for GPU\n"
     ]
    },
    {
     "name": "stdout",
     "output_type": "stream",
     "text": [
      "0:\ttest: 0.5115089\tbest: 0.5115089 (0)\ttotal: 117ms\tremaining: 3m 54s\n",
      "100:\ttest: 0.6780067\tbest: 0.6783530 (89)\ttotal: 12.5s\tremaining: 3m 54s\n",
      "200:\ttest: 0.6830119\tbest: 0.6830119 (200)\ttotal: 24.5s\tremaining: 3m 39s\n",
      "300:\ttest: 0.6832012\tbest: 0.6850940 (236)\ttotal: 36.6s\tremaining: 3m 26s\n",
      "bestTest = 0.6850940287\n",
      "bestIteration = 236\n",
      "Shrink model to first 237 iterations.\n"
     ]
    },
    {
     "name": "stderr",
     "output_type": "stream",
     "text": [
      "Default metric period is 5 because AUC is/are not implemented for GPU\n"
     ]
    },
    {
     "name": "stdout",
     "output_type": "stream",
     "text": [
      "0:\ttest: 0.5115089\tbest: 0.5115089 (0)\ttotal: 115ms\tremaining: 3m 49s\n",
      "100:\ttest: 0.6782370\tbest: 0.6800392 (53)\ttotal: 12.1s\tremaining: 3m 46s\n",
      "200:\ttest: 0.6836441\tbest: 0.6837509 (199)\ttotal: 24.1s\tremaining: 3m 36s\n",
      "bestTest = 0.6851514876\n",
      "bestIteration = 209\n",
      "Shrink model to first 210 iterations.\n"
     ]
    },
    {
     "name": "stderr",
     "output_type": "stream",
     "text": [
      "Default metric period is 5 because AUC is/are not implemented for GPU\n"
     ]
    },
    {
     "name": "stdout",
     "output_type": "stream",
     "text": [
      "0:\ttest: 0.5272352\tbest: 0.5272352 (0)\ttotal: 113ms\tremaining: 3m 45s\n",
      "100:\ttest: 0.6541376\tbest: 0.6541376 (100)\ttotal: 11.8s\tremaining: 3m 41s\n",
      "200:\ttest: 0.6761395\tbest: 0.6761415 (198)\ttotal: 23.8s\tremaining: 3m 33s\n",
      "300:\ttest: 0.6835328\tbest: 0.6835328 (300)\ttotal: 36s\tremaining: 3m 23s\n",
      "400:\ttest: 0.6860912\tbest: 0.6860912 (400)\ttotal: 48.3s\tremaining: 3m 12s\n",
      "500:\ttest: 0.6872685\tbest: 0.6874145 (498)\ttotal: 1m\tremaining: 3m\n",
      "600:\ttest: 0.6874831\tbest: 0.6876007 (545)\ttotal: 1m 12s\tremaining: 2m 49s\n",
      "700:\ttest: 0.6881645\tbest: 0.6882722 (682)\ttotal: 1m 24s\tremaining: 2m 37s\n",
      "800:\ttest: 0.6891048\tbest: 0.6891475 (763)\ttotal: 1m 36s\tremaining: 2m 25s\n",
      "bestTest = 0.6892986596\n",
      "bestIteration = 809\n",
      "Shrink model to first 810 iterations.\n"
     ]
    },
    {
     "name": "stderr",
     "output_type": "stream",
     "text": [
      "Default metric period is 5 because AUC is/are not implemented for GPU\n"
     ]
    },
    {
     "name": "stdout",
     "output_type": "stream",
     "text": [
      "0:\ttest: 0.5272352\tbest: 0.5272352 (0)\ttotal: 113ms\tremaining: 3m 45s\n",
      "100:\ttest: 0.6735795\tbest: 0.6735795 (100)\ttotal: 11.9s\tremaining: 3m 44s\n",
      "200:\ttest: 0.6834253\tbest: 0.6837411 (199)\ttotal: 24.1s\tremaining: 3m 35s\n",
      "300:\ttest: 0.6859458\tbest: 0.6859808 (286)\ttotal: 36.3s\tremaining: 3m 25s\n",
      "400:\ttest: 0.6897336\tbest: 0.6897336 (400)\ttotal: 48.5s\tremaining: 3m 13s\n",
      "500:\ttest: 0.6901511\tbest: 0.6905000 (463)\ttotal: 1m\tremaining: 3m 1s\n",
      "bestTest = 0.6904999614\n",
      "bestIteration = 463\n",
      "Shrink model to first 464 iterations.\n"
     ]
    },
    {
     "name": "stderr",
     "output_type": "stream",
     "text": [
      "Default metric period is 5 because AUC is/are not implemented for GPU\n"
     ]
    },
    {
     "name": "stdout",
     "output_type": "stream",
     "text": [
      "0:\ttest: 0.5272352\tbest: 0.5272352 (0)\ttotal: 114ms\tremaining: 3m 46s\n",
      "100:\ttest: 0.6799353\tbest: 0.6800646 (99)\ttotal: 12.1s\tremaining: 3m 47s\n",
      "200:\ttest: 0.6843564\tbest: 0.6848204 (165)\ttotal: 24.3s\tremaining: 3m 37s\n",
      "300:\ttest: 0.6857189\tbest: 0.6858365 (235)\ttotal: 36.4s\tremaining: 3m 25s\n",
      "400:\ttest: 0.6866631\tbest: 0.6866631 (400)\ttotal: 48.6s\tremaining: 3m 13s\n",
      "500:\ttest: 0.6862020\tbest: 0.6872370 (429)\ttotal: 1m\tremaining: 3m 2s\n",
      "bestTest = 0.6872370243\n",
      "bestIteration = 429\n",
      "Shrink model to first 430 iterations.\n"
     ]
    },
    {
     "name": "stderr",
     "output_type": "stream",
     "text": [
      "Default metric period is 5 because AUC is/are not implemented for GPU\n"
     ]
    },
    {
     "name": "stdout",
     "output_type": "stream",
     "text": [
      "0:\ttest: 0.5272352\tbest: 0.5272352 (0)\ttotal: 112ms\tremaining: 3m 44s\n",
      "100:\ttest: 0.6798078\tbest: 0.6802268 (89)\ttotal: 12.1s\tremaining: 3m 47s\n",
      "200:\ttest: 0.6864534\tbest: 0.6865817 (197)\ttotal: 24.2s\tremaining: 3m 36s\n",
      "300:\ttest: 0.6859220\tbest: 0.6868230 (222)\ttotal: 36.4s\tremaining: 3m 25s\n",
      "bestTest = 0.6868230104\n",
      "bestIteration = 222\n",
      "Shrink model to first 223 iterations.\n"
     ]
    },
    {
     "name": "stderr",
     "output_type": "stream",
     "text": [
      "Default metric period is 5 because AUC is/are not implemented for GPU\n"
     ]
    },
    {
     "name": "stdout",
     "output_type": "stream",
     "text": [
      "0:\ttest: 0.5272352\tbest: 0.5272352 (0)\ttotal: 114ms\tremaining: 3m 48s\n",
      "100:\ttest: 0.6863091\tbest: 0.6867561 (98)\ttotal: 12.2s\tremaining: 3m 49s\n",
      "200:\ttest: 0.6901765\tbest: 0.6902862 (198)\ttotal: 24.2s\tremaining: 3m 37s\n",
      "bestTest = 0.6902861595\n",
      "bestIteration = 198\n",
      "Shrink model to first 199 iterations.\n"
     ]
    },
    {
     "name": "stderr",
     "output_type": "stream",
     "text": [
      "Default metric period is 5 because AUC is/are not implemented for GPU\n"
     ]
    },
    {
     "name": "stdout",
     "output_type": "stream",
     "text": [
      "0:\ttest: 0.5242485\tbest: 0.5242485 (0)\ttotal: 112ms\tremaining: 3m 43s\n",
      "100:\ttest: 0.6514028\tbest: 0.6514028 (100)\ttotal: 11.5s\tremaining: 3m 37s\n",
      "200:\ttest: 0.6766957\tbest: 0.6772375 (193)\ttotal: 23.6s\tremaining: 3m 31s\n",
      "300:\ttest: 0.6820167\tbest: 0.6820167 (300)\ttotal: 35.9s\tremaining: 3m 22s\n",
      "400:\ttest: 0.6863590\tbest: 0.6863689 (399)\ttotal: 48.1s\tremaining: 3m 11s\n",
      "500:\ttest: 0.6873895\tbest: 0.6873895 (500)\ttotal: 1m\tremaining: 3m\n",
      "600:\ttest: 0.6882109\tbest: 0.6882949 (596)\ttotal: 1m 12s\tremaining: 2m 48s\n",
      "700:\ttest: 0.6882319\tbest: 0.6887537 (681)\ttotal: 1m 24s\tremaining: 2m 36s\n",
      "bestTest = 0.6887536645\n",
      "bestIteration = 681\n",
      "Shrink model to first 682 iterations.\n"
     ]
    },
    {
     "name": "stderr",
     "output_type": "stream",
     "text": [
      "Default metric period is 5 because AUC is/are not implemented for GPU\n"
     ]
    },
    {
     "name": "stdout",
     "output_type": "stream",
     "text": [
      "0:\ttest: 0.5242485\tbest: 0.5242485 (0)\ttotal: 113ms\tremaining: 3m 46s\n",
      "100:\ttest: 0.6733060\tbest: 0.6736375 (89)\ttotal: 11.8s\tremaining: 3m 42s\n",
      "200:\ttest: 0.6828378\tbest: 0.6828818 (199)\ttotal: 24s\tremaining: 3m 35s\n",
      "300:\ttest: 0.6853875\tbest: 0.6855496 (297)\ttotal: 36.3s\tremaining: 3m 24s\n",
      "400:\ttest: 0.6874205\tbest: 0.6874724 (380)\ttotal: 48.4s\tremaining: 3m 12s\n",
      "500:\ttest: 0.6878369\tbest: 0.6886213 (444)\ttotal: 1m\tremaining: 3m 1s\n",
      "bestTest = 0.6886212528\n",
      "bestIteration = 444\n",
      "Shrink model to first 445 iterations.\n"
     ]
    },
    {
     "name": "stderr",
     "output_type": "stream",
     "text": [
      "Default metric period is 5 because AUC is/are not implemented for GPU\n"
     ]
    },
    {
     "name": "stdout",
     "output_type": "stream",
     "text": [
      "0:\ttest: 0.5242485\tbest: 0.5242485 (0)\ttotal: 114ms\tremaining: 3m 48s\n",
      "100:\ttest: 0.6827772\tbest: 0.6827772 (100)\ttotal: 12.2s\tremaining: 3m 48s\n",
      "200:\ttest: 0.6882447\tbest: 0.6886665 (195)\ttotal: 24.4s\tremaining: 3m 38s\n",
      "300:\ttest: 0.6902407\tbest: 0.6904784 (289)\ttotal: 36.6s\tremaining: 3m 26s\n",
      "400:\ttest: 0.6906976\tbest: 0.6911384 (391)\ttotal: 48.8s\tremaining: 3m 14s\n",
      "500:\ttest: 0.6914725\tbest: 0.6921160 (469)\ttotal: 1m 1s\tremaining: 3m 2s\n",
      "bestTest = 0.6921159923\n",
      "bestIteration = 469\n",
      "Shrink model to first 470 iterations.\n"
     ]
    },
    {
     "name": "stderr",
     "output_type": "stream",
     "text": [
      "Default metric period is 5 because AUC is/are not implemented for GPU\n"
     ]
    },
    {
     "name": "stdout",
     "output_type": "stream",
     "text": [
      "0:\ttest: 0.5242485\tbest: 0.5242485 (0)\ttotal: 112ms\tremaining: 3m 44s\n",
      "100:\ttest: 0.6805189\tbest: 0.6814333 (95)\ttotal: 12.2s\tremaining: 3m 48s\n",
      "200:\ttest: 0.6899223\tbest: 0.6900919 (197)\ttotal: 24.3s\tremaining: 3m 37s\n",
      "300:\ttest: 0.6932090\tbest: 0.6933546 (268)\ttotal: 36.6s\tremaining: 3m 26s\n",
      "400:\ttest: 0.6934357\tbest: 0.6944589 (333)\ttotal: 48.8s\tremaining: 3m 14s\n",
      "bestTest = 0.6944589317\n",
      "bestIteration = 333\n",
      "Shrink model to first 334 iterations.\n"
     ]
    },
    {
     "name": "stderr",
     "output_type": "stream",
     "text": [
      "Default metric period is 5 because AUC is/are not implemented for GPU\n"
     ]
    },
    {
     "name": "stdout",
     "output_type": "stream",
     "text": [
      "0:\ttest: 0.5242485\tbest: 0.5242485 (0)\ttotal: 114ms\tremaining: 3m 47s\n",
      "100:\ttest: 0.6838430\tbest: 0.6847794 (88)\ttotal: 12.2s\tremaining: 3m 49s\n",
      "200:\ttest: 0.6867332\tbest: 0.6867948 (187)\ttotal: 24.4s\tremaining: 3m 38s\n",
      "300:\ttest: 0.6872677\tbest: 0.6878791 (266)\ttotal: 36.6s\tremaining: 3m 26s\n",
      "bestTest = 0.6878790557\n",
      "bestIteration = 266\n",
      "Shrink model to first 267 iterations.\n"
     ]
    },
    {
     "name": "stderr",
     "output_type": "stream",
     "text": [
      "Default metric period is 5 because AUC is/are not implemented for GPU\n"
     ]
    },
    {
     "name": "stdout",
     "output_type": "stream",
     "text": [
      "0:\ttest: 0.5178145\tbest: 0.5178145 (0)\ttotal: 115ms\tremaining: 3m 49s\n",
      "100:\ttest: 0.6539491\tbest: 0.6539491 (100)\ttotal: 11.6s\tremaining: 3m 38s\n",
      "200:\ttest: 0.6779270\tbest: 0.6780502 (192)\ttotal: 23.8s\tremaining: 3m 33s\n",
      "300:\ttest: 0.6827651\tbest: 0.6827651 (300)\ttotal: 36.6s\tremaining: 3m 26s\n",
      "400:\ttest: 0.6861962\tbest: 0.6861962 (400)\ttotal: 49.4s\tremaining: 3m 16s\n",
      "500:\ttest: 0.6883468\tbest: 0.6883468 (500)\ttotal: 1m 1s\tremaining: 3m 4s\n",
      "600:\ttest: 0.6896712\tbest: 0.6896712 (600)\ttotal: 1m 13s\tremaining: 2m 51s\n",
      "700:\ttest: 0.6901630\tbest: 0.6902049 (692)\ttotal: 1m 25s\tremaining: 2m 38s\n",
      "800:\ttest: 0.6910503\tbest: 0.6910768 (799)\ttotal: 1m 37s\tremaining: 2m 26s\n",
      "bestTest = 0.6911553442\n",
      "bestIteration = 814\n",
      "Shrink model to first 815 iterations.\n"
     ]
    },
    {
     "name": "stderr",
     "output_type": "stream",
     "text": [
      "Default metric period is 5 because AUC is/are not implemented for GPU\n"
     ]
    },
    {
     "name": "stdout",
     "output_type": "stream",
     "text": [
      "0:\ttest: 0.5178145\tbest: 0.5178145 (0)\ttotal: 114ms\tremaining: 3m 48s\n",
      "100:\ttest: 0.6808808\tbest: 0.6808808 (100)\ttotal: 12s\tremaining: 3m 45s\n",
      "200:\ttest: 0.6848010\tbest: 0.6849897 (190)\ttotal: 24.1s\tremaining: 3m 36s\n",
      "300:\ttest: 0.6885545\tbest: 0.6886419 (296)\ttotal: 36.3s\tremaining: 3m 24s\n",
      "400:\ttest: 0.6907715\tbest: 0.6908626 (390)\ttotal: 48.5s\tremaining: 3m 13s\n",
      "500:\ttest: 0.6914823\tbest: 0.6916336 (472)\ttotal: 1m\tremaining: 3m 1s\n",
      "600:\ttest: 0.6918005\tbest: 0.6920962 (584)\ttotal: 1m 12s\tremaining: 2m 49s\n",
      "bestTest = 0.6920962334\n",
      "bestIteration = 584\n",
      "Shrink model to first 585 iterations.\n"
     ]
    },
    {
     "name": "stderr",
     "output_type": "stream",
     "text": [
      "Default metric period is 5 because AUC is/are not implemented for GPU\n"
     ]
    },
    {
     "name": "stdout",
     "output_type": "stream",
     "text": [
      "0:\ttest: 0.5178145\tbest: 0.5178145 (0)\ttotal: 113ms\tremaining: 3m 45s\n",
      "100:\ttest: 0.6833601\tbest: 0.6834788 (97)\ttotal: 12s\tremaining: 3m 45s\n",
      "200:\ttest: 0.6876944\tbest: 0.6888922 (157)\ttotal: 24.1s\tremaining: 3m 36s\n",
      "300:\ttest: 0.6915982\tbest: 0.6917314 (292)\ttotal: 36.2s\tremaining: 3m 24s\n",
      "400:\ttest: 0.6925346\tbest: 0.6928388 (382)\ttotal: 48.4s\tremaining: 3m 12s\n",
      "500:\ttest: 0.6920408\tbest: 0.6930097 (474)\ttotal: 1m\tremaining: 3m 1s\n",
      "bestTest = 0.6930096745\n",
      "bestIteration = 474\n",
      "Shrink model to first 475 iterations.\n"
     ]
    },
    {
     "name": "stderr",
     "output_type": "stream",
     "text": [
      "Default metric period is 5 because AUC is/are not implemented for GPU\n"
     ]
    },
    {
     "name": "stdout",
     "output_type": "stream",
     "text": [
      "0:\ttest: 0.5178145\tbest: 0.5178145 (0)\ttotal: 114ms\tremaining: 3m 47s\n",
      "100:\ttest: 0.6817006\tbest: 0.6819904 (98)\ttotal: 12.1s\tremaining: 3m 47s\n",
      "200:\ttest: 0.6878816\tbest: 0.6885818 (191)\ttotal: 24.3s\tremaining: 3m 37s\n",
      "300:\ttest: 0.6925366\tbest: 0.6925366 (300)\ttotal: 36.5s\tremaining: 3m 25s\n",
      "400:\ttest: 0.6937939\tbest: 0.6938137 (399)\ttotal: 48.7s\tremaining: 3m 14s\n",
      "500:\ttest: 0.6934912\tbest: 0.6950227 (463)\ttotal: 1m\tremaining: 3m 2s\n",
      "bestTest = 0.6950227022\n",
      "bestIteration = 463\n",
      "Shrink model to first 464 iterations.\n"
     ]
    },
    {
     "name": "stderr",
     "output_type": "stream",
     "text": [
      "Default metric period is 5 because AUC is/are not implemented for GPU\n"
     ]
    },
    {
     "name": "stdout",
     "output_type": "stream",
     "text": [
      "0:\ttest: 0.5178145\tbest: 0.5178145 (0)\ttotal: 114ms\tremaining: 3m 48s\n",
      "100:\ttest: 0.6847400\tbest: 0.6849370 (98)\ttotal: 12.2s\tremaining: 3m 48s\n",
      "200:\ttest: 0.6882715\tbest: 0.6888714 (188)\ttotal: 24.3s\tremaining: 3m 37s\n",
      "bestTest = 0.6888713539\n",
      "bestIteration = 188\n",
      "Shrink model to first 189 iterations.\n"
     ]
    },
    {
     "name": "stderr",
     "output_type": "stream",
     "text": [
      "Default metric period is 5 because AUC is/are not implemented for GPU\n"
     ]
    },
    {
     "name": "stdout",
     "output_type": "stream",
     "text": [
      "0:\ttest: 0.5178145\tbest: 0.5178145 (0)\ttotal: 112ms\tremaining: 3m 44s\n",
      "100:\ttest: 0.6496317\tbest: 0.6496317 (100)\ttotal: 11.5s\tremaining: 3m 37s\n",
      "200:\ttest: 0.6782123\tbest: 0.6782691 (192)\ttotal: 23.6s\tremaining: 3m 31s\n",
      "300:\ttest: 0.6823149\tbest: 0.6823359 (299)\ttotal: 35.8s\tremaining: 3m 21s\n",
      "400:\ttest: 0.6864835\tbest: 0.6864835 (400)\ttotal: 48s\tremaining: 3m 11s\n",
      "500:\ttest: 0.6880803\tbest: 0.6880803 (500)\ttotal: 1m\tremaining: 3m\n",
      "600:\ttest: 0.6893405\tbest: 0.6893429 (595)\ttotal: 1m 12s\tremaining: 2m 48s\n",
      "700:\ttest: 0.6894852\tbest: 0.6895149 (692)\ttotal: 1m 24s\tremaining: 2m 36s\n",
      "800:\ttest: 0.6901717\tbest: 0.6903692 (768)\ttotal: 1m 36s\tremaining: 2m 24s\n",
      "bestTest = 0.690369159\n",
      "bestIteration = 768\n",
      "Shrink model to first 769 iterations.\n"
     ]
    },
    {
     "name": "stderr",
     "output_type": "stream",
     "text": [
      "Default metric period is 5 because AUC is/are not implemented for GPU\n"
     ]
    },
    {
     "name": "stdout",
     "output_type": "stream",
     "text": [
      "0:\ttest: 0.5178145\tbest: 0.5178145 (0)\ttotal: 113ms\tremaining: 3m 46s\n",
      "100:\ttest: 0.6749967\tbest: 0.6751577 (89)\ttotal: 11.8s\tremaining: 3m 42s\n",
      "200:\ttest: 0.6836345\tbest: 0.6837077 (197)\ttotal: 24.1s\tremaining: 3m 35s\n",
      "300:\ttest: 0.6853330\tbest: 0.6858531 (284)\ttotal: 36.2s\tremaining: 3m 24s\n",
      "400:\ttest: 0.6875600\tbest: 0.6875788 (398)\ttotal: 48.3s\tremaining: 3m 12s\n",
      "500:\ttest: 0.6897893\tbest: 0.6897893 (500)\ttotal: 1m\tremaining: 3m\n",
      "600:\ttest: 0.6899650\tbest: 0.6904876 (563)\ttotal: 1m 12s\tremaining: 2m 49s\n",
      "bestTest = 0.6904875934\n",
      "bestIteration = 563\n",
      "Shrink model to first 564 iterations.\n"
     ]
    },
    {
     "name": "stderr",
     "output_type": "stream",
     "text": [
      "Default metric period is 5 because AUC is/are not implemented for GPU\n"
     ]
    },
    {
     "name": "stdout",
     "output_type": "stream",
     "text": [
      "0:\ttest: 0.5178145\tbest: 0.5178145 (0)\ttotal: 116ms\tremaining: 3m 52s\n",
      "100:\ttest: 0.6851253\tbest: 0.6851253 (100)\ttotal: 12.1s\tremaining: 3m 46s\n",
      "200:\ttest: 0.6889363\tbest: 0.6898650 (159)\ttotal: 24.2s\tremaining: 3m 36s\n",
      "300:\ttest: 0.6923009\tbest: 0.6923009 (300)\ttotal: 36.4s\tremaining: 3m 25s\n",
      "400:\ttest: 0.6944589\tbest: 0.6944589 (400)\ttotal: 48.8s\tremaining: 3m 14s\n",
      "500:\ttest: 0.6946329\tbest: 0.6956307 (469)\ttotal: 1m 1s\tremaining: 3m 3s\n",
      "bestTest = 0.6956306696\n",
      "bestIteration = 469\n",
      "Shrink model to first 470 iterations.\n"
     ]
    },
    {
     "name": "stderr",
     "output_type": "stream",
     "text": [
      "Default metric period is 5 because AUC is/are not implemented for GPU\n"
     ]
    },
    {
     "name": "stdout",
     "output_type": "stream",
     "text": [
      "0:\ttest: 0.5178145\tbest: 0.5178145 (0)\ttotal: 113ms\tremaining: 3m 46s\n",
      "100:\ttest: 0.6859019\tbest: 0.6860876 (98)\ttotal: 12.4s\tremaining: 3m 52s\n",
      "200:\ttest: 0.6909734\tbest: 0.6913345 (198)\ttotal: 24.7s\tremaining: 3m 40s\n",
      "300:\ttest: 0.6950652\tbest: 0.6950652 (300)\ttotal: 37s\tremaining: 3m 28s\n",
      "400:\ttest: 0.6969746\tbest: 0.6969911 (399)\ttotal: 49.4s\tremaining: 3m 16s\n",
      "bestTest = 0.6973193586\n",
      "bestIteration = 405\n",
      "Shrink model to first 406 iterations.\n"
     ]
    },
    {
     "name": "stderr",
     "output_type": "stream",
     "text": [
      "Default metric period is 5 because AUC is/are not implemented for GPU\n"
     ]
    },
    {
     "name": "stdout",
     "output_type": "stream",
     "text": [
      "0:\ttest: 0.5178145\tbest: 0.5178145 (0)\ttotal: 115ms\tremaining: 3m 49s\n",
      "100:\ttest: 0.6847483\tbest: 0.6853975 (82)\ttotal: 12.2s\tremaining: 3m 49s\n",
      "200:\ttest: 0.6875815\tbest: 0.6881780 (175)\ttotal: 24.4s\tremaining: 3m 38s\n",
      "300:\ttest: 0.6920264\tbest: 0.6920264 (300)\ttotal: 36.8s\tremaining: 3m 27s\n",
      "bestTest = 0.6925829351\n",
      "bestIteration = 315\n",
      "Shrink model to first 316 iterations.\n"
     ]
    },
    {
     "name": "stderr",
     "output_type": "stream",
     "text": [
      "Default metric period is 5 because AUC is/are not implemented for GPU\n"
     ]
    },
    {
     "name": "stdout",
     "output_type": "stream",
     "text": [
      "0:\ttest: 0.5115089\tbest: 0.5115089 (0)\ttotal: 115ms\tremaining: 4m 47s\n",
      "100:\ttest: 0.6518429\tbest: 0.6520536 (99)\ttotal: 11.8s\tremaining: 4m 40s\n",
      "200:\ttest: 0.6730587\tbest: 0.6731268 (199)\ttotal: 23.8s\tremaining: 4m 31s\n",
      "300:\ttest: 0.6787929\tbest: 0.6788389 (296)\ttotal: 35.9s\tremaining: 4m 22s\n",
      "400:\ttest: 0.6829245\tbest: 0.6829245 (400)\ttotal: 48.1s\tremaining: 4m 11s\n",
      "500:\ttest: 0.6842913\tbest: 0.6843105 (498)\ttotal: 1m\tremaining: 4m\n",
      "600:\ttest: 0.6848809\tbest: 0.6849787 (597)\ttotal: 1m 12s\tremaining: 3m 49s\n",
      "700:\ttest: 0.6853325\tbest: 0.6856858 (657)\ttotal: 1m 24s\tremaining: 3m 37s\n",
      "800:\ttest: 0.6871946\tbest: 0.6871946 (800)\ttotal: 1m 36s\tremaining: 3m 25s\n",
      "900:\ttest: 0.6878414\tbest: 0.6878414 (900)\ttotal: 1m 49s\tremaining: 3m 13s\n",
      "1000:\ttest: 0.6876734\tbest: 0.6880620 (945)\ttotal: 2m 1s\tremaining: 3m 1s\n",
      "bestTest = 0.6880619526\n",
      "bestIteration = 945\n",
      "Shrink model to first 946 iterations.\n"
     ]
    },
    {
     "name": "stderr",
     "output_type": "stream",
     "text": [
      "Default metric period is 5 because AUC is/are not implemented for GPU\n"
     ]
    },
    {
     "name": "stdout",
     "output_type": "stream",
     "text": [
      "0:\ttest: 0.5115089\tbest: 0.5115089 (0)\ttotal: 114ms\tremaining: 4m 46s\n",
      "100:\ttest: 0.6736213\tbest: 0.6736213 (100)\ttotal: 11.8s\tremaining: 4m 41s\n",
      "200:\ttest: 0.6828439\tbest: 0.6830374 (199)\ttotal: 23.9s\tremaining: 4m 33s\n",
      "300:\ttest: 0.6848649\tbest: 0.6853450 (284)\ttotal: 36s\tremaining: 4m 22s\n",
      "400:\ttest: 0.6871296\tbest: 0.6871296 (400)\ttotal: 48s\tremaining: 4m 11s\n",
      "500:\ttest: 0.6871026\tbest: 0.6879568 (464)\ttotal: 60s\tremaining: 3m 59s\n",
      "bestTest = 0.68795681\n",
      "bestIteration = 464\n",
      "Shrink model to first 465 iterations.\n"
     ]
    },
    {
     "name": "stderr",
     "output_type": "stream",
     "text": [
      "Default metric period is 5 because AUC is/are not implemented for GPU\n"
     ]
    },
    {
     "name": "stdout",
     "output_type": "stream",
     "text": [
      "0:\ttest: 0.5115089\tbest: 0.5115089 (0)\ttotal: 112ms\tremaining: 4m 40s\n",
      "100:\ttest: 0.6778263\tbest: 0.6778315 (98)\ttotal: 12s\tremaining: 4m 45s\n",
      "200:\ttest: 0.6845806\tbest: 0.6851730 (197)\ttotal: 24.1s\tremaining: 4m 35s\n",
      "300:\ttest: 0.6871324\tbest: 0.6876992 (289)\ttotal: 36.2s\tremaining: 4m 24s\n",
      "400:\ttest: 0.6874338\tbest: 0.6884686 (335)\ttotal: 48.3s\tremaining: 4m 12s\n",
      "bestTest = 0.6884686053\n",
      "bestIteration = 335\n",
      "Shrink model to first 336 iterations.\n"
     ]
    },
    {
     "name": "stderr",
     "output_type": "stream",
     "text": [
      "Default metric period is 5 because AUC is/are not implemented for GPU\n"
     ]
    },
    {
     "name": "stdout",
     "output_type": "stream",
     "text": [
      "0:\ttest: 0.5115089\tbest: 0.5115089 (0)\ttotal: 115ms\tremaining: 4m 48s\n",
      "100:\ttest: 0.6780067\tbest: 0.6783530 (89)\ttotal: 12.2s\tremaining: 4m 48s\n",
      "200:\ttest: 0.6830119\tbest: 0.6830119 (200)\ttotal: 24.2s\tremaining: 4m 36s\n",
      "300:\ttest: 0.6832012\tbest: 0.6850940 (236)\ttotal: 36.3s\tremaining: 4m 25s\n",
      "bestTest = 0.6850940287\n",
      "bestIteration = 236\n",
      "Shrink model to first 237 iterations.\n"
     ]
    },
    {
     "name": "stderr",
     "output_type": "stream",
     "text": [
      "Default metric period is 5 because AUC is/are not implemented for GPU\n"
     ]
    },
    {
     "name": "stdout",
     "output_type": "stream",
     "text": [
      "0:\ttest: 0.5115089\tbest: 0.5115089 (0)\ttotal: 114ms\tremaining: 4m 45s\n",
      "100:\ttest: 0.6782370\tbest: 0.6800392 (53)\ttotal: 12.2s\tremaining: 4m 49s\n",
      "200:\ttest: 0.6836441\tbest: 0.6837509 (199)\ttotal: 24.2s\tremaining: 4m 37s\n",
      "bestTest = 0.6851514876\n",
      "bestIteration = 209\n",
      "Shrink model to first 210 iterations.\n"
     ]
    },
    {
     "name": "stderr",
     "output_type": "stream",
     "text": [
      "Default metric period is 5 because AUC is/are not implemented for GPU\n"
     ]
    },
    {
     "name": "stdout",
     "output_type": "stream",
     "text": [
      "0:\ttest: 0.5272352\tbest: 0.5272352 (0)\ttotal: 116ms\tremaining: 4m 49s\n",
      "100:\ttest: 0.6541376\tbest: 0.6541376 (100)\ttotal: 11.9s\tremaining: 4m 43s\n",
      "200:\ttest: 0.6761395\tbest: 0.6761415 (198)\ttotal: 23.9s\tremaining: 4m 32s\n",
      "300:\ttest: 0.6835328\tbest: 0.6835328 (300)\ttotal: 36s\tremaining: 4m 22s\n",
      "400:\ttest: 0.6860912\tbest: 0.6860912 (400)\ttotal: 48.2s\tremaining: 4m 12s\n",
      "500:\ttest: 0.6872685\tbest: 0.6874145 (498)\ttotal: 1m\tremaining: 4m\n",
      "600:\ttest: 0.6874831\tbest: 0.6876007 (545)\ttotal: 1m 12s\tremaining: 3m 48s\n",
      "700:\ttest: 0.6881645\tbest: 0.6882722 (682)\ttotal: 1m 24s\tremaining: 3m 36s\n",
      "800:\ttest: 0.6891048\tbest: 0.6891475 (763)\ttotal: 1m 36s\tremaining: 3m 24s\n",
      "bestTest = 0.6892986596\n",
      "bestIteration = 809\n",
      "Shrink model to first 810 iterations.\n"
     ]
    },
    {
     "name": "stderr",
     "output_type": "stream",
     "text": [
      "Default metric period is 5 because AUC is/are not implemented for GPU\n"
     ]
    },
    {
     "name": "stdout",
     "output_type": "stream",
     "text": [
      "0:\ttest: 0.5272352\tbest: 0.5272352 (0)\ttotal: 113ms\tremaining: 4m 41s\n",
      "100:\ttest: 0.6735795\tbest: 0.6735795 (100)\ttotal: 11.9s\tremaining: 4m 41s\n",
      "200:\ttest: 0.6834253\tbest: 0.6837411 (199)\ttotal: 24s\tremaining: 4m 33s\n",
      "300:\ttest: 0.6859432\tbest: 0.6859793 (286)\ttotal: 36s\tremaining: 4m 22s\n",
      "400:\ttest: 0.6897323\tbest: 0.6897323 (400)\ttotal: 48s\tremaining: 4m 11s\n",
      "500:\ttest: 0.6901496\tbest: 0.6904985 (463)\ttotal: 1m\tremaining: 3m 59s\n",
      "bestTest = 0.6904984713\n",
      "bestIteration = 463\n",
      "Shrink model to first 464 iterations.\n"
     ]
    },
    {
     "name": "stderr",
     "output_type": "stream",
     "text": [
      "Default metric period is 5 because AUC is/are not implemented for GPU\n"
     ]
    },
    {
     "name": "stdout",
     "output_type": "stream",
     "text": [
      "0:\ttest: 0.5272352\tbest: 0.5272352 (0)\ttotal: 113ms\tremaining: 4m 41s\n",
      "100:\ttest: 0.6799353\tbest: 0.6800646 (99)\ttotal: 12.1s\tremaining: 4m 47s\n",
      "200:\ttest: 0.6843316\tbest: 0.6848106 (165)\ttotal: 24.2s\tremaining: 4m 37s\n",
      "300:\ttest: 0.6856999\tbest: 0.6858079 (235)\ttotal: 36.2s\tremaining: 4m 24s\n",
      "400:\ttest: 0.6866497\tbest: 0.6866497 (400)\ttotal: 48.3s\tremaining: 4m 12s\n",
      "500:\ttest: 0.6861903\tbest: 0.6872237 (429)\ttotal: 1m\tremaining: 4m 1s\n",
      "bestTest = 0.6872236729\n",
      "bestIteration = 429\n",
      "Shrink model to first 430 iterations.\n"
     ]
    },
    {
     "name": "stderr",
     "output_type": "stream",
     "text": [
      "Default metric period is 5 because AUC is/are not implemented for GPU\n"
     ]
    },
    {
     "name": "stdout",
     "output_type": "stream",
     "text": [
      "0:\ttest: 0.5272352\tbest: 0.5272352 (0)\ttotal: 112ms\tremaining: 4m 39s\n",
      "100:\ttest: 0.6798078\tbest: 0.6802268 (89)\ttotal: 12s\tremaining: 4m 45s\n",
      "200:\ttest: 0.6864540\tbest: 0.6865829 (197)\ttotal: 24s\tremaining: 4m 35s\n",
      "300:\ttest: 0.6859202\tbest: 0.6868235 (222)\ttotal: 36.1s\tremaining: 4m 23s\n",
      "bestTest = 0.6868235469\n",
      "bestIteration = 222\n",
      "Shrink model to first 223 iterations.\n"
     ]
    },
    {
     "name": "stderr",
     "output_type": "stream",
     "text": [
      "Default metric period is 5 because AUC is/are not implemented for GPU\n"
     ]
    },
    {
     "name": "stdout",
     "output_type": "stream",
     "text": [
      "0:\ttest: 0.5272352\tbest: 0.5272352 (0)\ttotal: 113ms\tremaining: 4m 42s\n"
     ]
    },
    {
     "ename": "KeyboardInterrupt",
     "evalue": "",
     "output_type": "error",
     "traceback": [
      "\u001b[1;31m---------------------------------------------------------------------------\u001b[0m",
      "\u001b[1;31mKeyboardInterrupt\u001b[0m                         Traceback (most recent call last)",
      "Cell \u001b[1;32mIn[206], line 37\u001b[0m\n\u001b[0;32m     26\u001b[0m \u001b[38;5;28;01mfor\u001b[39;00m params \u001b[38;5;129;01min\u001b[39;00m ParameterGrid(param_grid):\n\u001b[0;32m     27\u001b[0m     clf \u001b[38;5;241m=\u001b[39m CatBoostClassifier(\n\u001b[0;32m     28\u001b[0m         cat_features\u001b[38;5;241m=\u001b[39mcat_features,\n\u001b[0;32m     29\u001b[0m         eval_metric\u001b[38;5;241m=\u001b[39m\u001b[38;5;124m'\u001b[39m\u001b[38;5;124mAUC\u001b[39m\u001b[38;5;124m'\u001b[39m,\n\u001b[1;32m   (...)\u001b[0m\n\u001b[0;32m     34\u001b[0m         \u001b[38;5;241m*\u001b[39m\u001b[38;5;241m*\u001b[39mparams\n\u001b[0;32m     35\u001b[0m     )\n\u001b[1;32m---> 37\u001b[0m     clf\u001b[38;5;241m.\u001b[39mfit(\n\u001b[0;32m     38\u001b[0m         train_pool,\n\u001b[0;32m     39\u001b[0m         eval_set\u001b[38;5;241m=\u001b[39meval_pool,\n\u001b[0;32m     40\u001b[0m         verbose\u001b[38;5;241m=\u001b[39m\u001b[38;5;241m100\u001b[39m,\n\u001b[0;32m     41\u001b[0m         early_stopping_rounds\u001b[38;5;241m=\u001b[39m\u001b[38;5;241m80\u001b[39m\n\u001b[0;32m     42\u001b[0m     )\n\u001b[0;32m     44\u001b[0m     roc_auc \u001b[38;5;241m=\u001b[39m roc_auc_score(Y_test, clf\u001b[38;5;241m.\u001b[39mpredict_proba(X_test)[:, \u001b[38;5;241m1\u001b[39m])\n\u001b[0;32m     46\u001b[0m     \u001b[38;5;28;01mif\u001b[39;00m roc_auc \u001b[38;5;241m>\u001b[39m best_score:\n",
      "File \u001b[1;32mG:\\anaconda\\Lib\\site-packages\\catboost\\core.py:5220\u001b[0m, in \u001b[0;36mCatBoostClassifier.fit\u001b[1;34m(self, X, y, cat_features, text_features, embedding_features, sample_weight, baseline, use_best_model, eval_set, verbose, logging_level, plot, plot_file, column_description, verbose_eval, metric_period, silent, early_stopping_rounds, save_snapshot, snapshot_file, snapshot_interval, init_model, callbacks, log_cout, log_cerr)\u001b[0m\n\u001b[0;32m   5217\u001b[0m \u001b[38;5;28;01mif\u001b[39;00m \u001b[38;5;124m'\u001b[39m\u001b[38;5;124mloss_function\u001b[39m\u001b[38;5;124m'\u001b[39m \u001b[38;5;129;01min\u001b[39;00m params:\n\u001b[0;32m   5218\u001b[0m     CatBoostClassifier\u001b[38;5;241m.\u001b[39m_check_is_compatible_loss(params[\u001b[38;5;124m'\u001b[39m\u001b[38;5;124mloss_function\u001b[39m\u001b[38;5;124m'\u001b[39m])\n\u001b[1;32m-> 5220\u001b[0m \u001b[38;5;28mself\u001b[39m\u001b[38;5;241m.\u001b[39m_fit(X, y, cat_features, text_features, embedding_features, \u001b[38;5;28;01mNone\u001b[39;00m, sample_weight, \u001b[38;5;28;01mNone\u001b[39;00m, \u001b[38;5;28;01mNone\u001b[39;00m, \u001b[38;5;28;01mNone\u001b[39;00m, \u001b[38;5;28;01mNone\u001b[39;00m, baseline, use_best_model,\n\u001b[0;32m   5221\u001b[0m           eval_set, verbose, logging_level, plot, plot_file, column_description, verbose_eval, metric_period,\n\u001b[0;32m   5222\u001b[0m           silent, early_stopping_rounds, save_snapshot, snapshot_file, snapshot_interval, init_model, callbacks, log_cout, log_cerr)\n\u001b[0;32m   5223\u001b[0m \u001b[38;5;28;01mreturn\u001b[39;00m \u001b[38;5;28mself\u001b[39m\n",
      "File \u001b[1;32mG:\\anaconda\\Lib\\site-packages\\catboost\\core.py:2400\u001b[0m, in \u001b[0;36mCatBoost._fit\u001b[1;34m(self, X, y, cat_features, text_features, embedding_features, pairs, sample_weight, group_id, group_weight, subgroup_id, pairs_weight, baseline, use_best_model, eval_set, verbose, logging_level, plot, plot_file, column_description, verbose_eval, metric_period, silent, early_stopping_rounds, save_snapshot, snapshot_file, snapshot_interval, init_model, callbacks, log_cout, log_cerr)\u001b[0m\n\u001b[0;32m   2397\u001b[0m allow_clear_pool \u001b[38;5;241m=\u001b[39m train_params[\u001b[38;5;124m\"\u001b[39m\u001b[38;5;124mallow_clear_pool\u001b[39m\u001b[38;5;124m\"\u001b[39m]\n\u001b[0;32m   2399\u001b[0m \u001b[38;5;28;01mwith\u001b[39;00m plot_wrapper(plot, plot_file, \u001b[38;5;124m'\u001b[39m\u001b[38;5;124mTraining plots\u001b[39m\u001b[38;5;124m'\u001b[39m, [_get_train_dir(\u001b[38;5;28mself\u001b[39m\u001b[38;5;241m.\u001b[39mget_params())]):\n\u001b[1;32m-> 2400\u001b[0m     \u001b[38;5;28mself\u001b[39m\u001b[38;5;241m.\u001b[39m_train(\n\u001b[0;32m   2401\u001b[0m         train_pool,\n\u001b[0;32m   2402\u001b[0m         train_params[\u001b[38;5;124m\"\u001b[39m\u001b[38;5;124meval_sets\u001b[39m\u001b[38;5;124m\"\u001b[39m],\n\u001b[0;32m   2403\u001b[0m         params,\n\u001b[0;32m   2404\u001b[0m         allow_clear_pool,\n\u001b[0;32m   2405\u001b[0m         train_params[\u001b[38;5;124m\"\u001b[39m\u001b[38;5;124minit_model\u001b[39m\u001b[38;5;124m\"\u001b[39m]\n\u001b[0;32m   2406\u001b[0m     )\n\u001b[0;32m   2408\u001b[0m \u001b[38;5;66;03m# Have property feature_importance possibly set\u001b[39;00m\n\u001b[0;32m   2409\u001b[0m loss \u001b[38;5;241m=\u001b[39m \u001b[38;5;28mself\u001b[39m\u001b[38;5;241m.\u001b[39m_object\u001b[38;5;241m.\u001b[39m_get_loss_function_name()\n",
      "File \u001b[1;32mG:\\anaconda\\Lib\\site-packages\\catboost\\core.py:1780\u001b[0m, in \u001b[0;36m_CatBoostBase._train\u001b[1;34m(self, train_pool, test_pool, params, allow_clear_pool, init_model)\u001b[0m\n\u001b[0;32m   1779\u001b[0m \u001b[38;5;28;01mdef\u001b[39;00m \u001b[38;5;21m_train\u001b[39m(\u001b[38;5;28mself\u001b[39m, train_pool, test_pool, params, allow_clear_pool, init_model):\n\u001b[1;32m-> 1780\u001b[0m     \u001b[38;5;28mself\u001b[39m\u001b[38;5;241m.\u001b[39m_object\u001b[38;5;241m.\u001b[39m_train(train_pool, test_pool, params, allow_clear_pool, init_model\u001b[38;5;241m.\u001b[39m_object \u001b[38;5;28;01mif\u001b[39;00m init_model \u001b[38;5;28;01melse\u001b[39;00m \u001b[38;5;28;01mNone\u001b[39;00m)\n\u001b[0;32m   1781\u001b[0m     \u001b[38;5;28mself\u001b[39m\u001b[38;5;241m.\u001b[39m_set_trained_model_attributes()\n",
      "File \u001b[1;32m_catboost.pyx:4833\u001b[0m, in \u001b[0;36m_catboost._CatBoost._train\u001b[1;34m()\u001b[0m\n",
      "File \u001b[1;32m_catboost.pyx:4882\u001b[0m, in \u001b[0;36m_catboost._CatBoost._train\u001b[1;34m()\u001b[0m\n",
      "\u001b[1;31mKeyboardInterrupt\u001b[0m: "
     ]
    }
   ],
   "source": [
    "from catboost import CatBoostClassifier, Pool\n",
    "from sklearn.metrics import roc_auc_score\n",
    "from sklearn.model_selection import ParameterGrid\n",
    "\n",
    "# Определение параметров для поиска по сетке\n",
    "param_grid = {\n",
    "    \"iterations\": [500, 1000, 1500, 2000, 2500, 3000],\n",
    "    \"depth\": [4, 6, 8, 10],\n",
    "    \"learning_rate\": [0.01, 0.02, 0.03, 0.04, 0.05],\n",
    "    \"l2_leaf_reg\": [1, 3, 5, 7, 9],\n",
    "    \"border_count\": [32, 64, 128],\n",
    "}\n",
    "\n",
    "# Подготовка данных (пример)\n",
    "# X_train, X_test, Y_train, Y_test - ваши данные\n",
    "# cat_features - категориальные признаки\n",
    "\n",
    "# Объединение данных в пул\n",
    "train_pool = Pool(X_train, Y_train, cat_features=cat_features)\n",
    "eval_pool = Pool(X_test, Y_test, cat_features=cat_features)\n",
    "\n",
    "best_score = 0\n",
    "best_params = {}\n",
    "\n",
    "# Перебор всех комбинаций параметров\n",
    "for params in ParameterGrid(param_grid):\n",
    "    clf = CatBoostClassifier(\n",
    "        cat_features=cat_features,\n",
    "        eval_metric='AUC',\n",
    "        train_dir=\"base\",\n",
    "        early_stopping_rounds=80,\n",
    "        task_type=task_type,\n",
    "        devices=devices,\n",
    "        **params\n",
    "    )\n",
    "    \n",
    "    clf.fit(\n",
    "        train_pool,\n",
    "        eval_set=eval_pool,\n",
    "        verbose=100,\n",
    "        early_stopping_rounds=80\n",
    "    )\n",
    "    \n",
    "    roc_auc = roc_auc_score(Y_test, clf.predict_proba(X_test)[:, 1])\n",
    "    \n",
    "    if roc_auc > best_score:\n",
    "        best_score = roc_auc\n",
    "        best_params = params\n",
    "\n",
    "print(\"Best AUC: \", best_score)\n",
    "print(\"Best Params: \", best_params)"
   ]
  },
  {
   "cell_type": "code",
   "execution_count": null,
   "metadata": {},
   "outputs": [],
   "source": []
  },
  {
   "cell_type": "code",
   "execution_count": null,
   "metadata": {},
   "outputs": [],
   "source": [
    "from catboost import CatBoostClassifier, Pool\n",
    "\n",
    "# Определение параметров для поиска по сетке\n",
    "param_grid = {\n",
    "    \"iterations\": [500, 1000, 1500, 2000, 2500, 3000],\n",
    "#     \"depth\": [4, 6, 8, 10],\n",
    "#     \"learning_rate\": [0.01, 0.02, 0.03, 0.04, 0.05],\n",
    "#     \"l2_leaf_reg\": [1, 3, 5, 7, 9],\n",
    "#     \"border_count\": [32, 64, 128],\n",
    "}\n",
    "\n",
    "# Подготовка данных (пример)\n",
    "# X_train, X_test, Y_train, Y_test - ваши данные\n",
    "# cat_features - категориальные признаки\n",
    "\n",
    "# Объединение данных в пул\n",
    "train_pool = Pool(X_train, Y_train, cat_features=cat_features)\n",
    "eval_pool = Pool(X_test, Y_test, cat_features=cat_features)\n",
    "\n",
    "# Создание модели\n",
    "clf = CatBoostClassifier(\n",
    "    cat_features=cat_features,\n",
    "    eval_metric='AUC',\n",
    "    train_dir=\"base\",\n",
    "    early_stopping_rounds=80,\n",
    "    task_type=task_type,\n",
    "    devices=devices,\n",
    ")\n",
    "\n",
    "# Выполнение поиска по сетке\n",
    "grid_search_result = clf.grid_search(\n",
    "    param_grid,\n",
    "    X=train_pool,\n",
    "    stratified=True,\n",
    "    verbose=100\n",
    ")"
   ]
  },
  {
   "cell_type": "code",
   "execution_count": 60,
   "metadata": {},
   "outputs": [
    {
     "name": "stdout",
     "output_type": "stream",
     "text": [
      "Best AUC:  0.6650912960370382\n",
      "Best Params:  {'iterations': 500}\n"
     ]
    }
   ],
   "source": [
    "# Получение лучших параметров и лучшего результата\n",
    "best_params = grid_search_result['params']\n",
    "best_score = np.max(grid_search_result['cv_results']['test-AUC-mean'])\n",
    "\n",
    "print(\"Best AUC: \", best_score)\n",
    "print(\"Best Params: \", best_params)"
   ]
  },
  {
   "cell_type": "code",
   "execution_count": 58,
   "metadata": {},
   "outputs": [
    {
     "data": {
      "text/plain": [
       "dict_keys(['iterations', 'test-AUC-mean', 'test-AUC-std', 'test-Logloss-mean', 'test-Logloss-std', 'train-Logloss-mean', 'train-Logloss-std'])"
      ]
     },
     "execution_count": 58,
     "metadata": {},
     "output_type": "execute_result"
    }
   ],
   "source": [
    "grid_search_result['cv_results'].keys()"
   ]
  },
  {
   "cell_type": "code",
   "execution_count": null,
   "metadata": {},
   "outputs": [],
   "source": []
  },
  {
   "cell_type": "code",
   "execution_count": null,
   "metadata": {},
   "outputs": [],
   "source": [
    "from catboost import CatBoostClassifier, Pool\n",
    "\n",
    "# Определение параметров для поиска по сетке\n",
    "param_grid = {\n",
    "    \"iterations\": [500, 1000, 1500, 2000, 2500, 3000],\n",
    "#     \"depth\": [4, 6, 8, 10],\n",
    "#     \"learning_rate\": [0.01, 0.02, 0.03, 0.04, 0.05],\n",
    "#     \"l2_leaf_reg\": [1, 3, 5, 7, 9],\n",
    "#     \"border_count\": [32, 64, 128],\n",
    "}\n",
    "\n",
    "# Подготовка данных (пример)\n",
    "# X и Y - ваши полные данные\n",
    "# cat_features - категориальные признаки\n",
    "\n",
    "# Объединение данных в пул\n",
    "data_pool = Pool(X, Y, cat_features=cat_features)\n",
    "\n",
    "# Создание модели\n",
    "clf = CatBoostClassifier(\n",
    "    cat_features=cat_features,\n",
    "    eval_metric='AUC',\n",
    "    train_dir=\"base\",\n",
    "    early_stopping_rounds=80,\n",
    "    task_type=task_type,\n",
    "    devices=devices,\n",
    ")\n",
    "\n",
    "# Выполнение поиска по сетке\n",
    "grid_search_result = clf.grid_search(\n",
    "    param_grid,\n",
    "    X=data_pool,\n",
    "#     y=Y,\n",
    "    cv=3,\n",
    "    partition_random_seed=SEED,\n",
    "    calc_cv_statistics=True,\n",
    "    search_by_train_test_split=True,\n",
    "    refit=True,\n",
    "    shuffle=True,\n",
    "    stratified=True,\n",
    "    train_size=0.8,\n",
    "    verbose=True,\n",
    "    plot=True,\n",
    ")"
   ]
  },
  {
   "cell_type": "code",
   "execution_count": null,
   "metadata": {},
   "outputs": [],
   "source": [
    "# Получение лучших параметров и лучшего результата\n",
    "best_params = grid_search_result['params']\n",
    "best_score = grid_search_result['cv_results']['test-AUC-mean'].max()\n",
    "\n",
    "print(\"Best AUC: \", best_score)\n",
    "print(\"Best Params: \", best_params)"
   ]
  }
 ],
 "metadata": {
  "colab": {
   "provenance": []
  },
  "kernelspec": {
   "display_name": "Python 3 (ipykernel)",
   "language": "python",
   "name": "python3"
  },
  "language_info": {
   "codemirror_mode": {
    "name": "ipython",
    "version": 3
   },
   "file_extension": ".py",
   "mimetype": "text/x-python",
   "name": "python",
   "nbconvert_exporter": "python",
   "pygments_lexer": "ipython3",
   "version": "3.11.5"
  },
  "widgets": {
   "application/vnd.jupyter.widget-state+json": {
    "state": {},
    "version_major": 2,
    "version_minor": 0
   }
  }
 },
 "nbformat": 4,
 "nbformat_minor": 4
}
