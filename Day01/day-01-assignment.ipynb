{
 "cells": [
  {
   "cell_type": "markdown",
   "metadata": {
    "id": "RgdhN7YNpEIc"
   },
   "source": [
    "# День 01 — Дескриптивный и разведочный анализ данных"
   ]
  },
  {
   "cell_type": "markdown",
   "metadata": {
    "id": "_qME3leHpEIh"
   },
   "source": [
    "Пришло время познакомиться с данными получше. Когда начинаешь дескриптивный и разведочный анализ, никогда не знаешь, что найдешь. И найдешь ли что-то интересное вообще? Посмотрим, удастся ли нам найти какие-то любопытные инсайты на этом этапе анализа данных."
   ]
  },
  {
   "cell_type": "markdown",
   "metadata": {
    "id": "9qtAbHzLpEIi"
   },
   "source": [
    "Для начала импортируй библиотеки, которые понадобятся нам в работе."
   ]
  },
  {
   "cell_type": "code",
   "execution_count": null,
   "metadata": {},
   "outputs": [],
   "source": [
    "# Это не нужно, т.к. данные берем из каггла\n",
    "\n",
    "# # пытаемся подключить гугл-диск, если рабоатем с колаба\n",
    "# try:\n",
    "#     from google.colab import drive\n",
    "#     drive.mount('/content/drive')\n",
    "# except:\n",
    "#     pass"
   ]
  },
  {
   "cell_type": "code",
   "execution_count": 1,
   "metadata": {
    "id": "JKRJ0FycpEIj"
   },
   "outputs": [],
   "source": [
    "import pandas as pd\n",
    "\n",
    "import seaborn as sns\n",
    "import matplotlib.pyplot as plt"
   ]
  },
  {
   "cell_type": "markdown",
   "metadata": {},
   "source": [
    "Если ячейка выше **не запускается**, то, скорее всего, **не установлена какая-либо библиотека**. **Чтобы установить библиотеку, напиши**:\n",
    "`pip install matplotlib` или `pip install seaborn` или `pip install pandas`"
   ]
  },
  {
   "cell_type": "markdown",
   "metadata": {
    "id": "y9Uki401pEIl"
   },
   "source": [
    "## Загрузка данных"
   ]
  },
  {
   "cell_type": "markdown",
   "metadata": {
    "id": "X-sqFhe5pEIm"
   },
   "source": [
    "Сегодня мы проведем дескриптивный анализ наших данных. Прежде чем приступать к дескриптивному анализу, необходимо понять, с какими данными мы имеем дело, и заблаговременно принять меры по их изменению или доработке."
   ]
  },
  {
   "cell_type": "markdown",
   "metadata": {},
   "source": [
    "Загрузим наши данные"
   ]
  },
  {
   "cell_type": "code",
   "execution_count": 2,
   "metadata": {},
   "outputs": [],
   "source": [
    "import os\n",
    "import gc\n",
    "from glob import glob\n",
    "from pathlib import Path\n",
    "\n",
    "# Путь к каталогу с датасетами\n",
    "path_to_dataset = './datasets'"
   ]
  },
  {
   "cell_type": "code",
   "execution_count": 3,
   "metadata": {},
   "outputs": [],
   "source": [
    "# Установка библиотеки Kaggle\n",
    "# !pip install kaggle\n",
    "\n",
    "if not Path(path_to_dataset).is_dir():\n",
    "    # Загрузка датасета\n",
    "    !kaggle datasets download -d saspav/21-school\n",
    "\n",
    "    # Распаковка загруженного файла\n",
    "    !unzip 21-school.zip -d datasets"
   ]
  },
  {
   "cell_type": "code",
   "execution_count": 13,
   "metadata": {
    "id": "CYjeaZZEpEIn"
   },
   "outputs": [
    {
     "name": "stdout",
     "output_type": "stream",
     "text": [
      "Wall time: 52.3 s\n"
     ]
    }
   ],
   "source": [
    "%%time\n",
    "# dataset_01_06 = pd.read_csv(\"путь к файлу dataset_01_06.csv\")\n",
    "# dataset_07_12 = pd.read_csv(\"путь к файлу dataset_07_12.csv\")\n",
    "dataset_01_06 = pd.read_csv(os.path.join(path_to_dataset, 'dataset_01_06.csv'))\n",
    "dataset_07_12 = pd.read_csv(os.path.join(path_to_dataset, 'dataset_07_12.csv'))"
   ]
  },
  {
   "cell_type": "markdown",
   "metadata": {},
   "source": [
    "Атрибут `.shape` выведет разметы датасета: (Количество строк, Количество столбцов)."
   ]
  },
  {
   "cell_type": "code",
   "execution_count": 14,
   "metadata": {},
   "outputs": [
    {
     "data": {
      "text/plain": [
       "(32092, 3648)"
      ]
     },
     "execution_count": 14,
     "metadata": {},
     "output_type": "execute_result"
    }
   ],
   "source": [
    "dataset_01_06.shape"
   ]
  },
  {
   "cell_type": "code",
   "execution_count": 15,
   "metadata": {},
   "outputs": [
    {
     "data": {
      "text/plain": [
       "(34661, 3648)"
      ]
     },
     "execution_count": 15,
     "metadata": {},
     "output_type": "execute_result"
    }
   ],
   "source": [
    "dataset_07_12.shape"
   ]
  },
  {
   "cell_type": "markdown",
   "metadata": {},
   "source": [
    "## Добавление нового признака"
   ]
  },
  {
   "cell_type": "markdown",
   "metadata": {},
   "source": [
    "Для удобства проведения EDA давай объединим 2 датасета, но перед эти добавим признак `period`."
   ]
  },
  {
   "cell_type": "code",
   "execution_count": 16,
   "metadata": {},
   "outputs": [],
   "source": [
    "dataset_01_06[\"period\"] = \"1 полугодие\"\n",
    "dataset_07_12[\"period\"] = \"2 полугодие\""
   ]
  },
  {
   "cell_type": "code",
   "execution_count": 17,
   "metadata": {},
   "outputs": [
    {
     "data": {
      "text/plain": [
       "0    1 полугодие\n",
       "1    1 полугодие\n",
       "2    1 полугодие\n",
       "3    1 полугодие\n",
       "4    1 полугодие\n",
       "Name: period, dtype: object"
      ]
     },
     "execution_count": 17,
     "metadata": {},
     "output_type": "execute_result"
    }
   ],
   "source": [
    "dataset_01_06[\"period\"].head(5)"
   ]
  },
  {
   "cell_type": "markdown",
   "metadata": {},
   "source": [
    "## Задание 1"
   ]
  },
  {
   "cell_type": "markdown",
   "metadata": {},
   "source": [
    "Объедини датасеты `dataset_01_06` и `dataset_07_12` в один под названием `dataset`. \n",
    "\n",
    "Выведи размеры получившегося датасета."
   ]
  },
  {
   "cell_type": "code",
   "execution_count": 19,
   "metadata": {},
   "outputs": [
    {
     "name": "stdout",
     "output_type": "stream",
     "text": [
      "Wall time: 3.73 s\n"
     ]
    },
    {
     "data": {
      "text/plain": [
       "(66753, 3649)"
      ]
     },
     "execution_count": 19,
     "metadata": {},
     "output_type": "execute_result"
    }
   ],
   "source": [
    "%%time\n",
    "dataset = pd.concat([dataset_01_06, dataset_07_12], ignore_index=True)\n",
    "dataset.shape"
   ]
  },
  {
   "cell_type": "markdown",
   "metadata": {},
   "source": [
    "## Сбросить индекс"
   ]
  },
  {
   "cell_type": "markdown",
   "metadata": {},
   "source": [
    "Так как ты объединил 2 датасета, у нас могут дублироваться индексы строк. Поэтому для удобства воспользуемся методом `reset_index` для того, чтобы спросить индексы строк."
   ]
  },
  {
   "cell_type": "code",
   "execution_count": 20,
   "metadata": {},
   "outputs": [],
   "source": [
    "# не будем этого делать, т.к. индексы были перестроены при объединении датасетов\n",
    "# dataset = dataset.reset_index()"
   ]
  },
  {
   "cell_type": "code",
   "execution_count": 21,
   "metadata": {},
   "outputs": [
    {
     "data": {
      "text/plain": [
       "30"
      ]
     },
     "execution_count": 21,
     "metadata": {},
     "output_type": "execute_result"
    }
   ],
   "source": [
    "# очистим память от неиспользуемых переменных\n",
    "dataset_01_06 = dataset_07_12 = None\n",
    "gc.collect()"
   ]
  },
  {
   "cell_type": "markdown",
   "metadata": {},
   "source": [
    "## Фильтрация"
   ]
  },
  {
   "cell_type": "markdown",
   "metadata": {},
   "source": [
    "Так как у нас данные за два полугодия, в нашем датасете могут оказаться данные по одному и тому же пользователю. Например, выберем пользователя с `id` 34657. Для этого отфильруем данные с помощью следующей конструкции:\n",
    "\n",
    "`dataset['условие по выбору строк']`"
   ]
  },
  {
   "cell_type": "code",
   "execution_count": 22,
   "metadata": {},
   "outputs": [
    {
     "data": {
      "text/html": [
       "<div>\n",
       "<style scoped>\n",
       "    .dataframe tbody tr th:only-of-type {\n",
       "        vertical-align: middle;\n",
       "    }\n",
       "\n",
       "    .dataframe tbody tr th {\n",
       "        vertical-align: top;\n",
       "    }\n",
       "\n",
       "    .dataframe thead th {\n",
       "        text-align: right;\n",
       "    }\n",
       "</style>\n",
       "<table border=\"1\" class=\"dataframe\">\n",
       "  <thead>\n",
       "    <tr style=\"text-align: right;\">\n",
       "      <th></th>\n",
       "      <th>prepay_ind_p1m</th>\n",
       "      <th>latitude_1m</th>\n",
       "      <th>building_type_key_1m</th>\n",
       "      <th>deferred_pay_1m</th>\n",
       "      <th>pay_count_p3m</th>\n",
       "      <th>crm_init_count_d1m</th>\n",
       "      <th>crm_out_count_p3m</th>\n",
       "      <th>prepay_ind_d2m</th>\n",
       "      <th>basic_day_debt_bad_max_d1m</th>\n",
       "      <th>bad_debt_p1m</th>\n",
       "      <th>...</th>\n",
       "      <th>is_multiscreen_p1m</th>\n",
       "      <th>avg_view_other_p1m</th>\n",
       "      <th>count_purchase_1m</th>\n",
       "      <th>avg_view_multi_1m</th>\n",
       "      <th>total_duration_1m</th>\n",
       "      <th>avg_view_adult_1m</th>\n",
       "      <th>avg_view_category_18_d3m</th>\n",
       "      <th>avg_view_tvmarket_p2m</th>\n",
       "      <th>avg_view_category_0_2m</th>\n",
       "      <th>period</th>\n",
       "    </tr>\n",
       "  </thead>\n",
       "  <tbody>\n",
       "    <tr>\n",
       "      <th>30289</th>\n",
       "      <td>0.0</td>\n",
       "      <td>51.704804</td>\n",
       "      <td>377945938.0</td>\n",
       "      <td>NaN</td>\n",
       "      <td>3.0</td>\n",
       "      <td>0.0</td>\n",
       "      <td>0.0</td>\n",
       "      <td>0.0</td>\n",
       "      <td>0.0</td>\n",
       "      <td>0.0</td>\n",
       "      <td>...</td>\n",
       "      <td>0.0</td>\n",
       "      <td>0.0</td>\n",
       "      <td>0.0</td>\n",
       "      <td>13.18</td>\n",
       "      <td>674.43</td>\n",
       "      <td>0.0</td>\n",
       "      <td>0.0</td>\n",
       "      <td>0.0</td>\n",
       "      <td>0.0</td>\n",
       "      <td>1 полугодие</td>\n",
       "    </tr>\n",
       "  </tbody>\n",
       "</table>\n",
       "<p>1 rows × 3649 columns</p>\n",
       "</div>"
      ],
      "text/plain": [
       "       prepay_ind_p1m  latitude_1m  building_type_key_1m  deferred_pay_1m  \\\n",
       "30289             0.0    51.704804           377945938.0              NaN   \n",
       "\n",
       "       pay_count_p3m  crm_init_count_d1m  crm_out_count_p3m  prepay_ind_d2m  \\\n",
       "30289            3.0                 0.0                0.0             0.0   \n",
       "\n",
       "       basic_day_debt_bad_max_d1m  bad_debt_p1m  ...  is_multiscreen_p1m  \\\n",
       "30289                         0.0           0.0  ...                 0.0   \n",
       "\n",
       "       avg_view_other_p1m  count_purchase_1m  avg_view_multi_1m  \\\n",
       "30289                 0.0                0.0              13.18   \n",
       "\n",
       "       total_duration_1m  avg_view_adult_1m  avg_view_category_18_d3m  \\\n",
       "30289             674.43                0.0                       0.0   \n",
       "\n",
       "       avg_view_tvmarket_p2m  avg_view_category_0_2m       period  \n",
       "30289                    0.0                     0.0  1 полугодие  \n",
       "\n",
       "[1 rows x 3649 columns]"
      ]
     },
     "execution_count": 22,
     "metadata": {},
     "output_type": "execute_result"
    }
   ],
   "source": [
    "# Выберем из датасета только те строки, которые удовлетволяют условию client_id = 34657\n",
    "dataset[dataset[\"client_id\"] == 34657] "
   ]
  },
  {
   "cell_type": "markdown",
   "metadata": {},
   "source": [
    "## Задание 2"
   ]
  },
  {
   "cell_type": "markdown",
   "metadata": {},
   "source": [
    "Пока у нас нет задачи изучить наших клиентов «в динамике», мы просто хотим описать нашего клиента.\n",
    "\n",
    "Давай создадим переменную `dataset_unique`. В нее сохраним **последние** данные об **уникальных** клиентах. \n",
    "В этом тебе поможет метод [drop_duplicates](https://pandas.pydata.org/pandas-docs/stable/reference/api/pandas.DataFrame.drop_duplicates.html) \n",
    "и его параметр `keep`.\n",
    "\n",
    "Выведи количество строк получившегося датасета. Чтобы убедиться, что ты все выполнил верно, \n",
    "выполни код `assert len(dataset_unique) == 60699`. Он должен выполниться без ошибок."
   ]
  },
  {
   "cell_type": "code",
   "execution_count": 23,
   "metadata": {},
   "outputs": [
    {
     "name": "stdout",
     "output_type": "stream",
     "text": [
      "Wall time: 1.46 s\n"
     ]
    }
   ],
   "source": [
    "%%time\n",
    "dataset_unique = dataset.drop_duplicates(\"client_id\", keep='last')"
   ]
  },
  {
   "cell_type": "code",
   "execution_count": 24,
   "metadata": {},
   "outputs": [],
   "source": [
    "assert len(dataset_unique) == 60699"
   ]
  },
  {
   "cell_type": "markdown",
   "metadata": {},
   "source": [
    "## Подсчет количества значений"
   ]
  },
  {
   "cell_type": "markdown",
   "metadata": {},
   "source": [
    "Чтобы подсчитать **количество значений у признака**: \n",
    "Сначала в квадратных скобочках выбери признак, который тебя интересует. Например, `['gender_1m']` — признак пола клиента. А затем воспользуйся методом `.value_counts()`."
   ]
  },
  {
   "cell_type": "code",
   "execution_count": 25,
   "metadata": {},
   "outputs": [
    {
     "data": {
      "text/plain": [
       "2.0    30924\n",
       "1.0    27447\n",
       "0.0       42\n",
       "Name: gender_1m, dtype: int64"
      ]
     },
     "execution_count": 25,
     "metadata": {},
     "output_type": "execute_result"
    }
   ],
   "source": [
    "dataset_unique['gender_1m'].value_counts()"
   ]
  },
  {
   "cell_type": "markdown",
   "metadata": {},
   "source": [
    "В файле `attributes.xlsx` сказано:\n",
    "> 0 - Неизвестно, 1 -\n",
    "> Мужской, 2 - Женский"
   ]
  },
  {
   "cell_type": "markdown",
   "metadata": {},
   "source": [
    "## Отрисовка графиков"
   ]
  },
  {
   "cell_type": "code",
   "execution_count": 26,
   "metadata": {},
   "outputs": [
    {
     "data": {
      "image/png": "[encoded data removed]",
      "text/plain": [
       "<Figure size 432x288 with 1 Axes>"
      ]
     },
     "metadata": {
      "needs_background": "light"
     },
     "output_type": "display_data"
    }
   ],
   "source": [
    "dataset_unique['gender_1m'].value_counts().plot.bar();"
   ]
  },
  {
   "cell_type": "markdown",
   "metadata": {},
   "source": [
    "**Чтобы нарисовать график**, используй метод `.plot` и соответствующее название графика. Чтобы отрисовать стобцовую диаграмму, допиши `.bar()`"
   ]
  },
  {
   "cell_type": "markdown",
   "metadata": {},
   "source": [
    "## Задание 3"
   ]
  },
  {
   "cell_type": "markdown",
   "metadata": {},
   "source": [
    "Построй круговую диаграмму [pie-plot](https://pandas.pydata.org/docs/reference/api/pandas.DataFrame.plot.pie.html) \n",
    "по количеству ушедших клиентов. За отток клиента отвечает признак `label`.\n",
    "\n",
    "Чтобы красиво дополнить график, добавь эти аргументы `autopct='%1.1f%%', legend=True, title='Ушедшие \n",
    "пользователи', ylabel=''`, в метод `pie()`. \n",
    "\n",
    "Какой процент пользователей отказался от наших услуг?"
   ]
  },
  {
   "cell_type": "code",
   "execution_count": 38,
   "metadata": {},
   "outputs": [
    {
     "data": {
      "image/png": "[encoded data removed]",
      "text/plain": [
       "<Figure size 576x576 with 1 Axes>"
      ]
     },
     "metadata": {},
     "output_type": "display_data"
    }
   ],
   "source": [
    "plt.figure(figsize=(8, 8))\n",
    "dataset_unique['label'].value_counts().plot.pie(autopct='%1.1f%%', \n",
    "                                                legend=True, \n",
    "                                                labels=None,\n",
    "                                                title='Ушедшие пользователи', \n",
    "                                                ylabel='')\n",
    "plt.legend(['Остались', 'Ушли'])\n",
    "plt.show()"
   ]
  },
  {
   "cell_type": "code",
   "execution_count": 50,
   "metadata": {},
   "outputs": [
    {
     "name": "stdout",
     "output_type": "stream",
     "text": [
      "От наших услуг отказались: 4.2% пользователей\n"
     ]
    }
   ],
   "source": [
    "prs = dataset_unique['label'].value_counts(normalize=True)[1]\n",
    "print(f\"От наших услуг отказались: {prs:.1%} пользователей\")"
   ]
  },
  {
   "cell_type": "markdown",
   "metadata": {},
   "source": [
    "## Задание 4"
   ]
  },
  {
   "cell_type": "markdown",
   "metadata": {},
   "source": [
    "Первая гипотеза, которую все хотят проверить — если клиент часто обращается в поддержку, \n",
    "то ему что-то не нравится, и, возможно, он собирается отказаться от наших услуг (хотя на самом деле, часто все наоборот). \n",
    "\n",
    "C помощью функции [sns.boxplot](https://seaborn.pydata.org/generated/seaborn.boxplot.html) построй график «ящик с усами» \n",
    "по количеству обращений клиента **за 3 месяца** по ушедшим и оставшимся клиентам. В этом тебе поможет аргумент `hue`.\n",
    "\n",
    "Отличается ли медиана количества обращений у ушедших и оставшихся клиентов?"
   ]
  },
  {
   "cell_type": "markdown",
   "metadata": {},
   "source": [
    "# Задание 5"
   ]
  },
  {
   "cell_type": "markdown",
   "metadata": {},
   "source": [
    "У нас имеются данные баланса клиента. Данные баланса клиента **за 3 месяца** собраны в колонке `balance_sum_3m`. \n",
    "Интересно посмотреть, сколько в среднем клиенты держат на счетах. \n",
    "\n",
    "C помощью функции диаграмму [hist-plot](https://pandas.pydata.org/docs/reference/api/pandas.DataFrame.plot.hist.html) \n",
    "построй гистограмму баланса пользователей. Для функции `hist` используй аргумент `bins=200`. \n",
    "\n",
    "Также рассчитай среднее и медиану для колонки `balance_sum_3m`. Сохрани их в переменные `mean` и `median`. \n",
    "С помощью функции `plt.axvline` добавь эти статистики на гистограмму."
   ]
  },
  {
   "cell_type": "code",
   "execution_count": 65,
   "metadata": {},
   "outputs": [
    {
     "data": {
      "text/plain": [
       "3061.4"
      ]
     },
     "execution_count": 65,
     "metadata": {},
     "output_type": "execute_result"
    }
   ],
   "source": [
    "mean = dataset_unique['balance_sum_3m'].mean().round(2)\n",
    "mean"
   ]
  },
  {
   "cell_type": "code",
   "execution_count": 67,
   "metadata": {},
   "outputs": [
    {
     "data": {
      "text/plain": [
       "2323.45"
      ]
     },
     "execution_count": 67,
     "metadata": {},
     "output_type": "execute_result"
    }
   ],
   "source": [
    "median = dataset_unique['balance_sum_3m'].median()\n",
    "median"
   ]
  },
  {
   "cell_type": "code",
   "execution_count": 77,
   "metadata": {},
   "outputs": [
    {
     "data": {
      "image/png": "[encoded data removed]",
      "text/plain": [
       "<Figure size 1152x432 with 1 Axes>"
      ]
     },
     "metadata": {
      "needs_background": "light"
     },
     "output_type": "display_data"
    }
   ],
   "source": [
    "plt.figure(figsize=(16, 6))\n",
    "plt.hist(dataset_unique['balance_sum_3m'], bins=200, color='skyblue')\n",
    "plt.title('Гистограмма баланса пользователей')\n",
    "plt.xlabel('Баланс')\n",
    "plt.ylabel('Количество')\n",
    "\n",
    "plt.axvline(x=mean, color='r', label=f'Mean    = {mean}')\n",
    "plt.axvline(x=median, color='g', label=f'Median = {median}')\n",
    "plt.xlim([0, 20000]) # Ограничение оси Х от 0 до 20.000\n",
    "plt.legend();"
   ]
  },
  {
   "cell_type": "markdown",
   "metadata": {},
   "source": [
    "## Сводная таблица"
   ]
  },
  {
   "cell_type": "markdown",
   "metadata": {},
   "source": [
    "Теперь было бы интересно посмотреть изменение количества ушедших/оставшихся пользователей. В этом нам помогут сводные таблицы.\n",
    "Воспользуемся функцией `pd.pivot_table`."
   ]
  },
  {
   "cell_type": "code",
   "execution_count": 51,
   "metadata": {},
   "outputs": [],
   "source": [
    "table = pd.pivot_table(\n",
    "    dataset,  # Указываем нашу таблицу\n",
    "    values='client_id',  # Указываем значение, по которому будем осуществлять сводку. (уникальный id клиента)\n",
    "    index='period', # Индекс таблицы\n",
    "    columns='label',  # Колонки таблицы\n",
    "    aggfunc='count' # Какую функцию будет применять к values.\n",
    ")"
   ]
  },
  {
   "cell_type": "code",
   "execution_count": 52,
   "metadata": {},
   "outputs": [
    {
     "data": {
      "text/html": [
       "<div>\n",
       "<style scoped>\n",
       "    .dataframe tbody tr th:only-of-type {\n",
       "        vertical-align: middle;\n",
       "    }\n",
       "\n",
       "    .dataframe tbody tr th {\n",
       "        vertical-align: top;\n",
       "    }\n",
       "\n",
       "    .dataframe thead th {\n",
       "        text-align: right;\n",
       "    }\n",
       "</style>\n",
       "<table border=\"1\" class=\"dataframe\">\n",
       "  <thead>\n",
       "    <tr style=\"text-align: right;\">\n",
       "      <th>label</th>\n",
       "      <th>0</th>\n",
       "      <th>1</th>\n",
       "    </tr>\n",
       "    <tr>\n",
       "      <th>period</th>\n",
       "      <th></th>\n",
       "      <th></th>\n",
       "    </tr>\n",
       "  </thead>\n",
       "  <tbody>\n",
       "    <tr>\n",
       "      <th>1 полугодие</th>\n",
       "      <td>30950</td>\n",
       "      <td>1142</td>\n",
       "    </tr>\n",
       "    <tr>\n",
       "      <th>2 полугодие</th>\n",
       "      <td>33235</td>\n",
       "      <td>1426</td>\n",
       "    </tr>\n",
       "  </tbody>\n",
       "</table>\n",
       "</div>"
      ],
      "text/plain": [
       "label            0     1\n",
       "period                  \n",
       "1 полугодие  30950  1142\n",
       "2 полугодие  33235  1426"
      ]
     },
     "execution_count": 52,
     "metadata": {},
     "output_type": "execute_result"
    }
   ],
   "source": [
    "table"
   ]
  },
  {
   "cell_type": "code",
   "execution_count": 75,
   "metadata": {},
   "outputs": [
    {
     "data": {
      "image/png": "[encoded data removed]",
      "text/plain": [
       "<Figure size 1008x432 with 1 Axes>"
      ]
     },
     "metadata": {
      "needs_background": "light"
     },
     "output_type": "display_data"
    }
   ],
   "source": [
    "fig, ax = plt.subplots(figsize=(14, 6))\n",
    "table.plot.bar(legend=True, title='Ушедшие пользователи', stacked=True, ax=ax)\n",
    "plt.legend(['Остались', 'Ушли'], loc='upper left')\n",
    "# Установка горизонтальных надписей для оси x\n",
    "plt.xticks(range(len(table.index)), table.index, rotation=0)\n",
    "# Добавление заголовка оси X\n",
    "plt.xlabel('Период')\n",
    "plt.show()"
   ]
  },
  {
   "cell_type": "markdown",
   "metadata": {
    "id": "BCTnH7QQpEIo",
    "tags": []
   },
   "source": [
    "## Задание 6"
   ]
  },
  {
   "cell_type": "markdown",
   "metadata": {},
   "source": [
    "А какую статистику о клиенте хотел бы про визуализировать ты? Надеемся, что за предыдущие задания у тебя уже появились \n",
    "гипотезы, которые бы ты хотел визуализировать.\n",
    "\n",
    "Используй инструменты, с которыми ты познакомился ранее, и визуализируй статистики, интересные лично тебе. \n",
    "Чем больше, тем лучше. :)\n"
   ]
  },
  {
   "cell_type": "code",
   "execution_count": null,
   "metadata": {},
   "outputs": [],
   "source": [
    "# Код тут"
   ]
  },
  {
   "cell_type": "markdown",
   "metadata": {},
   "source": [
    "## Задание 7"
   ]
  },
  {
   "cell_type": "markdown",
   "metadata": {},
   "source": [
    "Используя библиотеку [Plotly и функции Density Heatmap](https://plotly.com/python/mapbox-density-heatmaps/), отрисуй тепловую карту клиентов. \n",
    "За маркер используй **время жизни клиента**."
   ]
  },
  {
   "cell_type": "code",
   "execution_count": null,
   "metadata": {},
   "outputs": [],
   "source": [
    "# Код тут"
   ]
  }
 ],
 "metadata": {
  "colab": {
   "collapsed_sections": [],
   "name": "d03_task.ipynb",
   "provenance": []
  },
  "kernelspec": {
   "display_name": "Python 3",
   "language": "python",
   "name": "python3"
  },
  "language_info": {
   "codemirror_mode": {
    "name": "ipython",
    "version": 3
   },
   "file_extension": ".py",
   "mimetype": "text/x-python",
   "name": "python",
   "nbconvert_exporter": "python",
   "pygments_lexer": "ipython3",
   "version": "3.8.8"
  },
  "widgets": {
   "application/vnd.jupyter.widget-state+json": {
    "state": {},
    "version_major": 2,
    "version_minor": 0
   }
  }
 },
 "nbformat": 4,
 "nbformat_minor": 4
}
