{
 "cells": [
  {
   "cell_type": "markdown",
   "metadata": {
    "id": "RgdhN7YNpEIc"
   },
   "source": [
    "# День 01 — Дескриптивный и разведочный анализ данных"
   ]
  },
  {
   "cell_type": "markdown",
   "metadata": {
    "id": "_qME3leHpEIh"
   },
   "source": [
    "Пришло время познакомиться с данными получше. Когда начинаешь дескриптивный и разведочный анализ, никогда не знаешь, что найдешь. И найдешь ли что-то интересное вообще? Посмотрим, удастся ли нам найти какие-то любопытные инсайты на этом этапе анализа данных."
   ]
  },
  {
   "cell_type": "markdown",
   "metadata": {
    "id": "9qtAbHzLpEIi"
   },
   "source": [
    "Для начала импортируй библиотеки, которые понадобятся нам в работе."
   ]
  },
  {
   "cell_type": "code",
   "execution_count": null,
   "metadata": {},
   "outputs": [],
   "source": [
    "from google.colab import drive\n",
    "drive.mount('/content/drive')"
   ]
  },
  {
   "cell_type": "code",
   "execution_count": 1,
   "metadata": {
    "id": "JKRJ0FycpEIj"
   },
   "outputs": [],
   "source": [
    "import pandas as pd\n",
    "\n",
    "import seaborn as sns\n",
    "import matplotlib.pyplot as plt"
   ]
  },
  {
   "cell_type": "markdown",
   "metadata": {},
   "source": [
    "Если ячейка выше **не запускается**, то, скорее всего, **не установлена какая-либо библиотека**. **Чтобы установить библиотеку, напиши**:\n",
    "`pip install matplotlib` или `pip install seaborn` или `pip install pandas`"
   ]
  },
  {
   "cell_type": "markdown",
   "metadata": {
    "id": "y9Uki401pEIl"
   },
   "source": [
    "## Загрузка данных"
   ]
  },
  {
   "cell_type": "markdown",
   "metadata": {
    "id": "X-sqFhe5pEIm"
   },
   "source": [
    "Сегодня мы проведем дескриптивный анализ наших данных. Прежде чем приступать к дескриптивному анализу, необходимо понять, с какими данными мы имеем дело, и заблаговременно принять меры по их изменению или доработке."
   ]
  },
  {
   "cell_type": "markdown",
   "metadata": {},
   "source": [
    "Загрузим наши данные"
   ]
  },
  {
   "cell_type": "code",
   "execution_count": 2,
   "metadata": {
    "id": "CYjeaZZEpEIn"
   },
   "outputs": [],
   "source": [
    "dataset_01_06 = pd.read_csv(\"путь к файлу dataset_01_06.csv\")\n",
    "dataset_07_12 = pd.read_csv(\"путь к файлу dataset_07_12.csv\")"
   ]
  },
  {
   "cell_type": "markdown",
   "metadata": {},
   "source": [
    "Атрибут `.shape` выведет разметы датасета: (Количество строк, Количество столбцов)."
   ]
  },
  {
   "cell_type": "code",
   "execution_count": 3,
   "metadata": {},
   "outputs": [
    {
     "data": {
      "text/plain": [
       "(32092, 3648)"
      ]
     },
     "execution_count": 3,
     "metadata": {},
     "output_type": "execute_result"
    }
   ],
   "source": [
    "dataset_01_06.shape"
   ]
  },
  {
   "cell_type": "code",
   "execution_count": 4,
   "metadata": {},
   "outputs": [
    {
     "data": {
      "text/plain": [
       "(34661, 3648)"
      ]
     },
     "execution_count": 4,
     "metadata": {},
     "output_type": "execute_result"
    }
   ],
   "source": [
    "dataset_07_12.shape"
   ]
  },
  {
   "cell_type": "markdown",
   "metadata": {},
   "source": [
    "## Добавление нового признака"
   ]
  },
  {
   "cell_type": "markdown",
   "metadata": {},
   "source": [
    "Для удобства проведения EDA давай объединим 2 датасета, но перед эти добавим признак `period`."
   ]
  },
  {
   "cell_type": "code",
   "execution_count": 5,
   "metadata": {},
   "outputs": [],
   "source": [
    "dataset_01_06[\"period\"] = \"1 полугодие\"\n",
    "dataset_07_12[\"period\"] = \"2 полугодие\""
   ]
  },
  {
   "cell_type": "code",
   "execution_count": 6,
   "metadata": {},
   "outputs": [
    {
     "data": {
      "text/plain": [
       "0    1 полугодие\n",
       "1    1 полугодие\n",
       "2    1 полугодие\n",
       "3    1 полугодие\n",
       "4    1 полугодие\n",
       "Name: period, dtype: object"
      ]
     },
     "execution_count": 6,
     "metadata": {},
     "output_type": "execute_result"
    }
   ],
   "source": [
    "dataset_01_06[\"period\"].head(5)"
   ]
  },
  {
   "cell_type": "markdown",
   "metadata": {},
   "source": [
    "## Задание 1"
   ]
  },
  {
   "cell_type": "markdown",
   "metadata": {},
   "source": [
    "Объедини датасеты `dataset_01_06` и `dataset_07_12` в один под названием `dataset`. \n",
    "\n",
    "Выведи размеры получившегося датасета."
   ]
  },
  {
   "cell_type": "code",
   "execution_count": 7,
   "metadata": {},
   "outputs": [],
   "source": [
    "# Код тут"
   ]
  },
  {
   "cell_type": "markdown",
   "metadata": {},
   "source": [
    "## Сбросить индекс"
   ]
  },
  {
   "cell_type": "markdown",
   "metadata": {},
   "source": [
    "Так как ты объединил 2 датасета, у нас могут дублироваться индексы строк. Поэтому для удобства воспользуемся методом `reset_index` для того, чтобы спросить индексы строк."
   ]
  },
  {
   "cell_type": "code",
   "execution_count": null,
   "metadata": {},
   "outputs": [],
   "source": [
    "dataset = dataset.reset_index()"
   ]
  },
  {
   "cell_type": "markdown",
   "metadata": {},
   "source": [
    "## Фильтрация"
   ]
  },
  {
   "cell_type": "markdown",
   "metadata": {},
   "source": [
    "Так как у нас данные за два полугодия, в нашем датасете могут оказаться данные по одному и тому же пользователю. Например, выберем пользователя с `id` 34657. Для этого отфильруем данные с помощью следующей конструкции:\n",
    "\n",
    "`dataset['условие по выбору строк']`"
   ]
  },
  {
   "cell_type": "code",
   "execution_count": null,
   "metadata": {},
   "outputs": [],
   "source": [
    "# Выберем из датасета только те строки, которые удовлетволяют условию client_id = 106606\n",
    "dataset[dataset[\"client_id\"] == 34657] "
   ]
  },
  {
   "cell_type": "markdown",
   "metadata": {},
   "source": [
    "## Задание 2"
   ]
  },
  {
   "cell_type": "markdown",
   "metadata": {},
   "source": [
    "Пока у нас нет задачи изучить наших клиентов «в динамике», мы просто хотим описать нашего клиента.\n",
    "\n",
    "Давай создадим переменную `dataset_unique`. В нее сохраним **последние** данные об **уникальных** клиентах. \n",
    "В этом тебе поможет метод [drop_duplicates](https://pandas.pydata.org/pandas-docs/stable/reference/api/pandas.DataFrame.drop_duplicates.html) \n",
    "и его параметр `keep`.\n",
    "\n",
    "Выведи количество строк получившегося датасета. Чтобы убедиться, что ты все выполнил верно, \n",
    "выполни код `assert len(dataset_unique) == 60699`. Он должен выполниться без ошибок."
   ]
  },
  {
   "cell_type": "code",
   "execution_count": null,
   "metadata": {},
   "outputs": [],
   "source": [
    "# Код тут"
   ]
  },
  {
   "cell_type": "code",
   "execution_count": null,
   "metadata": {},
   "outputs": [],
   "source": [
    "assert len(dataset_unique) == 60699"
   ]
  },
  {
   "cell_type": "markdown",
   "metadata": {},
   "source": [
    "## Подсчет количества значений"
   ]
  },
  {
   "cell_type": "markdown",
   "metadata": {},
   "source": [
    "Чтобы подсчитать **количество значений у признака**: \n",
    "Сначала в квадратных скобочках выбери признак, который тебя интересует. Например, `['gender_1m']` — признак пола клиента. А затем воспользуйся методом `.value_counts()`."
   ]
  },
  {
   "cell_type": "code",
   "execution_count": null,
   "metadata": {},
   "outputs": [],
   "source": [
    "dataset_unique['gender_1m'].value_counts()"
   ]
  },
  {
   "cell_type": "markdown",
   "metadata": {},
   "source": [
    "В файле `attributes.xlsx` сказано:\n",
    "> 0 - Неизвестно, 1 -\n",
    "> Мужской, 2 - Женский"
   ]
  },
  {
   "cell_type": "markdown",
   "metadata": {},
   "source": [
    "## Отрисовка графиков"
   ]
  },
  {
   "cell_type": "code",
   "execution_count": null,
   "metadata": {},
   "outputs": [],
   "source": [
    "dataset_unique['gender_1m'].value_counts().plot.bar();"
   ]
  },
  {
   "cell_type": "markdown",
   "metadata": {},
   "source": [
    "**Чтобы нарисовать график**, используй метод `.plot` и соответствующее название графика. Чтобы отрисовать стобцовую диаграмму, допиши `.bar()`"
   ]
  },
  {
   "cell_type": "markdown",
   "metadata": {},
   "source": [
    "## Задание 3"
   ]
  },
  {
   "cell_type": "markdown",
   "metadata": {},
   "source": [
    "Построй круговую диаграмму [pie-plot](https://pandas.pydata.org/docs/reference/api/pandas.DataFrame.plot.pie.html) \n",
    "по количеству ушедших клиентов. За отток клиента отвечает признак `label`.\n",
    "\n",
    "Чтобы красиво дополнить график, добавь эти аргументы `autopct='%1.1f%%', legend=True, title='Ушедшие \n",
    "пользователи', ylabel=''`, в метод `pie()`. \n",
    "\n",
    "Какой процент пользователей отказался от наших услуг?"
   ]
  },
  {
   "cell_type": "code",
   "execution_count": null,
   "metadata": {},
   "outputs": [],
   "source": [
    "# Код тут"
   ]
  },
  {
   "cell_type": "markdown",
   "metadata": {},
   "source": [
    "## Задание 4"
   ]
  },
  {
   "cell_type": "markdown",
   "metadata": {},
   "source": [
    "Первая гипотеза, которую все хотят проверить — если клиент часто обращается в поддержку, \n",
    "то ему что-то не нравится, и, возможно, он собирается отказаться от наших услуг (хотя на самом деле, часто все наоборот). \n",
    "\n",
    "C помощью функции [sns.boxplot](https://seaborn.pydata.org/generated/seaborn.boxplot.html) построй график «ящик с усами» \n",
    "по количеству обращений клиента **за 3 месяца** по ушедшим и оставшимся клиентам. В этом тебе поможет аргумент `hue`.\n",
    "\n",
    "Отличается ли медиана количества обращений у ушедших и оставшихся клиентов?"
   ]
  },
  {
   "cell_type": "code",
   "execution_count": null,
   "metadata": {},
   "outputs": [],
   "source": [
    "# Код тут"
   ]
  },
  {
   "cell_type": "markdown",
   "metadata": {},
   "source": [
    "# Задание 5"
   ]
  },
  {
   "cell_type": "markdown",
   "metadata": {},
   "source": [
    "У нас имеются данные баланса клиента. Данные баланса клиента **за 3 месяца** собраны в колонке `balance_sum_3m`. \n",
    "Интересно посмотреть, сколько в среднем клиенты держат на счетах. \n",
    "\n",
    "C помощью функции диаграмму [hist-plot](https://pandas.pydata.org/docs/reference/api/pandas.DataFrame.plot.hist.html) \n",
    "построй гистограмму баланса пользователей. Для функции `hist` используй аргумент `bins=200`. \n",
    "\n",
    "Также рассчитай среднее и медиану для колонки `balance_sum_3m`. Сохрани их в переменные `mean` и `median`. \n",
    "С помощью функции `plt.axvline` добавь эти статистики на гистограмму."
   ]
  },
  {
   "cell_type": "code",
   "execution_count": null,
   "metadata": {},
   "outputs": [],
   "source": [
    "mean = # Код тут\n",
    "mean"
   ]
  },
  {
   "cell_type": "code",
   "execution_count": null,
   "metadata": {},
   "outputs": [],
   "source": [
    "median = # Код тут\n",
    "median"
   ]
  },
  {
   "cell_type": "code",
   "execution_count": null,
   "metadata": {},
   "outputs": [],
   "source": [
    "# Код тут\n",
    "\n",
    "plt.axvline(x=mean, color='r', label='Mean')\n",
    "plt.axvline(x=median, color='g', label='Median')\n",
    "plt.xlim([0, 20000]) # Ограничение оси Х от 0 до 20.000\n",
    "plt.legend();"
   ]
  },
  {
   "cell_type": "markdown",
   "metadata": {},
   "source": [
    "## Сводная таблица"
   ]
  },
  {
   "cell_type": "markdown",
   "metadata": {},
   "source": [
    "Теперь было бы интересно посмотреть изменение количества ушедших/оставшихся пользователей. В этом нам помогут сводные таблицы.\n",
    "Воспользуемся функцией `pd.pivot_table`."
   ]
  },
  {
   "cell_type": "code",
   "execution_count": null,
   "metadata": {},
   "outputs": [],
   "source": [
    "table = pd.pivot_table(\n",
    "    dataset,  # Указываем нашу таблицу\n",
    "    values='client_id',  # Указываем значение, по которому будем осуществлять сводку. В данном случае это уникальный id клиента\n",
    "    index='period', # Индекс таблицы\n",
    "    columns='label',  # Колонки таблицы\n",
    "    aggfunc='count' # Какую функцию будет применять к values.\n",
    ")"
   ]
  },
  {
   "cell_type": "code",
   "execution_count": null,
   "metadata": {},
   "outputs": [],
   "source": [
    "table"
   ]
  },
  {
   "cell_type": "code",
   "execution_count": null,
   "metadata": {},
   "outputs": [],
   "source": [
    "table.plot.bar(legend=True, title='Ушедшие пользователи', stacked=True);"
   ]
  },
  {
   "cell_type": "markdown",
   "metadata": {
    "id": "BCTnH7QQpEIo",
    "tags": []
   },
   "source": [
    "## Задание 6"
   ]
  },
  {
   "cell_type": "markdown",
   "metadata": {},
   "source": [
    "А какую статистику о клиенте хотел бы про визуализировать ты? Надеемся, что за предыдущие задания у тебя уже появились \n",
    "гипотезы, которые бы ты хотел визуализировать.\n",
    "\n",
    "Используй инструменты, с которыми ты познакомился ранее, и визуализируй статистики, интересные лично тебе. \n",
    "Чем больше, тем лучше. :)\n"
   ]
  },
  {
   "cell_type": "code",
   "execution_count": null,
   "metadata": {},
   "outputs": [],
   "source": [
    "# Код тут"
   ]
  },
  {
   "cell_type": "markdown",
   "metadata": {},
   "source": [
    "## Задание 7"
   ]
  },
  {
   "cell_type": "markdown",
   "metadata": {},
   "source": [
    "Используя библиотеку [Plotly и функции Density Heatmap](https://plotly.com/python/mapbox-density-heatmaps/), отрисуй тепловую карту клиентов. \n",
    "За маркер используй **время жизни клиента**."
   ]
  },
  {
   "cell_type": "code",
   "execution_count": null,
   "metadata": {},
   "outputs": [],
   "source": [
    "# Код тут"
   ]
  }
 ],
 "metadata": {
  "colab": {
   "collapsed_sections": [],
   "name": "d03_task.ipynb",
   "provenance": []
  },
  "kernelspec": {
   "display_name": "Python 3 (ipykernel)",
   "language": "python",
   "name": "python3"
  },
  "language_info": {
   "codemirror_mode": {
    "name": "ipython",
    "version": 3
   },
   "file_extension": ".py",
   "mimetype": "text/x-python",
   "name": "python",
   "nbconvert_exporter": "python",
   "pygments_lexer": "ipython3",
   "version": "3.9.6"
  },
  "widgets": {
   "application/vnd.jupyter.widget-state+json": {
    "state": {},
    "version_major": 2,
    "version_minor": 0
   }
  }
 },
 "nbformat": 4,
 "nbformat_minor": 4
}
