{
 "cells": [
  {
   "cell_type": "markdown",
   "id": "74416b9f-2c14-4c8b-93a4-40417515c84f",
   "metadata": {
    "id": "74416b9f-2c14-4c8b-93a4-40417515c84f"
   },
   "source": [
    "# Colab"
   ]
  },
  {
   "cell_type": "markdown",
   "id": "f1939fed-bba6-4852-9c0c-8a971ad08b8e",
   "metadata": {
    "id": "f1939fed-bba6-4852-9c0c-8a971ad08b8e"
   },
   "source": [
    "Добро пожаловать в [Colab](https://colab.google/)!"
   ]
  },
  {
   "cell_type": "markdown",
   "id": "5dc0a4e1-0d70-4e46-8391-71ce09541a3f",
   "metadata": {
    "id": "5dc0a4e1-0d70-4e46-8391-71ce09541a3f"
   },
   "source": [
    "Colab — это интерактивная веб-среда разработки для блокнотов, кода и данных. Ее гибкий интерфейс позволяет пользователям настраивать и организовывать рабочие процессы в области науки о данных, научных вычислений, вычислительной журналистики и машинного обучения. Модульный дизайн позволяет использовать расширения для обогащения функциональности."
   ]
  },
  {
   "cell_type": "markdown",
   "id": "c56b4cad-89a5-49d9-9744-89f3820da3c5",
   "metadata": {
    "id": "c56b4cad-89a5-49d9-9744-89f3820da3c5"
   },
   "source": [
    "# Виды ячеек"
   ]
  },
  {
   "cell_type": "markdown",
   "id": "469ef575-a10c-4679-af74-66041c20cfbd",
   "metadata": {
    "id": "469ef575-a10c-4679-af74-66041c20cfbd"
   },
   "source": [
    "Весь код в блокнотах мы ведем в **ячейках** разных типов:\n",
    "* **Markdown** — ячейки для текста в формате [Markdown](https://ru.wikipedia.org/wiki/Markdown).\n",
    "* **Raw** — неформатированный текст.\n",
    "* **Code** — ячейки с кодом (в нашем случае на языке Python)."
   ]
  },
  {
   "cell_type": "markdown",
   "id": "c73ad952-1e7b-48eb-9845-7e0f9c8ae816",
   "metadata": {
    "id": "c73ad952-1e7b-48eb-9845-7e0f9c8ae816"
   },
   "source": [
    "Для выполнения ячейки нажми <kbd>shift</kbd> + <kbd>return</kbd> или используй кнопку <kbd>&#9654;</kbd> в панели инструментов."
   ]
  },
  {
   "cell_type": "markdown",
   "id": "e62a76be-d4d8-486a-b79c-1c698e1bfa3e",
   "metadata": {
    "id": "e62a76be-d4d8-486a-b79c-1c698e1bfa3e"
   },
   "source": [
    "## Raw ячейки"
   ]
  },
  {
   "cell_type": "raw",
   "id": "fa849b1a-2801-47f0-846d-9d7a334f9a60",
   "metadata": {
    "id": "fa849b1a-2801-47f0-846d-9d7a334f9a60"
   },
   "source": [
    "Это тип ячейки, который используется для отображения текста или кода без выполнения."
   ]
  },
  {
   "cell_type": "markdown",
   "id": "63bfeb16-55f5-4ad1-9be4-c67bceac6859",
   "metadata": {
    "id": "63bfeb16-55f5-4ad1-9be4-c67bceac6859"
   },
   "source": [
    "## Markdown ячейки\n",
    "Это тип ячейки, который позволяет тебе создавать и форматировать текст с помощью языка разметки [Markdown](https://daringfireball.net/projects/markdown/).\n",
    "\n",
    "Примеры форматирования:\n",
    "\n",
    "- *курсив*\n",
    "- **полужирный**\n",
    "- `код`\n",
    "- [ссылки](https://jupyterlab.readthedocs.io/)\n",
    "- поддержка LaTeX: \\begin{equation}\n",
    "e^x=\\sum_{i=0}^\\infty \\frac{1}{i!}x^i\n",
    "\\end{equation}\n",
    "\n",
    "\n"
   ]
  },
  {
   "cell_type": "markdown",
   "id": "89221d6a-f6d4-4a6e-8059-9ba160560210",
   "metadata": {
    "id": "89221d6a-f6d4-4a6e-8059-9ba160560210"
   },
   "source": [
    "## Code ячейки\n",
    "Это тип ячейки, в которой можно исполнять код на выбранном языке программирования (в нашем случае Python). Code ячейки позволяют пользователю вводить код, выполнять его и получать результаты непосредственно внутри ячейки. Каждая ячейка с кодом содержит один или несколько кодовых блоков, которые могут быть выполнены последовательно или в произвольном порядке."
   ]
  },
  {
   "cell_type": "code",
   "execution_count": 1,
   "id": "ef09becc-c1a6-4762-839f-5812c0353ee9",
   "metadata": {
    "colab": {
     "base_uri": "https://localhost:8080/"
    },
    "id": "ef09becc-c1a6-4762-839f-5812c0353ee9",
    "outputId": "80e29a4e-619d-4597-cfbf-a9cc414c4f9b"
   },
   "outputs": [
    {
     "data": {
      "text/plain": [
       "4"
      ]
     },
     "execution_count": 1,
     "metadata": {},
     "output_type": "execute_result"
    }
   ],
   "source": [
    "2 + 2"
   ]
  },
  {
   "cell_type": "markdown",
   "id": "21b0e81c-bd50-4c2f-8444-4c5aac264865",
   "metadata": {
    "id": "21b0e81c-bd50-4c2f-8444-4c5aac264865"
   },
   "source": [
    "# Иерархия ячеек"
   ]
  },
  {
   "cell_type": "markdown",
   "id": "f307e95a-c80d-4584-a94b-d63b69f7711b",
   "metadata": {
    "id": "f307e95a-c80d-4584-a94b-d63b69f7711b"
   },
   "source": [
    "Markdown поддерживает шесть уровней заголовков для упорядочивания документа. Заголовки — это текст, которому предшествуют 1-4 символов `#`. Чем больше символов, тем ниже уровень.\n",
    "Эти заголовки помогают быстро осуществлять навигацию по блокноту."
   ]
  },
  {
   "cell_type": "markdown",
   "id": "928083e7-04f8-4de2-ad84-131089f2fd6c",
   "metadata": {
    "id": "928083e7-04f8-4de2-ad84-131089f2fd6c"
   },
   "source": [
    "```\n",
    "# H1 Заголовок 1-ого уровня\n",
    "## H2 Заголовок 2-ого уровня\n",
    "### H3 Заголовок 3-ого уровня\n",
    "#### H4 Заголовок 4-ого уровня\n",
    "```"
   ]
  },
  {
   "cell_type": "markdown",
   "id": "b34e3258-4afa-49d8-be94-3208f0461d29",
   "metadata": {
    "id": "b34e3258-4afa-49d8-be94-3208f0461d29"
   },
   "source": [
    "# H1 Заголовок 1-ого уровня"
   ]
  },
  {
   "cell_type": "markdown",
   "id": "82f4da9a-0b32-43c2-90d3-b23fed1bd075",
   "metadata": {
    "id": "82f4da9a-0b32-43c2-90d3-b23fed1bd075"
   },
   "source": [
    "## H2 Заголовок 2-ого уровня"
   ]
  },
  {
   "cell_type": "markdown",
   "id": "1534fc71-6d12-46e3-b916-dc70da256a2e",
   "metadata": {
    "id": "1534fc71-6d12-46e3-b916-dc70da256a2e"
   },
   "source": [
    "### H3 Заголовок 3-ого уровня"
   ]
  },
  {
   "cell_type": "markdown",
   "id": "1f44e3a4-5850-434d-adc1-3892bf7f5f1a",
   "metadata": {
    "id": "1f44e3a4-5850-434d-adc1-3892bf7f5f1a"
   },
   "source": [
    "#### H4 Заголовок 4-ого уровня"
   ]
  },
  {
   "cell_type": "markdown",
   "id": "c1464d04-09ff-453d-b4c6-4f56db2fe1da",
   "metadata": {
    "id": "c1464d04-09ff-453d-b4c6-4f56db2fe1da"
   },
   "source": [
    "# Введение в Python"
   ]
  },
  {
   "cell_type": "markdown",
   "id": "aaa38168-ef02-42c5-8018-7a857263e114",
   "metadata": {
    "id": "aaa38168-ef02-42c5-8018-7a857263e114"
   },
   "source": [
    "## Оператор присваивания и переменные"
   ]
  },
  {
   "cell_type": "markdown",
   "id": "51fda5d6-a5fe-4fd5-941e-77c7c83ed0a3",
   "metadata": {
    "id": "51fda5d6-a5fe-4fd5-941e-77c7c83ed0a3"
   },
   "source": [
    "Имя, которое используется для обозначения какого-либо значения, называется переменной. В Python переменные объявляются следующим образом:"
   ]
  },
  {
   "cell_type": "code",
   "execution_count": 2,
   "id": "9dd8e602-c011-4455-9093-89b832841484",
   "metadata": {
    "id": "9dd8e602-c011-4455-9093-89b832841484"
   },
   "outputs": [],
   "source": [
    "x = 21 # операция присваивания переменной x значения 21\n",
    "y = 'Cбер' # операция присваивания переменной y строки 'Сбер'"
   ]
  },
  {
   "cell_type": "markdown",
   "id": "c7931633-cb3d-4e74-8b5a-9a5fad6dd8cf",
   "metadata": {
    "id": "c7931633-cb3d-4e74-8b5a-9a5fad6dd8cf"
   },
   "source": [
    "В Python конец строки является концом инструкции. Никаких символов на конце не требуется. \n",
    "\n",
    "Теперь наши значения хранятся в переменных x и y. Можем в этом убедиться, выведя эти переменные.\n",
    "Воспользуемся функцией `print()` для вывода."
   ]
  },
  {
   "cell_type": "code",
   "execution_count": 3,
   "id": "a6a0f210-7a47-41b7-9269-0395ac9ad9cf",
   "metadata": {
    "colab": {
     "base_uri": "https://localhost:8080/"
    },
    "id": "a6a0f210-7a47-41b7-9269-0395ac9ad9cf",
    "outputId": "1da776e8-2126-4bcd-bbb8-0d1571d7a0e0"
   },
   "outputs": [
    {
     "name": "stdout",
     "output_type": "stream",
     "text": [
      "21\n"
     ]
    }
   ],
   "source": [
    "print(x)"
   ]
  },
  {
   "cell_type": "code",
   "execution_count": 4,
   "id": "b45c08a1-4fd0-486e-bedc-6b7bce49d245",
   "metadata": {
    "colab": {
     "base_uri": "https://localhost:8080/"
    },
    "id": "b45c08a1-4fd0-486e-bedc-6b7bce49d245",
    "outputId": "2c5be27b-830a-423c-d5f6-4065d55acad5"
   },
   "outputs": [
    {
     "name": "stdout",
     "output_type": "stream",
     "text": [
      "Cбер\n"
     ]
    }
   ],
   "source": [
    "print(y)"
   ]
  },
  {
   "cell_type": "markdown",
   "id": "9bfce5f3-d71d-4352-bd56-453f7a33a2cf",
   "metadata": {
    "id": "9bfce5f3-d71d-4352-bd56-453f7a33a2cf"
   },
   "source": [
    "Правила для названия переменной:\n",
    "* Допустимые символы в названиях переменной: буквы, цифры, _ (подчеркивание)\n",
    "* Название может начинаться только с буквы или _"
   ]
  },
  {
   "cell_type": "code",
   "execution_count": 5,
   "id": "27b4a6f9-ce1e-4458-8c3c-6523d9655d76",
   "metadata": {
    "id": "27b4a6f9-ce1e-4458-8c3c-6523d9655d76"
   },
   "outputs": [],
   "source": [
    "name = 1\n",
    "_name = 2\n",
    "name_21 = 21"
   ]
  },
  {
   "cell_type": "markdown",
   "id": "04f28162-a837-49f1-bfa6-9667fed13117",
   "metadata": {
    "id": "04f28162-a837-49f1-bfa6-9667fed13117"
   },
   "source": [
    "Попробуем начать название с цифры:"
   ]
  },
  {
   "cell_type": "code",
   "execution_count": 6,
   "id": "19abc6b9-4994-49f9-99d1-b50f37867617",
   "metadata": {
    "colab": {
     "base_uri": "https://localhost:8080/",
     "height": 108
    },
    "id": "19abc6b9-4994-49f9-99d1-b50f37867617",
    "outputId": "ba9b405b-07af-4510-fd99-a9ebe24df268"
   },
   "outputs": [
    {
     "ename": "SyntaxError",
     "evalue": "invalid decimal literal (<ipython-input-6-94f606fbc010>, line 1)",
     "output_type": "error",
     "traceback": [
      "\u001b[0;36m  File \u001b[0;32m\"<ipython-input-6-94f606fbc010>\"\u001b[0;36m, line \u001b[0;32m1\u001b[0m\n\u001b[0;31m    1_num = 1 # Получаем SyntaxError — ошибку синтаксиса\u001b[0m\n\u001b[0m     ^\u001b[0m\n\u001b[0;31mSyntaxError\u001b[0m\u001b[0;31m:\u001b[0m invalid decimal literal\n"
     ]
    }
   ],
   "source": [
    "1_num = 1 # Получаем SyntaxError — ошибку синтаксиса"
   ]
  },
  {
   "cell_type": "markdown",
   "id": "8f1b62b5-5209-4a47-a374-b834523c16f9",
   "metadata": {
    "id": "8f1b62b5-5209-4a47-a374-b834523c16f9"
   },
   "source": [
    "## Математические операторы и численные типы"
   ]
  },
  {
   "cell_type": "markdown",
   "id": "c6343f42-46a0-4417-b3f1-f0e951de0f09",
   "metadata": {
    "id": "c6343f42-46a0-4417-b3f1-f0e951de0f09"
   },
   "source": [
    "| Обозначение | Оператор |\n",
    "|----|---|\n",
    "| +  | Сложение |\n",
    "| -  | Вычитание |\n",
    "| /  | Деление |\n",
    "| //  | Целочисленное деление |\n",
    "| %  | Взятие остатка от деления |\n",
    "| *  | Умножение |\n",
    "| **  | Возведение в степень |"
   ]
  },
  {
   "cell_type": "code",
   "execution_count": 7,
   "id": "e27b7ff7-2b8f-46d8-8ab6-4bf1cfec9999",
   "metadata": {
    "id": "e27b7ff7-2b8f-46d8-8ab6-4bf1cfec9999"
   },
   "outputs": [],
   "source": [
    "a = 12\n",
    "b = 4"
   ]
  },
  {
   "cell_type": "code",
   "execution_count": 8,
   "id": "929c0a34-db9b-439d-ab55-b6724e91cfea",
   "metadata": {
    "colab": {
     "base_uri": "https://localhost:8080/"
    },
    "id": "929c0a34-db9b-439d-ab55-b6724e91cfea",
    "outputId": "6ac45a33-c8e5-4834-851d-6959d9b21b6b"
   },
   "outputs": [
    {
     "data": {
      "text/plain": [
       "int"
      ]
     },
     "execution_count": 8,
     "metadata": {},
     "output_type": "execute_result"
    }
   ],
   "source": [
    "type(a)"
   ]
  },
  {
   "cell_type": "code",
   "execution_count": 9,
   "id": "868a9a4d-3a24-4b1c-8c60-021f59fca25f",
   "metadata": {
    "id": "868a9a4d-3a24-4b1c-8c60-021f59fca25f"
   },
   "outputs": [],
   "source": [
    "c = a + b"
   ]
  },
  {
   "cell_type": "code",
   "execution_count": 10,
   "id": "83d0ef99-d26d-4638-937a-f534a06a8b2a",
   "metadata": {
    "colab": {
     "base_uri": "https://localhost:8080/"
    },
    "id": "83d0ef99-d26d-4638-937a-f534a06a8b2a",
    "outputId": "889e799c-ca89-47bf-caa0-4c07094d7f35"
   },
   "outputs": [
    {
     "name": "stdout",
     "output_type": "stream",
     "text": [
      "16\n"
     ]
    }
   ],
   "source": [
    "print(c)"
   ]
  },
  {
   "cell_type": "code",
   "execution_count": 11,
   "id": "dcd6184e-c8bc-4fda-8426-532b8ae7f7b2",
   "metadata": {
    "colab": {
     "base_uri": "https://localhost:8080/"
    },
    "id": "dcd6184e-c8bc-4fda-8426-532b8ae7f7b2",
    "outputId": "733c9b20-c4ec-4e15-ce1c-c04f9cdd53ef"
   },
   "outputs": [
    {
     "data": {
      "text/plain": [
       "int"
      ]
     },
     "execution_count": 11,
     "metadata": {},
     "output_type": "execute_result"
    }
   ],
   "source": [
    "type(c)"
   ]
  },
  {
   "cell_type": "code",
   "execution_count": 12,
   "id": "c6f5f29a-91e6-4097-ae59-32a0765a0292",
   "metadata": {
    "id": "c6f5f29a-91e6-4097-ae59-32a0765a0292"
   },
   "outputs": [],
   "source": [
    "d = 3.5"
   ]
  },
  {
   "cell_type": "code",
   "execution_count": 13,
   "id": "991331b2-3351-4842-b9a1-b0d846b3a17d",
   "metadata": {
    "colab": {
     "base_uri": "https://localhost:8080/"
    },
    "id": "991331b2-3351-4842-b9a1-b0d846b3a17d",
    "outputId": "3dbbae92-b4c0-450a-d844-5fc680c729e4"
   },
   "outputs": [
    {
     "name": "stdout",
     "output_type": "stream",
     "text": [
      "3.5\n"
     ]
    }
   ],
   "source": [
    "print(d)"
   ]
  },
  {
   "cell_type": "code",
   "execution_count": 14,
   "id": "35a2bdc6-1d43-4f51-b2ae-14c0803e08bd",
   "metadata": {
    "colab": {
     "base_uri": "https://localhost:8080/"
    },
    "id": "35a2bdc6-1d43-4f51-b2ae-14c0803e08bd",
    "outputId": "1f315161-e435-4bb4-c929-9aba457cc5f8"
   },
   "outputs": [
    {
     "data": {
      "text/plain": [
       "float"
      ]
     },
     "execution_count": 14,
     "metadata": {},
     "output_type": "execute_result"
    }
   ],
   "source": [
    "type(d)"
   ]
  },
  {
   "cell_type": "code",
   "execution_count": 15,
   "id": "a5d53e0b-58a2-4db3-a570-d9d6e94ad1c3",
   "metadata": {
    "id": "a5d53e0b-58a2-4db3-a570-d9d6e94ad1c3"
   },
   "outputs": [],
   "source": [
    "f = a / 2"
   ]
  },
  {
   "cell_type": "code",
   "execution_count": 16,
   "id": "81adbdd1-7851-4744-9739-25e4bb2a0f2c",
   "metadata": {
    "colab": {
     "base_uri": "https://localhost:8080/"
    },
    "id": "81adbdd1-7851-4744-9739-25e4bb2a0f2c",
    "outputId": "d6334569-d34f-44a4-8e4f-6e30d51fd3c2"
   },
   "outputs": [
    {
     "name": "stdout",
     "output_type": "stream",
     "text": [
      "6.0\n"
     ]
    }
   ],
   "source": [
    "print(f)"
   ]
  },
  {
   "cell_type": "code",
   "execution_count": 17,
   "id": "42e64df8-71e6-4197-ac82-7abaf5adafc8",
   "metadata": {
    "colab": {
     "base_uri": "https://localhost:8080/"
    },
    "id": "42e64df8-71e6-4197-ac82-7abaf5adafc8",
    "outputId": "445aa237-496c-4eae-bb34-5d99b58bb56e"
   },
   "outputs": [
    {
     "data": {
      "text/plain": [
       "float"
      ]
     },
     "execution_count": 17,
     "metadata": {},
     "output_type": "execute_result"
    }
   ],
   "source": [
    "type(f)"
   ]
  },
  {
   "cell_type": "code",
   "execution_count": 18,
   "id": "5dd44f88-7f0c-4135-85ed-1eb1c99fad80",
   "metadata": {
    "colab": {
     "base_uri": "https://localhost:8080/"
    },
    "id": "5dd44f88-7f0c-4135-85ed-1eb1c99fad80",
    "outputId": "9cff8915-07cf-45f1-fb30-d24cf9c18c78"
   },
   "outputs": [
    {
     "data": {
      "text/plain": [
       "48"
      ]
     },
     "execution_count": 18,
     "metadata": {},
     "output_type": "execute_result"
    }
   ],
   "source": [
    "a * b"
   ]
  },
  {
   "cell_type": "markdown",
   "id": "8290a228-6ad2-432a-a7cf-4f9e1d883bf3",
   "metadata": {
    "id": "8290a228-6ad2-432a-a7cf-4f9e1d883bf3"
   },
   "source": [
    "Также аккуратнее при использовании различных операций с типом float. Посмотрим на примере:"
   ]
  },
  {
   "cell_type": "code",
   "execution_count": 19,
   "id": "11a927e4-9c93-4878-85fa-55636e558ca9",
   "metadata": {
    "colab": {
     "base_uri": "https://localhost:8080/"
    },
    "id": "11a927e4-9c93-4878-85fa-55636e558ca9",
    "outputId": "8a7773af-1388-489c-8ee5-64c48507d208"
   },
   "outputs": [
    {
     "data": {
      "text/plain": [
       "0.30000000000000004"
      ]
     },
     "execution_count": 19,
     "metadata": {},
     "output_type": "execute_result"
    }
   ],
   "source": [
    "0.1 + 0.2"
   ]
  },
  {
   "cell_type": "markdown",
   "id": "2c4750a5-88eb-4ddd-b1ea-4d20c7294b2c",
   "metadata": {
    "id": "2c4750a5-88eb-4ddd-b1ea-4d20c7294b2c"
   },
   "source": [
    "## Логические операторы и булевый тип"
   ]
  },
  {
   "cell_type": "code",
   "execution_count": 20,
   "id": "2b48c0f8-08b6-4c18-816e-678cae7c8d49",
   "metadata": {
    "id": "2b48c0f8-08b6-4c18-816e-678cae7c8d49"
   },
   "outputs": [],
   "source": [
    "is_true = True # или False"
   ]
  },
  {
   "cell_type": "code",
   "execution_count": 21,
   "id": "8ca6d4fe-db20-4c04-8ae6-d11ac5a63222",
   "metadata": {
    "colab": {
     "base_uri": "https://localhost:8080/"
    },
    "id": "8ca6d4fe-db20-4c04-8ae6-d11ac5a63222",
    "outputId": "3c6a03bf-8dad-4043-cba6-f22713226483"
   },
   "outputs": [
    {
     "data": {
      "text/plain": [
       "True"
      ]
     },
     "execution_count": 21,
     "metadata": {},
     "output_type": "execute_result"
    }
   ],
   "source": [
    "is_true"
   ]
  },
  {
   "cell_type": "markdown",
   "id": "1ef4e978-f535-4a48-b40d-b7795d061e36",
   "metadata": {
    "id": "1ef4e978-f535-4a48-b40d-b7795d061e36"
   },
   "source": [
    "| Обозначение | Оператор |\n",
    "|----| :--- |\n",
    "| and | Логическое И |\n",
    "| or  | Логическое ИЛИ |\n",
    "| not | Отрицание |"
   ]
  },
  {
   "cell_type": "markdown",
   "id": "3f8592bd-4bc8-459e-a3f9-cf7561c29cf3",
   "metadata": {
    "id": "3f8592bd-4bc8-459e-a3f9-cf7561c29cf3"
   },
   "source": [
    "Примеры логических операторов:"
   ]
  },
  {
   "cell_type": "code",
   "execution_count": 22,
   "id": "8439e204-0699-415f-a679-081e21591603",
   "metadata": {
    "colab": {
     "base_uri": "https://localhost:8080/"
    },
    "id": "8439e204-0699-415f-a679-081e21591603",
    "outputId": "cd1a18fe-4698-4de0-87c7-138548d840c0"
   },
   "outputs": [
    {
     "name": "stdout",
     "output_type": "stream",
     "text": [
      "False\n",
      "True\n",
      "True\n"
     ]
    }
   ],
   "source": [
    "print(True and False)\n",
    "print(True or False)\n",
    "print(not False)"
   ]
  },
  {
   "cell_type": "markdown",
   "id": "5b191e47-d4f7-4dde-a91f-56115bac6162",
   "metadata": {
    "id": "5b191e47-d4f7-4dde-a91f-56115bac6162"
   },
   "source": [
    "### Операторы сравнения"
   ]
  },
  {
   "cell_type": "markdown",
   "id": "5ae7e152-b20b-4fb1-890e-884e4b3fe8d3",
   "metadata": {
    "id": "5ae7e152-b20b-4fb1-890e-884e4b3fe8d3"
   },
   "source": [
    "| Обозначение | Оператор |\n",
    "|----| :--- |\n",
    "| == | True, если равно |\n",
    "| !=  | True, если не равно |\n",
    "| < | меньше чем |\n",
    "| > | больше чем |\n",
    "| <=  | меньше чем или равно |\n",
    "| >=  | больше чем или равно |"
   ]
  },
  {
   "cell_type": "code",
   "execution_count": 23,
   "id": "69c3a2ef-efcc-40ff-a2d7-5a99610e63e9",
   "metadata": {
    "colab": {
     "base_uri": "https://localhost:8080/"
    },
    "id": "69c3a2ef-efcc-40ff-a2d7-5a99610e63e9",
    "outputId": "5d201100-1cce-4afe-a71e-0a38274593e5"
   },
   "outputs": [
    {
     "data": {
      "text/plain": [
       "True"
      ]
     },
     "execution_count": 23,
     "metadata": {},
     "output_type": "execute_result"
    }
   ],
   "source": [
    "4 * 2 == 8"
   ]
  },
  {
   "cell_type": "code",
   "execution_count": 24,
   "id": "b57b2969-c8f1-4b52-bdd6-4bb9c591bc6d",
   "metadata": {
    "colab": {
     "base_uri": "https://localhost:8080/"
    },
    "id": "b57b2969-c8f1-4b52-bdd6-4bb9c591bc6d",
    "outputId": "740d104a-e720-49bd-96bf-2946f6b6f7cc"
   },
   "outputs": [
    {
     "data": {
      "text/plain": [
       "False"
      ]
     },
     "execution_count": 24,
     "metadata": {},
     "output_type": "execute_result"
    }
   ],
   "source": [
    "5 > 7"
   ]
  },
  {
   "cell_type": "markdown",
   "id": "04da9f4b-01bc-4c45-bf4c-c15f6d0c81b9",
   "metadata": {
    "id": "04da9f4b-01bc-4c45-bf4c-c15f6d0c81b9"
   },
   "source": [
    "## None"
   ]
  },
  {
   "cell_type": "markdown",
   "id": "7b0cde68-b957-4410-a23c-adce2889ba67",
   "metadata": {
    "id": "7b0cde68-b957-4410-a23c-adce2889ba67"
   },
   "source": [
    "`None` используется для определения отсутствия значения"
   ]
  },
  {
   "cell_type": "code",
   "execution_count": 25,
   "id": "8fa19812-f8ca-4a5b-b720-affc4bc7548c",
   "metadata": {
    "id": "8fa19812-f8ca-4a5b-b720-affc4bc7548c"
   },
   "outputs": [],
   "source": [
    "x = None  # Это значит, что переменной x не присвоено никакое значение."
   ]
  },
  {
   "cell_type": "markdown",
   "id": "aa4961c7-3724-453a-9cc7-daabe4703920",
   "metadata": {
    "id": "aa4961c7-3724-453a-9cc7-daabe4703920"
   },
   "source": [
    "## Строки"
   ]
  },
  {
   "cell_type": "markdown",
   "id": "ff86f061-8b1b-48a0-a96a-9233f9284cf5",
   "metadata": {
    "id": "ff86f061-8b1b-48a0-a96a-9233f9284cf5"
   },
   "source": [
    "Строки в Python — это тип данных, в которых содержатся текстовые символы. Для создания строки мы должны записать символы в \\\"\\\" (двойные) или '' (одинарные) кавычки."
   ]
  },
  {
   "cell_type": "code",
   "execution_count": 26,
   "id": "695b456b-2ead-4675-a8e7-f1015f0e5f0f",
   "metadata": {
    "id": "695b456b-2ead-4675-a8e7-f1015f0e5f0f"
   },
   "outputs": [],
   "source": [
    "s_1 = \"Sber\"  # str"
   ]
  },
  {
   "cell_type": "markdown",
   "id": "52754229-8c19-4953-90a4-8129e8ea6f1e",
   "metadata": {
    "id": "52754229-8c19-4953-90a4-8129e8ea6f1e"
   },
   "source": [
    "Функция `len()` возвращает длину строки."
   ]
  },
  {
   "cell_type": "code",
   "execution_count": 27,
   "id": "fa293ce0-dacc-4a91-99b7-0572d08a350d",
   "metadata": {
    "colab": {
     "base_uri": "https://localhost:8080/"
    },
    "id": "fa293ce0-dacc-4a91-99b7-0572d08a350d",
    "outputId": "23bfdfdf-80f9-4723-94e5-9f175f396e1d"
   },
   "outputs": [
    {
     "data": {
      "text/plain": [
       "7"
      ]
     },
     "execution_count": 27,
     "metadata": {},
     "output_type": "execute_result"
    }
   ],
   "source": [
    "len(\"Sber 21\")"
   ]
  },
  {
   "cell_type": "markdown",
   "id": "7d0fa6db-a1b1-442c-a2bb-06b4d52dca17",
   "metadata": {
    "id": "7d0fa6db-a1b1-442c-a2bb-06b4d52dca17"
   },
   "source": [
    "У строк огромное количество методов, например, метод `.replace()`, который позволяет заменять символы в строке:"
   ]
  },
  {
   "cell_type": "code",
   "execution_count": 28,
   "id": "69f9dc03-0246-4b77-abb9-656310776c2b",
   "metadata": {
    "id": "69f9dc03-0246-4b77-abb9-656310776c2b"
   },
   "outputs": [],
   "source": [
    "string = 'малако'"
   ]
  },
  {
   "cell_type": "code",
   "execution_count": 29,
   "id": "fb0b3a68-8c60-410d-bf12-da3823d58da5",
   "metadata": {
    "colab": {
     "base_uri": "https://localhost:8080/",
     "height": 35
    },
    "id": "fb0b3a68-8c60-410d-bf12-da3823d58da5",
    "outputId": "0275c449-c625-4d83-86a5-6659125ff57a"
   },
   "outputs": [
    {
     "data": {
      "application/vnd.google.colaboratory.intrinsic+json": {
       "type": "string"
      },
      "text/plain": [
       "'молоко'"
      ]
     },
     "execution_count": 29,
     "metadata": {},
     "output_type": "execute_result"
    }
   ],
   "source": [
    "string.replace('а', 'о')"
   ]
  },
  {
   "cell_type": "markdown",
   "id": "ae662e8b-5f07-4906-b4c9-827915cd54d5",
   "metadata": {
    "id": "ae662e8b-5f07-4906-b4c9-827915cd54d5"
   },
   "source": [
    "## Коллекции"
   ]
  },
  {
   "cell_type": "markdown",
   "id": "97600b63-c353-4018-b47b-e8690ae2acd6",
   "metadata": {
    "id": "97600b63-c353-4018-b47b-e8690ae2acd6"
   },
   "source": [
    "До сих пор мы рассматривали только числа и строки и то, как писать простые выражения с их участием. В целом, написание программ — это управление более сложными коллекциями таких элементов. Это значит, что нужно думать о структурах данных для хранения данных и алгоритмах для манипулирования ими."
   ]
  },
  {
   "cell_type": "markdown",
   "id": "e124d411-b34e-4b8b-8628-6b43dacdc202",
   "metadata": {
    "id": "e124d411-b34e-4b8b-8628-6b43dacdc202"
   },
   "source": [
    "### Списки"
   ]
  },
  {
   "cell_type": "markdown",
   "id": "313dba3a-c37f-452c-9379-186abe3ba032",
   "metadata": {
    "id": "313dba3a-c37f-452c-9379-186abe3ba032"
   },
   "source": [
    "Списки (List) — это наиболее часто используемая структура данных. Считай, что это последовательность данных, заключенных в квадратные скобки, которые разделяются запятой. Каждый элемент списка может быть доступен по позиции элемента в списке."
   ]
  },
  {
   "cell_type": "code",
   "execution_count": 30,
   "id": "be43730a-39a6-47a9-9018-f2eb17cad7dc",
   "metadata": {
    "id": "be43730a-39a6-47a9-9018-f2eb17cad7dc"
   },
   "outputs": [],
   "source": [
    "lst = ['Hello', 2, True]"
   ]
  },
  {
   "cell_type": "code",
   "execution_count": 31,
   "id": "c46a76a7-d4f9-4aa7-a880-19818c7acf45",
   "metadata": {
    "colab": {
     "base_uri": "https://localhost:8080/"
    },
    "id": "c46a76a7-d4f9-4aa7-a880-19818c7acf45",
    "outputId": "710dbc34-d820-4147-b81c-562b51ef8096"
   },
   "outputs": [
    {
     "data": {
      "text/plain": [
       "list"
      ]
     },
     "execution_count": 31,
     "metadata": {},
     "output_type": "execute_result"
    }
   ],
   "source": [
    "type(lst)"
   ]
  },
  {
   "cell_type": "markdown",
   "id": "62ae3a5e-f3f0-4c89-abfc-8862118d7b4e",
   "metadata": {
    "id": "62ae3a5e-f3f0-4c89-abfc-8862118d7b4e"
   },
   "source": [
    "К элементу списка можно обратиться по его индексу. В Python индексация начинается с 0, как уже было замечено для строк."
   ]
  },
  {
   "cell_type": "code",
   "execution_count": 32,
   "id": "5ecc225e-ec65-4c32-b4c2-6be3cde16aa9",
   "metadata": {
    "colab": {
     "base_uri": "https://localhost:8080/",
     "height": 35
    },
    "id": "5ecc225e-ec65-4c32-b4c2-6be3cde16aa9",
    "outputId": "ef992e9d-5500-4812-92d8-bc2c7ac494e0"
   },
   "outputs": [
    {
     "data": {
      "application/vnd.google.colaboratory.intrinsic+json": {
       "type": "string"
      },
      "text/plain": [
       "'Hello'"
      ]
     },
     "execution_count": 32,
     "metadata": {},
     "output_type": "execute_result"
    }
   ],
   "source": [
    "lst[0]"
   ]
  },
  {
   "cell_type": "code",
   "execution_count": 33,
   "id": "d89dcb35-e0a5-4ea3-a8f2-eb7cc4792b59",
   "metadata": {
    "colab": {
     "base_uri": "https://localhost:8080/"
    },
    "id": "d89dcb35-e0a5-4ea3-a8f2-eb7cc4792b59",
    "outputId": "6fc4a16d-497d-4bc7-b47e-3c726cbd091f"
   },
   "outputs": [
    {
     "data": {
      "text/plain": [
       "True"
      ]
     },
     "execution_count": 33,
     "metadata": {},
     "output_type": "execute_result"
    }
   ],
   "source": [
    "lst[2]"
   ]
  },
  {
   "cell_type": "markdown",
   "id": "ef4f611a-50bd-408d-8414-50daf12e82c4",
   "metadata": {
    "id": "ef4f611a-50bd-408d-8414-50daf12e82c4"
   },
   "source": [
    "### Словари"
   ]
  },
  {
   "cell_type": "markdown",
   "id": "da19d9f5-4dcd-4b64-8b33-944223961ad8",
   "metadata": {
    "id": "da19d9f5-4dcd-4b64-8b33-944223961ad8"
   },
   "source": [
    "Словари (Dict) — это отображения между ключами и элементами, хранящимися в словарях. В качестве альтернативы можно рассматривать словари как множества, в которых что-то хранится против каждого элемента множества. Они могут быть определены следующим образом:"
   ]
  },
  {
   "cell_type": "code",
   "execution_count": 34,
   "id": "15b3eab5-de05-4d0d-9325-dc9be310e135",
   "metadata": {
    "id": "15b3eab5-de05-4d0d-9325-dc9be310e135"
   },
   "outputs": [],
   "source": [
    "d = {}\n",
    "d['key'] = 'value'"
   ]
  },
  {
   "cell_type": "code",
   "execution_count": 35,
   "id": "d43f06db-bec4-447e-bcd6-a8724befd7f8",
   "metadata": {
    "colab": {
     "base_uri": "https://localhost:8080/"
    },
    "id": "d43f06db-bec4-447e-bcd6-a8724befd7f8",
    "outputId": "0e7eb7a2-e0dc-4630-cdd7-a18df2916605"
   },
   "outputs": [
    {
     "data": {
      "text/plain": [
       "{'key': 'value'}"
      ]
     },
     "execution_count": 35,
     "metadata": {},
     "output_type": "execute_result"
    }
   ],
   "source": [
    "d"
   ]
  },
  {
   "cell_type": "code",
   "execution_count": 36,
   "id": "038e0d80-67cc-4ffc-a703-22ef09424425",
   "metadata": {
    "id": "038e0d80-67cc-4ffc-a703-22ef09424425"
   },
   "outputs": [],
   "source": [
    "d = {1: 'Один', 2: 'Два', 3: 'Три'}"
   ]
  },
  {
   "cell_type": "code",
   "execution_count": 37,
   "id": "46995514-9b70-49de-ad2c-d0bba9c15e30",
   "metadata": {
    "colab": {
     "base_uri": "https://localhost:8080/",
     "height": 35
    },
    "id": "46995514-9b70-49de-ad2c-d0bba9c15e30",
    "outputId": "b9a40a64-5101-4f17-fa6d-1e77ef5cadcc"
   },
   "outputs": [
    {
     "data": {
      "application/vnd.google.colaboratory.intrinsic+json": {
       "type": "string"
      },
      "text/plain": [
       "'Три'"
      ]
     },
     "execution_count": 37,
     "metadata": {},
     "output_type": "execute_result"
    }
   ],
   "source": [
    "d[3] # Можно получить значение по ключу"
   ]
  },
  {
   "cell_type": "markdown",
   "id": "08c59ed8-846c-443c-bdc5-e42d8175cf61",
   "metadata": {
    "id": "08c59ed8-846c-443c-bdc5-e42d8175cf61"
   },
   "source": [
    "## Функции"
   ]
  },
  {
   "cell_type": "markdown",
   "id": "d09c996c-72fe-48a8-8e32-4c01a7f3ed82",
   "metadata": {
    "id": "d09c996c-72fe-48a8-8e32-4c01a7f3ed82"
   },
   "source": [
    "Функции — это механизм, позволяющий повторно использовать код, чтобы сложные программы можно было строить из более простых частей. Важно: начинать писать программу на Python с написания нескольких строк кода и тестирования по ходу дела — это здорово, но распространенная ошибка новичков — продолжать в том же духе. Ты не захочешь иметь программу, состоящую из 20 000 строк в одном длинном файле/блокноте. Думай о функциях, как об абзацах в английском языке. Каждый раз, когда ты начинаешь новую идею, начинай новую функцию. Это сделает твой код более читабельным, легким для отладки и, в конечном итоге, для повторного использования частей кода таким образом, который, возможно, не предполагался при первоначальном написании кода."
   ]
  },
  {
   "cell_type": "code",
   "execution_count": 38,
   "id": "5027e40b-acc8-436c-8d04-fe1734a3a564",
   "metadata": {
    "colab": {
     "base_uri": "https://localhost:8080/"
    },
    "id": "5027e40b-acc8-436c-8d04-fe1734a3a564",
    "outputId": "f95a22e8-e970-4f86-fc5e-8b3b7edcbfe2"
   },
   "outputs": [
    {
     "name": "stdout",
     "output_type": "stream",
     "text": [
      "Привет, Андрей!\n",
      "Как твои дела?\n"
     ]
    }
   ],
   "source": [
    "print(\"Привет, Андрей!\")\n",
    "print(\"Как твои дела?\")"
   ]
  },
  {
   "cell_type": "markdown",
   "id": "72f9a627-0be1-47d4-97a9-317518a9cb4d",
   "metadata": {
    "id": "72f9a627-0be1-47d4-97a9-317518a9cb4d"
   },
   "source": [
    "Вместо того, чтобы каждый раз писать весь повторяющийся код, можно заменить определением функции, которая выполнит эту работу всего за одну строку.\n",
    "\n",
    "Функции в Python определяются с использованием ключевого слова ```def```, за которым следует имя функции, аргументы в круглых скобках и двоеточие. Тело функции начинается с отступа и может содержать любое количество выражений."
   ]
  },
  {
   "cell_type": "code",
   "execution_count": 39,
   "id": "4d14a3cb-498b-412a-a2a0-43a652b6f39c",
   "metadata": {
    "id": "4d14a3cb-498b-412a-a2a0-43a652b6f39c"
   },
   "outputs": [],
   "source": [
    "def имя_функции(аргументы):\n",
    "    тело_функции"
   ]
  },
  {
   "cell_type": "markdown",
   "id": "1b825c8b-0164-4e5c-9eb0-b5a9181c5c6a",
   "metadata": {
    "id": "1b825c8b-0164-4e5c-9eb0-b5a9181c5c6a"
   },
   "source": [
    "Например, реализуем функцию приветствия:"
   ]
  },
  {
   "cell_type": "code",
   "execution_count": 40,
   "id": "afeb917b-1113-44a2-a0b7-80a4ad69bd2d",
   "metadata": {
    "id": "afeb917b-1113-44a2-a0b7-80a4ad69bd2d"
   },
   "outputs": [],
   "source": [
    "def hello():\n",
    "    # После вызова этой функции исполнится код, написанный ниже\n",
    "    print(\"Добрый день, Андрей!\")\n",
    "    print(\"Как твои дела?\")"
   ]
  },
  {
   "cell_type": "code",
   "execution_count": 41,
   "id": "18f9c1df-0d57-4167-90f3-1f7618e63757",
   "metadata": {
    "colab": {
     "base_uri": "https://localhost:8080/"
    },
    "id": "18f9c1df-0d57-4167-90f3-1f7618e63757",
    "outputId": "9a042662-58cd-423a-9efd-a248cd1d0d55"
   },
   "outputs": [
    {
     "name": "stdout",
     "output_type": "stream",
     "text": [
      "Добрый день, Андрей!\n",
      "Как твои дела?\n"
     ]
    }
   ],
   "source": [
    "hello()"
   ]
  },
  {
   "cell_type": "markdown",
   "id": "50a6c5c8-3937-4462-9038-c9bc40f42bd6",
   "metadata": {
    "id": "50a6c5c8-3937-4462-9038-c9bc40f42bd6"
   },
   "source": [
    "Наша функция `hello()` всегда будет приветствовать Андрея. Мы можем сделать нашу функцию `hello()` принимающей аргументы, которые будут хранить имя, с кем нужно поздороваться. Для этого добавь аргумент в функцию."
   ]
  },
  {
   "cell_type": "code",
   "execution_count": 42,
   "id": "7ba3523a-0653-464c-ab61-bedb0840bb6d",
   "metadata": {
    "id": "7ba3523a-0653-464c-ab61-bedb0840bb6d"
   },
   "outputs": [],
   "source": [
    "def hello(name):\n",
    "    # После вызова этой функции исполнится код, написанный ниже\n",
    "    print(\"Добрый день, %s!\" % name)\n",
    "    print(\"Как твои дела?\")"
   ]
  },
  {
   "cell_type": "code",
   "execution_count": 43,
   "id": "a072cb18-f471-46b0-880a-488a4b2f76f0",
   "metadata": {
    "colab": {
     "base_uri": "https://localhost:8080/"
    },
    "id": "a072cb18-f471-46b0-880a-488a4b2f76f0",
    "outputId": "856052da-c8cb-45e6-eaf7-867d6e600376"
   },
   "outputs": [
    {
     "name": "stdout",
     "output_type": "stream",
     "text": [
      "Добрый день, Андрей!\n",
      "Как твои дела?\n"
     ]
    }
   ],
   "source": [
    "hello(\"Андрей\")"
   ]
  },
  {
   "cell_type": "code",
   "execution_count": 44,
   "id": "c4b6a5e1-2a54-4afc-8d59-9e88cf73ad9a",
   "metadata": {
    "colab": {
     "base_uri": "https://localhost:8080/"
    },
    "id": "c4b6a5e1-2a54-4afc-8d59-9e88cf73ad9a",
    "outputId": "ae734dd2-433f-4ccb-e3f1-ba4b813e040b"
   },
   "outputs": [
    {
     "name": "stdout",
     "output_type": "stream",
     "text": [
      "Добрый день, Света!\n",
      "Как твои дела?\n"
     ]
    }
   ],
   "source": [
    "hello(\"Света\")"
   ]
  },
  {
   "cell_type": "markdown",
   "id": "a95e2160-753e-47de-8315-d0609f1be833",
   "metadata": {
    "id": "a95e2160-753e-47de-8315-d0609f1be833"
   },
   "source": [
    "## Pandas"
   ]
  },
  {
   "cell_type": "markdown",
   "id": "6f563f82-8e66-407a-8ff5-fd30156b2c18",
   "metadata": {
    "id": "6f563f82-8e66-407a-8ff5-fd30156b2c18"
   },
   "source": [
    "### Импортирование библиотек"
   ]
  },
  {
   "cell_type": "code",
   "execution_count": 46,
   "id": "cyoPWs08E5tm",
   "metadata": {
    "colab": {
     "base_uri": "https://localhost:8080/"
    },
    "id": "cyoPWs08E5tm",
    "outputId": "8d4ddfef-1fa8-4f41-b339-752de37c9729"
   },
   "outputs": [
    {
     "name": "stdout",
     "output_type": "stream",
     "text": [
      "Mounted at /content/drive\n"
     ]
    }
   ],
   "source": [
    "from google.colab import drive\n",
    "drive.mount('/content/drive')"
   ]
  },
  {
   "cell_type": "code",
   "execution_count": 47,
   "id": "d5027cdf-8d16-4096-9875-e812696103a8",
   "metadata": {
    "id": "d5027cdf-8d16-4096-9875-e812696103a8"
   },
   "outputs": [],
   "source": [
    "import pandas as pd"
   ]
  },
  {
   "cell_type": "markdown",
   "id": "95b81626-fe8e-4c6a-a4d9-d06d610dd82d",
   "metadata": {
    "id": "95b81626-fe8e-4c6a-a4d9-d06d610dd82d"
   },
   "source": [
    "### Чтение данных"
   ]
  },
  {
   "cell_type": "code",
   "execution_count": null,
   "id": "6bb4502a-1434-48a9-a022-9014df293746",
   "metadata": {
    "id": "6bb4502a-1434-48a9-a022-9014df293746"
   },
   "outputs": [],
   "source": [
    "df1 = pd.read_csv('../datasets/users_1.csv') #указываем путь к файлу"
   ]
  },
  {
   "cell_type": "code",
   "execution_count": null,
   "id": "32da61d3-2dbd-4709-b3d0-dde01d6fb2a3",
   "metadata": {
    "id": "32da61d3-2dbd-4709-b3d0-dde01d6fb2a3",
    "outputId": "2b69c888-70af-4e20-a037-9a06730fa886"
   },
   "outputs": [
    {
     "data": {
      "text/html": [
       "<div>\n",
       "<style scoped>\n",
       "    .dataframe tbody tr th:only-of-type {\n",
       "        vertical-align: middle;\n",
       "    }\n",
       "\n",
       "    .dataframe tbody tr th {\n",
       "        vertical-align: top;\n",
       "    }\n",
       "\n",
       "    .dataframe thead th {\n",
       "        text-align: right;\n",
       "    }\n",
       "</style>\n",
       "<table border=\"1\" class=\"dataframe\">\n",
       "  <thead>\n",
       "    <tr style=\"text-align: right;\">\n",
       "      <th></th>\n",
       "      <th>ID</th>\n",
       "      <th>пол</th>\n",
       "      <th>возраст</th>\n",
       "      <th>в_браке</th>\n",
       "      <th>город</th>\n",
       "    </tr>\n",
       "  </thead>\n",
       "  <tbody>\n",
       "    <tr>\n",
       "      <th>0</th>\n",
       "      <td>123123</td>\n",
       "      <td>М</td>\n",
       "      <td>23</td>\n",
       "      <td>нет</td>\n",
       "      <td>101000</td>\n",
       "    </tr>\n",
       "    <tr>\n",
       "      <th>1</th>\n",
       "      <td>393812</td>\n",
       "      <td>Ж</td>\n",
       "      <td>24</td>\n",
       "      <td>да</td>\n",
       "      <td>101000</td>\n",
       "    </tr>\n",
       "    <tr>\n",
       "      <th>2</th>\n",
       "      <td>891828</td>\n",
       "      <td>Ж</td>\n",
       "      <td>52</td>\n",
       "      <td>да</td>\n",
       "      <td>620000</td>\n",
       "    </tr>\n",
       "    <tr>\n",
       "      <th>3</th>\n",
       "      <td>128932</td>\n",
       "      <td>М</td>\n",
       "      <td>34</td>\n",
       "      <td>да</td>\n",
       "      <td>630000</td>\n",
       "    </tr>\n",
       "    <tr>\n",
       "      <th>4</th>\n",
       "      <td>928345</td>\n",
       "      <td>М</td>\n",
       "      <td>46</td>\n",
       "      <td>NaN</td>\n",
       "      <td>385000</td>\n",
       "    </tr>\n",
       "  </tbody>\n",
       "</table>\n",
       "</div>"
      ],
      "text/plain": [
       "       ID пол  возраст в_браке   город\n",
       "0  123123   М       23     нет  101000\n",
       "1  393812   Ж       24      да  101000\n",
       "2  891828   Ж       52      да  620000\n",
       "3  128932   М       34      да  630000\n",
       "4  928345   М       46     NaN  385000"
      ]
     },
     "execution_count": 47,
     "metadata": {},
     "output_type": "execute_result"
    }
   ],
   "source": [
    "df1"
   ]
  },
  {
   "cell_type": "code",
   "execution_count": null,
   "id": "0aebcbbd-81c7-41f2-84b7-5c4fb0d588c5",
   "metadata": {
    "id": "0aebcbbd-81c7-41f2-84b7-5c4fb0d588c5",
    "outputId": "0fa3f719-1cd1-4f4e-d124-7edcd70df9f0"
   },
   "outputs": [
    {
     "name": "stdout",
     "output_type": "stream",
     "text": [
      "<class 'pandas.core.frame.DataFrame'>\n",
      "RangeIndex: 5 entries, 0 to 4\n",
      "Data columns (total 5 columns):\n",
      " #   Column   Non-Null Count  Dtype \n",
      "---  ------   --------------  ----- \n",
      " 0   ID       5 non-null      int64 \n",
      " 1   пол      5 non-null      object\n",
      " 2   возраст  5 non-null      int64 \n",
      " 3   в_браке  4 non-null      object\n",
      " 4   город    5 non-null      int64 \n",
      "dtypes: int64(3), object(2)\n",
      "memory usage: 328.0+ bytes\n"
     ]
    }
   ],
   "source": [
    "df1.info()"
   ]
  },
  {
   "cell_type": "code",
   "execution_count": null,
   "id": "51d6ccef-2496-4d08-a9bd-1d99712c0d13",
   "metadata": {
    "id": "51d6ccef-2496-4d08-a9bd-1d99712c0d13",
    "outputId": "1d4a2bc4-f9ec-41f9-b926-9c26fa6972f4"
   },
   "outputs": [
    {
     "data": {
      "text/plain": [
       "Index(['ID', 'пол', 'возраст', 'в_браке', 'город'], dtype='object')"
      ]
     },
     "execution_count": 49,
     "metadata": {},
     "output_type": "execute_result"
    }
   ],
   "source": [
    "df1.columns"
   ]
  },
  {
   "cell_type": "markdown",
   "id": "60200681-435a-445a-bb22-e37dfff0b34f",
   "metadata": {
    "id": "60200681-435a-445a-bb22-e37dfff0b34f"
   },
   "source": [
    "### Дополение данных"
   ]
  },
  {
   "cell_type": "code",
   "execution_count": null,
   "id": "0f8d4fb1-363c-49fc-9155-670d38e322dd",
   "metadata": {
    "id": "0f8d4fb1-363c-49fc-9155-670d38e322dd"
   },
   "outputs": [],
   "source": [
    "df2 = pd.read_csv('../datasets/users_2.csv')"
   ]
  },
  {
   "cell_type": "code",
   "execution_count": null,
   "id": "abda2945-9ea4-4078-beb7-1f912cf2122a",
   "metadata": {
    "id": "abda2945-9ea4-4078-beb7-1f912cf2122a",
    "outputId": "5bafa89d-8b4c-4a9f-c6b2-8902af67461a"
   },
   "outputs": [
    {
     "data": {
      "text/html": [
       "<div>\n",
       "<style scoped>\n",
       "    .dataframe tbody tr th:only-of-type {\n",
       "        vertical-align: middle;\n",
       "    }\n",
       "\n",
       "    .dataframe tbody tr th {\n",
       "        vertical-align: top;\n",
       "    }\n",
       "\n",
       "    .dataframe thead th {\n",
       "        text-align: right;\n",
       "    }\n",
       "</style>\n",
       "<table border=\"1\" class=\"dataframe\">\n",
       "  <thead>\n",
       "    <tr style=\"text-align: right;\">\n",
       "      <th></th>\n",
       "      <th>ID</th>\n",
       "      <th>пол</th>\n",
       "      <th>возраст</th>\n",
       "      <th>в_браке</th>\n",
       "      <th>город</th>\n",
       "    </tr>\n",
       "  </thead>\n",
       "  <tbody>\n",
       "    <tr>\n",
       "      <th>0</th>\n",
       "      <td>123112</td>\n",
       "      <td>М</td>\n",
       "      <td>19</td>\n",
       "      <td>нет</td>\n",
       "      <td>420000</td>\n",
       "    </tr>\n",
       "    <tr>\n",
       "      <th>1</th>\n",
       "      <td>478193</td>\n",
       "      <td>Ж</td>\n",
       "      <td>31</td>\n",
       "      <td>да</td>\n",
       "      <td>460000</td>\n",
       "    </tr>\n",
       "    <tr>\n",
       "      <th>2</th>\n",
       "      <td>891828</td>\n",
       "      <td>Ж</td>\n",
       "      <td>22</td>\n",
       "      <td>да</td>\n",
       "      <td>690001</td>\n",
       "    </tr>\n",
       "  </tbody>\n",
       "</table>\n",
       "</div>"
      ],
      "text/plain": [
       "       ID пол  возраст в_браке   город\n",
       "0  123112   М       19     нет  420000\n",
       "1  478193   Ж       31      да  460000\n",
       "2  891828   Ж       22      да  690001"
      ]
     },
     "execution_count": 51,
     "metadata": {},
     "output_type": "execute_result"
    }
   ],
   "source": [
    "df2"
   ]
  },
  {
   "cell_type": "code",
   "execution_count": null,
   "id": "9e4d2b5c-463c-43eb-a7e1-170313e979a4",
   "metadata": {
    "id": "9e4d2b5c-463c-43eb-a7e1-170313e979a4"
   },
   "outputs": [],
   "source": [
    "df = pd.concat([df1, df2])"
   ]
  },
  {
   "cell_type": "code",
   "execution_count": null,
   "id": "75500147-1021-473f-9580-bc0d558e9daa",
   "metadata": {
    "id": "75500147-1021-473f-9580-bc0d558e9daa",
    "outputId": "5ed99047-dae5-45a4-f9e2-3ed19ddff40a"
   },
   "outputs": [
    {
     "data": {
      "text/html": [
       "<div>\n",
       "<style scoped>\n",
       "    .dataframe tbody tr th:only-of-type {\n",
       "        vertical-align: middle;\n",
       "    }\n",
       "\n",
       "    .dataframe tbody tr th {\n",
       "        vertical-align: top;\n",
       "    }\n",
       "\n",
       "    .dataframe thead th {\n",
       "        text-align: right;\n",
       "    }\n",
       "</style>\n",
       "<table border=\"1\" class=\"dataframe\">\n",
       "  <thead>\n",
       "    <tr style=\"text-align: right;\">\n",
       "      <th></th>\n",
       "      <th>ID</th>\n",
       "      <th>пол</th>\n",
       "      <th>возраст</th>\n",
       "      <th>в_браке</th>\n",
       "      <th>город</th>\n",
       "    </tr>\n",
       "  </thead>\n",
       "  <tbody>\n",
       "    <tr>\n",
       "      <th>0</th>\n",
       "      <td>123123</td>\n",
       "      <td>М</td>\n",
       "      <td>23</td>\n",
       "      <td>нет</td>\n",
       "      <td>101000</td>\n",
       "    </tr>\n",
       "    <tr>\n",
       "      <th>1</th>\n",
       "      <td>393812</td>\n",
       "      <td>Ж</td>\n",
       "      <td>24</td>\n",
       "      <td>да</td>\n",
       "      <td>101000</td>\n",
       "    </tr>\n",
       "    <tr>\n",
       "      <th>2</th>\n",
       "      <td>891828</td>\n",
       "      <td>Ж</td>\n",
       "      <td>52</td>\n",
       "      <td>да</td>\n",
       "      <td>620000</td>\n",
       "    </tr>\n",
       "    <tr>\n",
       "      <th>3</th>\n",
       "      <td>128932</td>\n",
       "      <td>М</td>\n",
       "      <td>34</td>\n",
       "      <td>да</td>\n",
       "      <td>630000</td>\n",
       "    </tr>\n",
       "    <tr>\n",
       "      <th>4</th>\n",
       "      <td>928345</td>\n",
       "      <td>М</td>\n",
       "      <td>46</td>\n",
       "      <td>NaN</td>\n",
       "      <td>385000</td>\n",
       "    </tr>\n",
       "    <tr>\n",
       "      <th>0</th>\n",
       "      <td>123112</td>\n",
       "      <td>М</td>\n",
       "      <td>19</td>\n",
       "      <td>нет</td>\n",
       "      <td>420000</td>\n",
       "    </tr>\n",
       "    <tr>\n",
       "      <th>1</th>\n",
       "      <td>478193</td>\n",
       "      <td>Ж</td>\n",
       "      <td>31</td>\n",
       "      <td>да</td>\n",
       "      <td>460000</td>\n",
       "    </tr>\n",
       "    <tr>\n",
       "      <th>2</th>\n",
       "      <td>891828</td>\n",
       "      <td>Ж</td>\n",
       "      <td>22</td>\n",
       "      <td>да</td>\n",
       "      <td>690001</td>\n",
       "    </tr>\n",
       "  </tbody>\n",
       "</table>\n",
       "</div>"
      ],
      "text/plain": [
       "       ID пол  возраст в_браке   город\n",
       "0  123123   М       23     нет  101000\n",
       "1  393812   Ж       24      да  101000\n",
       "2  891828   Ж       52      да  620000\n",
       "3  128932   М       34      да  630000\n",
       "4  928345   М       46     NaN  385000\n",
       "0  123112   М       19     нет  420000\n",
       "1  478193   Ж       31      да  460000\n",
       "2  891828   Ж       22      да  690001"
      ]
     },
     "execution_count": 53,
     "metadata": {},
     "output_type": "execute_result"
    }
   ],
   "source": [
    "df"
   ]
  },
  {
   "cell_type": "markdown",
   "id": "a7e58759-a1d2-49ce-88f2-9f518d8436ed",
   "metadata": {
    "id": "a7e58759-a1d2-49ce-88f2-9f518d8436ed"
   },
   "source": [
    "### Колонки и индексы"
   ]
  },
  {
   "cell_type": "code",
   "execution_count": null,
   "id": "6a9625e2-b478-4e18-bd29-ac01aa884608",
   "metadata": {
    "id": "6a9625e2-b478-4e18-bd29-ac01aa884608",
    "outputId": "78ce5f85-966c-4580-ebc1-01c2fc7b1bb7"
   },
   "outputs": [
    {
     "data": {
      "text/plain": [
       "Index(['ID', 'пол', 'возраст', 'в_браке', 'город'], dtype='object')"
      ]
     },
     "execution_count": 54,
     "metadata": {},
     "output_type": "execute_result"
    }
   ],
   "source": [
    "df.columns"
   ]
  },
  {
   "cell_type": "code",
   "execution_count": null,
   "id": "b0507718-d7ea-47ad-91d8-0ad56a45dd2e",
   "metadata": {
    "id": "b0507718-d7ea-47ad-91d8-0ad56a45dd2e",
    "outputId": "92550f3e-b0a2-4d0b-dd7d-d59e23ad5b84"
   },
   "outputs": [
    {
     "data": {
      "text/plain": [
       "Index([0, 1, 2, 3, 4, 0, 1, 2], dtype='int64')"
      ]
     },
     "execution_count": 55,
     "metadata": {},
     "output_type": "execute_result"
    }
   ],
   "source": [
    "df.index"
   ]
  },
  {
   "cell_type": "code",
   "execution_count": null,
   "id": "527fa909-4d1a-4636-a684-fee13f3451ee",
   "metadata": {
    "id": "527fa909-4d1a-4636-a684-fee13f3451ee"
   },
   "outputs": [],
   "source": [
    "df.set_index(\"ID\", inplace=True)"
   ]
  },
  {
   "cell_type": "code",
   "execution_count": null,
   "id": "637f4321-effc-4efc-8fbc-e34a870e1fd2",
   "metadata": {
    "id": "637f4321-effc-4efc-8fbc-e34a870e1fd2",
    "outputId": "4f2b672b-3e8c-47d6-8f81-defc2813dc74"
   },
   "outputs": [
    {
     "data": {
      "text/html": [
       "<div>\n",
       "<style scoped>\n",
       "    .dataframe tbody tr th:only-of-type {\n",
       "        vertical-align: middle;\n",
       "    }\n",
       "\n",
       "    .dataframe tbody tr th {\n",
       "        vertical-align: top;\n",
       "    }\n",
       "\n",
       "    .dataframe thead th {\n",
       "        text-align: right;\n",
       "    }\n",
       "</style>\n",
       "<table border=\"1\" class=\"dataframe\">\n",
       "  <thead>\n",
       "    <tr style=\"text-align: right;\">\n",
       "      <th></th>\n",
       "      <th>пол</th>\n",
       "      <th>возраст</th>\n",
       "      <th>в_браке</th>\n",
       "      <th>город</th>\n",
       "    </tr>\n",
       "    <tr>\n",
       "      <th>ID</th>\n",
       "      <th></th>\n",
       "      <th></th>\n",
       "      <th></th>\n",
       "      <th></th>\n",
       "    </tr>\n",
       "  </thead>\n",
       "  <tbody>\n",
       "    <tr>\n",
       "      <th>123123</th>\n",
       "      <td>М</td>\n",
       "      <td>23</td>\n",
       "      <td>нет</td>\n",
       "      <td>101000</td>\n",
       "    </tr>\n",
       "    <tr>\n",
       "      <th>393812</th>\n",
       "      <td>Ж</td>\n",
       "      <td>24</td>\n",
       "      <td>да</td>\n",
       "      <td>101000</td>\n",
       "    </tr>\n",
       "    <tr>\n",
       "      <th>891828</th>\n",
       "      <td>Ж</td>\n",
       "      <td>52</td>\n",
       "      <td>да</td>\n",
       "      <td>620000</td>\n",
       "    </tr>\n",
       "    <tr>\n",
       "      <th>128932</th>\n",
       "      <td>М</td>\n",
       "      <td>34</td>\n",
       "      <td>да</td>\n",
       "      <td>630000</td>\n",
       "    </tr>\n",
       "    <tr>\n",
       "      <th>928345</th>\n",
       "      <td>М</td>\n",
       "      <td>46</td>\n",
       "      <td>NaN</td>\n",
       "      <td>385000</td>\n",
       "    </tr>\n",
       "    <tr>\n",
       "      <th>123112</th>\n",
       "      <td>М</td>\n",
       "      <td>19</td>\n",
       "      <td>нет</td>\n",
       "      <td>420000</td>\n",
       "    </tr>\n",
       "    <tr>\n",
       "      <th>478193</th>\n",
       "      <td>Ж</td>\n",
       "      <td>31</td>\n",
       "      <td>да</td>\n",
       "      <td>460000</td>\n",
       "    </tr>\n",
       "    <tr>\n",
       "      <th>891828</th>\n",
       "      <td>Ж</td>\n",
       "      <td>22</td>\n",
       "      <td>да</td>\n",
       "      <td>690001</td>\n",
       "    </tr>\n",
       "  </tbody>\n",
       "</table>\n",
       "</div>"
      ],
      "text/plain": [
       "       пол  возраст в_браке   город\n",
       "ID                                 \n",
       "123123   М       23     нет  101000\n",
       "393812   Ж       24      да  101000\n",
       "891828   Ж       52      да  620000\n",
       "128932   М       34      да  630000\n",
       "928345   М       46     NaN  385000\n",
       "123112   М       19     нет  420000\n",
       "478193   Ж       31      да  460000\n",
       "891828   Ж       22      да  690001"
      ]
     },
     "execution_count": 57,
     "metadata": {},
     "output_type": "execute_result"
    }
   ],
   "source": [
    "df"
   ]
  },
  {
   "cell_type": "markdown",
   "id": "6828049a-cfdc-4a40-968d-2941fd6c049d",
   "metadata": {
    "id": "6828049a-cfdc-4a40-968d-2941fd6c049d"
   },
   "source": [
    "### Объединение данных"
   ]
  },
  {
   "cell_type": "code",
   "execution_count": null,
   "id": "8d6495e1-1983-4d73-b287-97bd802088cc",
   "metadata": {
    "id": "8d6495e1-1983-4d73-b287-97bd802088cc"
   },
   "outputs": [],
   "source": [
    "cities = pd.read_csv('../datasets/city.csv')"
   ]
  },
  {
   "cell_type": "code",
   "execution_count": null,
   "id": "080022e8-4103-47de-ac3f-f629048993fe",
   "metadata": {
    "id": "080022e8-4103-47de-ac3f-f629048993fe",
    "outputId": "3e560929-c40e-44a0-bb3f-8843e55a8d94"
   },
   "outputs": [
    {
     "data": {
      "text/html": [
       "<div>\n",
       "<style scoped>\n",
       "    .dataframe tbody tr th:only-of-type {\n",
       "        vertical-align: middle;\n",
       "    }\n",
       "\n",
       "    .dataframe tbody tr th {\n",
       "        vertical-align: top;\n",
       "    }\n",
       "\n",
       "    .dataframe thead th {\n",
       "        text-align: right;\n",
       "    }\n",
       "</style>\n",
       "<table border=\"1\" class=\"dataframe\">\n",
       "  <thead>\n",
       "    <tr style=\"text-align: right;\">\n",
       "      <th></th>\n",
       "      <th>пол</th>\n",
       "      <th>возраст</th>\n",
       "      <th>в_браке</th>\n",
       "      <th>город</th>\n",
       "    </tr>\n",
       "    <tr>\n",
       "      <th>ID</th>\n",
       "      <th></th>\n",
       "      <th></th>\n",
       "      <th></th>\n",
       "      <th></th>\n",
       "    </tr>\n",
       "  </thead>\n",
       "  <tbody>\n",
       "    <tr>\n",
       "      <th>123123</th>\n",
       "      <td>М</td>\n",
       "      <td>23</td>\n",
       "      <td>нет</td>\n",
       "      <td>101000</td>\n",
       "    </tr>\n",
       "    <tr>\n",
       "      <th>393812</th>\n",
       "      <td>Ж</td>\n",
       "      <td>24</td>\n",
       "      <td>да</td>\n",
       "      <td>101000</td>\n",
       "    </tr>\n",
       "    <tr>\n",
       "      <th>891828</th>\n",
       "      <td>Ж</td>\n",
       "      <td>52</td>\n",
       "      <td>да</td>\n",
       "      <td>620000</td>\n",
       "    </tr>\n",
       "    <tr>\n",
       "      <th>128932</th>\n",
       "      <td>М</td>\n",
       "      <td>34</td>\n",
       "      <td>да</td>\n",
       "      <td>630000</td>\n",
       "    </tr>\n",
       "    <tr>\n",
       "      <th>928345</th>\n",
       "      <td>М</td>\n",
       "      <td>46</td>\n",
       "      <td>NaN</td>\n",
       "      <td>385000</td>\n",
       "    </tr>\n",
       "    <tr>\n",
       "      <th>123112</th>\n",
       "      <td>М</td>\n",
       "      <td>19</td>\n",
       "      <td>нет</td>\n",
       "      <td>420000</td>\n",
       "    </tr>\n",
       "    <tr>\n",
       "      <th>478193</th>\n",
       "      <td>Ж</td>\n",
       "      <td>31</td>\n",
       "      <td>да</td>\n",
       "      <td>460000</td>\n",
       "    </tr>\n",
       "    <tr>\n",
       "      <th>891828</th>\n",
       "      <td>Ж</td>\n",
       "      <td>22</td>\n",
       "      <td>да</td>\n",
       "      <td>690001</td>\n",
       "    </tr>\n",
       "  </tbody>\n",
       "</table>\n",
       "</div>"
      ],
      "text/plain": [
       "       пол  возраст в_браке   город\n",
       "ID                                 \n",
       "123123   М       23     нет  101000\n",
       "393812   Ж       24      да  101000\n",
       "891828   Ж       52      да  620000\n",
       "128932   М       34      да  630000\n",
       "928345   М       46     NaN  385000\n",
       "123112   М       19     нет  420000\n",
       "478193   Ж       31      да  460000\n",
       "891828   Ж       22      да  690001"
      ]
     },
     "execution_count": 59,
     "metadata": {},
     "output_type": "execute_result"
    }
   ],
   "source": [
    "df"
   ]
  },
  {
   "cell_type": "code",
   "execution_count": null,
   "id": "517ff858-6efe-42bd-bc41-502577d4961a",
   "metadata": {
    "id": "517ff858-6efe-42bd-bc41-502577d4961a",
    "outputId": "36babcb9-e7d7-477b-ab16-2c77d3a75e8f"
   },
   "outputs": [
    {
     "data": {
      "text/html": [
       "<div>\n",
       "<style scoped>\n",
       "    .dataframe tbody tr th:only-of-type {\n",
       "        vertical-align: middle;\n",
       "    }\n",
       "\n",
       "    .dataframe tbody tr th {\n",
       "        vertical-align: top;\n",
       "    }\n",
       "\n",
       "    .dataframe thead th {\n",
       "        text-align: right;\n",
       "    }\n",
       "</style>\n",
       "<table border=\"1\" class=\"dataframe\">\n",
       "  <thead>\n",
       "    <tr style=\"text-align: right;\">\n",
       "      <th></th>\n",
       "      <th>Индекс</th>\n",
       "      <th>Регион</th>\n",
       "      <th>Город</th>\n",
       "      <th>Широта</th>\n",
       "      <th>Долгота</th>\n",
       "      <th>Население</th>\n",
       "    </tr>\n",
       "  </thead>\n",
       "  <tbody>\n",
       "    <tr>\n",
       "      <th>0</th>\n",
       "      <td>385200.0</td>\n",
       "      <td>Адыгея</td>\n",
       "      <td>Адыгейск</td>\n",
       "      <td>44.878372</td>\n",
       "      <td>39.190172</td>\n",
       "      <td>12689</td>\n",
       "    </tr>\n",
       "    <tr>\n",
       "      <th>1</th>\n",
       "      <td>385000.0</td>\n",
       "      <td>Адыгея</td>\n",
       "      <td>Майкоп</td>\n",
       "      <td>44.609827</td>\n",
       "      <td>40.100653</td>\n",
       "      <td>144055</td>\n",
       "    </tr>\n",
       "    <tr>\n",
       "      <th>2</th>\n",
       "      <td>649000.0</td>\n",
       "      <td>Алтай</td>\n",
       "      <td>Горно-Алтайск</td>\n",
       "      <td>51.958268</td>\n",
       "      <td>85.960296</td>\n",
       "      <td>62861</td>\n",
       "    </tr>\n",
       "    <tr>\n",
       "      <th>3</th>\n",
       "      <td>658125.0</td>\n",
       "      <td>Алтайский</td>\n",
       "      <td>Алейск</td>\n",
       "      <td>52.492091</td>\n",
       "      <td>82.779415</td>\n",
       "      <td>28528</td>\n",
       "    </tr>\n",
       "    <tr>\n",
       "      <th>4</th>\n",
       "      <td>656000.0</td>\n",
       "      <td>Алтайский</td>\n",
       "      <td>Барнаул</td>\n",
       "      <td>53.348115</td>\n",
       "      <td>83.779836</td>\n",
       "      <td>635585</td>\n",
       "    </tr>\n",
       "    <tr>\n",
       "      <th>...</th>\n",
       "      <td>...</td>\n",
       "      <td>...</td>\n",
       "      <td>...</td>\n",
       "      <td>...</td>\n",
       "      <td>...</td>\n",
       "      <td>...</td>\n",
       "    </tr>\n",
       "    <tr>\n",
       "      <th>1106</th>\n",
       "      <td>152150.0</td>\n",
       "      <td>Ярославская</td>\n",
       "      <td>Ростов</td>\n",
       "      <td>57.205018</td>\n",
       "      <td>39.437836</td>\n",
       "      <td>31791</td>\n",
       "    </tr>\n",
       "    <tr>\n",
       "      <th>1107</th>\n",
       "      <td>152900.0</td>\n",
       "      <td>Ярославская</td>\n",
       "      <td>Рыбинск</td>\n",
       "      <td>58.048380</td>\n",
       "      <td>38.858338</td>\n",
       "      <td>200771</td>\n",
       "    </tr>\n",
       "    <tr>\n",
       "      <th>1108</th>\n",
       "      <td>152300.0</td>\n",
       "      <td>Ярославская</td>\n",
       "      <td>Тутаев</td>\n",
       "      <td>57.867424</td>\n",
       "      <td>39.536823</td>\n",
       "      <td>41001</td>\n",
       "    </tr>\n",
       "    <tr>\n",
       "      <th>1109</th>\n",
       "      <td>152610.0</td>\n",
       "      <td>Ярославская</td>\n",
       "      <td>Углич</td>\n",
       "      <td>57.522387</td>\n",
       "      <td>38.301979</td>\n",
       "      <td>34505</td>\n",
       "    </tr>\n",
       "    <tr>\n",
       "      <th>1110</th>\n",
       "      <td>150000.0</td>\n",
       "      <td>Ярославская</td>\n",
       "      <td>Ярославль</td>\n",
       "      <td>57.621614</td>\n",
       "      <td>39.897878</td>\n",
       "      <td>591486</td>\n",
       "    </tr>\n",
       "  </tbody>\n",
       "</table>\n",
       "<p>1111 rows × 6 columns</p>\n",
       "</div>"
      ],
      "text/plain": [
       "        Индекс       Регион          Город     Широта    Долгота  Население\n",
       "0     385200.0       Адыгея       Адыгейск  44.878372  39.190172      12689\n",
       "1     385000.0       Адыгея         Майкоп  44.609827  40.100653     144055\n",
       "2     649000.0        Алтай  Горно-Алтайск  51.958268  85.960296      62861\n",
       "3     658125.0    Алтайский         Алейск  52.492091  82.779415      28528\n",
       "4     656000.0    Алтайский        Барнаул  53.348115  83.779836     635585\n",
       "...        ...          ...            ...        ...        ...        ...\n",
       "1106  152150.0  Ярославская         Ростов  57.205018  39.437836      31791\n",
       "1107  152900.0  Ярославская        Рыбинск  58.048380  38.858338     200771\n",
       "1108  152300.0  Ярославская         Тутаев  57.867424  39.536823      41001\n",
       "1109  152610.0  Ярославская          Углич  57.522387  38.301979      34505\n",
       "1110  150000.0  Ярославская      Ярославль  57.621614  39.897878     591486\n",
       "\n",
       "[1111 rows x 6 columns]"
      ]
     },
     "execution_count": 60,
     "metadata": {},
     "output_type": "execute_result"
    }
   ],
   "source": [
    "cities"
   ]
  },
  {
   "cell_type": "code",
   "execution_count": null,
   "id": "5085f95c-0a12-48ec-963a-227b28369079",
   "metadata": {
    "id": "5085f95c-0a12-48ec-963a-227b28369079"
   },
   "outputs": [],
   "source": [
    "df_with_city = df.merge(\n",
    "    cities,\n",
    "    how='left',\n",
    "    left_on='город', right_on='Индекс',\n",
    "    indicator=True,\n",
    ")"
   ]
  },
  {
   "cell_type": "code",
   "execution_count": null,
   "id": "0c97247a-f842-473d-b10e-39a1fc9739a1",
   "metadata": {
    "id": "0c97247a-f842-473d-b10e-39a1fc9739a1",
    "outputId": "d562c4a6-61a1-4d80-8d39-a680f7dc960c"
   },
   "outputs": [
    {
     "data": {
      "text/html": [
       "<div>\n",
       "<style scoped>\n",
       "    .dataframe tbody tr th:only-of-type {\n",
       "        vertical-align: middle;\n",
       "    }\n",
       "\n",
       "    .dataframe tbody tr th {\n",
       "        vertical-align: top;\n",
       "    }\n",
       "\n",
       "    .dataframe thead th {\n",
       "        text-align: right;\n",
       "    }\n",
       "</style>\n",
       "<table border=\"1\" class=\"dataframe\">\n",
       "  <thead>\n",
       "    <tr style=\"text-align: right;\">\n",
       "      <th></th>\n",
       "      <th>пол</th>\n",
       "      <th>возраст</th>\n",
       "      <th>в_браке</th>\n",
       "      <th>город</th>\n",
       "      <th>Индекс</th>\n",
       "      <th>Регион</th>\n",
       "      <th>Город</th>\n",
       "      <th>Широта</th>\n",
       "      <th>Долгота</th>\n",
       "      <th>Население</th>\n",
       "      <th>_merge</th>\n",
       "    </tr>\n",
       "  </thead>\n",
       "  <tbody>\n",
       "    <tr>\n",
       "      <th>0</th>\n",
       "      <td>М</td>\n",
       "      <td>23</td>\n",
       "      <td>нет</td>\n",
       "      <td>101000</td>\n",
       "      <td>101000.0</td>\n",
       "      <td>Москва</td>\n",
       "      <td>NaN</td>\n",
       "      <td>55.753879</td>\n",
       "      <td>37.620373</td>\n",
       "      <td>11514330.0</td>\n",
       "      <td>both</td>\n",
       "    </tr>\n",
       "    <tr>\n",
       "      <th>1</th>\n",
       "      <td>Ж</td>\n",
       "      <td>24</td>\n",
       "      <td>да</td>\n",
       "      <td>101000</td>\n",
       "      <td>101000.0</td>\n",
       "      <td>Москва</td>\n",
       "      <td>NaN</td>\n",
       "      <td>55.753879</td>\n",
       "      <td>37.620373</td>\n",
       "      <td>11514330.0</td>\n",
       "      <td>both</td>\n",
       "    </tr>\n",
       "    <tr>\n",
       "      <th>2</th>\n",
       "      <td>Ж</td>\n",
       "      <td>52</td>\n",
       "      <td>да</td>\n",
       "      <td>620000</td>\n",
       "      <td>620000.0</td>\n",
       "      <td>Свердловская</td>\n",
       "      <td>Екатеринбург</td>\n",
       "      <td>56.838633</td>\n",
       "      <td>60.605489</td>\n",
       "      <td>1377738.0</td>\n",
       "      <td>both</td>\n",
       "    </tr>\n",
       "    <tr>\n",
       "      <th>3</th>\n",
       "      <td>М</td>\n",
       "      <td>34</td>\n",
       "      <td>да</td>\n",
       "      <td>630000</td>\n",
       "      <td>630000.0</td>\n",
       "      <td>Новосибирская</td>\n",
       "      <td>Новосибирск</td>\n",
       "      <td>55.028102</td>\n",
       "      <td>82.921058</td>\n",
       "      <td>1498921.0</td>\n",
       "      <td>both</td>\n",
       "    </tr>\n",
       "    <tr>\n",
       "      <th>4</th>\n",
       "      <td>М</td>\n",
       "      <td>46</td>\n",
       "      <td>NaN</td>\n",
       "      <td>385000</td>\n",
       "      <td>385000.0</td>\n",
       "      <td>Адыгея</td>\n",
       "      <td>Майкоп</td>\n",
       "      <td>44.609827</td>\n",
       "      <td>40.100653</td>\n",
       "      <td>144055.0</td>\n",
       "      <td>both</td>\n",
       "    </tr>\n",
       "    <tr>\n",
       "      <th>5</th>\n",
       "      <td>М</td>\n",
       "      <td>19</td>\n",
       "      <td>нет</td>\n",
       "      <td>420000</td>\n",
       "      <td>420000.0</td>\n",
       "      <td>Татарстан</td>\n",
       "      <td>Казань</td>\n",
       "      <td>55.794388</td>\n",
       "      <td>49.111531</td>\n",
       "      <td>1216965.0</td>\n",
       "      <td>both</td>\n",
       "    </tr>\n",
       "    <tr>\n",
       "      <th>6</th>\n",
       "      <td>Ж</td>\n",
       "      <td>31</td>\n",
       "      <td>да</td>\n",
       "      <td>460000</td>\n",
       "      <td>460000.0</td>\n",
       "      <td>Оренбургская</td>\n",
       "      <td>Оренбург</td>\n",
       "      <td>51.787519</td>\n",
       "      <td>55.101738</td>\n",
       "      <td>570329.0</td>\n",
       "      <td>both</td>\n",
       "    </tr>\n",
       "    <tr>\n",
       "      <th>7</th>\n",
       "      <td>Ж</td>\n",
       "      <td>22</td>\n",
       "      <td>да</td>\n",
       "      <td>690001</td>\n",
       "      <td>NaN</td>\n",
       "      <td>NaN</td>\n",
       "      <td>NaN</td>\n",
       "      <td>NaN</td>\n",
       "      <td>NaN</td>\n",
       "      <td>NaN</td>\n",
       "      <td>left_only</td>\n",
       "    </tr>\n",
       "  </tbody>\n",
       "</table>\n",
       "</div>"
      ],
      "text/plain": [
       "  пол  возраст в_браке   город    Индекс         Регион         Город  \\\n",
       "0   М       23     нет  101000  101000.0         Москва           NaN   \n",
       "1   Ж       24      да  101000  101000.0         Москва           NaN   \n",
       "2   Ж       52      да  620000  620000.0   Свердловская  Екатеринбург   \n",
       "3   М       34      да  630000  630000.0  Новосибирская   Новосибирск   \n",
       "4   М       46     NaN  385000  385000.0         Адыгея        Майкоп   \n",
       "5   М       19     нет  420000  420000.0      Татарстан        Казань   \n",
       "6   Ж       31      да  460000  460000.0   Оренбургская      Оренбург   \n",
       "7   Ж       22      да  690001       NaN            NaN           NaN   \n",
       "\n",
       "      Широта    Долгота   Население     _merge  \n",
       "0  55.753879  37.620373  11514330.0       both  \n",
       "1  55.753879  37.620373  11514330.0       both  \n",
       "2  56.838633  60.605489   1377738.0       both  \n",
       "3  55.028102  82.921058   1498921.0       both  \n",
       "4  44.609827  40.100653    144055.0       both  \n",
       "5  55.794388  49.111531   1216965.0       both  \n",
       "6  51.787519  55.101738    570329.0       both  \n",
       "7        NaN        NaN         NaN  left_only  "
      ]
     },
     "execution_count": 62,
     "metadata": {},
     "output_type": "execute_result"
    }
   ],
   "source": [
    "df_with_city"
   ]
  }
 ],
 "metadata": {
  "colab": {
   "provenance": []
  },
  "kernelspec": {
   "display_name": "Python 3 (ipykernel)",
   "language": "python",
   "name": "python3"
  },
  "language_info": {
   "codemirror_mode": {
    "name": "ipython",
    "version": 3
   },
   "file_extension": ".py",
   "mimetype": "text/x-python",
   "name": "python",
   "nbconvert_exporter": "python",
   "pygments_lexer": "ipython3",
   "version": "3.9.6"
  },
  "widgets": {
   "application/vnd.jupyter.widget-state+json": {
    "state": {},
    "version_major": 2,
    "version_minor": 0
   }
  }
 },
 "nbformat": 4,
 "nbformat_minor": 5
}
